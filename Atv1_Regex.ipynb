{
  "nbformat": 4,
  "nbformat_minor": 0,
  "metadata": {
    "colab": {
      "provenance": [],
      "mount_file_id": "1h0g9ETAh7rUVRm_drXlWGdjTfDM11Yyp",
      "authorship_tag": "ABX9TyOVkns1WmbY37nG8HGt12o2",
      "include_colab_link": true
    },
    "kernelspec": {
      "name": "python3",
      "display_name": "Python 3"
    },
    "language_info": {
      "name": "python"
    }
  },
  "cells": [
    {
      "cell_type": "markdown",
      "metadata": {
        "id": "view-in-github",
        "colab_type": "text"
      },
      "source": [
        "<a href=\"https://colab.research.google.com/github/lailamt/mate34/blob/main/Atv1_Regex.ipynb\" target=\"_parent\"><img src=\"https://colab.research.google.com/assets/colab-badge.svg\" alt=\"Open In Colab\"/></a>"
      ]
    },
    {
      "cell_type": "markdown",
      "source": [
        "#Expressões regulares (regex)\n",
        "\n",
        "[Regex101](https://regex101.com)\n",
        "\n",
        "[Rubular](https://rubular.com)\n",
        "\n",
        "[Artigo resumido sobre regex](https://dojo.bylearn.com.br/python/tudo-sobre-expressoes-regulares/)"
      ],
      "metadata": {
        "id": "SvV6Lmeu8Uy2"
      }
    },
    {
      "cell_type": "markdown",
      "source": [
        "##Ferramentas"
      ],
      "metadata": {
        "id": "XLEIIPurUzCw"
      }
    },
    {
      "cell_type": "code",
      "source": [
        "!pip install nltk\n",
        "!pip install beautifulsoup4\n",
        "!pip install lxml"
      ],
      "metadata": {
        "colab": {
          "base_uri": "https://localhost:8080/"
        },
        "id": "Mxt8b17X-u6I",
        "outputId": "024a7e0a-846f-4b6c-871e-aa787dbd54d1"
      },
      "execution_count": null,
      "outputs": [
        {
          "output_type": "stream",
          "name": "stdout",
          "text": [
            "Looking in indexes: https://pypi.org/simple, https://us-python.pkg.dev/colab-wheels/public/simple/\n",
            "Requirement already satisfied: nltk in /usr/local/lib/python3.7/dist-packages (3.7)\n",
            "Requirement already satisfied: joblib in /usr/local/lib/python3.7/dist-packages (from nltk) (1.1.0)\n",
            "Requirement already satisfied: click in /usr/local/lib/python3.7/dist-packages (from nltk) (7.1.2)\n",
            "Requirement already satisfied: tqdm in /usr/local/lib/python3.7/dist-packages (from nltk) (4.64.0)\n",
            "Requirement already satisfied: regex>=2021.8.3 in /usr/local/lib/python3.7/dist-packages (from nltk) (2022.6.2)\n",
            "Looking in indexes: https://pypi.org/simple, https://us-python.pkg.dev/colab-wheels/public/simple/\n",
            "Requirement already satisfied: beautifulsoup4 in /usr/local/lib/python3.7/dist-packages (4.6.3)\n",
            "Looking in indexes: https://pypi.org/simple, https://us-python.pkg.dev/colab-wheels/public/simple/\n",
            "Requirement already satisfied: lxml in /usr/local/lib/python3.7/dist-packages (4.9.1)\n"
          ]
        }
      ]
    },
    {
      "cell_type": "code",
      "source": [
        "import requests\n",
        "from bs4 import BeautifulSoup\n",
        "\n",
        "import re\n",
        "\n",
        "import pandas as pd"
      ],
      "metadata": {
        "id": "luK3CLGNLKYu"
      },
      "execution_count": null,
      "outputs": []
    },
    {
      "cell_type": "markdown",
      "source": [
        "##Importando corpus\n",
        "\n",
        "O CETENFolha (**C**orpus de **E**xtractos de **T**extos **E**lectrónicos **N**ILC/**Folha** de S. Paulo) é um corpus de cerca de 24 milhões de palavras em português brasileiro, criado pelo projecto Processamento computacional do português (projecto que deu origem à Linguateca) com base nos textos do jornal Folha de S. Paulo que fazem parte do corpus NILC/São Carlos, compilado pelo Núcleo Interinstitucional de Lingüística Computacional (NILC)."
      ],
      "metadata": {
        "id": "sGL5m2YG8vuH"
      }
    },
    {
      "cell_type": "markdown",
      "source": [
        "###Lendo arquivo"
      ],
      "metadata": {
        "id": "uqDQdwvhdaoy"
      }
    },
    {
      "cell_type": "code",
      "source": [
        "filename = \"/content/drive/MyDrive/Mestrado - UFBA/MATE34 - PLN/corpus/CETENFolha.txt\""
      ],
      "metadata": {
        "id": "aFN6xcQ7h0Dj"
      },
      "execution_count": null,
      "outputs": []
    },
    {
      "cell_type": "code",
      "source": [
        "#document = open(filename, \"r\", encoding = 'utf-8')\n",
        "with open(filename, encoding = 'utf-8') as document:\n",
        "    for i in range(10):\n",
        "        line = next(document).strip()\n",
        "        print(line)"
      ],
      "metadata": {
        "colab": {
          "base_uri": "https://localhost:8080/"
        },
        "id": "CDHYMoXic1cT",
        "outputId": "c1b75101-e4b2-44ec-94e7-1a2a025ec6e1"
      },
      "execution_count": null,
      "outputs": [
        {
          "output_type": "stream",
          "name": "stdout",
          "text": [
            "<ext id=1 cad=\"Opinião\" sec=\"opi\" sem=\"94a\">\n",
            "<s> <t> PT no governo </t> </s>\n",
            "<s> <a> Gilberto Dimenstein </a> </s>\n",
            "<p>\n",
            "<s> BRASÍLIA Pesquisa Datafolha publicada hoje revela um dado supreendente: recusando uma postura radical, a esmagadora maioria (77%) dos eleitores quer o PT participando do Governo Fernando Henrique Cardoso . </s>\n",
            "<s> Tem sentido -- aliás, muitíssimo sentido . </s>\n",
            "</p>\n",
            "<p>\n",
            "<s> Muito mais do que nos tempos na ditadura, a solidez do PT está, agora, ameaçada . </s>\n",
            "<s> Nem Lula nem o partido ainda encontraram um discurso para se diferenciar . </s>\n"
          ]
        }
      ]
    },
    {
      "cell_type": "markdown",
      "source": [
        "##Funções auxiliares"
      ],
      "metadata": {
        "id": "3MYm02rdU7Zi"
      }
    },
    {
      "cell_type": "code",
      "source": [
        "def find_term(pattern, sentence):\n",
        "    return(re.search(pattern, sentence))\n",
        "        #print(f'{m}')"
      ],
      "metadata": {
        "id": "A6ESjJdFkojj"
      },
      "execution_count": null,
      "outputs": []
    },
    {
      "cell_type": "code",
      "source": [
        "def print_sentences(pattern):\n",
        "    for sentence in soup.stripped_strings:\n",
        "        term = find_term(pattern, sentence)\n",
        "        if term:\n",
        "            add_df(term, sentence)\n",
        "            #sentence.group()\n",
        "            #print(term)"
      ],
      "metadata": {
        "id": "mc_Bye9IqzZU"
      },
      "execution_count": null,
      "outputs": []
    },
    {
      "cell_type": "code",
      "source": [
        "def add_df(term, sentence):\n",
        "    global df\n",
        "    df = df.append({'Termo' : term.group(), 'Frase' : sentence},\n",
        "        ignore_index = True)\n",
        " \n"
      ],
      "metadata": {
        "id": "4_B09zwECc9o"
      },
      "execution_count": null,
      "outputs": []
    },
    {
      "cell_type": "code",
      "source": [
        "def multi_re_find(patterns, phrase):\n",
        "    '''\n",
        "    Pega uma lista de padrões regex\n",
        "    Imprime a lista de todos os matches\n",
        "    '''\n",
        "    #print(patterns)\n",
        "    for pattern in patterns:\n",
        "        #print(pattern)\n",
        "        return(re.findall(pattern, phrase))"
      ],
      "metadata": {
        "id": "cZuUdNItlyEk"
      },
      "execution_count": null,
      "outputs": []
    },
    {
      "cell_type": "markdown",
      "source": [
        "##Exemplos no ALiB"
      ],
      "metadata": {
        "id": "LSmu1qTVU_qJ"
      }
    },
    {
      "cell_type": "code",
      "source": [
        "df = pd.DataFrame(columns = ['Termo', 'Frase'])"
      ],
      "metadata": {
        "id": "9QzOL5EjCtw-"
      },
      "execution_count": null,
      "outputs": []
    },
    {
      "cell_type": "markdown",
      "source": [
        "###Cartas separadas"
      ],
      "metadata": {
        "id": "A5G7LIUM3FDT"
      }
    },
    {
      "cell_type": "markdown",
      "source": [
        "####Carta *granizo*\n",
        "\n",
        "GRANIZO: chuva de granizo\tchuva de gelo\tchuva de pedra\tchuva de neve\tchuva de granito\tchuva de pedra de gelo"
      ],
      "metadata": {
        "id": "WmGg47JhVE0S"
      }
    },
    {
      "cell_type": "code",
      "source": [
        "carta_granizo = '([cC]huva\\ de\\ (?:grani(?:to|zo)|(?:gelo|pedra(?:\\ de\\ gelo)?)|neve))'"
      ],
      "metadata": {
        "id": "8p_NTOJPFRdM"
      },
      "execution_count": null,
      "outputs": []
    },
    {
      "cell_type": "code",
      "source": [
        "#frase = 'teste com chuva de chuva de granizo sads chuva de gelo dfsf  chuva de pedra dsfds #chuva de neve dfsdfsdfafagdg # chuva de granito gabdsfghjkchuva de pedra de gelo'\n",
        "#multi_re_find(carta_granizo, frase)"
      ],
      "metadata": {
        "id": "KlvXVdzcl1lf"
      },
      "execution_count": null,
      "outputs": []
    },
    {
      "cell_type": "markdown",
      "source": [
        "####Carta *tangerina*\n",
        "\n",
        "TANGERINA: laranja-cravo"
      ],
      "metadata": {
        "id": "qLw5F2A8rojd"
      }
    },
    {
      "cell_type": "code",
      "source": [
        "carta_tangerina = '([lL]aranja[- ]?cravo)'"
      ],
      "metadata": {
        "id": "IAMRpiOwqzur"
      },
      "execution_count": null,
      "outputs": []
    },
    {
      "cell_type": "code",
      "source": [
        "#frase = 'teste com laranja chuva de chuva de granizo sads chuva de gelo dfsf laranja-cravo chuva de pedra dsfds #chuva de neve laranja cravodfsdfsdfafagdg # chuva cravo de grcravo anito gabdsfghjkchuva de pedra de gelo'\n",
        "#multi_re_find(carta_tangerina, frase)"
      ],
      "metadata": {
        "id": "fBb4GKV_rP9U"
      },
      "execution_count": null,
      "outputs": []
    },
    {
      "cell_type": "markdown",
      "source": [
        "####Carta *extremidade da inflorescência da bananeira*\n",
        "\n",
        "EXTREMIDADE DA INFLORESCÊNCIA DA BANANEIRA: flor da bananeira\tflor da banana\tbuzo da bananeira\tcoração da bananeira\tcoração do boi"
      ],
      "metadata": {
        "id": "O_eHlPWJrsBc"
      }
    },
    {
      "cell_type": "code",
      "source": [
        "carta_bananeira = '(?:([fF]lor\\ da\\ banan(?:a|eira))|(?:[cC]oração|[bB]uzo)\\ da\\ bananeira|[cC]oração\\ do\\ boi)'"
      ],
      "metadata": {
        "id": "_4h1-ZSYu_zr"
      },
      "execution_count": null,
      "outputs": []
    },
    {
      "cell_type": "markdown",
      "source": [
        "####Carta *aipim*\n",
        "\n",
        "AIPIM: mandioca brava\tmacaxeira brava"
      ],
      "metadata": {
        "id": "T6ABLbzmsHvz"
      }
    },
    {
      "cell_type": "code",
      "source": [
        "carta_aipim = '([mM](?:andioca|acaxeira)\\ brava)'"
      ],
      "metadata": {
        "id": "ImlvwGujvA6b"
      },
      "execution_count": null,
      "outputs": []
    },
    {
      "cell_type": "markdown",
      "source": [
        "####Carta *galinha d'angola*\n",
        "\n",
        "GALINHA D'ANGOLA: galinha d'angola\ttô-fraco"
      ],
      "metadata": {
        "id": "zYN3Tyz-sNVS"
      }
    },
    {
      "cell_type": "code",
      "source": [
        "carta_galinha = '(?:([gG]alinha\\ d\\'angola)|([tT]ô-fraco))'"
      ],
      "metadata": {
        "id": "Qihf9QLi1ftc"
      },
      "execution_count": null,
      "outputs": []
    },
    {
      "cell_type": "markdown",
      "source": [
        "#### Carta *libélula*\n",
        "\n",
        "LIBÉLULA: bate-bunda\tlava-bunda\tlava-cu\tzigue-zigue\tcavalo-do-cão\tmané-magro\tassa-peixe\tolho-de-peixe"
      ],
      "metadata": {
        "id": "bNwJVTirsTv9"
      }
    },
    {
      "cell_type": "code",
      "source": [
        "carta_libelula = '(?:((?:[bB]ate|[lL]ava)-bunda)|([lL]ava-cu)|([zZ]igue-zigue)|([cC]avalo-do-cão)|([mM]ané-magro)|((?:[aA]ssa|[oO]lho-de)-peixe))'"
      ],
      "metadata": {
        "id": "AVFED-aN2vwz"
      },
      "execution_count": null,
      "outputs": []
    },
    {
      "cell_type": "markdown",
      "source": [
        "####Carta *bicho da goiaba*\n",
        "\n",
        "BICHO DA GOIABA: bicho da goiaba\tbicho da fruta"
      ],
      "metadata": {
        "id": "_VrUEuQfsY5E"
      }
    },
    {
      "cell_type": "code",
      "source": [
        "carta_goiaba = '([bB]icho\\ da\\ (?:goiaba|fruta))'"
      ],
      "metadata": {
        "id": "HRG0OZIS009y"
      },
      "execution_count": null,
      "outputs": []
    },
    {
      "cell_type": "markdown",
      "source": [
        "####Carta *prostituta1 e prostituta2*\n",
        "\n",
        "PROSTITUTA1: garota de programa\n",
        "\n",
        "PROSTITUTA2: mulher da vida\tmulher de programa\tmulher piranha\tmulher de vida fácil\tmulher galinha\tmulher de rua\tmulher à toa\tmulher de aluguel\tmulher de zona"
      ],
      "metadata": {
        "id": "aD9ptzzNseFy"
      }
    },
    {
      "cell_type": "code",
      "source": [
        "carta_prostituta1 = '([gG]arota[- ]?de[- ]?programa)'\n",
        "carta_prostituta2 = '([mM]ulher\\ (?:da|de)?\\ ?(?:vida|programa|piranha|fácil|galinha|rua|aluguel|zona|à\\ toa)(?:\\ fácil)?)'"
      ],
      "metadata": {
        "id": "CW6q5joFtLcD"
      },
      "execution_count": null,
      "outputs": []
    },
    {
      "cell_type": "markdown",
      "source": [
        "####Carta *cigarro de palha*\n",
        "\n",
        "CIGARRO DE PALHA: cigarro de palha\tcigarro de fumo\tcigarro de tabaco\tcigarro de papel\tmata-rato\tcigarro de corda\tpé-de-burro\tpé-duro\tmato-rato"
      ],
      "metadata": {
        "id": "Q6-CsUTeskO6"
      }
    },
    {
      "cell_type": "code",
      "source": [
        "carta_cigarro = '(?:([cC]igarro\\ de\\ (?:palha|fumo|tabaco|corda|papel))|([pP]é[- ]?(de[-\\ ])?(?:burro|duro))|([mM]at(?:o|a)[- ]?rato))'"
      ],
      "metadata": {
        "id": "cvdLKvtH0YEz"
      },
      "execution_count": null,
      "outputs": []
    },
    {
      "cell_type": "markdown",
      "source": [
        "####Carta *cambalhota*\n",
        "\n",
        "CAMBALHOTA: bunda-canastra\tmaria-escambona"
      ],
      "metadata": {
        "id": "PKRPsRrcsoYD"
      }
    },
    {
      "cell_type": "code",
      "source": [
        "carta_cambalhota = '(?:([bB]unda[- ]?canastra)|([mM]aria[- ]?escambona))'"
      ],
      "metadata": {
        "id": "AfMaNRG9y_12"
      },
      "execution_count": null,
      "outputs": []
    },
    {
      "cell_type": "markdown",
      "source": [
        "####Carta *bolinha de gude*\n",
        "\n",
        "BOLINHA DE GUDE: bolinha de gude\tbola de vidro\tbolinha de vidro\tbola de fona"
      ],
      "metadata": {
        "id": "RPSkfytFsvdi"
      }
    },
    {
      "cell_type": "code",
      "source": [
        "carta_gude = '([bB](?:olinha|ola)\\ de\\ (?:gude|vidro|fona))'"
      ],
      "metadata": {
        "id": "sUgg5XYgx8Hn"
      },
      "execution_count": null,
      "outputs": []
    },
    {
      "cell_type": "markdown",
      "source": [
        "####Carta *cabra-cega*\n",
        "\n",
        "CABRA-CEGA: cobra-cega\tpata-cega\tpega-pega\tgata-cega"
      ],
      "metadata": {
        "id": "UT55W616s0ED"
      }
    },
    {
      "cell_type": "code",
      "source": [
        "carta_cabra_cega = '(?:((?:[cC]obra|[pP]ata|[gG]ata)[- ]?cega)|([pP]ega[- ]?pega))'"
      ],
      "metadata": {
        "id": "K7yVkKvjys7E"
      },
      "execution_count": null,
      "outputs": []
    },
    {
      "cell_type": "markdown",
      "source": [
        "####Carta *sutiã*\n",
        "\n",
        "SUTIÃ: porta-seio"
      ],
      "metadata": {
        "id": "sEjBXFW2s5kG"
      }
    },
    {
      "cell_type": "code",
      "source": [
        "carta_sutia = '([pP]orta[- ]?seio)'"
      ],
      "metadata": {
        "id": "9kGtWugbs_Gc"
      },
      "execution_count": null,
      "outputs": []
    },
    {
      "cell_type": "markdown",
      "source": [
        "###Cartas juntas"
      ],
      "metadata": {
        "id": "NG4P2spd3Hq7"
      }
    },
    {
      "cell_type": "code",
      "source": [
        "cartas = [\n",
        "    carta_granizo, \n",
        "    carta_tangerina, \n",
        "    carta_bananeira, \n",
        "    carta_aipim, \n",
        "    carta_galinha, \n",
        "    carta_libelula, \n",
        "    carta_goiaba, \n",
        "    carta_prostituta1, \n",
        "    carta_prostituta2, \n",
        "    carta_cigarro, \n",
        "    carta_cambalhota, \n",
        "    carta_gude, \n",
        "    carta_cabra_cega, \n",
        "    carta_sutia\n",
        "]"
      ],
      "metadata": {
        "id": "V2wo2vK93OAj"
      },
      "execution_count": null,
      "outputs": []
    },
    {
      "cell_type": "code",
      "source": [
        "document = open(filename, \"r\", encoding = 'utf-8')"
      ],
      "metadata": {
        "id": "EPkW2uoJ9NTU"
      },
      "execution_count": null,
      "outputs": []
    },
    {
      "cell_type": "markdown",
      "source": [
        "###Corpus CETENFolha"
      ],
      "metadata": {
        "id": "2_xvOGfD4Us6"
      }
    },
    {
      "cell_type": "code",
      "source": [
        "finded_ceten = []\n",
        "with open(filename, encoding = 'utf-8') as document:\n",
        "    for line in document:\n",
        "        if multi_re_find(cartas, line):\n",
        "            finded_ceten.append(line)"
      ],
      "metadata": {
        "id": "c__xltR54WKf"
      },
      "execution_count": null,
      "outputs": []
    },
    {
      "cell_type": "code",
      "source": [
        "for sentence in finded_ceten:\n",
        "    print(sentence)"
      ],
      "metadata": {
        "colab": {
          "base_uri": "https://localhost:8080/"
        },
        "id": "l15RMmqZ9C9a",
        "outputId": "75efe5d5-bdb5-4033-ca71-5ff256f6cf49"
      },
      "execution_count": null,
      "outputs": [
        {
          "output_type": "stream",
          "name": "stdout",
          "text": [
            "<s> Chuva de pedra anima comício do PT . </s>\n",
            "\n",
            "<s> O prefeito Antônio Palocci Filho (PT) decretou estado de calamidade pública ontem às 13h30, após sobrevoar a cidade para avaliar os prejuízos causados pela chuva de granizo . </s>\n",
            "\n",
            "<s> A chuva de granizo que atingiu São José dos Campos (97 km a nordeste de SP) anteontem deixou pelo menos 60 desabrigados no Jardim Telespark . </s>\n",
            "\n",
            "<s> Israel completou ontem sua retirada da faixa de Gaza em meio a uma chuva de pedras e insultos de jovens palestinos . </s>\n",
            "\n",
            "<s> No caso de carro atingido por uma forte chuva de granizo, o serviço é ainda mais rápido do que em funilaria convencional . </s>\n",
            "\n",
            "<s> Segundo ele, 300 pessoas tiveram prejuízos com a chuva de granizo . </s>\n",
            "\n",
            "<s> A situação mais grave foi registrada em Castro (sul do Estado), onde uma chuva de granizo matou mais de 2.000 frangos em uma avícola e provocou destelhamento na zona rural . </s>\n",
            "\n",
            "<s> A chuva de granizo entupiu a calha da loja e a água danificou paredes e tecidos . </s>\n",
            "\n",
            "<s> <caixa> Ventos de 100 km/h e chuva de granizo ferem 130 pessoas; prefeito decreta calamidade pública </caixa> </s>\n",
            "\n",
            "<s> A ventania, acompanhada de uma forte chuva de granizo, durou 30 minutos . </s>\n",
            "\n",
            "<s> A ventania, acompanhada de uma forte chuva de granizo, começou às 17h e durou 30 minutos . </s>\n",
            "\n",
            "<s> <t> Vendaval e chuva de granizo deixam 60 desabrigados no interior de SP </t> </s>\n",
            "\n",
            "<s> Uma chuva de granizo deixou pelo menos 60 desabrigados no Jardim Telespark, em São José dos Campos (97 km a nordeste de SP), anteontem . </s>\n",
            "\n",
            "<s> A zona norte da cidade foi a mais atingida pela chuva de granizo e ventos que chegaram a 50 km por hora, segundo o Inpe (Instituto Nacional de Pesquisas Espaciais) . </s>\n",
            "\n",
            "<s> Segundo o prefeito Palocci, os prejuízos causados pelo vendaval e a chuva de granizo são de US$ 6 milhões . </s>\n",
            "\n",
            "<s> Chuva de granizo e fortes ventos deixaram ruas de nove bairros da zona norte sem luz ontem, segundo a Eletropaulo . </s>\n",
            "\n",
            "<s> Nuvens de trovão muito altas normalmente formam granizo, chuva de pedras de gelo que refletem em verde a luz do sol . </s>\n",
            "\n",
            "<s> A seguir uma peste mata animais, úlceras deformam animais e homens, vem uma chuva de pedras, uma nuvem de gafanhotos e, a seguir, trevas se abatem sobre todo o Egito . </s>\n",
            "\n",
            "<s> Em outros pontos, houve chuva de granizo . </s>\n",
            "\n",
            "<s> Na Mooca, houve chuva de granizo durante 30 minutos, sem causar estragos graves . </s>\n",
            "\n",
            "<s> Na Mooca, houve chuva de granizo durante 30 minutos, que não causou estragos graves . </s>\n",
            "\n",
            "<s> Ele disse que ficou impressionado com os danos causados pelo vendaval e pela chuva de granizo . </s>\n",
            "\n",
            "<s> Sob uma chuva de pedras atiradas por palestinos, a polícia de Israel começou ontem a deixar Jericó . </s>\n",
            "\n",
            "<s> A zona norte da cidade foi a mais atingida pela chuva de granizo e ventos que chegaram a 50 km por hora, segundo o Inpe (Instituto Nacional de Pesquisas Espaciais) . </s>\n",
            "\n",
            "<s> Enquanto uma chuva de pedras caía sobre seu carro, Amy rastejou para fora, e com sangue no rosto, sorriu e se identificou como amiga . </s>\n",
            "\n",
            "<s> TEMPESTADE -- A Prefeitura de Castro (PR) estimou em US$ 100 mil os prejuízos causados por uma chuva de granizo e ventos que atingiram anteontem a cidade . </s>\n",
            "\n"
          ]
        }
      ]
    },
    {
      "cell_type": "markdown",
      "source": [
        "##Testes com outros corpus"
      ],
      "metadata": {
        "id": "c5jH993GujlB"
      }
    },
    {
      "cell_type": "markdown",
      "source": [
        "###Corpus C-Oral-Brasil"
      ],
      "metadata": {
        "id": "O-e143skppyo"
      }
    },
    {
      "cell_type": "code",
      "source": [
        "import glob\n",
        "corpus_coral_path = '/content/drive/MyDrive/Mestrado - UFBA/MATE34 - PLN/corpus/C-Oral-Brasil/'\n",
        "fileids = glob.glob(corpus_coral_path + '*.txt')\n",
        "print(fileids)"
      ],
      "metadata": {
        "colab": {
          "base_uri": "https://localhost:8080/"
        },
        "id": "6Coi-Qu0prkw",
        "outputId": "f6a15e24-28a4-4e74-c031-0ed3caff0bbb"
      },
      "execution_count": null,
      "outputs": [
        {
          "output_type": "stream",
          "name": "stdout",
          "text": [
            "['/content/drive/MyDrive/Mestrado - UFBA/MATE34 - PLN/corpus/C-Oral-Brasil/bfamcv01.txt', '/content/drive/MyDrive/Mestrado - UFBA/MATE34 - PLN/corpus/C-Oral-Brasil/bfamcv02.txt', '/content/drive/MyDrive/Mestrado - UFBA/MATE34 - PLN/corpus/C-Oral-Brasil/bfamcv03.txt', '/content/drive/MyDrive/Mestrado - UFBA/MATE34 - PLN/corpus/C-Oral-Brasil/bfamcv04.txt', '/content/drive/MyDrive/Mestrado - UFBA/MATE34 - PLN/corpus/C-Oral-Brasil/bfamcv06.txt', '/content/drive/MyDrive/Mestrado - UFBA/MATE34 - PLN/corpus/C-Oral-Brasil/bfamcv07.txt', '/content/drive/MyDrive/Mestrado - UFBA/MATE34 - PLN/corpus/C-Oral-Brasil/bfamcv05.txt', '/content/drive/MyDrive/Mestrado - UFBA/MATE34 - PLN/corpus/C-Oral-Brasil/bfamcv10.txt', '/content/drive/MyDrive/Mestrado - UFBA/MATE34 - PLN/corpus/C-Oral-Brasil/bfamcv08.txt', '/content/drive/MyDrive/Mestrado - UFBA/MATE34 - PLN/corpus/C-Oral-Brasil/bfamcv09.txt', '/content/drive/MyDrive/Mestrado - UFBA/MATE34 - PLN/corpus/C-Oral-Brasil/bfamcv11.txt', '/content/drive/MyDrive/Mestrado - UFBA/MATE34 - PLN/corpus/C-Oral-Brasil/bfamcv13.txt', '/content/drive/MyDrive/Mestrado - UFBA/MATE34 - PLN/corpus/C-Oral-Brasil/bfamcv12.txt', '/content/drive/MyDrive/Mestrado - UFBA/MATE34 - PLN/corpus/C-Oral-Brasil/bfamcv16.txt', '/content/drive/MyDrive/Mestrado - UFBA/MATE34 - PLN/corpus/C-Oral-Brasil/bfamcv14.txt', '/content/drive/MyDrive/Mestrado - UFBA/MATE34 - PLN/corpus/C-Oral-Brasil/bfamcv15.txt', '/content/drive/MyDrive/Mestrado - UFBA/MATE34 - PLN/corpus/C-Oral-Brasil/bfamcv19.txt', '/content/drive/MyDrive/Mestrado - UFBA/MATE34 - PLN/corpus/C-Oral-Brasil/bfamcv17.txt', '/content/drive/MyDrive/Mestrado - UFBA/MATE34 - PLN/corpus/C-Oral-Brasil/bfamcv20.txt', '/content/drive/MyDrive/Mestrado - UFBA/MATE34 - PLN/corpus/C-Oral-Brasil/bfamcv21.txt', '/content/drive/MyDrive/Mestrado - UFBA/MATE34 - PLN/corpus/C-Oral-Brasil/bfamcv18.txt', '/content/drive/MyDrive/Mestrado - UFBA/MATE34 - PLN/corpus/C-Oral-Brasil/bfamcv22.txt', '/content/drive/MyDrive/Mestrado - UFBA/MATE34 - PLN/corpus/C-Oral-Brasil/bfamcv27.txt', '/content/drive/MyDrive/Mestrado - UFBA/MATE34 - PLN/corpus/C-Oral-Brasil/bfamcv23.txt', '/content/drive/MyDrive/Mestrado - UFBA/MATE34 - PLN/corpus/C-Oral-Brasil/bfamcv24.txt', '/content/drive/MyDrive/Mestrado - UFBA/MATE34 - PLN/corpus/C-Oral-Brasil/bfamcv26.txt', '/content/drive/MyDrive/Mestrado - UFBA/MATE34 - PLN/corpus/C-Oral-Brasil/bfamcv28.txt', '/content/drive/MyDrive/Mestrado - UFBA/MATE34 - PLN/corpus/C-Oral-Brasil/bfamcv31.txt', '/content/drive/MyDrive/Mestrado - UFBA/MATE34 - PLN/corpus/C-Oral-Brasil/bfamcv33.txt', '/content/drive/MyDrive/Mestrado - UFBA/MATE34 - PLN/corpus/C-Oral-Brasil/bfamcv25.txt', '/content/drive/MyDrive/Mestrado - UFBA/MATE34 - PLN/corpus/C-Oral-Brasil/bfamdl02.txt', '/content/drive/MyDrive/Mestrado - UFBA/MATE34 - PLN/corpus/C-Oral-Brasil/bfamcv32.txt', '/content/drive/MyDrive/Mestrado - UFBA/MATE34 - PLN/corpus/C-Oral-Brasil/bfamcv34.txt', '/content/drive/MyDrive/Mestrado - UFBA/MATE34 - PLN/corpus/C-Oral-Brasil/bfamdl01.txt', '/content/drive/MyDrive/Mestrado - UFBA/MATE34 - PLN/corpus/C-Oral-Brasil/bfamcv29.txt', '/content/drive/MyDrive/Mestrado - UFBA/MATE34 - PLN/corpus/C-Oral-Brasil/bfamdl03.txt', '/content/drive/MyDrive/Mestrado - UFBA/MATE34 - PLN/corpus/C-Oral-Brasil/bfamdl04.txt', '/content/drive/MyDrive/Mestrado - UFBA/MATE34 - PLN/corpus/C-Oral-Brasil/bfamdl06.txt', '/content/drive/MyDrive/Mestrado - UFBA/MATE34 - PLN/corpus/C-Oral-Brasil/bfamdl05.txt', '/content/drive/MyDrive/Mestrado - UFBA/MATE34 - PLN/corpus/C-Oral-Brasil/bfamcv30.txt', '/content/drive/MyDrive/Mestrado - UFBA/MATE34 - PLN/corpus/C-Oral-Brasil/bfamdl07.txt', '/content/drive/MyDrive/Mestrado - UFBA/MATE34 - PLN/corpus/C-Oral-Brasil/bfamdl08.txt', '/content/drive/MyDrive/Mestrado - UFBA/MATE34 - PLN/corpus/C-Oral-Brasil/bfamdl09.txt', '/content/drive/MyDrive/Mestrado - UFBA/MATE34 - PLN/corpus/C-Oral-Brasil/bfamdl10.txt', '/content/drive/MyDrive/Mestrado - UFBA/MATE34 - PLN/corpus/C-Oral-Brasil/bfamdl11.txt', '/content/drive/MyDrive/Mestrado - UFBA/MATE34 - PLN/corpus/C-Oral-Brasil/bfamdl16.txt', '/content/drive/MyDrive/Mestrado - UFBA/MATE34 - PLN/corpus/C-Oral-Brasil/bfamdl14.txt', '/content/drive/MyDrive/Mestrado - UFBA/MATE34 - PLN/corpus/C-Oral-Brasil/bfamdl19.txt', '/content/drive/MyDrive/Mestrado - UFBA/MATE34 - PLN/corpus/C-Oral-Brasil/bfamdl20.txt', '/content/drive/MyDrive/Mestrado - UFBA/MATE34 - PLN/corpus/C-Oral-Brasil/bfamdl18.txt', '/content/drive/MyDrive/Mestrado - UFBA/MATE34 - PLN/corpus/C-Oral-Brasil/bfamdl12.txt', '/content/drive/MyDrive/Mestrado - UFBA/MATE34 - PLN/corpus/C-Oral-Brasil/bfamdl22.txt', '/content/drive/MyDrive/Mestrado - UFBA/MATE34 - PLN/corpus/C-Oral-Brasil/bfamdl23.txt', '/content/drive/MyDrive/Mestrado - UFBA/MATE34 - PLN/corpus/C-Oral-Brasil/bfamdl13.txt', '/content/drive/MyDrive/Mestrado - UFBA/MATE34 - PLN/corpus/C-Oral-Brasil/bfamdl21.txt', '/content/drive/MyDrive/Mestrado - UFBA/MATE34 - PLN/corpus/C-Oral-Brasil/bfamdl15.txt', '/content/drive/MyDrive/Mestrado - UFBA/MATE34 - PLN/corpus/C-Oral-Brasil/bfamdl17.txt', '/content/drive/MyDrive/Mestrado - UFBA/MATE34 - PLN/corpus/C-Oral-Brasil/bfamdl27.txt', '/content/drive/MyDrive/Mestrado - UFBA/MATE34 - PLN/corpus/C-Oral-Brasil/bfamdl26.txt', '/content/drive/MyDrive/Mestrado - UFBA/MATE34 - PLN/corpus/C-Oral-Brasil/bfamdl25.txt', '/content/drive/MyDrive/Mestrado - UFBA/MATE34 - PLN/corpus/C-Oral-Brasil/bfamdl30.txt', '/content/drive/MyDrive/Mestrado - UFBA/MATE34 - PLN/corpus/C-Oral-Brasil/bfamdl28.txt', '/content/drive/MyDrive/Mestrado - UFBA/MATE34 - PLN/corpus/C-Oral-Brasil/bfamdl29.txt', '/content/drive/MyDrive/Mestrado - UFBA/MATE34 - PLN/corpus/C-Oral-Brasil/bfamdl24.txt', '/content/drive/MyDrive/Mestrado - UFBA/MATE34 - PLN/corpus/C-Oral-Brasil/bfamdl32.txt', '/content/drive/MyDrive/Mestrado - UFBA/MATE34 - PLN/corpus/C-Oral-Brasil/bfammn02.txt', '/content/drive/MyDrive/Mestrado - UFBA/MATE34 - PLN/corpus/C-Oral-Brasil/bfammn04.txt', '/content/drive/MyDrive/Mestrado - UFBA/MATE34 - PLN/corpus/C-Oral-Brasil/bfamdl33.txt', '/content/drive/MyDrive/Mestrado - UFBA/MATE34 - PLN/corpus/C-Oral-Brasil/bfammn01.txt', '/content/drive/MyDrive/Mestrado - UFBA/MATE34 - PLN/corpus/C-Oral-Brasil/bfammn06.txt', '/content/drive/MyDrive/Mestrado - UFBA/MATE34 - PLN/corpus/C-Oral-Brasil/bfamdl34.txt', '/content/drive/MyDrive/Mestrado - UFBA/MATE34 - PLN/corpus/C-Oral-Brasil/bfamdl31.txt', '/content/drive/MyDrive/Mestrado - UFBA/MATE34 - PLN/corpus/C-Oral-Brasil/bfamdl35.txt', '/content/drive/MyDrive/Mestrado - UFBA/MATE34 - PLN/corpus/C-Oral-Brasil/bfammn05.txt', '/content/drive/MyDrive/Mestrado - UFBA/MATE34 - PLN/corpus/C-Oral-Brasil/bfammn10.txt', '/content/drive/MyDrive/Mestrado - UFBA/MATE34 - PLN/corpus/C-Oral-Brasil/bfammn03.txt', '/content/drive/MyDrive/Mestrado - UFBA/MATE34 - PLN/corpus/C-Oral-Brasil/bfammn12.txt', '/content/drive/MyDrive/Mestrado - UFBA/MATE34 - PLN/corpus/C-Oral-Brasil/bfammn11.txt', '/content/drive/MyDrive/Mestrado - UFBA/MATE34 - PLN/corpus/C-Oral-Brasil/bfammn13.txt', '/content/drive/MyDrive/Mestrado - UFBA/MATE34 - PLN/corpus/C-Oral-Brasil/bfammn17.txt', '/content/drive/MyDrive/Mestrado - UFBA/MATE34 - PLN/corpus/C-Oral-Brasil/bfammn14.txt', '/content/drive/MyDrive/Mestrado - UFBA/MATE34 - PLN/corpus/C-Oral-Brasil/bfammn16.txt', '/content/drive/MyDrive/Mestrado - UFBA/MATE34 - PLN/corpus/C-Oral-Brasil/bfammn15.txt', '/content/drive/MyDrive/Mestrado - UFBA/MATE34 - PLN/corpus/C-Oral-Brasil/bfammn09.txt', '/content/drive/MyDrive/Mestrado - UFBA/MATE34 - PLN/corpus/C-Oral-Brasil/bfammn21.txt', '/content/drive/MyDrive/Mestrado - UFBA/MATE34 - PLN/corpus/C-Oral-Brasil/bfammn07.txt', '/content/drive/MyDrive/Mestrado - UFBA/MATE34 - PLN/corpus/C-Oral-Brasil/bfammn08.txt', '/content/drive/MyDrive/Mestrado - UFBA/MATE34 - PLN/corpus/C-Oral-Brasil/bfammn18.txt', '/content/drive/MyDrive/Mestrado - UFBA/MATE34 - PLN/corpus/C-Oral-Brasil/bfammn27.txt', '/content/drive/MyDrive/Mestrado - UFBA/MATE34 - PLN/corpus/C-Oral-Brasil/bfammn29.txt', '/content/drive/MyDrive/Mestrado - UFBA/MATE34 - PLN/corpus/C-Oral-Brasil/bfammn33.txt', '/content/drive/MyDrive/Mestrado - UFBA/MATE34 - PLN/corpus/C-Oral-Brasil/bfammn28.txt', '/content/drive/MyDrive/Mestrado - UFBA/MATE34 - PLN/corpus/C-Oral-Brasil/bfammn32.txt', '/content/drive/MyDrive/Mestrado - UFBA/MATE34 - PLN/corpus/C-Oral-Brasil/bfammn22.txt', '/content/drive/MyDrive/Mestrado - UFBA/MATE34 - PLN/corpus/C-Oral-Brasil/bfammn25.txt', '/content/drive/MyDrive/Mestrado - UFBA/MATE34 - PLN/corpus/C-Oral-Brasil/bfammn24.txt', '/content/drive/MyDrive/Mestrado - UFBA/MATE34 - PLN/corpus/C-Oral-Brasil/bfammn30.txt', '/content/drive/MyDrive/Mestrado - UFBA/MATE34 - PLN/corpus/C-Oral-Brasil/bfammn20.txt', '/content/drive/MyDrive/Mestrado - UFBA/MATE34 - PLN/corpus/C-Oral-Brasil/bfammn31.txt', '/content/drive/MyDrive/Mestrado - UFBA/MATE34 - PLN/corpus/C-Oral-Brasil/bfammn19.txt', '/content/drive/MyDrive/Mestrado - UFBA/MATE34 - PLN/corpus/C-Oral-Brasil/bfammn26.txt', '/content/drive/MyDrive/Mestrado - UFBA/MATE34 - PLN/corpus/C-Oral-Brasil/bfammn34.txt', '/content/drive/MyDrive/Mestrado - UFBA/MATE34 - PLN/corpus/C-Oral-Brasil/bfammn23.txt', '/content/drive/MyDrive/Mestrado - UFBA/MATE34 - PLN/corpus/C-Oral-Brasil/bpubcv03.txt', '/content/drive/MyDrive/Mestrado - UFBA/MATE34 - PLN/corpus/C-Oral-Brasil/bpubcv02.txt', '/content/drive/MyDrive/Mestrado - UFBA/MATE34 - PLN/corpus/C-Oral-Brasil/bfammn35.txt', '/content/drive/MyDrive/Mestrado - UFBA/MATE34 - PLN/corpus/C-Oral-Brasil/bfammn36.txt', '/content/drive/MyDrive/Mestrado - UFBA/MATE34 - PLN/corpus/C-Oral-Brasil/bpubcv01.txt', '/content/drive/MyDrive/Mestrado - UFBA/MATE34 - PLN/corpus/C-Oral-Brasil/bpubcv04.txt', '/content/drive/MyDrive/Mestrado - UFBA/MATE34 - PLN/corpus/C-Oral-Brasil/bpubcv06.txt', '/content/drive/MyDrive/Mestrado - UFBA/MATE34 - PLN/corpus/C-Oral-Brasil/bpubcv07.txt', '/content/drive/MyDrive/Mestrado - UFBA/MATE34 - PLN/corpus/C-Oral-Brasil/bpubcv05.txt', '/content/drive/MyDrive/Mestrado - UFBA/MATE34 - PLN/corpus/C-Oral-Brasil/bpubcv08.txt', '/content/drive/MyDrive/Mestrado - UFBA/MATE34 - PLN/corpus/C-Oral-Brasil/bpubcv09.txt', '/content/drive/MyDrive/Mestrado - UFBA/MATE34 - PLN/corpus/C-Oral-Brasil/bpubdl01.txt', '/content/drive/MyDrive/Mestrado - UFBA/MATE34 - PLN/corpus/C-Oral-Brasil/bpubdl02.txt', '/content/drive/MyDrive/Mestrado - UFBA/MATE34 - PLN/corpus/C-Oral-Brasil/bpubdl04.txt', '/content/drive/MyDrive/Mestrado - UFBA/MATE34 - PLN/corpus/C-Oral-Brasil/bpubdl03.txt', '/content/drive/MyDrive/Mestrado - UFBA/MATE34 - PLN/corpus/C-Oral-Brasil/bpubdl05.txt', '/content/drive/MyDrive/Mestrado - UFBA/MATE34 - PLN/corpus/C-Oral-Brasil/bpubdl06.txt', '/content/drive/MyDrive/Mestrado - UFBA/MATE34 - PLN/corpus/C-Oral-Brasil/bpubdl07.txt', '/content/drive/MyDrive/Mestrado - UFBA/MATE34 - PLN/corpus/C-Oral-Brasil/bpubdl08.txt', '/content/drive/MyDrive/Mestrado - UFBA/MATE34 - PLN/corpus/C-Oral-Brasil/bpubdl10.txt', '/content/drive/MyDrive/Mestrado - UFBA/MATE34 - PLN/corpus/C-Oral-Brasil/bpubmn01.txt', '/content/drive/MyDrive/Mestrado - UFBA/MATE34 - PLN/corpus/C-Oral-Brasil/bpubdl09.txt', '/content/drive/MyDrive/Mestrado - UFBA/MATE34 - PLN/corpus/C-Oral-Brasil/bpubdl11.txt', '/content/drive/MyDrive/Mestrado - UFBA/MATE34 - PLN/corpus/C-Oral-Brasil/bpubmn03.txt', '/content/drive/MyDrive/Mestrado - UFBA/MATE34 - PLN/corpus/C-Oral-Brasil/bpubmn02.txt', '/content/drive/MyDrive/Mestrado - UFBA/MATE34 - PLN/corpus/C-Oral-Brasil/bpubmn04.txt', '/content/drive/MyDrive/Mestrado - UFBA/MATE34 - PLN/corpus/C-Oral-Brasil/bpubmn05.txt', '/content/drive/MyDrive/Mestrado - UFBA/MATE34 - PLN/corpus/C-Oral-Brasil/bpubmn06.txt', '/content/drive/MyDrive/Mestrado - UFBA/MATE34 - PLN/corpus/C-Oral-Brasil/bpubmn07.txt', '/content/drive/MyDrive/Mestrado - UFBA/MATE34 - PLN/corpus/C-Oral-Brasil/bpubmn09.txt', '/content/drive/MyDrive/Mestrado - UFBA/MATE34 - PLN/corpus/C-Oral-Brasil/bpubmn08.txt', '/content/drive/MyDrive/Mestrado - UFBA/MATE34 - PLN/corpus/C-Oral-Brasil/bpubmn10.txt', '/content/drive/MyDrive/Mestrado - UFBA/MATE34 - PLN/corpus/C-Oral-Brasil/bpubmn11.txt', '/content/drive/MyDrive/Mestrado - UFBA/MATE34 - PLN/corpus/C-Oral-Brasil/bpubmn12.txt', '/content/drive/MyDrive/Mestrado - UFBA/MATE34 - PLN/corpus/C-Oral-Brasil/bpubmn13.txt', '/content/drive/MyDrive/Mestrado - UFBA/MATE34 - PLN/corpus/C-Oral-Brasil/bpubmn14.txt']\n"
          ]
        }
      ]
    },
    {
      "cell_type": "code",
      "source": [
        "finded_coral = []\n",
        "for fileid in fileids:\n",
        "    with open(fileid, encoding = 'utf-8-sig') as document:\n",
        "        for line in document:\n",
        "            if multi_re_find(cartas, line):\n",
        "                finded_coral.append(line)"
      ],
      "metadata": {
        "id": "rvH8I5R8rX5a"
      },
      "execution_count": null,
      "outputs": []
    },
    {
      "cell_type": "code",
      "source": [
        "for sentence in finded_coral:\n",
        "    print(sentence)"
      ],
      "metadata": {
        "id": "cN6i-mX5tG8P"
      },
      "execution_count": null,
      "outputs": []
    },
    {
      "cell_type": "markdown",
      "source": [
        "###Corpus Laps-folha 1"
      ],
      "metadata": {
        "id": "gFI49W4vu17n"
      }
    },
    {
      "cell_type": "code",
      "source": [
        "corpus_lapsfolha = '/content/drive/MyDrive/Mestrado - UFBA/MATE34 - PLN/corpus/laps-folha-1.0.txt'"
      ],
      "metadata": {
        "id": "ghsH_85Au9A2"
      },
      "execution_count": null,
      "outputs": []
    },
    {
      "cell_type": "code",
      "source": [
        "with open(corpus_lapsfolha, encoding = 'utf-8') as document:\n",
        "        for line in document:\n",
        "            if multi_re_find(cartas, line):\n",
        "                finded_coral.append(line)"
      ],
      "metadata": {
        "id": "CHTmBBnGu56x"
      },
      "execution_count": null,
      "outputs": []
    },
    {
      "cell_type": "code",
      "source": [
        "for sentence in finded_coral:\n",
        "    print(sentence)"
      ],
      "metadata": {
        "colab": {
          "base_uri": "https://localhost:8080/"
        },
        "id": "TQPwThqgvL5T",
        "outputId": "539efe06-15dd-4ccb-9504-c799351d115c"
      },
      "execution_count": null,
      "outputs": [
        {
          "output_type": "stream",
          "name": "stdout",
          "text": [
            "<s> chuva de granizo do domingo fará novo hamburgo decretar situação de emergência na tarde desta segunda feira </s>\n",
            "\n",
            "<s> são paulo uma chuva de pedras causada por uma explosão em uma pedreira causou prejuízos em pederneiras a trezentos e nove k da capital nesta quarta feira </s>\n",
            "\n",
            "<s> rio uma chuva de granizo que durou cerca de cinco minutos assustou agora há pouco moradores e comerciantes na barra da tijuca </s>\n",
            "\n",
            "<s> belo horizonte a chuva de granizo que atingiu a cidade de carandaí na região central de minas gerais destelhou quinhentas casas e deixou duas mil pessoas desabrigadas de acordo com os bombeiros e a defesa civil </s>\n",
            "\n",
            "<s> na zona da mata uma chuva de granizo provocou estragos em duas cidades </s>\n",
            "\n",
            "<s> os moradores de salto do jacuí no noroeste foram surpreendidos por uma forte chuva de granizo por volta das doze horas e dez minutos de hoje </s>\n",
            "\n",
            "<s> no rio grande do sul a chuva de granizo atingiu o interior do estado no início da tarde </s>\n",
            "\n",
            "<s> o município está entre os mais atingidos pelo vendaval e pela chuva de granizo além de são sebastião do caí picada café e são sepé </s>\n",
            "\n",
            "<s> segundo o prefeito da cidade lídio ledesma o temporal com chuva de granizo e ventos fortes começou por volta das doze horas e apesar de durar poucos minutos provocou muitos estragos na cidade </s>\n",
            "\n",
            "<s> a chuva de granizo acompanhada de forte vento começou por volta das oito e meia da noite deste domingo </s>\n",
            "\n",
            "<s> uma chuva de granizo estragou telhados e plantações no final da tarde de ontem em redentora no noroeste do estado </s>\n",
            "\n",
            "<s> no município vizinho de coronel bicaco também houve chuva de granizo </s>\n",
            "\n"
          ]
        }
      ]
    },
    {
      "cell_type": "markdown",
      "source": [
        "#ENELVO\n",
        "\n",
        "[ENELVO](https://pypi.org/project/enelvo/)"
      ],
      "metadata": {
        "id": "cDBWQsQqYswp"
      }
    },
    {
      "cell_type": "markdown",
      "source": [
        "##Ferramentas"
      ],
      "metadata": {
        "id": "PBRjQRJpZBVl"
      }
    },
    {
      "cell_type": "code",
      "source": [
        "!pip3 install --user enelvo "
      ],
      "metadata": {
        "colab": {
          "base_uri": "https://localhost:8080/"
        },
        "id": "cNzQWEbPYzuX",
        "outputId": "4ac1be19-9b9c-4e58-e45e-98cb4482c1ea"
      },
      "execution_count": null,
      "outputs": [
        {
          "output_type": "stream",
          "name": "stdout",
          "text": [
            "Looking in indexes: https://pypi.org/simple, https://us-python.pkg.dev/colab-wheels/public/simple/\n",
            "Requirement already satisfied: enelvo in /root/.local/lib/python3.7/site-packages (0.12)\n",
            "Requirement already satisfied: emoji==1.6.3 in /root/.local/lib/python3.7/site-packages (from enelvo) (1.6.3)\n",
            "Requirement already satisfied: numpy==1.19.5 in /root/.local/lib/python3.7/site-packages (from enelvo) (1.19.5)\n",
            "Requirement already satisfied: editdistance==0.6.0 in /root/.local/lib/python3.7/site-packages (from enelvo) (0.6.0)\n",
            "Requirement already satisfied: tabulate==0.8.9 in /root/.local/lib/python3.7/site-packages (from enelvo) (0.8.9)\n",
            "Requirement already satisfied: gensim==4.1.2 in /root/.local/lib/python3.7/site-packages (from enelvo) (4.1.2)\n",
            "Requirement already satisfied: smart-open>=1.8.1 in /usr/local/lib/python3.7/dist-packages (from gensim==4.1.2->enelvo) (5.2.1)\n",
            "Requirement already satisfied: scipy>=0.18.1 in /usr/local/lib/python3.7/dist-packages (from gensim==4.1.2->enelvo) (1.7.3)\n"
          ]
        }
      ]
    },
    {
      "cell_type": "markdown",
      "source": [
        "##Usando o ENELVO"
      ],
      "metadata": {
        "id": "-Mo6reJ5Z86a"
      }
    },
    {
      "cell_type": "code",
      "source": [
        "!python3 -m enelvo --input \"/content/drive/MyDrive/Mestrado - UFBA/MATE34 - PLN/corpus/CETENFolha.txt\" --output \"/content/drive/MyDrive/Mestrado - UFBA/MATE34 - PLN/corpus/out_enelvo.txt\""
      ],
      "metadata": {
        "id": "8ja2_MtFZ_yc",
        "colab": {
          "base_uri": "https://localhost:8080/"
        },
        "outputId": "1c10972f-b1ab-4229-9c53-31a142d01bf5"
      },
      "execution_count": null,
      "outputs": [
        {
          "output_type": "stream",
          "name": "stdout",
          "text": [
            "Failed to normalise word \"okehurst\"!\n",
            "Failed to normalise word \"whitewater\"!\n",
            "Failed to normalise word \"ushiyama\"!\n",
            "Failed to normalise word \"ushiyama\"!\n",
            "Failed to normalise word \"shoukichi\"!\n",
            "Failed to normalise word \"gershwins\"!\n",
            "Failed to normalise word \"naslausky\"!\n",
            "Failed to normalise word \"playtronic\"!\n",
            "Failed to normalise word \"vercoutter\"!\n",
            "Failed to normalise word \"gillooly\"!\n",
            "Failed to normalise word \"borkelmans\"!\n",
            "Failed to normalise word \"antiimigração\"!\n",
            "Failed to normalise word \"stepanenko\"!\n",
            "Failed to normalise word \"stepanenko\"!\n",
            "Failed to normalise word \"stepanenko\"!\n",
            "Failed to normalise word \"liskevich\"!\n",
            "Failed to normalise word \"napapiiri\"!\n",
            "Failed to normalise word \"scartezzini\"!\n",
            "Failed to normalise word \"telessérie\"!\n",
            "Failed to normalise word \"tecnopop\"!\n",
            "Failed to normalise word \"stepanenko\"!\n",
            "Failed to normalise word \"condephaat\"!\n",
            "Failed to normalise word \"wendlinger\"!\n",
            "Failed to normalise word \"brooklyn\"!\n",
            "Failed to normalise word \"johannesburgo\"!\n",
            "Failed to normalise word \"kedzierzawska\"!\n",
            "Failed to normalise word \"ismailova\"!\n",
            "Failed to normalise word \"todorovski\"!\n",
            "Failed to normalise word \"tsunezaemon\"!\n",
            "Failed to normalise word \"takayuki\"!\n",
            "Failed to normalise word \"tsunezaemon\"!\n",
            "Failed to normalise word \"guglielmo\"!\n",
            "Failed to normalise word \"itapacoróia\"!\n",
            "Failed to normalise word \"hizbollah\"!\n",
            "Failed to normalise word \"gorchakova\"!\n",
            "Failed to normalise word \"bjoerklund\"!\n",
            "Failed to normalise word \"tetsuyuki\"!\n",
            "Failed to normalise word \"gajowianka\"!\n",
            "Failed to normalise word \"condephaat\"!\n",
            "Failed to normalise word \"gorentzvaig\"!\n",
            "Failed to normalise word \"petroplastic\"!\n",
            "Failed to normalise word \"hurigueller\"!\n",
            "Failed to normalise word \"beethoveniano\"!\n",
            "Failed to normalise word \"tchaikovski\"!\n",
            "Failed to normalise word \"tchaikovski\"!\n",
            "Failed to normalise word \"mcduffie\"!\n",
            "Failed to normalise word \"showbizz\"!\n",
            "Failed to normalise word \"johannesburgo\"!\n",
            "Failed to normalise word \"outterbridge\"!\n",
            "Failed to normalise word \"zanettini\"!\n",
            "Failed to normalise word \"zanettini\"!\n",
            "Failed to normalise word \"neukirchen\"!\n",
            "Failed to normalise word \"philadelphia\"!\n",
            "Failed to normalise word \"philadelphia\"!\n",
            "Failed to normalise word \"honaceck\"!\n",
            "Failed to normalise word \"whiterspoon\"!\n",
            "Failed to normalise word \"tadaioshi\"!\n",
            "Failed to normalise word \"stepanenko\"!\n",
            "Failed to normalise word \"soljenitsin\"!\n",
            "Failed to normalise word \"soljenitsin\"!\n",
            "Failed to normalise word \"soljenitsin\"!\n",
            "Failed to normalise word \"lutoslawski\"!\n",
            "Failed to normalise word \"lutoslawski\"!\n",
            "Failed to normalise word \"pascowitch\"!\n",
            "Failed to normalise word \"bettelheim\"!\n",
            "Failed to normalise word \"villejack\"!\n",
            "Failed to normalise word \"minitreking\"!\n",
            "Failed to normalise word \"stepanenko\"!\n",
            "Failed to normalise word \"mussoliniano\"!\n",
            "Failed to normalise word \"fagerburg\"!\n",
            "Failed to normalise word \"cyberpunk\"!\n",
            "Failed to normalise word \"oosterbroek\"!\n",
            "Failed to normalise word \"johannesburgo\"!\n",
            "Failed to normalise word \"americanópolis\"!\n",
            "Failed to normalise word \"saccomandi\"!\n",
            "Failed to normalise word \"tumorectomia\"!\n",
            "Failed to normalise word \"tagliaferri\"!\n",
            "Failed to normalise word \"scrutinizer\"!\n",
            "Failed to normalise word \"scrutinizer\"!\n",
            "Failed to normalise word \"beackedorff\"!\n",
            "Failed to normalise word \"portocarrero\"!\n",
            "Failed to normalise word \"immendorff\"!\n",
            "Failed to normalise word \"raunheitti\"!\n",
            "Failed to normalise word \"petroplastic\"!\n",
            "Failed to normalise word \"petroplastic\"!\n",
            "Failed to normalise word \"gorentzvaig\"!\n",
            "Failed to normalise word \"petroplastic\"!\n",
            "Failed to normalise word \"superavaliados\"!\n",
            "Failed to normalise word \"mangosuthu\"!\n",
            "Failed to normalise word \"buthelezi\"!\n",
            "Failed to normalise word \"burhanuddin\"!\n",
            "Failed to normalise word \"gulbuddin\"!\n",
            "Failed to normalise word \"whitewater\"!\n",
            "Failed to normalise word \"ucrâniaelogiam\"!\n",
            "Failed to normalise word \"kravtchuk\"!\n",
            "Failed to normalise word \"sarreguemines\"!\n",
            "Failed to normalise word \"nestrovsky\"!\n",
            "Failed to normalise word \"hungaroton\"!\n",
            "Failed to normalise word \"zubizarreta\"!\n",
            "Failed to normalise word \"goicoechea\"!\n",
            "Failed to normalise word \"drugstuff\"!\n",
            "Failed to normalise word \"drugstuff\"!\n",
            "Failed to normalise word \"zeffireli\"!\n",
            "Failed to normalise word \"stephanie\"!\n",
            "Failed to normalise word \"itapacoróia\"!\n",
            "Failed to normalise word \"batoukhtina\"!\n",
            "Failed to normalise word \"woodypecker\"!\n",
            "Failed to normalise word \"interpublic\"!\n",
            "Failed to normalise word \"interpublic\"!\n",
            "Failed to normalise word \"scantimburgo\"!\n",
            "Failed to normalise word \"schoendoerffer\"!\n",
            "Failed to normalise word \"nicocelli\"!\n",
            "Failed to normalise word \"dreadlocks\"!\n",
            "Failed to normalise word \"letchkov\"!\n",
            "Failed to normalise word \"philadelphia\"!\n",
            "Failed to normalise word \"playboyzada\"!\n",
            "Failed to normalise word \"stonewall\"!\n",
            "Failed to normalise word \"schoenberg\"!\n",
            "Failed to normalise word \"minicartaz\"!\n",
            "Failed to normalise word \"sulzbacher\"!\n",
            "Failed to normalise word \"goodwill\"!\n",
            "Failed to normalise word \"zuelithini\"!\n",
            "Failed to normalise word \"mangosuthu\"!\n",
            "Failed to normalise word \"buthelezi\"!\n",
            "Failed to normalise word \"abecitrus\"!\n",
            "Failed to normalise word \"nutrasweet\"!\n",
            "Failed to normalise word \"nutrasweet\"!\n",
            "Failed to normalise word \"nutrasweet\"!\n",
            "Failed to normalise word \"limelight\"!\n",
            "Failed to normalise word \"limelight\"!\n",
            "Failed to normalise word \"tlatelolco\"!\n",
            "Failed to normalise word \"krzysztof\"!\n",
            "Failed to normalise word \"krzysztof\"!\n",
            "Failed to normalise word \"krzysztof\"!\n",
            "Failed to normalise word \"kleinfield\"!\n",
            "Failed to normalise word \"milwaukeen\"!\n",
            "Failed to normalise word \"concertgebouw\"!\n",
            "Failed to normalise word \"concertgebouw\"!\n",
            "Failed to normalise word \"concertgebouw\"!\n",
            "Failed to normalise word \"lorscheider\"!\n",
            "Failed to normalise word \"ibaretama\"!\n",
            "Failed to normalise word \"furstemberg\"!\n",
            "Failed to normalise word \"abollhasan\"!\n",
            "Failed to normalise word \"sinditêxtil\"!\n",
            "Failed to normalise word \"zhuangzhuang\"!\n",
            "Failed to normalise word \"softsolution\"!\n",
            "Failed to normalise word \"softsolution\"!\n",
            "Failed to normalise word \"mccracken\"!\n",
            "Failed to normalise word \"caiuleanu\"!\n",
            "Failed to normalise word \"caciuleanu\"!\n",
            "Failed to normalise word \"caciuleanu\"!\n",
            "Failed to normalise word \"facchetti\"!\n",
            "Failed to normalise word \"domenghini\"!\n",
            "Failed to normalise word \"boninsegna\"!\n",
            "Failed to normalise word \"valcareggi\"!\n",
            "Failed to normalise word \"gloeckner\"!\n",
            "Failed to normalise word \"boninsegna\"!\n",
            "Failed to normalise word \"yoshizawa\"!\n",
            "Failed to normalise word \"duchampiana\"!\n",
            "Failed to normalise word \"cybermaluco\"!\n",
            "Failed to normalise word \"cyberpunks\"!\n",
            "Failed to normalise word \"cyberpiratas\"!\n",
            "Failed to normalise word \"mccallum\"!\n",
            "Failed to normalise word \"peradejordi\"!\n",
            "Failed to normalise word \"villalonga\"!\n",
            "Failed to normalise word \"saccomandi\"!\n",
            "Failed to normalise word \"clubefolha\"!\n",
            "Failed to normalise word \"scartezzini\"!\n",
            "Failed to normalise word \"stepanenko\"!\n",
            "Failed to normalise word \"kiyokumo\"!\n",
            "Failed to normalise word \"yoshikazu\"!\n",
            "Failed to normalise word \"kawabuchi\"!\n",
            "Failed to normalise word \"marcheggiani\"!\n",
            "Failed to normalise word \"naoyoki\"!\n",
            "Failed to normalise word \"honeyville\"!\n",
            "Failed to normalise word \"weiszflog\"!\n",
            "Failed to normalise word \"phalaenops\"!\n",
            "Failed to normalise word \"timescomenta\"!\n",
            "Failed to normalise word \"timescritica\"!\n",
            "Failed to normalise word \"cleghorn\"!\n",
            "Failed to normalise word \"greenhalgh\"!\n",
            "Failed to normalise word \"mcnaughton\"!\n",
            "Failed to normalise word \"sturzenegger\"!\n",
            "Failed to normalise word \"milutinovic\"!\n",
            "Failed to normalise word \"lillehammer\"!\n",
            "Failed to normalise word \"sardenberg\"!\n",
            "Failed to normalise word \"sardenberg\"!\n",
            "Failed to normalise word \"vladivostok\"!\n",
            "Failed to normalise word \"hizbollah\"!\n",
            "Failed to normalise word \"hizbollah\"!\n",
            "Failed to normalise word \"schettert\"!\n",
            "Failed to normalise word \"soskovets\"!\n",
            "Failed to normalise word \"kindermann\"!\n",
            "Failed to normalise word \"struchniner\"!\n",
            "Failed to normalise word \"portocarrero\"!\n",
            "Failed to normalise word \"stepanenko\"!\n",
            "Failed to normalise word \"hoenshell\"!\n",
            "Failed to normalise word \"kristiansson\"!\n",
            "Failed to normalise word \"telesensory\"!\n",
            "Failed to normalise word \"philadelphia\"!\n",
            "Failed to normalise word \"cinemascope\"!\n",
            "Failed to normalise word \"ignatieff\"!\n",
            "Failed to normalise word \"nazistóides\"!\n",
            "Failed to normalise word \"saccomandi\"!\n",
            "Failed to normalise word \"ittihadiya\"!\n",
            "Failed to normalise word \"villaboim\"!\n",
            "Failed to normalise word \"schnaiderman\"!\n",
            "Failed to normalise word \"grosrichard\"!\n",
            "Failed to normalise word \"milutinovic\"!\n",
            "Failed to normalise word \"redaçãoesta\"!\n",
            "Failed to normalise word \"periscinoto\"!\n",
            "Failed to normalise word \"milutinovic\"!\n",
            "Failed to normalise word \"stefanovich\"!\n",
            "Failed to normalise word \"amorcrusp\"!\n",
            "Failed to normalise word \"metsãmuseontie\"!\n",
            "Failed to normalise word \"freidenet\"!\n",
            "Failed to normalise word \"butterfield\"!\n",
            "Failed to normalise word \"wordperfect\"!\n",
            "Failed to normalise word \"pazzianotto\"!\n",
            "Failed to normalise word \"pazzianotto\"!\n",
            "Failed to normalise word \"sardenberg\"!\n",
            "Failed to normalise word \"silverdome\"!\n",
            "Failed to normalise word \"oligopolizados\"!\n",
            "Failed to normalise word \"edusystems\"!\n",
            "Failed to normalise word \"attractions\"!\n",
            "Failed to normalise word \"krahenbuhl\"!\n",
            "Failed to normalise word \"dienbienphu\"!\n",
            "Failed to normalise word \"fujichrome\"!\n",
            "Failed to normalise word \"dumitrescu\"!\n",
            "Failed to normalise word \"preçolândia\"!\n",
            "Failed to normalise word \"dixieland\"!\n",
            "Failed to normalise word \"sardenberg\"!\n",
            "Failed to normalise word \"saccomandi\"!\n",
            "Failed to normalise word \"concertgebouw\"!\n",
            "Failed to normalise word \"angelesmário\"!\n",
            "Failed to normalise word \"attractions\"!\n",
            "Failed to normalise word \"bonapartismo\"!\n",
            "Failed to normalise word \"bonapartismo\"!\n",
            "Failed to normalise word \"takayuki\"!\n",
            "Failed to normalise word \"wolverhampton\"!\n",
            "Failed to normalise word \"johannesburgo\"!\n",
            "Failed to normalise word \"rauschenberg\"!\n",
            "Failed to normalise word \"wasserstein\"!\n",
            "Failed to normalise word \"greenhalgh\"!\n",
            "Failed to normalise word \"ziguezague\"!\n",
            "Failed to normalise word \"mashburn\"!\n",
            "Failed to normalise word \"mashburn\"!\n",
            "Failed to normalise word \"whitewater\"!\n",
            "Failed to normalise word \"whitewater\"!\n",
            "Failed to normalise word \"burgtheater\"!\n",
            "Failed to normalise word \"burgtheater\"!\n",
            "Failed to normalise word \"burgtheater\"!\n",
            "Failed to normalise word \"goodrich\"!\n",
            "Failed to normalise word \"limelight\"!\n",
            "Failed to normalise word \"limelight\"!\n",
            "Failed to normalise word \"mainstreet\"!\n",
            "Failed to normalise word \"hortifrútis\"!\n",
            "Failed to normalise word \"acondroplasia\"!\n",
            "Failed to normalise word \"blackhawk\"!\n",
            "Failed to normalise word \"commonwealth\"!\n",
            "Failed to normalise word \"creditanstalt\"!\n",
            "Failed to normalise word \"tchernomirdin\"!\n",
            "Failed to normalise word \"khasbulatov\"!\n",
            "Failed to normalise word \"sardenberg\"!\n",
            "Failed to normalise word \"hizbollah\"!\n",
            "Failed to normalise word \"hizbollah\"!\n",
            "Failed to normalise word \"mercoplast\"!\n",
            "Failed to normalise word \"pascowitch\"!\n",
            "Failed to normalise word \"metlatónoc\"!\n",
            "Failed to normalise word \"bjoerklund\"!\n",
            "Failed to normalise word \"gorlukovic\"!\n",
            "Failed to normalise word \"kutcheresky\"!\n",
            "Failed to normalise word \"sapopemba\"!\n",
            "Failed to normalise word \"tramezzani\"!\n",
            "Failed to normalise word \"akinwunmi\"!\n",
            "Failed to normalise word \"westerhoff\"!\n",
            "Failed to normalise word \"amniocentese\"!\n",
            "Failed to normalise word \"hortifrútis\"!\n",
            "Failed to normalise word \"gironbelli\"!\n",
            "Failed to normalise word \"pazzianotto\"!\n",
            "Failed to normalise word \"pazzianotto\"!\n",
            "Failed to normalise word \"libération\"!\n",
            "Failed to normalise word \"ashcroft\"!\n",
            "Failed to normalise word \"inguchétia\"!\n",
            "Failed to normalise word \"burhanuddin\"!\n",
            "Failed to normalise word \"glendening\"!\n",
            "Failed to normalise word \"etcheverry\"!\n",
            "Failed to normalise word \"etcheverry\"!\n",
            "Failed to normalise word \"hizbollah\"!\n",
            "Failed to normalise word \"villaboim\"!\n",
            "Failed to normalise word \"gyozelmunk\"!\n",
            "Failed to normalise word \"maracanãzinho\"!\n",
            "Failed to normalise word \"queensberry\"!\n",
            "Failed to normalise word \"johannesburgo\"!\n",
            "Failed to normalise word \"steigenberger\"!\n",
            "Failed to normalise word \"maastricht\"!\n",
            "Failed to normalise word \"spitzcovsky\"!\n",
            "Failed to normalise word \"tchurkin\"!\n",
            "Failed to normalise word \"mangosuthu\"!\n",
            "Failed to normalise word \"buthelezi\"!\n",
            "Failed to normalise word \"gillooly\"!\n",
            "Failed to normalise word \"gillooly\"!\n",
            "Failed to normalise word \"lillehammer\"!\n",
            "Failed to normalise word \"mayerovitch\"!\n",
            "Failed to normalise word \"gastroclínica\"!\n",
            "Failed to normalise word \"supercoloridos\"!\n",
            "Failed to normalise word \"valdenílson\"!\n",
            "Failed to normalise word \"lorscheider\"!\n",
            "Failed to normalise word \"jocelyne\"!\n",
            "Failed to normalise word \"gorentzvaig\"!\n",
            "Failed to normalise word \"krahenbuhl\"!\n",
            "Failed to normalise word \"schaumann\"!\n",
            "Failed to normalise word \"schettini\"!\n",
            "Failed to normalise word \"katsbarnéa\"!\n",
            "Failed to normalise word \"sztrajtman\"!\n",
            "Failed to normalise word \"villavicencio\"!\n",
            "Failed to normalise word \"mussorgski\"!\n",
            "Failed to normalise word \"rachmaninov\"!\n",
            "Failed to normalise word \"vladivostok\"!\n",
            "Failed to normalise word \"soljenitsin\"!\n",
            "Failed to normalise word \"rauschenberg\"!\n",
            "Failed to normalise word \"whitewater\"!\n",
            "Failed to normalise word \"whitewater\"!\n",
            "Failed to normalise word \"whitewater\"!\n",
            "Failed to normalise word \"stonewall\"!\n",
            "Failed to normalise word \"snowmobile\"!\n",
            "Failed to normalise word \"ntaryamira\"!\n",
            "Failed to normalise word \"tagliaferri\"!\n",
            "Failed to normalise word \"puntoluce\"!\n",
            "Failed to normalise word \"eisenhower\"!\n",
            "Failed to normalise word \"beauchamp\"!\n",
            "Failed to normalise word \"bodycount\"!\n",
            "Failed to normalise word \"chtcheglov\"!\n",
            "Failed to normalise word \"chtcheglov\"!\n",
            "Failed to normalise word \"marchegiani\"!\n",
            "Failed to normalise word \"córdobaregião\"!\n",
            "Failed to normalise word \"gajbihiye\"!\n",
            "Failed to normalise word \"tredinnick\"!\n",
            "Failed to normalise word \"antonângelo\"!\n",
            "Failed to normalise word \"antonângelo\"!\n",
            "Failed to normalise word \"antonângelo\"!\n",
            "Failed to normalise word \"ratzenberger\"!\n",
            "Failed to normalise word \"scartezzini\"!\n",
            "Failed to normalise word \"krajicek\"!\n",
            "Failed to normalise word \"dimbleby\"!\n",
            "Failed to normalise word \"spartanburg\"!\n",
            "Failed to normalise word \"albertville\"!\n",
            "Failed to normalise word \"lillehammer\"!\n",
            "Failed to normalise word \"lulacontra\"!\n",
            "Failed to normalise word \"novoselic\"!\n",
            "Failed to normalise word \"novoselic\"!\n",
            "Failed to normalise word \"karkamanis\"!\n",
            "Failed to normalise word \"caltabellotta\"!\n",
            "Failed to normalise word \"simposiástica\"!\n",
            "Failed to normalise word \"aristávora\"!\n",
            "Failed to normalise word \"kriseljak\"!\n",
            "Failed to normalise word \"wordperfect\"!\n",
            "Failed to normalise word \"whitehorse\"!\n",
            "Failed to normalise word \"espondilite\"!\n",
            "Failed to normalise word \"jovchelevich\"!\n",
            "Failed to normalise word \"abernéssia\"!\n",
            "Failed to normalise word \"estadonovista\"!\n",
            "Failed to normalise word \"meneguello\"!\n",
            "Failed to normalise word \"whitewater\"!\n",
            "Failed to normalise word \"whitewater\"!\n",
            "Failed to normalise word \"whitewater\"!\n",
            "Failed to normalise word \"phonoplay\"!\n",
            "Failed to normalise word \"skynyrd\"!\n",
            "Failed to normalise word \"pilanowski\"!\n",
            "Failed to normalise word \"temirkanov\"!\n",
            "Failed to normalise word \"tchaikóvski\"!\n",
            "Failed to normalise word \"limelight\"!\n",
            "Failed to normalise word \"condephaat\"!\n",
            "Failed to normalise word \"nestrovski\"!\n",
            "Failed to normalise word \"dartiguenave\"!\n",
            "Failed to normalise word \"stepanenko\"!\n",
            "Failed to normalise word \"stepanenko\"!\n",
            "Failed to normalise word \"stepanenko\"!\n",
            "Failed to normalise word \"langsdorff\"!\n",
            "Failed to normalise word \"mitcheville\"!\n",
            "Failed to normalise word \"semiliberdade\"!\n",
            "Failed to normalise word \"superperigoso\"!\n",
            "Failed to normalise word \"theeratt\"!\n",
            "Failed to normalise word \"jazzmatazz\"!\n",
            "Failed to normalise word \"jazzmatazz\"!\n",
            "Failed to normalise word \"broderbund\"!\n",
            "Failed to normalise word \"grunkraut\"!\n",
            "Failed to normalise word \"factbook\"!\n",
            "Failed to normalise word \"ratzenberger\"!\n",
            "Failed to normalise word \"megaleilão\"!\n",
            "Failed to normalise word \"kuczynski\"!\n",
            "Failed to normalise word \"kuczynski\"!\n",
            "Failed to normalise word \"townsend\"!\n",
            "Failed to normalise word \"auschwitz\"!\n",
            "Failed to normalise word \"bierkenaum\"!\n",
            "Failed to normalise word \"sztrajtman\"!\n",
            "Failed to normalise word \"juroscurto\"!\n",
            "Failed to normalise word \"trintignant\"!\n",
            "Failed to normalise word \"beenhakker\"!\n",
            "Failed to normalise word \"sardenberg\"!\n",
            "Failed to normalise word \"thorsvedt\"!\n",
            "Failed to normalise word \"hotspurs\"!\n",
            "Failed to normalise word \"raunheitti\"!\n",
            "Failed to normalise word \"periscinotto\"!\n",
            "Failed to normalise word \"microlegendas\"!\n",
            "Failed to normalise word \"wordperfect\"!\n",
            "Failed to normalise word \"cotriguaçu\"!\n",
            "Failed to normalise word \"dumitrescu\"!\n",
            "Failed to normalise word \"abouhalima\"!\n",
            "Failed to normalise word \"schievelbein\"!\n",
            "Failed to normalise word \"meganegócio\"!\n",
            "Failed to normalise word \"neuroblastoma\"!\n",
            "Failed to normalise word \"drabinsky\"!\n",
            "Failed to normalise word \"montegridolfo\"!\n",
            "Failed to normalise word \"polytheletras\"!\n",
            "Failed to normalise word \"demarchelier\"!\n",
            "Failed to normalise word \"gringolândia\"!\n",
            "Failed to normalise word \"yongbyon\"!\n",
            "Failed to normalise word \"bernhoeft\"!\n",
            "Failed to normalise word \"kurspahic\"!\n",
            "Failed to normalise word \"pirapitingui\"!\n",
            "Failed to normalise word \"azkargorta\"!\n",
            "Failed to normalise word \"etcheverry\"!\n",
            "Failed to normalise word \"vecchiatti\"!\n",
            "Failed to normalise word \"weinmarkt\"!\n",
            "Failed to normalise word \"schoenberg\"!\n",
            "Failed to normalise word \"microlegenda\"!\n",
            "Failed to normalise word \"ginecomastia\"!\n",
            "Failed to normalise word \"ginecomastia\"!\n",
            "Failed to normalise word \"franklimberg\"!\n",
            "Failed to normalise word \"hildegarde\"!\n",
            "Failed to normalise word \"tsukamoto\"!\n",
            "Failed to normalise word \"tragtemberg\"!\n",
            "Failed to normalise word \"hidrossulfeto\"!\n",
            "Failed to normalise word \"estrasburgo\"!\n",
            "Failed to normalise word \"brunetière\"!\n",
            "Failed to normalise word \"sardenberg\"!\n",
            "Failed to normalise word \"kapuscinski\"!\n",
            "Failed to normalise word \"teatrowilliam\"!\n",
            "Failed to normalise word \"omicinski\"!\n",
            "Failed to normalise word \"sulzbacher\"!\n",
            "Failed to normalise word \"sunsplash\"!\n",
            "Failed to normalise word \"jirinovski\"!\n",
            "Failed to normalise word \"jirinovski\"!\n",
            "Failed to normalise word \"jirinovski\"!\n",
            "Failed to normalise word \"valexport\"!\n",
            "Failed to normalise word \"djorkaeff\"!\n",
            "Failed to normalise word \"djorkaeff\"!\n",
            "Failed to normalise word \"stangassinger\"!\n",
            "Failed to normalise word \"lillehammer\"!\n",
            "Failed to normalise word \"stangassinger\"!\n",
            "Failed to normalise word \"stangassinger\"!\n",
            "Failed to normalise word \"stangassinger\"!\n",
            "Failed to normalise word \"weidhaas\"!\n",
            "Failed to normalise word \"bartholomew\"!\n",
            "Failed to normalise word \"azkargorta\"!\n",
            "Failed to normalise word \"uwajimaya\"!\n",
            "Failed to normalise word \"thielemans\"!\n",
            "Failed to normalise word \"frontwoman\"!\n",
            "Failed to normalise word \"shalikashvili\"!\n",
            "Failed to normalise word \"shillinger\"!\n",
            "Failed to normalise word \"tchernenko\"!\n",
            "Failed to normalise word \"oldenburg\"!\n",
            "Failed to normalise word \"rauschenberg\"!\n",
            "Failed to normalise word \"trótsky\"!\n",
            "Failed to normalise word \"weiszflog\"!\n",
            "Failed to normalise word \"jirinovski\"!\n",
            "Failed to normalise word \"jirinovski\"!\n",
            "Failed to normalise word \"winkelhock\"!\n",
            "Failed to normalise word \"kathmandu\"!\n",
            "Failed to normalise word \"johannesburgo\"!\n",
            "Failed to normalise word \"jirinovski\"!\n",
            "Failed to normalise word \"jirinovski\"!\n",
            "Failed to normalise word \"kõnigsberg\"!\n",
            "Failed to normalise word \"kaliningrado\"!\n",
            "Failed to normalise word \"jirinovski\"!\n",
            "Failed to normalise word \"wordperfect\"!\n",
            "Failed to normalise word \"minigérberas\"!\n",
            "Failed to normalise word \"wendlinger\"!\n",
            "Failed to normalise word \"wendlinger\"!\n",
            "Failed to normalise word \"hidrossauna\"!\n",
            "Failed to normalise word \"weiqiang\"!\n",
            "Failed to normalise word \"cartaginazzi\"!\n",
            "Failed to normalise word \"yoshizawa\"!\n",
            "Failed to normalise word \"gainesville\"!\n",
            "Failed to normalise word \"blackburn\"!\n",
            "Failed to normalise word \"sardenberg\"!\n",
            "Failed to normalise word \"beenfield\"!\n",
            "Failed to normalise word \"pickering\"!\n",
            "Failed to normalise word \"waldvogel\"!\n",
            "Failed to normalise word \"kanyarengwe\"!\n",
            "Failed to normalise word \"elekeiroz\"!\n",
            "Failed to normalise word \"philadelphia\"!\n",
            "Failed to normalise word \"picinguaba\"!\n",
            "Failed to normalise word \"krajisnik\"!\n",
            "Failed to normalise word \"jirinovski\"!\n",
            "Failed to normalise word \"jirinovski\"!\n",
            "Failed to normalise word \"jirinovski\"!\n",
            "Failed to normalise word \"fleuryzistas\"!\n",
            "Failed to normalise word \"viewsonic\"!\n",
            "Failed to normalise word \"perfectsound\"!\n",
            "Failed to normalise word \"ombrellone\"!\n",
            "Failed to normalise word \"gigaflops\"!\n",
            "Failed to normalise word \"berasategui\"!\n",
            "Failed to normalise word \"gustafsson\"!\n",
            "Failed to normalise word \"yatchsman\"!\n",
            "Failed to normalise word \"debussyano\"!\n",
            "Failed to normalise word \"multieditora\"!\n",
            "Failed to normalise word \"schiaffino\"!\n",
            "Failed to normalise word \"zihuatanejo\"!\n",
            "Failed to normalise word \"kauffmann\"!\n",
            "Failed to normalise word \"piscataway\"!\n",
            "Failed to normalise word \"pietruski\"!\n",
            "Failed to normalise word \"outubroserão\"!\n",
            "Failed to normalise word \"gewandhaus\"!\n",
            "Failed to normalise word \"schulhoff\"!\n",
            "Failed to normalise word \"reinighaus\"!\n",
            "Failed to normalise word \"bettlejuice\"!\n",
            "Failed to normalise word \"abulempax\"!\n",
            "Failed to normalise word \"hipofagin\"!\n",
            "Failed to normalise word \"ansarallah\"!\n",
            "Failed to normalise word \"ansarallah\"!\n",
            "Failed to normalise word \"schnaiderman\"!\n",
            "Failed to normalise word \"serretiello\"!\n",
            "Failed to normalise word \"iordanescu\"!\n",
            "Failed to normalise word \"iordanescu\"!\n",
            "Failed to normalise word \"buonfiglio\"!\n",
            "Failed to normalise word \"frankenheimer\"!\n",
            "Failed to normalise word \"accugraph\"!\n",
            "Failed to normalise word \"gringolândia\"!\n",
            "Failed to normalise word \"silverstein\"!\n",
            "Failed to normalise word \"terzopoulos\"!\n",
            "Failed to normalise word \"terzopoulos\"!\n",
            "Failed to normalise word \"terzopoulos\"!\n",
            "Failed to normalise word \"terzopoulos\"!\n",
            "Failed to normalise word \"michopoulou\"!\n",
            "Failed to normalise word \"terzopoulos\"!\n",
            "Failed to normalise word \"sardenberg\"!\n",
            "Failed to normalise word \"rajcevic\"!\n",
            "Failed to normalise word \"flammarion\"!\n",
            "Failed to normalise word \"fujimorização\"!\n",
            "Failed to normalise word \"sheremetyevo\"!\n",
            "Failed to normalise word \"milutinovic\"!\n",
            "Failed to normalise word \"verwinrrungen\"!\n",
            "Failed to normalise word \"zoeglings\"!\n",
            "Failed to normalise word \"vereinigungen\"!\n",
            "Failed to normalise word \"schwaermer\"!\n",
            "Failed to normalise word \"eisenhower\"!\n",
            "Failed to normalise word \"aldergrove\"!\n",
            "Failed to normalise word \"johannesburgo\"!\n",
            "Failed to normalise word \"sardenberg\"!\n",
            "Failed to normalise word \"montsalvatge\"!\n",
            "Failed to normalise word \"irreproducible\"!\n",
            "Failed to normalise word \"stanislavski\"!\n",
            "Traceback (most recent call last):\n",
            "  File \"/root/.local/lib/python3.7/site-packages/enelvo/__main__.py\", line 245, in run\n",
            "    o.write(normaliser.normalise(line) + \"\\n\")\n",
            "  File \"/root/.local/lib/python3.7/site-packages/enelvo/normaliser.py\", line 156, in normalise\n",
            "    n_cands=1,\n",
            "  File \"/root/.local/lib/python3.7/site-packages/enelvo/candidate_scoring/baselines.py\", line 76, in score_by_similarity_metrics\n",
            "    for cand in scored_candidates\n",
            "  File \"/root/.local/lib/python3.7/site-packages/enelvo/candidate_scoring/baselines.py\", line 76, in <listcomp>\n",
            "    for cand in scored_candidates\n",
            "KeyboardInterrupt\n",
            "\n",
            "During handling of the above exception, another exception occurred:\n",
            "\n",
            "Traceback (most recent call last):\n",
            "  File \"/usr/lib/python3.7/runpy.py\", line 193, in _run_module_as_main\n",
            "    \"__main__\", mod_spec)\n",
            "  File \"/usr/lib/python3.7/runpy.py\", line 85, in _run_code\n",
            "    exec(code, run_globals)\n",
            "  File \"/root/.local/lib/python3.7/site-packages/enelvo/__main__.py\", line 290, in <module>\n",
            "    cli()\n",
            "  File \"/root/.local/lib/python3.7/site-packages/enelvo/__main__.py\", line 286, in cli\n",
            "    run(options)\n",
            "  File \"/root/.local/lib/python3.7/site-packages/enelvo/__main__.py\", line 246, in run\n",
            "    logger.info(\"Done! Normalised text written to \" + options.output)\n",
            "KeyboardInterrupt\n"
          ]
        }
      ]
    },
    {
      "cell_type": "markdown",
      "source": [
        "#Colab de referência"
      ],
      "metadata": {
        "id": "o0GT3QmbUr7w"
      }
    },
    {
      "cell_type": "markdown",
      "source": [
        "##Buscando padrões no texto\n",
        "\n",
        "Um dos usos mais comuns para o módulo <b>re</b> é encontrar padrões no texto."
      ],
      "metadata": {
        "id": "zScuRTGg8yym"
      }
    },
    {
      "cell_type": "code",
      "execution_count": null,
      "metadata": {
        "colab": {
          "base_uri": "https://localhost:8080/"
        },
        "id": "jkG0htycKzMg",
        "outputId": "fec1ced4-9d5c-447e-9ac7-7c0c3daa0a14"
      },
      "outputs": [
        {
          "output_type": "stream",
          "name": "stdout",
          "text": [
            "Procurando por \"termo1\" em: \n",
            "\"Essa seria uma string com o termo1, mas sem o outro termo2.\"\n",
            "\n",
            "\n",
            "Match foi encontrado.\n",
            "\n",
            "Procurando por \"termo2\" em: \n",
            "\"Essa seria uma string com o termo1, mas sem o outro termo2.\"\n",
            "\n",
            "\n",
            "Match foi encontrado.\n",
            "\n"
          ]
        }
      ],
      "source": [
        "patterns = ['termo1', 'termo2']\n",
        "\n",
        "# Texto para fazer o parse\n",
        "text = 'Essa seria uma string com o termo1, mas sem o outro termo2.'\n",
        "\n",
        "for pattern in patterns:\n",
        "    print('Procurando por \"%s\" em: \\n\"%s\"' % (pattern, text))\n",
        "    \n",
        "    # Check pelo padrão\n",
        "    if re.search(pattern, text):\n",
        "        print('\\n')\n",
        "        print('Match foi encontrado.\\n')\n",
        "    else:\n",
        "        print('\\n')\n",
        "        print('Sem Match encontrado.\\n')"
      ]
    },
    {
      "cell_type": "markdown",
      "metadata": {
        "id": "HRZK13xAKzMr"
      },
      "source": [
        "Agora vimos que re.search() pegará o pattern, fará a varredura do texto e retornará um objeto **Match**. Se nenhum padrão for encontrado, um **None** será retornado. Para dar uma imagem mais clara desse objeto de correspondência, confira a célula abaixo:"
      ]
    },
    {
      "cell_type": "code",
      "execution_count": null,
      "metadata": {
        "colab": {
          "base_uri": "https://localhost:8080/",
          "height": 35
        },
        "id": "zF_64u1KKzMt",
        "outputId": "84c4b5da-8568-4eef-e14a-691d4003eb59"
      },
      "outputs": [
        {
          "data": {
            "text/plain": [
              "re.Match"
            ]
          },
          "execution_count": 5,
          "metadata": {},
          "output_type": "execute_result"
        }
      ],
      "source": [
        "pattern = 'termo1'\n",
        "\n",
        "text = 'Essa string tem o khjgfhjg termo1, mas não tem o termo2.'\n",
        "\n",
        "match = re.search(pattern, text)\n",
        "\n",
        "type(match)"
      ]
    },
    {
      "cell_type": "markdown",
      "metadata": {
        "id": "uyZAAH_jKzM1"
      },
      "source": [
        "\n",
        "Esse objeto **Match** retornado pelo método search() é mais do que apenas um Boolean ou None, ele contém informações sobre a correspondência, incluindo a string de entrada original, a expressão regular que foi usada e a localização da correspondência. Vamos ver os métodos que podemos usar no objeto de correspondência:"
      ]
    },
    {
      "cell_type": "code",
      "execution_count": null,
      "metadata": {
        "colab": {
          "base_uri": "https://localhost:8080/",
          "height": 35
        },
        "id": "hYtUhnz5KzM3",
        "outputId": "65343a33-4444-4bec-e478-5e90c2e7b00c"
      },
      "outputs": [
        {
          "data": {
            "text/plain": [
              "27"
            ]
          },
          "execution_count": 6,
          "metadata": {},
          "output_type": "execute_result"
        }
      ],
      "source": [
        "# Mostra o início do Match\n",
        "match.start()"
      ]
    },
    {
      "cell_type": "code",
      "execution_count": null,
      "metadata": {
        "colab": {
          "base_uri": "https://localhost:8080/",
          "height": 35
        },
        "id": "VmbxhT0WKzM-",
        "outputId": "c27f2328-b9f5-4c47-874d-24ef48537350"
      },
      "outputs": [
        {
          "data": {
            "text/plain": [
              "33"
            ]
          },
          "execution_count": 9,
          "metadata": {},
          "output_type": "execute_result"
        }
      ],
      "source": [
        "# Mostra a posição final do Match\n",
        "match.end()"
      ]
    },
    {
      "cell_type": "markdown",
      "metadata": {
        "id": "xDBPQqFLKzNF"
      },
      "source": [
        "## Separação da Expressão Regular\n",
        "\n",
        "Vamos ver como podemos dividir com a re sintaxe. Isso deve ser semelhante a como utilizamos o método split() com strings."
      ]
    },
    {
      "cell_type": "code",
      "execution_count": null,
      "metadata": {
        "colab": {
          "base_uri": "https://localhost:8080/",
          "height": 53
        },
        "id": "uIi__CX-KzNH",
        "outputId": "cdcfa682-d9d2-48ed-eace-bf08a22ad139"
      },
      "outputs": [
        {
          "data": {
            "text/plain": [
              "['Qual o nome de dominio do seguinte endereco de email: geanderson',\n",
              " 'gmail.com']"
            ]
          },
          "execution_count": 10,
          "metadata": {},
          "output_type": "execute_result"
        }
      ],
      "source": [
        "# A partir de qual caractere queremos separar\n",
        "split_term = '@'\n",
        "\n",
        "frase = 'Qual o nome de dominio do seguinte endereco de email: geanderson@gmail.com'\n",
        "\n",
        "# Divide a frase\n",
        "re.split(split_term, frase)"
      ]
    },
    {
      "cell_type": "markdown",
      "metadata": {
        "id": "vm8o-MtuKzNQ"
      },
      "source": [
        "Observe como re.split() retorna uma lista com o termo a ser removido e os termos na lista são uma versão dividida da string. \n",
        "\n",
        "## Encontrando todas as instâncias de um padrão\n",
        "\n",
        "Você pode usar re.findall() para encontrar todas as instâncias de um padrão em uma string. Por exemplo:"
      ]
    },
    {
      "cell_type": "code",
      "execution_count": null,
      "metadata": {
        "colab": {
          "base_uri": "https://localhost:8080/"
        },
        "id": "Ahh7U90BKzNS",
        "outputId": "e4ad0268-2c56-4aa6-b615-17e48b0da659"
      },
      "outputs": [
        {
          "output_type": "execute_result",
          "data": {
            "text/plain": [
              "['match', 'match']"
            ]
          },
          "metadata": {},
          "execution_count": 3
        }
      ],
      "source": [
        "# Retornar uma lista de todos os matches\n",
        "re.findall('match','frase de teste com match no meio e no final outro match')"
      ]
    },
    {
      "cell_type": "markdown",
      "metadata": {
        "id": "6-Ns_fFnKzNl"
      },
      "source": [
        "## re Sintaxe\n",
        "\n",
        "Expressões regulares suportam uma enorme variedade de padrões simplesmente localizando onde uma única string ocorreu.\n",
        "\n",
        "Podemos usar *metacaracteres* junto com re para encontrar tipos específicos de padrões.\n",
        "\n",
        "Como estaremos testando várias células de re-sintaxe, vamos criar uma função que imprima os resultados, dada uma lista de várias expressões regulares e uma frase para analisar:"
      ]
    },
    {
      "cell_type": "code",
      "execution_count": null,
      "metadata": {
        "id": "PttDsJ1UKzNn"
      },
      "outputs": [],
      "source": [
        "def multi_re_find(patterns, phrase):\n",
        "    '''\n",
        "    Pega uma lista de padrões regex\n",
        "    Imprime a lista de todos os matches\n",
        "    '''\n",
        "    for pattern in patterns:\n",
        "        print('Procurando a frase usando o re check: %r' %pattern)\n",
        "        print(re.findall(pattern, phrase))\n",
        "        print('\\n')"
      ]
    },
    {
      "cell_type": "markdown",
      "metadata": {
        "id": "SJp7o4zhKzNu"
      },
      "source": [
        "### Sintaxe\n",
        "\n",
        "Existem cinco maneiras de expressar a repetição em um padrão:\n",
        "\n",
        "    1.) Um padrão seguido pelo meta-caractere * é repetido zero ou mais vezes.\n",
        "    2.) Substitua o * por + e o padrão deve aparecer pelo menos uma vez.\n",
        "    3.) Usando ? significa que o padrão aparece zero ou uma vez.\n",
        "    4.) Para um número específico de ocorrências, use {m} após o padrão, onde m é substituído pelo número de vezes que o padrão deve se repetir.\n",
        "    5.) Use {m, n} onde m é o número mínimo de repetições e n é o máximo. Saída de n ({m,}) significa que o valor aparece pelo menos m vezes, sem máximo.\n",
        "    \n",
        "Agora vamos ver um exemplo de cada um deles usando nossa função multi_re_find:"
      ]
    },
    {
      "cell_type": "code",
      "execution_count": null,
      "metadata": {
        "colab": {
          "base_uri": "https://localhost:8080/",
          "height": 374
        },
        "id": "Uq_BhUaiKzNw",
        "outputId": "3baff5f6-6983-4c4a-b372-d22b682bc65a"
      },
      "outputs": [
        {
          "name": "stdout",
          "output_type": "stream",
          "text": [
            "Procurando a frase usando o re check: 'sd*'\n",
            "['sd', 'sd', 's', 's', 'sddd', 'sddd', 'sddd', 'sd', 's', 's', 's', 's', 's', 's', 'sdddd']\n",
            "\n",
            "\n",
            "Procurando a frase usando o re check: 'sd+'\n",
            "['sd', 'sd', 'sddd', 'sddd', 'sddd', 'sd', 'sdddd']\n",
            "\n",
            "\n",
            "Procurando a frase usando o re check: 'sd?'\n",
            "['sd', 'sd', 's', 's', 'sd', 'sd', 'sd', 'sd', 's', 's', 's', 's', 's', 's', 'sd']\n",
            "\n",
            "\n",
            "Procurando a frase usando o re check: 'sd{3}'\n",
            "['sddd', 'sddd', 'sddd', 'sddd']\n",
            "\n",
            "\n",
            "Procurando a frase usando o re check: 'sd{1,3}'\n",
            "['sd', 'sd', 'sddd', 'sddd', 'sddd', 'sd', 'sddd']\n",
            "\n",
            "\n"
          ]
        }
      ],
      "source": [
        "test_phrase = 'sdsd..sssddd...sdddsddd...dsds...dsssss...sdddd'\n",
        "\n",
        "test_patterns = ['sd*',     # s seguido de 0 ou mais d's\n",
        "                 'sd+',     # s seguido de 1 ou mais d's\n",
        "                 'sd?',     # s seguido de 0 ou d's\n",
        "                 'sd{3}',   # s seguido de 3 d's\n",
        "                 'sd{1,3}', # s seguido de 2 para 3 d's\n",
        "                ]\n",
        "\n",
        "multi_re_find(test_patterns,test_phrase)"
      ]
    },
    {
      "cell_type": "markdown",
      "metadata": {
        "id": "UVOXvCsaKzN2"
      },
      "source": [
        "\n",
        "## Conjuntos de Caracteres\n",
        "\n",
        "Conjuntos de caracteres são usados quando você deseja corresponder qualquer um de um grupo de caracteres em um ponto de entrada. Os colchetes são usados para construir entradas de conjunto de caracteres. Por exemplo: a entrada [ab] procura ocorrências de a ou b.\n",
        "Vamos ver alguns exemplos:"
      ]
    },
    {
      "cell_type": "code",
      "execution_count": null,
      "metadata": {
        "colab": {
          "base_uri": "https://localhost:8080/",
          "height": 180
        },
        "id": "QYWXFypgKzN4",
        "outputId": "970b9f96-db5a-41c0-ad74-d3b2d84d38e1"
      },
      "outputs": [
        {
          "name": "stdout",
          "output_type": "stream",
          "text": [
            "Procurando a frase usando o re check: '[sd]'\n",
            "['s', 'd', 's', 'd', 's', 's', 's', 'd', 'd', 'd', 's', 'd', 'd', 'd', 's', 'd', 'd', 'd', 'd', 's', 'd', 's', 'd', 's', 's', 's', 's', 's', 's', 'd', 'd', 'd', 'd']\n",
            "\n",
            "\n",
            "Procurando a frase usando o re check: 'd[sdssd]+'\n",
            "['dsd', 'ddd', 'dddsddd', 'dsds', 'dsssss', 'dddd']\n",
            "\n",
            "\n"
          ]
        }
      ],
      "source": [
        "test_phrase = 'sdsd..sssddd...sdddsddd...dsds...dsssss...sdddd'\n",
        "\n",
        "test_patterns = ['[sd]',    # s ou d\n",
        "                 'd[sdssd]+']   # s seguido de um ou mais s ou d\n",
        "            \n",
        "\n",
        "multi_re_find(test_patterns,test_phrase)"
      ]
    },
    {
      "cell_type": "markdown",
      "metadata": {
        "id": "JyztqLWGKzN-"
      },
      "source": [
        "Faz sentido que o primeiro [sd] retorne todas as instâncias. Além disso, a segunda entrada apenas retornará qualquer coisa que comece com um s neste caso específico da entrada da frase de teste."
      ]
    },
    {
      "cell_type": "markdown",
      "metadata": {
        "id": "uLR1M9TcKzOA"
      },
      "source": [
        "## Exclusão\n",
        "\n",
        "Podemos usar ^ para excluir termos, incorporando-os à notação de sintaxe de colchetes. Por exemplo: [^...] corresponderá a qualquer caractere único que não esteja entre colchetes. Vamos ver alguns exemplos:"
      ]
    },
    {
      "cell_type": "code",
      "execution_count": null,
      "metadata": {
        "id": "8NtcTW39KzOB"
      },
      "outputs": [],
      "source": [
        "test_phrase = 'Eu sou uma string com pontuacao. Como posso remover tudo isso?'"
      ]
    },
    {
      "cell_type": "markdown",
      "metadata": {
        "id": "Cn3CNpR_KzOH"
      },
      "source": [
        "Use [^!.? ] para verificar se há correspondências que não sejam !,.,? ou espaço. Adicione o + para verificar se a correspondência aparece pelo menos uma vez, isso basicamente se traduz em encontrar as palavras."
      ]
    },
    {
      "cell_type": "code",
      "execution_count": null,
      "metadata": {
        "colab": {
          "base_uri": "https://localhost:8080/",
          "height": 35
        },
        "id": "qmverRUKKzOI",
        "outputId": "526be977-9368-4729-fc1b-e6662201a752"
      },
      "outputs": [
        {
          "data": {
            "text/plain": [
              "['Eu sou uma string com pontuacao', ' Como posso remover tudo isso']"
            ]
          },
          "execution_count": 19,
          "metadata": {},
          "output_type": "execute_result"
        }
      ],
      "source": [
        "re.findall('[^!.?]+',test_phrase)"
      ]
    },
    {
      "cell_type": "markdown",
      "metadata": {
        "id": "liSJOaRpKzOR"
      },
      "source": [
        "## Intervalos de caracteres\n",
        "\n",
        "À medida que os conjuntos de caracteres crescem, digitar cada caractere que deve (ou não) corresponder pode se tornar muito tedioso. Um formato mais compacto usando intervalos de caracteres permite definir um conjunto de caracteres para incluir todos os caracteres contíguos entre um ponto inicial e um ponto final. O formato usado é [início-fim].\n",
        "\n",
        "Casos de uso comuns são procurar por um intervalo específico de letras no alfabeto, como [a-f] retornaria correspondências com qualquer instância de letras entre a e f.\n",
        "\n",
        "Vamos percorrer alguns exemplos:"
      ]
    },
    {
      "cell_type": "code",
      "execution_count": null,
      "metadata": {
        "id": "bSsakGR2KzOS"
      },
      "outputs": [],
      "source": [
        "\n",
        "test_phrase = 'Uma sentenca de exemplo. Vamos tentar encontrar alguns caracteres.'\n",
        "\n",
        "test_patterns=[ '[a-z]+',      # caracteres minusculos\n",
        "                '[A-Z]+',      # caracteres maiusculos\n",
        "                '[a-zA-Z]+',   # caracteres minusculos ou maiusculos\n",
        "                '[A-Z][a-z]+'] # um caracter maiuscula seguida de caracteres minusculos\n",
        "                \n",
        "multi_re_find(test_patterns,test_phrase)"
      ]
    },
    {
      "cell_type": "markdown",
      "metadata": {
        "id": "hgHNa1lXKzOa"
      },
      "source": [
        "## Códigos de Escape\n",
        "\n",
        "Você pode usar códigos de escape especiais para encontrar tipos específicos de padrões em seus dados, como dígitos, não dígitos, espaço em branco e muito mais. Por exemplo:\n",
        "\n",
        "<table border=\"1\" class=\"docutils\">\n",
        "<colgroup>\n",
        "<col width=\"14%\" />\n",
        "<col width=\"86%\" />\n",
        "</colgroup>\n",
        "<thead valign=\"bottom\">\n",
        "<tr class=\"row-odd\"><th class=\"head\">Código</th>\n",
        "<th class=\"head\">Significado</th>\n",
        "</tr>\n",
        "</thead>\n",
        "<tbody valign=\"top\">\n",
        "<tr class=\"row-even\"><td><tt class=\"docutils literal\"><span class=\"pre\">\\d</span></tt></td>\n",
        "<td>um dígito</td>\n",
        "</tr>\n",
        "<tr class=\"row-odd\"><td><tt class=\"docutils literal\"><span class=\"pre\">\\D</span></tt></td>\n",
        "<td>um não dígito</td>\n",
        "</tr>\n",
        "<tr class=\"row-even\"><td><tt class=\"docutils literal\"><span class=\"pre\">\\s</span></tt></td>\n",
        "<td>espaços em branco (tab, espaço, nova linha, etc.)</td>\n",
        "</tr>\n",
        "<tr class=\"row-odd\"><td><tt class=\"docutils literal\"><span class=\"pre\">\\S</span></tt></td>\n",
        "<td>sem espaço em branco</td>\n",
        "</tr>\n",
        "<tr class=\"row-even\"><td><tt class=\"docutils literal\"><span class=\"pre\">\\w</span></tt></td>\n",
        "<td>alfanumérico</td>\n",
        "</tr>\n",
        "<tr class=\"row-odd\"><td><tt class=\"docutils literal\"><span class=\"pre\">\\W</span></tt></td>\n",
        "<td>não alfanumérico</td>\n",
        "</tr>\n",
        "</tbody>\n",
        "</table>"
      ]
    },
    {
      "cell_type": "code",
      "execution_count": null,
      "metadata": {
        "colab": {
          "base_uri": "https://localhost:8080/",
          "height": 445
        },
        "id": "JQlf6zibKzOd",
        "outputId": "4b3bfd6c-898f-4704-94bf-9e05d4b459d9"
      },
      "outputs": [
        {
          "name": "stdout",
          "output_type": "stream",
          "text": [
            "Procurando a frase usando o re check: '\\\\d+'\n",
            "['4674']\n",
            "\n",
            "\n",
            "Procurando a frase usando o re check: '\\\\D+'\n",
            "['Tenho uma string com ', ' e uma #hashtag']\n",
            "\n",
            "\n",
            "Procurando a frase usando o re check: '\\\\s+'\n",
            "[' ', ' ', ' ', ' ', ' ', ' ', ' ']\n",
            "\n",
            "\n",
            "Procurando a frase usando o re check: '\\\\S+'\n",
            "['Tenho', 'uma', 'string', 'com', '4674', 'e', 'uma', '#hashtag']\n",
            "\n",
            "\n",
            "Procurando a frase usando o re check: '\\\\w+'\n",
            "['Tenho', 'uma', 'string', 'com', '4674', 'e', 'uma', 'hashtag']\n",
            "\n",
            "\n",
            "Procurando a frase usando o re check: '\\\\W+'\n",
            "[' ', ' ', ' ', ' ', ' ', ' ', ' #']\n",
            "\n",
            "\n"
          ]
        }
      ],
      "source": [
        "test_phrase = 'Tenho uma string com 4674 e uma #hashtag'\n",
        "\n",
        "test_patterns=[ r'\\d+', # sequencia de dígitos\n",
        "                r'\\D+', # sequencia de não-dígitos\n",
        "                r'\\s+', # sequencia de espaços em branco\n",
        "                r'\\S+', # sequencia de não-espaços em branco\n",
        "                r'\\w+', # caracteres alfanumericos\n",
        "                r'\\W+', # não-alfanumericos\n",
        "                ]\n",
        "\n",
        "multi_re_find(test_patterns,test_phrase)"
      ]
    },
    {
      "cell_type": "markdown",
      "source": [
        "#Exemplo HAREM"
      ],
      "metadata": {
        "id": "9Ws-gIVRgYL1"
      }
    },
    {
      "cell_type": "markdown",
      "source": [
        "##Exemplos no ALiB"
      ],
      "metadata": {
        "id": "wWjTjRJ8gyC4"
      }
    },
    {
      "cell_type": "code",
      "source": [
        "df = pd.DataFrame(columns = ['Termo', 'Frase'])"
      ],
      "metadata": {
        "id": "A_XnmsdOgyC5"
      },
      "execution_count": null,
      "outputs": []
    },
    {
      "cell_type": "markdown",
      "source": [
        "###Palavras com partes parecidas"
      ],
      "metadata": {
        "id": "IdL0wkLPgyC5"
      }
    },
    {
      "cell_type": "code",
      "source": [
        "#https://regex101.com/r/2Yg6zf/1\n",
        "\n",
        "patterns = ['(\\s[sS]ina(?:leiro|leira|l)\\s)',\n",
        "            '(\\s[mM]ac(?:aco|aca|acão)\\s)',\n",
        "            '(\\s[rR]am(?:peira|eira)\\s)']"
      ],
      "metadata": {
        "id": "op8dQ5GhgyC6"
      },
      "execution_count": null,
      "outputs": []
    },
    {
      "cell_type": "code",
      "source": [
        "for pattern in patterns:\n",
        "    print_sentences(pattern)\n",
        "\n",
        "print(df)"
      ],
      "metadata": {
        "colab": {
          "base_uri": "https://localhost:8080/"
        },
        "outputId": "c7d498d2-1956-42bf-d64a-eb8a12e29770",
        "id": "5Q1jDcnZgyC6"
      },
      "execution_count": null,
      "outputs": [
        {
          "output_type": "stream",
          "name": "stdout",
          "text": [
            "        Termo                                              Frase\n",
            "0      sinal   A operação especial de limpeza, iniciada às 7h...\n",
            "1      sinal   A menos que a junta militar de Rangun dê hoje ...\n",
            "2      sinal   A tecnologia de RFID tem suas raízes nos siste...\n",
            "3      sinal   Sob o comando de Watson-Watt, que liderou um p...\n",
            "4      sinal   Mas ela própria sublinhou que não há lugar par...\n",
            "5      sinal   O primeiro sinal de que alguma coisa de anorma...\n",
            "6      sinal   A Comunidade Europeia produziu em 1990 um Livr...\n",
            "7      sinal   Mas mesmo que isso seja um sinal de que Michae...\n",
            "8      sinal   Contudo, a autorização de fortificar os estrei...\n",
            "9      sinal   Além disso, os guardas espancaram três element...\n",
            "10     sinal   O simples facto de estar já lançado em força o...\n",
            "11     sinal   Muita gente atribui esse vazio às crescentes d...\n",
            "12     sinal   Grupúsculos mais radicais -- isolados e com es...\n",
            "13     sinal   Já foi dito que quando a eliminação de uma vid...\n",
            "14     sinal   Alesi foi o melhor a reagir ao sinal verde, pa...\n",
            "15     sinal   Os actos de justiça privada são inaceitáveis n...\n",
            "16     sinal   O ANC, que, há 40 anos, por sinal nessa mesma ...\n",
            "17     sinal   É preciso ser muito forte, e preciso perceber,...\n",
            "18     sinal   Um navio da guarda-costeira canadiana encontro...\n",
            "19     sinal   Moçambique repleta de sul-africanos é sinal de...\n",
            "20     sinal   Este deputado, que tem vindo a denunciar a vio...\n",
            "21     sinal   Em sua opinião, a Cimeira de Essen deverá emit...\n",
            "22     sinal   Ao aparelho faltava um sinal electrónico para ...\n",
            "23     sinal   É perceptível, quando se escuta Mills, que ape...\n",
            "24     sinal   As faixas de segurança são o melhor exemplo pa...\n",
            "25     sinal   O sistema GPS foi criado e é controlado pelo\\n...\n",
            "26     sinal   Moçambique repleta de sul-africanos é sinal de...\n",
            "27     sinal   De um modo geral, pode-se dizer que estas elei...\n",
            "28     sinal   Entre os mais velhos de São Filipe duas person...\n",
            "29     Sinal   A África do Sul já tem Governo de Unidade Naci...\n",
            "30     sinal   Nos círculos políticos de Londres comentava-se...\n",
            "31     sinal   delas, dá o aviso, às vezes soltando um foguet...\n",
            "32     sinal   A multidão, que foi crescendo ao longo do dia,...\n",
            "33     sinal                            Mais um sinal para Leste\n",
            "34     sinal   1. O primeiro sinal é o facto do «pós-comunist...\n",
            "35     sinal   Os novos fogos vão ser construídos na Rua Nasc...\n",
            "36     sinal     P. -- Espera algum sinal dos EUA nesse sentido?\n",
            "37     sinal   R. -- Espero um sinal muito claro do President...\n",
            "38     sinal   R. -- Não penso que represente uma alteração f...\n",
            "39     sinal   R. -- Já foi um excelente gesto da nossa parte...\n",
            "40     sinal   R. -- Esse caso, que referiu, foi, a meu ver, ...\n",
            "41     sinal   O oficioso «Jornal de Angola» dizia ontem, em ...\n",
            "42     sinal   Fundamentalmente por causa do sentido da trans...\n",
            "43     sinal   Sintoma da violência habitual, vingança dos ac...\n",
            "44     sinal   Autorizada durante todo este tempo a receber a...\n",
            "45     sinal   O Santa Joana -- propriedade do armador Silva ...\n",
            "46     sinal   Uma tarefa imensa e recheada de escolhos. Prev...\n",
            "47     sinal   O simples facto de estar já lançado em força o...\n",
            "48     sinal   O susto foi maior do que os danos. Ainda assim...\n",
            "49     sinal   Costa Alentejana -- O cenário que já pairou so...\n",
            "50     sinal   No Ruanda, no Iraque, na Argentina, em Marroco...\n",
            "51     sinal   Os EUA foram representados pelo vice-president...\n",
            "52    macaco   Elisabeth, Luciana, Diego e Luís Frederico tiv...\n",
            "53   macacão   O Williams de 94 também é tabagista até exager...\n",
            "54    Macaco   E adorei a foto da Xuxa passeando de bugue com...\n"
          ]
        }
      ]
    },
    {
      "cell_type": "markdown",
      "source": [
        "###Expressão/Palavra composta"
      ],
      "metadata": {
        "id": "VKjuJyXwgyC6"
      }
    },
    {
      "cell_type": "code",
      "source": [
        "patterns2 = ['\\s(porta[- ]?seio)\\s',\n",
        "            '\\s(garota[- ]?de[- ]?programa)\\s']"
      ],
      "metadata": {
        "id": "bFyh8lpygyC7"
      },
      "execution_count": null,
      "outputs": []
    },
    {
      "cell_type": "code",
      "source": [
        "for pattern in patterns2:\n",
        "    print_sentences(pattern)\n",
        "\n",
        "print(df)"
      ],
      "metadata": {
        "colab": {
          "base_uri": "https://localhost:8080/"
        },
        "outputId": "076d98b6-6c96-468b-9141-4f3dcfac7f7e",
        "id": "E2DkdFMPgyC7"
      },
      "execution_count": null,
      "outputs": [
        {
          "output_type": "stream",
          "name": "stdout",
          "text": [
            "        Termo                                              Frase\n",
            "0      sinal   A operação especial de limpeza, iniciada às 7h...\n",
            "1      sinal   A menos que a junta militar de Rangun dê hoje ...\n",
            "2      sinal   A tecnologia de RFID tem suas raízes nos siste...\n",
            "3      sinal   Sob o comando de Watson-Watt, que liderou um p...\n",
            "4      sinal   Mas ela própria sublinhou que não há lugar par...\n",
            "5      sinal   O primeiro sinal de que alguma coisa de anorma...\n",
            "6      sinal   A Comunidade Europeia produziu em 1990 um Livr...\n",
            "7      sinal   Mas mesmo que isso seja um sinal de que Michae...\n",
            "8      sinal   Contudo, a autorização de fortificar os estrei...\n",
            "9      sinal   Além disso, os guardas espancaram três element...\n",
            "10     sinal   O simples facto de estar já lançado em força o...\n",
            "11     sinal   Muita gente atribui esse vazio às crescentes d...\n",
            "12     sinal   Grupúsculos mais radicais -- isolados e com es...\n",
            "13     sinal   Já foi dito que quando a eliminação de uma vid...\n",
            "14     sinal   Alesi foi o melhor a reagir ao sinal verde, pa...\n",
            "15     sinal   Os actos de justiça privada são inaceitáveis n...\n",
            "16     sinal   O ANC, que, há 40 anos, por sinal nessa mesma ...\n",
            "17     sinal   É preciso ser muito forte, e preciso perceber,...\n",
            "18     sinal   Um navio da guarda-costeira canadiana encontro...\n",
            "19     sinal   Moçambique repleta de sul-africanos é sinal de...\n",
            "20     sinal   Este deputado, que tem vindo a denunciar a vio...\n",
            "21     sinal   Em sua opinião, a Cimeira de Essen deverá emit...\n",
            "22     sinal   Ao aparelho faltava um sinal electrónico para ...\n",
            "23     sinal   É perceptível, quando se escuta Mills, que ape...\n",
            "24     sinal   As faixas de segurança são o melhor exemplo pa...\n",
            "25     sinal   O sistema GPS foi criado e é controlado pelo\\n...\n",
            "26     sinal   Moçambique repleta de sul-africanos é sinal de...\n",
            "27     sinal   De um modo geral, pode-se dizer que estas elei...\n",
            "28     sinal   Entre os mais velhos de São Filipe duas person...\n",
            "29     Sinal   A África do Sul já tem Governo de Unidade Naci...\n",
            "30     sinal   Nos círculos políticos de Londres comentava-se...\n",
            "31     sinal   delas, dá o aviso, às vezes soltando um foguet...\n",
            "32     sinal   A multidão, que foi crescendo ao longo do dia,...\n",
            "33     sinal                            Mais um sinal para Leste\n",
            "34     sinal   1. O primeiro sinal é o facto do «pós-comunist...\n",
            "35     sinal   Os novos fogos vão ser construídos na Rua Nasc...\n",
            "36     sinal     P. -- Espera algum sinal dos EUA nesse sentido?\n",
            "37     sinal   R. -- Espero um sinal muito claro do President...\n",
            "38     sinal   R. -- Não penso que represente uma alteração f...\n",
            "39     sinal   R. -- Já foi um excelente gesto da nossa parte...\n",
            "40     sinal   R. -- Esse caso, que referiu, foi, a meu ver, ...\n",
            "41     sinal   O oficioso «Jornal de Angola» dizia ontem, em ...\n",
            "42     sinal   Fundamentalmente por causa do sentido da trans...\n",
            "43     sinal   Sintoma da violência habitual, vingança dos ac...\n",
            "44     sinal   Autorizada durante todo este tempo a receber a...\n",
            "45     sinal   O Santa Joana -- propriedade do armador Silva ...\n",
            "46     sinal   Uma tarefa imensa e recheada de escolhos. Prev...\n",
            "47     sinal   O simples facto de estar já lançado em força o...\n",
            "48     sinal   O susto foi maior do que os danos. Ainda assim...\n",
            "49     sinal   Costa Alentejana -- O cenário que já pairou so...\n",
            "50     sinal   No Ruanda, no Iraque, na Argentina, em Marroco...\n",
            "51     sinal   Os EUA foram representados pelo vice-president...\n",
            "52    macaco   Elisabeth, Luciana, Diego e Luís Frederico tiv...\n",
            "53   macacão   O Williams de 94 também é tabagista até exager...\n",
            "54    Macaco   E adorei a foto da Xuxa passeando de bugue com...\n"
          ]
        }
      ]
    },
    {
      "cell_type": "markdown",
      "source": [
        "###Outros termos do ALiB"
      ],
      "metadata": {
        "id": "qxj4F-pcgyC7"
      }
    },
    {
      "cell_type": "code",
      "source": [
        "terms = ['amarelinha', 'academia', 'avião', 'maré', 'caracol', 'sapata', 'sutiã',\n",
        "         'corpete', 'califom', 'goleiro', 'prostituta', 'puta', 'prima', 'rapariga',\n",
        "         'meretriz', 'quenga', 'biscate', 'quadrado', 'coruja', 'pipa', 'papagaio',\n",
        "         'peixinho', 'raia', 'pandorga', 'rabiola', 'cangula', 'curica', 'pepeta',\n",
        "         'ratinho', 'periquito', 'bolachinha', 'caixotinho', 'caixotinha', 'capocheta',\n",
        "         'jereco', 'bala', 'bombom', 'queimado', 'caramelo', 'confeito', 'farol', 'luminoso'\n",
        "         ]"
      ],
      "metadata": {
        "id": "56ELMLARgyC7"
      },
      "execution_count": null,
      "outputs": []
    },
    {
      "cell_type": "code",
      "source": [
        "for term in terms:\n",
        "    print_sentences(term)\n",
        "\n",
        "print(df)"
      ],
      "metadata": {
        "colab": {
          "base_uri": "https://localhost:8080/"
        },
        "outputId": "cd113605-d007-497e-e5e1-2de9c8df6254",
        "id": "2HK8L5MJgyC8"
      },
      "execution_count": null,
      "outputs": [
        {
          "output_type": "stream",
          "name": "stdout",
          "text": [
            "        Termo                                              Frase\n",
            "0      sinal   A operação especial de limpeza, iniciada às 7h...\n",
            "1      sinal   A menos que a junta militar de Rangun dê hoje ...\n",
            "2      sinal   A tecnologia de RFID tem suas raízes nos siste...\n",
            "3      sinal   Sob o comando de Watson-Watt, que liderou um p...\n",
            "4      sinal   Mas ela própria sublinhou que não há lugar par...\n",
            "..        ...                                                ...\n",
            "854     farol  Apesar de permitir a ascenção individual ou fa...\n",
            "855     farol  O «tall ship» Alexander von Humboldt -- um nav...\n",
            "856     farol  «Esse projecto é o resultado de um sonho do ca...\n",
            "857  luminoso  Os mupis, que proliferam um pouco pelos passei...\n",
            "858  luminoso  O alemão Michael Schumacher, folgado líder do ...\n",
            "\n",
            "[859 rows x 2 columns]\n"
          ]
        }
      ]
    },
    {
      "cell_type": "markdown",
      "source": [
        "###Resultados"
      ],
      "metadata": {
        "id": "gv4bDAO9gyC8"
      }
    },
    {
      "cell_type": "code",
      "source": [
        "df['Termo'].value_counts()"
      ],
      "metadata": {
        "colab": {
          "base_uri": "https://localhost:8080/"
        },
        "outputId": "618f0fe4-293c-4567-a368-210c43cd86b8",
        "id": "AIynbWUogyC8"
      },
      "execution_count": null,
      "outputs": [
        {
          "output_type": "execute_result",
          "data": {
            "text/plain": [
              "puta          275\n",
              "raia          198\n",
              "bala           90\n",
              "avião          85\n",
              " sinal         51\n",
              "maré           32\n",
              "prima          32\n",
              "quadrado       22\n",
              "rapariga       19\n",
              "prostituta     10\n",
              "queimado        9\n",
              "ratinho         8\n",
              "academia        7\n",
              "goleiro         5\n",
              "farol           3\n",
              "pipa            3\n",
              "luminoso        2\n",
              " macacão        1\n",
              " macaco         1\n",
              "amarelinha      1\n",
              "papagaio        1\n",
              " Sinal          1\n",
              "sapata          1\n",
              " Macaco         1\n",
              "biscate         1\n",
              "Name: Termo, dtype: int64"
            ]
          },
          "metadata": {},
          "execution_count": 16
        }
      ]
    }
  ]
}