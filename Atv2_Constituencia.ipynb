{
  "nbformat": 4,
  "nbformat_minor": 0,
  "metadata": {
    "colab": {
      "provenance": [],
      "collapsed_sections": [
        "roIbMbDyycjI",
        "zPXw9mDJnQYH",
        "b7rGflcInTeA",
        "JVpE93OenUIG",
        "k5nDqcUmnUbb",
        "E1J6T6IRnU7c",
        "_nh1vn96x6_N",
        "e4jUDbrMcgds"
      ],
      "authorship_tag": "ABX9TyOCok35yec1ySQzkFi6Gwkd",
      "include_colab_link": true
    },
    "kernelspec": {
      "name": "python3",
      "display_name": "Python 3"
    },
    "language_info": {
      "name": "python"
    }
  },
  "cells": [
    {
      "cell_type": "markdown",
      "metadata": {
        "id": "view-in-github",
        "colab_type": "text"
      },
      "source": [
        "<a href=\"https://colab.research.google.com/github/lailamt/mate34/blob/main/Atv2_Constituencia.ipynb\" target=\"_parent\"><img src=\"https://colab.research.google.com/assets/colab-badge.svg\" alt=\"Open In Colab\"/></a>"
      ]
    },
    {
      "cell_type": "code",
      "execution_count": null,
      "metadata": {
        "id": "glupfmi_roOa"
      },
      "outputs": [],
      "source": [
        "import nltk"
      ]
    },
    {
      "cell_type": "code",
      "source": [
        "nltk.download('punkt')"
      ],
      "metadata": {
        "colab": {
          "base_uri": "https://localhost:8080/"
        },
        "id": "rSULjJs07wSV",
        "outputId": "e0f9c974-eb85-4a2e-bb93-35caa4da354c"
      },
      "execution_count": null,
      "outputs": [
        {
          "output_type": "stream",
          "name": "stderr",
          "text": [
            "[nltk_data] Downloading package punkt to /root/nltk_data...\n",
            "[nltk_data]   Unzipping tokenizers/punkt.zip.\n"
          ]
        },
        {
          "output_type": "execute_result",
          "data": {
            "text/plain": [
              "True"
            ]
          },
          "metadata": {},
          "execution_count": 3
        }
      ]
    },
    {
      "cell_type": "code",
      "source": [
        "#############################\n",
        "# 1. lower-case da sentença\n",
        "# 2. remover pontuações ou adicionar pontuações na gramática (melhor tirar)\n",
        "# 3. Quantas sentenças ele conseguiria fazer?\n",
        "#############################"
      ],
      "metadata": {
        "id": "woQBkh9svzzl"
      },
      "execution_count": null,
      "outputs": []
    },
    {
      "cell_type": "code",
      "source": [
        "bosque = nltk.CFG.fromstring('''\n",
        "... S -> acl | fcl | icl | cu\n",
        "... acl -> np pp | conj-s pp\n",
        "... fcl -> np np vp np | icl np vp np icl | vp np advp np | advp np vp advp v-pcp | cu advp vp np pp | advp vp fcl | np vp | np vp pp\n",
        "... icl -> vp advp | vp np | vp pp | np vp\n",
        "\n",
        "... np -> art n pp | art prop | art n | prop | art n | n | n icl | art n adjp fcl | art n adjp | art adj n np pp | num n | art n np | pron-pers | pron-indp | pron-det pp | art adj n\n",
        "... pp -> prp np | prp icl\n",
        "... vp -> v-pcp | v-fin | v-ger | v-inf | v-fin v-inf\n",
        "... advp -> adv | adv adv acl | adv adv\n",
        "... pp -> prp np\n",
        "... cu -> conj-c np conj-c np | fcl conj-c fcl\n",
        "\n",
        "... prop -> 'BRASÍLIA' | 'PT' | 'Fernando_Henrique_Cardoso' | 'Lula'\n",
        "... prp -> 'em' |'de' | 'para' | 'com'\n",
        "... art -> 'um' | 'uma' | 'a' | 'os' | 'o' | 'as'\n",
        "... n -> 'tempos' | 'ditadura' | 'solidez' | 'governo' | 'sentido' | 'oposição' | 'prioridades' | 'governo' | 'Pesquisa_Datafolha' | 'dado' | 'postura' | 'maioria' | '%' | 'eleitores' | 'Governo' | 'partido' | 'discurso'\n",
        "... v-pcp -> 'publicada' | 'ameaçada'\n",
        "... v-fin -> 'revela' | 'quer' | 'Tem' | 'está' | 'encontraram' | 'dizem' | 'informaram' | 'vão' | 'coincidem'\n",
        "... v-inf -> 'diferenciar' | 'combater'\n",
        "... adj -> 'supreendente' | 'radical' | 'esmagadora' | 'novo'\n",
        "... adv -> 'aliás' | 'hoje' | 'Muito' | 'mais' | 'agora' | 'ainda' | 'não'\n",
        "... v-ger -> 'recusando' | 'participando'\n",
        "... num -> '77'\n",
        "... pron-det -> 'muitíssimo'\n",
        "... conj-s -> 'do_que'\n",
        "... conj-c -> 'Nem' | 'nem' | 'mas'\n",
        "... pron-pers -> 'se' | 'Eles' | 'se'\n",
        "... pron-indp -> 'o_que'\n",
        "... pron-det -> 'Muitas'\n",
        "\n",
        "''')"
      ],
      "metadata": {
        "id": "bEDklG56XKo5"
      },
      "execution_count": null,
      "outputs": []
    },
    {
      "cell_type": "code",
      "source": [
        "sent = 'PT em o governo'\n",
        "tokens = nltk.word_tokenize(sent)\n",
        "print(f'tokens: {tokens}')\n",
        "parser = nltk.ChartParser(bosque)\n",
        "#print(f'parser: {parser}')\n",
        "for tree in parser.parse(tokens):\n",
        "  print(tree)\n",
        "  tree.pretty_print()"
      ],
      "metadata": {
        "colab": {
          "base_uri": "https://localhost:8080/"
        },
        "id": "cksbJdWMs88Y",
        "outputId": "43eabec8-24ae-4190-e619-3b68ef16fe7a"
      },
      "execution_count": null,
      "outputs": [
        {
          "output_type": "stream",
          "name": "stdout",
          "text": [
            "tokens: ['PT', 'em', 'o', 'governo']\n",
            "(S (acl (np (prop PT)) (pp (prp em) (np (art o) (n governo)))))\n",
            "          S                 \n",
            "          |                  \n",
            "         acl                \n",
            "  ________|___               \n",
            " |            pp            \n",
            " |     _______|___           \n",
            " np   |           np        \n",
            " |    |        ___|_____     \n",
            "prop prp     art        n   \n",
            " |    |       |         |    \n",
            " PT   em      o      governo\n",
            "\n"
          ]
        }
      ]
    },
    {
      "cell_type": "code",
      "source": [
        "print(nltk.parse.generate(bosque, start='S', n=25)"
      ],
      "metadata": {
        "colab": {
          "base_uri": "https://localhost:8080/",
          "height": 166
        },
        "id": "e98vbM9IAhYw",
        "outputId": "30282924-9ca4-4117-b2d0-4ed37807dd95"
      },
      "execution_count": null,
      "outputs": [
        {
          "output_type": "error",
          "ename": "AttributeError",
          "evalue": "ignored",
          "traceback": [
            "\u001b[0;31m---------------------------------------------------------------------------\u001b[0m",
            "\u001b[0;31mAttributeError\u001b[0m                            Traceback (most recent call last)",
            "\u001b[0;32m<ipython-input-6-98468d4ea5a0>\u001b[0m in \u001b[0;36m<module>\u001b[0;34m\u001b[0m\n\u001b[0;32m----> 1\u001b[0;31m \u001b[0mnltk\u001b[0m\u001b[0;34m.\u001b[0m\u001b[0mparse\u001b[0m\u001b[0;34m.\u001b[0m\u001b[0mgenerate\u001b[0m\u001b[0;34m.\u001b[0m\u001b[0mgenerate\u001b[0m\u001b[0;34m(\u001b[0m\u001b[0mbosque\u001b[0m\u001b[0;34m,\u001b[0m \u001b[0mstart\u001b[0m\u001b[0;34m=\u001b[0m\u001b[0;34m'S'\u001b[0m\u001b[0;34m,\u001b[0m \u001b[0mn\u001b[0m\u001b[0;34m=\u001b[0m\u001b[0;36m25\u001b[0m\u001b[0;34m)\u001b[0m\u001b[0;34m\u001b[0m\u001b[0;34m\u001b[0m\u001b[0m\n\u001b[0m",
            "\u001b[0;31mAttributeError\u001b[0m: module 'nltk.parse' has no attribute 'generate'"
          ]
        }
      ]
    },
    {
      "cell_type": "markdown",
      "source": [
        "####Sent 0"
      ],
      "metadata": {
        "id": "roIbMbDyycjI"
      }
    },
    {
      "cell_type": "code",
      "source": [
        "bosque0 = nltk.CFG.fromstring('''\n",
        "... S -> acl\n",
        "... acl -> np pp\n",
        "\n",
        "... np  ->  prop | art n \n",
        "... pp -> prp np |  \n",
        "... prop -> 'PT'\n",
        "... prp -> 'em'\n",
        "... art -> 'o'\n",
        "... n -> 'governo'\n",
        "''')"
      ],
      "metadata": {
        "id": "1rYmE8ym-lm2"
      },
      "execution_count": null,
      "outputs": []
    },
    {
      "cell_type": "code",
      "source": [
        "print(bosque0)\n",
        "print(bosque0.start())\n",
        "print(bosque0.productions())"
      ],
      "metadata": {
        "colab": {
          "base_uri": "https://localhost:8080/"
        },
        "id": "YH4mfTFdB1Zd",
        "outputId": "ef6df515-dfc3-4d55-9416-fff6c0f69cd2"
      },
      "execution_count": null,
      "outputs": [
        {
          "output_type": "stream",
          "name": "stdout",
          "text": [
            "Grammar with 10 productions (start state = S)\n",
            "    S -> acl\n",
            "    acl -> np pp\n",
            "    np -> prop\n",
            "    np -> art n\n",
            "    pp -> prp np\n",
            "    pp -> \n",
            "    prop -> 'PT'\n",
            "    prp -> 'em'\n",
            "    art -> 'o'\n",
            "    n -> 'governo'\n",
            "S\n",
            "[S -> acl, acl -> np pp, np -> prop, np -> art n, pp -> prp np, pp -> , prop -> 'PT', prp -> 'em', art -> 'o', n -> 'governo']\n"
          ]
        }
      ]
    },
    {
      "cell_type": "code",
      "source": [
        "sent = 'PT em o governo'\n",
        "tokens = nltk.word_tokenize(sent)\n",
        "print(f'tokens: {tokens}')\n",
        "parser = nltk.ChartParser(bosque0)\n",
        "#print(f'parser: {parser}')\n",
        "for tree in parser.parse(tokens):\n",
        "  print(tree)\n",
        "  tree.pretty_print()"
      ],
      "metadata": {
        "colab": {
          "base_uri": "https://localhost:8080/"
        },
        "id": "R2zei_WXB6Ic",
        "outputId": "e4edc8f4-4fd5-467c-8c79-4f5db1d67a34"
      },
      "execution_count": null,
      "outputs": [
        {
          "output_type": "stream",
          "name": "stdout",
          "text": [
            "tokens: ['PT', 'em', 'o', 'governo']\n",
            "(S (acl (np (prop PT)) (pp (prp em) (np (art o) (n governo)))))\n",
            "          S                 \n",
            "          |                  \n",
            "         acl                \n",
            "  ________|___               \n",
            " |            pp            \n",
            " |     _______|___           \n",
            " np   |           np        \n",
            " |    |        ___|_____     \n",
            "prop prp     art        n   \n",
            " |    |       |         |    \n",
            " PT   em      o      governo\n",
            "\n"
          ]
        }
      ]
    },
    {
      "cell_type": "markdown",
      "source": [
        "####Sent 1"
      ],
      "metadata": {
        "id": "zPXw9mDJnQYH"
      }
    },
    {
      "cell_type": "code",
      "source": [
        "bosque1 = nltk.CFG.fromstring('''\n",
        "... S -> acl | fcl | icl\n",
        "... acl -> np pp | \n",
        "... fcl -> np np vp np | icl np vp np icl\n",
        "... icl -> vp advp | vp np | vp pp\n",
        "\n",
        "... np  ->  prop | art n | n | n icl | art n adjp fcl | art n adjp | art adj n np pp | num n | art prop | art n np\n",
        "... pp -> prp np |  \n",
        "... vp -> v-pcp | v-fin | v-ger\n",
        "... advp -> adv\n",
        "... adjp -> adj\n",
        "... prop -> 'BRASÍLIA' | 'PT' | 'Fernando_Henrique_Cardoso'\n",
        "... prp -> 'em' | 'de'\n",
        "... art -> 'um' | 'uma' | 'a' | 'os' | 'o'\n",
        "... n -> 'Pesquisa_Datafolha' | 'dado' | 'postura' | 'maioria' | '%' | 'eleitores' | 'Governo'\n",
        "... v-pcp -> 'publicada'\n",
        "... v-fin -> 'revela' | 'quer'\n",
        "... adj -> 'supreendente' | 'radical' | 'esmagadora'\n",
        "... adv -> 'hoje'\n",
        "... v-ger -> 'recusando' | 'participando'\n",
        "... num -> '77'\n",
        "''')"
      ],
      "metadata": {
        "id": "ZMGCQst9m_Od"
      },
      "execution_count": null,
      "outputs": []
    },
    {
      "cell_type": "code",
      "source": [
        "sent = 'BRASÍLIA Pesquisa_Datafolha publicada hoje revela um dado supreendente recusando uma postura radical a esmagadora maioria 77 % de os eleitores quer o PT participando de o Governo Fernando_Henrique_Cardoso'\n",
        "tokens = nltk.word_tokenize(sent)\n",
        "print(f'tokens: {tokens}')\n",
        "parser = nltk.ChartParser(bosque1)\n",
        "#print(f'parser: {parser}')\n",
        "for tree in parser.parse(tokens):\n",
        "  print(tree)\n",
        "  tree.pretty_print()"
      ],
      "metadata": {
        "colab": {
          "base_uri": "https://localhost:8080/"
        },
        "id": "XHbhSXrBnDDg",
        "outputId": "0fcc1c49-db87-435e-97e0-e591dd89bf82"
      },
      "execution_count": null,
      "outputs": [
        {
          "output_type": "stream",
          "name": "stdout",
          "text": [
            "tokens: ['BRASÍLIA', 'Pesquisa_Datafolha', 'publicada', 'hoje', 'revela', 'um', 'dado', 'supreendente', 'recusando', 'uma', 'postura', 'radical', 'a', 'esmagadora', 'maioria', '77', '%', 'de', 'os', 'eleitores', 'quer', 'o', 'PT', 'participando', 'de', 'o', 'Governo', 'Fernando_Henrique_Cardoso']\n",
            "(S\n",
            "  (fcl\n",
            "    (np (prop BRASÍLIA))\n",
            "    (np\n",
            "      (n Pesquisa_Datafolha)\n",
            "      (icl (vp (v-pcp publicada)) (advp (adv hoje))))\n",
            "    (vp (v-fin revela))\n",
            "    (np\n",
            "      (art um)\n",
            "      (n dado)\n",
            "      (adjp (adj supreendente))\n",
            "      (fcl\n",
            "        (icl\n",
            "          (vp (v-ger recusando))\n",
            "          (np (art uma) (n postura) (adjp (adj radical))))\n",
            "        (np\n",
            "          (art a)\n",
            "          (adj esmagadora)\n",
            "          (n maioria)\n",
            "          (np (num 77) (n %))\n",
            "          (pp (prp de) (np (art os) (n eleitores))))\n",
            "        (vp (v-fin quer))\n",
            "        (np (art o) (prop PT))\n",
            "        (icl\n",
            "          (vp (v-ger participando))\n",
            "          (pp\n",
            "            (prp de)\n",
            "            (np\n",
            "              (art o)\n",
            "              (n Governo)\n",
            "              (np (prop Fernando_Henrique_Cardoso)))))))))\n",
            "                                                                                                                    S                                                                                                                    \n",
            "                                                                                                                    |                                                                                                                     \n",
            "                                                                                                                   fcl                                                                                                                   \n",
            "    ________________________________________________________________________________________________________________|_______________________                                                                                              \n",
            "   |                          |                |                                                                                            np                                                                                           \n",
            "   |                          |                |      ______________________________________________________________________________________|___                                                                                          \n",
            "   |                          |                |     |   |        |                                                                            fcl                                                                                       \n",
            "   |                          |                |     |   |        |                       ______________________________________________________|_________________________________________________________                                \n",
            "   |                          |                |     |   |        |                      |                                          |                                  |        |                        icl                             \n",
            "   |                          |                |     |   |        |                      |                                          |                                  |        |             ____________|___                            \n",
            "   |                          np               |     |   |        |                     icl                                         np                                 |        |            |                pp                         \n",
            "   |             _____________|______          |     |   |        |            __________|_____               ______________________|_______________                   |        |            |         _______|_____                      \n",
            "   |            |                   icl        |     |   |        |           |                np            |      |         |         |           pp                 |        |            |        |             np                   \n",
            "   |            |              ______|___      |     |   |        |           |       _________|_______      |      |         |         |        ___|___               |        |            |        |    _________|___________          \n",
            "   np           |             vp        advp   vp    |   |       adjp         vp     |         |      adjp   |      |         |         np      |       np             vp       np           vp       |   |         |           np       \n",
            "   |            |             |          |     |     |   |        |           |      |         |       |     |      |         |      ___|___    |    ___|______        |     ___|___         |        |   |         |           |         \n",
            "  prop          n           v-pcp       adv  v-fin  art  n       adj        v-ger   art        n      adj   art    adj        n    num      n  prp art         n     v-fin art     prop    v-ger     prp art        n          prop      \n",
            "   |            |             |          |     |     |   |        |           |      |         |       |     |      |         |     |       |   |   |          |       |    |       |        |        |   |         |           |         \n",
            "BRASÍLIA Pesquisa_Datafol publicada     hoje revela  um dado supreendente recusando uma     postura radical  a  esmagadora maioria  77      %   de  os     eleitores  quer  o       PT  participando  de  o      Governo Fernando_Henriqu\n",
            "                ha                                                                                                                                                                                                          e_Cardoso    \n",
            "\n"
          ]
        }
      ]
    },
    {
      "cell_type": "markdown",
      "source": [
        "####Sent 2"
      ],
      "metadata": {
        "id": "b7rGflcInTeA"
      }
    },
    {
      "cell_type": "code",
      "source": [
        "bosque2 = nltk.CFG.fromstring('''\n",
        "... S -> fcl\n",
        "... fcl -> vp np advp np \n",
        "\n",
        "... np -> prop | art n | n | pron-det n\n",
        "... vp -> v-fin\n",
        "... n -> 'sentido'\n",
        "... v-fin -> 'Tem'\n",
        "... advp -> adv\n",
        "... adv -> 'aliás'\n",
        "... pron-det -> 'muitíssimo'\n",
        "\n",
        "''')"
      ],
      "metadata": {
        "id": "QJqkKvsypnaS"
      },
      "execution_count": null,
      "outputs": []
    },
    {
      "cell_type": "code",
      "source": [
        "sent = 'Tem sentido aliás muitíssimo sentido'\n",
        "#-- '\n",
        "tokens = nltk.word_tokenize(sent)\n",
        "print(f'tokens: {tokens}')\n",
        "parser = nltk.ChartParser(bosque2)\n",
        "#print(f'parser: {parser}')\n",
        "for tree in parser.parse(tokens):\n",
        "  print(tree)\n",
        "  tree.pretty_print()"
      ],
      "metadata": {
        "id": "c1a7vLOmpn0-",
        "colab": {
          "base_uri": "https://localhost:8080/"
        },
        "outputId": "abfd309e-f8aa-44cf-8bef-2561eb1d9f8f"
      },
      "execution_count": null,
      "outputs": [
        {
          "output_type": "stream",
          "name": "stdout",
          "text": [
            "tokens: ['Tem', 'sentido', 'aliás', 'muitíssimo', 'sentido']\n",
            "(S\n",
            "  (fcl\n",
            "    (vp (v-fin Tem))\n",
            "    (np (n sentido))\n",
            "    (advp (adv aliás))\n",
            "    (np (pron-det muitíssimo) (n sentido))))\n",
            "                S                         \n",
            "                |                          \n",
            "               fcl                        \n",
            "   _____________|_______________           \n",
            "  vp     np    advp             np        \n",
            "  |      |      |        _______|_____     \n",
            "v-fin    n     adv   pron-det         n   \n",
            "  |      |      |       |             |    \n",
            " Tem  sentido aliás muitíssimo     sentido\n",
            "\n"
          ]
        }
      ]
    },
    {
      "cell_type": "markdown",
      "source": [
        "####Sent 3"
      ],
      "metadata": {
        "id": "JVpE93OenUIG"
      }
    },
    {
      "cell_type": "code",
      "source": [
        "bosque3 = nltk.CFG.fromstring('''\n",
        "... S -> fcl\n",
        "... fcl -> advp np vp advp v-pcp\n",
        "... acl -> conj-s pp\n",
        "... advp -> adv adv acl | adv\n",
        "... adv -> 'Muito' | 'mais' | 'agora'\n",
        "... conj-s -> 'do_que'\n",
        "... pp -> prp np\n",
        "... prp -> 'em' | 'de'\n",
        "... np -> art n pp | art prop | art n\n",
        "... art -> 'os' | 'a' | 'o'\n",
        "... n -> 'tempos' | 'ditadura' | 'solidez'\n",
        "... prop -> 'PT'\n",
        "... vp -> v-fin\n",
        "... v-fin -> 'está'\n",
        "... v-pcp -> 'ameaçada'\n",
        "''')"
      ],
      "metadata": {
        "id": "Xs5OJDIvpov5"
      },
      "execution_count": null,
      "outputs": []
    },
    {
      "cell_type": "code",
      "source": [
        "sent = 'Muito mais do_que em os tempos em a ditadura a solidez de o PT está agora ameaçada'\n",
        "tokens = nltk.word_tokenize(sent)\n",
        "print(f'tokens: {tokens}')\n",
        "parser = nltk.ChartParser(bosque3)\n",
        "#print(f'parser: {parser}')\n",
        "for tree in parser.parse(tokens):\n",
        "  print(tree)\n",
        "  tree.pretty_print()"
      ],
      "metadata": {
        "id": "BvsrDLRLppFC",
        "colab": {
          "base_uri": "https://localhost:8080/"
        },
        "outputId": "f119f384-ca74-49bd-e151-cb55def8dfa4"
      },
      "execution_count": null,
      "outputs": [
        {
          "output_type": "stream",
          "name": "stdout",
          "text": [
            "tokens: ['Muito', 'mais', 'do_que', 'em', 'os', 'tempos', 'em', 'a', 'ditadura', 'a', 'solidez', 'de', 'o', 'PT', 'está', 'agora', 'ameaçada']\n",
            "(S\n",
            "  (fcl\n",
            "    (advp\n",
            "      (adv Muito)\n",
            "      (adv mais)\n",
            "      (acl\n",
            "        (conj-s do_que)\n",
            "        (pp\n",
            "          (prp em)\n",
            "          (np\n",
            "            (art os)\n",
            "            (n tempos)\n",
            "            (pp (prp em) (np (art a) (n ditadura)))))))\n",
            "    (np (art a) (n solidez) (pp (prp de) (np (art o) (prop PT))))\n",
            "    (vp (v-fin está))\n",
            "    (advp (adv agora))\n",
            "    (v-pcp ameaçada)))\n",
            "                                                S                                                      \n",
            "                                                |                                                       \n",
            "                                               fcl                                                     \n",
            "        ________________________________________|_________________________________________________      \n",
            "      advp                                                         |                 |     |      |    \n",
            "   ____|___________                                                |                 |     |      |     \n",
            "  |    |          acl                                              |                 |     |      |    \n",
            "  |    |      _____|________                                       |                 |     |      |     \n",
            "  |    |     |              pp                                     |                 |     |      |    \n",
            "  |    |     |      ________|_____                                 |                 |     |      |     \n",
            "  |    |     |     |              np                               np                |     |      |    \n",
            "  |    |     |     |    __________|___                  ___________|___              |     |      |     \n",
            "  |    |     |     |   |    |         pp               |     |         pp            |     |      |    \n",
            "  |    |     |     |   |    |      ___|___             |     |      ___|___          |     |      |     \n",
            "  |    |     |     |   |    |     |       np           |     |     |       np        vp   advp    |    \n",
            "  |    |     |     |   |    |     |    ___|_____       |     |     |    ___|___      |     |      |     \n",
            " adv  adv  conj-s prp art   n    prp art        n     art    n    prp art     prop v-fin  adv   v-pcp  \n",
            "  |    |     |     |   |    |     |   |         |      |     |     |   |       |     |     |      |     \n",
            "Muito mais do_que  em  os tempos  em  a      ditadura  a  solidez  de  o       PT   está agora ameaçada\n",
            "\n"
          ]
        }
      ]
    },
    {
      "cell_type": "markdown",
      "source": [
        "####Sent 4"
      ],
      "metadata": {
        "id": "k5nDqcUmnUbb"
      }
    },
    {
      "cell_type": "code",
      "source": [
        "bosque4 = nltk.CFG.fromstring('''\n",
        "... S -> fcl\n",
        "... fcl -> cu advp vp np pp\n",
        "... icl -> np vp\n",
        "... cu -> conj-c np conj-c np\n",
        "... conj-c -> 'Nem' | 'nem'\n",
        "... np -> prop | art n | pron-pers\n",
        "... prop -> 'Lula'\n",
        "... art -> 'o' | 'um'\n",
        "... n -> 'partido' | 'discurso'\n",
        "... advp -> adv\n",
        "... adv -> 'ainda'\n",
        "... vp -> v-fin | v-inf\n",
        "... v-fin -> 'encontraram'\n",
        "... v-inf -> 'diferenciar'\n",
        "... pp -> prp icl\n",
        "... prp -> 'para'\n",
        "... pron-pers -> 'se'\n",
        "''')"
      ],
      "metadata": {
        "id": "SuDkxX0szDHR"
      },
      "execution_count": null,
      "outputs": []
    },
    {
      "cell_type": "code",
      "source": [
        "sent = 'Nem Lula nem o partido ainda encontraram um discurso para se diferenciar'\n",
        "tokens = nltk.word_tokenize(sent)\n",
        "print(f'tokens: {tokens}')\n",
        "parser = nltk.ChartParser(bosque4)\n",
        "#print(f'parser: {parser}')\n",
        "for tree in parser.parse(tokens):\n",
        "  print(tree)\n",
        "  tree.pretty_print()"
      ],
      "metadata": {
        "colab": {
          "base_uri": "https://localhost:8080/"
        },
        "id": "-O6hik8PzFSG",
        "outputId": "2c99b0c3-a821-470c-c954-8e49403b367b"
      },
      "execution_count": null,
      "outputs": [
        {
          "output_type": "stream",
          "name": "stdout",
          "text": [
            "tokens: ['Nem', 'Lula', 'nem', 'o', 'partido', 'ainda', 'encontraram', 'um', 'discurso', 'para', 'se', 'diferenciar']\n",
            "(S\n",
            "  (fcl\n",
            "    (cu\n",
            "      (conj-c Nem)\n",
            "      (np (prop Lula))\n",
            "      (conj-c nem)\n",
            "      (np (art o) (n partido)))\n",
            "    (advp (adv ainda))\n",
            "    (vp (v-fin encontraram))\n",
            "    (np (art um) (n discurso))\n",
            "    (pp\n",
            "      (prp para)\n",
            "      (icl (np (pron-pers se)) (vp (v-inf diferenciar))))))\n",
            "                                     S                                                              \n",
            "                                     |                                                               \n",
            "                                    fcl                                                             \n",
            "               ______________________|_________________________________________                      \n",
            "              |                      |        |           |                    pp                   \n",
            "              |                      |        |           |             _______|______               \n",
            "              cu                     |        |           |            |             icl            \n",
            "   ___________|_________             |        |           |            |        ______|_______       \n",
            "  |     np    |         np          advp      vp          np           |       np             vp    \n",
            "  |     |     |      ___|_____       |        |        ___|_____       |       |              |      \n",
            "conj-c prop conj-c art        n     adv     v-fin    art        n     prp  pron-pers        v-inf   \n",
            "  |     |     |     |         |      |        |       |         |      |       |              |      \n",
            " Nem   Lula  nem    o      partido ainda encontraram  um     discurso para     se        diferenciar\n",
            "\n"
          ]
        }
      ]
    },
    {
      "cell_type": "markdown",
      "source": [
        "####Sent 5"
      ],
      "metadata": {
        "id": "E1J6T6IRnU7c"
      }
    },
    {
      "cell_type": "code",
      "source": [
        "bosque5 = nltk.CFG.fromstring('''\n",
        "... S -> cu\n",
        "... cu -> fcl conj-c fcl\n",
        "... fcl -> np np vp np | advp vp fcl | np vp\n",
        "... np -> pron-pers | n | pron-indp\n",
        "... pron-pers -> 'Eles' | 'se'\n",
        "... vp -> v-fin | v-fin v-inf\n",
        "... v-fin -> 'dizem' | 'informaram' | 'vão'\n",
        "... v-inf -> 'combater'\n",
        "... n -> 'oposição'\n",
        "... conj-c -> 'mas'\n",
        "... advp -> adv adv\n",
        "... adv -> 'ainda' | 'não'\n",
        "... pron-indp -> 'o_que'\n",
        "''')"
      ],
      "metadata": {
        "id": "kZ3T-ZUwpqZS"
      },
      "execution_count": null,
      "outputs": []
    },
    {
      "cell_type": "code",
      "source": [
        "sent = 'Eles se dizem oposição mas ainda não informaram o_que vão combater'\n",
        "tokens = nltk.word_tokenize(sent)\n",
        "print(f'tokens: {tokens}')\n",
        "parser = nltk.ChartParser(bosque5)\n",
        "#print(f'parser: {parser}')\n",
        "for tree in parser.parse(tokens):\n",
        "  print(tree)\n",
        "  tree.pretty_print()"
      ],
      "metadata": {
        "id": "RsCid3lLpqpU",
        "colab": {
          "base_uri": "https://localhost:8080/"
        },
        "outputId": "86fdf3bb-ed76-4f48-95c3-9cf42242056b"
      },
      "execution_count": null,
      "outputs": [
        {
          "output_type": "stream",
          "name": "stdout",
          "text": [
            "tokens: ['Eles', 'se', 'dizem', 'oposição', 'mas', 'ainda', 'não', 'informaram', 'o_que', 'vão', 'combater']\n",
            "(S\n",
            "  (cu\n",
            "    (fcl\n",
            "      (np (pron-pers Eles))\n",
            "      (np (pron-pers se))\n",
            "      (vp (v-fin dizem))\n",
            "      (np (n oposição)))\n",
            "    (conj-c mas)\n",
            "    (fcl\n",
            "      (advp (adv ainda) (adv não))\n",
            "      (vp (v-fin informaram))\n",
            "      (fcl (np (pron-indp o_que)) (vp (v-fin vão) (v-inf combater))))))\n",
            "                                            S                                                   \n",
            "                                            |                                                    \n",
            "                                            cu                                                  \n",
            "               _____________________________|________________                                    \n",
            "              |                      |                      fcl                                 \n",
            "              |                      |            ___________|__________________                 \n",
            "             fcl                     |           |           |                 fcl              \n",
            "     _________|______________        |           |           |           _______|____            \n",
            "    np        np      vp     np      |          advp         vp         np           vp         \n",
            "    |         |       |      |       |       ____|____       |          |        ____|_____      \n",
            "pron-pers pron-pers v-fin    n     conj-c  adv       adv   v-fin    pron-indp v-fin      v-inf  \n",
            "    |         |       |      |       |      |         |      |          |       |          |     \n",
            "   Eles       se    dizem oposição  mas   ainda      não informaram   o_que    vão      combater\n",
            "\n"
          ]
        }
      ]
    },
    {
      "cell_type": "markdown",
      "source": [
        "####Sent 6"
      ],
      "metadata": {
        "id": "_nh1vn96x6_N"
      }
    },
    {
      "cell_type": "code",
      "source": [
        "bosque6 = nltk.CFG.fromstring('''\n",
        "... S -> fcl\n",
        "... fcl -> np vp pp\n",
        "... np -> pron-det pp | art n pp | art adj n | art prop\n",
        "... pp -> prp np\n",
        "... vp -> v-fin\n",
        "... pron-det -> 'Muitas'\n",
        "... prp -> 'de' | 'com'\n",
        "... art -> 'as' | 'o'\n",
        "... n -> 'prioridades' | 'governo'\n",
        "... prop -> 'PT'\n",
        "... adj -> 'novo'\n",
        "... v-fin -> 'coincidem'\n",
        "''')"
      ],
      "metadata": {
        "id": "WPft0Jyzx6_Y"
      },
      "execution_count": null,
      "outputs": []
    },
    {
      "cell_type": "code",
      "source": [
        "sent = 'Muitas de as prioridades de o novo governo coincidem com as prioridades de o PT'\n",
        "tokens = nltk.word_tokenize(sent)\n",
        "print(f'tokens: {tokens}')\n",
        "parser = nltk.ChartParser(bosque6)\n",
        "#print(f'parser: {parser}')\n",
        "for tree in parser.parse(tokens):\n",
        "  print(tree)\n",
        "  tree.pretty_print()"
      ],
      "metadata": {
        "colab": {
          "base_uri": "https://localhost:8080/"
        },
        "id": "Csf7K6S7x6_Z",
        "outputId": "4144ec84-4649-40b5-8528-777467a5a239"
      },
      "execution_count": null,
      "outputs": [
        {
          "output_type": "stream",
          "name": "stdout",
          "text": [
            "tokens: ['Muitas', 'de', 'as', 'prioridades', 'de', 'o', 'novo', 'governo', 'coincidem', 'com', 'as', 'prioridades', 'de', 'o', 'PT']\n",
            "(S\n",
            "  (fcl\n",
            "    (np\n",
            "      (pron-det Muitas)\n",
            "      (pp\n",
            "        (prp de)\n",
            "        (np\n",
            "          (art as)\n",
            "          (n prioridades)\n",
            "          (pp (prp de) (np (art o) (adj novo) (n governo))))))\n",
            "    (vp (v-fin coincidem))\n",
            "    (pp\n",
            "      (prp com)\n",
            "      (np\n",
            "        (art as)\n",
            "        (n prioridades)\n",
            "        (pp (prp de) (np (art o) (prop PT)))))))\n",
            "                                                 S                                                  \n",
            "                                                 |                                                   \n",
            "                                                fcl                                                 \n",
            "           ______________________________________|___________________________                        \n",
            "          np                                              |                  |                      \n",
            "    ______|___                                            |                  |                       \n",
            "   |          pp                                          |                  pp                     \n",
            "   |       ___|_______________                            |       ___________|_______                \n",
            "   |      |                   np                          |      |                   np             \n",
            "   |      |    _______________|_______                    |      |    _______________|___            \n",
            "   |      |   |       |               pp                  |      |   |       |           pp         \n",
            "   |      |   |       |        _______|___                |      |   |       |        ___|___        \n",
            "   |      |   |       |       |           np              vp     |   |       |       |       np     \n",
            "   |      |   |       |       |    _______|______         |      |   |       |       |    ___|___    \n",
            "pron-det prp art      n      prp art     adj     n      v-fin   prp art      n      prp art     prop\n",
            "   |      |   |       |       |   |       |      |        |      |   |       |       |   |       |   \n",
            " Muitas   de  as prioridades  de  o      novo governo coincidem com  as prioridades  de  o       PT \n",
            "\n"
          ]
        }
      ]
    },
    {
      "cell_type": "markdown",
      "source": [
        "###."
      ],
      "metadata": {
        "id": "e4jUDbrMcgds"
      }
    },
    {
      "cell_type": "markdown",
      "source": [
        "####Sent 7"
      ],
      "metadata": {
        "id": "9VKK8Y2yyA-U"
      }
    },
    {
      "cell_type": "code",
      "source": [
        "bosque7 = nltk.CFG.fromstring('''\n",
        "... S -> acl\n",
        "\n",
        "''')"
      ],
      "metadata": {
        "id": "g-RGOKv9yA-V"
      },
      "execution_count": null,
      "outputs": []
    },
    {
      "cell_type": "code",
      "source": [
        "sent = ''\n",
        "tokens = nltk.word_tokenize(sent)\n",
        "print(f'tokens: {tokens}')\n",
        "parser = nltk.ChartParser(bosque7)\n",
        "#print(f'parser: {parser}')\n",
        "for tree in parser.parse(tokens):\n",
        "  print(tree)\n",
        "  tree.pretty_print()"
      ],
      "metadata": {
        "id": "5akNETtVyA-V"
      },
      "execution_count": null,
      "outputs": []
    },
    {
      "cell_type": "markdown",
      "source": [
        "####Sent 8"
      ],
      "metadata": {
        "id": "hUfnNWQvyGyB"
      }
    },
    {
      "cell_type": "code",
      "source": [
        "bosque8 = nltk.CFG.fromstring('''\n",
        "... S -> acl\n",
        "\n",
        "''')"
      ],
      "metadata": {
        "id": "63UXHZdYyGyC"
      },
      "execution_count": null,
      "outputs": []
    },
    {
      "cell_type": "code",
      "source": [
        "sent = ''\n",
        "tokens = nltk.word_tokenize(sent)\n",
        "print(f'tokens: {tokens}')\n",
        "parser = nltk.ChartParser(bosque8)\n",
        "#print(f'parser: {parser}')\n",
        "for tree in parser.parse(tokens):\n",
        "  print(tree)\n",
        "  tree.pretty_print()"
      ],
      "metadata": {
        "id": "ohK78t5yyGyD"
      },
      "execution_count": null,
      "outputs": []
    },
    {
      "cell_type": "markdown",
      "source": [
        "####Sent 9"
      ],
      "metadata": {
        "id": "364Y5Wo5yMYs"
      }
    },
    {
      "cell_type": "code",
      "source": [
        "bosque9 = nltk.CFG.fromstring('''\n",
        "... S -> acl\n",
        "\n",
        "''')"
      ],
      "metadata": {
        "id": "vtyGv6hYyMYt"
      },
      "execution_count": null,
      "outputs": []
    },
    {
      "cell_type": "code",
      "source": [
        "sent = ''\n",
        "tokens = nltk.word_tokenize(sent)\n",
        "print(f'tokens: {tokens}')\n",
        "parser = nltk.ChartParser(bosque9)\n",
        "#print(f'parser: {parser}')\n",
        "for tree in parser.parse(tokens):\n",
        "  print(tree)\n",
        "  tree.pretty_print()"
      ],
      "metadata": {
        "id": "k1s_rDC6yMYt"
      },
      "execution_count": null,
      "outputs": []
    }
  ]
}