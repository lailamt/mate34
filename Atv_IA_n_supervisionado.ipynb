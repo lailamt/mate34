{
  "nbformat": 4,
  "nbformat_minor": 0,
  "metadata": {
    "colab": {
      "provenance": [],
      "collapsed_sections": [
        "8HZsypLW7ga1",
        "Xh4xE0jZ0W1Y",
        "bh7LHcA70UQX",
        "FWRP_H-jJUCZ",
        "5kOa5sn9EvMV",
        "cSBmce3dR7jD",
        "yGH2GMQ0EABc",
        "qnE_vyhPzbq8",
        "c1F0cTkvHTQV",
        "rfwSJ-tKHVOp",
        "n4Xe3ClLLUWE",
        "OY6fhomL1B_E",
        "MgSZXm1PLV-n",
        "xy29SaEe2Tdr",
        "l6vZwY4xLXii",
        "GAsD1xZi2bCE",
        "gQ6fIGQ_2u10",
        "dNxgJPLity5C",
        "Blb0kV-UL105",
        "bQpIR-oXL108",
        "ylxuAe6VL109",
        "H9nD2i4st7zb"
      ],
      "include_colab_link": true
    },
    "kernelspec": {
      "name": "python3",
      "display_name": "Python 3"
    },
    "language_info": {
      "name": "python"
    }
  },
  "cells": [
    {
      "cell_type": "markdown",
      "metadata": {
        "id": "view-in-github",
        "colab_type": "text"
      },
      "source": [
        "<a href=\"https://colab.research.google.com/github/lailamt/mate34/blob/main/Atv_IA_n_supervisionado.ipynb\" target=\"_parent\"><img src=\"https://colab.research.google.com/assets/colab-badge.svg\" alt=\"Open In Colab\"/></a>"
      ]
    },
    {
      "cell_type": "markdown",
      "source": [
        "##Bibliotecas Python"
      ],
      "metadata": {
        "id": "8HZsypLW7ga1"
      }
    },
    {
      "cell_type": "code",
      "source": [
        "import pandas as pd\n",
        "import numpy as np\n",
        "import seaborn as sns\n",
        "from sklearn.cluster import KMeans\n",
        "from sklearn.cluster import AgglomerativeClustering\n",
        "from sklearn.metrics import silhouette_samples, silhouette_score, jaccard_score, rand_score\n",
        "import plotly.express as px\n",
        "import matplotlib.pyplot as plt"
      ],
      "metadata": {
        "id": "NWukv6jgzyJT"
      },
      "execution_count": 838,
      "outputs": []
    },
    {
      "cell_type": "code",
      "source": [
        "from google.colab import drive\n",
        "drive.mount('/content/drive')"
      ],
      "metadata": {
        "colab": {
          "base_uri": "https://localhost:8080/"
        },
        "id": "Wt8ZSqm3zd-T",
        "outputId": "296899b6-ef52-448e-ae32-9f816d3ed7df"
      },
      "execution_count": 842,
      "outputs": [
        {
          "output_type": "stream",
          "name": "stdout",
          "text": [
            "Drive already mounted at /content/drive; to attempt to forcibly remount, call drive.mount(\"/content/drive\", force_remount=True).\n"
          ]
        }
      ]
    },
    {
      "cell_type": "markdown",
      "source": [
        "##Dataset"
      ],
      "metadata": {
        "id": "Xh4xE0jZ0W1Y"
      }
    },
    {
      "cell_type": "markdown",
      "source": [
        "Informações sobre o dataset:\n",
        "\n",
        "\n",
        "\n",
        "Carregando o dataset"
      ],
      "metadata": {
        "id": "MNWaklDD7P7y"
      }
    },
    {
      "cell_type": "code",
      "execution_count": 973,
      "metadata": {
        "id": "Vj1N1NvwzN6l"
      },
      "outputs": [],
      "source": [
        "filename = '/content/drive/MyDrive/Mestrado_UFBA/MATE33_IA/Datasets/Registros_da_Travessia_Salvador-Vera_Cruz.csv'"
      ]
    },
    {
      "cell_type": "code",
      "source": [
        "dataset_original = pd.read_csv(filename)"
      ],
      "metadata": {
        "id": "v-CdlSilz451"
      },
      "execution_count": 974,
      "outputs": []
    },
    {
      "cell_type": "code",
      "source": [
        "dataset_original.head()"
      ],
      "metadata": {
        "id": "tyx4HE110MKt",
        "colab": {
          "base_uri": "https://localhost:8080/",
          "height": 0
        },
        "outputId": "8d812b5b-a20a-4e91-a804-629c8d7e9be5"
      },
      "execution_count": 975,
      "outputs": [
        {
          "output_type": "execute_result",
          "data": {
            "text/plain": [
              "         Data    Terminal Horário  Altura da Maré (m)  \\\n",
              "0  15/03/2020  Mar grande    5:00                 1.2   \n",
              "1  15/03/2020  Mar grande    6:00                 1.6   \n",
              "2  15/03/2020  Mar grande    7:00                 1.8   \n",
              "3  15/03/2020  Mar grande    8:00                 1.9   \n",
              "4  15/03/2020  Mar grande    9:00                 1.8   \n",
              "\n",
              "   Velocidade do Vento (Km/h)  Chuva (mm) Condição dia Anterior  \\\n",
              "0                        22.5        0.33                   Bom   \n",
              "1                        23.0        0.33                   Bom   \n",
              "2                        23.5        0.33                   Bom   \n",
              "3                        24.0        0.33                   Bom   \n",
              "4                        24.0        0.33                   Bom   \n",
              "\n",
              "  Recomendação da Capitania Resultado  \n",
              "0                     Verde      Saiu  \n",
              "1                     Verde      Saiu  \n",
              "2                     Verde      Saiu  \n",
              "3                     Verde      Saiu  \n",
              "4                     Verde      Saiu  "
            ],
            "text/html": [
              "\n",
              "  <div id=\"df-7771a553-ae53-4e9d-aea6-f20dd904569a\">\n",
              "    <div class=\"colab-df-container\">\n",
              "      <div>\n",
              "<style scoped>\n",
              "    .dataframe tbody tr th:only-of-type {\n",
              "        vertical-align: middle;\n",
              "    }\n",
              "\n",
              "    .dataframe tbody tr th {\n",
              "        vertical-align: top;\n",
              "    }\n",
              "\n",
              "    .dataframe thead th {\n",
              "        text-align: right;\n",
              "    }\n",
              "</style>\n",
              "<table border=\"1\" class=\"dataframe\">\n",
              "  <thead>\n",
              "    <tr style=\"text-align: right;\">\n",
              "      <th></th>\n",
              "      <th>Data</th>\n",
              "      <th>Terminal</th>\n",
              "      <th>Horário</th>\n",
              "      <th>Altura da Maré (m)</th>\n",
              "      <th>Velocidade do Vento (Km/h)</th>\n",
              "      <th>Chuva (mm)</th>\n",
              "      <th>Condição dia Anterior</th>\n",
              "      <th>Recomendação da Capitania</th>\n",
              "      <th>Resultado</th>\n",
              "    </tr>\n",
              "  </thead>\n",
              "  <tbody>\n",
              "    <tr>\n",
              "      <th>0</th>\n",
              "      <td>15/03/2020</td>\n",
              "      <td>Mar grande</td>\n",
              "      <td>5:00</td>\n",
              "      <td>1.2</td>\n",
              "      <td>22.5</td>\n",
              "      <td>0.33</td>\n",
              "      <td>Bom</td>\n",
              "      <td>Verde</td>\n",
              "      <td>Saiu</td>\n",
              "    </tr>\n",
              "    <tr>\n",
              "      <th>1</th>\n",
              "      <td>15/03/2020</td>\n",
              "      <td>Mar grande</td>\n",
              "      <td>6:00</td>\n",
              "      <td>1.6</td>\n",
              "      <td>23.0</td>\n",
              "      <td>0.33</td>\n",
              "      <td>Bom</td>\n",
              "      <td>Verde</td>\n",
              "      <td>Saiu</td>\n",
              "    </tr>\n",
              "    <tr>\n",
              "      <th>2</th>\n",
              "      <td>15/03/2020</td>\n",
              "      <td>Mar grande</td>\n",
              "      <td>7:00</td>\n",
              "      <td>1.8</td>\n",
              "      <td>23.5</td>\n",
              "      <td>0.33</td>\n",
              "      <td>Bom</td>\n",
              "      <td>Verde</td>\n",
              "      <td>Saiu</td>\n",
              "    </tr>\n",
              "    <tr>\n",
              "      <th>3</th>\n",
              "      <td>15/03/2020</td>\n",
              "      <td>Mar grande</td>\n",
              "      <td>8:00</td>\n",
              "      <td>1.9</td>\n",
              "      <td>24.0</td>\n",
              "      <td>0.33</td>\n",
              "      <td>Bom</td>\n",
              "      <td>Verde</td>\n",
              "      <td>Saiu</td>\n",
              "    </tr>\n",
              "    <tr>\n",
              "      <th>4</th>\n",
              "      <td>15/03/2020</td>\n",
              "      <td>Mar grande</td>\n",
              "      <td>9:00</td>\n",
              "      <td>1.8</td>\n",
              "      <td>24.0</td>\n",
              "      <td>0.33</td>\n",
              "      <td>Bom</td>\n",
              "      <td>Verde</td>\n",
              "      <td>Saiu</td>\n",
              "    </tr>\n",
              "  </tbody>\n",
              "</table>\n",
              "</div>\n",
              "      <button class=\"colab-df-convert\" onclick=\"convertToInteractive('df-7771a553-ae53-4e9d-aea6-f20dd904569a')\"\n",
              "              title=\"Convert this dataframe to an interactive table.\"\n",
              "              style=\"display:none;\">\n",
              "        \n",
              "  <svg xmlns=\"http://www.w3.org/2000/svg\" height=\"24px\"viewBox=\"0 0 24 24\"\n",
              "       width=\"24px\">\n",
              "    <path d=\"M0 0h24v24H0V0z\" fill=\"none\"/>\n",
              "    <path d=\"M18.56 5.44l.94 2.06.94-2.06 2.06-.94-2.06-.94-.94-2.06-.94 2.06-2.06.94zm-11 1L8.5 8.5l.94-2.06 2.06-.94-2.06-.94L8.5 2.5l-.94 2.06-2.06.94zm10 10l.94 2.06.94-2.06 2.06-.94-2.06-.94-.94-2.06-.94 2.06-2.06.94z\"/><path d=\"M17.41 7.96l-1.37-1.37c-.4-.4-.92-.59-1.43-.59-.52 0-1.04.2-1.43.59L10.3 9.45l-7.72 7.72c-.78.78-.78 2.05 0 2.83L4 21.41c.39.39.9.59 1.41.59.51 0 1.02-.2 1.41-.59l7.78-7.78 2.81-2.81c.8-.78.8-2.07 0-2.86zM5.41 20L4 18.59l7.72-7.72 1.47 1.35L5.41 20z\"/>\n",
              "  </svg>\n",
              "      </button>\n",
              "      \n",
              "  <style>\n",
              "    .colab-df-container {\n",
              "      display:flex;\n",
              "      flex-wrap:wrap;\n",
              "      gap: 12px;\n",
              "    }\n",
              "\n",
              "    .colab-df-convert {\n",
              "      background-color: #E8F0FE;\n",
              "      border: none;\n",
              "      border-radius: 50%;\n",
              "      cursor: pointer;\n",
              "      display: none;\n",
              "      fill: #1967D2;\n",
              "      height: 32px;\n",
              "      padding: 0 0 0 0;\n",
              "      width: 32px;\n",
              "    }\n",
              "\n",
              "    .colab-df-convert:hover {\n",
              "      background-color: #E2EBFA;\n",
              "      box-shadow: 0px 1px 2px rgba(60, 64, 67, 0.3), 0px 1px 3px 1px rgba(60, 64, 67, 0.15);\n",
              "      fill: #174EA6;\n",
              "    }\n",
              "\n",
              "    [theme=dark] .colab-df-convert {\n",
              "      background-color: #3B4455;\n",
              "      fill: #D2E3FC;\n",
              "    }\n",
              "\n",
              "    [theme=dark] .colab-df-convert:hover {\n",
              "      background-color: #434B5C;\n",
              "      box-shadow: 0px 1px 3px 1px rgba(0, 0, 0, 0.15);\n",
              "      filter: drop-shadow(0px 1px 2px rgba(0, 0, 0, 0.3));\n",
              "      fill: #FFFFFF;\n",
              "    }\n",
              "  </style>\n",
              "\n",
              "      <script>\n",
              "        const buttonEl =\n",
              "          document.querySelector('#df-7771a553-ae53-4e9d-aea6-f20dd904569a button.colab-df-convert');\n",
              "        buttonEl.style.display =\n",
              "          google.colab.kernel.accessAllowed ? 'block' : 'none';\n",
              "\n",
              "        async function convertToInteractive(key) {\n",
              "          const element = document.querySelector('#df-7771a553-ae53-4e9d-aea6-f20dd904569a');\n",
              "          const dataTable =\n",
              "            await google.colab.kernel.invokeFunction('convertToInteractive',\n",
              "                                                     [key], {});\n",
              "          if (!dataTable) return;\n",
              "\n",
              "          const docLinkHtml = 'Like what you see? Visit the ' +\n",
              "            '<a target=\"_blank\" href=https://colab.research.google.com/notebooks/data_table.ipynb>data table notebook</a>'\n",
              "            + ' to learn more about interactive tables.';\n",
              "          element.innerHTML = '';\n",
              "          dataTable['output_type'] = 'display_data';\n",
              "          await google.colab.output.renderOutput(dataTable, element);\n",
              "          const docLink = document.createElement('div');\n",
              "          docLink.innerHTML = docLinkHtml;\n",
              "          element.appendChild(docLink);\n",
              "        }\n",
              "      </script>\n",
              "    </div>\n",
              "  </div>\n",
              "  "
            ]
          },
          "metadata": {},
          "execution_count": 975
        }
      ]
    },
    {
      "cell_type": "markdown",
      "source": [
        "##Pré-Processamento"
      ],
      "metadata": {
        "id": "bh7LHcA70UQX"
      }
    },
    {
      "cell_type": "markdown",
      "source": [
        "##### Remoção da coluna \"Resultado\" e conversão dos valores categórigos em numéricos.\n",
        "\n",
        "1 = Saiu / Atrasado / Adiantado\n",
        "\n",
        "0 = Não Saiu"
      ],
      "metadata": {
        "id": "IzhQy9Au9seX"
      }
    },
    {
      "cell_type": "code",
      "source": [
        "resultados = dataset_original['Resultado'].map({'Saiu':1, 'Atrasado':1, 'Adiantado':1, 'Não Saiu':0})\n",
        "dataset_original = dataset_original.drop('Resultado', axis=1)\n",
        "dataset_original.head()"
      ],
      "metadata": {
        "colab": {
          "base_uri": "https://localhost:8080/",
          "height": 0
        },
        "id": "rgS3haVF0Tv9",
        "outputId": "3cc66e11-2d80-472a-a490-509a58f91bb4"
      },
      "execution_count": 976,
      "outputs": [
        {
          "output_type": "execute_result",
          "data": {
            "text/plain": [
              "         Data    Terminal Horário  Altura da Maré (m)  \\\n",
              "0  15/03/2020  Mar grande    5:00                 1.2   \n",
              "1  15/03/2020  Mar grande    6:00                 1.6   \n",
              "2  15/03/2020  Mar grande    7:00                 1.8   \n",
              "3  15/03/2020  Mar grande    8:00                 1.9   \n",
              "4  15/03/2020  Mar grande    9:00                 1.8   \n",
              "\n",
              "   Velocidade do Vento (Km/h)  Chuva (mm) Condição dia Anterior  \\\n",
              "0                        22.5        0.33                   Bom   \n",
              "1                        23.0        0.33                   Bom   \n",
              "2                        23.5        0.33                   Bom   \n",
              "3                        24.0        0.33                   Bom   \n",
              "4                        24.0        0.33                   Bom   \n",
              "\n",
              "  Recomendação da Capitania  \n",
              "0                     Verde  \n",
              "1                     Verde  \n",
              "2                     Verde  \n",
              "3                     Verde  \n",
              "4                     Verde  "
            ],
            "text/html": [
              "\n",
              "  <div id=\"df-839b06d9-6b42-401c-bb64-db44b6680d18\">\n",
              "    <div class=\"colab-df-container\">\n",
              "      <div>\n",
              "<style scoped>\n",
              "    .dataframe tbody tr th:only-of-type {\n",
              "        vertical-align: middle;\n",
              "    }\n",
              "\n",
              "    .dataframe tbody tr th {\n",
              "        vertical-align: top;\n",
              "    }\n",
              "\n",
              "    .dataframe thead th {\n",
              "        text-align: right;\n",
              "    }\n",
              "</style>\n",
              "<table border=\"1\" class=\"dataframe\">\n",
              "  <thead>\n",
              "    <tr style=\"text-align: right;\">\n",
              "      <th></th>\n",
              "      <th>Data</th>\n",
              "      <th>Terminal</th>\n",
              "      <th>Horário</th>\n",
              "      <th>Altura da Maré (m)</th>\n",
              "      <th>Velocidade do Vento (Km/h)</th>\n",
              "      <th>Chuva (mm)</th>\n",
              "      <th>Condição dia Anterior</th>\n",
              "      <th>Recomendação da Capitania</th>\n",
              "    </tr>\n",
              "  </thead>\n",
              "  <tbody>\n",
              "    <tr>\n",
              "      <th>0</th>\n",
              "      <td>15/03/2020</td>\n",
              "      <td>Mar grande</td>\n",
              "      <td>5:00</td>\n",
              "      <td>1.2</td>\n",
              "      <td>22.5</td>\n",
              "      <td>0.33</td>\n",
              "      <td>Bom</td>\n",
              "      <td>Verde</td>\n",
              "    </tr>\n",
              "    <tr>\n",
              "      <th>1</th>\n",
              "      <td>15/03/2020</td>\n",
              "      <td>Mar grande</td>\n",
              "      <td>6:00</td>\n",
              "      <td>1.6</td>\n",
              "      <td>23.0</td>\n",
              "      <td>0.33</td>\n",
              "      <td>Bom</td>\n",
              "      <td>Verde</td>\n",
              "    </tr>\n",
              "    <tr>\n",
              "      <th>2</th>\n",
              "      <td>15/03/2020</td>\n",
              "      <td>Mar grande</td>\n",
              "      <td>7:00</td>\n",
              "      <td>1.8</td>\n",
              "      <td>23.5</td>\n",
              "      <td>0.33</td>\n",
              "      <td>Bom</td>\n",
              "      <td>Verde</td>\n",
              "    </tr>\n",
              "    <tr>\n",
              "      <th>3</th>\n",
              "      <td>15/03/2020</td>\n",
              "      <td>Mar grande</td>\n",
              "      <td>8:00</td>\n",
              "      <td>1.9</td>\n",
              "      <td>24.0</td>\n",
              "      <td>0.33</td>\n",
              "      <td>Bom</td>\n",
              "      <td>Verde</td>\n",
              "    </tr>\n",
              "    <tr>\n",
              "      <th>4</th>\n",
              "      <td>15/03/2020</td>\n",
              "      <td>Mar grande</td>\n",
              "      <td>9:00</td>\n",
              "      <td>1.8</td>\n",
              "      <td>24.0</td>\n",
              "      <td>0.33</td>\n",
              "      <td>Bom</td>\n",
              "      <td>Verde</td>\n",
              "    </tr>\n",
              "  </tbody>\n",
              "</table>\n",
              "</div>\n",
              "      <button class=\"colab-df-convert\" onclick=\"convertToInteractive('df-839b06d9-6b42-401c-bb64-db44b6680d18')\"\n",
              "              title=\"Convert this dataframe to an interactive table.\"\n",
              "              style=\"display:none;\">\n",
              "        \n",
              "  <svg xmlns=\"http://www.w3.org/2000/svg\" height=\"24px\"viewBox=\"0 0 24 24\"\n",
              "       width=\"24px\">\n",
              "    <path d=\"M0 0h24v24H0V0z\" fill=\"none\"/>\n",
              "    <path d=\"M18.56 5.44l.94 2.06.94-2.06 2.06-.94-2.06-.94-.94-2.06-.94 2.06-2.06.94zm-11 1L8.5 8.5l.94-2.06 2.06-.94-2.06-.94L8.5 2.5l-.94 2.06-2.06.94zm10 10l.94 2.06.94-2.06 2.06-.94-2.06-.94-.94-2.06-.94 2.06-2.06.94z\"/><path d=\"M17.41 7.96l-1.37-1.37c-.4-.4-.92-.59-1.43-.59-.52 0-1.04.2-1.43.59L10.3 9.45l-7.72 7.72c-.78.78-.78 2.05 0 2.83L4 21.41c.39.39.9.59 1.41.59.51 0 1.02-.2 1.41-.59l7.78-7.78 2.81-2.81c.8-.78.8-2.07 0-2.86zM5.41 20L4 18.59l7.72-7.72 1.47 1.35L5.41 20z\"/>\n",
              "  </svg>\n",
              "      </button>\n",
              "      \n",
              "  <style>\n",
              "    .colab-df-container {\n",
              "      display:flex;\n",
              "      flex-wrap:wrap;\n",
              "      gap: 12px;\n",
              "    }\n",
              "\n",
              "    .colab-df-convert {\n",
              "      background-color: #E8F0FE;\n",
              "      border: none;\n",
              "      border-radius: 50%;\n",
              "      cursor: pointer;\n",
              "      display: none;\n",
              "      fill: #1967D2;\n",
              "      height: 32px;\n",
              "      padding: 0 0 0 0;\n",
              "      width: 32px;\n",
              "    }\n",
              "\n",
              "    .colab-df-convert:hover {\n",
              "      background-color: #E2EBFA;\n",
              "      box-shadow: 0px 1px 2px rgba(60, 64, 67, 0.3), 0px 1px 3px 1px rgba(60, 64, 67, 0.15);\n",
              "      fill: #174EA6;\n",
              "    }\n",
              "\n",
              "    [theme=dark] .colab-df-convert {\n",
              "      background-color: #3B4455;\n",
              "      fill: #D2E3FC;\n",
              "    }\n",
              "\n",
              "    [theme=dark] .colab-df-convert:hover {\n",
              "      background-color: #434B5C;\n",
              "      box-shadow: 0px 1px 3px 1px rgba(0, 0, 0, 0.15);\n",
              "      filter: drop-shadow(0px 1px 2px rgba(0, 0, 0, 0.3));\n",
              "      fill: #FFFFFF;\n",
              "    }\n",
              "  </style>\n",
              "\n",
              "      <script>\n",
              "        const buttonEl =\n",
              "          document.querySelector('#df-839b06d9-6b42-401c-bb64-db44b6680d18 button.colab-df-convert');\n",
              "        buttonEl.style.display =\n",
              "          google.colab.kernel.accessAllowed ? 'block' : 'none';\n",
              "\n",
              "        async function convertToInteractive(key) {\n",
              "          const element = document.querySelector('#df-839b06d9-6b42-401c-bb64-db44b6680d18');\n",
              "          const dataTable =\n",
              "            await google.colab.kernel.invokeFunction('convertToInteractive',\n",
              "                                                     [key], {});\n",
              "          if (!dataTable) return;\n",
              "\n",
              "          const docLinkHtml = 'Like what you see? Visit the ' +\n",
              "            '<a target=\"_blank\" href=https://colab.research.google.com/notebooks/data_table.ipynb>data table notebook</a>'\n",
              "            + ' to learn more about interactive tables.';\n",
              "          element.innerHTML = '';\n",
              "          dataTable['output_type'] = 'display_data';\n",
              "          await google.colab.output.renderOutput(dataTable, element);\n",
              "          const docLink = document.createElement('div');\n",
              "          docLink.innerHTML = docLinkHtml;\n",
              "          element.appendChild(docLink);\n",
              "        }\n",
              "      </script>\n",
              "    </div>\n",
              "  </div>\n",
              "  "
            ]
          },
          "metadata": {},
          "execution_count": 976
        }
      ]
    },
    {
      "cell_type": "code",
      "source": [
        "resultados"
      ],
      "metadata": {
        "colab": {
          "base_uri": "https://localhost:8080/"
        },
        "id": "B3N6DsOaAZDN",
        "outputId": "fbfcf56e-be80-4358-8fd4-964e532a4c09"
      },
      "execution_count": 977,
      "outputs": [
        {
          "output_type": "execute_result",
          "data": {
            "text/plain": [
              "0      1\n",
              "1      1\n",
              "2      1\n",
              "3      1\n",
              "4      1\n",
              "      ..\n",
              "315    0\n",
              "316    1\n",
              "317    1\n",
              "318    1\n",
              "319    0\n",
              "Name: Resultado, Length: 320, dtype: int64"
            ]
          },
          "metadata": {},
          "execution_count": 977
        }
      ]
    },
    {
      "cell_type": "markdown",
      "source": [
        "###### Descrição dos valores das colunas"
      ],
      "metadata": {
        "id": "vAnjOSjf-Tiy"
      }
    },
    {
      "cell_type": "code",
      "source": [
        "dataset_original['Terminal'].unique()"
      ],
      "metadata": {
        "colab": {
          "base_uri": "https://localhost:8080/"
        },
        "id": "NV7lOUNm0RVO",
        "outputId": "54073fc5-a503-4427-e5da-e28ef8ed9211"
      },
      "execution_count": 978,
      "outputs": [
        {
          "output_type": "execute_result",
          "data": {
            "text/plain": [
              "array(['Mar grande', 'Salvador'], dtype=object)"
            ]
          },
          "metadata": {},
          "execution_count": 978
        }
      ]
    },
    {
      "cell_type": "code",
      "source": [
        "dataset_original['Recomendação da Capitania'].unique()"
      ],
      "metadata": {
        "colab": {
          "base_uri": "https://localhost:8080/"
        },
        "id": "PZXk1Kb11lUP",
        "outputId": "00a0ec2b-513d-4f7a-9877-19bd9d579385"
      },
      "execution_count": 979,
      "outputs": [
        {
          "output_type": "execute_result",
          "data": {
            "text/plain": [
              "array(['Verde', 'Vermelho', 'Amarelo'], dtype=object)"
            ]
          },
          "metadata": {},
          "execution_count": 979
        }
      ]
    },
    {
      "cell_type": "code",
      "source": [
        "dataset_original['Condição dia Anterior'].unique()"
      ],
      "metadata": {
        "colab": {
          "base_uri": "https://localhost:8080/"
        },
        "id": "_0aAPsvl1tI4",
        "outputId": "a45d7b6d-3b3c-4b36-a252-97a0ab1352d8"
      },
      "execution_count": 980,
      "outputs": [
        {
          "output_type": "execute_result",
          "data": {
            "text/plain": [
              "array(['Bom', 'Ruim'], dtype=object)"
            ]
          },
          "metadata": {},
          "execution_count": 980
        }
      ]
    },
    {
      "cell_type": "code",
      "source": [
        "dataset_original['Horário'].unique()"
      ],
      "metadata": {
        "colab": {
          "base_uri": "https://localhost:8080/"
        },
        "id": "wUQHi6Rp6cof",
        "outputId": "68d19daa-cbeb-43c1-a2d4-41b0ec14ceeb"
      },
      "execution_count": 981,
      "outputs": [
        {
          "output_type": "execute_result",
          "data": {
            "text/plain": [
              "array(['5:00', '6:00', '7:00', '8:00', '9:00', '10:00', '11:00', '12:00',\n",
              "       '13:00', '14:00', '15:00', '16:00', '17:00', '18:00', '6:30',\n",
              "       '7:30', '8:30', '9:30', '10:30', '11:30', '12:30', '13:30',\n",
              "       '14:30', '15:30', '16:30', '17:30', '18:30', '19:30'], dtype=object)"
            ]
          },
          "metadata": {},
          "execution_count": 981
        }
      ]
    },
    {
      "cell_type": "markdown",
      "source": [
        "##### Boxplots"
      ],
      "metadata": {
        "id": "Hy2jak0FYQ1m"
      }
    },
    {
      "cell_type": "markdown",
      "source": [
        "Altura da Maré (m)"
      ],
      "metadata": {
        "id": "RwflBWpr_KD5"
      }
    },
    {
      "cell_type": "code",
      "source": [
        "fig = px.box(dataset_original, x=\"Terminal\", y=\"Altura da Maré (m)\", color=\"Recomendação da Capitania\", width = 1000, height = 600)\n",
        "fig.update_traces(quartilemethod=\"exclusive\") # or \"inclusive\", or \"linear\" by default\n",
        "fig.show()"
      ],
      "metadata": {
        "colab": {
          "base_uri": "https://localhost:8080/",
          "height": 0
        },
        "id": "D2WcqjvgA48A",
        "outputId": "8c720aff-2f87-4f42-fe4b-d45b638fe6df"
      },
      "execution_count": 982,
      "outputs": [
        {
          "output_type": "display_data",
          "data": {
            "text/html": [
              "<html>\n",
              "<head><meta charset=\"utf-8\" /></head>\n",
              "<body>\n",
              "    <div>            <script src=\"https://cdnjs.cloudflare.com/ajax/libs/mathjax/2.7.5/MathJax.js?config=TeX-AMS-MML_SVG\"></script><script type=\"text/javascript\">if (window.MathJax) {MathJax.Hub.Config({SVG: {font: \"STIX-Web\"}});}</script>                <script type=\"text/javascript\">window.PlotlyConfig = {MathJaxConfig: 'local'};</script>\n",
              "        <script src=\"https://cdn.plot.ly/plotly-2.8.3.min.js\"></script>                <div id=\"f49cca7e-ed3f-4de8-810a-ab503337ccb7\" class=\"plotly-graph-div\" style=\"height:600px; width:1000px;\"></div>            <script type=\"text/javascript\">                                    window.PLOTLYENV=window.PLOTLYENV || {};                                    if (document.getElementById(\"f49cca7e-ed3f-4de8-810a-ab503337ccb7\")) {                    Plotly.newPlot(                        \"f49cca7e-ed3f-4de8-810a-ab503337ccb7\",                        [{\"alignmentgroup\":\"True\",\"hovertemplate\":\"Recomenda\\u00e7\\u00e3o da Capitania=Verde<br>Terminal=%{x}<br>Altura da Mar\\u00e9 (m)=%{y}<extra></extra>\",\"legendgroup\":\"Verde\",\"marker\":{\"color\":\"#636efa\"},\"name\":\"Verde\",\"notched\":false,\"offsetgroup\":\"Verde\",\"orientation\":\"v\",\"showlegend\":true,\"x\":[\"Mar grande\",\"Mar grande\",\"Mar grande\",\"Mar grande\",\"Mar grande\",\"Mar grande\",\"Mar grande\",\"Mar grande\",\"Mar grande\",\"Mar grande\",\"Mar grande\",\"Mar grande\",\"Mar grande\",\"Mar grande\",\"Salvador\",\"Salvador\",\"Salvador\",\"Salvador\",\"Salvador\",\"Salvador\",\"Salvador\",\"Salvador\",\"Salvador\",\"Salvador\",\"Salvador\",\"Salvador\",\"Salvador\",\"Salvador\",\"Mar grande\",\"Mar grande\",\"Mar grande\",\"Mar grande\",\"Mar grande\",\"Mar grande\",\"Mar grande\",\"Mar grande\",\"Mar grande\",\"Mar grande\",\"Mar grande\",\"Mar grande\",\"Mar grande\",\"Mar grande\",\"Salvador\",\"Salvador\",\"Salvador\",\"Salvador\",\"Salvador\",\"Salvador\",\"Salvador\",\"Salvador\",\"Salvador\",\"Salvador\",\"Salvador\",\"Salvador\",\"Salvador\",\"Salvador\",\"Mar grande\",\"Mar grande\",\"Mar grande\",\"Mar grande\",\"Mar grande\",\"Mar grande\",\"Mar grande\",\"Mar grande\",\"Mar grande\",\"Mar grande\",\"Mar grande\",\"Mar grande\",\"Mar grande\",\"Mar grande\",\"Salvador\",\"Salvador\",\"Salvador\",\"Salvador\",\"Salvador\",\"Salvador\",\"Salvador\",\"Salvador\",\"Salvador\",\"Salvador\",\"Salvador\",\"Salvador\",\"Salvador\",\"Salvador\",\"Mar grande\",\"Mar grande\",\"Mar grande\",\"Mar grande\",\"Mar grande\",\"Mar grande\",\"Mar grande\",\"Mar grande\",\"Mar grande\",\"Mar grande\",\"Mar grande\",\"Mar grande\",\"Mar grande\",\"Mar grande\",\"Salvador\",\"Salvador\",\"Salvador\",\"Salvador\",\"Salvador\",\"Salvador\",\"Salvador\",\"Salvador\",\"Salvador\",\"Salvador\",\"Salvador\",\"Salvador\",\"Salvador\",\"Salvador\",\"Mar grande\",\"Mar grande\",\"Mar grande\",\"Mar grande\",\"Salvador\",\"Salvador\",\"Salvador\",\"Salvador\",\"Mar grande\",\"Mar grande\",\"Mar grande\",\"Mar grande\",\"Salvador\",\"Salvador\",\"Salvador\",\"Salvador\",\"Mar grande\",\"Mar grande\",\"Mar grande\",\"Mar grande\",\"Salvador\",\"Salvador\",\"Salvador\",\"Salvador\",\"Mar grande\",\"Mar grande\",\"Mar grande\",\"Mar grande\",\"Salvador\",\"Salvador\",\"Salvador\",\"Salvador\",\"Mar grande\",\"Mar grande\",\"Mar grande\",\"Mar grande\",\"Salvador\",\"Salvador\",\"Salvador\",\"Salvador\",\"Mar grande\",\"Mar grande\",\"Mar grande\",\"Mar grande\",\"Salvador\",\"Salvador\",\"Salvador\",\"Salvador\",\"Mar grande\",\"Mar grande\",\"Mar grande\",\"Mar grande\",\"Salvador\",\"Salvador\",\"Salvador\",\"Salvador\",\"Mar grande\",\"Mar grande\",\"Mar grande\",\"Mar grande\",\"Salvador\",\"Salvador\",\"Salvador\",\"Salvador\",\"Mar grande\",\"Mar grande\",\"Mar grande\",\"Mar grande\",\"Salvador\",\"Salvador\",\"Salvador\",\"Salvador\",\"Mar grande\",\"Mar grande\",\"Mar grande\",\"Mar grande\",\"Salvador\",\"Salvador\",\"Salvador\",\"Salvador\",\"Mar grande\",\"Mar grande\",\"Mar grande\",\"Mar grande\",\"Salvador\",\"Salvador\",\"Salvador\",\"Salvador\",\"Mar grande\"],\"x0\":\" \",\"xaxis\":\"x\",\"y\":[1.2,1.6,1.8,1.9,1.8,1.6,1.2,0.7,0.5,0.4,0.5,0.6,1.0,1.5,1.7,1.9,1.9,1.7,1.3,0.9,0.5,0.4,0.4,0.5,0.7,1.3,1.6,1.8,0.9,1.2,1.4,1.6,1.7,1.6,1.4,1.2,0.9,0.7,0.6,0.7,0.8,1.0,1.4,1.6,1.7,1.7,1.6,1.4,1.0,0.4,0.6,0.6,0.7,0.8,1.2,1.4,0.8,0.9,1.1,1.2,1.5,1.6,1.6,1.5,1.4,1.1,0.8,0.7,0.7,0.8,1.0,1.3,1.4,1.5,1.6,1.5,1.4,1.3,0.9,0.8,0.7,0.7,0.8,1.0,0.8,0.7,0.6,0.7,0.8,1.2,1.5,1.7,1.8,1.7,1.5,1.3,0.9,0.7,0.6,0.6,0.7,0.9,1.4,1.6,1.8,1.8,1.6,1.4,1.1,0.7,0.5,0.5,1.2,0.5,1.9,1.4,0.7,0.8,2.0,0.5,1.6,1.7,0.5,1.3,1.8,1.4,0.6,1.6,1.2,1.7,0.7,0.9,1.6,1.6,0.6,1.4,0.9,1.5,1.0,0.7,1.3,1.6,0.7,1.0,0.7,1.2,1.4,0.6,0.9,1.5,0.9,0.6,0.6,0.8,1.8,0.7,0.6,1.3,1.5,0.5,2.0,0.0,1.8,1.5,0.8,-0.1,2.5,1.8,2.2,0.3,1.2,2.6,1.5,-0.2,2.2,2.2,1.5,1.9,0.4,0.9,1.8,1.6,0.4,1.5,1.0,1.7,0.7,0.7,1.5,1.7,0.6,1.2,0.8,1.5,1.2,0.7,1.1,1.6,0.9,0.8,0.7],\"y0\":\" \",\"yaxis\":\"y\",\"type\":\"box\",\"quartilemethod\":\"exclusive\"},{\"alignmentgroup\":\"True\",\"hovertemplate\":\"Recomenda\\u00e7\\u00e3o da Capitania=Vermelho<br>Terminal=%{x}<br>Altura da Mar\\u00e9 (m)=%{y}<extra></extra>\",\"legendgroup\":\"Vermelho\",\"marker\":{\"color\":\"#EF553B\"},\"name\":\"Vermelho\",\"notched\":false,\"offsetgroup\":\"Vermelho\",\"orientation\":\"v\",\"showlegend\":true,\"x\":[\"Mar grande\",\"Mar grande\",\"Mar grande\",\"Mar grande\",\"Salvador\",\"Salvador\",\"Salvador\",\"Salvador\",\"Mar grande\",\"Mar grande\",\"Mar grande\",\"Mar grande\",\"Salvador\",\"Salvador\",\"Salvador\",\"Salvador\",\"Mar grande\",\"Mar grande\",\"Mar grande\",\"Mar grande\",\"Salvador\",\"Salvador\",\"Salvador\",\"Salvador\",\"Mar grande\",\"Mar grande\",\"Mar grande\",\"Mar grande\",\"Salvador\",\"Salvador\",\"Salvador\",\"Salvador\",\"Mar grande\",\"Mar grande\",\"Mar grande\",\"Salvador\",\"Salvador\",\"Salvador\",\"Salvador\",\"Mar grande\",\"Mar grande\",\"Mar grande\",\"Mar grande\",\"Salvador\",\"Salvador\",\"Salvador\",\"Salvador\",\"Mar grande\",\"Mar grande\",\"Mar grande\",\"Mar grande\",\"Salvador\",\"Salvador\",\"Salvador\",\"Salvador\",\"Mar grande\",\"Mar grande\",\"Mar grande\",\"Mar grande\",\"Salvador\",\"Salvador\",\"Salvador\",\"Salvador\",\"Mar grande\",\"Mar grande\",\"Mar grande\",\"Mar grande\",\"Salvador\",\"Salvador\",\"Salvador\",\"Salvador\",\"Mar grande\",\"Mar grande\",\"Mar grande\",\"Mar grande\",\"Salvador\",\"Salvador\",\"Salvador\",\"Salvador\",\"Mar grande\",\"Mar grande\",\"Mar grande\",\"Mar grande\",\"Salvador\",\"Salvador\",\"Salvador\",\"Salvador\",\"Mar grande\",\"Mar grande\",\"Mar grande\",\"Mar grande\",\"Salvador\",\"Salvador\",\"Salvador\",\"Salvador\"],\"x0\":\" \",\"xaxis\":\"x\",\"y\":[1.9,0.4,1.5,2.1,1.1,0.2,2.1,1.7,2.2,0.7,0.8,2.3,1.7,0.2,1.7,2.1,2.1,1.0,0.5,2.1,1.8,0.2,1.5,2.1,2.1,1.4,0.4,2.1,2.0,0.7,0.9,2.2,0.8,1.8,0.8,0.6,1.1,1.6,0.6,1.4,0.3,2.0,1.8,0.7,0.4,2.2,1.0,2.0,0.5,1.2,2.3,1.4,0.1,2.0,2.0,2.1,0.9,0.9,2.2,1.7,0.2,1.6,2.0,1.8,1.6,0.3,1.7,1.9,0.8,0.7,2.0,1.6,1.8,0.4,1.4,1.8,1.2,0.5,1.9,0.9,1.7,0.8,0.6,1.3,1.7,0.6,1.0,2.2,0.5,0.9,2.5,1.6,-0.1,2.0,2.3],\"y0\":\" \",\"yaxis\":\"y\",\"type\":\"box\",\"quartilemethod\":\"exclusive\"},{\"alignmentgroup\":\"True\",\"hovertemplate\":\"Recomenda\\u00e7\\u00e3o da Capitania=Amarelo<br>Terminal=%{x}<br>Altura da Mar\\u00e9 (m)=%{y}<extra></extra>\",\"legendgroup\":\"Amarelo\",\"marker\":{\"color\":\"#00cc96\"},\"name\":\"Amarelo\",\"notched\":false,\"offsetgroup\":\"Amarelo\",\"orientation\":\"v\",\"showlegend\":true,\"x\":[\"Mar grande\",\"Mar grande\",\"Mar grande\",\"Mar grande\",\"Salvador\",\"Salvador\",\"Salvador\",\"Salvador\",\"Mar grande\",\"Mar grande\",\"Mar grande\",\"Mar grande\",\"Salvador\",\"Salvador\",\"Salvador\",\"Salvador\",\"Mar grande\",\"Mar grande\",\"Mar grande\",\"Mar grande\",\"Salvador\",\"Salvador\",\"Salvador\",\"Salvador\"],\"x0\":\" \",\"xaxis\":\"x\",\"y\":[0.6,0.1,2.3,1.5,0.1,0.5,2.3,0.5,1.1,0.0,2.2,2.0,0.2,0.2,2.5,0.9,1.7,-0.1,2.0,2.4,0.5,-0.1,2.5,1.5],\"y0\":\" \",\"yaxis\":\"y\",\"type\":\"box\",\"quartilemethod\":\"exclusive\"}],                        {\"template\":{\"data\":{\"bar\":[{\"error_x\":{\"color\":\"#2a3f5f\"},\"error_y\":{\"color\":\"#2a3f5f\"},\"marker\":{\"line\":{\"color\":\"#E5ECF6\",\"width\":0.5},\"pattern\":{\"fillmode\":\"overlay\",\"size\":10,\"solidity\":0.2}},\"type\":\"bar\"}],\"barpolar\":[{\"marker\":{\"line\":{\"color\":\"#E5ECF6\",\"width\":0.5},\"pattern\":{\"fillmode\":\"overlay\",\"size\":10,\"solidity\":0.2}},\"type\":\"barpolar\"}],\"carpet\":[{\"aaxis\":{\"endlinecolor\":\"#2a3f5f\",\"gridcolor\":\"white\",\"linecolor\":\"white\",\"minorgridcolor\":\"white\",\"startlinecolor\":\"#2a3f5f\"},\"baxis\":{\"endlinecolor\":\"#2a3f5f\",\"gridcolor\":\"white\",\"linecolor\":\"white\",\"minorgridcolor\":\"white\",\"startlinecolor\":\"#2a3f5f\"},\"type\":\"carpet\"}],\"choropleth\":[{\"colorbar\":{\"outlinewidth\":0,\"ticks\":\"\"},\"type\":\"choropleth\"}],\"contour\":[{\"colorbar\":{\"outlinewidth\":0,\"ticks\":\"\"},\"colorscale\":[[0.0,\"#0d0887\"],[0.1111111111111111,\"#46039f\"],[0.2222222222222222,\"#7201a8\"],[0.3333333333333333,\"#9c179e\"],[0.4444444444444444,\"#bd3786\"],[0.5555555555555556,\"#d8576b\"],[0.6666666666666666,\"#ed7953\"],[0.7777777777777778,\"#fb9f3a\"],[0.8888888888888888,\"#fdca26\"],[1.0,\"#f0f921\"]],\"type\":\"contour\"}],\"contourcarpet\":[{\"colorbar\":{\"outlinewidth\":0,\"ticks\":\"\"},\"type\":\"contourcarpet\"}],\"heatmap\":[{\"colorbar\":{\"outlinewidth\":0,\"ticks\":\"\"},\"colorscale\":[[0.0,\"#0d0887\"],[0.1111111111111111,\"#46039f\"],[0.2222222222222222,\"#7201a8\"],[0.3333333333333333,\"#9c179e\"],[0.4444444444444444,\"#bd3786\"],[0.5555555555555556,\"#d8576b\"],[0.6666666666666666,\"#ed7953\"],[0.7777777777777778,\"#fb9f3a\"],[0.8888888888888888,\"#fdca26\"],[1.0,\"#f0f921\"]],\"type\":\"heatmap\"}],\"heatmapgl\":[{\"colorbar\":{\"outlinewidth\":0,\"ticks\":\"\"},\"colorscale\":[[0.0,\"#0d0887\"],[0.1111111111111111,\"#46039f\"],[0.2222222222222222,\"#7201a8\"],[0.3333333333333333,\"#9c179e\"],[0.4444444444444444,\"#bd3786\"],[0.5555555555555556,\"#d8576b\"],[0.6666666666666666,\"#ed7953\"],[0.7777777777777778,\"#fb9f3a\"],[0.8888888888888888,\"#fdca26\"],[1.0,\"#f0f921\"]],\"type\":\"heatmapgl\"}],\"histogram\":[{\"marker\":{\"pattern\":{\"fillmode\":\"overlay\",\"size\":10,\"solidity\":0.2}},\"type\":\"histogram\"}],\"histogram2d\":[{\"colorbar\":{\"outlinewidth\":0,\"ticks\":\"\"},\"colorscale\":[[0.0,\"#0d0887\"],[0.1111111111111111,\"#46039f\"],[0.2222222222222222,\"#7201a8\"],[0.3333333333333333,\"#9c179e\"],[0.4444444444444444,\"#bd3786\"],[0.5555555555555556,\"#d8576b\"],[0.6666666666666666,\"#ed7953\"],[0.7777777777777778,\"#fb9f3a\"],[0.8888888888888888,\"#fdca26\"],[1.0,\"#f0f921\"]],\"type\":\"histogram2d\"}],\"histogram2dcontour\":[{\"colorbar\":{\"outlinewidth\":0,\"ticks\":\"\"},\"colorscale\":[[0.0,\"#0d0887\"],[0.1111111111111111,\"#46039f\"],[0.2222222222222222,\"#7201a8\"],[0.3333333333333333,\"#9c179e\"],[0.4444444444444444,\"#bd3786\"],[0.5555555555555556,\"#d8576b\"],[0.6666666666666666,\"#ed7953\"],[0.7777777777777778,\"#fb9f3a\"],[0.8888888888888888,\"#fdca26\"],[1.0,\"#f0f921\"]],\"type\":\"histogram2dcontour\"}],\"mesh3d\":[{\"colorbar\":{\"outlinewidth\":0,\"ticks\":\"\"},\"type\":\"mesh3d\"}],\"parcoords\":[{\"line\":{\"colorbar\":{\"outlinewidth\":0,\"ticks\":\"\"}},\"type\":\"parcoords\"}],\"pie\":[{\"automargin\":true,\"type\":\"pie\"}],\"scatter\":[{\"marker\":{\"colorbar\":{\"outlinewidth\":0,\"ticks\":\"\"}},\"type\":\"scatter\"}],\"scatter3d\":[{\"line\":{\"colorbar\":{\"outlinewidth\":0,\"ticks\":\"\"}},\"marker\":{\"colorbar\":{\"outlinewidth\":0,\"ticks\":\"\"}},\"type\":\"scatter3d\"}],\"scattercarpet\":[{\"marker\":{\"colorbar\":{\"outlinewidth\":0,\"ticks\":\"\"}},\"type\":\"scattercarpet\"}],\"scattergeo\":[{\"marker\":{\"colorbar\":{\"outlinewidth\":0,\"ticks\":\"\"}},\"type\":\"scattergeo\"}],\"scattergl\":[{\"marker\":{\"colorbar\":{\"outlinewidth\":0,\"ticks\":\"\"}},\"type\":\"scattergl\"}],\"scattermapbox\":[{\"marker\":{\"colorbar\":{\"outlinewidth\":0,\"ticks\":\"\"}},\"type\":\"scattermapbox\"}],\"scatterpolar\":[{\"marker\":{\"colorbar\":{\"outlinewidth\":0,\"ticks\":\"\"}},\"type\":\"scatterpolar\"}],\"scatterpolargl\":[{\"marker\":{\"colorbar\":{\"outlinewidth\":0,\"ticks\":\"\"}},\"type\":\"scatterpolargl\"}],\"scatterternary\":[{\"marker\":{\"colorbar\":{\"outlinewidth\":0,\"ticks\":\"\"}},\"type\":\"scatterternary\"}],\"surface\":[{\"colorbar\":{\"outlinewidth\":0,\"ticks\":\"\"},\"colorscale\":[[0.0,\"#0d0887\"],[0.1111111111111111,\"#46039f\"],[0.2222222222222222,\"#7201a8\"],[0.3333333333333333,\"#9c179e\"],[0.4444444444444444,\"#bd3786\"],[0.5555555555555556,\"#d8576b\"],[0.6666666666666666,\"#ed7953\"],[0.7777777777777778,\"#fb9f3a\"],[0.8888888888888888,\"#fdca26\"],[1.0,\"#f0f921\"]],\"type\":\"surface\"}],\"table\":[{\"cells\":{\"fill\":{\"color\":\"#EBF0F8\"},\"line\":{\"color\":\"white\"}},\"header\":{\"fill\":{\"color\":\"#C8D4E3\"},\"line\":{\"color\":\"white\"}},\"type\":\"table\"}]},\"layout\":{\"annotationdefaults\":{\"arrowcolor\":\"#2a3f5f\",\"arrowhead\":0,\"arrowwidth\":1},\"autotypenumbers\":\"strict\",\"coloraxis\":{\"colorbar\":{\"outlinewidth\":0,\"ticks\":\"\"}},\"colorscale\":{\"diverging\":[[0,\"#8e0152\"],[0.1,\"#c51b7d\"],[0.2,\"#de77ae\"],[0.3,\"#f1b6da\"],[0.4,\"#fde0ef\"],[0.5,\"#f7f7f7\"],[0.6,\"#e6f5d0\"],[0.7,\"#b8e186\"],[0.8,\"#7fbc41\"],[0.9,\"#4d9221\"],[1,\"#276419\"]],\"sequential\":[[0.0,\"#0d0887\"],[0.1111111111111111,\"#46039f\"],[0.2222222222222222,\"#7201a8\"],[0.3333333333333333,\"#9c179e\"],[0.4444444444444444,\"#bd3786\"],[0.5555555555555556,\"#d8576b\"],[0.6666666666666666,\"#ed7953\"],[0.7777777777777778,\"#fb9f3a\"],[0.8888888888888888,\"#fdca26\"],[1.0,\"#f0f921\"]],\"sequentialminus\":[[0.0,\"#0d0887\"],[0.1111111111111111,\"#46039f\"],[0.2222222222222222,\"#7201a8\"],[0.3333333333333333,\"#9c179e\"],[0.4444444444444444,\"#bd3786\"],[0.5555555555555556,\"#d8576b\"],[0.6666666666666666,\"#ed7953\"],[0.7777777777777778,\"#fb9f3a\"],[0.8888888888888888,\"#fdca26\"],[1.0,\"#f0f921\"]]},\"colorway\":[\"#636efa\",\"#EF553B\",\"#00cc96\",\"#ab63fa\",\"#FFA15A\",\"#19d3f3\",\"#FF6692\",\"#B6E880\",\"#FF97FF\",\"#FECB52\"],\"font\":{\"color\":\"#2a3f5f\"},\"geo\":{\"bgcolor\":\"white\",\"lakecolor\":\"white\",\"landcolor\":\"#E5ECF6\",\"showlakes\":true,\"showland\":true,\"subunitcolor\":\"white\"},\"hoverlabel\":{\"align\":\"left\"},\"hovermode\":\"closest\",\"mapbox\":{\"style\":\"light\"},\"paper_bgcolor\":\"white\",\"plot_bgcolor\":\"#E5ECF6\",\"polar\":{\"angularaxis\":{\"gridcolor\":\"white\",\"linecolor\":\"white\",\"ticks\":\"\"},\"bgcolor\":\"#E5ECF6\",\"radialaxis\":{\"gridcolor\":\"white\",\"linecolor\":\"white\",\"ticks\":\"\"}},\"scene\":{\"xaxis\":{\"backgroundcolor\":\"#E5ECF6\",\"gridcolor\":\"white\",\"gridwidth\":2,\"linecolor\":\"white\",\"showbackground\":true,\"ticks\":\"\",\"zerolinecolor\":\"white\"},\"yaxis\":{\"backgroundcolor\":\"#E5ECF6\",\"gridcolor\":\"white\",\"gridwidth\":2,\"linecolor\":\"white\",\"showbackground\":true,\"ticks\":\"\",\"zerolinecolor\":\"white\"},\"zaxis\":{\"backgroundcolor\":\"#E5ECF6\",\"gridcolor\":\"white\",\"gridwidth\":2,\"linecolor\":\"white\",\"showbackground\":true,\"ticks\":\"\",\"zerolinecolor\":\"white\"}},\"shapedefaults\":{\"line\":{\"color\":\"#2a3f5f\"}},\"ternary\":{\"aaxis\":{\"gridcolor\":\"white\",\"linecolor\":\"white\",\"ticks\":\"\"},\"baxis\":{\"gridcolor\":\"white\",\"linecolor\":\"white\",\"ticks\":\"\"},\"bgcolor\":\"#E5ECF6\",\"caxis\":{\"gridcolor\":\"white\",\"linecolor\":\"white\",\"ticks\":\"\"}},\"title\":{\"x\":0.05},\"xaxis\":{\"automargin\":true,\"gridcolor\":\"white\",\"linecolor\":\"white\",\"ticks\":\"\",\"title\":{\"standoff\":15},\"zerolinecolor\":\"white\",\"zerolinewidth\":2},\"yaxis\":{\"automargin\":true,\"gridcolor\":\"white\",\"linecolor\":\"white\",\"ticks\":\"\",\"title\":{\"standoff\":15},\"zerolinecolor\":\"white\",\"zerolinewidth\":2}}},\"xaxis\":{\"anchor\":\"y\",\"domain\":[0.0,1.0],\"title\":{\"text\":\"Terminal\"}},\"yaxis\":{\"anchor\":\"x\",\"domain\":[0.0,1.0],\"title\":{\"text\":\"Altura da Mar\\u00e9 (m)\"}},\"legend\":{\"title\":{\"text\":\"Recomenda\\u00e7\\u00e3o da Capitania\"},\"tracegroupgap\":0},\"margin\":{\"t\":60},\"boxmode\":\"group\",\"height\":600,\"width\":1000},                        {\"responsive\": true}                    ).then(function(){\n",
              "                            \n",
              "var gd = document.getElementById('f49cca7e-ed3f-4de8-810a-ab503337ccb7');\n",
              "var x = new MutationObserver(function (mutations, observer) {{\n",
              "        var display = window.getComputedStyle(gd).display;\n",
              "        if (!display || display === 'none') {{\n",
              "            console.log([gd, 'removed!']);\n",
              "            Plotly.purge(gd);\n",
              "            observer.disconnect();\n",
              "        }}\n",
              "}});\n",
              "\n",
              "// Listen for the removal of the full notebook cells\n",
              "var notebookContainer = gd.closest('#notebook-container');\n",
              "if (notebookContainer) {{\n",
              "    x.observe(notebookContainer, {childList: true});\n",
              "}}\n",
              "\n",
              "// Listen for the clearing of the current output cell\n",
              "var outputEl = gd.closest('.output');\n",
              "if (outputEl) {{\n",
              "    x.observe(outputEl, {childList: true});\n",
              "}}\n",
              "\n",
              "                        })                };                            </script>        </div>\n",
              "</body>\n",
              "</html>"
            ]
          },
          "metadata": {}
        }
      ]
    },
    {
      "cell_type": "markdown",
      "source": [
        "Velocidade do Vento (Km/h)"
      ],
      "metadata": {
        "id": "WzIbjGsf_NOW"
      }
    },
    {
      "cell_type": "code",
      "source": [
        "fig = px.box(dataset_original, x=\"Terminal\", y=\"Velocidade do Vento (Km/h)\", color=\"Recomendação da Capitania\", width = 1000, height = 600)\n",
        "fig.update_traces(quartilemethod=\"exclusive\") # or \"inclusive\", or \"linear\" by default\n",
        "fig.show()"
      ],
      "metadata": {
        "colab": {
          "base_uri": "https://localhost:8080/",
          "height": 0
        },
        "id": "jGw5us8Q_6p1",
        "outputId": "95cb74eb-9dc2-4780-9406-211dcea7678e"
      },
      "execution_count": 983,
      "outputs": [
        {
          "output_type": "display_data",
          "data": {
            "text/html": [
              "<html>\n",
              "<head><meta charset=\"utf-8\" /></head>\n",
              "<body>\n",
              "    <div>            <script src=\"https://cdnjs.cloudflare.com/ajax/libs/mathjax/2.7.5/MathJax.js?config=TeX-AMS-MML_SVG\"></script><script type=\"text/javascript\">if (window.MathJax) {MathJax.Hub.Config({SVG: {font: \"STIX-Web\"}});}</script>                <script type=\"text/javascript\">window.PlotlyConfig = {MathJaxConfig: 'local'};</script>\n",
              "        <script src=\"https://cdn.plot.ly/plotly-2.8.3.min.js\"></script>                <div id=\"048f24ff-cb36-4b2b-bc9f-7662a2696440\" class=\"plotly-graph-div\" style=\"height:600px; width:1000px;\"></div>            <script type=\"text/javascript\">                                    window.PLOTLYENV=window.PLOTLYENV || {};                                    if (document.getElementById(\"048f24ff-cb36-4b2b-bc9f-7662a2696440\")) {                    Plotly.newPlot(                        \"048f24ff-cb36-4b2b-bc9f-7662a2696440\",                        [{\"alignmentgroup\":\"True\",\"hovertemplate\":\"Recomenda\\u00e7\\u00e3o da Capitania=Verde<br>Terminal=%{x}<br>Velocidade do Vento (Km/h)=%{y}<extra></extra>\",\"legendgroup\":\"Verde\",\"marker\":{\"color\":\"#636efa\"},\"name\":\"Verde\",\"notched\":false,\"offsetgroup\":\"Verde\",\"orientation\":\"v\",\"showlegend\":true,\"x\":[\"Mar grande\",\"Mar grande\",\"Mar grande\",\"Mar grande\",\"Mar grande\",\"Mar grande\",\"Mar grande\",\"Mar grande\",\"Mar grande\",\"Mar grande\",\"Mar grande\",\"Mar grande\",\"Mar grande\",\"Mar grande\",\"Salvador\",\"Salvador\",\"Salvador\",\"Salvador\",\"Salvador\",\"Salvador\",\"Salvador\",\"Salvador\",\"Salvador\",\"Salvador\",\"Salvador\",\"Salvador\",\"Salvador\",\"Salvador\",\"Mar grande\",\"Mar grande\",\"Mar grande\",\"Mar grande\",\"Mar grande\",\"Mar grande\",\"Mar grande\",\"Mar grande\",\"Mar grande\",\"Mar grande\",\"Mar grande\",\"Mar grande\",\"Mar grande\",\"Mar grande\",\"Salvador\",\"Salvador\",\"Salvador\",\"Salvador\",\"Salvador\",\"Salvador\",\"Salvador\",\"Salvador\",\"Salvador\",\"Salvador\",\"Salvador\",\"Salvador\",\"Salvador\",\"Salvador\",\"Mar grande\",\"Mar grande\",\"Mar grande\",\"Mar grande\",\"Mar grande\",\"Mar grande\",\"Mar grande\",\"Mar grande\",\"Mar grande\",\"Mar grande\",\"Mar grande\",\"Mar grande\",\"Mar grande\",\"Mar grande\",\"Salvador\",\"Salvador\",\"Salvador\",\"Salvador\",\"Salvador\",\"Salvador\",\"Salvador\",\"Salvador\",\"Salvador\",\"Salvador\",\"Salvador\",\"Salvador\",\"Salvador\",\"Salvador\",\"Mar grande\",\"Mar grande\",\"Mar grande\",\"Mar grande\",\"Mar grande\",\"Mar grande\",\"Mar grande\",\"Mar grande\",\"Mar grande\",\"Mar grande\",\"Mar grande\",\"Mar grande\",\"Mar grande\",\"Mar grande\",\"Salvador\",\"Salvador\",\"Salvador\",\"Salvador\",\"Salvador\",\"Salvador\",\"Salvador\",\"Salvador\",\"Salvador\",\"Salvador\",\"Salvador\",\"Salvador\",\"Salvador\",\"Salvador\",\"Mar grande\",\"Mar grande\",\"Mar grande\",\"Mar grande\",\"Salvador\",\"Salvador\",\"Salvador\",\"Salvador\",\"Mar grande\",\"Mar grande\",\"Mar grande\",\"Mar grande\",\"Salvador\",\"Salvador\",\"Salvador\",\"Salvador\",\"Mar grande\",\"Mar grande\",\"Mar grande\",\"Mar grande\",\"Salvador\",\"Salvador\",\"Salvador\",\"Salvador\",\"Mar grande\",\"Mar grande\",\"Mar grande\",\"Mar grande\",\"Salvador\",\"Salvador\",\"Salvador\",\"Salvador\",\"Mar grande\",\"Mar grande\",\"Mar grande\",\"Mar grande\",\"Salvador\",\"Salvador\",\"Salvador\",\"Salvador\",\"Mar grande\",\"Mar grande\",\"Mar grande\",\"Mar grande\",\"Salvador\",\"Salvador\",\"Salvador\",\"Salvador\",\"Mar grande\",\"Mar grande\",\"Mar grande\",\"Mar grande\",\"Salvador\",\"Salvador\",\"Salvador\",\"Salvador\",\"Mar grande\",\"Mar grande\",\"Mar grande\",\"Mar grande\",\"Salvador\",\"Salvador\",\"Salvador\",\"Salvador\",\"Mar grande\",\"Mar grande\",\"Mar grande\",\"Mar grande\",\"Salvador\",\"Salvador\",\"Salvador\",\"Salvador\",\"Mar grande\",\"Mar grande\",\"Mar grande\",\"Mar grande\",\"Salvador\",\"Salvador\",\"Salvador\",\"Salvador\",\"Mar grande\",\"Mar grande\",\"Mar grande\",\"Mar grande\",\"Salvador\",\"Salvador\",\"Salvador\",\"Salvador\",\"Mar grande\"],\"x0\":\" \",\"xaxis\":\"x\",\"y\":[22.5,23.0,23.5,24.0,24.0,24.0,23.5,23.0,22.0,21.0,20.0,19.0,19.0,19.0,23.0,23.5,24.0,24.0,23.5,23.0,23.0,21.0,20.0,20.0,19.0,19.0,20.0,22.0,20.0,20.0,19.0,18.0,18.0,18.0,18.5,19.0,18.5,18.0,17.0,16.0,18.0,20.0,19.5,18.5,18.0,18.0,18.25,18.75,18.75,18.25,17.5,16.5,17.0,19.0,20.25,20.75,13.0,12.0,12.0,12.0,13.0,14.0,16.5,19.0,18.5,18.0,19.5,21.0,22.5,24.0,12.5,12.0,12.0,13.5,15.25,17.75,18.75,18.25,18.75,20.25,21.75,23.25,24.25,24.75,12.5,11.0,9.0,7.0,5.5,4.0,3.5,3.0,8.0,13.0,16.0,19.0,20.5,22.0,11.75,10.0,6.25,4.75,3.75,3.25,5.5,10.5,14.5,17.5,19.75,21.25,22.25,22.75,23.0,22.0,16.0,24.0,22.75,21.25,17.75,27.0,23.0,21.0,19.5,16.75,22.5,20.75,16.75,17.0,16.5,13.0,20.0,19.25,14.5,13.25,20.5,20.0,15.5,14.0,17.5,19.75,14.75,14.0,19.0,22.0,19.0,16.0,17.0,14.5,17.5,15.75,15.5,16.0,16.5,15.0,11.0,19.25,15.75,14.75,12.75,23.0,21.0,18.0,17.5,18.75,19.5,16.5,18.0,21.0,13.0,13.0,11.0,17.5,13.0,13.0,13.25,19.0,16.5,12.0,2.5,16.25,14.25,9.0,4.25,23.0,18.5,18.0,20.5,19.25,18.0,18.0,20.5,20.0,14.5,13.0,17.0,19.75,13.75,12.25,19.0,22.0,13.5],\"y0\":\" \",\"yaxis\":\"y\",\"type\":\"box\",\"quartilemethod\":\"exclusive\"},{\"alignmentgroup\":\"True\",\"hovertemplate\":\"Recomenda\\u00e7\\u00e3o da Capitania=Vermelho<br>Terminal=%{x}<br>Velocidade do Vento (Km/h)=%{y}<extra></extra>\",\"legendgroup\":\"Vermelho\",\"marker\":{\"color\":\"#EF553B\"},\"name\":\"Vermelho\",\"notched\":false,\"offsetgroup\":\"Vermelho\",\"orientation\":\"v\",\"showlegend\":true,\"x\":[\"Mar grande\",\"Mar grande\",\"Mar grande\",\"Mar grande\",\"Salvador\",\"Salvador\",\"Salvador\",\"Salvador\",\"Mar grande\",\"Mar grande\",\"Mar grande\",\"Mar grande\",\"Salvador\",\"Salvador\",\"Salvador\",\"Salvador\",\"Mar grande\",\"Mar grande\",\"Mar grande\",\"Mar grande\",\"Salvador\",\"Salvador\",\"Salvador\",\"Salvador\",\"Mar grande\",\"Mar grande\",\"Mar grande\",\"Mar grande\",\"Salvador\",\"Salvador\",\"Salvador\",\"Salvador\",\"Mar grande\",\"Mar grande\",\"Mar grande\",\"Salvador\",\"Salvador\",\"Salvador\",\"Salvador\",\"Mar grande\",\"Mar grande\",\"Mar grande\",\"Mar grande\",\"Salvador\",\"Salvador\",\"Salvador\",\"Salvador\",\"Mar grande\",\"Mar grande\",\"Mar grande\",\"Mar grande\",\"Salvador\",\"Salvador\",\"Salvador\",\"Salvador\",\"Mar grande\",\"Mar grande\",\"Mar grande\",\"Mar grande\",\"Salvador\",\"Salvador\",\"Salvador\",\"Salvador\",\"Mar grande\",\"Mar grande\",\"Mar grande\",\"Mar grande\",\"Salvador\",\"Salvador\",\"Salvador\",\"Salvador\",\"Mar grande\",\"Mar grande\",\"Mar grande\",\"Mar grande\",\"Salvador\",\"Salvador\",\"Salvador\",\"Salvador\",\"Mar grande\",\"Mar grande\",\"Mar grande\",\"Mar grande\",\"Salvador\",\"Salvador\",\"Salvador\",\"Salvador\",\"Mar grande\",\"Mar grande\",\"Mar grande\",\"Mar grande\",\"Salvador\",\"Salvador\",\"Salvador\",\"Salvador\"],\"x0\":\" \",\"xaxis\":\"x\",\"y\":[25.0,27.0,27.5,28.75,26.25,25.5,29.0,28.0,35.5,34.0,32.5,31.25,34.75,33.25,31.75,32.0,26.0,23.0,28.0,29.25,24.5,23.25,29.0,30.0,30.0,30.0,28.0,27.0,30.0,30.25,27.0,28.0,9.0,13.0,17.0,12.0,8.25,15.5,17.0,16.0,12.0,13.0,17.0,14.25,10.5,13.75,20.0,20.0,20.0,20.0,20.75,20.0,20.0,19.25,23.0,24.5,23.0,21.5,22.75,23.75,22.25,21.25,25.0,29.0,31.0,33.0,35.5,30.25,31.0,34.25,37.0,31.0,27.0,22.5,18.0,29.25,25.5,20.25,18.0,30.5,28.0,21.0,16.25,29.5,25.0,19.0,17.0,12.5,9.0,8.0,18.5,10.5,7.5,14.0,23.0],\"y0\":\" \",\"yaxis\":\"y\",\"type\":\"box\",\"quartilemethod\":\"exclusive\"},{\"alignmentgroup\":\"True\",\"hovertemplate\":\"Recomenda\\u00e7\\u00e3o da Capitania=Amarelo<br>Terminal=%{x}<br>Velocidade do Vento (Km/h)=%{y}<extra></extra>\",\"legendgroup\":\"Amarelo\",\"marker\":{\"color\":\"#00cc96\"},\"name\":\"Amarelo\",\"notched\":false,\"offsetgroup\":\"Amarelo\",\"orientation\":\"v\",\"showlegend\":true,\"x\":[\"Mar grande\",\"Mar grande\",\"Mar grande\",\"Mar grande\",\"Salvador\",\"Salvador\",\"Salvador\",\"Salvador\",\"Mar grande\",\"Mar grande\",\"Mar grande\",\"Mar grande\",\"Salvador\",\"Salvador\",\"Salvador\",\"Salvador\",\"Mar grande\",\"Mar grande\",\"Mar grande\",\"Mar grande\",\"Salvador\",\"Salvador\",\"Salvador\",\"Salvador\"],\"x0\":\" \",\"xaxis\":\"x\",\"y\":[16.5,15.0,15.0,12.5,15.75,15.75,13.5,14.0,28.5,28.0,26.0,26.25,28.0,28.0,26.0,27.0,26.0,25.0,22.0,21.0,25.75,24.25,21.0,21.0],\"y0\":\" \",\"yaxis\":\"y\",\"type\":\"box\",\"quartilemethod\":\"exclusive\"}],                        {\"template\":{\"data\":{\"bar\":[{\"error_x\":{\"color\":\"#2a3f5f\"},\"error_y\":{\"color\":\"#2a3f5f\"},\"marker\":{\"line\":{\"color\":\"#E5ECF6\",\"width\":0.5},\"pattern\":{\"fillmode\":\"overlay\",\"size\":10,\"solidity\":0.2}},\"type\":\"bar\"}],\"barpolar\":[{\"marker\":{\"line\":{\"color\":\"#E5ECF6\",\"width\":0.5},\"pattern\":{\"fillmode\":\"overlay\",\"size\":10,\"solidity\":0.2}},\"type\":\"barpolar\"}],\"carpet\":[{\"aaxis\":{\"endlinecolor\":\"#2a3f5f\",\"gridcolor\":\"white\",\"linecolor\":\"white\",\"minorgridcolor\":\"white\",\"startlinecolor\":\"#2a3f5f\"},\"baxis\":{\"endlinecolor\":\"#2a3f5f\",\"gridcolor\":\"white\",\"linecolor\":\"white\",\"minorgridcolor\":\"white\",\"startlinecolor\":\"#2a3f5f\"},\"type\":\"carpet\"}],\"choropleth\":[{\"colorbar\":{\"outlinewidth\":0,\"ticks\":\"\"},\"type\":\"choropleth\"}],\"contour\":[{\"colorbar\":{\"outlinewidth\":0,\"ticks\":\"\"},\"colorscale\":[[0.0,\"#0d0887\"],[0.1111111111111111,\"#46039f\"],[0.2222222222222222,\"#7201a8\"],[0.3333333333333333,\"#9c179e\"],[0.4444444444444444,\"#bd3786\"],[0.5555555555555556,\"#d8576b\"],[0.6666666666666666,\"#ed7953\"],[0.7777777777777778,\"#fb9f3a\"],[0.8888888888888888,\"#fdca26\"],[1.0,\"#f0f921\"]],\"type\":\"contour\"}],\"contourcarpet\":[{\"colorbar\":{\"outlinewidth\":0,\"ticks\":\"\"},\"type\":\"contourcarpet\"}],\"heatmap\":[{\"colorbar\":{\"outlinewidth\":0,\"ticks\":\"\"},\"colorscale\":[[0.0,\"#0d0887\"],[0.1111111111111111,\"#46039f\"],[0.2222222222222222,\"#7201a8\"],[0.3333333333333333,\"#9c179e\"],[0.4444444444444444,\"#bd3786\"],[0.5555555555555556,\"#d8576b\"],[0.6666666666666666,\"#ed7953\"],[0.7777777777777778,\"#fb9f3a\"],[0.8888888888888888,\"#fdca26\"],[1.0,\"#f0f921\"]],\"type\":\"heatmap\"}],\"heatmapgl\":[{\"colorbar\":{\"outlinewidth\":0,\"ticks\":\"\"},\"colorscale\":[[0.0,\"#0d0887\"],[0.1111111111111111,\"#46039f\"],[0.2222222222222222,\"#7201a8\"],[0.3333333333333333,\"#9c179e\"],[0.4444444444444444,\"#bd3786\"],[0.5555555555555556,\"#d8576b\"],[0.6666666666666666,\"#ed7953\"],[0.7777777777777778,\"#fb9f3a\"],[0.8888888888888888,\"#fdca26\"],[1.0,\"#f0f921\"]],\"type\":\"heatmapgl\"}],\"histogram\":[{\"marker\":{\"pattern\":{\"fillmode\":\"overlay\",\"size\":10,\"solidity\":0.2}},\"type\":\"histogram\"}],\"histogram2d\":[{\"colorbar\":{\"outlinewidth\":0,\"ticks\":\"\"},\"colorscale\":[[0.0,\"#0d0887\"],[0.1111111111111111,\"#46039f\"],[0.2222222222222222,\"#7201a8\"],[0.3333333333333333,\"#9c179e\"],[0.4444444444444444,\"#bd3786\"],[0.5555555555555556,\"#d8576b\"],[0.6666666666666666,\"#ed7953\"],[0.7777777777777778,\"#fb9f3a\"],[0.8888888888888888,\"#fdca26\"],[1.0,\"#f0f921\"]],\"type\":\"histogram2d\"}],\"histogram2dcontour\":[{\"colorbar\":{\"outlinewidth\":0,\"ticks\":\"\"},\"colorscale\":[[0.0,\"#0d0887\"],[0.1111111111111111,\"#46039f\"],[0.2222222222222222,\"#7201a8\"],[0.3333333333333333,\"#9c179e\"],[0.4444444444444444,\"#bd3786\"],[0.5555555555555556,\"#d8576b\"],[0.6666666666666666,\"#ed7953\"],[0.7777777777777778,\"#fb9f3a\"],[0.8888888888888888,\"#fdca26\"],[1.0,\"#f0f921\"]],\"type\":\"histogram2dcontour\"}],\"mesh3d\":[{\"colorbar\":{\"outlinewidth\":0,\"ticks\":\"\"},\"type\":\"mesh3d\"}],\"parcoords\":[{\"line\":{\"colorbar\":{\"outlinewidth\":0,\"ticks\":\"\"}},\"type\":\"parcoords\"}],\"pie\":[{\"automargin\":true,\"type\":\"pie\"}],\"scatter\":[{\"marker\":{\"colorbar\":{\"outlinewidth\":0,\"ticks\":\"\"}},\"type\":\"scatter\"}],\"scatter3d\":[{\"line\":{\"colorbar\":{\"outlinewidth\":0,\"ticks\":\"\"}},\"marker\":{\"colorbar\":{\"outlinewidth\":0,\"ticks\":\"\"}},\"type\":\"scatter3d\"}],\"scattercarpet\":[{\"marker\":{\"colorbar\":{\"outlinewidth\":0,\"ticks\":\"\"}},\"type\":\"scattercarpet\"}],\"scattergeo\":[{\"marker\":{\"colorbar\":{\"outlinewidth\":0,\"ticks\":\"\"}},\"type\":\"scattergeo\"}],\"scattergl\":[{\"marker\":{\"colorbar\":{\"outlinewidth\":0,\"ticks\":\"\"}},\"type\":\"scattergl\"}],\"scattermapbox\":[{\"marker\":{\"colorbar\":{\"outlinewidth\":0,\"ticks\":\"\"}},\"type\":\"scattermapbox\"}],\"scatterpolar\":[{\"marker\":{\"colorbar\":{\"outlinewidth\":0,\"ticks\":\"\"}},\"type\":\"scatterpolar\"}],\"scatterpolargl\":[{\"marker\":{\"colorbar\":{\"outlinewidth\":0,\"ticks\":\"\"}},\"type\":\"scatterpolargl\"}],\"scatterternary\":[{\"marker\":{\"colorbar\":{\"outlinewidth\":0,\"ticks\":\"\"}},\"type\":\"scatterternary\"}],\"surface\":[{\"colorbar\":{\"outlinewidth\":0,\"ticks\":\"\"},\"colorscale\":[[0.0,\"#0d0887\"],[0.1111111111111111,\"#46039f\"],[0.2222222222222222,\"#7201a8\"],[0.3333333333333333,\"#9c179e\"],[0.4444444444444444,\"#bd3786\"],[0.5555555555555556,\"#d8576b\"],[0.6666666666666666,\"#ed7953\"],[0.7777777777777778,\"#fb9f3a\"],[0.8888888888888888,\"#fdca26\"],[1.0,\"#f0f921\"]],\"type\":\"surface\"}],\"table\":[{\"cells\":{\"fill\":{\"color\":\"#EBF0F8\"},\"line\":{\"color\":\"white\"}},\"header\":{\"fill\":{\"color\":\"#C8D4E3\"},\"line\":{\"color\":\"white\"}},\"type\":\"table\"}]},\"layout\":{\"annotationdefaults\":{\"arrowcolor\":\"#2a3f5f\",\"arrowhead\":0,\"arrowwidth\":1},\"autotypenumbers\":\"strict\",\"coloraxis\":{\"colorbar\":{\"outlinewidth\":0,\"ticks\":\"\"}},\"colorscale\":{\"diverging\":[[0,\"#8e0152\"],[0.1,\"#c51b7d\"],[0.2,\"#de77ae\"],[0.3,\"#f1b6da\"],[0.4,\"#fde0ef\"],[0.5,\"#f7f7f7\"],[0.6,\"#e6f5d0\"],[0.7,\"#b8e186\"],[0.8,\"#7fbc41\"],[0.9,\"#4d9221\"],[1,\"#276419\"]],\"sequential\":[[0.0,\"#0d0887\"],[0.1111111111111111,\"#46039f\"],[0.2222222222222222,\"#7201a8\"],[0.3333333333333333,\"#9c179e\"],[0.4444444444444444,\"#bd3786\"],[0.5555555555555556,\"#d8576b\"],[0.6666666666666666,\"#ed7953\"],[0.7777777777777778,\"#fb9f3a\"],[0.8888888888888888,\"#fdca26\"],[1.0,\"#f0f921\"]],\"sequentialminus\":[[0.0,\"#0d0887\"],[0.1111111111111111,\"#46039f\"],[0.2222222222222222,\"#7201a8\"],[0.3333333333333333,\"#9c179e\"],[0.4444444444444444,\"#bd3786\"],[0.5555555555555556,\"#d8576b\"],[0.6666666666666666,\"#ed7953\"],[0.7777777777777778,\"#fb9f3a\"],[0.8888888888888888,\"#fdca26\"],[1.0,\"#f0f921\"]]},\"colorway\":[\"#636efa\",\"#EF553B\",\"#00cc96\",\"#ab63fa\",\"#FFA15A\",\"#19d3f3\",\"#FF6692\",\"#B6E880\",\"#FF97FF\",\"#FECB52\"],\"font\":{\"color\":\"#2a3f5f\"},\"geo\":{\"bgcolor\":\"white\",\"lakecolor\":\"white\",\"landcolor\":\"#E5ECF6\",\"showlakes\":true,\"showland\":true,\"subunitcolor\":\"white\"},\"hoverlabel\":{\"align\":\"left\"},\"hovermode\":\"closest\",\"mapbox\":{\"style\":\"light\"},\"paper_bgcolor\":\"white\",\"plot_bgcolor\":\"#E5ECF6\",\"polar\":{\"angularaxis\":{\"gridcolor\":\"white\",\"linecolor\":\"white\",\"ticks\":\"\"},\"bgcolor\":\"#E5ECF6\",\"radialaxis\":{\"gridcolor\":\"white\",\"linecolor\":\"white\",\"ticks\":\"\"}},\"scene\":{\"xaxis\":{\"backgroundcolor\":\"#E5ECF6\",\"gridcolor\":\"white\",\"gridwidth\":2,\"linecolor\":\"white\",\"showbackground\":true,\"ticks\":\"\",\"zerolinecolor\":\"white\"},\"yaxis\":{\"backgroundcolor\":\"#E5ECF6\",\"gridcolor\":\"white\",\"gridwidth\":2,\"linecolor\":\"white\",\"showbackground\":true,\"ticks\":\"\",\"zerolinecolor\":\"white\"},\"zaxis\":{\"backgroundcolor\":\"#E5ECF6\",\"gridcolor\":\"white\",\"gridwidth\":2,\"linecolor\":\"white\",\"showbackground\":true,\"ticks\":\"\",\"zerolinecolor\":\"white\"}},\"shapedefaults\":{\"line\":{\"color\":\"#2a3f5f\"}},\"ternary\":{\"aaxis\":{\"gridcolor\":\"white\",\"linecolor\":\"white\",\"ticks\":\"\"},\"baxis\":{\"gridcolor\":\"white\",\"linecolor\":\"white\",\"ticks\":\"\"},\"bgcolor\":\"#E5ECF6\",\"caxis\":{\"gridcolor\":\"white\",\"linecolor\":\"white\",\"ticks\":\"\"}},\"title\":{\"x\":0.05},\"xaxis\":{\"automargin\":true,\"gridcolor\":\"white\",\"linecolor\":\"white\",\"ticks\":\"\",\"title\":{\"standoff\":15},\"zerolinecolor\":\"white\",\"zerolinewidth\":2},\"yaxis\":{\"automargin\":true,\"gridcolor\":\"white\",\"linecolor\":\"white\",\"ticks\":\"\",\"title\":{\"standoff\":15},\"zerolinecolor\":\"white\",\"zerolinewidth\":2}}},\"xaxis\":{\"anchor\":\"y\",\"domain\":[0.0,1.0],\"title\":{\"text\":\"Terminal\"}},\"yaxis\":{\"anchor\":\"x\",\"domain\":[0.0,1.0],\"title\":{\"text\":\"Velocidade do Vento (Km/h)\"}},\"legend\":{\"title\":{\"text\":\"Recomenda\\u00e7\\u00e3o da Capitania\"},\"tracegroupgap\":0},\"margin\":{\"t\":60},\"boxmode\":\"group\",\"height\":600,\"width\":1000},                        {\"responsive\": true}                    ).then(function(){\n",
              "                            \n",
              "var gd = document.getElementById('048f24ff-cb36-4b2b-bc9f-7662a2696440');\n",
              "var x = new MutationObserver(function (mutations, observer) {{\n",
              "        var display = window.getComputedStyle(gd).display;\n",
              "        if (!display || display === 'none') {{\n",
              "            console.log([gd, 'removed!']);\n",
              "            Plotly.purge(gd);\n",
              "            observer.disconnect();\n",
              "        }}\n",
              "}});\n",
              "\n",
              "// Listen for the removal of the full notebook cells\n",
              "var notebookContainer = gd.closest('#notebook-container');\n",
              "if (notebookContainer) {{\n",
              "    x.observe(notebookContainer, {childList: true});\n",
              "}}\n",
              "\n",
              "// Listen for the clearing of the current output cell\n",
              "var outputEl = gd.closest('.output');\n",
              "if (outputEl) {{\n",
              "    x.observe(outputEl, {childList: true});\n",
              "}}\n",
              "\n",
              "                        })                };                            </script>        </div>\n",
              "</body>\n",
              "</html>"
            ]
          },
          "metadata": {}
        }
      ]
    },
    {
      "cell_type": "markdown",
      "source": [
        "Chuva (mm)"
      ],
      "metadata": {
        "id": "FOLci52U_QgB"
      }
    },
    {
      "cell_type": "code",
      "source": [
        "fig = px.box(dataset_original, x=\"Terminal\", y=\"Chuva (mm)\", color=\"Recomendação da Capitania\", width = 1000, height = 600)\n",
        "fig.update_traces(quartilemethod=\"exclusive\") # or \"inclusive\", or \"linear\" by default\n",
        "fig.show()"
      ],
      "metadata": {
        "colab": {
          "base_uri": "https://localhost:8080/",
          "height": 0
        },
        "id": "FjuANb6SA_T9",
        "outputId": "7094af7a-242e-4a7b-a336-4ff45f4602ea"
      },
      "execution_count": 984,
      "outputs": [
        {
          "output_type": "display_data",
          "data": {
            "text/html": [
              "<html>\n",
              "<head><meta charset=\"utf-8\" /></head>\n",
              "<body>\n",
              "    <div>            <script src=\"https://cdnjs.cloudflare.com/ajax/libs/mathjax/2.7.5/MathJax.js?config=TeX-AMS-MML_SVG\"></script><script type=\"text/javascript\">if (window.MathJax) {MathJax.Hub.Config({SVG: {font: \"STIX-Web\"}});}</script>                <script type=\"text/javascript\">window.PlotlyConfig = {MathJaxConfig: 'local'};</script>\n",
              "        <script src=\"https://cdn.plot.ly/plotly-2.8.3.min.js\"></script>                <div id=\"4c066fdb-07ad-4e71-85af-879383bfe338\" class=\"plotly-graph-div\" style=\"height:600px; width:1000px;\"></div>            <script type=\"text/javascript\">                                    window.PLOTLYENV=window.PLOTLYENV || {};                                    if (document.getElementById(\"4c066fdb-07ad-4e71-85af-879383bfe338\")) {                    Plotly.newPlot(                        \"4c066fdb-07ad-4e71-85af-879383bfe338\",                        [{\"alignmentgroup\":\"True\",\"hovertemplate\":\"Recomenda\\u00e7\\u00e3o da Capitania=Verde<br>Terminal=%{x}<br>Chuva (mm)=%{y}<extra></extra>\",\"legendgroup\":\"Verde\",\"marker\":{\"color\":\"#636efa\"},\"name\":\"Verde\",\"notched\":false,\"offsetgroup\":\"Verde\",\"orientation\":\"v\",\"showlegend\":true,\"x\":[\"Mar grande\",\"Mar grande\",\"Mar grande\",\"Mar grande\",\"Mar grande\",\"Mar grande\",\"Mar grande\",\"Mar grande\",\"Mar grande\",\"Mar grande\",\"Mar grande\",\"Mar grande\",\"Mar grande\",\"Mar grande\",\"Salvador\",\"Salvador\",\"Salvador\",\"Salvador\",\"Salvador\",\"Salvador\",\"Salvador\",\"Salvador\",\"Salvador\",\"Salvador\",\"Salvador\",\"Salvador\",\"Salvador\",\"Salvador\",\"Mar grande\",\"Mar grande\",\"Mar grande\",\"Mar grande\",\"Mar grande\",\"Mar grande\",\"Mar grande\",\"Mar grande\",\"Mar grande\",\"Mar grande\",\"Mar grande\",\"Mar grande\",\"Mar grande\",\"Mar grande\",\"Salvador\",\"Salvador\",\"Salvador\",\"Salvador\",\"Salvador\",\"Salvador\",\"Salvador\",\"Salvador\",\"Salvador\",\"Salvador\",\"Salvador\",\"Salvador\",\"Salvador\",\"Salvador\",\"Mar grande\",\"Mar grande\",\"Mar grande\",\"Mar grande\",\"Mar grande\",\"Mar grande\",\"Mar grande\",\"Mar grande\",\"Mar grande\",\"Mar grande\",\"Mar grande\",\"Mar grande\",\"Mar grande\",\"Mar grande\",\"Salvador\",\"Salvador\",\"Salvador\",\"Salvador\",\"Salvador\",\"Salvador\",\"Salvador\",\"Salvador\",\"Salvador\",\"Salvador\",\"Salvador\",\"Salvador\",\"Salvador\",\"Salvador\",\"Mar grande\",\"Mar grande\",\"Mar grande\",\"Mar grande\",\"Mar grande\",\"Mar grande\",\"Mar grande\",\"Mar grande\",\"Mar grande\",\"Mar grande\",\"Mar grande\",\"Mar grande\",\"Mar grande\",\"Mar grande\",\"Salvador\",\"Salvador\",\"Salvador\",\"Salvador\",\"Salvador\",\"Salvador\",\"Salvador\",\"Salvador\",\"Salvador\",\"Salvador\",\"Salvador\",\"Salvador\",\"Salvador\",\"Salvador\",\"Mar grande\",\"Mar grande\",\"Mar grande\",\"Mar grande\",\"Salvador\",\"Salvador\",\"Salvador\",\"Salvador\",\"Mar grande\",\"Mar grande\",\"Mar grande\",\"Mar grande\",\"Salvador\",\"Salvador\",\"Salvador\",\"Salvador\",\"Mar grande\",\"Mar grande\",\"Mar grande\",\"Mar grande\",\"Salvador\",\"Salvador\",\"Salvador\",\"Salvador\",\"Mar grande\",\"Mar grande\",\"Mar grande\",\"Mar grande\",\"Salvador\",\"Salvador\",\"Salvador\",\"Salvador\",\"Mar grande\",\"Mar grande\",\"Mar grande\",\"Mar grande\",\"Salvador\",\"Salvador\",\"Salvador\",\"Salvador\",\"Mar grande\",\"Mar grande\",\"Mar grande\",\"Mar grande\",\"Salvador\",\"Salvador\",\"Salvador\",\"Salvador\",\"Mar grande\",\"Mar grande\",\"Mar grande\",\"Mar grande\",\"Salvador\",\"Salvador\",\"Salvador\",\"Salvador\",\"Mar grande\",\"Mar grande\",\"Mar grande\",\"Mar grande\",\"Salvador\",\"Salvador\",\"Salvador\",\"Salvador\",\"Mar grande\",\"Mar grande\",\"Mar grande\",\"Mar grande\",\"Salvador\",\"Salvador\",\"Salvador\",\"Salvador\",\"Mar grande\",\"Mar grande\",\"Mar grande\",\"Mar grande\",\"Salvador\",\"Salvador\",\"Salvador\",\"Salvador\",\"Mar grande\",\"Mar grande\",\"Mar grande\",\"Mar grande\",\"Salvador\",\"Salvador\",\"Salvador\",\"Salvador\",\"Mar grande\"],\"x0\":\" \",\"xaxis\":\"x\",\"y\":[0.33,0.33,0.33,0.33,0.33,0.33,0.33,0.33,0.33,0.33,0.33,0.33,0.33,0.33,0.33,0.33,0.33,0.33,0.33,0.33,0.33,0.33,0.33,0.33,0.33,0.33,0.33,0.33,0.33,0.33,0.33,0.33,0.33,0.33,0.33,0.33,0.33,0.33,0.33,0.33,0.33,0.33,0.33,0.33,0.33,0.33,0.33,0.33,0.33,0.33,0.33,0.33,0.33,0.33,0.33,0.42,0.0,0.0,0.0,0.0,0.0,0.42,0.42,0.42,0.42,0.42,0.42,0.42,0.42,0.42,0.0,0.0,0.0,0.0,0.42,0.42,0.42,0.42,0.42,0.42,0.42,0.42,0.42,0.42,2.5,2.5,2.5,2.5,2.5,2.5,2.5,2.5,2.5,2.5,2.5,2.5,2.5,2.5,2.5,2.5,2.5,2.5,2.5,2.5,2.5,2.5,2.5,2.5,2.5,2.5,2.5,2.5,0.63,0.63,0.63,0.63,0.63,0.63,0.63,0.63,0.42,0.42,0.42,0.42,0.42,0.42,0.42,0.42,0.42,0.42,0.42,0.42,0.42,0.42,0.42,0.42,0.44,0.44,0.44,0.0,0.44,0.44,0.44,0.0,0.0,0.0,0.0,0.0,0.0,0.0,0.0,0.0,0.0,0.0,0.0,0.0,0.0,0.0,0.0,0.0,0.42,0.42,0.0,0.0,0.42,0.0,0.0,0.0,0.0,0.0,0.0,0.0,0.0,0.0,0.0,0.0,2.92,2.92,2.92,2.92,2.92,2.92,2.92,2.92,0.83,0.83,0.83,0.0,0.83,0.83,0.83,0.0,0.21,0.21,0.21,0.21,0.21,0.21,0.21,0.21,0.39],\"y0\":\" \",\"yaxis\":\"y\",\"type\":\"box\",\"quartilemethod\":\"exclusive\"},{\"alignmentgroup\":\"True\",\"hovertemplate\":\"Recomenda\\u00e7\\u00e3o da Capitania=Vermelho<br>Terminal=%{x}<br>Chuva (mm)=%{y}<extra></extra>\",\"legendgroup\":\"Vermelho\",\"marker\":{\"color\":\"#EF553B\"},\"name\":\"Vermelho\",\"notched\":false,\"offsetgroup\":\"Vermelho\",\"orientation\":\"v\",\"showlegend\":true,\"x\":[\"Mar grande\",\"Mar grande\",\"Mar grande\",\"Mar grande\",\"Salvador\",\"Salvador\",\"Salvador\",\"Salvador\",\"Mar grande\",\"Mar grande\",\"Mar grande\",\"Mar grande\",\"Salvador\",\"Salvador\",\"Salvador\",\"Salvador\",\"Mar grande\",\"Mar grande\",\"Mar grande\",\"Mar grande\",\"Salvador\",\"Salvador\",\"Salvador\",\"Salvador\",\"Mar grande\",\"Mar grande\",\"Mar grande\",\"Mar grande\",\"Salvador\",\"Salvador\",\"Salvador\",\"Salvador\",\"Mar grande\",\"Mar grande\",\"Mar grande\",\"Salvador\",\"Salvador\",\"Salvador\",\"Salvador\",\"Mar grande\",\"Mar grande\",\"Mar grande\",\"Mar grande\",\"Salvador\",\"Salvador\",\"Salvador\",\"Salvador\",\"Mar grande\",\"Mar grande\",\"Mar grande\",\"Mar grande\",\"Salvador\",\"Salvador\",\"Salvador\",\"Salvador\",\"Mar grande\",\"Mar grande\",\"Mar grande\",\"Mar grande\",\"Salvador\",\"Salvador\",\"Salvador\",\"Salvador\",\"Mar grande\",\"Mar grande\",\"Mar grande\",\"Mar grande\",\"Salvador\",\"Salvador\",\"Salvador\",\"Salvador\",\"Mar grande\",\"Mar grande\",\"Mar grande\",\"Mar grande\",\"Salvador\",\"Salvador\",\"Salvador\",\"Salvador\",\"Mar grande\",\"Mar grande\",\"Mar grande\",\"Mar grande\",\"Salvador\",\"Salvador\",\"Salvador\",\"Salvador\",\"Mar grande\",\"Mar grande\",\"Mar grande\",\"Mar grande\",\"Salvador\",\"Salvador\",\"Salvador\",\"Salvador\"],\"x0\":\" \",\"xaxis\":\"x\",\"y\":[1.67,1.67,1.67,1.67,1.67,1.67,1.67,1.67,0.63,0.63,0.63,0.63,0.63,0.63,0.63,0.63,1.88,1.88,1.88,1.88,1.88,1.88,1.88,1.88,0.63,0.63,0.63,0.63,0.63,0.63,0.63,0.63,0.39,0.39,0.0,0.39,0.39,0.39,0.0,1.88,1.88,1.88,1.88,1.88,1.88,1.88,1.88,5.83,5.83,5.83,5.83,5.83,5.83,5.83,5.83,2.5,2.5,2.5,2.5,2.5,2.5,2.5,2.5,3.33,3.33,3.33,3.33,3.33,3.33,3.33,3.33,1.04,1.04,1.04,1.04,1.04,1.04,1.04,1.04,0.0,0.0,0.83,0.83,0.0,0.0,0.83,0.83,0.83,0.83,0.83,0.83,0.83,0.83,0.83,0.83],\"y0\":\" \",\"yaxis\":\"y\",\"type\":\"box\",\"quartilemethod\":\"exclusive\"},{\"alignmentgroup\":\"True\",\"hovertemplate\":\"Recomenda\\u00e7\\u00e3o da Capitania=Amarelo<br>Terminal=%{x}<br>Chuva (mm)=%{y}<extra></extra>\",\"legendgroup\":\"Amarelo\",\"marker\":{\"color\":\"#00cc96\"},\"name\":\"Amarelo\",\"notched\":false,\"offsetgroup\":\"Amarelo\",\"orientation\":\"v\",\"showlegend\":true,\"x\":[\"Mar grande\",\"Mar grande\",\"Mar grande\",\"Mar grande\",\"Salvador\",\"Salvador\",\"Salvador\",\"Salvador\",\"Mar grande\",\"Mar grande\",\"Mar grande\",\"Mar grande\",\"Salvador\",\"Salvador\",\"Salvador\",\"Salvador\",\"Mar grande\",\"Mar grande\",\"Mar grande\",\"Mar grande\",\"Salvador\",\"Salvador\",\"Salvador\",\"Salvador\"],\"x0\":\" \",\"xaxis\":\"x\",\"y\":[0.63,0.63,0.63,0.63,0.63,0.63,0.63,0.63,0.42,0.42,0.42,0.42,0.42,0.42,0.42,0.42,0.25,0.25,0.25,0.25,0.25,0.25,0.25,0.25],\"y0\":\" \",\"yaxis\":\"y\",\"type\":\"box\",\"quartilemethod\":\"exclusive\"}],                        {\"template\":{\"data\":{\"bar\":[{\"error_x\":{\"color\":\"#2a3f5f\"},\"error_y\":{\"color\":\"#2a3f5f\"},\"marker\":{\"line\":{\"color\":\"#E5ECF6\",\"width\":0.5},\"pattern\":{\"fillmode\":\"overlay\",\"size\":10,\"solidity\":0.2}},\"type\":\"bar\"}],\"barpolar\":[{\"marker\":{\"line\":{\"color\":\"#E5ECF6\",\"width\":0.5},\"pattern\":{\"fillmode\":\"overlay\",\"size\":10,\"solidity\":0.2}},\"type\":\"barpolar\"}],\"carpet\":[{\"aaxis\":{\"endlinecolor\":\"#2a3f5f\",\"gridcolor\":\"white\",\"linecolor\":\"white\",\"minorgridcolor\":\"white\",\"startlinecolor\":\"#2a3f5f\"},\"baxis\":{\"endlinecolor\":\"#2a3f5f\",\"gridcolor\":\"white\",\"linecolor\":\"white\",\"minorgridcolor\":\"white\",\"startlinecolor\":\"#2a3f5f\"},\"type\":\"carpet\"}],\"choropleth\":[{\"colorbar\":{\"outlinewidth\":0,\"ticks\":\"\"},\"type\":\"choropleth\"}],\"contour\":[{\"colorbar\":{\"outlinewidth\":0,\"ticks\":\"\"},\"colorscale\":[[0.0,\"#0d0887\"],[0.1111111111111111,\"#46039f\"],[0.2222222222222222,\"#7201a8\"],[0.3333333333333333,\"#9c179e\"],[0.4444444444444444,\"#bd3786\"],[0.5555555555555556,\"#d8576b\"],[0.6666666666666666,\"#ed7953\"],[0.7777777777777778,\"#fb9f3a\"],[0.8888888888888888,\"#fdca26\"],[1.0,\"#f0f921\"]],\"type\":\"contour\"}],\"contourcarpet\":[{\"colorbar\":{\"outlinewidth\":0,\"ticks\":\"\"},\"type\":\"contourcarpet\"}],\"heatmap\":[{\"colorbar\":{\"outlinewidth\":0,\"ticks\":\"\"},\"colorscale\":[[0.0,\"#0d0887\"],[0.1111111111111111,\"#46039f\"],[0.2222222222222222,\"#7201a8\"],[0.3333333333333333,\"#9c179e\"],[0.4444444444444444,\"#bd3786\"],[0.5555555555555556,\"#d8576b\"],[0.6666666666666666,\"#ed7953\"],[0.7777777777777778,\"#fb9f3a\"],[0.8888888888888888,\"#fdca26\"],[1.0,\"#f0f921\"]],\"type\":\"heatmap\"}],\"heatmapgl\":[{\"colorbar\":{\"outlinewidth\":0,\"ticks\":\"\"},\"colorscale\":[[0.0,\"#0d0887\"],[0.1111111111111111,\"#46039f\"],[0.2222222222222222,\"#7201a8\"],[0.3333333333333333,\"#9c179e\"],[0.4444444444444444,\"#bd3786\"],[0.5555555555555556,\"#d8576b\"],[0.6666666666666666,\"#ed7953\"],[0.7777777777777778,\"#fb9f3a\"],[0.8888888888888888,\"#fdca26\"],[1.0,\"#f0f921\"]],\"type\":\"heatmapgl\"}],\"histogram\":[{\"marker\":{\"pattern\":{\"fillmode\":\"overlay\",\"size\":10,\"solidity\":0.2}},\"type\":\"histogram\"}],\"histogram2d\":[{\"colorbar\":{\"outlinewidth\":0,\"ticks\":\"\"},\"colorscale\":[[0.0,\"#0d0887\"],[0.1111111111111111,\"#46039f\"],[0.2222222222222222,\"#7201a8\"],[0.3333333333333333,\"#9c179e\"],[0.4444444444444444,\"#bd3786\"],[0.5555555555555556,\"#d8576b\"],[0.6666666666666666,\"#ed7953\"],[0.7777777777777778,\"#fb9f3a\"],[0.8888888888888888,\"#fdca26\"],[1.0,\"#f0f921\"]],\"type\":\"histogram2d\"}],\"histogram2dcontour\":[{\"colorbar\":{\"outlinewidth\":0,\"ticks\":\"\"},\"colorscale\":[[0.0,\"#0d0887\"],[0.1111111111111111,\"#46039f\"],[0.2222222222222222,\"#7201a8\"],[0.3333333333333333,\"#9c179e\"],[0.4444444444444444,\"#bd3786\"],[0.5555555555555556,\"#d8576b\"],[0.6666666666666666,\"#ed7953\"],[0.7777777777777778,\"#fb9f3a\"],[0.8888888888888888,\"#fdca26\"],[1.0,\"#f0f921\"]],\"type\":\"histogram2dcontour\"}],\"mesh3d\":[{\"colorbar\":{\"outlinewidth\":0,\"ticks\":\"\"},\"type\":\"mesh3d\"}],\"parcoords\":[{\"line\":{\"colorbar\":{\"outlinewidth\":0,\"ticks\":\"\"}},\"type\":\"parcoords\"}],\"pie\":[{\"automargin\":true,\"type\":\"pie\"}],\"scatter\":[{\"marker\":{\"colorbar\":{\"outlinewidth\":0,\"ticks\":\"\"}},\"type\":\"scatter\"}],\"scatter3d\":[{\"line\":{\"colorbar\":{\"outlinewidth\":0,\"ticks\":\"\"}},\"marker\":{\"colorbar\":{\"outlinewidth\":0,\"ticks\":\"\"}},\"type\":\"scatter3d\"}],\"scattercarpet\":[{\"marker\":{\"colorbar\":{\"outlinewidth\":0,\"ticks\":\"\"}},\"type\":\"scattercarpet\"}],\"scattergeo\":[{\"marker\":{\"colorbar\":{\"outlinewidth\":0,\"ticks\":\"\"}},\"type\":\"scattergeo\"}],\"scattergl\":[{\"marker\":{\"colorbar\":{\"outlinewidth\":0,\"ticks\":\"\"}},\"type\":\"scattergl\"}],\"scattermapbox\":[{\"marker\":{\"colorbar\":{\"outlinewidth\":0,\"ticks\":\"\"}},\"type\":\"scattermapbox\"}],\"scatterpolar\":[{\"marker\":{\"colorbar\":{\"outlinewidth\":0,\"ticks\":\"\"}},\"type\":\"scatterpolar\"}],\"scatterpolargl\":[{\"marker\":{\"colorbar\":{\"outlinewidth\":0,\"ticks\":\"\"}},\"type\":\"scatterpolargl\"}],\"scatterternary\":[{\"marker\":{\"colorbar\":{\"outlinewidth\":0,\"ticks\":\"\"}},\"type\":\"scatterternary\"}],\"surface\":[{\"colorbar\":{\"outlinewidth\":0,\"ticks\":\"\"},\"colorscale\":[[0.0,\"#0d0887\"],[0.1111111111111111,\"#46039f\"],[0.2222222222222222,\"#7201a8\"],[0.3333333333333333,\"#9c179e\"],[0.4444444444444444,\"#bd3786\"],[0.5555555555555556,\"#d8576b\"],[0.6666666666666666,\"#ed7953\"],[0.7777777777777778,\"#fb9f3a\"],[0.8888888888888888,\"#fdca26\"],[1.0,\"#f0f921\"]],\"type\":\"surface\"}],\"table\":[{\"cells\":{\"fill\":{\"color\":\"#EBF0F8\"},\"line\":{\"color\":\"white\"}},\"header\":{\"fill\":{\"color\":\"#C8D4E3\"},\"line\":{\"color\":\"white\"}},\"type\":\"table\"}]},\"layout\":{\"annotationdefaults\":{\"arrowcolor\":\"#2a3f5f\",\"arrowhead\":0,\"arrowwidth\":1},\"autotypenumbers\":\"strict\",\"coloraxis\":{\"colorbar\":{\"outlinewidth\":0,\"ticks\":\"\"}},\"colorscale\":{\"diverging\":[[0,\"#8e0152\"],[0.1,\"#c51b7d\"],[0.2,\"#de77ae\"],[0.3,\"#f1b6da\"],[0.4,\"#fde0ef\"],[0.5,\"#f7f7f7\"],[0.6,\"#e6f5d0\"],[0.7,\"#b8e186\"],[0.8,\"#7fbc41\"],[0.9,\"#4d9221\"],[1,\"#276419\"]],\"sequential\":[[0.0,\"#0d0887\"],[0.1111111111111111,\"#46039f\"],[0.2222222222222222,\"#7201a8\"],[0.3333333333333333,\"#9c179e\"],[0.4444444444444444,\"#bd3786\"],[0.5555555555555556,\"#d8576b\"],[0.6666666666666666,\"#ed7953\"],[0.7777777777777778,\"#fb9f3a\"],[0.8888888888888888,\"#fdca26\"],[1.0,\"#f0f921\"]],\"sequentialminus\":[[0.0,\"#0d0887\"],[0.1111111111111111,\"#46039f\"],[0.2222222222222222,\"#7201a8\"],[0.3333333333333333,\"#9c179e\"],[0.4444444444444444,\"#bd3786\"],[0.5555555555555556,\"#d8576b\"],[0.6666666666666666,\"#ed7953\"],[0.7777777777777778,\"#fb9f3a\"],[0.8888888888888888,\"#fdca26\"],[1.0,\"#f0f921\"]]},\"colorway\":[\"#636efa\",\"#EF553B\",\"#00cc96\",\"#ab63fa\",\"#FFA15A\",\"#19d3f3\",\"#FF6692\",\"#B6E880\",\"#FF97FF\",\"#FECB52\"],\"font\":{\"color\":\"#2a3f5f\"},\"geo\":{\"bgcolor\":\"white\",\"lakecolor\":\"white\",\"landcolor\":\"#E5ECF6\",\"showlakes\":true,\"showland\":true,\"subunitcolor\":\"white\"},\"hoverlabel\":{\"align\":\"left\"},\"hovermode\":\"closest\",\"mapbox\":{\"style\":\"light\"},\"paper_bgcolor\":\"white\",\"plot_bgcolor\":\"#E5ECF6\",\"polar\":{\"angularaxis\":{\"gridcolor\":\"white\",\"linecolor\":\"white\",\"ticks\":\"\"},\"bgcolor\":\"#E5ECF6\",\"radialaxis\":{\"gridcolor\":\"white\",\"linecolor\":\"white\",\"ticks\":\"\"}},\"scene\":{\"xaxis\":{\"backgroundcolor\":\"#E5ECF6\",\"gridcolor\":\"white\",\"gridwidth\":2,\"linecolor\":\"white\",\"showbackground\":true,\"ticks\":\"\",\"zerolinecolor\":\"white\"},\"yaxis\":{\"backgroundcolor\":\"#E5ECF6\",\"gridcolor\":\"white\",\"gridwidth\":2,\"linecolor\":\"white\",\"showbackground\":true,\"ticks\":\"\",\"zerolinecolor\":\"white\"},\"zaxis\":{\"backgroundcolor\":\"#E5ECF6\",\"gridcolor\":\"white\",\"gridwidth\":2,\"linecolor\":\"white\",\"showbackground\":true,\"ticks\":\"\",\"zerolinecolor\":\"white\"}},\"shapedefaults\":{\"line\":{\"color\":\"#2a3f5f\"}},\"ternary\":{\"aaxis\":{\"gridcolor\":\"white\",\"linecolor\":\"white\",\"ticks\":\"\"},\"baxis\":{\"gridcolor\":\"white\",\"linecolor\":\"white\",\"ticks\":\"\"},\"bgcolor\":\"#E5ECF6\",\"caxis\":{\"gridcolor\":\"white\",\"linecolor\":\"white\",\"ticks\":\"\"}},\"title\":{\"x\":0.05},\"xaxis\":{\"automargin\":true,\"gridcolor\":\"white\",\"linecolor\":\"white\",\"ticks\":\"\",\"title\":{\"standoff\":15},\"zerolinecolor\":\"white\",\"zerolinewidth\":2},\"yaxis\":{\"automargin\":true,\"gridcolor\":\"white\",\"linecolor\":\"white\",\"ticks\":\"\",\"title\":{\"standoff\":15},\"zerolinecolor\":\"white\",\"zerolinewidth\":2}}},\"xaxis\":{\"anchor\":\"y\",\"domain\":[0.0,1.0],\"title\":{\"text\":\"Terminal\"}},\"yaxis\":{\"anchor\":\"x\",\"domain\":[0.0,1.0],\"title\":{\"text\":\"Chuva (mm)\"}},\"legend\":{\"title\":{\"text\":\"Recomenda\\u00e7\\u00e3o da Capitania\"},\"tracegroupgap\":0},\"margin\":{\"t\":60},\"boxmode\":\"group\",\"height\":600,\"width\":1000},                        {\"responsive\": true}                    ).then(function(){\n",
              "                            \n",
              "var gd = document.getElementById('4c066fdb-07ad-4e71-85af-879383bfe338');\n",
              "var x = new MutationObserver(function (mutations, observer) {{\n",
              "        var display = window.getComputedStyle(gd).display;\n",
              "        if (!display || display === 'none') {{\n",
              "            console.log([gd, 'removed!']);\n",
              "            Plotly.purge(gd);\n",
              "            observer.disconnect();\n",
              "        }}\n",
              "}});\n",
              "\n",
              "// Listen for the removal of the full notebook cells\n",
              "var notebookContainer = gd.closest('#notebook-container');\n",
              "if (notebookContainer) {{\n",
              "    x.observe(notebookContainer, {childList: true});\n",
              "}}\n",
              "\n",
              "// Listen for the clearing of the current output cell\n",
              "var outputEl = gd.closest('.output');\n",
              "if (outputEl) {{\n",
              "    x.observe(outputEl, {childList: true});\n",
              "}}\n",
              "\n",
              "                        })                };                            </script>        </div>\n",
              "</body>\n",
              "</html>"
            ]
          },
          "metadata": {}
        }
      ]
    },
    {
      "cell_type": "markdown",
      "source": [
        "##### ScatterPlots"
      ],
      "metadata": {
        "id": "TixXAg7pAxAR"
      }
    },
    {
      "cell_type": "code",
      "source": [
        "fig = px.scatter(dataset_original, x=\"Velocidade do Vento (Km/h)\", y=\"Chuva (mm)\", color=\"Recomendação da Capitania\", width = 1000, height = 600)\n",
        "fig.show()"
      ],
      "metadata": {
        "colab": {
          "base_uri": "https://localhost:8080/",
          "height": 0
        },
        "id": "J5uGvvWpAzLp",
        "outputId": "b09bf1ef-2de6-4845-f6b1-5d10638fa366"
      },
      "execution_count": 985,
      "outputs": [
        {
          "output_type": "display_data",
          "data": {
            "text/html": [
              "<html>\n",
              "<head><meta charset=\"utf-8\" /></head>\n",
              "<body>\n",
              "    <div>            <script src=\"https://cdnjs.cloudflare.com/ajax/libs/mathjax/2.7.5/MathJax.js?config=TeX-AMS-MML_SVG\"></script><script type=\"text/javascript\">if (window.MathJax) {MathJax.Hub.Config({SVG: {font: \"STIX-Web\"}});}</script>                <script type=\"text/javascript\">window.PlotlyConfig = {MathJaxConfig: 'local'};</script>\n",
              "        <script src=\"https://cdn.plot.ly/plotly-2.8.3.min.js\"></script>                <div id=\"f1c394b9-70ef-4c69-899b-8606659ffb7b\" class=\"plotly-graph-div\" style=\"height:600px; width:1000px;\"></div>            <script type=\"text/javascript\">                                    window.PLOTLYENV=window.PLOTLYENV || {};                                    if (document.getElementById(\"f1c394b9-70ef-4c69-899b-8606659ffb7b\")) {                    Plotly.newPlot(                        \"f1c394b9-70ef-4c69-899b-8606659ffb7b\",                        [{\"hovertemplate\":\"Recomenda\\u00e7\\u00e3o da Capitania=Verde<br>Velocidade do Vento (Km/h)=%{x}<br>Chuva (mm)=%{y}<extra></extra>\",\"legendgroup\":\"Verde\",\"marker\":{\"color\":\"#636efa\",\"symbol\":\"circle\"},\"mode\":\"markers\",\"name\":\"Verde\",\"orientation\":\"v\",\"showlegend\":true,\"x\":[22.5,23.0,23.5,24.0,24.0,24.0,23.5,23.0,22.0,21.0,20.0,19.0,19.0,19.0,23.0,23.5,24.0,24.0,23.5,23.0,23.0,21.0,20.0,20.0,19.0,19.0,20.0,22.0,20.0,20.0,19.0,18.0,18.0,18.0,18.5,19.0,18.5,18.0,17.0,16.0,18.0,20.0,19.5,18.5,18.0,18.0,18.25,18.75,18.75,18.25,17.5,16.5,17.0,19.0,20.25,20.75,13.0,12.0,12.0,12.0,13.0,14.0,16.5,19.0,18.5,18.0,19.5,21.0,22.5,24.0,12.5,12.0,12.0,13.5,15.25,17.75,18.75,18.25,18.75,20.25,21.75,23.25,24.25,24.75,12.5,11.0,9.0,7.0,5.5,4.0,3.5,3.0,8.0,13.0,16.0,19.0,20.5,22.0,11.75,10.0,6.25,4.75,3.75,3.25,5.5,10.5,14.5,17.5,19.75,21.25,22.25,22.75,23.0,22.0,16.0,24.0,22.75,21.25,17.75,27.0,23.0,21.0,19.5,16.75,22.5,20.75,16.75,17.0,16.5,13.0,20.0,19.25,14.5,13.25,20.5,20.0,15.5,14.0,17.5,19.75,14.75,14.0,19.0,22.0,19.0,16.0,17.0,14.5,17.5,15.75,15.5,16.0,16.5,15.0,11.0,19.25,15.75,14.75,12.75,23.0,21.0,18.0,17.5,18.75,19.5,16.5,18.0,21.0,13.0,13.0,11.0,17.5,13.0,13.0,13.25,19.0,16.5,12.0,2.5,16.25,14.25,9.0,4.25,23.0,18.5,18.0,20.5,19.25,18.0,18.0,20.5,20.0,14.5,13.0,17.0,19.75,13.75,12.25,19.0,22.0,13.5],\"xaxis\":\"x\",\"y\":[0.33,0.33,0.33,0.33,0.33,0.33,0.33,0.33,0.33,0.33,0.33,0.33,0.33,0.33,0.33,0.33,0.33,0.33,0.33,0.33,0.33,0.33,0.33,0.33,0.33,0.33,0.33,0.33,0.33,0.33,0.33,0.33,0.33,0.33,0.33,0.33,0.33,0.33,0.33,0.33,0.33,0.33,0.33,0.33,0.33,0.33,0.33,0.33,0.33,0.33,0.33,0.33,0.33,0.33,0.33,0.42,0.0,0.0,0.0,0.0,0.0,0.42,0.42,0.42,0.42,0.42,0.42,0.42,0.42,0.42,0.0,0.0,0.0,0.0,0.42,0.42,0.42,0.42,0.42,0.42,0.42,0.42,0.42,0.42,2.5,2.5,2.5,2.5,2.5,2.5,2.5,2.5,2.5,2.5,2.5,2.5,2.5,2.5,2.5,2.5,2.5,2.5,2.5,2.5,2.5,2.5,2.5,2.5,2.5,2.5,2.5,2.5,0.63,0.63,0.63,0.63,0.63,0.63,0.63,0.63,0.42,0.42,0.42,0.42,0.42,0.42,0.42,0.42,0.42,0.42,0.42,0.42,0.42,0.42,0.42,0.42,0.44,0.44,0.44,0.0,0.44,0.44,0.44,0.0,0.0,0.0,0.0,0.0,0.0,0.0,0.0,0.0,0.0,0.0,0.0,0.0,0.0,0.0,0.0,0.0,0.42,0.42,0.0,0.0,0.42,0.0,0.0,0.0,0.0,0.0,0.0,0.0,0.0,0.0,0.0,0.0,2.92,2.92,2.92,2.92,2.92,2.92,2.92,2.92,0.83,0.83,0.83,0.0,0.83,0.83,0.83,0.0,0.21,0.21,0.21,0.21,0.21,0.21,0.21,0.21,0.39],\"yaxis\":\"y\",\"type\":\"scatter\"},{\"hovertemplate\":\"Recomenda\\u00e7\\u00e3o da Capitania=Vermelho<br>Velocidade do Vento (Km/h)=%{x}<br>Chuva (mm)=%{y}<extra></extra>\",\"legendgroup\":\"Vermelho\",\"marker\":{\"color\":\"#EF553B\",\"symbol\":\"circle\"},\"mode\":\"markers\",\"name\":\"Vermelho\",\"orientation\":\"v\",\"showlegend\":true,\"x\":[25.0,27.0,27.5,28.75,26.25,25.5,29.0,28.0,35.5,34.0,32.5,31.25,34.75,33.25,31.75,32.0,26.0,23.0,28.0,29.25,24.5,23.25,29.0,30.0,30.0,30.0,28.0,27.0,30.0,30.25,27.0,28.0,9.0,13.0,17.0,12.0,8.25,15.5,17.0,16.0,12.0,13.0,17.0,14.25,10.5,13.75,20.0,20.0,20.0,20.0,20.75,20.0,20.0,19.25,23.0,24.5,23.0,21.5,22.75,23.75,22.25,21.25,25.0,29.0,31.0,33.0,35.5,30.25,31.0,34.25,37.0,31.0,27.0,22.5,18.0,29.25,25.5,20.25,18.0,30.5,28.0,21.0,16.25,29.5,25.0,19.0,17.0,12.5,9.0,8.0,18.5,10.5,7.5,14.0,23.0],\"xaxis\":\"x\",\"y\":[1.67,1.67,1.67,1.67,1.67,1.67,1.67,1.67,0.63,0.63,0.63,0.63,0.63,0.63,0.63,0.63,1.88,1.88,1.88,1.88,1.88,1.88,1.88,1.88,0.63,0.63,0.63,0.63,0.63,0.63,0.63,0.63,0.39,0.39,0.0,0.39,0.39,0.39,0.0,1.88,1.88,1.88,1.88,1.88,1.88,1.88,1.88,5.83,5.83,5.83,5.83,5.83,5.83,5.83,5.83,2.5,2.5,2.5,2.5,2.5,2.5,2.5,2.5,3.33,3.33,3.33,3.33,3.33,3.33,3.33,3.33,1.04,1.04,1.04,1.04,1.04,1.04,1.04,1.04,0.0,0.0,0.83,0.83,0.0,0.0,0.83,0.83,0.83,0.83,0.83,0.83,0.83,0.83,0.83,0.83],\"yaxis\":\"y\",\"type\":\"scatter\"},{\"hovertemplate\":\"Recomenda\\u00e7\\u00e3o da Capitania=Amarelo<br>Velocidade do Vento (Km/h)=%{x}<br>Chuva (mm)=%{y}<extra></extra>\",\"legendgroup\":\"Amarelo\",\"marker\":{\"color\":\"#00cc96\",\"symbol\":\"circle\"},\"mode\":\"markers\",\"name\":\"Amarelo\",\"orientation\":\"v\",\"showlegend\":true,\"x\":[16.5,15.0,15.0,12.5,15.75,15.75,13.5,14.0,28.5,28.0,26.0,26.25,28.0,28.0,26.0,27.0,26.0,25.0,22.0,21.0,25.75,24.25,21.0,21.0],\"xaxis\":\"x\",\"y\":[0.63,0.63,0.63,0.63,0.63,0.63,0.63,0.63,0.42,0.42,0.42,0.42,0.42,0.42,0.42,0.42,0.25,0.25,0.25,0.25,0.25,0.25,0.25,0.25],\"yaxis\":\"y\",\"type\":\"scatter\"}],                        {\"template\":{\"data\":{\"bar\":[{\"error_x\":{\"color\":\"#2a3f5f\"},\"error_y\":{\"color\":\"#2a3f5f\"},\"marker\":{\"line\":{\"color\":\"#E5ECF6\",\"width\":0.5},\"pattern\":{\"fillmode\":\"overlay\",\"size\":10,\"solidity\":0.2}},\"type\":\"bar\"}],\"barpolar\":[{\"marker\":{\"line\":{\"color\":\"#E5ECF6\",\"width\":0.5},\"pattern\":{\"fillmode\":\"overlay\",\"size\":10,\"solidity\":0.2}},\"type\":\"barpolar\"}],\"carpet\":[{\"aaxis\":{\"endlinecolor\":\"#2a3f5f\",\"gridcolor\":\"white\",\"linecolor\":\"white\",\"minorgridcolor\":\"white\",\"startlinecolor\":\"#2a3f5f\"},\"baxis\":{\"endlinecolor\":\"#2a3f5f\",\"gridcolor\":\"white\",\"linecolor\":\"white\",\"minorgridcolor\":\"white\",\"startlinecolor\":\"#2a3f5f\"},\"type\":\"carpet\"}],\"choropleth\":[{\"colorbar\":{\"outlinewidth\":0,\"ticks\":\"\"},\"type\":\"choropleth\"}],\"contour\":[{\"colorbar\":{\"outlinewidth\":0,\"ticks\":\"\"},\"colorscale\":[[0.0,\"#0d0887\"],[0.1111111111111111,\"#46039f\"],[0.2222222222222222,\"#7201a8\"],[0.3333333333333333,\"#9c179e\"],[0.4444444444444444,\"#bd3786\"],[0.5555555555555556,\"#d8576b\"],[0.6666666666666666,\"#ed7953\"],[0.7777777777777778,\"#fb9f3a\"],[0.8888888888888888,\"#fdca26\"],[1.0,\"#f0f921\"]],\"type\":\"contour\"}],\"contourcarpet\":[{\"colorbar\":{\"outlinewidth\":0,\"ticks\":\"\"},\"type\":\"contourcarpet\"}],\"heatmap\":[{\"colorbar\":{\"outlinewidth\":0,\"ticks\":\"\"},\"colorscale\":[[0.0,\"#0d0887\"],[0.1111111111111111,\"#46039f\"],[0.2222222222222222,\"#7201a8\"],[0.3333333333333333,\"#9c179e\"],[0.4444444444444444,\"#bd3786\"],[0.5555555555555556,\"#d8576b\"],[0.6666666666666666,\"#ed7953\"],[0.7777777777777778,\"#fb9f3a\"],[0.8888888888888888,\"#fdca26\"],[1.0,\"#f0f921\"]],\"type\":\"heatmap\"}],\"heatmapgl\":[{\"colorbar\":{\"outlinewidth\":0,\"ticks\":\"\"},\"colorscale\":[[0.0,\"#0d0887\"],[0.1111111111111111,\"#46039f\"],[0.2222222222222222,\"#7201a8\"],[0.3333333333333333,\"#9c179e\"],[0.4444444444444444,\"#bd3786\"],[0.5555555555555556,\"#d8576b\"],[0.6666666666666666,\"#ed7953\"],[0.7777777777777778,\"#fb9f3a\"],[0.8888888888888888,\"#fdca26\"],[1.0,\"#f0f921\"]],\"type\":\"heatmapgl\"}],\"histogram\":[{\"marker\":{\"pattern\":{\"fillmode\":\"overlay\",\"size\":10,\"solidity\":0.2}},\"type\":\"histogram\"}],\"histogram2d\":[{\"colorbar\":{\"outlinewidth\":0,\"ticks\":\"\"},\"colorscale\":[[0.0,\"#0d0887\"],[0.1111111111111111,\"#46039f\"],[0.2222222222222222,\"#7201a8\"],[0.3333333333333333,\"#9c179e\"],[0.4444444444444444,\"#bd3786\"],[0.5555555555555556,\"#d8576b\"],[0.6666666666666666,\"#ed7953\"],[0.7777777777777778,\"#fb9f3a\"],[0.8888888888888888,\"#fdca26\"],[1.0,\"#f0f921\"]],\"type\":\"histogram2d\"}],\"histogram2dcontour\":[{\"colorbar\":{\"outlinewidth\":0,\"ticks\":\"\"},\"colorscale\":[[0.0,\"#0d0887\"],[0.1111111111111111,\"#46039f\"],[0.2222222222222222,\"#7201a8\"],[0.3333333333333333,\"#9c179e\"],[0.4444444444444444,\"#bd3786\"],[0.5555555555555556,\"#d8576b\"],[0.6666666666666666,\"#ed7953\"],[0.7777777777777778,\"#fb9f3a\"],[0.8888888888888888,\"#fdca26\"],[1.0,\"#f0f921\"]],\"type\":\"histogram2dcontour\"}],\"mesh3d\":[{\"colorbar\":{\"outlinewidth\":0,\"ticks\":\"\"},\"type\":\"mesh3d\"}],\"parcoords\":[{\"line\":{\"colorbar\":{\"outlinewidth\":0,\"ticks\":\"\"}},\"type\":\"parcoords\"}],\"pie\":[{\"automargin\":true,\"type\":\"pie\"}],\"scatter\":[{\"marker\":{\"colorbar\":{\"outlinewidth\":0,\"ticks\":\"\"}},\"type\":\"scatter\"}],\"scatter3d\":[{\"line\":{\"colorbar\":{\"outlinewidth\":0,\"ticks\":\"\"}},\"marker\":{\"colorbar\":{\"outlinewidth\":0,\"ticks\":\"\"}},\"type\":\"scatter3d\"}],\"scattercarpet\":[{\"marker\":{\"colorbar\":{\"outlinewidth\":0,\"ticks\":\"\"}},\"type\":\"scattercarpet\"}],\"scattergeo\":[{\"marker\":{\"colorbar\":{\"outlinewidth\":0,\"ticks\":\"\"}},\"type\":\"scattergeo\"}],\"scattergl\":[{\"marker\":{\"colorbar\":{\"outlinewidth\":0,\"ticks\":\"\"}},\"type\":\"scattergl\"}],\"scattermapbox\":[{\"marker\":{\"colorbar\":{\"outlinewidth\":0,\"ticks\":\"\"}},\"type\":\"scattermapbox\"}],\"scatterpolar\":[{\"marker\":{\"colorbar\":{\"outlinewidth\":0,\"ticks\":\"\"}},\"type\":\"scatterpolar\"}],\"scatterpolargl\":[{\"marker\":{\"colorbar\":{\"outlinewidth\":0,\"ticks\":\"\"}},\"type\":\"scatterpolargl\"}],\"scatterternary\":[{\"marker\":{\"colorbar\":{\"outlinewidth\":0,\"ticks\":\"\"}},\"type\":\"scatterternary\"}],\"surface\":[{\"colorbar\":{\"outlinewidth\":0,\"ticks\":\"\"},\"colorscale\":[[0.0,\"#0d0887\"],[0.1111111111111111,\"#46039f\"],[0.2222222222222222,\"#7201a8\"],[0.3333333333333333,\"#9c179e\"],[0.4444444444444444,\"#bd3786\"],[0.5555555555555556,\"#d8576b\"],[0.6666666666666666,\"#ed7953\"],[0.7777777777777778,\"#fb9f3a\"],[0.8888888888888888,\"#fdca26\"],[1.0,\"#f0f921\"]],\"type\":\"surface\"}],\"table\":[{\"cells\":{\"fill\":{\"color\":\"#EBF0F8\"},\"line\":{\"color\":\"white\"}},\"header\":{\"fill\":{\"color\":\"#C8D4E3\"},\"line\":{\"color\":\"white\"}},\"type\":\"table\"}]},\"layout\":{\"annotationdefaults\":{\"arrowcolor\":\"#2a3f5f\",\"arrowhead\":0,\"arrowwidth\":1},\"autotypenumbers\":\"strict\",\"coloraxis\":{\"colorbar\":{\"outlinewidth\":0,\"ticks\":\"\"}},\"colorscale\":{\"diverging\":[[0,\"#8e0152\"],[0.1,\"#c51b7d\"],[0.2,\"#de77ae\"],[0.3,\"#f1b6da\"],[0.4,\"#fde0ef\"],[0.5,\"#f7f7f7\"],[0.6,\"#e6f5d0\"],[0.7,\"#b8e186\"],[0.8,\"#7fbc41\"],[0.9,\"#4d9221\"],[1,\"#276419\"]],\"sequential\":[[0.0,\"#0d0887\"],[0.1111111111111111,\"#46039f\"],[0.2222222222222222,\"#7201a8\"],[0.3333333333333333,\"#9c179e\"],[0.4444444444444444,\"#bd3786\"],[0.5555555555555556,\"#d8576b\"],[0.6666666666666666,\"#ed7953\"],[0.7777777777777778,\"#fb9f3a\"],[0.8888888888888888,\"#fdca26\"],[1.0,\"#f0f921\"]],\"sequentialminus\":[[0.0,\"#0d0887\"],[0.1111111111111111,\"#46039f\"],[0.2222222222222222,\"#7201a8\"],[0.3333333333333333,\"#9c179e\"],[0.4444444444444444,\"#bd3786\"],[0.5555555555555556,\"#d8576b\"],[0.6666666666666666,\"#ed7953\"],[0.7777777777777778,\"#fb9f3a\"],[0.8888888888888888,\"#fdca26\"],[1.0,\"#f0f921\"]]},\"colorway\":[\"#636efa\",\"#EF553B\",\"#00cc96\",\"#ab63fa\",\"#FFA15A\",\"#19d3f3\",\"#FF6692\",\"#B6E880\",\"#FF97FF\",\"#FECB52\"],\"font\":{\"color\":\"#2a3f5f\"},\"geo\":{\"bgcolor\":\"white\",\"lakecolor\":\"white\",\"landcolor\":\"#E5ECF6\",\"showlakes\":true,\"showland\":true,\"subunitcolor\":\"white\"},\"hoverlabel\":{\"align\":\"left\"},\"hovermode\":\"closest\",\"mapbox\":{\"style\":\"light\"},\"paper_bgcolor\":\"white\",\"plot_bgcolor\":\"#E5ECF6\",\"polar\":{\"angularaxis\":{\"gridcolor\":\"white\",\"linecolor\":\"white\",\"ticks\":\"\"},\"bgcolor\":\"#E5ECF6\",\"radialaxis\":{\"gridcolor\":\"white\",\"linecolor\":\"white\",\"ticks\":\"\"}},\"scene\":{\"xaxis\":{\"backgroundcolor\":\"#E5ECF6\",\"gridcolor\":\"white\",\"gridwidth\":2,\"linecolor\":\"white\",\"showbackground\":true,\"ticks\":\"\",\"zerolinecolor\":\"white\"},\"yaxis\":{\"backgroundcolor\":\"#E5ECF6\",\"gridcolor\":\"white\",\"gridwidth\":2,\"linecolor\":\"white\",\"showbackground\":true,\"ticks\":\"\",\"zerolinecolor\":\"white\"},\"zaxis\":{\"backgroundcolor\":\"#E5ECF6\",\"gridcolor\":\"white\",\"gridwidth\":2,\"linecolor\":\"white\",\"showbackground\":true,\"ticks\":\"\",\"zerolinecolor\":\"white\"}},\"shapedefaults\":{\"line\":{\"color\":\"#2a3f5f\"}},\"ternary\":{\"aaxis\":{\"gridcolor\":\"white\",\"linecolor\":\"white\",\"ticks\":\"\"},\"baxis\":{\"gridcolor\":\"white\",\"linecolor\":\"white\",\"ticks\":\"\"},\"bgcolor\":\"#E5ECF6\",\"caxis\":{\"gridcolor\":\"white\",\"linecolor\":\"white\",\"ticks\":\"\"}},\"title\":{\"x\":0.05},\"xaxis\":{\"automargin\":true,\"gridcolor\":\"white\",\"linecolor\":\"white\",\"ticks\":\"\",\"title\":{\"standoff\":15},\"zerolinecolor\":\"white\",\"zerolinewidth\":2},\"yaxis\":{\"automargin\":true,\"gridcolor\":\"white\",\"linecolor\":\"white\",\"ticks\":\"\",\"title\":{\"standoff\":15},\"zerolinecolor\":\"white\",\"zerolinewidth\":2}}},\"xaxis\":{\"anchor\":\"y\",\"domain\":[0.0,1.0],\"title\":{\"text\":\"Velocidade do Vento (Km/h)\"}},\"yaxis\":{\"anchor\":\"x\",\"domain\":[0.0,1.0],\"title\":{\"text\":\"Chuva (mm)\"}},\"legend\":{\"title\":{\"text\":\"Recomenda\\u00e7\\u00e3o da Capitania\"},\"tracegroupgap\":0},\"margin\":{\"t\":60},\"height\":600,\"width\":1000},                        {\"responsive\": true}                    ).then(function(){\n",
              "                            \n",
              "var gd = document.getElementById('f1c394b9-70ef-4c69-899b-8606659ffb7b');\n",
              "var x = new MutationObserver(function (mutations, observer) {{\n",
              "        var display = window.getComputedStyle(gd).display;\n",
              "        if (!display || display === 'none') {{\n",
              "            console.log([gd, 'removed!']);\n",
              "            Plotly.purge(gd);\n",
              "            observer.disconnect();\n",
              "        }}\n",
              "}});\n",
              "\n",
              "// Listen for the removal of the full notebook cells\n",
              "var notebookContainer = gd.closest('#notebook-container');\n",
              "if (notebookContainer) {{\n",
              "    x.observe(notebookContainer, {childList: true});\n",
              "}}\n",
              "\n",
              "// Listen for the clearing of the current output cell\n",
              "var outputEl = gd.closest('.output');\n",
              "if (outputEl) {{\n",
              "    x.observe(outputEl, {childList: true});\n",
              "}}\n",
              "\n",
              "                        })                };                            </script>        </div>\n",
              "</body>\n",
              "</html>"
            ]
          },
          "metadata": {}
        }
      ]
    },
    {
      "cell_type": "markdown",
      "source": [
        "##### Matriz de Correlação entre colunas:"
      ],
      "metadata": {
        "id": "L-f8-zNlOXOv"
      }
    },
    {
      "cell_type": "code",
      "source": [
        "import matplotlib.pyplot as plt\n",
        "correlations = dataset_original.corr()\n",
        "mask = np.triu(np.ones_like(correlations, dtype=bool))\n",
        "f, ax = plt.subplots(figsize=(11, 9))\n",
        "# cmap = sns.dark_palette(\"seagreen\")\n",
        "# cmap = sns.diverging_palette(230, 20, as_cmap=True)\n",
        "sns.heatmap(correlations, mask=mask, vmax=.3, center=0,\n",
        "            square=True, linewidths=.5, cbar_kws={\"shrink\": .5})"
      ],
      "metadata": {
        "colab": {
          "base_uri": "https://localhost:8080/",
          "height": 0
        },
        "id": "UsdwvI1smMDa",
        "outputId": "fb2b1832-4ac2-4203-ea2e-7ee7c5c4e0bd"
      },
      "execution_count": 986,
      "outputs": [
        {
          "output_type": "execute_result",
          "data": {
            "text/plain": [
              "<matplotlib.axes._subplots.AxesSubplot at 0x7f5b20b868e0>"
            ]
          },
          "metadata": {},
          "execution_count": 986
        },
        {
          "output_type": "display_data",
          "data": {
            "text/plain": [
              "<Figure size 792x648 with 2 Axes>"
            ],
            "image/png": "[encoded data removed]"
          },
          "metadata": {
            "needs_background": "light"
          }
        }
      ]
    },
    {
      "cell_type": "markdown",
      "source": [
        "####.\n",
        "\n",
        "A coluna de horário também pode gerar variações no dataset, sendo escolhido pela equipe o uso de duas. Uma discretização que remova os horários intercalados (\"5:30\", \"6:30\", ..., \"19:30\") e outra que os mantenha. Com isto totalizando 4 versões do dataset para análise."
      ],
      "metadata": {
        "id": "FWRP_H-jJUCZ"
      }
    },
    {
      "cell_type": "markdown",
      "source": [
        "### Variações A\n",
        "\n",
        "Troca de valores categóricos para valores númericos.\n",
        "\n",
        "```\n",
        "'Terminal' \n",
        "    'Mar grande': 0, \n",
        "    'Salvador': 1\n",
        "\n",
        "'Condição dia Anterior' \n",
        "    'Bom': 0,\n",
        "    'Ruim': 1\n",
        "\n",
        "'Recomendação da Capitania' \n",
        "    'Verde': 0, \n",
        "    'Amarelo': 1, \n",
        "    'Vermelho': 2\n",
        "```"
      ],
      "metadata": {
        "id": "5kOa5sn9EvMV"
      }
    },
    {
      "cell_type": "code",
      "source": [
        "dataset_a = dataset_original.copy()"
      ],
      "metadata": {
        "id": "Pbk0JgU7nab2"
      },
      "execution_count": 987,
      "outputs": []
    },
    {
      "cell_type": "code",
      "source": [
        "dataset_a['Terminal'] = dataset_original['Terminal'].map({'Mar grande': 0, 'Salvador':1})\n",
        "dataset_a['Condição dia Anterior'] = dataset_original['Condição dia Anterior'].map({'Bom': 0, 'Ruim':1})\n",
        "dataset_a['Recomendação da Capitania'] = dataset_original['Recomendação da Capitania'].map({'Verde': 0, 'Amarelo':1, 'Vermelho':2})"
      ],
      "metadata": {
        "id": "pdHah6l2HuwE"
      },
      "execution_count": 988,
      "outputs": []
    },
    {
      "cell_type": "code",
      "source": [
        "dataset_a.head()"
      ],
      "metadata": {
        "colab": {
          "base_uri": "https://localhost:8080/",
          "height": 0
        },
        "id": "AQsIHuTFFjES",
        "outputId": "c20e6efd-5a3b-4e87-ac11-f11b567a7ca7"
      },
      "execution_count": 989,
      "outputs": [
        {
          "output_type": "execute_result",
          "data": {
            "text/plain": [
              "         Data  Terminal Horário  Altura da Maré (m)  \\\n",
              "0  15/03/2020         0    5:00                 1.2   \n",
              "1  15/03/2020         0    6:00                 1.6   \n",
              "2  15/03/2020         0    7:00                 1.8   \n",
              "3  15/03/2020         0    8:00                 1.9   \n",
              "4  15/03/2020         0    9:00                 1.8   \n",
              "\n",
              "   Velocidade do Vento (Km/h)  Chuva (mm)  Condição dia Anterior  \\\n",
              "0                        22.5        0.33                      0   \n",
              "1                        23.0        0.33                      0   \n",
              "2                        23.5        0.33                      0   \n",
              "3                        24.0        0.33                      0   \n",
              "4                        24.0        0.33                      0   \n",
              "\n",
              "   Recomendação da Capitania  \n",
              "0                          0  \n",
              "1                          0  \n",
              "2                          0  \n",
              "3                          0  \n",
              "4                          0  "
            ],
            "text/html": [
              "\n",
              "  <div id=\"df-eec1868f-ab24-4614-a676-07c44d480bf2\">\n",
              "    <div class=\"colab-df-container\">\n",
              "      <div>\n",
              "<style scoped>\n",
              "    .dataframe tbody tr th:only-of-type {\n",
              "        vertical-align: middle;\n",
              "    }\n",
              "\n",
              "    .dataframe tbody tr th {\n",
              "        vertical-align: top;\n",
              "    }\n",
              "\n",
              "    .dataframe thead th {\n",
              "        text-align: right;\n",
              "    }\n",
              "</style>\n",
              "<table border=\"1\" class=\"dataframe\">\n",
              "  <thead>\n",
              "    <tr style=\"text-align: right;\">\n",
              "      <th></th>\n",
              "      <th>Data</th>\n",
              "      <th>Terminal</th>\n",
              "      <th>Horário</th>\n",
              "      <th>Altura da Maré (m)</th>\n",
              "      <th>Velocidade do Vento (Km/h)</th>\n",
              "      <th>Chuva (mm)</th>\n",
              "      <th>Condição dia Anterior</th>\n",
              "      <th>Recomendação da Capitania</th>\n",
              "    </tr>\n",
              "  </thead>\n",
              "  <tbody>\n",
              "    <tr>\n",
              "      <th>0</th>\n",
              "      <td>15/03/2020</td>\n",
              "      <td>0</td>\n",
              "      <td>5:00</td>\n",
              "      <td>1.2</td>\n",
              "      <td>22.5</td>\n",
              "      <td>0.33</td>\n",
              "      <td>0</td>\n",
              "      <td>0</td>\n",
              "    </tr>\n",
              "    <tr>\n",
              "      <th>1</th>\n",
              "      <td>15/03/2020</td>\n",
              "      <td>0</td>\n",
              "      <td>6:00</td>\n",
              "      <td>1.6</td>\n",
              "      <td>23.0</td>\n",
              "      <td>0.33</td>\n",
              "      <td>0</td>\n",
              "      <td>0</td>\n",
              "    </tr>\n",
              "    <tr>\n",
              "      <th>2</th>\n",
              "      <td>15/03/2020</td>\n",
              "      <td>0</td>\n",
              "      <td>7:00</td>\n",
              "      <td>1.8</td>\n",
              "      <td>23.5</td>\n",
              "      <td>0.33</td>\n",
              "      <td>0</td>\n",
              "      <td>0</td>\n",
              "    </tr>\n",
              "    <tr>\n",
              "      <th>3</th>\n",
              "      <td>15/03/2020</td>\n",
              "      <td>0</td>\n",
              "      <td>8:00</td>\n",
              "      <td>1.9</td>\n",
              "      <td>24.0</td>\n",
              "      <td>0.33</td>\n",
              "      <td>0</td>\n",
              "      <td>0</td>\n",
              "    </tr>\n",
              "    <tr>\n",
              "      <th>4</th>\n",
              "      <td>15/03/2020</td>\n",
              "      <td>0</td>\n",
              "      <td>9:00</td>\n",
              "      <td>1.8</td>\n",
              "      <td>24.0</td>\n",
              "      <td>0.33</td>\n",
              "      <td>0</td>\n",
              "      <td>0</td>\n",
              "    </tr>\n",
              "  </tbody>\n",
              "</table>\n",
              "</div>\n",
              "      <button class=\"colab-df-convert\" onclick=\"convertToInteractive('df-eec1868f-ab24-4614-a676-07c44d480bf2')\"\n",
              "              title=\"Convert this dataframe to an interactive table.\"\n",
              "              style=\"display:none;\">\n",
              "        \n",
              "  <svg xmlns=\"http://www.w3.org/2000/svg\" height=\"24px\"viewBox=\"0 0 24 24\"\n",
              "       width=\"24px\">\n",
              "    <path d=\"M0 0h24v24H0V0z\" fill=\"none\"/>\n",
              "    <path d=\"M18.56 5.44l.94 2.06.94-2.06 2.06-.94-2.06-.94-.94-2.06-.94 2.06-2.06.94zm-11 1L8.5 8.5l.94-2.06 2.06-.94-2.06-.94L8.5 2.5l-.94 2.06-2.06.94zm10 10l.94 2.06.94-2.06 2.06-.94-2.06-.94-.94-2.06-.94 2.06-2.06.94z\"/><path d=\"M17.41 7.96l-1.37-1.37c-.4-.4-.92-.59-1.43-.59-.52 0-1.04.2-1.43.59L10.3 9.45l-7.72 7.72c-.78.78-.78 2.05 0 2.83L4 21.41c.39.39.9.59 1.41.59.51 0 1.02-.2 1.41-.59l7.78-7.78 2.81-2.81c.8-.78.8-2.07 0-2.86zM5.41 20L4 18.59l7.72-7.72 1.47 1.35L5.41 20z\"/>\n",
              "  </svg>\n",
              "      </button>\n",
              "      \n",
              "  <style>\n",
              "    .colab-df-container {\n",
              "      display:flex;\n",
              "      flex-wrap:wrap;\n",
              "      gap: 12px;\n",
              "    }\n",
              "\n",
              "    .colab-df-convert {\n",
              "      background-color: #E8F0FE;\n",
              "      border: none;\n",
              "      border-radius: 50%;\n",
              "      cursor: pointer;\n",
              "      display: none;\n",
              "      fill: #1967D2;\n",
              "      height: 32px;\n",
              "      padding: 0 0 0 0;\n",
              "      width: 32px;\n",
              "    }\n",
              "\n",
              "    .colab-df-convert:hover {\n",
              "      background-color: #E2EBFA;\n",
              "      box-shadow: 0px 1px 2px rgba(60, 64, 67, 0.3), 0px 1px 3px 1px rgba(60, 64, 67, 0.15);\n",
              "      fill: #174EA6;\n",
              "    }\n",
              "\n",
              "    [theme=dark] .colab-df-convert {\n",
              "      background-color: #3B4455;\n",
              "      fill: #D2E3FC;\n",
              "    }\n",
              "\n",
              "    [theme=dark] .colab-df-convert:hover {\n",
              "      background-color: #434B5C;\n",
              "      box-shadow: 0px 1px 3px 1px rgba(0, 0, 0, 0.15);\n",
              "      filter: drop-shadow(0px 1px 2px rgba(0, 0, 0, 0.3));\n",
              "      fill: #FFFFFF;\n",
              "    }\n",
              "  </style>\n",
              "\n",
              "      <script>\n",
              "        const buttonEl =\n",
              "          document.querySelector('#df-eec1868f-ab24-4614-a676-07c44d480bf2 button.colab-df-convert');\n",
              "        buttonEl.style.display =\n",
              "          google.colab.kernel.accessAllowed ? 'block' : 'none';\n",
              "\n",
              "        async function convertToInteractive(key) {\n",
              "          const element = document.querySelector('#df-eec1868f-ab24-4614-a676-07c44d480bf2');\n",
              "          const dataTable =\n",
              "            await google.colab.kernel.invokeFunction('convertToInteractive',\n",
              "                                                     [key], {});\n",
              "          if (!dataTable) return;\n",
              "\n",
              "          const docLinkHtml = 'Like what you see? Visit the ' +\n",
              "            '<a target=\"_blank\" href=https://colab.research.google.com/notebooks/data_table.ipynb>data table notebook</a>'\n",
              "            + ' to learn more about interactive tables.';\n",
              "          element.innerHTML = '';\n",
              "          dataTable['output_type'] = 'display_data';\n",
              "          await google.colab.output.renderOutput(dataTable, element);\n",
              "          const docLink = document.createElement('div');\n",
              "          docLink.innerHTML = docLinkHtml;\n",
              "          element.appendChild(docLink);\n",
              "        }\n",
              "      </script>\n",
              "    </div>\n",
              "  </div>\n",
              "  "
            ]
          },
          "metadata": {},
          "execution_count": 989
        }
      ]
    },
    {
      "cell_type": "markdown",
      "source": [
        "#### Variação A1\n",
        "\n",
        "Valores da coluna 'Horário_Discreto' convertido para inteiros."
      ],
      "metadata": {
        "id": "cSBmce3dR7jD"
      }
    },
    {
      "cell_type": "code",
      "source": [
        "dataset_a1 = dataset_a.copy()"
      ],
      "metadata": {
        "id": "B7jFceW9GJxd"
      },
      "execution_count": 990,
      "outputs": []
    },
    {
      "cell_type": "code",
      "source": [
        "dataset_a1['Horário_Discreto'] = dataset_a1['Horário'].map({'5:00':5, '5:30':5, '6:00':6, '6:30':6, '7:00':7, '7:30':7,\n",
        "                                                           '8:00':8, '8:30':8, '9:00':9, '9:30':9, '10:00':10, '10:30':10,\n",
        "                                                           '11:00':11, '11:30':11, '12:00':12, '12:30':12, '13:00':13, '13:30':13,\n",
        "                                                           '14:00':14, '14:30':14, '15:00':15, '15:30':15, '16:00':16, '16:30':16,\n",
        "                                                           '17:00':17, '17:30':17, '18:00':18, '18:30':18, '19:00':19, '19:30':19})\n",
        "dataset_a1 = dataset_a1.drop('Data', axis=1)\n",
        "dataset_a1 = dataset_a1.drop('Horário', axis=1)\n",
        "for i in ['Altura da Maré (m)', 'Velocidade do Vento (Km/h)', 'Chuva (mm)']:\n",
        "    dataset_a1[i] = dataset_a1[i].astype(float)"
      ],
      "metadata": {
        "id": "125-gY4x5_Og"
      },
      "execution_count": 991,
      "outputs": []
    },
    {
      "cell_type": "code",
      "source": [
        "dataset_a1"
      ],
      "metadata": {
        "colab": {
          "base_uri": "https://localhost:8080/",
          "height": 0
        },
        "id": "5ZXFT3feGri2",
        "outputId": "27c4c305-8139-4f3e-941b-38279e19acdf"
      },
      "execution_count": 992,
      "outputs": [
        {
          "output_type": "execute_result",
          "data": {
            "text/plain": [
              "     Terminal  Altura da Maré (m)  Velocidade do Vento (Km/h)  Chuva (mm)  \\\n",
              "0           0                 1.2                        22.5        0.33   \n",
              "1           0                 1.6                        23.0        0.33   \n",
              "2           0                 1.8                        23.5        0.33   \n",
              "3           0                 1.9                        24.0        0.33   \n",
              "4           0                 1.8                        24.0        0.33   \n",
              "..        ...                 ...                         ...         ...   \n",
              "315         0                 2.5                        18.5        0.83   \n",
              "316         1                 1.6                        10.5        0.83   \n",
              "317         1                -0.1                         7.5        0.83   \n",
              "318         1                 2.0                        14.0        0.83   \n",
              "319         1                 2.3                        23.0        0.83   \n",
              "\n",
              "     Condição dia Anterior  Recomendação da Capitania  Horário_Discreto  \n",
              "0                        0                          0                 5  \n",
              "1                        0                          0                 6  \n",
              "2                        0                          0                 7  \n",
              "3                        0                          0                 8  \n",
              "4                        0                          0                 9  \n",
              "..                     ...                        ...               ...  \n",
              "315                      1                          2                16  \n",
              "316                      1                          2                 6  \n",
              "317                      1                          2                 9  \n",
              "318                      1                          2                14  \n",
              "319                      1                          2                18  \n",
              "\n",
              "[320 rows x 7 columns]"
            ],
            "text/html": [
              "\n",
              "  <div id=\"df-6ec29b0c-64b9-4006-9c7b-a5c613b83d4e\">\n",
              "    <div class=\"colab-df-container\">\n",
              "      <div>\n",
              "<style scoped>\n",
              "    .dataframe tbody tr th:only-of-type {\n",
              "        vertical-align: middle;\n",
              "    }\n",
              "\n",
              "    .dataframe tbody tr th {\n",
              "        vertical-align: top;\n",
              "    }\n",
              "\n",
              "    .dataframe thead th {\n",
              "        text-align: right;\n",
              "    }\n",
              "</style>\n",
              "<table border=\"1\" class=\"dataframe\">\n",
              "  <thead>\n",
              "    <tr style=\"text-align: right;\">\n",
              "      <th></th>\n",
              "      <th>Terminal</th>\n",
              "      <th>Altura da Maré (m)</th>\n",
              "      <th>Velocidade do Vento (Km/h)</th>\n",
              "      <th>Chuva (mm)</th>\n",
              "      <th>Condição dia Anterior</th>\n",
              "      <th>Recomendação da Capitania</th>\n",
              "      <th>Horário_Discreto</th>\n",
              "    </tr>\n",
              "  </thead>\n",
              "  <tbody>\n",
              "    <tr>\n",
              "      <th>0</th>\n",
              "      <td>0</td>\n",
              "      <td>1.2</td>\n",
              "      <td>22.5</td>\n",
              "      <td>0.33</td>\n",
              "      <td>0</td>\n",
              "      <td>0</td>\n",
              "      <td>5</td>\n",
              "    </tr>\n",
              "    <tr>\n",
              "      <th>1</th>\n",
              "      <td>0</td>\n",
              "      <td>1.6</td>\n",
              "      <td>23.0</td>\n",
              "      <td>0.33</td>\n",
              "      <td>0</td>\n",
              "      <td>0</td>\n",
              "      <td>6</td>\n",
              "    </tr>\n",
              "    <tr>\n",
              "      <th>2</th>\n",
              "      <td>0</td>\n",
              "      <td>1.8</td>\n",
              "      <td>23.5</td>\n",
              "      <td>0.33</td>\n",
              "      <td>0</td>\n",
              "      <td>0</td>\n",
              "      <td>7</td>\n",
              "    </tr>\n",
              "    <tr>\n",
              "      <th>3</th>\n",
              "      <td>0</td>\n",
              "      <td>1.9</td>\n",
              "      <td>24.0</td>\n",
              "      <td>0.33</td>\n",
              "      <td>0</td>\n",
              "      <td>0</td>\n",
              "      <td>8</td>\n",
              "    </tr>\n",
              "    <tr>\n",
              "      <th>4</th>\n",
              "      <td>0</td>\n",
              "      <td>1.8</td>\n",
              "      <td>24.0</td>\n",
              "      <td>0.33</td>\n",
              "      <td>0</td>\n",
              "      <td>0</td>\n",
              "      <td>9</td>\n",
              "    </tr>\n",
              "    <tr>\n",
              "      <th>...</th>\n",
              "      <td>...</td>\n",
              "      <td>...</td>\n",
              "      <td>...</td>\n",
              "      <td>...</td>\n",
              "      <td>...</td>\n",
              "      <td>...</td>\n",
              "      <td>...</td>\n",
              "    </tr>\n",
              "    <tr>\n",
              "      <th>315</th>\n",
              "      <td>0</td>\n",
              "      <td>2.5</td>\n",
              "      <td>18.5</td>\n",
              "      <td>0.83</td>\n",
              "      <td>1</td>\n",
              "      <td>2</td>\n",
              "      <td>16</td>\n",
              "    </tr>\n",
              "    <tr>\n",
              "      <th>316</th>\n",
              "      <td>1</td>\n",
              "      <td>1.6</td>\n",
              "      <td>10.5</td>\n",
              "      <td>0.83</td>\n",
              "      <td>1</td>\n",
              "      <td>2</td>\n",
              "      <td>6</td>\n",
              "    </tr>\n",
              "    <tr>\n",
              "      <th>317</th>\n",
              "      <td>1</td>\n",
              "      <td>-0.1</td>\n",
              "      <td>7.5</td>\n",
              "      <td>0.83</td>\n",
              "      <td>1</td>\n",
              "      <td>2</td>\n",
              "      <td>9</td>\n",
              "    </tr>\n",
              "    <tr>\n",
              "      <th>318</th>\n",
              "      <td>1</td>\n",
              "      <td>2.0</td>\n",
              "      <td>14.0</td>\n",
              "      <td>0.83</td>\n",
              "      <td>1</td>\n",
              "      <td>2</td>\n",
              "      <td>14</td>\n",
              "    </tr>\n",
              "    <tr>\n",
              "      <th>319</th>\n",
              "      <td>1</td>\n",
              "      <td>2.3</td>\n",
              "      <td>23.0</td>\n",
              "      <td>0.83</td>\n",
              "      <td>1</td>\n",
              "      <td>2</td>\n",
              "      <td>18</td>\n",
              "    </tr>\n",
              "  </tbody>\n",
              "</table>\n",
              "<p>320 rows × 7 columns</p>\n",
              "</div>\n",
              "      <button class=\"colab-df-convert\" onclick=\"convertToInteractive('df-6ec29b0c-64b9-4006-9c7b-a5c613b83d4e')\"\n",
              "              title=\"Convert this dataframe to an interactive table.\"\n",
              "              style=\"display:none;\">\n",
              "        \n",
              "  <svg xmlns=\"http://www.w3.org/2000/svg\" height=\"24px\"viewBox=\"0 0 24 24\"\n",
              "       width=\"24px\">\n",
              "    <path d=\"M0 0h24v24H0V0z\" fill=\"none\"/>\n",
              "    <path d=\"M18.56 5.44l.94 2.06.94-2.06 2.06-.94-2.06-.94-.94-2.06-.94 2.06-2.06.94zm-11 1L8.5 8.5l.94-2.06 2.06-.94-2.06-.94L8.5 2.5l-.94 2.06-2.06.94zm10 10l.94 2.06.94-2.06 2.06-.94-2.06-.94-.94-2.06-.94 2.06-2.06.94z\"/><path d=\"M17.41 7.96l-1.37-1.37c-.4-.4-.92-.59-1.43-.59-.52 0-1.04.2-1.43.59L10.3 9.45l-7.72 7.72c-.78.78-.78 2.05 0 2.83L4 21.41c.39.39.9.59 1.41.59.51 0 1.02-.2 1.41-.59l7.78-7.78 2.81-2.81c.8-.78.8-2.07 0-2.86zM5.41 20L4 18.59l7.72-7.72 1.47 1.35L5.41 20z\"/>\n",
              "  </svg>\n",
              "      </button>\n",
              "      \n",
              "  <style>\n",
              "    .colab-df-container {\n",
              "      display:flex;\n",
              "      flex-wrap:wrap;\n",
              "      gap: 12px;\n",
              "    }\n",
              "\n",
              "    .colab-df-convert {\n",
              "      background-color: #E8F0FE;\n",
              "      border: none;\n",
              "      border-radius: 50%;\n",
              "      cursor: pointer;\n",
              "      display: none;\n",
              "      fill: #1967D2;\n",
              "      height: 32px;\n",
              "      padding: 0 0 0 0;\n",
              "      width: 32px;\n",
              "    }\n",
              "\n",
              "    .colab-df-convert:hover {\n",
              "      background-color: #E2EBFA;\n",
              "      box-shadow: 0px 1px 2px rgba(60, 64, 67, 0.3), 0px 1px 3px 1px rgba(60, 64, 67, 0.15);\n",
              "      fill: #174EA6;\n",
              "    }\n",
              "\n",
              "    [theme=dark] .colab-df-convert {\n",
              "      background-color: #3B4455;\n",
              "      fill: #D2E3FC;\n",
              "    }\n",
              "\n",
              "    [theme=dark] .colab-df-convert:hover {\n",
              "      background-color: #434B5C;\n",
              "      box-shadow: 0px 1px 3px 1px rgba(0, 0, 0, 0.15);\n",
              "      filter: drop-shadow(0px 1px 2px rgba(0, 0, 0, 0.3));\n",
              "      fill: #FFFFFF;\n",
              "    }\n",
              "  </style>\n",
              "\n",
              "      <script>\n",
              "        const buttonEl =\n",
              "          document.querySelector('#df-6ec29b0c-64b9-4006-9c7b-a5c613b83d4e button.colab-df-convert');\n",
              "        buttonEl.style.display =\n",
              "          google.colab.kernel.accessAllowed ? 'block' : 'none';\n",
              "\n",
              "        async function convertToInteractive(key) {\n",
              "          const element = document.querySelector('#df-6ec29b0c-64b9-4006-9c7b-a5c613b83d4e');\n",
              "          const dataTable =\n",
              "            await google.colab.kernel.invokeFunction('convertToInteractive',\n",
              "                                                     [key], {});\n",
              "          if (!dataTable) return;\n",
              "\n",
              "          const docLinkHtml = 'Like what you see? Visit the ' +\n",
              "            '<a target=\"_blank\" href=https://colab.research.google.com/notebooks/data_table.ipynb>data table notebook</a>'\n",
              "            + ' to learn more about interactive tables.';\n",
              "          element.innerHTML = '';\n",
              "          dataTable['output_type'] = 'display_data';\n",
              "          await google.colab.output.renderOutput(dataTable, element);\n",
              "          const docLink = document.createElement('div');\n",
              "          docLink.innerHTML = docLinkHtml;\n",
              "          element.appendChild(docLink);\n",
              "        }\n",
              "      </script>\n",
              "    </div>\n",
              "  </div>\n",
              "  "
            ]
          },
          "metadata": {},
          "execution_count": 992
        }
      ]
    },
    {
      "cell_type": "code",
      "source": [
        "import matplotlib.pyplot as plt\n",
        "correlations = dataset_a1.corr()\n",
        "mask = np.triu(np.ones_like(correlations, dtype=bool))\n",
        "f, ax = plt.subplots(figsize=(11, 9))\n",
        "cmap = sns.diverging_palette(230, 20, as_cmap=True)\n",
        "sns.heatmap(correlations, mask=mask, cmap=cmap, vmax=.3, center=0,\n",
        "            square=True, linewidths=.5, cbar_kws={\"shrink\": .5})"
      ],
      "metadata": {
        "colab": {
          "base_uri": "https://localhost:8080/",
          "height": 0
        },
        "id": "VeKHYtF-20pQ",
        "outputId": "4b4a6956-34b3-419d-8588-c5c48d69a3e2"
      },
      "execution_count": 993,
      "outputs": [
        {
          "output_type": "execute_result",
          "data": {
            "text/plain": [
              "<matplotlib.axes._subplots.AxesSubplot at 0x7f5b20ae2e80>"
            ]
          },
          "metadata": {},
          "execution_count": 993
        },
        {
          "output_type": "display_data",
          "data": {
            "text/plain": [
              "<Figure size 792x648 with 2 Axes>"
            ],
            "image/png": "[encoded data removed]"
          },
          "metadata": {
            "needs_background": "light"
          }
        }
      ]
    },
    {
      "cell_type": "markdown",
      "source": [
        "####Variação A2\n",
        "\n",
        "Valores da coluna 'Horário_Discreto' convertido para reais."
      ],
      "metadata": {
        "id": "yGH2GMQ0EABc"
      }
    },
    {
      "cell_type": "code",
      "source": [
        "dataset_a2 = dataset_a.copy()"
      ],
      "metadata": {
        "id": "40aIcUz3GbUA"
      },
      "execution_count": 994,
      "outputs": []
    },
    {
      "cell_type": "code",
      "source": [
        "dataset_a2['Horário_Discreto'] = dataset_a2['Horário'].map({'5:00':5, '5:30':5.5, '6:00':6, '6:30':6.5, '7:00':7, '7:30':7.5,\n",
        "                                                           '8:00':8, '8:30':8.5, '9:00':9, '9:30':9.5, '10:00':10, '10:30':10.5,\n",
        "                                                           '11:00':11, '11:30':11.5, '12:00':12, '12:30':12.5, '13:00':13, '13:30':13.5,\n",
        "                                                           '14:00':14, '14:30':14.5, '15:00':15, '15:30':15.5, '16:00':16, '16:30':16.5,\n",
        "                                                           '17:00':17, '17:30':17.5, '18:00':18, '18:30':18.5, '19:00':19, '19:30':19.5})\n",
        "dataset_a2 = dataset_a2.drop('Data', axis=1)\n",
        "dataset_a2 = dataset_a2.drop('Horário', axis=1)\n",
        "for i in ['Altura da Maré (m)', 'Velocidade do Vento (Km/h)', 'Chuva (mm)']:\n",
        "    dataset_a2[i] = dataset_a2[i].astype(float)"
      ],
      "metadata": {
        "id": "gU2urnX2B9bT"
      },
      "execution_count": 995,
      "outputs": []
    },
    {
      "cell_type": "code",
      "source": [
        "dataset_a2"
      ],
      "metadata": {
        "colab": {
          "base_uri": "https://localhost:8080/",
          "height": 0
        },
        "id": "0ijVvODiGmef",
        "outputId": "20020f81-e780-4ca5-e7e5-764b45a7fa47"
      },
      "execution_count": 996,
      "outputs": [
        {
          "output_type": "execute_result",
          "data": {
            "text/plain": [
              "     Terminal  Altura da Maré (m)  Velocidade do Vento (Km/h)  Chuva (mm)  \\\n",
              "0           0                 1.2                        22.5        0.33   \n",
              "1           0                 1.6                        23.0        0.33   \n",
              "2           0                 1.8                        23.5        0.33   \n",
              "3           0                 1.9                        24.0        0.33   \n",
              "4           0                 1.8                        24.0        0.33   \n",
              "..        ...                 ...                         ...         ...   \n",
              "315         0                 2.5                        18.5        0.83   \n",
              "316         1                 1.6                        10.5        0.83   \n",
              "317         1                -0.1                         7.5        0.83   \n",
              "318         1                 2.0                        14.0        0.83   \n",
              "319         1                 2.3                        23.0        0.83   \n",
              "\n",
              "     Condição dia Anterior  Recomendação da Capitania  Horário_Discreto  \n",
              "0                        0                          0               5.0  \n",
              "1                        0                          0               6.0  \n",
              "2                        0                          0               7.0  \n",
              "3                        0                          0               8.0  \n",
              "4                        0                          0               9.0  \n",
              "..                     ...                        ...               ...  \n",
              "315                      1                          2              16.5  \n",
              "316                      1                          2               6.5  \n",
              "317                      1                          2               9.5  \n",
              "318                      1                          2              14.5  \n",
              "319                      1                          2              18.0  \n",
              "\n",
              "[320 rows x 7 columns]"
            ],
            "text/html": [
              "\n",
              "  <div id=\"df-6cf7fcb4-d1cd-4c6b-8b79-300f2c897e7a\">\n",
              "    <div class=\"colab-df-container\">\n",
              "      <div>\n",
              "<style scoped>\n",
              "    .dataframe tbody tr th:only-of-type {\n",
              "        vertical-align: middle;\n",
              "    }\n",
              "\n",
              "    .dataframe tbody tr th {\n",
              "        vertical-align: top;\n",
              "    }\n",
              "\n",
              "    .dataframe thead th {\n",
              "        text-align: right;\n",
              "    }\n",
              "</style>\n",
              "<table border=\"1\" class=\"dataframe\">\n",
              "  <thead>\n",
              "    <tr style=\"text-align: right;\">\n",
              "      <th></th>\n",
              "      <th>Terminal</th>\n",
              "      <th>Altura da Maré (m)</th>\n",
              "      <th>Velocidade do Vento (Km/h)</th>\n",
              "      <th>Chuva (mm)</th>\n",
              "      <th>Condição dia Anterior</th>\n",
              "      <th>Recomendação da Capitania</th>\n",
              "      <th>Horário_Discreto</th>\n",
              "    </tr>\n",
              "  </thead>\n",
              "  <tbody>\n",
              "    <tr>\n",
              "      <th>0</th>\n",
              "      <td>0</td>\n",
              "      <td>1.2</td>\n",
              "      <td>22.5</td>\n",
              "      <td>0.33</td>\n",
              "      <td>0</td>\n",
              "      <td>0</td>\n",
              "      <td>5.0</td>\n",
              "    </tr>\n",
              "    <tr>\n",
              "      <th>1</th>\n",
              "      <td>0</td>\n",
              "      <td>1.6</td>\n",
              "      <td>23.0</td>\n",
              "      <td>0.33</td>\n",
              "      <td>0</td>\n",
              "      <td>0</td>\n",
              "      <td>6.0</td>\n",
              "    </tr>\n",
              "    <tr>\n",
              "      <th>2</th>\n",
              "      <td>0</td>\n",
              "      <td>1.8</td>\n",
              "      <td>23.5</td>\n",
              "      <td>0.33</td>\n",
              "      <td>0</td>\n",
              "      <td>0</td>\n",
              "      <td>7.0</td>\n",
              "    </tr>\n",
              "    <tr>\n",
              "      <th>3</th>\n",
              "      <td>0</td>\n",
              "      <td>1.9</td>\n",
              "      <td>24.0</td>\n",
              "      <td>0.33</td>\n",
              "      <td>0</td>\n",
              "      <td>0</td>\n",
              "      <td>8.0</td>\n",
              "    </tr>\n",
              "    <tr>\n",
              "      <th>4</th>\n",
              "      <td>0</td>\n",
              "      <td>1.8</td>\n",
              "      <td>24.0</td>\n",
              "      <td>0.33</td>\n",
              "      <td>0</td>\n",
              "      <td>0</td>\n",
              "      <td>9.0</td>\n",
              "    </tr>\n",
              "    <tr>\n",
              "      <th>...</th>\n",
              "      <td>...</td>\n",
              "      <td>...</td>\n",
              "      <td>...</td>\n",
              "      <td>...</td>\n",
              "      <td>...</td>\n",
              "      <td>...</td>\n",
              "      <td>...</td>\n",
              "    </tr>\n",
              "    <tr>\n",
              "      <th>315</th>\n",
              "      <td>0</td>\n",
              "      <td>2.5</td>\n",
              "      <td>18.5</td>\n",
              "      <td>0.83</td>\n",
              "      <td>1</td>\n",
              "      <td>2</td>\n",
              "      <td>16.5</td>\n",
              "    </tr>\n",
              "    <tr>\n",
              "      <th>316</th>\n",
              "      <td>1</td>\n",
              "      <td>1.6</td>\n",
              "      <td>10.5</td>\n",
              "      <td>0.83</td>\n",
              "      <td>1</td>\n",
              "      <td>2</td>\n",
              "      <td>6.5</td>\n",
              "    </tr>\n",
              "    <tr>\n",
              "      <th>317</th>\n",
              "      <td>1</td>\n",
              "      <td>-0.1</td>\n",
              "      <td>7.5</td>\n",
              "      <td>0.83</td>\n",
              "      <td>1</td>\n",
              "      <td>2</td>\n",
              "      <td>9.5</td>\n",
              "    </tr>\n",
              "    <tr>\n",
              "      <th>318</th>\n",
              "      <td>1</td>\n",
              "      <td>2.0</td>\n",
              "      <td>14.0</td>\n",
              "      <td>0.83</td>\n",
              "      <td>1</td>\n",
              "      <td>2</td>\n",
              "      <td>14.5</td>\n",
              "    </tr>\n",
              "    <tr>\n",
              "      <th>319</th>\n",
              "      <td>1</td>\n",
              "      <td>2.3</td>\n",
              "      <td>23.0</td>\n",
              "      <td>0.83</td>\n",
              "      <td>1</td>\n",
              "      <td>2</td>\n",
              "      <td>18.0</td>\n",
              "    </tr>\n",
              "  </tbody>\n",
              "</table>\n",
              "<p>320 rows × 7 columns</p>\n",
              "</div>\n",
              "      <button class=\"colab-df-convert\" onclick=\"convertToInteractive('df-6cf7fcb4-d1cd-4c6b-8b79-300f2c897e7a')\"\n",
              "              title=\"Convert this dataframe to an interactive table.\"\n",
              "              style=\"display:none;\">\n",
              "        \n",
              "  <svg xmlns=\"http://www.w3.org/2000/svg\" height=\"24px\"viewBox=\"0 0 24 24\"\n",
              "       width=\"24px\">\n",
              "    <path d=\"M0 0h24v24H0V0z\" fill=\"none\"/>\n",
              "    <path d=\"M18.56 5.44l.94 2.06.94-2.06 2.06-.94-2.06-.94-.94-2.06-.94 2.06-2.06.94zm-11 1L8.5 8.5l.94-2.06 2.06-.94-2.06-.94L8.5 2.5l-.94 2.06-2.06.94zm10 10l.94 2.06.94-2.06 2.06-.94-2.06-.94-.94-2.06-.94 2.06-2.06.94z\"/><path d=\"M17.41 7.96l-1.37-1.37c-.4-.4-.92-.59-1.43-.59-.52 0-1.04.2-1.43.59L10.3 9.45l-7.72 7.72c-.78.78-.78 2.05 0 2.83L4 21.41c.39.39.9.59 1.41.59.51 0 1.02-.2 1.41-.59l7.78-7.78 2.81-2.81c.8-.78.8-2.07 0-2.86zM5.41 20L4 18.59l7.72-7.72 1.47 1.35L5.41 20z\"/>\n",
              "  </svg>\n",
              "      </button>\n",
              "      \n",
              "  <style>\n",
              "    .colab-df-container {\n",
              "      display:flex;\n",
              "      flex-wrap:wrap;\n",
              "      gap: 12px;\n",
              "    }\n",
              "\n",
              "    .colab-df-convert {\n",
              "      background-color: #E8F0FE;\n",
              "      border: none;\n",
              "      border-radius: 50%;\n",
              "      cursor: pointer;\n",
              "      display: none;\n",
              "      fill: #1967D2;\n",
              "      height: 32px;\n",
              "      padding: 0 0 0 0;\n",
              "      width: 32px;\n",
              "    }\n",
              "\n",
              "    .colab-df-convert:hover {\n",
              "      background-color: #E2EBFA;\n",
              "      box-shadow: 0px 1px 2px rgba(60, 64, 67, 0.3), 0px 1px 3px 1px rgba(60, 64, 67, 0.15);\n",
              "      fill: #174EA6;\n",
              "    }\n",
              "\n",
              "    [theme=dark] .colab-df-convert {\n",
              "      background-color: #3B4455;\n",
              "      fill: #D2E3FC;\n",
              "    }\n",
              "\n",
              "    [theme=dark] .colab-df-convert:hover {\n",
              "      background-color: #434B5C;\n",
              "      box-shadow: 0px 1px 3px 1px rgba(0, 0, 0, 0.15);\n",
              "      filter: drop-shadow(0px 1px 2px rgba(0, 0, 0, 0.3));\n",
              "      fill: #FFFFFF;\n",
              "    }\n",
              "  </style>\n",
              "\n",
              "      <script>\n",
              "        const buttonEl =\n",
              "          document.querySelector('#df-6cf7fcb4-d1cd-4c6b-8b79-300f2c897e7a button.colab-df-convert');\n",
              "        buttonEl.style.display =\n",
              "          google.colab.kernel.accessAllowed ? 'block' : 'none';\n",
              "\n",
              "        async function convertToInteractive(key) {\n",
              "          const element = document.querySelector('#df-6cf7fcb4-d1cd-4c6b-8b79-300f2c897e7a');\n",
              "          const dataTable =\n",
              "            await google.colab.kernel.invokeFunction('convertToInteractive',\n",
              "                                                     [key], {});\n",
              "          if (!dataTable) return;\n",
              "\n",
              "          const docLinkHtml = 'Like what you see? Visit the ' +\n",
              "            '<a target=\"_blank\" href=https://colab.research.google.com/notebooks/data_table.ipynb>data table notebook</a>'\n",
              "            + ' to learn more about interactive tables.';\n",
              "          element.innerHTML = '';\n",
              "          dataTable['output_type'] = 'display_data';\n",
              "          await google.colab.output.renderOutput(dataTable, element);\n",
              "          const docLink = document.createElement('div');\n",
              "          docLink.innerHTML = docLinkHtml;\n",
              "          element.appendChild(docLink);\n",
              "        }\n",
              "      </script>\n",
              "    </div>\n",
              "  </div>\n",
              "  "
            ]
          },
          "metadata": {},
          "execution_count": 996
        }
      ]
    },
    {
      "cell_type": "code",
      "source": [
        "import matplotlib.pyplot as plt\n",
        "correlations = dataset_a2.corr()\n",
        "mask = np.triu(np.ones_like(correlations, dtype=bool))\n",
        "f, ax = plt.subplots(figsize=(11, 9))\n",
        "cmap = sns.diverging_palette(230, 20, as_cmap=True)\n",
        "sns.heatmap(correlations, mask=mask, cmap=cmap, vmax=.3, center=0,\n",
        "            square=True, linewidths=.5, cbar_kws={\"shrink\": .5})"
      ],
      "metadata": {
        "colab": {
          "base_uri": "https://localhost:8080/",
          "height": 0
        },
        "id": "UNYLebaYI20N",
        "outputId": "e630faa5-bdb7-420e-f534-5cabf9aa8dd8"
      },
      "execution_count": 997,
      "outputs": [
        {
          "output_type": "execute_result",
          "data": {
            "text/plain": [
              "<matplotlib.axes._subplots.AxesSubplot at 0x7f5b20ba1d90>"
            ]
          },
          "metadata": {},
          "execution_count": 997
        },
        {
          "output_type": "display_data",
          "data": {
            "text/plain": [
              "<Figure size 792x648 with 2 Axes>"
            ],
            "image/png": "[encoded data removed]"
          },
          "metadata": {
            "needs_background": "light"
          }
        }
      ]
    },
    {
      "cell_type": "markdown",
      "source": [
        "### Variações B\n",
        "\n",
        "Dummieficação das colunas 'Terminal', 'Condição dia Anterior' e 'Recomendação da Capitania'."
      ],
      "metadata": {
        "id": "qnE_vyhPzbq8"
      }
    },
    {
      "cell_type": "code",
      "source": [
        "dataset_b = dataset_original.copy()"
      ],
      "metadata": {
        "id": "MxXllMc4ICNN"
      },
      "execution_count": 998,
      "outputs": []
    },
    {
      "cell_type": "code",
      "source": [
        "dataset_b = pd.get_dummies(dataset_b, columns=['Terminal','Condição dia Anterior','Recomendação da Capitania'])"
      ],
      "metadata": {
        "id": "RZ6B_C7_HkE9"
      },
      "execution_count": 999,
      "outputs": []
    },
    {
      "cell_type": "code",
      "source": [
        "dataset_b"
      ],
      "metadata": {
        "colab": {
          "base_uri": "https://localhost:8080/",
          "height": 0
        },
        "id": "yN1oRTm0IOYk",
        "outputId": "ebd7391f-583b-44ac-a470-5d445a28b919"
      },
      "execution_count": 1000,
      "outputs": [
        {
          "output_type": "execute_result",
          "data": {
            "text/plain": [
              "           Data Horário  Altura da Maré (m)  Velocidade do Vento (Km/h)  \\\n",
              "0    15/03/2020    5:00                 1.2                        22.5   \n",
              "1    15/03/2020    6:00                 1.6                        23.0   \n",
              "2    15/03/2020    7:00                 1.8                        23.5   \n",
              "3    15/03/2020    8:00                 1.9                        24.0   \n",
              "4    15/03/2020    9:00                 1.8                        24.0   \n",
              "..          ...     ...                 ...                         ...   \n",
              "315  08/05/2020   16:30                 2.5                        18.5   \n",
              "316  08/05/2020    6:30                 1.6                        10.5   \n",
              "317  08/05/2020    9:30                -0.1                         7.5   \n",
              "318  08/05/2020   14:30                 2.0                        14.0   \n",
              "319  08/05/2020   18:00                 2.3                        23.0   \n",
              "\n",
              "     Chuva (mm)  Terminal_Mar grande  Terminal_Salvador  \\\n",
              "0          0.33                    1                  0   \n",
              "1          0.33                    1                  0   \n",
              "2          0.33                    1                  0   \n",
              "3          0.33                    1                  0   \n",
              "4          0.33                    1                  0   \n",
              "..          ...                  ...                ...   \n",
              "315        0.83                    1                  0   \n",
              "316        0.83                    0                  1   \n",
              "317        0.83                    0                  1   \n",
              "318        0.83                    0                  1   \n",
              "319        0.83                    0                  1   \n",
              "\n",
              "     Condição dia Anterior_Bom  Condição dia Anterior_Ruim  \\\n",
              "0                            1                           0   \n",
              "1                            1                           0   \n",
              "2                            1                           0   \n",
              "3                            1                           0   \n",
              "4                            1                           0   \n",
              "..                         ...                         ...   \n",
              "315                          0                           1   \n",
              "316                          0                           1   \n",
              "317                          0                           1   \n",
              "318                          0                           1   \n",
              "319                          0                           1   \n",
              "\n",
              "     Recomendação da Capitania_Amarelo  Recomendação da Capitania_Verde  \\\n",
              "0                                    0                                1   \n",
              "1                                    0                                1   \n",
              "2                                    0                                1   \n",
              "3                                    0                                1   \n",
              "4                                    0                                1   \n",
              "..                                 ...                              ...   \n",
              "315                                  0                                0   \n",
              "316                                  0                                0   \n",
              "317                                  0                                0   \n",
              "318                                  0                                0   \n",
              "319                                  0                                0   \n",
              "\n",
              "     Recomendação da Capitania_Vermelho  \n",
              "0                                     0  \n",
              "1                                     0  \n",
              "2                                     0  \n",
              "3                                     0  \n",
              "4                                     0  \n",
              "..                                  ...  \n",
              "315                                   1  \n",
              "316                                   1  \n",
              "317                                   1  \n",
              "318                                   1  \n",
              "319                                   1  \n",
              "\n",
              "[320 rows x 12 columns]"
            ],
            "text/html": [
              "\n",
              "  <div id=\"df-8b0daca0-06f4-4c63-b5ee-476933ca35a1\">\n",
              "    <div class=\"colab-df-container\">\n",
              "      <div>\n",
              "<style scoped>\n",
              "    .dataframe tbody tr th:only-of-type {\n",
              "        vertical-align: middle;\n",
              "    }\n",
              "\n",
              "    .dataframe tbody tr th {\n",
              "        vertical-align: top;\n",
              "    }\n",
              "\n",
              "    .dataframe thead th {\n",
              "        text-align: right;\n",
              "    }\n",
              "</style>\n",
              "<table border=\"1\" class=\"dataframe\">\n",
              "  <thead>\n",
              "    <tr style=\"text-align: right;\">\n",
              "      <th></th>\n",
              "      <th>Data</th>\n",
              "      <th>Horário</th>\n",
              "      <th>Altura da Maré (m)</th>\n",
              "      <th>Velocidade do Vento (Km/h)</th>\n",
              "      <th>Chuva (mm)</th>\n",
              "      <th>Terminal_Mar grande</th>\n",
              "      <th>Terminal_Salvador</th>\n",
              "      <th>Condição dia Anterior_Bom</th>\n",
              "      <th>Condição dia Anterior_Ruim</th>\n",
              "      <th>Recomendação da Capitania_Amarelo</th>\n",
              "      <th>Recomendação da Capitania_Verde</th>\n",
              "      <th>Recomendação da Capitania_Vermelho</th>\n",
              "    </tr>\n",
              "  </thead>\n",
              "  <tbody>\n",
              "    <tr>\n",
              "      <th>0</th>\n",
              "      <td>15/03/2020</td>\n",
              "      <td>5:00</td>\n",
              "      <td>1.2</td>\n",
              "      <td>22.5</td>\n",
              "      <td>0.33</td>\n",
              "      <td>1</td>\n",
              "      <td>0</td>\n",
              "      <td>1</td>\n",
              "      <td>0</td>\n",
              "      <td>0</td>\n",
              "      <td>1</td>\n",
              "      <td>0</td>\n",
              "    </tr>\n",
              "    <tr>\n",
              "      <th>1</th>\n",
              "      <td>15/03/2020</td>\n",
              "      <td>6:00</td>\n",
              "      <td>1.6</td>\n",
              "      <td>23.0</td>\n",
              "      <td>0.33</td>\n",
              "      <td>1</td>\n",
              "      <td>0</td>\n",
              "      <td>1</td>\n",
              "      <td>0</td>\n",
              "      <td>0</td>\n",
              "      <td>1</td>\n",
              "      <td>0</td>\n",
              "    </tr>\n",
              "    <tr>\n",
              "      <th>2</th>\n",
              "      <td>15/03/2020</td>\n",
              "      <td>7:00</td>\n",
              "      <td>1.8</td>\n",
              "      <td>23.5</td>\n",
              "      <td>0.33</td>\n",
              "      <td>1</td>\n",
              "      <td>0</td>\n",
              "      <td>1</td>\n",
              "      <td>0</td>\n",
              "      <td>0</td>\n",
              "      <td>1</td>\n",
              "      <td>0</td>\n",
              "    </tr>\n",
              "    <tr>\n",
              "      <th>3</th>\n",
              "      <td>15/03/2020</td>\n",
              "      <td>8:00</td>\n",
              "      <td>1.9</td>\n",
              "      <td>24.0</td>\n",
              "      <td>0.33</td>\n",
              "      <td>1</td>\n",
              "      <td>0</td>\n",
              "      <td>1</td>\n",
              "      <td>0</td>\n",
              "      <td>0</td>\n",
              "      <td>1</td>\n",
              "      <td>0</td>\n",
              "    </tr>\n",
              "    <tr>\n",
              "      <th>4</th>\n",
              "      <td>15/03/2020</td>\n",
              "      <td>9:00</td>\n",
              "      <td>1.8</td>\n",
              "      <td>24.0</td>\n",
              "      <td>0.33</td>\n",
              "      <td>1</td>\n",
              "      <td>0</td>\n",
              "      <td>1</td>\n",
              "      <td>0</td>\n",
              "      <td>0</td>\n",
              "      <td>1</td>\n",
              "      <td>0</td>\n",
              "    </tr>\n",
              "    <tr>\n",
              "      <th>...</th>\n",
              "      <td>...</td>\n",
              "      <td>...</td>\n",
              "      <td>...</td>\n",
              "      <td>...</td>\n",
              "      <td>...</td>\n",
              "      <td>...</td>\n",
              "      <td>...</td>\n",
              "      <td>...</td>\n",
              "      <td>...</td>\n",
              "      <td>...</td>\n",
              "      <td>...</td>\n",
              "      <td>...</td>\n",
              "    </tr>\n",
              "    <tr>\n",
              "      <th>315</th>\n",
              "      <td>08/05/2020</td>\n",
              "      <td>16:30</td>\n",
              "      <td>2.5</td>\n",
              "      <td>18.5</td>\n",
              "      <td>0.83</td>\n",
              "      <td>1</td>\n",
              "      <td>0</td>\n",
              "      <td>0</td>\n",
              "      <td>1</td>\n",
              "      <td>0</td>\n",
              "      <td>0</td>\n",
              "      <td>1</td>\n",
              "    </tr>\n",
              "    <tr>\n",
              "      <th>316</th>\n",
              "      <td>08/05/2020</td>\n",
              "      <td>6:30</td>\n",
              "      <td>1.6</td>\n",
              "      <td>10.5</td>\n",
              "      <td>0.83</td>\n",
              "      <td>0</td>\n",
              "      <td>1</td>\n",
              "      <td>0</td>\n",
              "      <td>1</td>\n",
              "      <td>0</td>\n",
              "      <td>0</td>\n",
              "      <td>1</td>\n",
              "    </tr>\n",
              "    <tr>\n",
              "      <th>317</th>\n",
              "      <td>08/05/2020</td>\n",
              "      <td>9:30</td>\n",
              "      <td>-0.1</td>\n",
              "      <td>7.5</td>\n",
              "      <td>0.83</td>\n",
              "      <td>0</td>\n",
              "      <td>1</td>\n",
              "      <td>0</td>\n",
              "      <td>1</td>\n",
              "      <td>0</td>\n",
              "      <td>0</td>\n",
              "      <td>1</td>\n",
              "    </tr>\n",
              "    <tr>\n",
              "      <th>318</th>\n",
              "      <td>08/05/2020</td>\n",
              "      <td>14:30</td>\n",
              "      <td>2.0</td>\n",
              "      <td>14.0</td>\n",
              "      <td>0.83</td>\n",
              "      <td>0</td>\n",
              "      <td>1</td>\n",
              "      <td>0</td>\n",
              "      <td>1</td>\n",
              "      <td>0</td>\n",
              "      <td>0</td>\n",
              "      <td>1</td>\n",
              "    </tr>\n",
              "    <tr>\n",
              "      <th>319</th>\n",
              "      <td>08/05/2020</td>\n",
              "      <td>18:00</td>\n",
              "      <td>2.3</td>\n",
              "      <td>23.0</td>\n",
              "      <td>0.83</td>\n",
              "      <td>0</td>\n",
              "      <td>1</td>\n",
              "      <td>0</td>\n",
              "      <td>1</td>\n",
              "      <td>0</td>\n",
              "      <td>0</td>\n",
              "      <td>1</td>\n",
              "    </tr>\n",
              "  </tbody>\n",
              "</table>\n",
              "<p>320 rows × 12 columns</p>\n",
              "</div>\n",
              "      <button class=\"colab-df-convert\" onclick=\"convertToInteractive('df-8b0daca0-06f4-4c63-b5ee-476933ca35a1')\"\n",
              "              title=\"Convert this dataframe to an interactive table.\"\n",
              "              style=\"display:none;\">\n",
              "        \n",
              "  <svg xmlns=\"http://www.w3.org/2000/svg\" height=\"24px\"viewBox=\"0 0 24 24\"\n",
              "       width=\"24px\">\n",
              "    <path d=\"M0 0h24v24H0V0z\" fill=\"none\"/>\n",
              "    <path d=\"M18.56 5.44l.94 2.06.94-2.06 2.06-.94-2.06-.94-.94-2.06-.94 2.06-2.06.94zm-11 1L8.5 8.5l.94-2.06 2.06-.94-2.06-.94L8.5 2.5l-.94 2.06-2.06.94zm10 10l.94 2.06.94-2.06 2.06-.94-2.06-.94-.94-2.06-.94 2.06-2.06.94z\"/><path d=\"M17.41 7.96l-1.37-1.37c-.4-.4-.92-.59-1.43-.59-.52 0-1.04.2-1.43.59L10.3 9.45l-7.72 7.72c-.78.78-.78 2.05 0 2.83L4 21.41c.39.39.9.59 1.41.59.51 0 1.02-.2 1.41-.59l7.78-7.78 2.81-2.81c.8-.78.8-2.07 0-2.86zM5.41 20L4 18.59l7.72-7.72 1.47 1.35L5.41 20z\"/>\n",
              "  </svg>\n",
              "      </button>\n",
              "      \n",
              "  <style>\n",
              "    .colab-df-container {\n",
              "      display:flex;\n",
              "      flex-wrap:wrap;\n",
              "      gap: 12px;\n",
              "    }\n",
              "\n",
              "    .colab-df-convert {\n",
              "      background-color: #E8F0FE;\n",
              "      border: none;\n",
              "      border-radius: 50%;\n",
              "      cursor: pointer;\n",
              "      display: none;\n",
              "      fill: #1967D2;\n",
              "      height: 32px;\n",
              "      padding: 0 0 0 0;\n",
              "      width: 32px;\n",
              "    }\n",
              "\n",
              "    .colab-df-convert:hover {\n",
              "      background-color: #E2EBFA;\n",
              "      box-shadow: 0px 1px 2px rgba(60, 64, 67, 0.3), 0px 1px 3px 1px rgba(60, 64, 67, 0.15);\n",
              "      fill: #174EA6;\n",
              "    }\n",
              "\n",
              "    [theme=dark] .colab-df-convert {\n",
              "      background-color: #3B4455;\n",
              "      fill: #D2E3FC;\n",
              "    }\n",
              "\n",
              "    [theme=dark] .colab-df-convert:hover {\n",
              "      background-color: #434B5C;\n",
              "      box-shadow: 0px 1px 3px 1px rgba(0, 0, 0, 0.15);\n",
              "      filter: drop-shadow(0px 1px 2px rgba(0, 0, 0, 0.3));\n",
              "      fill: #FFFFFF;\n",
              "    }\n",
              "  </style>\n",
              "\n",
              "      <script>\n",
              "        const buttonEl =\n",
              "          document.querySelector('#df-8b0daca0-06f4-4c63-b5ee-476933ca35a1 button.colab-df-convert');\n",
              "        buttonEl.style.display =\n",
              "          google.colab.kernel.accessAllowed ? 'block' : 'none';\n",
              "\n",
              "        async function convertToInteractive(key) {\n",
              "          const element = document.querySelector('#df-8b0daca0-06f4-4c63-b5ee-476933ca35a1');\n",
              "          const dataTable =\n",
              "            await google.colab.kernel.invokeFunction('convertToInteractive',\n",
              "                                                     [key], {});\n",
              "          if (!dataTable) return;\n",
              "\n",
              "          const docLinkHtml = 'Like what you see? Visit the ' +\n",
              "            '<a target=\"_blank\" href=https://colab.research.google.com/notebooks/data_table.ipynb>data table notebook</a>'\n",
              "            + ' to learn more about interactive tables.';\n",
              "          element.innerHTML = '';\n",
              "          dataTable['output_type'] = 'display_data';\n",
              "          await google.colab.output.renderOutput(dataTable, element);\n",
              "          const docLink = document.createElement('div');\n",
              "          docLink.innerHTML = docLinkHtml;\n",
              "          element.appendChild(docLink);\n",
              "        }\n",
              "      </script>\n",
              "    </div>\n",
              "  </div>\n",
              "  "
            ]
          },
          "metadata": {},
          "execution_count": 1000
        }
      ]
    },
    {
      "cell_type": "markdown",
      "source": [
        "#### Variação B1\n",
        "\n",
        "Valores da coluna 'Horário_Discreto' convertido para inteiros."
      ],
      "metadata": {
        "id": "c1F0cTkvHTQV"
      }
    },
    {
      "cell_type": "code",
      "source": [
        "dataset_b1 = dataset_b.copy()"
      ],
      "metadata": {
        "id": "nVIdLitlIi8l"
      },
      "execution_count": 1001,
      "outputs": []
    },
    {
      "cell_type": "code",
      "source": [
        "dataset_b1['Horário_Discreto'] = dataset_b1['Horário'].map({'5:00':5, '5:30':5, '6:00':6, '6:30':6, '7:00':7, '7:30':7,\n",
        "                                                           '8:00':8, '8:30':8, '9:00':9, '9:30':9, '10:00':10, '10:30':10,\n",
        "                                                           '11:00':11, '11:30':11, '12:00':12, '12:30':12, '13:00':13, '13:30':13,\n",
        "                                                           '14:00':14, '14:30':14, '15:00':15, '15:30':15, '16:00':16, '16:30':16,\n",
        "                                                           '17:00':17, '17:30':17, '18:00':18, '18:30':18, '19:00':19, '19:30':19})\n",
        "dataset_b1 = dataset_b1.drop('Data', axis=1)\n",
        "dataset_b1 = dataset_b1.drop('Horário', axis=1)\n",
        "for i in ['Altura da Maré (m)', 'Velocidade do Vento (Km/h)', 'Chuva (mm)']:\n",
        "    dataset_b1[i] = dataset_b1[i].astype(float)"
      ],
      "metadata": {
        "id": "zUM8B5SWIi8l"
      },
      "execution_count": 1002,
      "outputs": []
    },
    {
      "cell_type": "code",
      "source": [
        "dataset_b1"
      ],
      "metadata": {
        "colab": {
          "base_uri": "https://localhost:8080/",
          "height": 0
        },
        "outputId": "bf6123bb-d74c-415a-80fc-696614da1fb6",
        "id": "0Y_7-Q4LIi8l"
      },
      "execution_count": 1003,
      "outputs": [
        {
          "output_type": "execute_result",
          "data": {
            "text/plain": [
              "     Altura da Maré (m)  Velocidade do Vento (Km/h)  Chuva (mm)  \\\n",
              "0                   1.2                        22.5        0.33   \n",
              "1                   1.6                        23.0        0.33   \n",
              "2                   1.8                        23.5        0.33   \n",
              "3                   1.9                        24.0        0.33   \n",
              "4                   1.8                        24.0        0.33   \n",
              "..                  ...                         ...         ...   \n",
              "315                 2.5                        18.5        0.83   \n",
              "316                 1.6                        10.5        0.83   \n",
              "317                -0.1                         7.5        0.83   \n",
              "318                 2.0                        14.0        0.83   \n",
              "319                 2.3                        23.0        0.83   \n",
              "\n",
              "     Terminal_Mar grande  Terminal_Salvador  Condição dia Anterior_Bom  \\\n",
              "0                      1                  0                          1   \n",
              "1                      1                  0                          1   \n",
              "2                      1                  0                          1   \n",
              "3                      1                  0                          1   \n",
              "4                      1                  0                          1   \n",
              "..                   ...                ...                        ...   \n",
              "315                    1                  0                          0   \n",
              "316                    0                  1                          0   \n",
              "317                    0                  1                          0   \n",
              "318                    0                  1                          0   \n",
              "319                    0                  1                          0   \n",
              "\n",
              "     Condição dia Anterior_Ruim  Recomendação da Capitania_Amarelo  \\\n",
              "0                             0                                  0   \n",
              "1                             0                                  0   \n",
              "2                             0                                  0   \n",
              "3                             0                                  0   \n",
              "4                             0                                  0   \n",
              "..                          ...                                ...   \n",
              "315                           1                                  0   \n",
              "316                           1                                  0   \n",
              "317                           1                                  0   \n",
              "318                           1                                  0   \n",
              "319                           1                                  0   \n",
              "\n",
              "     Recomendação da Capitania_Verde  Recomendação da Capitania_Vermelho  \\\n",
              "0                                  1                                   0   \n",
              "1                                  1                                   0   \n",
              "2                                  1                                   0   \n",
              "3                                  1                                   0   \n",
              "4                                  1                                   0   \n",
              "..                               ...                                 ...   \n",
              "315                                0                                   1   \n",
              "316                                0                                   1   \n",
              "317                                0                                   1   \n",
              "318                                0                                   1   \n",
              "319                                0                                   1   \n",
              "\n",
              "     Horário_Discreto  \n",
              "0                   5  \n",
              "1                   6  \n",
              "2                   7  \n",
              "3                   8  \n",
              "4                   9  \n",
              "..                ...  \n",
              "315                16  \n",
              "316                 6  \n",
              "317                 9  \n",
              "318                14  \n",
              "319                18  \n",
              "\n",
              "[320 rows x 11 columns]"
            ],
            "text/html": [
              "\n",
              "  <div id=\"df-01732241-9b35-425d-b509-41bd2ede67cf\">\n",
              "    <div class=\"colab-df-container\">\n",
              "      <div>\n",
              "<style scoped>\n",
              "    .dataframe tbody tr th:only-of-type {\n",
              "        vertical-align: middle;\n",
              "    }\n",
              "\n",
              "    .dataframe tbody tr th {\n",
              "        vertical-align: top;\n",
              "    }\n",
              "\n",
              "    .dataframe thead th {\n",
              "        text-align: right;\n",
              "    }\n",
              "</style>\n",
              "<table border=\"1\" class=\"dataframe\">\n",
              "  <thead>\n",
              "    <tr style=\"text-align: right;\">\n",
              "      <th></th>\n",
              "      <th>Altura da Maré (m)</th>\n",
              "      <th>Velocidade do Vento (Km/h)</th>\n",
              "      <th>Chuva (mm)</th>\n",
              "      <th>Terminal_Mar grande</th>\n",
              "      <th>Terminal_Salvador</th>\n",
              "      <th>Condição dia Anterior_Bom</th>\n",
              "      <th>Condição dia Anterior_Ruim</th>\n",
              "      <th>Recomendação da Capitania_Amarelo</th>\n",
              "      <th>Recomendação da Capitania_Verde</th>\n",
              "      <th>Recomendação da Capitania_Vermelho</th>\n",
              "      <th>Horário_Discreto</th>\n",
              "    </tr>\n",
              "  </thead>\n",
              "  <tbody>\n",
              "    <tr>\n",
              "      <th>0</th>\n",
              "      <td>1.2</td>\n",
              "      <td>22.5</td>\n",
              "      <td>0.33</td>\n",
              "      <td>1</td>\n",
              "      <td>0</td>\n",
              "      <td>1</td>\n",
              "      <td>0</td>\n",
              "      <td>0</td>\n",
              "      <td>1</td>\n",
              "      <td>0</td>\n",
              "      <td>5</td>\n",
              "    </tr>\n",
              "    <tr>\n",
              "      <th>1</th>\n",
              "      <td>1.6</td>\n",
              "      <td>23.0</td>\n",
              "      <td>0.33</td>\n",
              "      <td>1</td>\n",
              "      <td>0</td>\n",
              "      <td>1</td>\n",
              "      <td>0</td>\n",
              "      <td>0</td>\n",
              "      <td>1</td>\n",
              "      <td>0</td>\n",
              "      <td>6</td>\n",
              "    </tr>\n",
              "    <tr>\n",
              "      <th>2</th>\n",
              "      <td>1.8</td>\n",
              "      <td>23.5</td>\n",
              "      <td>0.33</td>\n",
              "      <td>1</td>\n",
              "      <td>0</td>\n",
              "      <td>1</td>\n",
              "      <td>0</td>\n",
              "      <td>0</td>\n",
              "      <td>1</td>\n",
              "      <td>0</td>\n",
              "      <td>7</td>\n",
              "    </tr>\n",
              "    <tr>\n",
              "      <th>3</th>\n",
              "      <td>1.9</td>\n",
              "      <td>24.0</td>\n",
              "      <td>0.33</td>\n",
              "      <td>1</td>\n",
              "      <td>0</td>\n",
              "      <td>1</td>\n",
              "      <td>0</td>\n",
              "      <td>0</td>\n",
              "      <td>1</td>\n",
              "      <td>0</td>\n",
              "      <td>8</td>\n",
              "    </tr>\n",
              "    <tr>\n",
              "      <th>4</th>\n",
              "      <td>1.8</td>\n",
              "      <td>24.0</td>\n",
              "      <td>0.33</td>\n",
              "      <td>1</td>\n",
              "      <td>0</td>\n",
              "      <td>1</td>\n",
              "      <td>0</td>\n",
              "      <td>0</td>\n",
              "      <td>1</td>\n",
              "      <td>0</td>\n",
              "      <td>9</td>\n",
              "    </tr>\n",
              "    <tr>\n",
              "      <th>...</th>\n",
              "      <td>...</td>\n",
              "      <td>...</td>\n",
              "      <td>...</td>\n",
              "      <td>...</td>\n",
              "      <td>...</td>\n",
              "      <td>...</td>\n",
              "      <td>...</td>\n",
              "      <td>...</td>\n",
              "      <td>...</td>\n",
              "      <td>...</td>\n",
              "      <td>...</td>\n",
              "    </tr>\n",
              "    <tr>\n",
              "      <th>315</th>\n",
              "      <td>2.5</td>\n",
              "      <td>18.5</td>\n",
              "      <td>0.83</td>\n",
              "      <td>1</td>\n",
              "      <td>0</td>\n",
              "      <td>0</td>\n",
              "      <td>1</td>\n",
              "      <td>0</td>\n",
              "      <td>0</td>\n",
              "      <td>1</td>\n",
              "      <td>16</td>\n",
              "    </tr>\n",
              "    <tr>\n",
              "      <th>316</th>\n",
              "      <td>1.6</td>\n",
              "      <td>10.5</td>\n",
              "      <td>0.83</td>\n",
              "      <td>0</td>\n",
              "      <td>1</td>\n",
              "      <td>0</td>\n",
              "      <td>1</td>\n",
              "      <td>0</td>\n",
              "      <td>0</td>\n",
              "      <td>1</td>\n",
              "      <td>6</td>\n",
              "    </tr>\n",
              "    <tr>\n",
              "      <th>317</th>\n",
              "      <td>-0.1</td>\n",
              "      <td>7.5</td>\n",
              "      <td>0.83</td>\n",
              "      <td>0</td>\n",
              "      <td>1</td>\n",
              "      <td>0</td>\n",
              "      <td>1</td>\n",
              "      <td>0</td>\n",
              "      <td>0</td>\n",
              "      <td>1</td>\n",
              "      <td>9</td>\n",
              "    </tr>\n",
              "    <tr>\n",
              "      <th>318</th>\n",
              "      <td>2.0</td>\n",
              "      <td>14.0</td>\n",
              "      <td>0.83</td>\n",
              "      <td>0</td>\n",
              "      <td>1</td>\n",
              "      <td>0</td>\n",
              "      <td>1</td>\n",
              "      <td>0</td>\n",
              "      <td>0</td>\n",
              "      <td>1</td>\n",
              "      <td>14</td>\n",
              "    </tr>\n",
              "    <tr>\n",
              "      <th>319</th>\n",
              "      <td>2.3</td>\n",
              "      <td>23.0</td>\n",
              "      <td>0.83</td>\n",
              "      <td>0</td>\n",
              "      <td>1</td>\n",
              "      <td>0</td>\n",
              "      <td>1</td>\n",
              "      <td>0</td>\n",
              "      <td>0</td>\n",
              "      <td>1</td>\n",
              "      <td>18</td>\n",
              "    </tr>\n",
              "  </tbody>\n",
              "</table>\n",
              "<p>320 rows × 11 columns</p>\n",
              "</div>\n",
              "      <button class=\"colab-df-convert\" onclick=\"convertToInteractive('df-01732241-9b35-425d-b509-41bd2ede67cf')\"\n",
              "              title=\"Convert this dataframe to an interactive table.\"\n",
              "              style=\"display:none;\">\n",
              "        \n",
              "  <svg xmlns=\"http://www.w3.org/2000/svg\" height=\"24px\"viewBox=\"0 0 24 24\"\n",
              "       width=\"24px\">\n",
              "    <path d=\"M0 0h24v24H0V0z\" fill=\"none\"/>\n",
              "    <path d=\"M18.56 5.44l.94 2.06.94-2.06 2.06-.94-2.06-.94-.94-2.06-.94 2.06-2.06.94zm-11 1L8.5 8.5l.94-2.06 2.06-.94-2.06-.94L8.5 2.5l-.94 2.06-2.06.94zm10 10l.94 2.06.94-2.06 2.06-.94-2.06-.94-.94-2.06-.94 2.06-2.06.94z\"/><path d=\"M17.41 7.96l-1.37-1.37c-.4-.4-.92-.59-1.43-.59-.52 0-1.04.2-1.43.59L10.3 9.45l-7.72 7.72c-.78.78-.78 2.05 0 2.83L4 21.41c.39.39.9.59 1.41.59.51 0 1.02-.2 1.41-.59l7.78-7.78 2.81-2.81c.8-.78.8-2.07 0-2.86zM5.41 20L4 18.59l7.72-7.72 1.47 1.35L5.41 20z\"/>\n",
              "  </svg>\n",
              "      </button>\n",
              "      \n",
              "  <style>\n",
              "    .colab-df-container {\n",
              "      display:flex;\n",
              "      flex-wrap:wrap;\n",
              "      gap: 12px;\n",
              "    }\n",
              "\n",
              "    .colab-df-convert {\n",
              "      background-color: #E8F0FE;\n",
              "      border: none;\n",
              "      border-radius: 50%;\n",
              "      cursor: pointer;\n",
              "      display: none;\n",
              "      fill: #1967D2;\n",
              "      height: 32px;\n",
              "      padding: 0 0 0 0;\n",
              "      width: 32px;\n",
              "    }\n",
              "\n",
              "    .colab-df-convert:hover {\n",
              "      background-color: #E2EBFA;\n",
              "      box-shadow: 0px 1px 2px rgba(60, 64, 67, 0.3), 0px 1px 3px 1px rgba(60, 64, 67, 0.15);\n",
              "      fill: #174EA6;\n",
              "    }\n",
              "\n",
              "    [theme=dark] .colab-df-convert {\n",
              "      background-color: #3B4455;\n",
              "      fill: #D2E3FC;\n",
              "    }\n",
              "\n",
              "    [theme=dark] .colab-df-convert:hover {\n",
              "      background-color: #434B5C;\n",
              "      box-shadow: 0px 1px 3px 1px rgba(0, 0, 0, 0.15);\n",
              "      filter: drop-shadow(0px 1px 2px rgba(0, 0, 0, 0.3));\n",
              "      fill: #FFFFFF;\n",
              "    }\n",
              "  </style>\n",
              "\n",
              "      <script>\n",
              "        const buttonEl =\n",
              "          document.querySelector('#df-01732241-9b35-425d-b509-41bd2ede67cf button.colab-df-convert');\n",
              "        buttonEl.style.display =\n",
              "          google.colab.kernel.accessAllowed ? 'block' : 'none';\n",
              "\n",
              "        async function convertToInteractive(key) {\n",
              "          const element = document.querySelector('#df-01732241-9b35-425d-b509-41bd2ede67cf');\n",
              "          const dataTable =\n",
              "            await google.colab.kernel.invokeFunction('convertToInteractive',\n",
              "                                                     [key], {});\n",
              "          if (!dataTable) return;\n",
              "\n",
              "          const docLinkHtml = 'Like what you see? Visit the ' +\n",
              "            '<a target=\"_blank\" href=https://colab.research.google.com/notebooks/data_table.ipynb>data table notebook</a>'\n",
              "            + ' to learn more about interactive tables.';\n",
              "          element.innerHTML = '';\n",
              "          dataTable['output_type'] = 'display_data';\n",
              "          await google.colab.output.renderOutput(dataTable, element);\n",
              "          const docLink = document.createElement('div');\n",
              "          docLink.innerHTML = docLinkHtml;\n",
              "          element.appendChild(docLink);\n",
              "        }\n",
              "      </script>\n",
              "    </div>\n",
              "  </div>\n",
              "  "
            ]
          },
          "metadata": {},
          "execution_count": 1003
        }
      ]
    },
    {
      "cell_type": "code",
      "source": [
        "import matplotlib.pyplot as plt\n",
        "correlations = dataset_b1.corr()\n",
        "mask = np.triu(np.ones_like(correlations, dtype=bool))\n",
        "f, ax = plt.subplots(figsize=(11, 9))\n",
        "cmap = sns.diverging_palette(230, 20, as_cmap=True)\n",
        "sns.heatmap(correlations, mask=mask, cmap=cmap, vmax=.3, center=0,\n",
        "            square=True, linewidths=.5, cbar_kws={\"shrink\": .5})"
      ],
      "metadata": {
        "colab": {
          "base_uri": "https://localhost:8080/",
          "height": 0
        },
        "outputId": "6778f05d-b7b7-49d2-a7fd-1bd928a755ed",
        "id": "xaDClcrRIi8l"
      },
      "execution_count": 1004,
      "outputs": [
        {
          "output_type": "execute_result",
          "data": {
            "text/plain": [
              "<matplotlib.axes._subplots.AxesSubplot at 0x7f5b21872580>"
            ]
          },
          "metadata": {},
          "execution_count": 1004
        },
        {
          "output_type": "display_data",
          "data": {
            "text/plain": [
              "<Figure size 792x648 with 2 Axes>"
            ],
            "image/png": "[encoded data removed]"
          },
          "metadata": {
            "needs_background": "light"
          }
        }
      ]
    },
    {
      "cell_type": "markdown",
      "source": [
        "#### Variação B2\n",
        "\n",
        "Valores da coluna 'Horário_Discreto' convertido para reais."
      ],
      "metadata": {
        "id": "rfwSJ-tKHVOp"
      }
    },
    {
      "cell_type": "code",
      "source": [
        "dataset_b2 = dataset_b.copy()"
      ],
      "metadata": {
        "id": "8_SRWB1TI-AW"
      },
      "execution_count": 1005,
      "outputs": []
    },
    {
      "cell_type": "code",
      "source": [
        "dataset_b2['Horário_Discreto'] = dataset_b2['Horário'].map({'5:00':5, '5:30':5.5, '6:00':6, '6:30':6.5, '7:00':7, '7:30':7.5,\n",
        "                                                           '8:00':8, '8:30':8.5, '9:00':9, '9:30':9.5, '10:00':10, '10:30':10.5,\n",
        "                                                           '11:00':11, '11:30':11.5, '12:00':12, '12:30':12.5, '13:00':13, '13:30':13.5,\n",
        "                                                           '14:00':14, '14:30':14.5, '15:00':15, '15:30':15.5, '16:00':16, '16:30':16.5,\n",
        "                                                           '17:00':17, '17:30':17.5, '18:00':18, '18:30':18.5, '19:00':19, '19:30':19.5})\n",
        "dataset_b2 = dataset_b2.drop('Data', axis=1)\n",
        "dataset_b2 = dataset_b2.drop('Horário', axis=1)\n",
        "for i in ['Altura da Maré (m)', 'Velocidade do Vento (Km/h)', 'Chuva (mm)']:\n",
        "    dataset_b2[i] = dataset_b2[i].astype(float)"
      ],
      "metadata": {
        "id": "6q1CyqCJI-AW"
      },
      "execution_count": 1006,
      "outputs": []
    },
    {
      "cell_type": "code",
      "source": [
        "dataset_b2"
      ],
      "metadata": {
        "colab": {
          "base_uri": "https://localhost:8080/",
          "height": 0
        },
        "outputId": "03045de1-20b5-4f5c-8357-844e02fcfb13",
        "id": "eKqVA-lCI-AY"
      },
      "execution_count": 1007,
      "outputs": [
        {
          "output_type": "execute_result",
          "data": {
            "text/plain": [
              "     Altura da Maré (m)  Velocidade do Vento (Km/h)  Chuva (mm)  \\\n",
              "0                   1.2                        22.5        0.33   \n",
              "1                   1.6                        23.0        0.33   \n",
              "2                   1.8                        23.5        0.33   \n",
              "3                   1.9                        24.0        0.33   \n",
              "4                   1.8                        24.0        0.33   \n",
              "..                  ...                         ...         ...   \n",
              "315                 2.5                        18.5        0.83   \n",
              "316                 1.6                        10.5        0.83   \n",
              "317                -0.1                         7.5        0.83   \n",
              "318                 2.0                        14.0        0.83   \n",
              "319                 2.3                        23.0        0.83   \n",
              "\n",
              "     Terminal_Mar grande  Terminal_Salvador  Condição dia Anterior_Bom  \\\n",
              "0                      1                  0                          1   \n",
              "1                      1                  0                          1   \n",
              "2                      1                  0                          1   \n",
              "3                      1                  0                          1   \n",
              "4                      1                  0                          1   \n",
              "..                   ...                ...                        ...   \n",
              "315                    1                  0                          0   \n",
              "316                    0                  1                          0   \n",
              "317                    0                  1                          0   \n",
              "318                    0                  1                          0   \n",
              "319                    0                  1                          0   \n",
              "\n",
              "     Condição dia Anterior_Ruim  Recomendação da Capitania_Amarelo  \\\n",
              "0                             0                                  0   \n",
              "1                             0                                  0   \n",
              "2                             0                                  0   \n",
              "3                             0                                  0   \n",
              "4                             0                                  0   \n",
              "..                          ...                                ...   \n",
              "315                           1                                  0   \n",
              "316                           1                                  0   \n",
              "317                           1                                  0   \n",
              "318                           1                                  0   \n",
              "319                           1                                  0   \n",
              "\n",
              "     Recomendação da Capitania_Verde  Recomendação da Capitania_Vermelho  \\\n",
              "0                                  1                                   0   \n",
              "1                                  1                                   0   \n",
              "2                                  1                                   0   \n",
              "3                                  1                                   0   \n",
              "4                                  1                                   0   \n",
              "..                               ...                                 ...   \n",
              "315                                0                                   1   \n",
              "316                                0                                   1   \n",
              "317                                0                                   1   \n",
              "318                                0                                   1   \n",
              "319                                0                                   1   \n",
              "\n",
              "     Horário_Discreto  \n",
              "0                 5.0  \n",
              "1                 6.0  \n",
              "2                 7.0  \n",
              "3                 8.0  \n",
              "4                 9.0  \n",
              "..                ...  \n",
              "315              16.5  \n",
              "316               6.5  \n",
              "317               9.5  \n",
              "318              14.5  \n",
              "319              18.0  \n",
              "\n",
              "[320 rows x 11 columns]"
            ],
            "text/html": [
              "\n",
              "  <div id=\"df-547f07ac-9e03-4b02-97d2-da8b6b701ef7\">\n",
              "    <div class=\"colab-df-container\">\n",
              "      <div>\n",
              "<style scoped>\n",
              "    .dataframe tbody tr th:only-of-type {\n",
              "        vertical-align: middle;\n",
              "    }\n",
              "\n",
              "    .dataframe tbody tr th {\n",
              "        vertical-align: top;\n",
              "    }\n",
              "\n",
              "    .dataframe thead th {\n",
              "        text-align: right;\n",
              "    }\n",
              "</style>\n",
              "<table border=\"1\" class=\"dataframe\">\n",
              "  <thead>\n",
              "    <tr style=\"text-align: right;\">\n",
              "      <th></th>\n",
              "      <th>Altura da Maré (m)</th>\n",
              "      <th>Velocidade do Vento (Km/h)</th>\n",
              "      <th>Chuva (mm)</th>\n",
              "      <th>Terminal_Mar grande</th>\n",
              "      <th>Terminal_Salvador</th>\n",
              "      <th>Condição dia Anterior_Bom</th>\n",
              "      <th>Condição dia Anterior_Ruim</th>\n",
              "      <th>Recomendação da Capitania_Amarelo</th>\n",
              "      <th>Recomendação da Capitania_Verde</th>\n",
              "      <th>Recomendação da Capitania_Vermelho</th>\n",
              "      <th>Horário_Discreto</th>\n",
              "    </tr>\n",
              "  </thead>\n",
              "  <tbody>\n",
              "    <tr>\n",
              "      <th>0</th>\n",
              "      <td>1.2</td>\n",
              "      <td>22.5</td>\n",
              "      <td>0.33</td>\n",
              "      <td>1</td>\n",
              "      <td>0</td>\n",
              "      <td>1</td>\n",
              "      <td>0</td>\n",
              "      <td>0</td>\n",
              "      <td>1</td>\n",
              "      <td>0</td>\n",
              "      <td>5.0</td>\n",
              "    </tr>\n",
              "    <tr>\n",
              "      <th>1</th>\n",
              "      <td>1.6</td>\n",
              "      <td>23.0</td>\n",
              "      <td>0.33</td>\n",
              "      <td>1</td>\n",
              "      <td>0</td>\n",
              "      <td>1</td>\n",
              "      <td>0</td>\n",
              "      <td>0</td>\n",
              "      <td>1</td>\n",
              "      <td>0</td>\n",
              "      <td>6.0</td>\n",
              "    </tr>\n",
              "    <tr>\n",
              "      <th>2</th>\n",
              "      <td>1.8</td>\n",
              "      <td>23.5</td>\n",
              "      <td>0.33</td>\n",
              "      <td>1</td>\n",
              "      <td>0</td>\n",
              "      <td>1</td>\n",
              "      <td>0</td>\n",
              "      <td>0</td>\n",
              "      <td>1</td>\n",
              "      <td>0</td>\n",
              "      <td>7.0</td>\n",
              "    </tr>\n",
              "    <tr>\n",
              "      <th>3</th>\n",
              "      <td>1.9</td>\n",
              "      <td>24.0</td>\n",
              "      <td>0.33</td>\n",
              "      <td>1</td>\n",
              "      <td>0</td>\n",
              "      <td>1</td>\n",
              "      <td>0</td>\n",
              "      <td>0</td>\n",
              "      <td>1</td>\n",
              "      <td>0</td>\n",
              "      <td>8.0</td>\n",
              "    </tr>\n",
              "    <tr>\n",
              "      <th>4</th>\n",
              "      <td>1.8</td>\n",
              "      <td>24.0</td>\n",
              "      <td>0.33</td>\n",
              "      <td>1</td>\n",
              "      <td>0</td>\n",
              "      <td>1</td>\n",
              "      <td>0</td>\n",
              "      <td>0</td>\n",
              "      <td>1</td>\n",
              "      <td>0</td>\n",
              "      <td>9.0</td>\n",
              "    </tr>\n",
              "    <tr>\n",
              "      <th>...</th>\n",
              "      <td>...</td>\n",
              "      <td>...</td>\n",
              "      <td>...</td>\n",
              "      <td>...</td>\n",
              "      <td>...</td>\n",
              "      <td>...</td>\n",
              "      <td>...</td>\n",
              "      <td>...</td>\n",
              "      <td>...</td>\n",
              "      <td>...</td>\n",
              "      <td>...</td>\n",
              "    </tr>\n",
              "    <tr>\n",
              "      <th>315</th>\n",
              "      <td>2.5</td>\n",
              "      <td>18.5</td>\n",
              "      <td>0.83</td>\n",
              "      <td>1</td>\n",
              "      <td>0</td>\n",
              "      <td>0</td>\n",
              "      <td>1</td>\n",
              "      <td>0</td>\n",
              "      <td>0</td>\n",
              "      <td>1</td>\n",
              "      <td>16.5</td>\n",
              "    </tr>\n",
              "    <tr>\n",
              "      <th>316</th>\n",
              "      <td>1.6</td>\n",
              "      <td>10.5</td>\n",
              "      <td>0.83</td>\n",
              "      <td>0</td>\n",
              "      <td>1</td>\n",
              "      <td>0</td>\n",
              "      <td>1</td>\n",
              "      <td>0</td>\n",
              "      <td>0</td>\n",
              "      <td>1</td>\n",
              "      <td>6.5</td>\n",
              "    </tr>\n",
              "    <tr>\n",
              "      <th>317</th>\n",
              "      <td>-0.1</td>\n",
              "      <td>7.5</td>\n",
              "      <td>0.83</td>\n",
              "      <td>0</td>\n",
              "      <td>1</td>\n",
              "      <td>0</td>\n",
              "      <td>1</td>\n",
              "      <td>0</td>\n",
              "      <td>0</td>\n",
              "      <td>1</td>\n",
              "      <td>9.5</td>\n",
              "    </tr>\n",
              "    <tr>\n",
              "      <th>318</th>\n",
              "      <td>2.0</td>\n",
              "      <td>14.0</td>\n",
              "      <td>0.83</td>\n",
              "      <td>0</td>\n",
              "      <td>1</td>\n",
              "      <td>0</td>\n",
              "      <td>1</td>\n",
              "      <td>0</td>\n",
              "      <td>0</td>\n",
              "      <td>1</td>\n",
              "      <td>14.5</td>\n",
              "    </tr>\n",
              "    <tr>\n",
              "      <th>319</th>\n",
              "      <td>2.3</td>\n",
              "      <td>23.0</td>\n",
              "      <td>0.83</td>\n",
              "      <td>0</td>\n",
              "      <td>1</td>\n",
              "      <td>0</td>\n",
              "      <td>1</td>\n",
              "      <td>0</td>\n",
              "      <td>0</td>\n",
              "      <td>1</td>\n",
              "      <td>18.0</td>\n",
              "    </tr>\n",
              "  </tbody>\n",
              "</table>\n",
              "<p>320 rows × 11 columns</p>\n",
              "</div>\n",
              "      <button class=\"colab-df-convert\" onclick=\"convertToInteractive('df-547f07ac-9e03-4b02-97d2-da8b6b701ef7')\"\n",
              "              title=\"Convert this dataframe to an interactive table.\"\n",
              "              style=\"display:none;\">\n",
              "        \n",
              "  <svg xmlns=\"http://www.w3.org/2000/svg\" height=\"24px\"viewBox=\"0 0 24 24\"\n",
              "       width=\"24px\">\n",
              "    <path d=\"M0 0h24v24H0V0z\" fill=\"none\"/>\n",
              "    <path d=\"M18.56 5.44l.94 2.06.94-2.06 2.06-.94-2.06-.94-.94-2.06-.94 2.06-2.06.94zm-11 1L8.5 8.5l.94-2.06 2.06-.94-2.06-.94L8.5 2.5l-.94 2.06-2.06.94zm10 10l.94 2.06.94-2.06 2.06-.94-2.06-.94-.94-2.06-.94 2.06-2.06.94z\"/><path d=\"M17.41 7.96l-1.37-1.37c-.4-.4-.92-.59-1.43-.59-.52 0-1.04.2-1.43.59L10.3 9.45l-7.72 7.72c-.78.78-.78 2.05 0 2.83L4 21.41c.39.39.9.59 1.41.59.51 0 1.02-.2 1.41-.59l7.78-7.78 2.81-2.81c.8-.78.8-2.07 0-2.86zM5.41 20L4 18.59l7.72-7.72 1.47 1.35L5.41 20z\"/>\n",
              "  </svg>\n",
              "      </button>\n",
              "      \n",
              "  <style>\n",
              "    .colab-df-container {\n",
              "      display:flex;\n",
              "      flex-wrap:wrap;\n",
              "      gap: 12px;\n",
              "    }\n",
              "\n",
              "    .colab-df-convert {\n",
              "      background-color: #E8F0FE;\n",
              "      border: none;\n",
              "      border-radius: 50%;\n",
              "      cursor: pointer;\n",
              "      display: none;\n",
              "      fill: #1967D2;\n",
              "      height: 32px;\n",
              "      padding: 0 0 0 0;\n",
              "      width: 32px;\n",
              "    }\n",
              "\n",
              "    .colab-df-convert:hover {\n",
              "      background-color: #E2EBFA;\n",
              "      box-shadow: 0px 1px 2px rgba(60, 64, 67, 0.3), 0px 1px 3px 1px rgba(60, 64, 67, 0.15);\n",
              "      fill: #174EA6;\n",
              "    }\n",
              "\n",
              "    [theme=dark] .colab-df-convert {\n",
              "      background-color: #3B4455;\n",
              "      fill: #D2E3FC;\n",
              "    }\n",
              "\n",
              "    [theme=dark] .colab-df-convert:hover {\n",
              "      background-color: #434B5C;\n",
              "      box-shadow: 0px 1px 3px 1px rgba(0, 0, 0, 0.15);\n",
              "      filter: drop-shadow(0px 1px 2px rgba(0, 0, 0, 0.3));\n",
              "      fill: #FFFFFF;\n",
              "    }\n",
              "  </style>\n",
              "\n",
              "      <script>\n",
              "        const buttonEl =\n",
              "          document.querySelector('#df-547f07ac-9e03-4b02-97d2-da8b6b701ef7 button.colab-df-convert');\n",
              "        buttonEl.style.display =\n",
              "          google.colab.kernel.accessAllowed ? 'block' : 'none';\n",
              "\n",
              "        async function convertToInteractive(key) {\n",
              "          const element = document.querySelector('#df-547f07ac-9e03-4b02-97d2-da8b6b701ef7');\n",
              "          const dataTable =\n",
              "            await google.colab.kernel.invokeFunction('convertToInteractive',\n",
              "                                                     [key], {});\n",
              "          if (!dataTable) return;\n",
              "\n",
              "          const docLinkHtml = 'Like what you see? Visit the ' +\n",
              "            '<a target=\"_blank\" href=https://colab.research.google.com/notebooks/data_table.ipynb>data table notebook</a>'\n",
              "            + ' to learn more about interactive tables.';\n",
              "          element.innerHTML = '';\n",
              "          dataTable['output_type'] = 'display_data';\n",
              "          await google.colab.output.renderOutput(dataTable, element);\n",
              "          const docLink = document.createElement('div');\n",
              "          docLink.innerHTML = docLinkHtml;\n",
              "          element.appendChild(docLink);\n",
              "        }\n",
              "      </script>\n",
              "    </div>\n",
              "  </div>\n",
              "  "
            ]
          },
          "metadata": {},
          "execution_count": 1007
        }
      ]
    },
    {
      "cell_type": "code",
      "source": [
        "import matplotlib.pyplot as plt\n",
        "correlations = dataset_b2.corr()\n",
        "mask = np.triu(np.ones_like(correlations, dtype=bool))\n",
        "f, ax = plt.subplots(figsize=(11, 9))\n",
        "cmap = sns.diverging_palette(230, 20, as_cmap=True)\n",
        "sns.heatmap(correlations, mask=mask, cmap=cmap, vmax=.3, center=0,\n",
        "            square=True, linewidths=.5, cbar_kws={\"shrink\": .5})"
      ],
      "metadata": {
        "outputId": "54fceb56-104e-44e3-d03b-43dc946bbdae",
        "colab": {
          "base_uri": "https://localhost:8080/",
          "height": 0
        },
        "id": "5SojGzqkI-AZ"
      },
      "execution_count": 1008,
      "outputs": [
        {
          "output_type": "execute_result",
          "data": {
            "text/plain": [
              "<matplotlib.axes._subplots.AxesSubplot at 0x7f5b208b7040>"
            ]
          },
          "metadata": {},
          "execution_count": 1008
        },
        {
          "output_type": "display_data",
          "data": {
            "text/plain": [
              "<Figure size 792x648 with 2 Axes>"
            ],
            "image/png": "[encoded data removed]"
          },
          "metadata": {
            "needs_background": "light"
          }
        }
      ]
    },
    {
      "cell_type": "markdown",
      "source": [
        "## Algoritmos de ML e Validação"
      ],
      "metadata": {
        "id": "RYm5otkl5m_y"
      }
    },
    {
      "cell_type": "markdown",
      "source": [
        "###Funções para plotagens"
      ],
      "metadata": {
        "id": "0gFujFzg6pOJ"
      }
    },
    {
      "cell_type": "code",
      "source": [
        "def show_scatter(df, cluster, centroids):\n",
        "    for i in np.unique(cluster):\n",
        "        plt.scatter(df[cluster == i]['Velocidade do Vento (Km/h)'], df[cluster == i]['Chuva (mm)'], label=i)\n",
        "        plt.scatter(centroids[:,0] , centroids[:,1] , s = 80)\n",
        "    plt.legend()\n",
        "    plt.show()"
      ],
      "metadata": {
        "id": "EU6pqPfJBIDW"
      },
      "execution_count": 1009,
      "outputs": []
    },
    {
      "cell_type": "code",
      "source": [
        "def show_scatter_no_centroids(df, cluster):\n",
        "    for i in np.unique(cluster):\n",
        "        plt.scatter(df[cluster == i]['Velocidade do Vento (Km/h)'], df[cluster == i]['Chuva (mm)'], label=i)\n",
        "    plt.legend()\n",
        "    plt.show()"
      ],
      "metadata": {
        "id": "GITXo6H56vIk"
      },
      "execution_count": 1010,
      "outputs": []
    },
    {
      "cell_type": "code",
      "source": [
        "def show_silhouette(values, range):\n",
        "    fig = px.bar(val_analises_df, y='silhouette', x='variation',\n",
        "                title = 'Silhouette values', text = 'silhouette',\n",
        "                color='variation', range_y=range, width = 800, height = 600)\n",
        "    fig.update_traces(textfont_size=12, textangle=0, textposition=\"outside\", cliponaxis=False)\n",
        "    fig.show()"
      ],
      "metadata": {
        "id": "FoR8JWnM6xUB"
      },
      "execution_count": 1011,
      "outputs": []
    },
    {
      "cell_type": "code",
      "source": [
        "def show_jaccard(values, range):\n",
        "    fig = px.bar(values, y='jaccard', x='variation',\n",
        "                title = 'Jaccard values', text = 'jaccard',\n",
        "                color='variation', range_y=range, width = 800, height = 600)\n",
        "    fig.update_traces(textfont_size=12, textangle=0, textposition=\"outside\", cliponaxis=False)\n",
        "    fig.show()"
      ],
      "metadata": {
        "id": "Gpl3ctwi60Eh"
      },
      "execution_count": 1012,
      "outputs": []
    },
    {
      "cell_type": "code",
      "source": [
        "def show_scatter_data(df, cluster):\n",
        "    for i in np.unique(cluster):\n",
        "        plt.scatter(df[cluster == i]['Velocidade do Vento (Km/h)'], df[cluster == i]['Chuva (mm)'], label=i)\n",
        "    fig.show()"
      ],
      "metadata": {
        "id": "Wkss94du62Ed"
      },
      "execution_count": 1013,
      "outputs": []
    },
    {
      "cell_type": "code",
      "source": [
        "def show_3d_clusters(df):\n",
        "    fig = px.scatter_3d(df, x = 'Altura da Maré (m)', y='Velocidade do Vento (Km/h)', z='Chuva (mm)', color='Cluster', \n",
        "                    title = '3d scatter clusters',\n",
        "                    opacity = 0.8, width = 1100, height = 600)\n",
        "    fig.show()"
      ],
      "metadata": {
        "id": "CfPmkWKg63iy"
      },
      "execution_count": 1014,
      "outputs": []
    },
    {
      "cell_type": "markdown",
      "source": [
        "### K-Means"
      ],
      "metadata": {
        "id": "X2Lm-F2GrAiO"
      }
    },
    {
      "cell_type": "code",
      "source": [
        "kmeans = KMeans(n_clusters=2, random_state=123456) # random_state= semente aleatoria\n",
        "valores_analise = {\n",
        "    'jaccard': [],\n",
        "    'silhouette': [],\n",
        "    'variation': []\n",
        "    }"
      ],
      "metadata": {
        "id": "A7WeH8PC5ES6"
      },
      "execution_count": 1015,
      "outputs": []
    },
    {
      "cell_type": "markdown",
      "source": [
        "#### Variação A1"
      ],
      "metadata": {
        "id": "pUAOwUhHLTDj"
      }
    },
    {
      "cell_type": "code",
      "source": [
        "clustering_a1 = kmeans.fit_predict(dataset_a1)\n",
        "valores_analise['silhouette'].append(silhouette_score(dataset_a1, clustering_a1))\n",
        "valores_analise['jaccard'].append(jaccard_score(resultados, clustering_a1, average='macro'))\n",
        "valores_analise['variation'].append('A1')"
      ],
      "metadata": {
        "id": "gPtnUe6CKJQO"
      },
      "execution_count": 1016,
      "outputs": []
    },
    {
      "cell_type": "markdown",
      "source": [
        "##### Clusters da variação A1 (Kmeans)"
      ],
      "metadata": {
        "id": "YQ6cgzzEt6iN"
      }
    },
    {
      "cell_type": "code",
      "source": [
        "centroids = kmeans.cluster_centers_\n",
        "show_scatter(dataset_a1, clustering_a1, centroids)"
      ],
      "metadata": {
        "colab": {
          "base_uri": "https://localhost:8080/",
          "height": 0
        },
        "id": "m_IerLXZKsEg",
        "outputId": "fc813361-5641-4e37-fc33-70a976e12c08"
      },
      "execution_count": 1017,
      "outputs": [
        {
          "output_type": "display_data",
          "data": {
            "text/plain": [
              "<Figure size 432x288 with 1 Axes>"
            ],
            "image/png": "[encoded data removed]"
          },
          "metadata": {
            "needs_background": "light"
          }
        }
      ]
    },
    {
      "cell_type": "code",
      "source": [
        "dataset_a1_cluster = dataset_a1.copy()\n",
        "dataset_a1_cluster['Cluster'] = clustering_a1\n",
        "\n",
        "show_3d_clusters(dataset_a1_cluster)"
      ],
      "metadata": {
        "colab": {
          "base_uri": "https://localhost:8080/",
          "height": 0
        },
        "id": "PLNfXtzjwvKu",
        "outputId": "b46ed286-36f3-40e1-ca8d-8257d6212fc0"
      },
      "execution_count": 1018,
      "outputs": [
        {
          "output_type": "display_data",
          "data": {
            "text/html": [
              "<html>\n",
              "<head><meta charset=\"utf-8\" /></head>\n",
              "<body>\n",
              "    <div>            <script src=\"https://cdnjs.cloudflare.com/ajax/libs/mathjax/2.7.5/MathJax.js?config=TeX-AMS-MML_SVG\"></script><script type=\"text/javascript\">if (window.MathJax) {MathJax.Hub.Config({SVG: {font: \"STIX-Web\"}});}</script>                <script type=\"text/javascript\">window.PlotlyConfig = {MathJaxConfig: 'local'};</script>\n",
              "        <script src=\"https://cdn.plot.ly/plotly-2.8.3.min.js\"></script>                <div id=\"9a190fb7-1a4b-4ead-b803-62704ce85efa\" class=\"plotly-graph-div\" style=\"height:600px; width:1100px;\"></div>            <script type=\"text/javascript\">                                    window.PLOTLYENV=window.PLOTLYENV || {};                                    if (document.getElementById(\"9a190fb7-1a4b-4ead-b803-62704ce85efa\")) {                    Plotly.newPlot(                        \"9a190fb7-1a4b-4ead-b803-62704ce85efa\",                        [{\"hovertemplate\":\"Altura da Mar\\u00e9 (m)=%{x}<br>Velocidade do Vento (Km/h)=%{y}<br>Chuva (mm)=%{z}<br>Cluster=%{marker.color}<extra></extra>\",\"legendgroup\":\"\",\"marker\":{\"color\":[0,0,0,0,0,0,0,0,0,0,0,0,0,0,0,0,0,0,0,0,0,0,0,0,0,0,0,0,1,1,1,1,1,1,0,0,0,0,0,1,0,0,1,1,1,1,1,0,0,0,0,1,0,0,0,0,1,1,1,1,1,1,1,0,0,0,0,0,0,0,1,1,1,1,1,1,0,0,0,0,0,0,0,0,1,1,1,1,1,1,1,1,1,1,1,0,0,0,1,1,1,1,1,1,1,1,1,0,0,0,0,0,0,0,1,0,0,0,0,0,0,0,0,0,0,0,0,0,0,0,0,0,0,0,0,0,0,0,0,0,0,0,0,0,0,0,0,0,0,0,0,0,0,0,0,0,0,0,1,0,1,1,0,0,1,1,0,0,1,1,1,0,1,1,0,0,1,1,1,1,1,1,1,0,1,1,1,0,1,1,1,0,0,1,1,0,1,1,0,0,1,1,1,0,1,1,1,0,1,1,1,1,1,1,1,0,1,1,0,0,1,1,0,0,1,1,1,0,1,1,0,0,1,1,1,0,1,1,1,0,1,1,1,0,1,1,1,0,1,0,0,0,1,0,0,0,0,0,0,0,0,0,0,0,0,0,0,0,0,0,0,0,0,0,0,0,0,0,0,0,0,0,0,1,0,0,0,0,1,1,1,1,1,1,1,1,0,0,0,0,0,0,0,0,0,0,0,0,0,0,0,0,1,1,1,0,1,1,1,0],\"coloraxis\":\"coloraxis\",\"opacity\":0.8,\"symbol\":\"circle\"},\"mode\":\"markers\",\"name\":\"\",\"scene\":\"scene\",\"showlegend\":false,\"x\":[1.2,1.6,1.8,1.9,1.8,1.6,1.2,0.7,0.5,0.4,0.5,0.6,1.0,1.5,1.7,1.9,1.9,1.7,1.3,0.9,0.5,0.4,0.4,0.5,0.7,1.3,1.6,1.8,0.9,1.2,1.4,1.6,1.7,1.6,1.4,1.2,0.9,0.7,0.6,0.7,0.8,1.0,1.4,1.6,1.7,1.7,1.6,1.4,1.0,0.4,0.6,0.6,0.7,0.8,1.2,1.4,0.8,0.9,1.1,1.2,1.5,1.6,1.6,1.5,1.4,1.1,0.8,0.7,0.7,0.8,1.0,1.3,1.4,1.5,1.6,1.5,1.4,1.3,0.9,0.8,0.7,0.7,0.8,1.0,0.8,0.7,0.6,0.7,0.8,1.2,1.5,1.7,1.8,1.7,1.5,1.3,0.9,0.7,0.6,0.6,0.7,0.9,1.4,1.6,1.8,1.8,1.6,1.4,1.1,0.7,0.5,0.5,1.2,0.5,1.9,1.4,0.7,0.8,2.0,0.5,1.9,0.4,1.5,2.1,1.1,0.2,2.1,1.7,2.2,0.7,0.8,2.3,1.7,0.2,1.7,2.1,2.1,1.0,0.5,2.1,1.8,0.2,1.5,2.1,2.1,1.4,0.4,2.1,2.0,0.7,0.9,2.2,1.6,1.7,0.5,1.3,1.8,1.4,0.6,1.6,1.2,1.7,0.7,0.9,1.6,1.6,0.6,1.4,0.9,1.5,1.0,0.7,1.3,1.6,0.7,1.0,0.7,1.2,1.4,0.6,0.9,1.5,0.9,0.6,0.6,0.8,1.8,0.7,0.6,1.3,1.5,0.5,2.0,0.0,1.8,1.5,0.8,-0.1,2.5,1.8,2.2,0.3,1.2,2.6,1.5,-0.2,2.2,2.2,1.5,1.9,0.4,0.9,1.8,1.6,0.4,1.5,1.0,1.7,0.7,0.7,1.5,1.7,0.6,1.2,0.8,1.5,1.2,0.7,1.1,1.6,0.9,0.8,0.7,0.8,1.8,0.8,0.6,1.1,1.6,0.6,1.4,0.3,2.0,1.8,0.7,0.4,2.2,1.0,2.0,0.5,1.2,2.3,1.4,0.1,2.0,2.0,2.1,0.9,0.9,2.2,1.7,0.2,1.6,2.0,1.8,1.6,0.3,1.7,1.9,0.8,0.7,2.0,1.6,1.8,0.4,1.4,1.8,1.2,0.5,1.9,0.9,1.7,0.8,0.6,1.3,1.7,0.6,1.0,0.6,0.1,2.3,1.5,0.1,0.5,2.3,0.5,1.1,0.0,2.2,2.0,0.2,0.2,2.5,0.9,1.7,-0.1,2.0,2.4,0.5,-0.1,2.5,1.5,2.2,0.5,0.9,2.5,1.6,-0.1,2.0,2.3],\"y\":[22.5,23.0,23.5,24.0,24.0,24.0,23.5,23.0,22.0,21.0,20.0,19.0,19.0,19.0,23.0,23.5,24.0,24.0,23.5,23.0,23.0,21.0,20.0,20.0,19.0,19.0,20.0,22.0,20.0,20.0,19.0,18.0,18.0,18.0,18.5,19.0,18.5,18.0,17.0,16.0,18.0,20.0,19.5,18.5,18.0,18.0,18.25,18.75,18.75,18.25,17.5,16.5,17.0,19.0,20.25,20.75,13.0,12.0,12.0,12.0,13.0,14.0,16.5,19.0,18.5,18.0,19.5,21.0,22.5,24.0,12.5,12.0,12.0,13.5,15.25,17.75,18.75,18.25,18.75,20.25,21.75,23.25,24.25,24.75,12.5,11.0,9.0,7.0,5.5,4.0,3.5,3.0,8.0,13.0,16.0,19.0,20.5,22.0,11.75,10.0,6.25,4.75,3.75,3.25,5.5,10.5,14.5,17.5,19.75,21.25,22.25,22.75,23.0,22.0,16.0,24.0,22.75,21.25,17.75,27.0,25.0,27.0,27.5,28.75,26.25,25.5,29.0,28.0,35.5,34.0,32.5,31.25,34.75,33.25,31.75,32.0,26.0,23.0,28.0,29.25,24.5,23.25,29.0,30.0,30.0,30.0,28.0,27.0,30.0,30.25,27.0,28.0,23.0,21.0,19.5,16.75,22.5,20.75,16.75,17.0,16.5,13.0,20.0,19.25,14.5,13.25,20.5,20.0,15.5,14.0,17.5,19.75,14.75,14.0,19.0,22.0,19.0,16.0,17.0,14.5,17.5,15.75,15.5,16.0,16.5,15.0,11.0,19.25,15.75,14.75,12.75,23.0,21.0,18.0,17.5,18.75,19.5,16.5,18.0,21.0,13.0,13.0,11.0,17.5,13.0,13.0,13.25,19.0,16.5,12.0,2.5,16.25,14.25,9.0,4.25,23.0,18.5,18.0,20.5,19.25,18.0,18.0,20.5,20.0,14.5,13.0,17.0,19.75,13.75,12.25,19.0,22.0,13.5,9.0,13.0,17.0,12.0,8.25,15.5,17.0,16.0,12.0,13.0,17.0,14.25,10.5,13.75,20.0,20.0,20.0,20.0,20.75,20.0,20.0,19.25,23.0,24.5,23.0,21.5,22.75,23.75,22.25,21.25,25.0,29.0,31.0,33.0,35.5,30.25,31.0,34.25,37.0,31.0,27.0,22.5,18.0,29.25,25.5,20.25,18.0,30.5,28.0,21.0,16.25,29.5,25.0,19.0,17.0,16.5,15.0,15.0,12.5,15.75,15.75,13.5,14.0,28.5,28.0,26.0,26.25,28.0,28.0,26.0,27.0,26.0,25.0,22.0,21.0,25.75,24.25,21.0,21.0,12.5,9.0,8.0,18.5,10.5,7.5,14.0,23.0],\"z\":[0.33,0.33,0.33,0.33,0.33,0.33,0.33,0.33,0.33,0.33,0.33,0.33,0.33,0.33,0.33,0.33,0.33,0.33,0.33,0.33,0.33,0.33,0.33,0.33,0.33,0.33,0.33,0.33,0.33,0.33,0.33,0.33,0.33,0.33,0.33,0.33,0.33,0.33,0.33,0.33,0.33,0.33,0.33,0.33,0.33,0.33,0.33,0.33,0.33,0.33,0.33,0.33,0.33,0.33,0.33,0.42,0.0,0.0,0.0,0.0,0.0,0.42,0.42,0.42,0.42,0.42,0.42,0.42,0.42,0.42,0.0,0.0,0.0,0.0,0.42,0.42,0.42,0.42,0.42,0.42,0.42,0.42,0.42,0.42,2.5,2.5,2.5,2.5,2.5,2.5,2.5,2.5,2.5,2.5,2.5,2.5,2.5,2.5,2.5,2.5,2.5,2.5,2.5,2.5,2.5,2.5,2.5,2.5,2.5,2.5,2.5,2.5,0.63,0.63,0.63,0.63,0.63,0.63,0.63,0.63,1.67,1.67,1.67,1.67,1.67,1.67,1.67,1.67,0.63,0.63,0.63,0.63,0.63,0.63,0.63,0.63,1.88,1.88,1.88,1.88,1.88,1.88,1.88,1.88,0.63,0.63,0.63,0.63,0.63,0.63,0.63,0.63,0.42,0.42,0.42,0.42,0.42,0.42,0.42,0.42,0.42,0.42,0.42,0.42,0.42,0.42,0.42,0.42,0.44,0.44,0.44,0.0,0.44,0.44,0.44,0.0,0.0,0.0,0.0,0.0,0.0,0.0,0.0,0.0,0.0,0.0,0.0,0.0,0.0,0.0,0.0,0.0,0.42,0.42,0.0,0.0,0.42,0.0,0.0,0.0,0.0,0.0,0.0,0.0,0.0,0.0,0.0,0.0,2.92,2.92,2.92,2.92,2.92,2.92,2.92,2.92,0.83,0.83,0.83,0.0,0.83,0.83,0.83,0.0,0.21,0.21,0.21,0.21,0.21,0.21,0.21,0.21,0.39,0.39,0.39,0.0,0.39,0.39,0.39,0.0,1.88,1.88,1.88,1.88,1.88,1.88,1.88,1.88,5.83,5.83,5.83,5.83,5.83,5.83,5.83,5.83,2.5,2.5,2.5,2.5,2.5,2.5,2.5,2.5,3.33,3.33,3.33,3.33,3.33,3.33,3.33,3.33,1.04,1.04,1.04,1.04,1.04,1.04,1.04,1.04,0.0,0.0,0.83,0.83,0.0,0.0,0.83,0.83,0.63,0.63,0.63,0.63,0.63,0.63,0.63,0.63,0.42,0.42,0.42,0.42,0.42,0.42,0.42,0.42,0.25,0.25,0.25,0.25,0.25,0.25,0.25,0.25,0.83,0.83,0.83,0.83,0.83,0.83,0.83,0.83],\"type\":\"scatter3d\"}],                        {\"template\":{\"data\":{\"bar\":[{\"error_x\":{\"color\":\"#2a3f5f\"},\"error_y\":{\"color\":\"#2a3f5f\"},\"marker\":{\"line\":{\"color\":\"#E5ECF6\",\"width\":0.5},\"pattern\":{\"fillmode\":\"overlay\",\"size\":10,\"solidity\":0.2}},\"type\":\"bar\"}],\"barpolar\":[{\"marker\":{\"line\":{\"color\":\"#E5ECF6\",\"width\":0.5},\"pattern\":{\"fillmode\":\"overlay\",\"size\":10,\"solidity\":0.2}},\"type\":\"barpolar\"}],\"carpet\":[{\"aaxis\":{\"endlinecolor\":\"#2a3f5f\",\"gridcolor\":\"white\",\"linecolor\":\"white\",\"minorgridcolor\":\"white\",\"startlinecolor\":\"#2a3f5f\"},\"baxis\":{\"endlinecolor\":\"#2a3f5f\",\"gridcolor\":\"white\",\"linecolor\":\"white\",\"minorgridcolor\":\"white\",\"startlinecolor\":\"#2a3f5f\"},\"type\":\"carpet\"}],\"choropleth\":[{\"colorbar\":{\"outlinewidth\":0,\"ticks\":\"\"},\"type\":\"choropleth\"}],\"contour\":[{\"colorbar\":{\"outlinewidth\":0,\"ticks\":\"\"},\"colorscale\":[[0.0,\"#0d0887\"],[0.1111111111111111,\"#46039f\"],[0.2222222222222222,\"#7201a8\"],[0.3333333333333333,\"#9c179e\"],[0.4444444444444444,\"#bd3786\"],[0.5555555555555556,\"#d8576b\"],[0.6666666666666666,\"#ed7953\"],[0.7777777777777778,\"#fb9f3a\"],[0.8888888888888888,\"#fdca26\"],[1.0,\"#f0f921\"]],\"type\":\"contour\"}],\"contourcarpet\":[{\"colorbar\":{\"outlinewidth\":0,\"ticks\":\"\"},\"type\":\"contourcarpet\"}],\"heatmap\":[{\"colorbar\":{\"outlinewidth\":0,\"ticks\":\"\"},\"colorscale\":[[0.0,\"#0d0887\"],[0.1111111111111111,\"#46039f\"],[0.2222222222222222,\"#7201a8\"],[0.3333333333333333,\"#9c179e\"],[0.4444444444444444,\"#bd3786\"],[0.5555555555555556,\"#d8576b\"],[0.6666666666666666,\"#ed7953\"],[0.7777777777777778,\"#fb9f3a\"],[0.8888888888888888,\"#fdca26\"],[1.0,\"#f0f921\"]],\"type\":\"heatmap\"}],\"heatmapgl\":[{\"colorbar\":{\"outlinewidth\":0,\"ticks\":\"\"},\"colorscale\":[[0.0,\"#0d0887\"],[0.1111111111111111,\"#46039f\"],[0.2222222222222222,\"#7201a8\"],[0.3333333333333333,\"#9c179e\"],[0.4444444444444444,\"#bd3786\"],[0.5555555555555556,\"#d8576b\"],[0.6666666666666666,\"#ed7953\"],[0.7777777777777778,\"#fb9f3a\"],[0.8888888888888888,\"#fdca26\"],[1.0,\"#f0f921\"]],\"type\":\"heatmapgl\"}],\"histogram\":[{\"marker\":{\"pattern\":{\"fillmode\":\"overlay\",\"size\":10,\"solidity\":0.2}},\"type\":\"histogram\"}],\"histogram2d\":[{\"colorbar\":{\"outlinewidth\":0,\"ticks\":\"\"},\"colorscale\":[[0.0,\"#0d0887\"],[0.1111111111111111,\"#46039f\"],[0.2222222222222222,\"#7201a8\"],[0.3333333333333333,\"#9c179e\"],[0.4444444444444444,\"#bd3786\"],[0.5555555555555556,\"#d8576b\"],[0.6666666666666666,\"#ed7953\"],[0.7777777777777778,\"#fb9f3a\"],[0.8888888888888888,\"#fdca26\"],[1.0,\"#f0f921\"]],\"type\":\"histogram2d\"}],\"histogram2dcontour\":[{\"colorbar\":{\"outlinewidth\":0,\"ticks\":\"\"},\"colorscale\":[[0.0,\"#0d0887\"],[0.1111111111111111,\"#46039f\"],[0.2222222222222222,\"#7201a8\"],[0.3333333333333333,\"#9c179e\"],[0.4444444444444444,\"#bd3786\"],[0.5555555555555556,\"#d8576b\"],[0.6666666666666666,\"#ed7953\"],[0.7777777777777778,\"#fb9f3a\"],[0.8888888888888888,\"#fdca26\"],[1.0,\"#f0f921\"]],\"type\":\"histogram2dcontour\"}],\"mesh3d\":[{\"colorbar\":{\"outlinewidth\":0,\"ticks\":\"\"},\"type\":\"mesh3d\"}],\"parcoords\":[{\"line\":{\"colorbar\":{\"outlinewidth\":0,\"ticks\":\"\"}},\"type\":\"parcoords\"}],\"pie\":[{\"automargin\":true,\"type\":\"pie\"}],\"scatter\":[{\"marker\":{\"colorbar\":{\"outlinewidth\":0,\"ticks\":\"\"}},\"type\":\"scatter\"}],\"scatter3d\":[{\"line\":{\"colorbar\":{\"outlinewidth\":0,\"ticks\":\"\"}},\"marker\":{\"colorbar\":{\"outlinewidth\":0,\"ticks\":\"\"}},\"type\":\"scatter3d\"}],\"scattercarpet\":[{\"marker\":{\"colorbar\":{\"outlinewidth\":0,\"ticks\":\"\"}},\"type\":\"scattercarpet\"}],\"scattergeo\":[{\"marker\":{\"colorbar\":{\"outlinewidth\":0,\"ticks\":\"\"}},\"type\":\"scattergeo\"}],\"scattergl\":[{\"marker\":{\"colorbar\":{\"outlinewidth\":0,\"ticks\":\"\"}},\"type\":\"scattergl\"}],\"scattermapbox\":[{\"marker\":{\"colorbar\":{\"outlinewidth\":0,\"ticks\":\"\"}},\"type\":\"scattermapbox\"}],\"scatterpolar\":[{\"marker\":{\"colorbar\":{\"outlinewidth\":0,\"ticks\":\"\"}},\"type\":\"scatterpolar\"}],\"scatterpolargl\":[{\"marker\":{\"colorbar\":{\"outlinewidth\":0,\"ticks\":\"\"}},\"type\":\"scatterpolargl\"}],\"scatterternary\":[{\"marker\":{\"colorbar\":{\"outlinewidth\":0,\"ticks\":\"\"}},\"type\":\"scatterternary\"}],\"surface\":[{\"colorbar\":{\"outlinewidth\":0,\"ticks\":\"\"},\"colorscale\":[[0.0,\"#0d0887\"],[0.1111111111111111,\"#46039f\"],[0.2222222222222222,\"#7201a8\"],[0.3333333333333333,\"#9c179e\"],[0.4444444444444444,\"#bd3786\"],[0.5555555555555556,\"#d8576b\"],[0.6666666666666666,\"#ed7953\"],[0.7777777777777778,\"#fb9f3a\"],[0.8888888888888888,\"#fdca26\"],[1.0,\"#f0f921\"]],\"type\":\"surface\"}],\"table\":[{\"cells\":{\"fill\":{\"color\":\"#EBF0F8\"},\"line\":{\"color\":\"white\"}},\"header\":{\"fill\":{\"color\":\"#C8D4E3\"},\"line\":{\"color\":\"white\"}},\"type\":\"table\"}]},\"layout\":{\"annotationdefaults\":{\"arrowcolor\":\"#2a3f5f\",\"arrowhead\":0,\"arrowwidth\":1},\"autotypenumbers\":\"strict\",\"coloraxis\":{\"colorbar\":{\"outlinewidth\":0,\"ticks\":\"\"}},\"colorscale\":{\"diverging\":[[0,\"#8e0152\"],[0.1,\"#c51b7d\"],[0.2,\"#de77ae\"],[0.3,\"#f1b6da\"],[0.4,\"#fde0ef\"],[0.5,\"#f7f7f7\"],[0.6,\"#e6f5d0\"],[0.7,\"#b8e186\"],[0.8,\"#7fbc41\"],[0.9,\"#4d9221\"],[1,\"#276419\"]],\"sequential\":[[0.0,\"#0d0887\"],[0.1111111111111111,\"#46039f\"],[0.2222222222222222,\"#7201a8\"],[0.3333333333333333,\"#9c179e\"],[0.4444444444444444,\"#bd3786\"],[0.5555555555555556,\"#d8576b\"],[0.6666666666666666,\"#ed7953\"],[0.7777777777777778,\"#fb9f3a\"],[0.8888888888888888,\"#fdca26\"],[1.0,\"#f0f921\"]],\"sequentialminus\":[[0.0,\"#0d0887\"],[0.1111111111111111,\"#46039f\"],[0.2222222222222222,\"#7201a8\"],[0.3333333333333333,\"#9c179e\"],[0.4444444444444444,\"#bd3786\"],[0.5555555555555556,\"#d8576b\"],[0.6666666666666666,\"#ed7953\"],[0.7777777777777778,\"#fb9f3a\"],[0.8888888888888888,\"#fdca26\"],[1.0,\"#f0f921\"]]},\"colorway\":[\"#636efa\",\"#EF553B\",\"#00cc96\",\"#ab63fa\",\"#FFA15A\",\"#19d3f3\",\"#FF6692\",\"#B6E880\",\"#FF97FF\",\"#FECB52\"],\"font\":{\"color\":\"#2a3f5f\"},\"geo\":{\"bgcolor\":\"white\",\"lakecolor\":\"white\",\"landcolor\":\"#E5ECF6\",\"showlakes\":true,\"showland\":true,\"subunitcolor\":\"white\"},\"hoverlabel\":{\"align\":\"left\"},\"hovermode\":\"closest\",\"mapbox\":{\"style\":\"light\"},\"paper_bgcolor\":\"white\",\"plot_bgcolor\":\"#E5ECF6\",\"polar\":{\"angularaxis\":{\"gridcolor\":\"white\",\"linecolor\":\"white\",\"ticks\":\"\"},\"bgcolor\":\"#E5ECF6\",\"radialaxis\":{\"gridcolor\":\"white\",\"linecolor\":\"white\",\"ticks\":\"\"}},\"scene\":{\"xaxis\":{\"backgroundcolor\":\"#E5ECF6\",\"gridcolor\":\"white\",\"gridwidth\":2,\"linecolor\":\"white\",\"showbackground\":true,\"ticks\":\"\",\"zerolinecolor\":\"white\"},\"yaxis\":{\"backgroundcolor\":\"#E5ECF6\",\"gridcolor\":\"white\",\"gridwidth\":2,\"linecolor\":\"white\",\"showbackground\":true,\"ticks\":\"\",\"zerolinecolor\":\"white\"},\"zaxis\":{\"backgroundcolor\":\"#E5ECF6\",\"gridcolor\":\"white\",\"gridwidth\":2,\"linecolor\":\"white\",\"showbackground\":true,\"ticks\":\"\",\"zerolinecolor\":\"white\"}},\"shapedefaults\":{\"line\":{\"color\":\"#2a3f5f\"}},\"ternary\":{\"aaxis\":{\"gridcolor\":\"white\",\"linecolor\":\"white\",\"ticks\":\"\"},\"baxis\":{\"gridcolor\":\"white\",\"linecolor\":\"white\",\"ticks\":\"\"},\"bgcolor\":\"#E5ECF6\",\"caxis\":{\"gridcolor\":\"white\",\"linecolor\":\"white\",\"ticks\":\"\"}},\"title\":{\"x\":0.05},\"xaxis\":{\"automargin\":true,\"gridcolor\":\"white\",\"linecolor\":\"white\",\"ticks\":\"\",\"title\":{\"standoff\":15},\"zerolinecolor\":\"white\",\"zerolinewidth\":2},\"yaxis\":{\"automargin\":true,\"gridcolor\":\"white\",\"linecolor\":\"white\",\"ticks\":\"\",\"title\":{\"standoff\":15},\"zerolinecolor\":\"white\",\"zerolinewidth\":2}}},\"scene\":{\"domain\":{\"x\":[0.0,1.0],\"y\":[0.0,1.0]},\"xaxis\":{\"title\":{\"text\":\"Altura da Mar\\u00e9 (m)\"}},\"yaxis\":{\"title\":{\"text\":\"Velocidade do Vento (Km/h)\"}},\"zaxis\":{\"title\":{\"text\":\"Chuva (mm)\"}}},\"coloraxis\":{\"colorbar\":{\"title\":{\"text\":\"Cluster\"}},\"colorscale\":[[0.0,\"#0d0887\"],[0.1111111111111111,\"#46039f\"],[0.2222222222222222,\"#7201a8\"],[0.3333333333333333,\"#9c179e\"],[0.4444444444444444,\"#bd3786\"],[0.5555555555555556,\"#d8576b\"],[0.6666666666666666,\"#ed7953\"],[0.7777777777777778,\"#fb9f3a\"],[0.8888888888888888,\"#fdca26\"],[1.0,\"#f0f921\"]]},\"legend\":{\"tracegroupgap\":0},\"title\":{\"text\":\"3d scatter clusters\"},\"height\":600,\"width\":1100},                        {\"responsive\": true}                    ).then(function(){\n",
              "                            \n",
              "var gd = document.getElementById('9a190fb7-1a4b-4ead-b803-62704ce85efa');\n",
              "var x = new MutationObserver(function (mutations, observer) {{\n",
              "        var display = window.getComputedStyle(gd).display;\n",
              "        if (!display || display === 'none') {{\n",
              "            console.log([gd, 'removed!']);\n",
              "            Plotly.purge(gd);\n",
              "            observer.disconnect();\n",
              "        }}\n",
              "}});\n",
              "\n",
              "// Listen for the removal of the full notebook cells\n",
              "var notebookContainer = gd.closest('#notebook-container');\n",
              "if (notebookContainer) {{\n",
              "    x.observe(notebookContainer, {childList: true});\n",
              "}}\n",
              "\n",
              "// Listen for the clearing of the current output cell\n",
              "var outputEl = gd.closest('.output');\n",
              "if (outputEl) {{\n",
              "    x.observe(outputEl, {childList: true});\n",
              "}}\n",
              "\n",
              "                        })                };                            </script>        </div>\n",
              "</body>\n",
              "</html>"
            ]
          },
          "metadata": {}
        }
      ]
    },
    {
      "cell_type": "markdown",
      "source": [
        "#### Variação A2"
      ],
      "metadata": {
        "id": "n4Xe3ClLLUWE"
      }
    },
    {
      "cell_type": "code",
      "source": [
        "clustering_a2 = kmeans.fit_predict(dataset_a2)\n",
        "valores_analise['silhouette'].append(silhouette_score(dataset_a2, clustering_a2))\n",
        "valores_analise['jaccard'].append(jaccard_score(resultados, clustering_a2, average='macro'))\n",
        "valores_analise['variation'].append('A2')"
      ],
      "metadata": {
        "id": "y7ZAlZDg5aCj"
      },
      "execution_count": 1019,
      "outputs": []
    },
    {
      "cell_type": "markdown",
      "source": [
        "##### Clusters da variação A2 (Kmeans)"
      ],
      "metadata": {
        "id": "OY6fhomL1B_E"
      }
    },
    {
      "cell_type": "code",
      "source": [
        "centroids = kmeans.cluster_centers_\n",
        "show_scatter(dataset_a2, clustering_a2, centroids)"
      ],
      "metadata": {
        "colab": {
          "base_uri": "https://localhost:8080/",
          "height": 0
        },
        "id": "QsflaYlLK6qa",
        "outputId": "e74b4ab9-1dbf-450a-d63a-45853c6f8210"
      },
      "execution_count": 1020,
      "outputs": [
        {
          "output_type": "display_data",
          "data": {
            "text/plain": [
              "<Figure size 432x288 with 1 Axes>"
            ],
            "image/png": "[encoded data removed]"
          },
          "metadata": {
            "needs_background": "light"
          }
        }
      ]
    },
    {
      "cell_type": "code",
      "source": [
        "dataset_a2_cluster = dataset_a2.copy()\n",
        "dataset_a2_cluster['Cluster'] = clustering_a2\n",
        "\n",
        "show_3d_clusters(dataset_a2_cluster)"
      ],
      "metadata": {
        "colab": {
          "base_uri": "https://localhost:8080/",
          "height": 0
        },
        "id": "p5Ds7TSLzluz",
        "outputId": "d9817fb7-17cc-4495-91c7-b18a32453c32"
      },
      "execution_count": 1021,
      "outputs": [
        {
          "output_type": "display_data",
          "data": {
            "text/html": [
              "<html>\n",
              "<head><meta charset=\"utf-8\" /></head>\n",
              "<body>\n",
              "    <div>            <script src=\"https://cdnjs.cloudflare.com/ajax/libs/mathjax/2.7.5/MathJax.js?config=TeX-AMS-MML_SVG\"></script><script type=\"text/javascript\">if (window.MathJax) {MathJax.Hub.Config({SVG: {font: \"STIX-Web\"}});}</script>                <script type=\"text/javascript\">window.PlotlyConfig = {MathJaxConfig: 'local'};</script>\n",
              "        <script src=\"https://cdn.plot.ly/plotly-2.8.3.min.js\"></script>                <div id=\"68ef441d-d0b5-41f6-a1a2-3b8d065d7cc0\" class=\"plotly-graph-div\" style=\"height:600px; width:1100px;\"></div>            <script type=\"text/javascript\">                                    window.PLOTLYENV=window.PLOTLYENV || {};                                    if (document.getElementById(\"68ef441d-d0b5-41f6-a1a2-3b8d065d7cc0\")) {                    Plotly.newPlot(                        \"68ef441d-d0b5-41f6-a1a2-3b8d065d7cc0\",                        [{\"hovertemplate\":\"Altura da Mar\\u00e9 (m)=%{x}<br>Velocidade do Vento (Km/h)=%{y}<br>Chuva (mm)=%{z}<br>Cluster=%{marker.color}<extra></extra>\",\"legendgroup\":\"\",\"marker\":{\"color\":[0,0,0,0,0,0,0,0,0,0,0,0,0,0,0,0,0,0,0,0,0,0,0,0,0,0,0,0,1,1,1,1,1,1,1,0,0,0,1,1,0,0,1,1,1,1,1,0,0,0,0,1,0,0,0,0,1,1,1,1,1,1,1,0,0,0,0,0,0,0,1,1,1,1,1,1,0,0,0,0,0,0,0,0,1,1,1,1,1,1,1,1,1,1,1,0,0,0,1,1,1,1,1,1,1,1,1,0,0,0,0,0,0,0,1,0,0,0,0,0,0,0,0,0,0,0,0,0,0,0,0,0,0,0,0,0,0,0,0,0,0,0,0,0,0,0,0,0,0,0,0,0,0,0,0,0,0,0,1,0,1,1,0,0,1,1,0,0,1,1,1,0,1,1,0,0,1,1,1,1,1,1,1,1,1,1,1,0,1,1,1,0,0,1,1,0,1,1,0,0,1,1,1,0,1,1,1,0,1,1,1,1,1,1,1,0,1,1,0,0,1,1,0,0,1,1,1,0,1,1,0,0,1,1,1,0,1,1,1,0,1,1,1,0,1,1,1,0,1,0,0,0,1,0,0,0,0,0,0,0,0,0,0,0,0,0,0,0,0,0,0,0,0,0,0,0,0,0,0,0,0,0,0,1,0,0,0,0,1,1,1,1,1,1,1,1,0,0,0,0,0,0,0,0,0,0,0,0,0,0,0,0,1,1,1,0,1,1,1,0],\"coloraxis\":\"coloraxis\",\"opacity\":0.8,\"symbol\":\"circle\"},\"mode\":\"markers\",\"name\":\"\",\"scene\":\"scene\",\"showlegend\":false,\"x\":[1.2,1.6,1.8,1.9,1.8,1.6,1.2,0.7,0.5,0.4,0.5,0.6,1.0,1.5,1.7,1.9,1.9,1.7,1.3,0.9,0.5,0.4,0.4,0.5,0.7,1.3,1.6,1.8,0.9,1.2,1.4,1.6,1.7,1.6,1.4,1.2,0.9,0.7,0.6,0.7,0.8,1.0,1.4,1.6,1.7,1.7,1.6,1.4,1.0,0.4,0.6,0.6,0.7,0.8,1.2,1.4,0.8,0.9,1.1,1.2,1.5,1.6,1.6,1.5,1.4,1.1,0.8,0.7,0.7,0.8,1.0,1.3,1.4,1.5,1.6,1.5,1.4,1.3,0.9,0.8,0.7,0.7,0.8,1.0,0.8,0.7,0.6,0.7,0.8,1.2,1.5,1.7,1.8,1.7,1.5,1.3,0.9,0.7,0.6,0.6,0.7,0.9,1.4,1.6,1.8,1.8,1.6,1.4,1.1,0.7,0.5,0.5,1.2,0.5,1.9,1.4,0.7,0.8,2.0,0.5,1.9,0.4,1.5,2.1,1.1,0.2,2.1,1.7,2.2,0.7,0.8,2.3,1.7,0.2,1.7,2.1,2.1,1.0,0.5,2.1,1.8,0.2,1.5,2.1,2.1,1.4,0.4,2.1,2.0,0.7,0.9,2.2,1.6,1.7,0.5,1.3,1.8,1.4,0.6,1.6,1.2,1.7,0.7,0.9,1.6,1.6,0.6,1.4,0.9,1.5,1.0,0.7,1.3,1.6,0.7,1.0,0.7,1.2,1.4,0.6,0.9,1.5,0.9,0.6,0.6,0.8,1.8,0.7,0.6,1.3,1.5,0.5,2.0,0.0,1.8,1.5,0.8,-0.1,2.5,1.8,2.2,0.3,1.2,2.6,1.5,-0.2,2.2,2.2,1.5,1.9,0.4,0.9,1.8,1.6,0.4,1.5,1.0,1.7,0.7,0.7,1.5,1.7,0.6,1.2,0.8,1.5,1.2,0.7,1.1,1.6,0.9,0.8,0.7,0.8,1.8,0.8,0.6,1.1,1.6,0.6,1.4,0.3,2.0,1.8,0.7,0.4,2.2,1.0,2.0,0.5,1.2,2.3,1.4,0.1,2.0,2.0,2.1,0.9,0.9,2.2,1.7,0.2,1.6,2.0,1.8,1.6,0.3,1.7,1.9,0.8,0.7,2.0,1.6,1.8,0.4,1.4,1.8,1.2,0.5,1.9,0.9,1.7,0.8,0.6,1.3,1.7,0.6,1.0,0.6,0.1,2.3,1.5,0.1,0.5,2.3,0.5,1.1,0.0,2.2,2.0,0.2,0.2,2.5,0.9,1.7,-0.1,2.0,2.4,0.5,-0.1,2.5,1.5,2.2,0.5,0.9,2.5,1.6,-0.1,2.0,2.3],\"y\":[22.5,23.0,23.5,24.0,24.0,24.0,23.5,23.0,22.0,21.0,20.0,19.0,19.0,19.0,23.0,23.5,24.0,24.0,23.5,23.0,23.0,21.0,20.0,20.0,19.0,19.0,20.0,22.0,20.0,20.0,19.0,18.0,18.0,18.0,18.5,19.0,18.5,18.0,17.0,16.0,18.0,20.0,19.5,18.5,18.0,18.0,18.25,18.75,18.75,18.25,17.5,16.5,17.0,19.0,20.25,20.75,13.0,12.0,12.0,12.0,13.0,14.0,16.5,19.0,18.5,18.0,19.5,21.0,22.5,24.0,12.5,12.0,12.0,13.5,15.25,17.75,18.75,18.25,18.75,20.25,21.75,23.25,24.25,24.75,12.5,11.0,9.0,7.0,5.5,4.0,3.5,3.0,8.0,13.0,16.0,19.0,20.5,22.0,11.75,10.0,6.25,4.75,3.75,3.25,5.5,10.5,14.5,17.5,19.75,21.25,22.25,22.75,23.0,22.0,16.0,24.0,22.75,21.25,17.75,27.0,25.0,27.0,27.5,28.75,26.25,25.5,29.0,28.0,35.5,34.0,32.5,31.25,34.75,33.25,31.75,32.0,26.0,23.0,28.0,29.25,24.5,23.25,29.0,30.0,30.0,30.0,28.0,27.0,30.0,30.25,27.0,28.0,23.0,21.0,19.5,16.75,22.5,20.75,16.75,17.0,16.5,13.0,20.0,19.25,14.5,13.25,20.5,20.0,15.5,14.0,17.5,19.75,14.75,14.0,19.0,22.0,19.0,16.0,17.0,14.5,17.5,15.75,15.5,16.0,16.5,15.0,11.0,19.25,15.75,14.75,12.75,23.0,21.0,18.0,17.5,18.75,19.5,16.5,18.0,21.0,13.0,13.0,11.0,17.5,13.0,13.0,13.25,19.0,16.5,12.0,2.5,16.25,14.25,9.0,4.25,23.0,18.5,18.0,20.5,19.25,18.0,18.0,20.5,20.0,14.5,13.0,17.0,19.75,13.75,12.25,19.0,22.0,13.5,9.0,13.0,17.0,12.0,8.25,15.5,17.0,16.0,12.0,13.0,17.0,14.25,10.5,13.75,20.0,20.0,20.0,20.0,20.75,20.0,20.0,19.25,23.0,24.5,23.0,21.5,22.75,23.75,22.25,21.25,25.0,29.0,31.0,33.0,35.5,30.25,31.0,34.25,37.0,31.0,27.0,22.5,18.0,29.25,25.5,20.25,18.0,30.5,28.0,21.0,16.25,29.5,25.0,19.0,17.0,16.5,15.0,15.0,12.5,15.75,15.75,13.5,14.0,28.5,28.0,26.0,26.25,28.0,28.0,26.0,27.0,26.0,25.0,22.0,21.0,25.75,24.25,21.0,21.0,12.5,9.0,8.0,18.5,10.5,7.5,14.0,23.0],\"z\":[0.33,0.33,0.33,0.33,0.33,0.33,0.33,0.33,0.33,0.33,0.33,0.33,0.33,0.33,0.33,0.33,0.33,0.33,0.33,0.33,0.33,0.33,0.33,0.33,0.33,0.33,0.33,0.33,0.33,0.33,0.33,0.33,0.33,0.33,0.33,0.33,0.33,0.33,0.33,0.33,0.33,0.33,0.33,0.33,0.33,0.33,0.33,0.33,0.33,0.33,0.33,0.33,0.33,0.33,0.33,0.42,0.0,0.0,0.0,0.0,0.0,0.42,0.42,0.42,0.42,0.42,0.42,0.42,0.42,0.42,0.0,0.0,0.0,0.0,0.42,0.42,0.42,0.42,0.42,0.42,0.42,0.42,0.42,0.42,2.5,2.5,2.5,2.5,2.5,2.5,2.5,2.5,2.5,2.5,2.5,2.5,2.5,2.5,2.5,2.5,2.5,2.5,2.5,2.5,2.5,2.5,2.5,2.5,2.5,2.5,2.5,2.5,0.63,0.63,0.63,0.63,0.63,0.63,0.63,0.63,1.67,1.67,1.67,1.67,1.67,1.67,1.67,1.67,0.63,0.63,0.63,0.63,0.63,0.63,0.63,0.63,1.88,1.88,1.88,1.88,1.88,1.88,1.88,1.88,0.63,0.63,0.63,0.63,0.63,0.63,0.63,0.63,0.42,0.42,0.42,0.42,0.42,0.42,0.42,0.42,0.42,0.42,0.42,0.42,0.42,0.42,0.42,0.42,0.44,0.44,0.44,0.0,0.44,0.44,0.44,0.0,0.0,0.0,0.0,0.0,0.0,0.0,0.0,0.0,0.0,0.0,0.0,0.0,0.0,0.0,0.0,0.0,0.42,0.42,0.0,0.0,0.42,0.0,0.0,0.0,0.0,0.0,0.0,0.0,0.0,0.0,0.0,0.0,2.92,2.92,2.92,2.92,2.92,2.92,2.92,2.92,0.83,0.83,0.83,0.0,0.83,0.83,0.83,0.0,0.21,0.21,0.21,0.21,0.21,0.21,0.21,0.21,0.39,0.39,0.39,0.0,0.39,0.39,0.39,0.0,1.88,1.88,1.88,1.88,1.88,1.88,1.88,1.88,5.83,5.83,5.83,5.83,5.83,5.83,5.83,5.83,2.5,2.5,2.5,2.5,2.5,2.5,2.5,2.5,3.33,3.33,3.33,3.33,3.33,3.33,3.33,3.33,1.04,1.04,1.04,1.04,1.04,1.04,1.04,1.04,0.0,0.0,0.83,0.83,0.0,0.0,0.83,0.83,0.63,0.63,0.63,0.63,0.63,0.63,0.63,0.63,0.42,0.42,0.42,0.42,0.42,0.42,0.42,0.42,0.25,0.25,0.25,0.25,0.25,0.25,0.25,0.25,0.83,0.83,0.83,0.83,0.83,0.83,0.83,0.83],\"type\":\"scatter3d\"}],                        {\"template\":{\"data\":{\"bar\":[{\"error_x\":{\"color\":\"#2a3f5f\"},\"error_y\":{\"color\":\"#2a3f5f\"},\"marker\":{\"line\":{\"color\":\"#E5ECF6\",\"width\":0.5},\"pattern\":{\"fillmode\":\"overlay\",\"size\":10,\"solidity\":0.2}},\"type\":\"bar\"}],\"barpolar\":[{\"marker\":{\"line\":{\"color\":\"#E5ECF6\",\"width\":0.5},\"pattern\":{\"fillmode\":\"overlay\",\"size\":10,\"solidity\":0.2}},\"type\":\"barpolar\"}],\"carpet\":[{\"aaxis\":{\"endlinecolor\":\"#2a3f5f\",\"gridcolor\":\"white\",\"linecolor\":\"white\",\"minorgridcolor\":\"white\",\"startlinecolor\":\"#2a3f5f\"},\"baxis\":{\"endlinecolor\":\"#2a3f5f\",\"gridcolor\":\"white\",\"linecolor\":\"white\",\"minorgridcolor\":\"white\",\"startlinecolor\":\"#2a3f5f\"},\"type\":\"carpet\"}],\"choropleth\":[{\"colorbar\":{\"outlinewidth\":0,\"ticks\":\"\"},\"type\":\"choropleth\"}],\"contour\":[{\"colorbar\":{\"outlinewidth\":0,\"ticks\":\"\"},\"colorscale\":[[0.0,\"#0d0887\"],[0.1111111111111111,\"#46039f\"],[0.2222222222222222,\"#7201a8\"],[0.3333333333333333,\"#9c179e\"],[0.4444444444444444,\"#bd3786\"],[0.5555555555555556,\"#d8576b\"],[0.6666666666666666,\"#ed7953\"],[0.7777777777777778,\"#fb9f3a\"],[0.8888888888888888,\"#fdca26\"],[1.0,\"#f0f921\"]],\"type\":\"contour\"}],\"contourcarpet\":[{\"colorbar\":{\"outlinewidth\":0,\"ticks\":\"\"},\"type\":\"contourcarpet\"}],\"heatmap\":[{\"colorbar\":{\"outlinewidth\":0,\"ticks\":\"\"},\"colorscale\":[[0.0,\"#0d0887\"],[0.1111111111111111,\"#46039f\"],[0.2222222222222222,\"#7201a8\"],[0.3333333333333333,\"#9c179e\"],[0.4444444444444444,\"#bd3786\"],[0.5555555555555556,\"#d8576b\"],[0.6666666666666666,\"#ed7953\"],[0.7777777777777778,\"#fb9f3a\"],[0.8888888888888888,\"#fdca26\"],[1.0,\"#f0f921\"]],\"type\":\"heatmap\"}],\"heatmapgl\":[{\"colorbar\":{\"outlinewidth\":0,\"ticks\":\"\"},\"colorscale\":[[0.0,\"#0d0887\"],[0.1111111111111111,\"#46039f\"],[0.2222222222222222,\"#7201a8\"],[0.3333333333333333,\"#9c179e\"],[0.4444444444444444,\"#bd3786\"],[0.5555555555555556,\"#d8576b\"],[0.6666666666666666,\"#ed7953\"],[0.7777777777777778,\"#fb9f3a\"],[0.8888888888888888,\"#fdca26\"],[1.0,\"#f0f921\"]],\"type\":\"heatmapgl\"}],\"histogram\":[{\"marker\":{\"pattern\":{\"fillmode\":\"overlay\",\"size\":10,\"solidity\":0.2}},\"type\":\"histogram\"}],\"histogram2d\":[{\"colorbar\":{\"outlinewidth\":0,\"ticks\":\"\"},\"colorscale\":[[0.0,\"#0d0887\"],[0.1111111111111111,\"#46039f\"],[0.2222222222222222,\"#7201a8\"],[0.3333333333333333,\"#9c179e\"],[0.4444444444444444,\"#bd3786\"],[0.5555555555555556,\"#d8576b\"],[0.6666666666666666,\"#ed7953\"],[0.7777777777777778,\"#fb9f3a\"],[0.8888888888888888,\"#fdca26\"],[1.0,\"#f0f921\"]],\"type\":\"histogram2d\"}],\"histogram2dcontour\":[{\"colorbar\":{\"outlinewidth\":0,\"ticks\":\"\"},\"colorscale\":[[0.0,\"#0d0887\"],[0.1111111111111111,\"#46039f\"],[0.2222222222222222,\"#7201a8\"],[0.3333333333333333,\"#9c179e\"],[0.4444444444444444,\"#bd3786\"],[0.5555555555555556,\"#d8576b\"],[0.6666666666666666,\"#ed7953\"],[0.7777777777777778,\"#fb9f3a\"],[0.8888888888888888,\"#fdca26\"],[1.0,\"#f0f921\"]],\"type\":\"histogram2dcontour\"}],\"mesh3d\":[{\"colorbar\":{\"outlinewidth\":0,\"ticks\":\"\"},\"type\":\"mesh3d\"}],\"parcoords\":[{\"line\":{\"colorbar\":{\"outlinewidth\":0,\"ticks\":\"\"}},\"type\":\"parcoords\"}],\"pie\":[{\"automargin\":true,\"type\":\"pie\"}],\"scatter\":[{\"marker\":{\"colorbar\":{\"outlinewidth\":0,\"ticks\":\"\"}},\"type\":\"scatter\"}],\"scatter3d\":[{\"line\":{\"colorbar\":{\"outlinewidth\":0,\"ticks\":\"\"}},\"marker\":{\"colorbar\":{\"outlinewidth\":0,\"ticks\":\"\"}},\"type\":\"scatter3d\"}],\"scattercarpet\":[{\"marker\":{\"colorbar\":{\"outlinewidth\":0,\"ticks\":\"\"}},\"type\":\"scattercarpet\"}],\"scattergeo\":[{\"marker\":{\"colorbar\":{\"outlinewidth\":0,\"ticks\":\"\"}},\"type\":\"scattergeo\"}],\"scattergl\":[{\"marker\":{\"colorbar\":{\"outlinewidth\":0,\"ticks\":\"\"}},\"type\":\"scattergl\"}],\"scattermapbox\":[{\"marker\":{\"colorbar\":{\"outlinewidth\":0,\"ticks\":\"\"}},\"type\":\"scattermapbox\"}],\"scatterpolar\":[{\"marker\":{\"colorbar\":{\"outlinewidth\":0,\"ticks\":\"\"}},\"type\":\"scatterpolar\"}],\"scatterpolargl\":[{\"marker\":{\"colorbar\":{\"outlinewidth\":0,\"ticks\":\"\"}},\"type\":\"scatterpolargl\"}],\"scatterternary\":[{\"marker\":{\"colorbar\":{\"outlinewidth\":0,\"ticks\":\"\"}},\"type\":\"scatterternary\"}],\"surface\":[{\"colorbar\":{\"outlinewidth\":0,\"ticks\":\"\"},\"colorscale\":[[0.0,\"#0d0887\"],[0.1111111111111111,\"#46039f\"],[0.2222222222222222,\"#7201a8\"],[0.3333333333333333,\"#9c179e\"],[0.4444444444444444,\"#bd3786\"],[0.5555555555555556,\"#d8576b\"],[0.6666666666666666,\"#ed7953\"],[0.7777777777777778,\"#fb9f3a\"],[0.8888888888888888,\"#fdca26\"],[1.0,\"#f0f921\"]],\"type\":\"surface\"}],\"table\":[{\"cells\":{\"fill\":{\"color\":\"#EBF0F8\"},\"line\":{\"color\":\"white\"}},\"header\":{\"fill\":{\"color\":\"#C8D4E3\"},\"line\":{\"color\":\"white\"}},\"type\":\"table\"}]},\"layout\":{\"annotationdefaults\":{\"arrowcolor\":\"#2a3f5f\",\"arrowhead\":0,\"arrowwidth\":1},\"autotypenumbers\":\"strict\",\"coloraxis\":{\"colorbar\":{\"outlinewidth\":0,\"ticks\":\"\"}},\"colorscale\":{\"diverging\":[[0,\"#8e0152\"],[0.1,\"#c51b7d\"],[0.2,\"#de77ae\"],[0.3,\"#f1b6da\"],[0.4,\"#fde0ef\"],[0.5,\"#f7f7f7\"],[0.6,\"#e6f5d0\"],[0.7,\"#b8e186\"],[0.8,\"#7fbc41\"],[0.9,\"#4d9221\"],[1,\"#276419\"]],\"sequential\":[[0.0,\"#0d0887\"],[0.1111111111111111,\"#46039f\"],[0.2222222222222222,\"#7201a8\"],[0.3333333333333333,\"#9c179e\"],[0.4444444444444444,\"#bd3786\"],[0.5555555555555556,\"#d8576b\"],[0.6666666666666666,\"#ed7953\"],[0.7777777777777778,\"#fb9f3a\"],[0.8888888888888888,\"#fdca26\"],[1.0,\"#f0f921\"]],\"sequentialminus\":[[0.0,\"#0d0887\"],[0.1111111111111111,\"#46039f\"],[0.2222222222222222,\"#7201a8\"],[0.3333333333333333,\"#9c179e\"],[0.4444444444444444,\"#bd3786\"],[0.5555555555555556,\"#d8576b\"],[0.6666666666666666,\"#ed7953\"],[0.7777777777777778,\"#fb9f3a\"],[0.8888888888888888,\"#fdca26\"],[1.0,\"#f0f921\"]]},\"colorway\":[\"#636efa\",\"#EF553B\",\"#00cc96\",\"#ab63fa\",\"#FFA15A\",\"#19d3f3\",\"#FF6692\",\"#B6E880\",\"#FF97FF\",\"#FECB52\"],\"font\":{\"color\":\"#2a3f5f\"},\"geo\":{\"bgcolor\":\"white\",\"lakecolor\":\"white\",\"landcolor\":\"#E5ECF6\",\"showlakes\":true,\"showland\":true,\"subunitcolor\":\"white\"},\"hoverlabel\":{\"align\":\"left\"},\"hovermode\":\"closest\",\"mapbox\":{\"style\":\"light\"},\"paper_bgcolor\":\"white\",\"plot_bgcolor\":\"#E5ECF6\",\"polar\":{\"angularaxis\":{\"gridcolor\":\"white\",\"linecolor\":\"white\",\"ticks\":\"\"},\"bgcolor\":\"#E5ECF6\",\"radialaxis\":{\"gridcolor\":\"white\",\"linecolor\":\"white\",\"ticks\":\"\"}},\"scene\":{\"xaxis\":{\"backgroundcolor\":\"#E5ECF6\",\"gridcolor\":\"white\",\"gridwidth\":2,\"linecolor\":\"white\",\"showbackground\":true,\"ticks\":\"\",\"zerolinecolor\":\"white\"},\"yaxis\":{\"backgroundcolor\":\"#E5ECF6\",\"gridcolor\":\"white\",\"gridwidth\":2,\"linecolor\":\"white\",\"showbackground\":true,\"ticks\":\"\",\"zerolinecolor\":\"white\"},\"zaxis\":{\"backgroundcolor\":\"#E5ECF6\",\"gridcolor\":\"white\",\"gridwidth\":2,\"linecolor\":\"white\",\"showbackground\":true,\"ticks\":\"\",\"zerolinecolor\":\"white\"}},\"shapedefaults\":{\"line\":{\"color\":\"#2a3f5f\"}},\"ternary\":{\"aaxis\":{\"gridcolor\":\"white\",\"linecolor\":\"white\",\"ticks\":\"\"},\"baxis\":{\"gridcolor\":\"white\",\"linecolor\":\"white\",\"ticks\":\"\"},\"bgcolor\":\"#E5ECF6\",\"caxis\":{\"gridcolor\":\"white\",\"linecolor\":\"white\",\"ticks\":\"\"}},\"title\":{\"x\":0.05},\"xaxis\":{\"automargin\":true,\"gridcolor\":\"white\",\"linecolor\":\"white\",\"ticks\":\"\",\"title\":{\"standoff\":15},\"zerolinecolor\":\"white\",\"zerolinewidth\":2},\"yaxis\":{\"automargin\":true,\"gridcolor\":\"white\",\"linecolor\":\"white\",\"ticks\":\"\",\"title\":{\"standoff\":15},\"zerolinecolor\":\"white\",\"zerolinewidth\":2}}},\"scene\":{\"domain\":{\"x\":[0.0,1.0],\"y\":[0.0,1.0]},\"xaxis\":{\"title\":{\"text\":\"Altura da Mar\\u00e9 (m)\"}},\"yaxis\":{\"title\":{\"text\":\"Velocidade do Vento (Km/h)\"}},\"zaxis\":{\"title\":{\"text\":\"Chuva (mm)\"}}},\"coloraxis\":{\"colorbar\":{\"title\":{\"text\":\"Cluster\"}},\"colorscale\":[[0.0,\"#0d0887\"],[0.1111111111111111,\"#46039f\"],[0.2222222222222222,\"#7201a8\"],[0.3333333333333333,\"#9c179e\"],[0.4444444444444444,\"#bd3786\"],[0.5555555555555556,\"#d8576b\"],[0.6666666666666666,\"#ed7953\"],[0.7777777777777778,\"#fb9f3a\"],[0.8888888888888888,\"#fdca26\"],[1.0,\"#f0f921\"]]},\"legend\":{\"tracegroupgap\":0},\"title\":{\"text\":\"3d scatter clusters\"},\"height\":600,\"width\":1100},                        {\"responsive\": true}                    ).then(function(){\n",
              "                            \n",
              "var gd = document.getElementById('68ef441d-d0b5-41f6-a1a2-3b8d065d7cc0');\n",
              "var x = new MutationObserver(function (mutations, observer) {{\n",
              "        var display = window.getComputedStyle(gd).display;\n",
              "        if (!display || display === 'none') {{\n",
              "            console.log([gd, 'removed!']);\n",
              "            Plotly.purge(gd);\n",
              "            observer.disconnect();\n",
              "        }}\n",
              "}});\n",
              "\n",
              "// Listen for the removal of the full notebook cells\n",
              "var notebookContainer = gd.closest('#notebook-container');\n",
              "if (notebookContainer) {{\n",
              "    x.observe(notebookContainer, {childList: true});\n",
              "}}\n",
              "\n",
              "// Listen for the clearing of the current output cell\n",
              "var outputEl = gd.closest('.output');\n",
              "if (outputEl) {{\n",
              "    x.observe(outputEl, {childList: true});\n",
              "}}\n",
              "\n",
              "                        })                };                            </script>        </div>\n",
              "</body>\n",
              "</html>"
            ]
          },
          "metadata": {}
        }
      ]
    },
    {
      "cell_type": "markdown",
      "source": [
        "#### Variação B1"
      ],
      "metadata": {
        "id": "MgSZXm1PLV-n"
      }
    },
    {
      "cell_type": "code",
      "source": [
        "clustering_b1 = kmeans.fit_predict(dataset_b1)\n",
        "valores_analise['silhouette'].append(silhouette_score(dataset_b1, clustering_b1))\n",
        "valores_analise['jaccard'].append(jaccard_score(resultados, clustering_b1, average='macro'))\n",
        "valores_analise['variation'].append('B1')"
      ],
      "metadata": {
        "id": "we3KN7-gLfSO"
      },
      "execution_count": 1022,
      "outputs": []
    },
    {
      "cell_type": "markdown",
      "source": [
        "##### Clusters da Variação B1 (Kmeans)"
      ],
      "metadata": {
        "id": "xy29SaEe2Tdr"
      }
    },
    {
      "cell_type": "code",
      "source": [
        "centroids = kmeans.cluster_centers_\n",
        "show_scatter(dataset_b1, clustering_b1, centroids)"
      ],
      "metadata": {
        "colab": {
          "base_uri": "https://localhost:8080/",
          "height": 0
        },
        "outputId": "0c752867-2207-4b1d-8713-92884dfd2b64",
        "id": "9G0tptFULfSO"
      },
      "execution_count": 1023,
      "outputs": [
        {
          "output_type": "display_data",
          "data": {
            "text/plain": [
              "<Figure size 432x288 with 1 Axes>"
            ],
            "image/png": "[encoded data removed]"
          },
          "metadata": {
            "needs_background": "light"
          }
        }
      ]
    },
    {
      "cell_type": "code",
      "source": [
        "dataset_b1_cluster = dataset_b1.copy()\n",
        "dataset_b1_cluster['Cluster'] = clustering_b1\n",
        "\n",
        "show_3d_clusters(dataset_b1_cluster)"
      ],
      "metadata": {
        "colab": {
          "base_uri": "https://localhost:8080/",
          "height": 0
        },
        "id": "ZgA7P5Ghzr6S",
        "outputId": "3323da9c-ccc3-4f0c-ec54-5082e50191d1"
      },
      "execution_count": 1024,
      "outputs": [
        {
          "output_type": "display_data",
          "data": {
            "text/html": [
              "<html>\n",
              "<head><meta charset=\"utf-8\" /></head>\n",
              "<body>\n",
              "    <div>            <script src=\"https://cdnjs.cloudflare.com/ajax/libs/mathjax/2.7.5/MathJax.js?config=TeX-AMS-MML_SVG\"></script><script type=\"text/javascript\">if (window.MathJax) {MathJax.Hub.Config({SVG: {font: \"STIX-Web\"}});}</script>                <script type=\"text/javascript\">window.PlotlyConfig = {MathJaxConfig: 'local'};</script>\n",
              "        <script src=\"https://cdn.plot.ly/plotly-2.8.3.min.js\"></script>                <div id=\"1f90e108-2c1d-44fe-9fcb-ed38ff6c1b37\" class=\"plotly-graph-div\" style=\"height:600px; width:1100px;\"></div>            <script type=\"text/javascript\">                                    window.PLOTLYENV=window.PLOTLYENV || {};                                    if (document.getElementById(\"1f90e108-2c1d-44fe-9fcb-ed38ff6c1b37\")) {                    Plotly.newPlot(                        \"1f90e108-2c1d-44fe-9fcb-ed38ff6c1b37\",                        [{\"hovertemplate\":\"Altura da Mar\\u00e9 (m)=%{x}<br>Velocidade do Vento (Km/h)=%{y}<br>Chuva (mm)=%{z}<br>Cluster=%{marker.color}<extra></extra>\",\"legendgroup\":\"\",\"marker\":{\"color\":[0,0,0,0,0,0,0,0,0,0,0,0,0,0,0,0,0,0,0,0,0,0,0,0,0,0,0,0,1,1,1,1,1,1,0,0,0,0,0,1,0,0,1,1,1,1,1,0,0,0,0,1,0,0,0,0,1,1,1,1,1,1,1,0,0,0,0,0,0,0,1,1,1,1,1,1,0,0,0,0,0,0,0,0,1,1,1,1,1,1,1,1,1,1,1,0,0,0,1,1,1,1,1,1,1,1,1,0,0,0,0,0,0,0,1,0,0,0,0,0,0,0,0,0,0,0,0,0,0,0,0,0,0,0,0,0,0,0,0,0,0,0,0,0,0,0,0,0,0,0,0,0,0,0,0,0,0,0,1,0,1,1,0,0,1,1,0,0,1,1,1,0,1,1,0,0,1,1,1,1,1,1,1,0,1,1,1,0,1,1,1,0,0,1,1,0,1,1,0,0,1,1,1,0,1,1,1,0,1,1,1,1,1,1,1,0,1,1,0,0,1,1,0,0,1,1,1,0,1,1,0,0,1,1,1,0,1,1,1,0,1,1,1,0,1,1,1,0,1,0,0,0,1,0,0,0,0,0,0,0,0,0,0,0,0,0,0,0,0,0,0,0,0,0,0,0,0,0,0,0,0,0,0,1,0,0,0,0,1,1,1,1,1,1,1,1,0,0,0,0,0,0,0,0,0,0,0,0,0,0,0,0,1,1,1,0,1,1,1,0],\"coloraxis\":\"coloraxis\",\"opacity\":0.8,\"symbol\":\"circle\"},\"mode\":\"markers\",\"name\":\"\",\"scene\":\"scene\",\"showlegend\":false,\"x\":[1.2,1.6,1.8,1.9,1.8,1.6,1.2,0.7,0.5,0.4,0.5,0.6,1.0,1.5,1.7,1.9,1.9,1.7,1.3,0.9,0.5,0.4,0.4,0.5,0.7,1.3,1.6,1.8,0.9,1.2,1.4,1.6,1.7,1.6,1.4,1.2,0.9,0.7,0.6,0.7,0.8,1.0,1.4,1.6,1.7,1.7,1.6,1.4,1.0,0.4,0.6,0.6,0.7,0.8,1.2,1.4,0.8,0.9,1.1,1.2,1.5,1.6,1.6,1.5,1.4,1.1,0.8,0.7,0.7,0.8,1.0,1.3,1.4,1.5,1.6,1.5,1.4,1.3,0.9,0.8,0.7,0.7,0.8,1.0,0.8,0.7,0.6,0.7,0.8,1.2,1.5,1.7,1.8,1.7,1.5,1.3,0.9,0.7,0.6,0.6,0.7,0.9,1.4,1.6,1.8,1.8,1.6,1.4,1.1,0.7,0.5,0.5,1.2,0.5,1.9,1.4,0.7,0.8,2.0,0.5,1.9,0.4,1.5,2.1,1.1,0.2,2.1,1.7,2.2,0.7,0.8,2.3,1.7,0.2,1.7,2.1,2.1,1.0,0.5,2.1,1.8,0.2,1.5,2.1,2.1,1.4,0.4,2.1,2.0,0.7,0.9,2.2,1.6,1.7,0.5,1.3,1.8,1.4,0.6,1.6,1.2,1.7,0.7,0.9,1.6,1.6,0.6,1.4,0.9,1.5,1.0,0.7,1.3,1.6,0.7,1.0,0.7,1.2,1.4,0.6,0.9,1.5,0.9,0.6,0.6,0.8,1.8,0.7,0.6,1.3,1.5,0.5,2.0,0.0,1.8,1.5,0.8,-0.1,2.5,1.8,2.2,0.3,1.2,2.6,1.5,-0.2,2.2,2.2,1.5,1.9,0.4,0.9,1.8,1.6,0.4,1.5,1.0,1.7,0.7,0.7,1.5,1.7,0.6,1.2,0.8,1.5,1.2,0.7,1.1,1.6,0.9,0.8,0.7,0.8,1.8,0.8,0.6,1.1,1.6,0.6,1.4,0.3,2.0,1.8,0.7,0.4,2.2,1.0,2.0,0.5,1.2,2.3,1.4,0.1,2.0,2.0,2.1,0.9,0.9,2.2,1.7,0.2,1.6,2.0,1.8,1.6,0.3,1.7,1.9,0.8,0.7,2.0,1.6,1.8,0.4,1.4,1.8,1.2,0.5,1.9,0.9,1.7,0.8,0.6,1.3,1.7,0.6,1.0,0.6,0.1,2.3,1.5,0.1,0.5,2.3,0.5,1.1,0.0,2.2,2.0,0.2,0.2,2.5,0.9,1.7,-0.1,2.0,2.4,0.5,-0.1,2.5,1.5,2.2,0.5,0.9,2.5,1.6,-0.1,2.0,2.3],\"y\":[22.5,23.0,23.5,24.0,24.0,24.0,23.5,23.0,22.0,21.0,20.0,19.0,19.0,19.0,23.0,23.5,24.0,24.0,23.5,23.0,23.0,21.0,20.0,20.0,19.0,19.0,20.0,22.0,20.0,20.0,19.0,18.0,18.0,18.0,18.5,19.0,18.5,18.0,17.0,16.0,18.0,20.0,19.5,18.5,18.0,18.0,18.25,18.75,18.75,18.25,17.5,16.5,17.0,19.0,20.25,20.75,13.0,12.0,12.0,12.0,13.0,14.0,16.5,19.0,18.5,18.0,19.5,21.0,22.5,24.0,12.5,12.0,12.0,13.5,15.25,17.75,18.75,18.25,18.75,20.25,21.75,23.25,24.25,24.75,12.5,11.0,9.0,7.0,5.5,4.0,3.5,3.0,8.0,13.0,16.0,19.0,20.5,22.0,11.75,10.0,6.25,4.75,3.75,3.25,5.5,10.5,14.5,17.5,19.75,21.25,22.25,22.75,23.0,22.0,16.0,24.0,22.75,21.25,17.75,27.0,25.0,27.0,27.5,28.75,26.25,25.5,29.0,28.0,35.5,34.0,32.5,31.25,34.75,33.25,31.75,32.0,26.0,23.0,28.0,29.25,24.5,23.25,29.0,30.0,30.0,30.0,28.0,27.0,30.0,30.25,27.0,28.0,23.0,21.0,19.5,16.75,22.5,20.75,16.75,17.0,16.5,13.0,20.0,19.25,14.5,13.25,20.5,20.0,15.5,14.0,17.5,19.75,14.75,14.0,19.0,22.0,19.0,16.0,17.0,14.5,17.5,15.75,15.5,16.0,16.5,15.0,11.0,19.25,15.75,14.75,12.75,23.0,21.0,18.0,17.5,18.75,19.5,16.5,18.0,21.0,13.0,13.0,11.0,17.5,13.0,13.0,13.25,19.0,16.5,12.0,2.5,16.25,14.25,9.0,4.25,23.0,18.5,18.0,20.5,19.25,18.0,18.0,20.5,20.0,14.5,13.0,17.0,19.75,13.75,12.25,19.0,22.0,13.5,9.0,13.0,17.0,12.0,8.25,15.5,17.0,16.0,12.0,13.0,17.0,14.25,10.5,13.75,20.0,20.0,20.0,20.0,20.75,20.0,20.0,19.25,23.0,24.5,23.0,21.5,22.75,23.75,22.25,21.25,25.0,29.0,31.0,33.0,35.5,30.25,31.0,34.25,37.0,31.0,27.0,22.5,18.0,29.25,25.5,20.25,18.0,30.5,28.0,21.0,16.25,29.5,25.0,19.0,17.0,16.5,15.0,15.0,12.5,15.75,15.75,13.5,14.0,28.5,28.0,26.0,26.25,28.0,28.0,26.0,27.0,26.0,25.0,22.0,21.0,25.75,24.25,21.0,21.0,12.5,9.0,8.0,18.5,10.5,7.5,14.0,23.0],\"z\":[0.33,0.33,0.33,0.33,0.33,0.33,0.33,0.33,0.33,0.33,0.33,0.33,0.33,0.33,0.33,0.33,0.33,0.33,0.33,0.33,0.33,0.33,0.33,0.33,0.33,0.33,0.33,0.33,0.33,0.33,0.33,0.33,0.33,0.33,0.33,0.33,0.33,0.33,0.33,0.33,0.33,0.33,0.33,0.33,0.33,0.33,0.33,0.33,0.33,0.33,0.33,0.33,0.33,0.33,0.33,0.42,0.0,0.0,0.0,0.0,0.0,0.42,0.42,0.42,0.42,0.42,0.42,0.42,0.42,0.42,0.0,0.0,0.0,0.0,0.42,0.42,0.42,0.42,0.42,0.42,0.42,0.42,0.42,0.42,2.5,2.5,2.5,2.5,2.5,2.5,2.5,2.5,2.5,2.5,2.5,2.5,2.5,2.5,2.5,2.5,2.5,2.5,2.5,2.5,2.5,2.5,2.5,2.5,2.5,2.5,2.5,2.5,0.63,0.63,0.63,0.63,0.63,0.63,0.63,0.63,1.67,1.67,1.67,1.67,1.67,1.67,1.67,1.67,0.63,0.63,0.63,0.63,0.63,0.63,0.63,0.63,1.88,1.88,1.88,1.88,1.88,1.88,1.88,1.88,0.63,0.63,0.63,0.63,0.63,0.63,0.63,0.63,0.42,0.42,0.42,0.42,0.42,0.42,0.42,0.42,0.42,0.42,0.42,0.42,0.42,0.42,0.42,0.42,0.44,0.44,0.44,0.0,0.44,0.44,0.44,0.0,0.0,0.0,0.0,0.0,0.0,0.0,0.0,0.0,0.0,0.0,0.0,0.0,0.0,0.0,0.0,0.0,0.42,0.42,0.0,0.0,0.42,0.0,0.0,0.0,0.0,0.0,0.0,0.0,0.0,0.0,0.0,0.0,2.92,2.92,2.92,2.92,2.92,2.92,2.92,2.92,0.83,0.83,0.83,0.0,0.83,0.83,0.83,0.0,0.21,0.21,0.21,0.21,0.21,0.21,0.21,0.21,0.39,0.39,0.39,0.0,0.39,0.39,0.39,0.0,1.88,1.88,1.88,1.88,1.88,1.88,1.88,1.88,5.83,5.83,5.83,5.83,5.83,5.83,5.83,5.83,2.5,2.5,2.5,2.5,2.5,2.5,2.5,2.5,3.33,3.33,3.33,3.33,3.33,3.33,3.33,3.33,1.04,1.04,1.04,1.04,1.04,1.04,1.04,1.04,0.0,0.0,0.83,0.83,0.0,0.0,0.83,0.83,0.63,0.63,0.63,0.63,0.63,0.63,0.63,0.63,0.42,0.42,0.42,0.42,0.42,0.42,0.42,0.42,0.25,0.25,0.25,0.25,0.25,0.25,0.25,0.25,0.83,0.83,0.83,0.83,0.83,0.83,0.83,0.83],\"type\":\"scatter3d\"}],                        {\"template\":{\"data\":{\"bar\":[{\"error_x\":{\"color\":\"#2a3f5f\"},\"error_y\":{\"color\":\"#2a3f5f\"},\"marker\":{\"line\":{\"color\":\"#E5ECF6\",\"width\":0.5},\"pattern\":{\"fillmode\":\"overlay\",\"size\":10,\"solidity\":0.2}},\"type\":\"bar\"}],\"barpolar\":[{\"marker\":{\"line\":{\"color\":\"#E5ECF6\",\"width\":0.5},\"pattern\":{\"fillmode\":\"overlay\",\"size\":10,\"solidity\":0.2}},\"type\":\"barpolar\"}],\"carpet\":[{\"aaxis\":{\"endlinecolor\":\"#2a3f5f\",\"gridcolor\":\"white\",\"linecolor\":\"white\",\"minorgridcolor\":\"white\",\"startlinecolor\":\"#2a3f5f\"},\"baxis\":{\"endlinecolor\":\"#2a3f5f\",\"gridcolor\":\"white\",\"linecolor\":\"white\",\"minorgridcolor\":\"white\",\"startlinecolor\":\"#2a3f5f\"},\"type\":\"carpet\"}],\"choropleth\":[{\"colorbar\":{\"outlinewidth\":0,\"ticks\":\"\"},\"type\":\"choropleth\"}],\"contour\":[{\"colorbar\":{\"outlinewidth\":0,\"ticks\":\"\"},\"colorscale\":[[0.0,\"#0d0887\"],[0.1111111111111111,\"#46039f\"],[0.2222222222222222,\"#7201a8\"],[0.3333333333333333,\"#9c179e\"],[0.4444444444444444,\"#bd3786\"],[0.5555555555555556,\"#d8576b\"],[0.6666666666666666,\"#ed7953\"],[0.7777777777777778,\"#fb9f3a\"],[0.8888888888888888,\"#fdca26\"],[1.0,\"#f0f921\"]],\"type\":\"contour\"}],\"contourcarpet\":[{\"colorbar\":{\"outlinewidth\":0,\"ticks\":\"\"},\"type\":\"contourcarpet\"}],\"heatmap\":[{\"colorbar\":{\"outlinewidth\":0,\"ticks\":\"\"},\"colorscale\":[[0.0,\"#0d0887\"],[0.1111111111111111,\"#46039f\"],[0.2222222222222222,\"#7201a8\"],[0.3333333333333333,\"#9c179e\"],[0.4444444444444444,\"#bd3786\"],[0.5555555555555556,\"#d8576b\"],[0.6666666666666666,\"#ed7953\"],[0.7777777777777778,\"#fb9f3a\"],[0.8888888888888888,\"#fdca26\"],[1.0,\"#f0f921\"]],\"type\":\"heatmap\"}],\"heatmapgl\":[{\"colorbar\":{\"outlinewidth\":0,\"ticks\":\"\"},\"colorscale\":[[0.0,\"#0d0887\"],[0.1111111111111111,\"#46039f\"],[0.2222222222222222,\"#7201a8\"],[0.3333333333333333,\"#9c179e\"],[0.4444444444444444,\"#bd3786\"],[0.5555555555555556,\"#d8576b\"],[0.6666666666666666,\"#ed7953\"],[0.7777777777777778,\"#fb9f3a\"],[0.8888888888888888,\"#fdca26\"],[1.0,\"#f0f921\"]],\"type\":\"heatmapgl\"}],\"histogram\":[{\"marker\":{\"pattern\":{\"fillmode\":\"overlay\",\"size\":10,\"solidity\":0.2}},\"type\":\"histogram\"}],\"histogram2d\":[{\"colorbar\":{\"outlinewidth\":0,\"ticks\":\"\"},\"colorscale\":[[0.0,\"#0d0887\"],[0.1111111111111111,\"#46039f\"],[0.2222222222222222,\"#7201a8\"],[0.3333333333333333,\"#9c179e\"],[0.4444444444444444,\"#bd3786\"],[0.5555555555555556,\"#d8576b\"],[0.6666666666666666,\"#ed7953\"],[0.7777777777777778,\"#fb9f3a\"],[0.8888888888888888,\"#fdca26\"],[1.0,\"#f0f921\"]],\"type\":\"histogram2d\"}],\"histogram2dcontour\":[{\"colorbar\":{\"outlinewidth\":0,\"ticks\":\"\"},\"colorscale\":[[0.0,\"#0d0887\"],[0.1111111111111111,\"#46039f\"],[0.2222222222222222,\"#7201a8\"],[0.3333333333333333,\"#9c179e\"],[0.4444444444444444,\"#bd3786\"],[0.5555555555555556,\"#d8576b\"],[0.6666666666666666,\"#ed7953\"],[0.7777777777777778,\"#fb9f3a\"],[0.8888888888888888,\"#fdca26\"],[1.0,\"#f0f921\"]],\"type\":\"histogram2dcontour\"}],\"mesh3d\":[{\"colorbar\":{\"outlinewidth\":0,\"ticks\":\"\"},\"type\":\"mesh3d\"}],\"parcoords\":[{\"line\":{\"colorbar\":{\"outlinewidth\":0,\"ticks\":\"\"}},\"type\":\"parcoords\"}],\"pie\":[{\"automargin\":true,\"type\":\"pie\"}],\"scatter\":[{\"marker\":{\"colorbar\":{\"outlinewidth\":0,\"ticks\":\"\"}},\"type\":\"scatter\"}],\"scatter3d\":[{\"line\":{\"colorbar\":{\"outlinewidth\":0,\"ticks\":\"\"}},\"marker\":{\"colorbar\":{\"outlinewidth\":0,\"ticks\":\"\"}},\"type\":\"scatter3d\"}],\"scattercarpet\":[{\"marker\":{\"colorbar\":{\"outlinewidth\":0,\"ticks\":\"\"}},\"type\":\"scattercarpet\"}],\"scattergeo\":[{\"marker\":{\"colorbar\":{\"outlinewidth\":0,\"ticks\":\"\"}},\"type\":\"scattergeo\"}],\"scattergl\":[{\"marker\":{\"colorbar\":{\"outlinewidth\":0,\"ticks\":\"\"}},\"type\":\"scattergl\"}],\"scattermapbox\":[{\"marker\":{\"colorbar\":{\"outlinewidth\":0,\"ticks\":\"\"}},\"type\":\"scattermapbox\"}],\"scatterpolar\":[{\"marker\":{\"colorbar\":{\"outlinewidth\":0,\"ticks\":\"\"}},\"type\":\"scatterpolar\"}],\"scatterpolargl\":[{\"marker\":{\"colorbar\":{\"outlinewidth\":0,\"ticks\":\"\"}},\"type\":\"scatterpolargl\"}],\"scatterternary\":[{\"marker\":{\"colorbar\":{\"outlinewidth\":0,\"ticks\":\"\"}},\"type\":\"scatterternary\"}],\"surface\":[{\"colorbar\":{\"outlinewidth\":0,\"ticks\":\"\"},\"colorscale\":[[0.0,\"#0d0887\"],[0.1111111111111111,\"#46039f\"],[0.2222222222222222,\"#7201a8\"],[0.3333333333333333,\"#9c179e\"],[0.4444444444444444,\"#bd3786\"],[0.5555555555555556,\"#d8576b\"],[0.6666666666666666,\"#ed7953\"],[0.7777777777777778,\"#fb9f3a\"],[0.8888888888888888,\"#fdca26\"],[1.0,\"#f0f921\"]],\"type\":\"surface\"}],\"table\":[{\"cells\":{\"fill\":{\"color\":\"#EBF0F8\"},\"line\":{\"color\":\"white\"}},\"header\":{\"fill\":{\"color\":\"#C8D4E3\"},\"line\":{\"color\":\"white\"}},\"type\":\"table\"}]},\"layout\":{\"annotationdefaults\":{\"arrowcolor\":\"#2a3f5f\",\"arrowhead\":0,\"arrowwidth\":1},\"autotypenumbers\":\"strict\",\"coloraxis\":{\"colorbar\":{\"outlinewidth\":0,\"ticks\":\"\"}},\"colorscale\":{\"diverging\":[[0,\"#8e0152\"],[0.1,\"#c51b7d\"],[0.2,\"#de77ae\"],[0.3,\"#f1b6da\"],[0.4,\"#fde0ef\"],[0.5,\"#f7f7f7\"],[0.6,\"#e6f5d0\"],[0.7,\"#b8e186\"],[0.8,\"#7fbc41\"],[0.9,\"#4d9221\"],[1,\"#276419\"]],\"sequential\":[[0.0,\"#0d0887\"],[0.1111111111111111,\"#46039f\"],[0.2222222222222222,\"#7201a8\"],[0.3333333333333333,\"#9c179e\"],[0.4444444444444444,\"#bd3786\"],[0.5555555555555556,\"#d8576b\"],[0.6666666666666666,\"#ed7953\"],[0.7777777777777778,\"#fb9f3a\"],[0.8888888888888888,\"#fdca26\"],[1.0,\"#f0f921\"]],\"sequentialminus\":[[0.0,\"#0d0887\"],[0.1111111111111111,\"#46039f\"],[0.2222222222222222,\"#7201a8\"],[0.3333333333333333,\"#9c179e\"],[0.4444444444444444,\"#bd3786\"],[0.5555555555555556,\"#d8576b\"],[0.6666666666666666,\"#ed7953\"],[0.7777777777777778,\"#fb9f3a\"],[0.8888888888888888,\"#fdca26\"],[1.0,\"#f0f921\"]]},\"colorway\":[\"#636efa\",\"#EF553B\",\"#00cc96\",\"#ab63fa\",\"#FFA15A\",\"#19d3f3\",\"#FF6692\",\"#B6E880\",\"#FF97FF\",\"#FECB52\"],\"font\":{\"color\":\"#2a3f5f\"},\"geo\":{\"bgcolor\":\"white\",\"lakecolor\":\"white\",\"landcolor\":\"#E5ECF6\",\"showlakes\":true,\"showland\":true,\"subunitcolor\":\"white\"},\"hoverlabel\":{\"align\":\"left\"},\"hovermode\":\"closest\",\"mapbox\":{\"style\":\"light\"},\"paper_bgcolor\":\"white\",\"plot_bgcolor\":\"#E5ECF6\",\"polar\":{\"angularaxis\":{\"gridcolor\":\"white\",\"linecolor\":\"white\",\"ticks\":\"\"},\"bgcolor\":\"#E5ECF6\",\"radialaxis\":{\"gridcolor\":\"white\",\"linecolor\":\"white\",\"ticks\":\"\"}},\"scene\":{\"xaxis\":{\"backgroundcolor\":\"#E5ECF6\",\"gridcolor\":\"white\",\"gridwidth\":2,\"linecolor\":\"white\",\"showbackground\":true,\"ticks\":\"\",\"zerolinecolor\":\"white\"},\"yaxis\":{\"backgroundcolor\":\"#E5ECF6\",\"gridcolor\":\"white\",\"gridwidth\":2,\"linecolor\":\"white\",\"showbackground\":true,\"ticks\":\"\",\"zerolinecolor\":\"white\"},\"zaxis\":{\"backgroundcolor\":\"#E5ECF6\",\"gridcolor\":\"white\",\"gridwidth\":2,\"linecolor\":\"white\",\"showbackground\":true,\"ticks\":\"\",\"zerolinecolor\":\"white\"}},\"shapedefaults\":{\"line\":{\"color\":\"#2a3f5f\"}},\"ternary\":{\"aaxis\":{\"gridcolor\":\"white\",\"linecolor\":\"white\",\"ticks\":\"\"},\"baxis\":{\"gridcolor\":\"white\",\"linecolor\":\"white\",\"ticks\":\"\"},\"bgcolor\":\"#E5ECF6\",\"caxis\":{\"gridcolor\":\"white\",\"linecolor\":\"white\",\"ticks\":\"\"}},\"title\":{\"x\":0.05},\"xaxis\":{\"automargin\":true,\"gridcolor\":\"white\",\"linecolor\":\"white\",\"ticks\":\"\",\"title\":{\"standoff\":15},\"zerolinecolor\":\"white\",\"zerolinewidth\":2},\"yaxis\":{\"automargin\":true,\"gridcolor\":\"white\",\"linecolor\":\"white\",\"ticks\":\"\",\"title\":{\"standoff\":15},\"zerolinecolor\":\"white\",\"zerolinewidth\":2}}},\"scene\":{\"domain\":{\"x\":[0.0,1.0],\"y\":[0.0,1.0]},\"xaxis\":{\"title\":{\"text\":\"Altura da Mar\\u00e9 (m)\"}},\"yaxis\":{\"title\":{\"text\":\"Velocidade do Vento (Km/h)\"}},\"zaxis\":{\"title\":{\"text\":\"Chuva (mm)\"}}},\"coloraxis\":{\"colorbar\":{\"title\":{\"text\":\"Cluster\"}},\"colorscale\":[[0.0,\"#0d0887\"],[0.1111111111111111,\"#46039f\"],[0.2222222222222222,\"#7201a8\"],[0.3333333333333333,\"#9c179e\"],[0.4444444444444444,\"#bd3786\"],[0.5555555555555556,\"#d8576b\"],[0.6666666666666666,\"#ed7953\"],[0.7777777777777778,\"#fb9f3a\"],[0.8888888888888888,\"#fdca26\"],[1.0,\"#f0f921\"]]},\"legend\":{\"tracegroupgap\":0},\"title\":{\"text\":\"3d scatter clusters\"},\"height\":600,\"width\":1100},                        {\"responsive\": true}                    ).then(function(){\n",
              "                            \n",
              "var gd = document.getElementById('1f90e108-2c1d-44fe-9fcb-ed38ff6c1b37');\n",
              "var x = new MutationObserver(function (mutations, observer) {{\n",
              "        var display = window.getComputedStyle(gd).display;\n",
              "        if (!display || display === 'none') {{\n",
              "            console.log([gd, 'removed!']);\n",
              "            Plotly.purge(gd);\n",
              "            observer.disconnect();\n",
              "        }}\n",
              "}});\n",
              "\n",
              "// Listen for the removal of the full notebook cells\n",
              "var notebookContainer = gd.closest('#notebook-container');\n",
              "if (notebookContainer) {{\n",
              "    x.observe(notebookContainer, {childList: true});\n",
              "}}\n",
              "\n",
              "// Listen for the clearing of the current output cell\n",
              "var outputEl = gd.closest('.output');\n",
              "if (outputEl) {{\n",
              "    x.observe(outputEl, {childList: true});\n",
              "}}\n",
              "\n",
              "                        })                };                            </script>        </div>\n",
              "</body>\n",
              "</html>"
            ]
          },
          "metadata": {}
        }
      ]
    },
    {
      "cell_type": "markdown",
      "source": [
        "#### Variação B2"
      ],
      "metadata": {
        "id": "l6vZwY4xLXii"
      }
    },
    {
      "cell_type": "code",
      "source": [
        "clustering_b2 = kmeans.fit_predict(dataset_b2)\n",
        "valores_analise['silhouette'].append(silhouette_score(dataset_b2, clustering_b2))\n",
        "valores_analise['jaccard'].append(jaccard_score(resultados, clustering_b2, average='macro'))\n",
        "valores_analise['variation'].append('B2')"
      ],
      "metadata": {
        "id": "WOxOIimyLf-a"
      },
      "execution_count": 1025,
      "outputs": []
    },
    {
      "cell_type": "markdown",
      "source": [
        "##### Clusters da Variação B2 (Kmeans)"
      ],
      "metadata": {
        "id": "GAsD1xZi2bCE"
      }
    },
    {
      "cell_type": "code",
      "source": [
        "centroids = kmeans.cluster_centers_\n",
        "show_scatter(dataset_b2, clustering_b2, centroids)"
      ],
      "metadata": {
        "colab": {
          "base_uri": "https://localhost:8080/",
          "height": 0
        },
        "outputId": "2fec1653-1ca1-4e61-dcfc-e0b06d8f484f",
        "id": "Hhj-csQQLf-a"
      },
      "execution_count": 1026,
      "outputs": [
        {
          "output_type": "display_data",
          "data": {
            "text/plain": [
              "<Figure size 432x288 with 1 Axes>"
            ],
            "image/png": "[encoded data removed]"
          },
          "metadata": {
            "needs_background": "light"
          }
        }
      ]
    },
    {
      "cell_type": "code",
      "source": [
        "dataset_b2_cluster = dataset_b2.copy()\n",
        "dataset_b2_cluster['Cluster'] = clustering_b2\n",
        "\n",
        "show_3d_clusters(dataset_b2_cluster)"
      ],
      "metadata": {
        "colab": {
          "base_uri": "https://localhost:8080/",
          "height": 0
        },
        "id": "Uq-w-eFL00wk",
        "outputId": "bb69834f-aebe-45e4-f532-48a221a2c54e"
      },
      "execution_count": 1027,
      "outputs": [
        {
          "output_type": "display_data",
          "data": {
            "text/html": [
              "<html>\n",
              "<head><meta charset=\"utf-8\" /></head>\n",
              "<body>\n",
              "    <div>            <script src=\"https://cdnjs.cloudflare.com/ajax/libs/mathjax/2.7.5/MathJax.js?config=TeX-AMS-MML_SVG\"></script><script type=\"text/javascript\">if (window.MathJax) {MathJax.Hub.Config({SVG: {font: \"STIX-Web\"}});}</script>                <script type=\"text/javascript\">window.PlotlyConfig = {MathJaxConfig: 'local'};</script>\n",
              "        <script src=\"https://cdn.plot.ly/plotly-2.8.3.min.js\"></script>                <div id=\"eedd8588-853f-45ba-8171-f893a51f51ce\" class=\"plotly-graph-div\" style=\"height:600px; width:1100px;\"></div>            <script type=\"text/javascript\">                                    window.PLOTLYENV=window.PLOTLYENV || {};                                    if (document.getElementById(\"eedd8588-853f-45ba-8171-f893a51f51ce\")) {                    Plotly.newPlot(                        \"eedd8588-853f-45ba-8171-f893a51f51ce\",                        [{\"hovertemplate\":\"Altura da Mar\\u00e9 (m)=%{x}<br>Velocidade do Vento (Km/h)=%{y}<br>Chuva (mm)=%{z}<br>Cluster=%{marker.color}<extra></extra>\",\"legendgroup\":\"\",\"marker\":{\"color\":[0,0,0,0,0,0,0,0,0,0,0,0,0,0,0,0,0,0,0,0,0,0,0,0,0,0,0,0,1,1,1,1,1,1,1,0,0,0,1,1,0,0,1,1,1,1,1,0,0,0,0,1,0,0,0,0,1,1,1,1,1,1,1,0,0,0,0,0,0,0,1,1,1,1,1,1,0,0,0,0,0,0,0,0,1,1,1,1,1,1,1,1,1,1,1,0,0,0,1,1,1,1,1,1,1,1,1,0,0,0,0,0,0,0,1,0,0,0,0,0,0,0,0,0,0,0,0,0,0,0,0,0,0,0,0,0,0,0,0,0,0,0,0,0,0,0,0,0,0,0,0,0,0,0,0,0,0,0,1,0,1,1,0,0,1,1,0,0,1,1,1,0,1,1,0,0,1,1,1,1,1,1,1,1,1,1,1,0,1,1,1,0,0,1,1,0,1,1,0,0,1,1,1,0,1,1,1,0,1,1,1,1,1,1,1,0,1,1,0,0,1,1,0,0,1,1,1,0,1,1,0,0,1,1,1,0,1,1,1,0,1,1,1,0,1,1,1,0,1,0,0,0,0,0,0,0,0,0,0,0,0,0,0,0,0,0,0,0,0,0,0,0,0,0,0,0,0,0,0,0,0,0,0,1,0,0,0,0,1,1,1,1,1,1,1,1,0,0,0,0,0,0,0,0,0,0,0,0,0,0,0,0,1,1,1,0,1,1,1,0],\"coloraxis\":\"coloraxis\",\"opacity\":0.8,\"symbol\":\"circle\"},\"mode\":\"markers\",\"name\":\"\",\"scene\":\"scene\",\"showlegend\":false,\"x\":[1.2,1.6,1.8,1.9,1.8,1.6,1.2,0.7,0.5,0.4,0.5,0.6,1.0,1.5,1.7,1.9,1.9,1.7,1.3,0.9,0.5,0.4,0.4,0.5,0.7,1.3,1.6,1.8,0.9,1.2,1.4,1.6,1.7,1.6,1.4,1.2,0.9,0.7,0.6,0.7,0.8,1.0,1.4,1.6,1.7,1.7,1.6,1.4,1.0,0.4,0.6,0.6,0.7,0.8,1.2,1.4,0.8,0.9,1.1,1.2,1.5,1.6,1.6,1.5,1.4,1.1,0.8,0.7,0.7,0.8,1.0,1.3,1.4,1.5,1.6,1.5,1.4,1.3,0.9,0.8,0.7,0.7,0.8,1.0,0.8,0.7,0.6,0.7,0.8,1.2,1.5,1.7,1.8,1.7,1.5,1.3,0.9,0.7,0.6,0.6,0.7,0.9,1.4,1.6,1.8,1.8,1.6,1.4,1.1,0.7,0.5,0.5,1.2,0.5,1.9,1.4,0.7,0.8,2.0,0.5,1.9,0.4,1.5,2.1,1.1,0.2,2.1,1.7,2.2,0.7,0.8,2.3,1.7,0.2,1.7,2.1,2.1,1.0,0.5,2.1,1.8,0.2,1.5,2.1,2.1,1.4,0.4,2.1,2.0,0.7,0.9,2.2,1.6,1.7,0.5,1.3,1.8,1.4,0.6,1.6,1.2,1.7,0.7,0.9,1.6,1.6,0.6,1.4,0.9,1.5,1.0,0.7,1.3,1.6,0.7,1.0,0.7,1.2,1.4,0.6,0.9,1.5,0.9,0.6,0.6,0.8,1.8,0.7,0.6,1.3,1.5,0.5,2.0,0.0,1.8,1.5,0.8,-0.1,2.5,1.8,2.2,0.3,1.2,2.6,1.5,-0.2,2.2,2.2,1.5,1.9,0.4,0.9,1.8,1.6,0.4,1.5,1.0,1.7,0.7,0.7,1.5,1.7,0.6,1.2,0.8,1.5,1.2,0.7,1.1,1.6,0.9,0.8,0.7,0.8,1.8,0.8,0.6,1.1,1.6,0.6,1.4,0.3,2.0,1.8,0.7,0.4,2.2,1.0,2.0,0.5,1.2,2.3,1.4,0.1,2.0,2.0,2.1,0.9,0.9,2.2,1.7,0.2,1.6,2.0,1.8,1.6,0.3,1.7,1.9,0.8,0.7,2.0,1.6,1.8,0.4,1.4,1.8,1.2,0.5,1.9,0.9,1.7,0.8,0.6,1.3,1.7,0.6,1.0,0.6,0.1,2.3,1.5,0.1,0.5,2.3,0.5,1.1,0.0,2.2,2.0,0.2,0.2,2.5,0.9,1.7,-0.1,2.0,2.4,0.5,-0.1,2.5,1.5,2.2,0.5,0.9,2.5,1.6,-0.1,2.0,2.3],\"y\":[22.5,23.0,23.5,24.0,24.0,24.0,23.5,23.0,22.0,21.0,20.0,19.0,19.0,19.0,23.0,23.5,24.0,24.0,23.5,23.0,23.0,21.0,20.0,20.0,19.0,19.0,20.0,22.0,20.0,20.0,19.0,18.0,18.0,18.0,18.5,19.0,18.5,18.0,17.0,16.0,18.0,20.0,19.5,18.5,18.0,18.0,18.25,18.75,18.75,18.25,17.5,16.5,17.0,19.0,20.25,20.75,13.0,12.0,12.0,12.0,13.0,14.0,16.5,19.0,18.5,18.0,19.5,21.0,22.5,24.0,12.5,12.0,12.0,13.5,15.25,17.75,18.75,18.25,18.75,20.25,21.75,23.25,24.25,24.75,12.5,11.0,9.0,7.0,5.5,4.0,3.5,3.0,8.0,13.0,16.0,19.0,20.5,22.0,11.75,10.0,6.25,4.75,3.75,3.25,5.5,10.5,14.5,17.5,19.75,21.25,22.25,22.75,23.0,22.0,16.0,24.0,22.75,21.25,17.75,27.0,25.0,27.0,27.5,28.75,26.25,25.5,29.0,28.0,35.5,34.0,32.5,31.25,34.75,33.25,31.75,32.0,26.0,23.0,28.0,29.25,24.5,23.25,29.0,30.0,30.0,30.0,28.0,27.0,30.0,30.25,27.0,28.0,23.0,21.0,19.5,16.75,22.5,20.75,16.75,17.0,16.5,13.0,20.0,19.25,14.5,13.25,20.5,20.0,15.5,14.0,17.5,19.75,14.75,14.0,19.0,22.0,19.0,16.0,17.0,14.5,17.5,15.75,15.5,16.0,16.5,15.0,11.0,19.25,15.75,14.75,12.75,23.0,21.0,18.0,17.5,18.75,19.5,16.5,18.0,21.0,13.0,13.0,11.0,17.5,13.0,13.0,13.25,19.0,16.5,12.0,2.5,16.25,14.25,9.0,4.25,23.0,18.5,18.0,20.5,19.25,18.0,18.0,20.5,20.0,14.5,13.0,17.0,19.75,13.75,12.25,19.0,22.0,13.5,9.0,13.0,17.0,12.0,8.25,15.5,17.0,16.0,12.0,13.0,17.0,14.25,10.5,13.75,20.0,20.0,20.0,20.0,20.75,20.0,20.0,19.25,23.0,24.5,23.0,21.5,22.75,23.75,22.25,21.25,25.0,29.0,31.0,33.0,35.5,30.25,31.0,34.25,37.0,31.0,27.0,22.5,18.0,29.25,25.5,20.25,18.0,30.5,28.0,21.0,16.25,29.5,25.0,19.0,17.0,16.5,15.0,15.0,12.5,15.75,15.75,13.5,14.0,28.5,28.0,26.0,26.25,28.0,28.0,26.0,27.0,26.0,25.0,22.0,21.0,25.75,24.25,21.0,21.0,12.5,9.0,8.0,18.5,10.5,7.5,14.0,23.0],\"z\":[0.33,0.33,0.33,0.33,0.33,0.33,0.33,0.33,0.33,0.33,0.33,0.33,0.33,0.33,0.33,0.33,0.33,0.33,0.33,0.33,0.33,0.33,0.33,0.33,0.33,0.33,0.33,0.33,0.33,0.33,0.33,0.33,0.33,0.33,0.33,0.33,0.33,0.33,0.33,0.33,0.33,0.33,0.33,0.33,0.33,0.33,0.33,0.33,0.33,0.33,0.33,0.33,0.33,0.33,0.33,0.42,0.0,0.0,0.0,0.0,0.0,0.42,0.42,0.42,0.42,0.42,0.42,0.42,0.42,0.42,0.0,0.0,0.0,0.0,0.42,0.42,0.42,0.42,0.42,0.42,0.42,0.42,0.42,0.42,2.5,2.5,2.5,2.5,2.5,2.5,2.5,2.5,2.5,2.5,2.5,2.5,2.5,2.5,2.5,2.5,2.5,2.5,2.5,2.5,2.5,2.5,2.5,2.5,2.5,2.5,2.5,2.5,0.63,0.63,0.63,0.63,0.63,0.63,0.63,0.63,1.67,1.67,1.67,1.67,1.67,1.67,1.67,1.67,0.63,0.63,0.63,0.63,0.63,0.63,0.63,0.63,1.88,1.88,1.88,1.88,1.88,1.88,1.88,1.88,0.63,0.63,0.63,0.63,0.63,0.63,0.63,0.63,0.42,0.42,0.42,0.42,0.42,0.42,0.42,0.42,0.42,0.42,0.42,0.42,0.42,0.42,0.42,0.42,0.44,0.44,0.44,0.0,0.44,0.44,0.44,0.0,0.0,0.0,0.0,0.0,0.0,0.0,0.0,0.0,0.0,0.0,0.0,0.0,0.0,0.0,0.0,0.0,0.42,0.42,0.0,0.0,0.42,0.0,0.0,0.0,0.0,0.0,0.0,0.0,0.0,0.0,0.0,0.0,2.92,2.92,2.92,2.92,2.92,2.92,2.92,2.92,0.83,0.83,0.83,0.0,0.83,0.83,0.83,0.0,0.21,0.21,0.21,0.21,0.21,0.21,0.21,0.21,0.39,0.39,0.39,0.0,0.39,0.39,0.39,0.0,1.88,1.88,1.88,1.88,1.88,1.88,1.88,1.88,5.83,5.83,5.83,5.83,5.83,5.83,5.83,5.83,2.5,2.5,2.5,2.5,2.5,2.5,2.5,2.5,3.33,3.33,3.33,3.33,3.33,3.33,3.33,3.33,1.04,1.04,1.04,1.04,1.04,1.04,1.04,1.04,0.0,0.0,0.83,0.83,0.0,0.0,0.83,0.83,0.63,0.63,0.63,0.63,0.63,0.63,0.63,0.63,0.42,0.42,0.42,0.42,0.42,0.42,0.42,0.42,0.25,0.25,0.25,0.25,0.25,0.25,0.25,0.25,0.83,0.83,0.83,0.83,0.83,0.83,0.83,0.83],\"type\":\"scatter3d\"}],                        {\"template\":{\"data\":{\"bar\":[{\"error_x\":{\"color\":\"#2a3f5f\"},\"error_y\":{\"color\":\"#2a3f5f\"},\"marker\":{\"line\":{\"color\":\"#E5ECF6\",\"width\":0.5},\"pattern\":{\"fillmode\":\"overlay\",\"size\":10,\"solidity\":0.2}},\"type\":\"bar\"}],\"barpolar\":[{\"marker\":{\"line\":{\"color\":\"#E5ECF6\",\"width\":0.5},\"pattern\":{\"fillmode\":\"overlay\",\"size\":10,\"solidity\":0.2}},\"type\":\"barpolar\"}],\"carpet\":[{\"aaxis\":{\"endlinecolor\":\"#2a3f5f\",\"gridcolor\":\"white\",\"linecolor\":\"white\",\"minorgridcolor\":\"white\",\"startlinecolor\":\"#2a3f5f\"},\"baxis\":{\"endlinecolor\":\"#2a3f5f\",\"gridcolor\":\"white\",\"linecolor\":\"white\",\"minorgridcolor\":\"white\",\"startlinecolor\":\"#2a3f5f\"},\"type\":\"carpet\"}],\"choropleth\":[{\"colorbar\":{\"outlinewidth\":0,\"ticks\":\"\"},\"type\":\"choropleth\"}],\"contour\":[{\"colorbar\":{\"outlinewidth\":0,\"ticks\":\"\"},\"colorscale\":[[0.0,\"#0d0887\"],[0.1111111111111111,\"#46039f\"],[0.2222222222222222,\"#7201a8\"],[0.3333333333333333,\"#9c179e\"],[0.4444444444444444,\"#bd3786\"],[0.5555555555555556,\"#d8576b\"],[0.6666666666666666,\"#ed7953\"],[0.7777777777777778,\"#fb9f3a\"],[0.8888888888888888,\"#fdca26\"],[1.0,\"#f0f921\"]],\"type\":\"contour\"}],\"contourcarpet\":[{\"colorbar\":{\"outlinewidth\":0,\"ticks\":\"\"},\"type\":\"contourcarpet\"}],\"heatmap\":[{\"colorbar\":{\"outlinewidth\":0,\"ticks\":\"\"},\"colorscale\":[[0.0,\"#0d0887\"],[0.1111111111111111,\"#46039f\"],[0.2222222222222222,\"#7201a8\"],[0.3333333333333333,\"#9c179e\"],[0.4444444444444444,\"#bd3786\"],[0.5555555555555556,\"#d8576b\"],[0.6666666666666666,\"#ed7953\"],[0.7777777777777778,\"#fb9f3a\"],[0.8888888888888888,\"#fdca26\"],[1.0,\"#f0f921\"]],\"type\":\"heatmap\"}],\"heatmapgl\":[{\"colorbar\":{\"outlinewidth\":0,\"ticks\":\"\"},\"colorscale\":[[0.0,\"#0d0887\"],[0.1111111111111111,\"#46039f\"],[0.2222222222222222,\"#7201a8\"],[0.3333333333333333,\"#9c179e\"],[0.4444444444444444,\"#bd3786\"],[0.5555555555555556,\"#d8576b\"],[0.6666666666666666,\"#ed7953\"],[0.7777777777777778,\"#fb9f3a\"],[0.8888888888888888,\"#fdca26\"],[1.0,\"#f0f921\"]],\"type\":\"heatmapgl\"}],\"histogram\":[{\"marker\":{\"pattern\":{\"fillmode\":\"overlay\",\"size\":10,\"solidity\":0.2}},\"type\":\"histogram\"}],\"histogram2d\":[{\"colorbar\":{\"outlinewidth\":0,\"ticks\":\"\"},\"colorscale\":[[0.0,\"#0d0887\"],[0.1111111111111111,\"#46039f\"],[0.2222222222222222,\"#7201a8\"],[0.3333333333333333,\"#9c179e\"],[0.4444444444444444,\"#bd3786\"],[0.5555555555555556,\"#d8576b\"],[0.6666666666666666,\"#ed7953\"],[0.7777777777777778,\"#fb9f3a\"],[0.8888888888888888,\"#fdca26\"],[1.0,\"#f0f921\"]],\"type\":\"histogram2d\"}],\"histogram2dcontour\":[{\"colorbar\":{\"outlinewidth\":0,\"ticks\":\"\"},\"colorscale\":[[0.0,\"#0d0887\"],[0.1111111111111111,\"#46039f\"],[0.2222222222222222,\"#7201a8\"],[0.3333333333333333,\"#9c179e\"],[0.4444444444444444,\"#bd3786\"],[0.5555555555555556,\"#d8576b\"],[0.6666666666666666,\"#ed7953\"],[0.7777777777777778,\"#fb9f3a\"],[0.8888888888888888,\"#fdca26\"],[1.0,\"#f0f921\"]],\"type\":\"histogram2dcontour\"}],\"mesh3d\":[{\"colorbar\":{\"outlinewidth\":0,\"ticks\":\"\"},\"type\":\"mesh3d\"}],\"parcoords\":[{\"line\":{\"colorbar\":{\"outlinewidth\":0,\"ticks\":\"\"}},\"type\":\"parcoords\"}],\"pie\":[{\"automargin\":true,\"type\":\"pie\"}],\"scatter\":[{\"marker\":{\"colorbar\":{\"outlinewidth\":0,\"ticks\":\"\"}},\"type\":\"scatter\"}],\"scatter3d\":[{\"line\":{\"colorbar\":{\"outlinewidth\":0,\"ticks\":\"\"}},\"marker\":{\"colorbar\":{\"outlinewidth\":0,\"ticks\":\"\"}},\"type\":\"scatter3d\"}],\"scattercarpet\":[{\"marker\":{\"colorbar\":{\"outlinewidth\":0,\"ticks\":\"\"}},\"type\":\"scattercarpet\"}],\"scattergeo\":[{\"marker\":{\"colorbar\":{\"outlinewidth\":0,\"ticks\":\"\"}},\"type\":\"scattergeo\"}],\"scattergl\":[{\"marker\":{\"colorbar\":{\"outlinewidth\":0,\"ticks\":\"\"}},\"type\":\"scattergl\"}],\"scattermapbox\":[{\"marker\":{\"colorbar\":{\"outlinewidth\":0,\"ticks\":\"\"}},\"type\":\"scattermapbox\"}],\"scatterpolar\":[{\"marker\":{\"colorbar\":{\"outlinewidth\":0,\"ticks\":\"\"}},\"type\":\"scatterpolar\"}],\"scatterpolargl\":[{\"marker\":{\"colorbar\":{\"outlinewidth\":0,\"ticks\":\"\"}},\"type\":\"scatterpolargl\"}],\"scatterternary\":[{\"marker\":{\"colorbar\":{\"outlinewidth\":0,\"ticks\":\"\"}},\"type\":\"scatterternary\"}],\"surface\":[{\"colorbar\":{\"outlinewidth\":0,\"ticks\":\"\"},\"colorscale\":[[0.0,\"#0d0887\"],[0.1111111111111111,\"#46039f\"],[0.2222222222222222,\"#7201a8\"],[0.3333333333333333,\"#9c179e\"],[0.4444444444444444,\"#bd3786\"],[0.5555555555555556,\"#d8576b\"],[0.6666666666666666,\"#ed7953\"],[0.7777777777777778,\"#fb9f3a\"],[0.8888888888888888,\"#fdca26\"],[1.0,\"#f0f921\"]],\"type\":\"surface\"}],\"table\":[{\"cells\":{\"fill\":{\"color\":\"#EBF0F8\"},\"line\":{\"color\":\"white\"}},\"header\":{\"fill\":{\"color\":\"#C8D4E3\"},\"line\":{\"color\":\"white\"}},\"type\":\"table\"}]},\"layout\":{\"annotationdefaults\":{\"arrowcolor\":\"#2a3f5f\",\"arrowhead\":0,\"arrowwidth\":1},\"autotypenumbers\":\"strict\",\"coloraxis\":{\"colorbar\":{\"outlinewidth\":0,\"ticks\":\"\"}},\"colorscale\":{\"diverging\":[[0,\"#8e0152\"],[0.1,\"#c51b7d\"],[0.2,\"#de77ae\"],[0.3,\"#f1b6da\"],[0.4,\"#fde0ef\"],[0.5,\"#f7f7f7\"],[0.6,\"#e6f5d0\"],[0.7,\"#b8e186\"],[0.8,\"#7fbc41\"],[0.9,\"#4d9221\"],[1,\"#276419\"]],\"sequential\":[[0.0,\"#0d0887\"],[0.1111111111111111,\"#46039f\"],[0.2222222222222222,\"#7201a8\"],[0.3333333333333333,\"#9c179e\"],[0.4444444444444444,\"#bd3786\"],[0.5555555555555556,\"#d8576b\"],[0.6666666666666666,\"#ed7953\"],[0.7777777777777778,\"#fb9f3a\"],[0.8888888888888888,\"#fdca26\"],[1.0,\"#f0f921\"]],\"sequentialminus\":[[0.0,\"#0d0887\"],[0.1111111111111111,\"#46039f\"],[0.2222222222222222,\"#7201a8\"],[0.3333333333333333,\"#9c179e\"],[0.4444444444444444,\"#bd3786\"],[0.5555555555555556,\"#d8576b\"],[0.6666666666666666,\"#ed7953\"],[0.7777777777777778,\"#fb9f3a\"],[0.8888888888888888,\"#fdca26\"],[1.0,\"#f0f921\"]]},\"colorway\":[\"#636efa\",\"#EF553B\",\"#00cc96\",\"#ab63fa\",\"#FFA15A\",\"#19d3f3\",\"#FF6692\",\"#B6E880\",\"#FF97FF\",\"#FECB52\"],\"font\":{\"color\":\"#2a3f5f\"},\"geo\":{\"bgcolor\":\"white\",\"lakecolor\":\"white\",\"landcolor\":\"#E5ECF6\",\"showlakes\":true,\"showland\":true,\"subunitcolor\":\"white\"},\"hoverlabel\":{\"align\":\"left\"},\"hovermode\":\"closest\",\"mapbox\":{\"style\":\"light\"},\"paper_bgcolor\":\"white\",\"plot_bgcolor\":\"#E5ECF6\",\"polar\":{\"angularaxis\":{\"gridcolor\":\"white\",\"linecolor\":\"white\",\"ticks\":\"\"},\"bgcolor\":\"#E5ECF6\",\"radialaxis\":{\"gridcolor\":\"white\",\"linecolor\":\"white\",\"ticks\":\"\"}},\"scene\":{\"xaxis\":{\"backgroundcolor\":\"#E5ECF6\",\"gridcolor\":\"white\",\"gridwidth\":2,\"linecolor\":\"white\",\"showbackground\":true,\"ticks\":\"\",\"zerolinecolor\":\"white\"},\"yaxis\":{\"backgroundcolor\":\"#E5ECF6\",\"gridcolor\":\"white\",\"gridwidth\":2,\"linecolor\":\"white\",\"showbackground\":true,\"ticks\":\"\",\"zerolinecolor\":\"white\"},\"zaxis\":{\"backgroundcolor\":\"#E5ECF6\",\"gridcolor\":\"white\",\"gridwidth\":2,\"linecolor\":\"white\",\"showbackground\":true,\"ticks\":\"\",\"zerolinecolor\":\"white\"}},\"shapedefaults\":{\"line\":{\"color\":\"#2a3f5f\"}},\"ternary\":{\"aaxis\":{\"gridcolor\":\"white\",\"linecolor\":\"white\",\"ticks\":\"\"},\"baxis\":{\"gridcolor\":\"white\",\"linecolor\":\"white\",\"ticks\":\"\"},\"bgcolor\":\"#E5ECF6\",\"caxis\":{\"gridcolor\":\"white\",\"linecolor\":\"white\",\"ticks\":\"\"}},\"title\":{\"x\":0.05},\"xaxis\":{\"automargin\":true,\"gridcolor\":\"white\",\"linecolor\":\"white\",\"ticks\":\"\",\"title\":{\"standoff\":15},\"zerolinecolor\":\"white\",\"zerolinewidth\":2},\"yaxis\":{\"automargin\":true,\"gridcolor\":\"white\",\"linecolor\":\"white\",\"ticks\":\"\",\"title\":{\"standoff\":15},\"zerolinecolor\":\"white\",\"zerolinewidth\":2}}},\"scene\":{\"domain\":{\"x\":[0.0,1.0],\"y\":[0.0,1.0]},\"xaxis\":{\"title\":{\"text\":\"Altura da Mar\\u00e9 (m)\"}},\"yaxis\":{\"title\":{\"text\":\"Velocidade do Vento (Km/h)\"}},\"zaxis\":{\"title\":{\"text\":\"Chuva (mm)\"}}},\"coloraxis\":{\"colorbar\":{\"title\":{\"text\":\"Cluster\"}},\"colorscale\":[[0.0,\"#0d0887\"],[0.1111111111111111,\"#46039f\"],[0.2222222222222222,\"#7201a8\"],[0.3333333333333333,\"#9c179e\"],[0.4444444444444444,\"#bd3786\"],[0.5555555555555556,\"#d8576b\"],[0.6666666666666666,\"#ed7953\"],[0.7777777777777778,\"#fb9f3a\"],[0.8888888888888888,\"#fdca26\"],[1.0,\"#f0f921\"]]},\"legend\":{\"tracegroupgap\":0},\"title\":{\"text\":\"3d scatter clusters\"},\"height\":600,\"width\":1100},                        {\"responsive\": true}                    ).then(function(){\n",
              "                            \n",
              "var gd = document.getElementById('eedd8588-853f-45ba-8171-f893a51f51ce');\n",
              "var x = new MutationObserver(function (mutations, observer) {{\n",
              "        var display = window.getComputedStyle(gd).display;\n",
              "        if (!display || display === 'none') {{\n",
              "            console.log([gd, 'removed!']);\n",
              "            Plotly.purge(gd);\n",
              "            observer.disconnect();\n",
              "        }}\n",
              "}});\n",
              "\n",
              "// Listen for the removal of the full notebook cells\n",
              "var notebookContainer = gd.closest('#notebook-container');\n",
              "if (notebookContainer) {{\n",
              "    x.observe(notebookContainer, {childList: true});\n",
              "}}\n",
              "\n",
              "// Listen for the clearing of the current output cell\n",
              "var outputEl = gd.closest('.output');\n",
              "if (outputEl) {{\n",
              "    x.observe(outputEl, {childList: true});\n",
              "}}\n",
              "\n",
              "                        })                };                            </script>        </div>\n",
              "</body>\n",
              "</html>"
            ]
          },
          "metadata": {}
        }
      ]
    },
    {
      "cell_type": "markdown",
      "source": [
        "#### Métricas de Avaliação"
      ],
      "metadata": {
        "id": "gQ6fIGQ_2u10"
      }
    },
    {
      "cell_type": "code",
      "source": [
        "val_analises_df = pd.DataFrame(valores_analise)"
      ],
      "metadata": {
        "id": "usg6B976jwfB"
      },
      "execution_count": 1028,
      "outputs": []
    },
    {
      "cell_type": "markdown",
      "source": [
        "O Coeficiente de Silhueta é calculado usando a distância média intra-cluster ($a$) e a distância média do cluster mais próximo ($b$) para cada amostra. O coeficiente de silhueta para uma amostra é $\\frac{(b - a)}{max(a, b)}$. Para esclarecer, $b$ é a distância entre uma amostra e o cluster mais próximo do qual a amostra não faz parte. Observe que o Coeficiente de Silhueta só é definido se o número de rótulos for $2 <= n_{labels} <= n_{samples} - 1$.\n",
        "\n",
        "Esta função retorna o Coeficiente de Silhueta médio de todas as amostras. \n",
        "\n",
        "O melhor valor é $1$ e o pior valor é $-1$. Valores próximos a $0$ indicam clusters sobrepostos. Valores negativos geralmente indicam que uma amostra foi atribuída ao cluster errado, pois um cluster diferente é mais semelhante."
      ],
      "metadata": {
        "id": "yRHuBNd5fPgo"
      }
    },
    {
      "cell_type": "code",
      "source": [
        "show_silhouette(val_analises_df, [0.3, 0.4])"
      ],
      "metadata": {
        "colab": {
          "base_uri": "https://localhost:8080/",
          "height": 0
        },
        "id": "CdoHsxpKjzYT",
        "outputId": "f3924088-fec7-480b-afe4-3e4247ecbd66"
      },
      "execution_count": 1029,
      "outputs": [
        {
          "output_type": "display_data",
          "data": {
            "text/html": [
              "<html>\n",
              "<head><meta charset=\"utf-8\" /></head>\n",
              "<body>\n",
              "    <div>            <script src=\"https://cdnjs.cloudflare.com/ajax/libs/mathjax/2.7.5/MathJax.js?config=TeX-AMS-MML_SVG\"></script><script type=\"text/javascript\">if (window.MathJax) {MathJax.Hub.Config({SVG: {font: \"STIX-Web\"}});}</script>                <script type=\"text/javascript\">window.PlotlyConfig = {MathJaxConfig: 'local'};</script>\n",
              "        <script src=\"https://cdn.plot.ly/plotly-2.8.3.min.js\"></script>                <div id=\"6f5bffb8-2893-442e-abb1-e60e287dd6e6\" class=\"plotly-graph-div\" style=\"height:600px; width:800px;\"></div>            <script type=\"text/javascript\">                                    window.PLOTLYENV=window.PLOTLYENV || {};                                    if (document.getElementById(\"6f5bffb8-2893-442e-abb1-e60e287dd6e6\")) {                    Plotly.newPlot(                        \"6f5bffb8-2893-442e-abb1-e60e287dd6e6\",                        [{\"alignmentgroup\":\"True\",\"hovertemplate\":\"variation=%{x}<br>silhouette=%{text}<extra></extra>\",\"legendgroup\":\"A1\",\"marker\":{\"color\":\"#636efa\",\"pattern\":{\"shape\":\"\"}},\"name\":\"A1\",\"offsetgroup\":\"A1\",\"orientation\":\"v\",\"showlegend\":true,\"text\":[0.33755921715609827],\"textposition\":\"outside\",\"x\":[\"A1\"],\"xaxis\":\"x\",\"y\":[0.33755921715609827],\"yaxis\":\"y\",\"type\":\"bar\",\"textfont\":{\"size\":12},\"cliponaxis\":false,\"textangle\":0},{\"alignmentgroup\":\"True\",\"hovertemplate\":\"variation=%{x}<br>silhouette=%{text}<extra></extra>\",\"legendgroup\":\"A2\",\"marker\":{\"color\":\"#EF553B\",\"pattern\":{\"shape\":\"\"}},\"name\":\"A2\",\"offsetgroup\":\"A2\",\"orientation\":\"v\",\"showlegend\":true,\"text\":[0.3349098298279155],\"textposition\":\"outside\",\"x\":[\"A2\"],\"xaxis\":\"x\",\"y\":[0.3349098298279155],\"yaxis\":\"y\",\"type\":\"bar\",\"textfont\":{\"size\":12},\"cliponaxis\":false,\"textangle\":0},{\"alignmentgroup\":\"True\",\"hovertemplate\":\"variation=%{x}<br>silhouette=%{text}<extra></extra>\",\"legendgroup\":\"B1\",\"marker\":{\"color\":\"#00cc96\",\"pattern\":{\"shape\":\"\"}},\"name\":\"B1\",\"offsetgroup\":\"B1\",\"orientation\":\"v\",\"showlegend\":true,\"text\":[0.33568592582362833],\"textposition\":\"outside\",\"x\":[\"B1\"],\"xaxis\":\"x\",\"y\":[0.33568592582362833],\"yaxis\":\"y\",\"type\":\"bar\",\"textfont\":{\"size\":12},\"cliponaxis\":false,\"textangle\":0},{\"alignmentgroup\":\"True\",\"hovertemplate\":\"variation=%{x}<br>silhouette=%{text}<extra></extra>\",\"legendgroup\":\"B2\",\"marker\":{\"color\":\"#ab63fa\",\"pattern\":{\"shape\":\"\"}},\"name\":\"B2\",\"offsetgroup\":\"B2\",\"orientation\":\"v\",\"showlegend\":true,\"text\":[0.33285821341644256],\"textposition\":\"outside\",\"x\":[\"B2\"],\"xaxis\":\"x\",\"y\":[0.33285821341644256],\"yaxis\":\"y\",\"type\":\"bar\",\"textfont\":{\"size\":12},\"cliponaxis\":false,\"textangle\":0}],                        {\"template\":{\"data\":{\"bar\":[{\"error_x\":{\"color\":\"#2a3f5f\"},\"error_y\":{\"color\":\"#2a3f5f\"},\"marker\":{\"line\":{\"color\":\"#E5ECF6\",\"width\":0.5},\"pattern\":{\"fillmode\":\"overlay\",\"size\":10,\"solidity\":0.2}},\"type\":\"bar\"}],\"barpolar\":[{\"marker\":{\"line\":{\"color\":\"#E5ECF6\",\"width\":0.5},\"pattern\":{\"fillmode\":\"overlay\",\"size\":10,\"solidity\":0.2}},\"type\":\"barpolar\"}],\"carpet\":[{\"aaxis\":{\"endlinecolor\":\"#2a3f5f\",\"gridcolor\":\"white\",\"linecolor\":\"white\",\"minorgridcolor\":\"white\",\"startlinecolor\":\"#2a3f5f\"},\"baxis\":{\"endlinecolor\":\"#2a3f5f\",\"gridcolor\":\"white\",\"linecolor\":\"white\",\"minorgridcolor\":\"white\",\"startlinecolor\":\"#2a3f5f\"},\"type\":\"carpet\"}],\"choropleth\":[{\"colorbar\":{\"outlinewidth\":0,\"ticks\":\"\"},\"type\":\"choropleth\"}],\"contour\":[{\"colorbar\":{\"outlinewidth\":0,\"ticks\":\"\"},\"colorscale\":[[0.0,\"#0d0887\"],[0.1111111111111111,\"#46039f\"],[0.2222222222222222,\"#7201a8\"],[0.3333333333333333,\"#9c179e\"],[0.4444444444444444,\"#bd3786\"],[0.5555555555555556,\"#d8576b\"],[0.6666666666666666,\"#ed7953\"],[0.7777777777777778,\"#fb9f3a\"],[0.8888888888888888,\"#fdca26\"],[1.0,\"#f0f921\"]],\"type\":\"contour\"}],\"contourcarpet\":[{\"colorbar\":{\"outlinewidth\":0,\"ticks\":\"\"},\"type\":\"contourcarpet\"}],\"heatmap\":[{\"colorbar\":{\"outlinewidth\":0,\"ticks\":\"\"},\"colorscale\":[[0.0,\"#0d0887\"],[0.1111111111111111,\"#46039f\"],[0.2222222222222222,\"#7201a8\"],[0.3333333333333333,\"#9c179e\"],[0.4444444444444444,\"#bd3786\"],[0.5555555555555556,\"#d8576b\"],[0.6666666666666666,\"#ed7953\"],[0.7777777777777778,\"#fb9f3a\"],[0.8888888888888888,\"#fdca26\"],[1.0,\"#f0f921\"]],\"type\":\"heatmap\"}],\"heatmapgl\":[{\"colorbar\":{\"outlinewidth\":0,\"ticks\":\"\"},\"colorscale\":[[0.0,\"#0d0887\"],[0.1111111111111111,\"#46039f\"],[0.2222222222222222,\"#7201a8\"],[0.3333333333333333,\"#9c179e\"],[0.4444444444444444,\"#bd3786\"],[0.5555555555555556,\"#d8576b\"],[0.6666666666666666,\"#ed7953\"],[0.7777777777777778,\"#fb9f3a\"],[0.8888888888888888,\"#fdca26\"],[1.0,\"#f0f921\"]],\"type\":\"heatmapgl\"}],\"histogram\":[{\"marker\":{\"pattern\":{\"fillmode\":\"overlay\",\"size\":10,\"solidity\":0.2}},\"type\":\"histogram\"}],\"histogram2d\":[{\"colorbar\":{\"outlinewidth\":0,\"ticks\":\"\"},\"colorscale\":[[0.0,\"#0d0887\"],[0.1111111111111111,\"#46039f\"],[0.2222222222222222,\"#7201a8\"],[0.3333333333333333,\"#9c179e\"],[0.4444444444444444,\"#bd3786\"],[0.5555555555555556,\"#d8576b\"],[0.6666666666666666,\"#ed7953\"],[0.7777777777777778,\"#fb9f3a\"],[0.8888888888888888,\"#fdca26\"],[1.0,\"#f0f921\"]],\"type\":\"histogram2d\"}],\"histogram2dcontour\":[{\"colorbar\":{\"outlinewidth\":0,\"ticks\":\"\"},\"colorscale\":[[0.0,\"#0d0887\"],[0.1111111111111111,\"#46039f\"],[0.2222222222222222,\"#7201a8\"],[0.3333333333333333,\"#9c179e\"],[0.4444444444444444,\"#bd3786\"],[0.5555555555555556,\"#d8576b\"],[0.6666666666666666,\"#ed7953\"],[0.7777777777777778,\"#fb9f3a\"],[0.8888888888888888,\"#fdca26\"],[1.0,\"#f0f921\"]],\"type\":\"histogram2dcontour\"}],\"mesh3d\":[{\"colorbar\":{\"outlinewidth\":0,\"ticks\":\"\"},\"type\":\"mesh3d\"}],\"parcoords\":[{\"line\":{\"colorbar\":{\"outlinewidth\":0,\"ticks\":\"\"}},\"type\":\"parcoords\"}],\"pie\":[{\"automargin\":true,\"type\":\"pie\"}],\"scatter\":[{\"marker\":{\"colorbar\":{\"outlinewidth\":0,\"ticks\":\"\"}},\"type\":\"scatter\"}],\"scatter3d\":[{\"line\":{\"colorbar\":{\"outlinewidth\":0,\"ticks\":\"\"}},\"marker\":{\"colorbar\":{\"outlinewidth\":0,\"ticks\":\"\"}},\"type\":\"scatter3d\"}],\"scattercarpet\":[{\"marker\":{\"colorbar\":{\"outlinewidth\":0,\"ticks\":\"\"}},\"type\":\"scattercarpet\"}],\"scattergeo\":[{\"marker\":{\"colorbar\":{\"outlinewidth\":0,\"ticks\":\"\"}},\"type\":\"scattergeo\"}],\"scattergl\":[{\"marker\":{\"colorbar\":{\"outlinewidth\":0,\"ticks\":\"\"}},\"type\":\"scattergl\"}],\"scattermapbox\":[{\"marker\":{\"colorbar\":{\"outlinewidth\":0,\"ticks\":\"\"}},\"type\":\"scattermapbox\"}],\"scatterpolar\":[{\"marker\":{\"colorbar\":{\"outlinewidth\":0,\"ticks\":\"\"}},\"type\":\"scatterpolar\"}],\"scatterpolargl\":[{\"marker\":{\"colorbar\":{\"outlinewidth\":0,\"ticks\":\"\"}},\"type\":\"scatterpolargl\"}],\"scatterternary\":[{\"marker\":{\"colorbar\":{\"outlinewidth\":0,\"ticks\":\"\"}},\"type\":\"scatterternary\"}],\"surface\":[{\"colorbar\":{\"outlinewidth\":0,\"ticks\":\"\"},\"colorscale\":[[0.0,\"#0d0887\"],[0.1111111111111111,\"#46039f\"],[0.2222222222222222,\"#7201a8\"],[0.3333333333333333,\"#9c179e\"],[0.4444444444444444,\"#bd3786\"],[0.5555555555555556,\"#d8576b\"],[0.6666666666666666,\"#ed7953\"],[0.7777777777777778,\"#fb9f3a\"],[0.8888888888888888,\"#fdca26\"],[1.0,\"#f0f921\"]],\"type\":\"surface\"}],\"table\":[{\"cells\":{\"fill\":{\"color\":\"#EBF0F8\"},\"line\":{\"color\":\"white\"}},\"header\":{\"fill\":{\"color\":\"#C8D4E3\"},\"line\":{\"color\":\"white\"}},\"type\":\"table\"}]},\"layout\":{\"annotationdefaults\":{\"arrowcolor\":\"#2a3f5f\",\"arrowhead\":0,\"arrowwidth\":1},\"autotypenumbers\":\"strict\",\"coloraxis\":{\"colorbar\":{\"outlinewidth\":0,\"ticks\":\"\"}},\"colorscale\":{\"diverging\":[[0,\"#8e0152\"],[0.1,\"#c51b7d\"],[0.2,\"#de77ae\"],[0.3,\"#f1b6da\"],[0.4,\"#fde0ef\"],[0.5,\"#f7f7f7\"],[0.6,\"#e6f5d0\"],[0.7,\"#b8e186\"],[0.8,\"#7fbc41\"],[0.9,\"#4d9221\"],[1,\"#276419\"]],\"sequential\":[[0.0,\"#0d0887\"],[0.1111111111111111,\"#46039f\"],[0.2222222222222222,\"#7201a8\"],[0.3333333333333333,\"#9c179e\"],[0.4444444444444444,\"#bd3786\"],[0.5555555555555556,\"#d8576b\"],[0.6666666666666666,\"#ed7953\"],[0.7777777777777778,\"#fb9f3a\"],[0.8888888888888888,\"#fdca26\"],[1.0,\"#f0f921\"]],\"sequentialminus\":[[0.0,\"#0d0887\"],[0.1111111111111111,\"#46039f\"],[0.2222222222222222,\"#7201a8\"],[0.3333333333333333,\"#9c179e\"],[0.4444444444444444,\"#bd3786\"],[0.5555555555555556,\"#d8576b\"],[0.6666666666666666,\"#ed7953\"],[0.7777777777777778,\"#fb9f3a\"],[0.8888888888888888,\"#fdca26\"],[1.0,\"#f0f921\"]]},\"colorway\":[\"#636efa\",\"#EF553B\",\"#00cc96\",\"#ab63fa\",\"#FFA15A\",\"#19d3f3\",\"#FF6692\",\"#B6E880\",\"#FF97FF\",\"#FECB52\"],\"font\":{\"color\":\"#2a3f5f\"},\"geo\":{\"bgcolor\":\"white\",\"lakecolor\":\"white\",\"landcolor\":\"#E5ECF6\",\"showlakes\":true,\"showland\":true,\"subunitcolor\":\"white\"},\"hoverlabel\":{\"align\":\"left\"},\"hovermode\":\"closest\",\"mapbox\":{\"style\":\"light\"},\"paper_bgcolor\":\"white\",\"plot_bgcolor\":\"#E5ECF6\",\"polar\":{\"angularaxis\":{\"gridcolor\":\"white\",\"linecolor\":\"white\",\"ticks\":\"\"},\"bgcolor\":\"#E5ECF6\",\"radialaxis\":{\"gridcolor\":\"white\",\"linecolor\":\"white\",\"ticks\":\"\"}},\"scene\":{\"xaxis\":{\"backgroundcolor\":\"#E5ECF6\",\"gridcolor\":\"white\",\"gridwidth\":2,\"linecolor\":\"white\",\"showbackground\":true,\"ticks\":\"\",\"zerolinecolor\":\"white\"},\"yaxis\":{\"backgroundcolor\":\"#E5ECF6\",\"gridcolor\":\"white\",\"gridwidth\":2,\"linecolor\":\"white\",\"showbackground\":true,\"ticks\":\"\",\"zerolinecolor\":\"white\"},\"zaxis\":{\"backgroundcolor\":\"#E5ECF6\",\"gridcolor\":\"white\",\"gridwidth\":2,\"linecolor\":\"white\",\"showbackground\":true,\"ticks\":\"\",\"zerolinecolor\":\"white\"}},\"shapedefaults\":{\"line\":{\"color\":\"#2a3f5f\"}},\"ternary\":{\"aaxis\":{\"gridcolor\":\"white\",\"linecolor\":\"white\",\"ticks\":\"\"},\"baxis\":{\"gridcolor\":\"white\",\"linecolor\":\"white\",\"ticks\":\"\"},\"bgcolor\":\"#E5ECF6\",\"caxis\":{\"gridcolor\":\"white\",\"linecolor\":\"white\",\"ticks\":\"\"}},\"title\":{\"x\":0.05},\"xaxis\":{\"automargin\":true,\"gridcolor\":\"white\",\"linecolor\":\"white\",\"ticks\":\"\",\"title\":{\"standoff\":15},\"zerolinecolor\":\"white\",\"zerolinewidth\":2},\"yaxis\":{\"automargin\":true,\"gridcolor\":\"white\",\"linecolor\":\"white\",\"ticks\":\"\",\"title\":{\"standoff\":15},\"zerolinecolor\":\"white\",\"zerolinewidth\":2}}},\"xaxis\":{\"anchor\":\"y\",\"domain\":[0.0,1.0],\"title\":{\"text\":\"variation\"},\"categoryorder\":\"array\",\"categoryarray\":[\"A1\",\"A2\",\"B1\",\"B2\"]},\"yaxis\":{\"anchor\":\"x\",\"domain\":[0.0,1.0],\"title\":{\"text\":\"silhouette\"},\"range\":[0.3,0.4]},\"legend\":{\"title\":{\"text\":\"variation\"},\"tracegroupgap\":0},\"title\":{\"text\":\"Silhouette values\"},\"barmode\":\"relative\",\"height\":600,\"width\":800},                        {\"responsive\": true}                    ).then(function(){\n",
              "                            \n",
              "var gd = document.getElementById('6f5bffb8-2893-442e-abb1-e60e287dd6e6');\n",
              "var x = new MutationObserver(function (mutations, observer) {{\n",
              "        var display = window.getComputedStyle(gd).display;\n",
              "        if (!display || display === 'none') {{\n",
              "            console.log([gd, 'removed!']);\n",
              "            Plotly.purge(gd);\n",
              "            observer.disconnect();\n",
              "        }}\n",
              "}});\n",
              "\n",
              "// Listen for the removal of the full notebook cells\n",
              "var notebookContainer = gd.closest('#notebook-container');\n",
              "if (notebookContainer) {{\n",
              "    x.observe(notebookContainer, {childList: true});\n",
              "}}\n",
              "\n",
              "// Listen for the clearing of the current output cell\n",
              "var outputEl = gd.closest('.output');\n",
              "if (outputEl) {{\n",
              "    x.observe(outputEl, {childList: true});\n",
              "}}\n",
              "\n",
              "                        })                };                            </script>        </div>\n",
              "</body>\n",
              "</html>"
            ]
          },
          "metadata": {}
        }
      ]
    },
    {
      "cell_type": "markdown",
      "source": [
        "O índice de Jaccard, ou coeficiente de similaridade de Jaccard, definido como o tamanho da interseção dividido pelo tamanho da união de dois conjuntos de rótulos, é usado para comparar o conjunto de rótulos previstos para uma amostra com o conjunto de rótulos correspondente em y_true .\n",
        "\n",
        "A função `jaccard_score` calcula a média dos coeficientes de similaridade de Jaccard, também chamada de índice de Jaccard, entre pares de conjuntos de rótulos.\n",
        "\n",
        "O coeficiente de similaridade de Jaccard das i-ésimas amostras, com um conjunto de rótulos de verdade $y_i$ e um conjunto de rótulos previstos $\\hat{y}_i$, é definido como\n",
        "$$\n",
        "J(y_i,\\hat{y}_i) = \\frac{ |y_i \\cap \\hat{y}_i| }{ |y_i \\cup \\hat{y}_i| }\n",
        "$$"
      ],
      "metadata": {
        "id": "uldnYRzXhHSp"
      }
    },
    {
      "cell_type": "code",
      "source": [
        "show_jaccard(val_analises_df, [0.2, 0.3])"
      ],
      "metadata": {
        "colab": {
          "base_uri": "https://localhost:8080/",
          "height": 0
        },
        "id": "v_tuzQFwGcmZ",
        "outputId": "dc0ae3fe-7d0a-4036-d897-b82cee92f2c3"
      },
      "execution_count": 1030,
      "outputs": [
        {
          "output_type": "display_data",
          "data": {
            "text/html": [
              "<html>\n",
              "<head><meta charset=\"utf-8\" /></head>\n",
              "<body>\n",
              "    <div>            <script src=\"https://cdnjs.cloudflare.com/ajax/libs/mathjax/2.7.5/MathJax.js?config=TeX-AMS-MML_SVG\"></script><script type=\"text/javascript\">if (window.MathJax) {MathJax.Hub.Config({SVG: {font: \"STIX-Web\"}});}</script>                <script type=\"text/javascript\">window.PlotlyConfig = {MathJaxConfig: 'local'};</script>\n",
              "        <script src=\"https://cdn.plot.ly/plotly-2.8.3.min.js\"></script>                <div id=\"3869a794-c1f9-40e5-a452-65ed7347efdf\" class=\"plotly-graph-div\" style=\"height:600px; width:800px;\"></div>            <script type=\"text/javascript\">                                    window.PLOTLYENV=window.PLOTLYENV || {};                                    if (document.getElementById(\"3869a794-c1f9-40e5-a452-65ed7347efdf\")) {                    Plotly.newPlot(                        \"3869a794-c1f9-40e5-a452-65ed7347efdf\",                        [{\"alignmentgroup\":\"True\",\"hovertemplate\":\"variation=%{x}<br>jaccard=%{text}<extra></extra>\",\"legendgroup\":\"A1\",\"marker\":{\"color\":\"#636efa\",\"pattern\":{\"shape\":\"\"}},\"name\":\"A1\",\"offsetgroup\":\"A1\",\"orientation\":\"v\",\"showlegend\":true,\"text\":[0.27457169381382396],\"textposition\":\"outside\",\"x\":[\"A1\"],\"xaxis\":\"x\",\"y\":[0.27457169381382396],\"yaxis\":\"y\",\"type\":\"bar\",\"textfont\":{\"size\":12},\"cliponaxis\":false,\"textangle\":0},{\"alignmentgroup\":\"True\",\"hovertemplate\":\"variation=%{x}<br>jaccard=%{text}<extra></extra>\",\"legendgroup\":\"A2\",\"marker\":{\"color\":\"#EF553B\",\"pattern\":{\"shape\":\"\"}},\"name\":\"A2\",\"offsetgroup\":\"A2\",\"orientation\":\"v\",\"showlegend\":true,\"text\":[0.2808849224022748],\"textposition\":\"outside\",\"x\":[\"A2\"],\"xaxis\":\"x\",\"y\":[0.2808849224022748],\"yaxis\":\"y\",\"type\":\"bar\",\"textfont\":{\"size\":12},\"cliponaxis\":false,\"textangle\":0},{\"alignmentgroup\":\"True\",\"hovertemplate\":\"variation=%{x}<br>jaccard=%{text}<extra></extra>\",\"legendgroup\":\"B1\",\"marker\":{\"color\":\"#00cc96\",\"pattern\":{\"shape\":\"\"}},\"name\":\"B1\",\"offsetgroup\":\"B1\",\"orientation\":\"v\",\"showlegend\":true,\"text\":[0.27457169381382396],\"textposition\":\"outside\",\"x\":[\"B1\"],\"xaxis\":\"x\",\"y\":[0.27457169381382396],\"yaxis\":\"y\",\"type\":\"bar\",\"textfont\":{\"size\":12},\"cliponaxis\":false,\"textangle\":0},{\"alignmentgroup\":\"True\",\"hovertemplate\":\"variation=%{x}<br>jaccard=%{text}<extra></extra>\",\"legendgroup\":\"B2\",\"marker\":{\"color\":\"#ab63fa\",\"pattern\":{\"shape\":\"\"}},\"name\":\"B2\",\"offsetgroup\":\"B2\",\"orientation\":\"v\",\"showlegend\":true,\"text\":[0.2787768251316754],\"textposition\":\"outside\",\"x\":[\"B2\"],\"xaxis\":\"x\",\"y\":[0.2787768251316754],\"yaxis\":\"y\",\"type\":\"bar\",\"textfont\":{\"size\":12},\"cliponaxis\":false,\"textangle\":0}],                        {\"template\":{\"data\":{\"bar\":[{\"error_x\":{\"color\":\"#2a3f5f\"},\"error_y\":{\"color\":\"#2a3f5f\"},\"marker\":{\"line\":{\"color\":\"#E5ECF6\",\"width\":0.5},\"pattern\":{\"fillmode\":\"overlay\",\"size\":10,\"solidity\":0.2}},\"type\":\"bar\"}],\"barpolar\":[{\"marker\":{\"line\":{\"color\":\"#E5ECF6\",\"width\":0.5},\"pattern\":{\"fillmode\":\"overlay\",\"size\":10,\"solidity\":0.2}},\"type\":\"barpolar\"}],\"carpet\":[{\"aaxis\":{\"endlinecolor\":\"#2a3f5f\",\"gridcolor\":\"white\",\"linecolor\":\"white\",\"minorgridcolor\":\"white\",\"startlinecolor\":\"#2a3f5f\"},\"baxis\":{\"endlinecolor\":\"#2a3f5f\",\"gridcolor\":\"white\",\"linecolor\":\"white\",\"minorgridcolor\":\"white\",\"startlinecolor\":\"#2a3f5f\"},\"type\":\"carpet\"}],\"choropleth\":[{\"colorbar\":{\"outlinewidth\":0,\"ticks\":\"\"},\"type\":\"choropleth\"}],\"contour\":[{\"colorbar\":{\"outlinewidth\":0,\"ticks\":\"\"},\"colorscale\":[[0.0,\"#0d0887\"],[0.1111111111111111,\"#46039f\"],[0.2222222222222222,\"#7201a8\"],[0.3333333333333333,\"#9c179e\"],[0.4444444444444444,\"#bd3786\"],[0.5555555555555556,\"#d8576b\"],[0.6666666666666666,\"#ed7953\"],[0.7777777777777778,\"#fb9f3a\"],[0.8888888888888888,\"#fdca26\"],[1.0,\"#f0f921\"]],\"type\":\"contour\"}],\"contourcarpet\":[{\"colorbar\":{\"outlinewidth\":0,\"ticks\":\"\"},\"type\":\"contourcarpet\"}],\"heatmap\":[{\"colorbar\":{\"outlinewidth\":0,\"ticks\":\"\"},\"colorscale\":[[0.0,\"#0d0887\"],[0.1111111111111111,\"#46039f\"],[0.2222222222222222,\"#7201a8\"],[0.3333333333333333,\"#9c179e\"],[0.4444444444444444,\"#bd3786\"],[0.5555555555555556,\"#d8576b\"],[0.6666666666666666,\"#ed7953\"],[0.7777777777777778,\"#fb9f3a\"],[0.8888888888888888,\"#fdca26\"],[1.0,\"#f0f921\"]],\"type\":\"heatmap\"}],\"heatmapgl\":[{\"colorbar\":{\"outlinewidth\":0,\"ticks\":\"\"},\"colorscale\":[[0.0,\"#0d0887\"],[0.1111111111111111,\"#46039f\"],[0.2222222222222222,\"#7201a8\"],[0.3333333333333333,\"#9c179e\"],[0.4444444444444444,\"#bd3786\"],[0.5555555555555556,\"#d8576b\"],[0.6666666666666666,\"#ed7953\"],[0.7777777777777778,\"#fb9f3a\"],[0.8888888888888888,\"#fdca26\"],[1.0,\"#f0f921\"]],\"type\":\"heatmapgl\"}],\"histogram\":[{\"marker\":{\"pattern\":{\"fillmode\":\"overlay\",\"size\":10,\"solidity\":0.2}},\"type\":\"histogram\"}],\"histogram2d\":[{\"colorbar\":{\"outlinewidth\":0,\"ticks\":\"\"},\"colorscale\":[[0.0,\"#0d0887\"],[0.1111111111111111,\"#46039f\"],[0.2222222222222222,\"#7201a8\"],[0.3333333333333333,\"#9c179e\"],[0.4444444444444444,\"#bd3786\"],[0.5555555555555556,\"#d8576b\"],[0.6666666666666666,\"#ed7953\"],[0.7777777777777778,\"#fb9f3a\"],[0.8888888888888888,\"#fdca26\"],[1.0,\"#f0f921\"]],\"type\":\"histogram2d\"}],\"histogram2dcontour\":[{\"colorbar\":{\"outlinewidth\":0,\"ticks\":\"\"},\"colorscale\":[[0.0,\"#0d0887\"],[0.1111111111111111,\"#46039f\"],[0.2222222222222222,\"#7201a8\"],[0.3333333333333333,\"#9c179e\"],[0.4444444444444444,\"#bd3786\"],[0.5555555555555556,\"#d8576b\"],[0.6666666666666666,\"#ed7953\"],[0.7777777777777778,\"#fb9f3a\"],[0.8888888888888888,\"#fdca26\"],[1.0,\"#f0f921\"]],\"type\":\"histogram2dcontour\"}],\"mesh3d\":[{\"colorbar\":{\"outlinewidth\":0,\"ticks\":\"\"},\"type\":\"mesh3d\"}],\"parcoords\":[{\"line\":{\"colorbar\":{\"outlinewidth\":0,\"ticks\":\"\"}},\"type\":\"parcoords\"}],\"pie\":[{\"automargin\":true,\"type\":\"pie\"}],\"scatter\":[{\"marker\":{\"colorbar\":{\"outlinewidth\":0,\"ticks\":\"\"}},\"type\":\"scatter\"}],\"scatter3d\":[{\"line\":{\"colorbar\":{\"outlinewidth\":0,\"ticks\":\"\"}},\"marker\":{\"colorbar\":{\"outlinewidth\":0,\"ticks\":\"\"}},\"type\":\"scatter3d\"}],\"scattercarpet\":[{\"marker\":{\"colorbar\":{\"outlinewidth\":0,\"ticks\":\"\"}},\"type\":\"scattercarpet\"}],\"scattergeo\":[{\"marker\":{\"colorbar\":{\"outlinewidth\":0,\"ticks\":\"\"}},\"type\":\"scattergeo\"}],\"scattergl\":[{\"marker\":{\"colorbar\":{\"outlinewidth\":0,\"ticks\":\"\"}},\"type\":\"scattergl\"}],\"scattermapbox\":[{\"marker\":{\"colorbar\":{\"outlinewidth\":0,\"ticks\":\"\"}},\"type\":\"scattermapbox\"}],\"scatterpolar\":[{\"marker\":{\"colorbar\":{\"outlinewidth\":0,\"ticks\":\"\"}},\"type\":\"scatterpolar\"}],\"scatterpolargl\":[{\"marker\":{\"colorbar\":{\"outlinewidth\":0,\"ticks\":\"\"}},\"type\":\"scatterpolargl\"}],\"scatterternary\":[{\"marker\":{\"colorbar\":{\"outlinewidth\":0,\"ticks\":\"\"}},\"type\":\"scatterternary\"}],\"surface\":[{\"colorbar\":{\"outlinewidth\":0,\"ticks\":\"\"},\"colorscale\":[[0.0,\"#0d0887\"],[0.1111111111111111,\"#46039f\"],[0.2222222222222222,\"#7201a8\"],[0.3333333333333333,\"#9c179e\"],[0.4444444444444444,\"#bd3786\"],[0.5555555555555556,\"#d8576b\"],[0.6666666666666666,\"#ed7953\"],[0.7777777777777778,\"#fb9f3a\"],[0.8888888888888888,\"#fdca26\"],[1.0,\"#f0f921\"]],\"type\":\"surface\"}],\"table\":[{\"cells\":{\"fill\":{\"color\":\"#EBF0F8\"},\"line\":{\"color\":\"white\"}},\"header\":{\"fill\":{\"color\":\"#C8D4E3\"},\"line\":{\"color\":\"white\"}},\"type\":\"table\"}]},\"layout\":{\"annotationdefaults\":{\"arrowcolor\":\"#2a3f5f\",\"arrowhead\":0,\"arrowwidth\":1},\"autotypenumbers\":\"strict\",\"coloraxis\":{\"colorbar\":{\"outlinewidth\":0,\"ticks\":\"\"}},\"colorscale\":{\"diverging\":[[0,\"#8e0152\"],[0.1,\"#c51b7d\"],[0.2,\"#de77ae\"],[0.3,\"#f1b6da\"],[0.4,\"#fde0ef\"],[0.5,\"#f7f7f7\"],[0.6,\"#e6f5d0\"],[0.7,\"#b8e186\"],[0.8,\"#7fbc41\"],[0.9,\"#4d9221\"],[1,\"#276419\"]],\"sequential\":[[0.0,\"#0d0887\"],[0.1111111111111111,\"#46039f\"],[0.2222222222222222,\"#7201a8\"],[0.3333333333333333,\"#9c179e\"],[0.4444444444444444,\"#bd3786\"],[0.5555555555555556,\"#d8576b\"],[0.6666666666666666,\"#ed7953\"],[0.7777777777777778,\"#fb9f3a\"],[0.8888888888888888,\"#fdca26\"],[1.0,\"#f0f921\"]],\"sequentialminus\":[[0.0,\"#0d0887\"],[0.1111111111111111,\"#46039f\"],[0.2222222222222222,\"#7201a8\"],[0.3333333333333333,\"#9c179e\"],[0.4444444444444444,\"#bd3786\"],[0.5555555555555556,\"#d8576b\"],[0.6666666666666666,\"#ed7953\"],[0.7777777777777778,\"#fb9f3a\"],[0.8888888888888888,\"#fdca26\"],[1.0,\"#f0f921\"]]},\"colorway\":[\"#636efa\",\"#EF553B\",\"#00cc96\",\"#ab63fa\",\"#FFA15A\",\"#19d3f3\",\"#FF6692\",\"#B6E880\",\"#FF97FF\",\"#FECB52\"],\"font\":{\"color\":\"#2a3f5f\"},\"geo\":{\"bgcolor\":\"white\",\"lakecolor\":\"white\",\"landcolor\":\"#E5ECF6\",\"showlakes\":true,\"showland\":true,\"subunitcolor\":\"white\"},\"hoverlabel\":{\"align\":\"left\"},\"hovermode\":\"closest\",\"mapbox\":{\"style\":\"light\"},\"paper_bgcolor\":\"white\",\"plot_bgcolor\":\"#E5ECF6\",\"polar\":{\"angularaxis\":{\"gridcolor\":\"white\",\"linecolor\":\"white\",\"ticks\":\"\"},\"bgcolor\":\"#E5ECF6\",\"radialaxis\":{\"gridcolor\":\"white\",\"linecolor\":\"white\",\"ticks\":\"\"}},\"scene\":{\"xaxis\":{\"backgroundcolor\":\"#E5ECF6\",\"gridcolor\":\"white\",\"gridwidth\":2,\"linecolor\":\"white\",\"showbackground\":true,\"ticks\":\"\",\"zerolinecolor\":\"white\"},\"yaxis\":{\"backgroundcolor\":\"#E5ECF6\",\"gridcolor\":\"white\",\"gridwidth\":2,\"linecolor\":\"white\",\"showbackground\":true,\"ticks\":\"\",\"zerolinecolor\":\"white\"},\"zaxis\":{\"backgroundcolor\":\"#E5ECF6\",\"gridcolor\":\"white\",\"gridwidth\":2,\"linecolor\":\"white\",\"showbackground\":true,\"ticks\":\"\",\"zerolinecolor\":\"white\"}},\"shapedefaults\":{\"line\":{\"color\":\"#2a3f5f\"}},\"ternary\":{\"aaxis\":{\"gridcolor\":\"white\",\"linecolor\":\"white\",\"ticks\":\"\"},\"baxis\":{\"gridcolor\":\"white\",\"linecolor\":\"white\",\"ticks\":\"\"},\"bgcolor\":\"#E5ECF6\",\"caxis\":{\"gridcolor\":\"white\",\"linecolor\":\"white\",\"ticks\":\"\"}},\"title\":{\"x\":0.05},\"xaxis\":{\"automargin\":true,\"gridcolor\":\"white\",\"linecolor\":\"white\",\"ticks\":\"\",\"title\":{\"standoff\":15},\"zerolinecolor\":\"white\",\"zerolinewidth\":2},\"yaxis\":{\"automargin\":true,\"gridcolor\":\"white\",\"linecolor\":\"white\",\"ticks\":\"\",\"title\":{\"standoff\":15},\"zerolinecolor\":\"white\",\"zerolinewidth\":2}}},\"xaxis\":{\"anchor\":\"y\",\"domain\":[0.0,1.0],\"title\":{\"text\":\"variation\"},\"categoryorder\":\"array\",\"categoryarray\":[\"A1\",\"A2\",\"B1\",\"B2\"]},\"yaxis\":{\"anchor\":\"x\",\"domain\":[0.0,1.0],\"title\":{\"text\":\"jaccard\"},\"range\":[0.2,0.3]},\"legend\":{\"title\":{\"text\":\"variation\"},\"tracegroupgap\":0},\"title\":{\"text\":\"Jaccard values\"},\"barmode\":\"relative\",\"height\":600,\"width\":800},                        {\"responsive\": true}                    ).then(function(){\n",
              "                            \n",
              "var gd = document.getElementById('3869a794-c1f9-40e5-a452-65ed7347efdf');\n",
              "var x = new MutationObserver(function (mutations, observer) {{\n",
              "        var display = window.getComputedStyle(gd).display;\n",
              "        if (!display || display === 'none') {{\n",
              "            console.log([gd, 'removed!']);\n",
              "            Plotly.purge(gd);\n",
              "            observer.disconnect();\n",
              "        }}\n",
              "}});\n",
              "\n",
              "// Listen for the removal of the full notebook cells\n",
              "var notebookContainer = gd.closest('#notebook-container');\n",
              "if (notebookContainer) {{\n",
              "    x.observe(notebookContainer, {childList: true});\n",
              "}}\n",
              "\n",
              "// Listen for the clearing of the current output cell\n",
              "var outputEl = gd.closest('.output');\n",
              "if (outputEl) {{\n",
              "    x.observe(outputEl, {childList: true});\n",
              "}}\n",
              "\n",
              "                        })                };                            </script>        </div>\n",
              "</body>\n",
              "</html>"
            ]
          },
          "metadata": {}
        }
      ]
    },
    {
      "cell_type": "markdown",
      "source": [
        "### Hierárquico Aglomerativo\n",
        "\n",
        "Começa com *n* clusters com um único objeto e forma a sequência de partições agrupando os clusters sucessivamente"
      ],
      "metadata": {
        "id": "ftnAoR-CrUio"
      }
    },
    {
      "cell_type": "code",
      "source": [
        "hierarquico = AgglomerativeClustering(n_clusters=2, affinity='euclidean', \n",
        "                                     linkage = 'average')\n",
        "valores_analise = {\n",
        "    'jaccard': [],\n",
        "    'silhouette': [],\n",
        "    'variation': []\n",
        "    }"
      ],
      "metadata": {
        "id": "B7asrIJ7rZyP"
      },
      "execution_count": 1031,
      "outputs": []
    },
    {
      "cell_type": "markdown",
      "source": [
        "##### Variação A1"
      ],
      "metadata": {
        "id": "CKXWB8fuL104"
      }
    },
    {
      "cell_type": "code",
      "source": [
        "clustering_a1 = hierarquico.fit_predict(dataset_a1)\n",
        "valores_analise['silhouette'].append(silhouette_score(dataset_a1, clustering_a1))\n",
        "valores_analise['jaccard'].append(jaccard_score(resultados, clustering_a1, average='macro'))\n",
        "valores_analise['variation'].append('A1')"
      ],
      "metadata": {
        "id": "XGM7i-SfL105"
      },
      "execution_count": 1032,
      "outputs": []
    },
    {
      "cell_type": "code",
      "source": [
        "show_scatter_no_centroids(dataset_a1, clustering_a1)"
      ],
      "metadata": {
        "colab": {
          "base_uri": "https://localhost:8080/",
          "height": 0
        },
        "outputId": "2569cfb8-cb76-4b08-c279-5456dd6fe6f6",
        "id": "nLyQ-2YcL105"
      },
      "execution_count": 1033,
      "outputs": [
        {
          "output_type": "display_data",
          "data": {
            "text/plain": [
              "<Figure size 432x288 with 1 Axes>"
            ],
            "image/png": "[encoded data removed]"
          },
          "metadata": {
            "needs_background": "light"
          }
        }
      ]
    },
    {
      "cell_type": "code",
      "source": [
        "dataset_a1_cluster = dataset_a1.copy()\n",
        "dataset_a1_cluster['Cluster'] = clustering_a1\n",
        "\n",
        "show_3d_clusters(dataset_a1_cluster)"
      ],
      "metadata": {
        "colab": {
          "base_uri": "https://localhost:8080/",
          "height": 0
        },
        "id": "h9qYdMw73at9",
        "outputId": "b6b3746b-5cda-45de-81af-71a94c6de105"
      },
      "execution_count": 1034,
      "outputs": [
        {
          "output_type": "display_data",
          "data": {
            "text/html": [
              "<html>\n",
              "<head><meta charset=\"utf-8\" /></head>\n",
              "<body>\n",
              "    <div>            <script src=\"https://cdnjs.cloudflare.com/ajax/libs/mathjax/2.7.5/MathJax.js?config=TeX-AMS-MML_SVG\"></script><script type=\"text/javascript\">if (window.MathJax) {MathJax.Hub.Config({SVG: {font: \"STIX-Web\"}});}</script>                <script type=\"text/javascript\">window.PlotlyConfig = {MathJaxConfig: 'local'};</script>\n",
              "        <script src=\"https://cdn.plot.ly/plotly-2.8.3.min.js\"></script>                <div id=\"f9e87811-1640-4ab0-8aa6-864707826509\" class=\"plotly-graph-div\" style=\"height:600px; width:1100px;\"></div>            <script type=\"text/javascript\">                                    window.PLOTLYENV=window.PLOTLYENV || {};                                    if (document.getElementById(\"f9e87811-1640-4ab0-8aa6-864707826509\")) {                    Plotly.newPlot(                        \"f9e87811-1640-4ab0-8aa6-864707826509\",                        [{\"hovertemplate\":\"Altura da Mar\\u00e9 (m)=%{x}<br>Velocidade do Vento (Km/h)=%{y}<br>Chuva (mm)=%{z}<br>Cluster=%{marker.color}<extra></extra>\",\"legendgroup\":\"\",\"marker\":{\"color\":[0,0,0,0,0,0,0,0,0,0,0,0,0,0,0,0,0,0,0,0,0,0,0,0,0,0,0,0,0,0,0,0,0,0,0,0,0,0,0,0,0,0,0,0,0,0,0,0,0,0,0,0,0,0,0,0,0,0,0,0,0,0,0,0,0,0,0,0,0,0,0,0,0,0,0,0,0,0,0,0,0,0,0,0,0,0,0,1,1,1,1,1,0,0,0,0,0,0,0,0,1,1,1,1,1,0,0,0,0,0,0,0,0,0,0,0,0,0,0,0,0,0,0,0,0,0,0,0,0,0,0,0,0,0,0,0,0,0,0,0,0,0,0,0,0,0,0,0,0,0,0,0,0,0,0,0,0,0,0,0,0,0,0,0,0,0,0,0,0,0,0,0,0,0,0,0,0,0,0,0,0,0,0,0,0,0,0,0,0,0,0,0,0,0,0,0,0,0,0,0,0,0,0,0,0,0,0,0,0,0,1,0,0,0,1,0,0,0,0,0,0,0,0,0,0,0,0,0,0,0,0,0,0,0,0,0,0,0,0,0,0,0,0,0,0,0,0,0,0,0,0,0,0,0,0,0,0,0,0,0,0,0,0,0,0,0,0,0,0,0,0,0,0,0,0,0,0,0,0,0,0,0,0,0,0,0,0,0,0,0,0,0,0,0,0,0,0,0,0,0,0,0,0,0,0,0,0,0,0,0,0,0,0,0,0,0,0,0,0,0],\"coloraxis\":\"coloraxis\",\"opacity\":0.8,\"symbol\":\"circle\"},\"mode\":\"markers\",\"name\":\"\",\"scene\":\"scene\",\"showlegend\":false,\"x\":[1.2,1.6,1.8,1.9,1.8,1.6,1.2,0.7,0.5,0.4,0.5,0.6,1.0,1.5,1.7,1.9,1.9,1.7,1.3,0.9,0.5,0.4,0.4,0.5,0.7,1.3,1.6,1.8,0.9,1.2,1.4,1.6,1.7,1.6,1.4,1.2,0.9,0.7,0.6,0.7,0.8,1.0,1.4,1.6,1.7,1.7,1.6,1.4,1.0,0.4,0.6,0.6,0.7,0.8,1.2,1.4,0.8,0.9,1.1,1.2,1.5,1.6,1.6,1.5,1.4,1.1,0.8,0.7,0.7,0.8,1.0,1.3,1.4,1.5,1.6,1.5,1.4,1.3,0.9,0.8,0.7,0.7,0.8,1.0,0.8,0.7,0.6,0.7,0.8,1.2,1.5,1.7,1.8,1.7,1.5,1.3,0.9,0.7,0.6,0.6,0.7,0.9,1.4,1.6,1.8,1.8,1.6,1.4,1.1,0.7,0.5,0.5,1.2,0.5,1.9,1.4,0.7,0.8,2.0,0.5,1.9,0.4,1.5,2.1,1.1,0.2,2.1,1.7,2.2,0.7,0.8,2.3,1.7,0.2,1.7,2.1,2.1,1.0,0.5,2.1,1.8,0.2,1.5,2.1,2.1,1.4,0.4,2.1,2.0,0.7,0.9,2.2,1.6,1.7,0.5,1.3,1.8,1.4,0.6,1.6,1.2,1.7,0.7,0.9,1.6,1.6,0.6,1.4,0.9,1.5,1.0,0.7,1.3,1.6,0.7,1.0,0.7,1.2,1.4,0.6,0.9,1.5,0.9,0.6,0.6,0.8,1.8,0.7,0.6,1.3,1.5,0.5,2.0,0.0,1.8,1.5,0.8,-0.1,2.5,1.8,2.2,0.3,1.2,2.6,1.5,-0.2,2.2,2.2,1.5,1.9,0.4,0.9,1.8,1.6,0.4,1.5,1.0,1.7,0.7,0.7,1.5,1.7,0.6,1.2,0.8,1.5,1.2,0.7,1.1,1.6,0.9,0.8,0.7,0.8,1.8,0.8,0.6,1.1,1.6,0.6,1.4,0.3,2.0,1.8,0.7,0.4,2.2,1.0,2.0,0.5,1.2,2.3,1.4,0.1,2.0,2.0,2.1,0.9,0.9,2.2,1.7,0.2,1.6,2.0,1.8,1.6,0.3,1.7,1.9,0.8,0.7,2.0,1.6,1.8,0.4,1.4,1.8,1.2,0.5,1.9,0.9,1.7,0.8,0.6,1.3,1.7,0.6,1.0,0.6,0.1,2.3,1.5,0.1,0.5,2.3,0.5,1.1,0.0,2.2,2.0,0.2,0.2,2.5,0.9,1.7,-0.1,2.0,2.4,0.5,-0.1,2.5,1.5,2.2,0.5,0.9,2.5,1.6,-0.1,2.0,2.3],\"y\":[22.5,23.0,23.5,24.0,24.0,24.0,23.5,23.0,22.0,21.0,20.0,19.0,19.0,19.0,23.0,23.5,24.0,24.0,23.5,23.0,23.0,21.0,20.0,20.0,19.0,19.0,20.0,22.0,20.0,20.0,19.0,18.0,18.0,18.0,18.5,19.0,18.5,18.0,17.0,16.0,18.0,20.0,19.5,18.5,18.0,18.0,18.25,18.75,18.75,18.25,17.5,16.5,17.0,19.0,20.25,20.75,13.0,12.0,12.0,12.0,13.0,14.0,16.5,19.0,18.5,18.0,19.5,21.0,22.5,24.0,12.5,12.0,12.0,13.5,15.25,17.75,18.75,18.25,18.75,20.25,21.75,23.25,24.25,24.75,12.5,11.0,9.0,7.0,5.5,4.0,3.5,3.0,8.0,13.0,16.0,19.0,20.5,22.0,11.75,10.0,6.25,4.75,3.75,3.25,5.5,10.5,14.5,17.5,19.75,21.25,22.25,22.75,23.0,22.0,16.0,24.0,22.75,21.25,17.75,27.0,25.0,27.0,27.5,28.75,26.25,25.5,29.0,28.0,35.5,34.0,32.5,31.25,34.75,33.25,31.75,32.0,26.0,23.0,28.0,29.25,24.5,23.25,29.0,30.0,30.0,30.0,28.0,27.0,30.0,30.25,27.0,28.0,23.0,21.0,19.5,16.75,22.5,20.75,16.75,17.0,16.5,13.0,20.0,19.25,14.5,13.25,20.5,20.0,15.5,14.0,17.5,19.75,14.75,14.0,19.0,22.0,19.0,16.0,17.0,14.5,17.5,15.75,15.5,16.0,16.5,15.0,11.0,19.25,15.75,14.75,12.75,23.0,21.0,18.0,17.5,18.75,19.5,16.5,18.0,21.0,13.0,13.0,11.0,17.5,13.0,13.0,13.25,19.0,16.5,12.0,2.5,16.25,14.25,9.0,4.25,23.0,18.5,18.0,20.5,19.25,18.0,18.0,20.5,20.0,14.5,13.0,17.0,19.75,13.75,12.25,19.0,22.0,13.5,9.0,13.0,17.0,12.0,8.25,15.5,17.0,16.0,12.0,13.0,17.0,14.25,10.5,13.75,20.0,20.0,20.0,20.0,20.75,20.0,20.0,19.25,23.0,24.5,23.0,21.5,22.75,23.75,22.25,21.25,25.0,29.0,31.0,33.0,35.5,30.25,31.0,34.25,37.0,31.0,27.0,22.5,18.0,29.25,25.5,20.25,18.0,30.5,28.0,21.0,16.25,29.5,25.0,19.0,17.0,16.5,15.0,15.0,12.5,15.75,15.75,13.5,14.0,28.5,28.0,26.0,26.25,28.0,28.0,26.0,27.0,26.0,25.0,22.0,21.0,25.75,24.25,21.0,21.0,12.5,9.0,8.0,18.5,10.5,7.5,14.0,23.0],\"z\":[0.33,0.33,0.33,0.33,0.33,0.33,0.33,0.33,0.33,0.33,0.33,0.33,0.33,0.33,0.33,0.33,0.33,0.33,0.33,0.33,0.33,0.33,0.33,0.33,0.33,0.33,0.33,0.33,0.33,0.33,0.33,0.33,0.33,0.33,0.33,0.33,0.33,0.33,0.33,0.33,0.33,0.33,0.33,0.33,0.33,0.33,0.33,0.33,0.33,0.33,0.33,0.33,0.33,0.33,0.33,0.42,0.0,0.0,0.0,0.0,0.0,0.42,0.42,0.42,0.42,0.42,0.42,0.42,0.42,0.42,0.0,0.0,0.0,0.0,0.42,0.42,0.42,0.42,0.42,0.42,0.42,0.42,0.42,0.42,2.5,2.5,2.5,2.5,2.5,2.5,2.5,2.5,2.5,2.5,2.5,2.5,2.5,2.5,2.5,2.5,2.5,2.5,2.5,2.5,2.5,2.5,2.5,2.5,2.5,2.5,2.5,2.5,0.63,0.63,0.63,0.63,0.63,0.63,0.63,0.63,1.67,1.67,1.67,1.67,1.67,1.67,1.67,1.67,0.63,0.63,0.63,0.63,0.63,0.63,0.63,0.63,1.88,1.88,1.88,1.88,1.88,1.88,1.88,1.88,0.63,0.63,0.63,0.63,0.63,0.63,0.63,0.63,0.42,0.42,0.42,0.42,0.42,0.42,0.42,0.42,0.42,0.42,0.42,0.42,0.42,0.42,0.42,0.42,0.44,0.44,0.44,0.0,0.44,0.44,0.44,0.0,0.0,0.0,0.0,0.0,0.0,0.0,0.0,0.0,0.0,0.0,0.0,0.0,0.0,0.0,0.0,0.0,0.42,0.42,0.0,0.0,0.42,0.0,0.0,0.0,0.0,0.0,0.0,0.0,0.0,0.0,0.0,0.0,2.92,2.92,2.92,2.92,2.92,2.92,2.92,2.92,0.83,0.83,0.83,0.0,0.83,0.83,0.83,0.0,0.21,0.21,0.21,0.21,0.21,0.21,0.21,0.21,0.39,0.39,0.39,0.0,0.39,0.39,0.39,0.0,1.88,1.88,1.88,1.88,1.88,1.88,1.88,1.88,5.83,5.83,5.83,5.83,5.83,5.83,5.83,5.83,2.5,2.5,2.5,2.5,2.5,2.5,2.5,2.5,3.33,3.33,3.33,3.33,3.33,3.33,3.33,3.33,1.04,1.04,1.04,1.04,1.04,1.04,1.04,1.04,0.0,0.0,0.83,0.83,0.0,0.0,0.83,0.83,0.63,0.63,0.63,0.63,0.63,0.63,0.63,0.63,0.42,0.42,0.42,0.42,0.42,0.42,0.42,0.42,0.25,0.25,0.25,0.25,0.25,0.25,0.25,0.25,0.83,0.83,0.83,0.83,0.83,0.83,0.83,0.83],\"type\":\"scatter3d\"}],                        {\"template\":{\"data\":{\"bar\":[{\"error_x\":{\"color\":\"#2a3f5f\"},\"error_y\":{\"color\":\"#2a3f5f\"},\"marker\":{\"line\":{\"color\":\"#E5ECF6\",\"width\":0.5},\"pattern\":{\"fillmode\":\"overlay\",\"size\":10,\"solidity\":0.2}},\"type\":\"bar\"}],\"barpolar\":[{\"marker\":{\"line\":{\"color\":\"#E5ECF6\",\"width\":0.5},\"pattern\":{\"fillmode\":\"overlay\",\"size\":10,\"solidity\":0.2}},\"type\":\"barpolar\"}],\"carpet\":[{\"aaxis\":{\"endlinecolor\":\"#2a3f5f\",\"gridcolor\":\"white\",\"linecolor\":\"white\",\"minorgridcolor\":\"white\",\"startlinecolor\":\"#2a3f5f\"},\"baxis\":{\"endlinecolor\":\"#2a3f5f\",\"gridcolor\":\"white\",\"linecolor\":\"white\",\"minorgridcolor\":\"white\",\"startlinecolor\":\"#2a3f5f\"},\"type\":\"carpet\"}],\"choropleth\":[{\"colorbar\":{\"outlinewidth\":0,\"ticks\":\"\"},\"type\":\"choropleth\"}],\"contour\":[{\"colorbar\":{\"outlinewidth\":0,\"ticks\":\"\"},\"colorscale\":[[0.0,\"#0d0887\"],[0.1111111111111111,\"#46039f\"],[0.2222222222222222,\"#7201a8\"],[0.3333333333333333,\"#9c179e\"],[0.4444444444444444,\"#bd3786\"],[0.5555555555555556,\"#d8576b\"],[0.6666666666666666,\"#ed7953\"],[0.7777777777777778,\"#fb9f3a\"],[0.8888888888888888,\"#fdca26\"],[1.0,\"#f0f921\"]],\"type\":\"contour\"}],\"contourcarpet\":[{\"colorbar\":{\"outlinewidth\":0,\"ticks\":\"\"},\"type\":\"contourcarpet\"}],\"heatmap\":[{\"colorbar\":{\"outlinewidth\":0,\"ticks\":\"\"},\"colorscale\":[[0.0,\"#0d0887\"],[0.1111111111111111,\"#46039f\"],[0.2222222222222222,\"#7201a8\"],[0.3333333333333333,\"#9c179e\"],[0.4444444444444444,\"#bd3786\"],[0.5555555555555556,\"#d8576b\"],[0.6666666666666666,\"#ed7953\"],[0.7777777777777778,\"#fb9f3a\"],[0.8888888888888888,\"#fdca26\"],[1.0,\"#f0f921\"]],\"type\":\"heatmap\"}],\"heatmapgl\":[{\"colorbar\":{\"outlinewidth\":0,\"ticks\":\"\"},\"colorscale\":[[0.0,\"#0d0887\"],[0.1111111111111111,\"#46039f\"],[0.2222222222222222,\"#7201a8\"],[0.3333333333333333,\"#9c179e\"],[0.4444444444444444,\"#bd3786\"],[0.5555555555555556,\"#d8576b\"],[0.6666666666666666,\"#ed7953\"],[0.7777777777777778,\"#fb9f3a\"],[0.8888888888888888,\"#fdca26\"],[1.0,\"#f0f921\"]],\"type\":\"heatmapgl\"}],\"histogram\":[{\"marker\":{\"pattern\":{\"fillmode\":\"overlay\",\"size\":10,\"solidity\":0.2}},\"type\":\"histogram\"}],\"histogram2d\":[{\"colorbar\":{\"outlinewidth\":0,\"ticks\":\"\"},\"colorscale\":[[0.0,\"#0d0887\"],[0.1111111111111111,\"#46039f\"],[0.2222222222222222,\"#7201a8\"],[0.3333333333333333,\"#9c179e\"],[0.4444444444444444,\"#bd3786\"],[0.5555555555555556,\"#d8576b\"],[0.6666666666666666,\"#ed7953\"],[0.7777777777777778,\"#fb9f3a\"],[0.8888888888888888,\"#fdca26\"],[1.0,\"#f0f921\"]],\"type\":\"histogram2d\"}],\"histogram2dcontour\":[{\"colorbar\":{\"outlinewidth\":0,\"ticks\":\"\"},\"colorscale\":[[0.0,\"#0d0887\"],[0.1111111111111111,\"#46039f\"],[0.2222222222222222,\"#7201a8\"],[0.3333333333333333,\"#9c179e\"],[0.4444444444444444,\"#bd3786\"],[0.5555555555555556,\"#d8576b\"],[0.6666666666666666,\"#ed7953\"],[0.7777777777777778,\"#fb9f3a\"],[0.8888888888888888,\"#fdca26\"],[1.0,\"#f0f921\"]],\"type\":\"histogram2dcontour\"}],\"mesh3d\":[{\"colorbar\":{\"outlinewidth\":0,\"ticks\":\"\"},\"type\":\"mesh3d\"}],\"parcoords\":[{\"line\":{\"colorbar\":{\"outlinewidth\":0,\"ticks\":\"\"}},\"type\":\"parcoords\"}],\"pie\":[{\"automargin\":true,\"type\":\"pie\"}],\"scatter\":[{\"marker\":{\"colorbar\":{\"outlinewidth\":0,\"ticks\":\"\"}},\"type\":\"scatter\"}],\"scatter3d\":[{\"line\":{\"colorbar\":{\"outlinewidth\":0,\"ticks\":\"\"}},\"marker\":{\"colorbar\":{\"outlinewidth\":0,\"ticks\":\"\"}},\"type\":\"scatter3d\"}],\"scattercarpet\":[{\"marker\":{\"colorbar\":{\"outlinewidth\":0,\"ticks\":\"\"}},\"type\":\"scattercarpet\"}],\"scattergeo\":[{\"marker\":{\"colorbar\":{\"outlinewidth\":0,\"ticks\":\"\"}},\"type\":\"scattergeo\"}],\"scattergl\":[{\"marker\":{\"colorbar\":{\"outlinewidth\":0,\"ticks\":\"\"}},\"type\":\"scattergl\"}],\"scattermapbox\":[{\"marker\":{\"colorbar\":{\"outlinewidth\":0,\"ticks\":\"\"}},\"type\":\"scattermapbox\"}],\"scatterpolar\":[{\"marker\":{\"colorbar\":{\"outlinewidth\":0,\"ticks\":\"\"}},\"type\":\"scatterpolar\"}],\"scatterpolargl\":[{\"marker\":{\"colorbar\":{\"outlinewidth\":0,\"ticks\":\"\"}},\"type\":\"scatterpolargl\"}],\"scatterternary\":[{\"marker\":{\"colorbar\":{\"outlinewidth\":0,\"ticks\":\"\"}},\"type\":\"scatterternary\"}],\"surface\":[{\"colorbar\":{\"outlinewidth\":0,\"ticks\":\"\"},\"colorscale\":[[0.0,\"#0d0887\"],[0.1111111111111111,\"#46039f\"],[0.2222222222222222,\"#7201a8\"],[0.3333333333333333,\"#9c179e\"],[0.4444444444444444,\"#bd3786\"],[0.5555555555555556,\"#d8576b\"],[0.6666666666666666,\"#ed7953\"],[0.7777777777777778,\"#fb9f3a\"],[0.8888888888888888,\"#fdca26\"],[1.0,\"#f0f921\"]],\"type\":\"surface\"}],\"table\":[{\"cells\":{\"fill\":{\"color\":\"#EBF0F8\"},\"line\":{\"color\":\"white\"}},\"header\":{\"fill\":{\"color\":\"#C8D4E3\"},\"line\":{\"color\":\"white\"}},\"type\":\"table\"}]},\"layout\":{\"annotationdefaults\":{\"arrowcolor\":\"#2a3f5f\",\"arrowhead\":0,\"arrowwidth\":1},\"autotypenumbers\":\"strict\",\"coloraxis\":{\"colorbar\":{\"outlinewidth\":0,\"ticks\":\"\"}},\"colorscale\":{\"diverging\":[[0,\"#8e0152\"],[0.1,\"#c51b7d\"],[0.2,\"#de77ae\"],[0.3,\"#f1b6da\"],[0.4,\"#fde0ef\"],[0.5,\"#f7f7f7\"],[0.6,\"#e6f5d0\"],[0.7,\"#b8e186\"],[0.8,\"#7fbc41\"],[0.9,\"#4d9221\"],[1,\"#276419\"]],\"sequential\":[[0.0,\"#0d0887\"],[0.1111111111111111,\"#46039f\"],[0.2222222222222222,\"#7201a8\"],[0.3333333333333333,\"#9c179e\"],[0.4444444444444444,\"#bd3786\"],[0.5555555555555556,\"#d8576b\"],[0.6666666666666666,\"#ed7953\"],[0.7777777777777778,\"#fb9f3a\"],[0.8888888888888888,\"#fdca26\"],[1.0,\"#f0f921\"]],\"sequentialminus\":[[0.0,\"#0d0887\"],[0.1111111111111111,\"#46039f\"],[0.2222222222222222,\"#7201a8\"],[0.3333333333333333,\"#9c179e\"],[0.4444444444444444,\"#bd3786\"],[0.5555555555555556,\"#d8576b\"],[0.6666666666666666,\"#ed7953\"],[0.7777777777777778,\"#fb9f3a\"],[0.8888888888888888,\"#fdca26\"],[1.0,\"#f0f921\"]]},\"colorway\":[\"#636efa\",\"#EF553B\",\"#00cc96\",\"#ab63fa\",\"#FFA15A\",\"#19d3f3\",\"#FF6692\",\"#B6E880\",\"#FF97FF\",\"#FECB52\"],\"font\":{\"color\":\"#2a3f5f\"},\"geo\":{\"bgcolor\":\"white\",\"lakecolor\":\"white\",\"landcolor\":\"#E5ECF6\",\"showlakes\":true,\"showland\":true,\"subunitcolor\":\"white\"},\"hoverlabel\":{\"align\":\"left\"},\"hovermode\":\"closest\",\"mapbox\":{\"style\":\"light\"},\"paper_bgcolor\":\"white\",\"plot_bgcolor\":\"#E5ECF6\",\"polar\":{\"angularaxis\":{\"gridcolor\":\"white\",\"linecolor\":\"white\",\"ticks\":\"\"},\"bgcolor\":\"#E5ECF6\",\"radialaxis\":{\"gridcolor\":\"white\",\"linecolor\":\"white\",\"ticks\":\"\"}},\"scene\":{\"xaxis\":{\"backgroundcolor\":\"#E5ECF6\",\"gridcolor\":\"white\",\"gridwidth\":2,\"linecolor\":\"white\",\"showbackground\":true,\"ticks\":\"\",\"zerolinecolor\":\"white\"},\"yaxis\":{\"backgroundcolor\":\"#E5ECF6\",\"gridcolor\":\"white\",\"gridwidth\":2,\"linecolor\":\"white\",\"showbackground\":true,\"ticks\":\"\",\"zerolinecolor\":\"white\"},\"zaxis\":{\"backgroundcolor\":\"#E5ECF6\",\"gridcolor\":\"white\",\"gridwidth\":2,\"linecolor\":\"white\",\"showbackground\":true,\"ticks\":\"\",\"zerolinecolor\":\"white\"}},\"shapedefaults\":{\"line\":{\"color\":\"#2a3f5f\"}},\"ternary\":{\"aaxis\":{\"gridcolor\":\"white\",\"linecolor\":\"white\",\"ticks\":\"\"},\"baxis\":{\"gridcolor\":\"white\",\"linecolor\":\"white\",\"ticks\":\"\"},\"bgcolor\":\"#E5ECF6\",\"caxis\":{\"gridcolor\":\"white\",\"linecolor\":\"white\",\"ticks\":\"\"}},\"title\":{\"x\":0.05},\"xaxis\":{\"automargin\":true,\"gridcolor\":\"white\",\"linecolor\":\"white\",\"ticks\":\"\",\"title\":{\"standoff\":15},\"zerolinecolor\":\"white\",\"zerolinewidth\":2},\"yaxis\":{\"automargin\":true,\"gridcolor\":\"white\",\"linecolor\":\"white\",\"ticks\":\"\",\"title\":{\"standoff\":15},\"zerolinecolor\":\"white\",\"zerolinewidth\":2}}},\"scene\":{\"domain\":{\"x\":[0.0,1.0],\"y\":[0.0,1.0]},\"xaxis\":{\"title\":{\"text\":\"Altura da Mar\\u00e9 (m)\"}},\"yaxis\":{\"title\":{\"text\":\"Velocidade do Vento (Km/h)\"}},\"zaxis\":{\"title\":{\"text\":\"Chuva (mm)\"}}},\"coloraxis\":{\"colorbar\":{\"title\":{\"text\":\"Cluster\"}},\"colorscale\":[[0.0,\"#0d0887\"],[0.1111111111111111,\"#46039f\"],[0.2222222222222222,\"#7201a8\"],[0.3333333333333333,\"#9c179e\"],[0.4444444444444444,\"#bd3786\"],[0.5555555555555556,\"#d8576b\"],[0.6666666666666666,\"#ed7953\"],[0.7777777777777778,\"#fb9f3a\"],[0.8888888888888888,\"#fdca26\"],[1.0,\"#f0f921\"]]},\"legend\":{\"tracegroupgap\":0},\"title\":{\"text\":\"3d scatter clusters\"},\"height\":600,\"width\":1100},                        {\"responsive\": true}                    ).then(function(){\n",
              "                            \n",
              "var gd = document.getElementById('f9e87811-1640-4ab0-8aa6-864707826509');\n",
              "var x = new MutationObserver(function (mutations, observer) {{\n",
              "        var display = window.getComputedStyle(gd).display;\n",
              "        if (!display || display === 'none') {{\n",
              "            console.log([gd, 'removed!']);\n",
              "            Plotly.purge(gd);\n",
              "            observer.disconnect();\n",
              "        }}\n",
              "}});\n",
              "\n",
              "// Listen for the removal of the full notebook cells\n",
              "var notebookContainer = gd.closest('#notebook-container');\n",
              "if (notebookContainer) {{\n",
              "    x.observe(notebookContainer, {childList: true});\n",
              "}}\n",
              "\n",
              "// Listen for the clearing of the current output cell\n",
              "var outputEl = gd.closest('.output');\n",
              "if (outputEl) {{\n",
              "    x.observe(outputEl, {childList: true});\n",
              "}}\n",
              "\n",
              "                        })                };                            </script>        </div>\n",
              "</body>\n",
              "</html>"
            ]
          },
          "metadata": {}
        }
      ]
    },
    {
      "cell_type": "markdown",
      "source": [
        "##### Variação A2"
      ],
      "metadata": {
        "id": "Blb0kV-UL105"
      }
    },
    {
      "cell_type": "code",
      "source": [
        "clustering_a2 = hierarquico.fit_predict(dataset_a2)\n",
        "valores_analise['silhouette'].append(silhouette_score(dataset_a2, clustering_a2))\n",
        "valores_analise['jaccard'].append(jaccard_score(resultados, clustering_a2, average='macro'))\n",
        "valores_analise['variation'].append('A2')"
      ],
      "metadata": {
        "id": "3cnyQg3jL106"
      },
      "execution_count": 1035,
      "outputs": []
    },
    {
      "cell_type": "code",
      "source": [
        "show_scatter_no_centroids(dataset_a2, clustering_a2)"
      ],
      "metadata": {
        "colab": {
          "base_uri": "https://localhost:8080/",
          "height": 0
        },
        "outputId": "3ca039cf-b9fc-4909-ce88-436007235838",
        "id": "ilQuAIymL107"
      },
      "execution_count": 1036,
      "outputs": [
        {
          "output_type": "display_data",
          "data": {
            "text/plain": [
              "<Figure size 432x288 with 1 Axes>"
            ],
            "image/png": "[encoded data removed]"
          },
          "metadata": {
            "needs_background": "light"
          }
        }
      ]
    },
    {
      "cell_type": "code",
      "source": [
        "dataset_a2_cluster = dataset_a2.copy()\n",
        "dataset_a2_cluster['Cluster'] = clustering_a2\n",
        "\n",
        "show_3d_clusters(dataset_a2_cluster)"
      ],
      "metadata": {
        "colab": {
          "base_uri": "https://localhost:8080/",
          "height": 0
        },
        "id": "KirzGwD3AGqa",
        "outputId": "a1c0091f-bd72-4df3-e3ee-bd2159120dd2"
      },
      "execution_count": 1037,
      "outputs": [
        {
          "output_type": "display_data",
          "data": {
            "text/html": [
              "<html>\n",
              "<head><meta charset=\"utf-8\" /></head>\n",
              "<body>\n",
              "    <div>            <script src=\"https://cdnjs.cloudflare.com/ajax/libs/mathjax/2.7.5/MathJax.js?config=TeX-AMS-MML_SVG\"></script><script type=\"text/javascript\">if (window.MathJax) {MathJax.Hub.Config({SVG: {font: \"STIX-Web\"}});}</script>                <script type=\"text/javascript\">window.PlotlyConfig = {MathJaxConfig: 'local'};</script>\n",
              "        <script src=\"https://cdn.plot.ly/plotly-2.8.3.min.js\"></script>                <div id=\"d36b5bf0-0edd-44b9-9354-039e3a76ecbc\" class=\"plotly-graph-div\" style=\"height:600px; width:1100px;\"></div>            <script type=\"text/javascript\">                                    window.PLOTLYENV=window.PLOTLYENV || {};                                    if (document.getElementById(\"d36b5bf0-0edd-44b9-9354-039e3a76ecbc\")) {                    Plotly.newPlot(                        \"d36b5bf0-0edd-44b9-9354-039e3a76ecbc\",                        [{\"hovertemplate\":\"Altura da Mar\\u00e9 (m)=%{x}<br>Velocidade do Vento (Km/h)=%{y}<br>Chuva (mm)=%{z}<br>Cluster=%{marker.color}<extra></extra>\",\"legendgroup\":\"\",\"marker\":{\"color\":[1,1,1,1,1,1,1,1,0,0,0,0,0,0,1,1,1,1,1,1,1,0,0,0,0,0,0,0,0,0,0,0,0,0,0,0,0,0,0,0,0,0,0,0,0,0,0,0,0,0,0,0,0,0,0,0,0,0,0,0,0,0,0,0,0,0,0,0,0,0,0,0,0,0,0,0,0,0,0,0,0,0,0,0,0,0,0,0,0,0,0,0,0,0,0,0,0,0,0,0,0,0,0,0,0,0,0,0,0,0,0,0,1,1,0,0,1,1,0,1,1,1,1,1,1,1,1,1,1,1,1,1,1,1,1,1,1,1,1,1,1,1,1,1,1,1,1,1,1,1,1,1,1,1,0,0,1,1,0,0,0,0,0,0,0,0,0,0,0,0,0,0,0,0,0,0,0,0,0,0,0,0,0,0,0,0,0,0,0,0,0,0,0,0,0,0,0,0,0,0,0,0,0,0,0,0,0,0,0,0,0,0,0,0,0,0,0,0,0,0,0,0,0,0,0,0,0,0,0,0,0,0,0,0,0,0,0,0,0,0,0,0,0,0,0,0,0,0,1,1,0,0,1,1,0,0,1,1,0,0,1,1,0,0,1,1,1,1,1,1,1,1,1,1,0,0,1,1,0,0,1,1,0,0,1,1,0,0,0,0,0,0,0,0,0,0,1,1,1,1,1,1,1,1,1,1,0,0,1,1,0,0,0,0,0,0,0,0,0,0],\"coloraxis\":\"coloraxis\",\"opacity\":0.8,\"symbol\":\"circle\"},\"mode\":\"markers\",\"name\":\"\",\"scene\":\"scene\",\"showlegend\":false,\"x\":[1.2,1.6,1.8,1.9,1.8,1.6,1.2,0.7,0.5,0.4,0.5,0.6,1.0,1.5,1.7,1.9,1.9,1.7,1.3,0.9,0.5,0.4,0.4,0.5,0.7,1.3,1.6,1.8,0.9,1.2,1.4,1.6,1.7,1.6,1.4,1.2,0.9,0.7,0.6,0.7,0.8,1.0,1.4,1.6,1.7,1.7,1.6,1.4,1.0,0.4,0.6,0.6,0.7,0.8,1.2,1.4,0.8,0.9,1.1,1.2,1.5,1.6,1.6,1.5,1.4,1.1,0.8,0.7,0.7,0.8,1.0,1.3,1.4,1.5,1.6,1.5,1.4,1.3,0.9,0.8,0.7,0.7,0.8,1.0,0.8,0.7,0.6,0.7,0.8,1.2,1.5,1.7,1.8,1.7,1.5,1.3,0.9,0.7,0.6,0.6,0.7,0.9,1.4,1.6,1.8,1.8,1.6,1.4,1.1,0.7,0.5,0.5,1.2,0.5,1.9,1.4,0.7,0.8,2.0,0.5,1.9,0.4,1.5,2.1,1.1,0.2,2.1,1.7,2.2,0.7,0.8,2.3,1.7,0.2,1.7,2.1,2.1,1.0,0.5,2.1,1.8,0.2,1.5,2.1,2.1,1.4,0.4,2.1,2.0,0.7,0.9,2.2,1.6,1.7,0.5,1.3,1.8,1.4,0.6,1.6,1.2,1.7,0.7,0.9,1.6,1.6,0.6,1.4,0.9,1.5,1.0,0.7,1.3,1.6,0.7,1.0,0.7,1.2,1.4,0.6,0.9,1.5,0.9,0.6,0.6,0.8,1.8,0.7,0.6,1.3,1.5,0.5,2.0,0.0,1.8,1.5,0.8,-0.1,2.5,1.8,2.2,0.3,1.2,2.6,1.5,-0.2,2.2,2.2,1.5,1.9,0.4,0.9,1.8,1.6,0.4,1.5,1.0,1.7,0.7,0.7,1.5,1.7,0.6,1.2,0.8,1.5,1.2,0.7,1.1,1.6,0.9,0.8,0.7,0.8,1.8,0.8,0.6,1.1,1.6,0.6,1.4,0.3,2.0,1.8,0.7,0.4,2.2,1.0,2.0,0.5,1.2,2.3,1.4,0.1,2.0,2.0,2.1,0.9,0.9,2.2,1.7,0.2,1.6,2.0,1.8,1.6,0.3,1.7,1.9,0.8,0.7,2.0,1.6,1.8,0.4,1.4,1.8,1.2,0.5,1.9,0.9,1.7,0.8,0.6,1.3,1.7,0.6,1.0,0.6,0.1,2.3,1.5,0.1,0.5,2.3,0.5,1.1,0.0,2.2,2.0,0.2,0.2,2.5,0.9,1.7,-0.1,2.0,2.4,0.5,-0.1,2.5,1.5,2.2,0.5,0.9,2.5,1.6,-0.1,2.0,2.3],\"y\":[22.5,23.0,23.5,24.0,24.0,24.0,23.5,23.0,22.0,21.0,20.0,19.0,19.0,19.0,23.0,23.5,24.0,24.0,23.5,23.0,23.0,21.0,20.0,20.0,19.0,19.0,20.0,22.0,20.0,20.0,19.0,18.0,18.0,18.0,18.5,19.0,18.5,18.0,17.0,16.0,18.0,20.0,19.5,18.5,18.0,18.0,18.25,18.75,18.75,18.25,17.5,16.5,17.0,19.0,20.25,20.75,13.0,12.0,12.0,12.0,13.0,14.0,16.5,19.0,18.5,18.0,19.5,21.0,22.5,24.0,12.5,12.0,12.0,13.5,15.25,17.75,18.75,18.25,18.75,20.25,21.75,23.25,24.25,24.75,12.5,11.0,9.0,7.0,5.5,4.0,3.5,3.0,8.0,13.0,16.0,19.0,20.5,22.0,11.75,10.0,6.25,4.75,3.75,3.25,5.5,10.5,14.5,17.5,19.75,21.25,22.25,22.75,23.0,22.0,16.0,24.0,22.75,21.25,17.75,27.0,25.0,27.0,27.5,28.75,26.25,25.5,29.0,28.0,35.5,34.0,32.5,31.25,34.75,33.25,31.75,32.0,26.0,23.0,28.0,29.25,24.5,23.25,29.0,30.0,30.0,30.0,28.0,27.0,30.0,30.25,27.0,28.0,23.0,21.0,19.5,16.75,22.5,20.75,16.75,17.0,16.5,13.0,20.0,19.25,14.5,13.25,20.5,20.0,15.5,14.0,17.5,19.75,14.75,14.0,19.0,22.0,19.0,16.0,17.0,14.5,17.5,15.75,15.5,16.0,16.5,15.0,11.0,19.25,15.75,14.75,12.75,23.0,21.0,18.0,17.5,18.75,19.5,16.5,18.0,21.0,13.0,13.0,11.0,17.5,13.0,13.0,13.25,19.0,16.5,12.0,2.5,16.25,14.25,9.0,4.25,23.0,18.5,18.0,20.5,19.25,18.0,18.0,20.5,20.0,14.5,13.0,17.0,19.75,13.75,12.25,19.0,22.0,13.5,9.0,13.0,17.0,12.0,8.25,15.5,17.0,16.0,12.0,13.0,17.0,14.25,10.5,13.75,20.0,20.0,20.0,20.0,20.75,20.0,20.0,19.25,23.0,24.5,23.0,21.5,22.75,23.75,22.25,21.25,25.0,29.0,31.0,33.0,35.5,30.25,31.0,34.25,37.0,31.0,27.0,22.5,18.0,29.25,25.5,20.25,18.0,30.5,28.0,21.0,16.25,29.5,25.0,19.0,17.0,16.5,15.0,15.0,12.5,15.75,15.75,13.5,14.0,28.5,28.0,26.0,26.25,28.0,28.0,26.0,27.0,26.0,25.0,22.0,21.0,25.75,24.25,21.0,21.0,12.5,9.0,8.0,18.5,10.5,7.5,14.0,23.0],\"z\":[0.33,0.33,0.33,0.33,0.33,0.33,0.33,0.33,0.33,0.33,0.33,0.33,0.33,0.33,0.33,0.33,0.33,0.33,0.33,0.33,0.33,0.33,0.33,0.33,0.33,0.33,0.33,0.33,0.33,0.33,0.33,0.33,0.33,0.33,0.33,0.33,0.33,0.33,0.33,0.33,0.33,0.33,0.33,0.33,0.33,0.33,0.33,0.33,0.33,0.33,0.33,0.33,0.33,0.33,0.33,0.42,0.0,0.0,0.0,0.0,0.0,0.42,0.42,0.42,0.42,0.42,0.42,0.42,0.42,0.42,0.0,0.0,0.0,0.0,0.42,0.42,0.42,0.42,0.42,0.42,0.42,0.42,0.42,0.42,2.5,2.5,2.5,2.5,2.5,2.5,2.5,2.5,2.5,2.5,2.5,2.5,2.5,2.5,2.5,2.5,2.5,2.5,2.5,2.5,2.5,2.5,2.5,2.5,2.5,2.5,2.5,2.5,0.63,0.63,0.63,0.63,0.63,0.63,0.63,0.63,1.67,1.67,1.67,1.67,1.67,1.67,1.67,1.67,0.63,0.63,0.63,0.63,0.63,0.63,0.63,0.63,1.88,1.88,1.88,1.88,1.88,1.88,1.88,1.88,0.63,0.63,0.63,0.63,0.63,0.63,0.63,0.63,0.42,0.42,0.42,0.42,0.42,0.42,0.42,0.42,0.42,0.42,0.42,0.42,0.42,0.42,0.42,0.42,0.44,0.44,0.44,0.0,0.44,0.44,0.44,0.0,0.0,0.0,0.0,0.0,0.0,0.0,0.0,0.0,0.0,0.0,0.0,0.0,0.0,0.0,0.0,0.0,0.42,0.42,0.0,0.0,0.42,0.0,0.0,0.0,0.0,0.0,0.0,0.0,0.0,0.0,0.0,0.0,2.92,2.92,2.92,2.92,2.92,2.92,2.92,2.92,0.83,0.83,0.83,0.0,0.83,0.83,0.83,0.0,0.21,0.21,0.21,0.21,0.21,0.21,0.21,0.21,0.39,0.39,0.39,0.0,0.39,0.39,0.39,0.0,1.88,1.88,1.88,1.88,1.88,1.88,1.88,1.88,5.83,5.83,5.83,5.83,5.83,5.83,5.83,5.83,2.5,2.5,2.5,2.5,2.5,2.5,2.5,2.5,3.33,3.33,3.33,3.33,3.33,3.33,3.33,3.33,1.04,1.04,1.04,1.04,1.04,1.04,1.04,1.04,0.0,0.0,0.83,0.83,0.0,0.0,0.83,0.83,0.63,0.63,0.63,0.63,0.63,0.63,0.63,0.63,0.42,0.42,0.42,0.42,0.42,0.42,0.42,0.42,0.25,0.25,0.25,0.25,0.25,0.25,0.25,0.25,0.83,0.83,0.83,0.83,0.83,0.83,0.83,0.83],\"type\":\"scatter3d\"}],                        {\"template\":{\"data\":{\"bar\":[{\"error_x\":{\"color\":\"#2a3f5f\"},\"error_y\":{\"color\":\"#2a3f5f\"},\"marker\":{\"line\":{\"color\":\"#E5ECF6\",\"width\":0.5},\"pattern\":{\"fillmode\":\"overlay\",\"size\":10,\"solidity\":0.2}},\"type\":\"bar\"}],\"barpolar\":[{\"marker\":{\"line\":{\"color\":\"#E5ECF6\",\"width\":0.5},\"pattern\":{\"fillmode\":\"overlay\",\"size\":10,\"solidity\":0.2}},\"type\":\"barpolar\"}],\"carpet\":[{\"aaxis\":{\"endlinecolor\":\"#2a3f5f\",\"gridcolor\":\"white\",\"linecolor\":\"white\",\"minorgridcolor\":\"white\",\"startlinecolor\":\"#2a3f5f\"},\"baxis\":{\"endlinecolor\":\"#2a3f5f\",\"gridcolor\":\"white\",\"linecolor\":\"white\",\"minorgridcolor\":\"white\",\"startlinecolor\":\"#2a3f5f\"},\"type\":\"carpet\"}],\"choropleth\":[{\"colorbar\":{\"outlinewidth\":0,\"ticks\":\"\"},\"type\":\"choropleth\"}],\"contour\":[{\"colorbar\":{\"outlinewidth\":0,\"ticks\":\"\"},\"colorscale\":[[0.0,\"#0d0887\"],[0.1111111111111111,\"#46039f\"],[0.2222222222222222,\"#7201a8\"],[0.3333333333333333,\"#9c179e\"],[0.4444444444444444,\"#bd3786\"],[0.5555555555555556,\"#d8576b\"],[0.6666666666666666,\"#ed7953\"],[0.7777777777777778,\"#fb9f3a\"],[0.8888888888888888,\"#fdca26\"],[1.0,\"#f0f921\"]],\"type\":\"contour\"}],\"contourcarpet\":[{\"colorbar\":{\"outlinewidth\":0,\"ticks\":\"\"},\"type\":\"contourcarpet\"}],\"heatmap\":[{\"colorbar\":{\"outlinewidth\":0,\"ticks\":\"\"},\"colorscale\":[[0.0,\"#0d0887\"],[0.1111111111111111,\"#46039f\"],[0.2222222222222222,\"#7201a8\"],[0.3333333333333333,\"#9c179e\"],[0.4444444444444444,\"#bd3786\"],[0.5555555555555556,\"#d8576b\"],[0.6666666666666666,\"#ed7953\"],[0.7777777777777778,\"#fb9f3a\"],[0.8888888888888888,\"#fdca26\"],[1.0,\"#f0f921\"]],\"type\":\"heatmap\"}],\"heatmapgl\":[{\"colorbar\":{\"outlinewidth\":0,\"ticks\":\"\"},\"colorscale\":[[0.0,\"#0d0887\"],[0.1111111111111111,\"#46039f\"],[0.2222222222222222,\"#7201a8\"],[0.3333333333333333,\"#9c179e\"],[0.4444444444444444,\"#bd3786\"],[0.5555555555555556,\"#d8576b\"],[0.6666666666666666,\"#ed7953\"],[0.7777777777777778,\"#fb9f3a\"],[0.8888888888888888,\"#fdca26\"],[1.0,\"#f0f921\"]],\"type\":\"heatmapgl\"}],\"histogram\":[{\"marker\":{\"pattern\":{\"fillmode\":\"overlay\",\"size\":10,\"solidity\":0.2}},\"type\":\"histogram\"}],\"histogram2d\":[{\"colorbar\":{\"outlinewidth\":0,\"ticks\":\"\"},\"colorscale\":[[0.0,\"#0d0887\"],[0.1111111111111111,\"#46039f\"],[0.2222222222222222,\"#7201a8\"],[0.3333333333333333,\"#9c179e\"],[0.4444444444444444,\"#bd3786\"],[0.5555555555555556,\"#d8576b\"],[0.6666666666666666,\"#ed7953\"],[0.7777777777777778,\"#fb9f3a\"],[0.8888888888888888,\"#fdca26\"],[1.0,\"#f0f921\"]],\"type\":\"histogram2d\"}],\"histogram2dcontour\":[{\"colorbar\":{\"outlinewidth\":0,\"ticks\":\"\"},\"colorscale\":[[0.0,\"#0d0887\"],[0.1111111111111111,\"#46039f\"],[0.2222222222222222,\"#7201a8\"],[0.3333333333333333,\"#9c179e\"],[0.4444444444444444,\"#bd3786\"],[0.5555555555555556,\"#d8576b\"],[0.6666666666666666,\"#ed7953\"],[0.7777777777777778,\"#fb9f3a\"],[0.8888888888888888,\"#fdca26\"],[1.0,\"#f0f921\"]],\"type\":\"histogram2dcontour\"}],\"mesh3d\":[{\"colorbar\":{\"outlinewidth\":0,\"ticks\":\"\"},\"type\":\"mesh3d\"}],\"parcoords\":[{\"line\":{\"colorbar\":{\"outlinewidth\":0,\"ticks\":\"\"}},\"type\":\"parcoords\"}],\"pie\":[{\"automargin\":true,\"type\":\"pie\"}],\"scatter\":[{\"marker\":{\"colorbar\":{\"outlinewidth\":0,\"ticks\":\"\"}},\"type\":\"scatter\"}],\"scatter3d\":[{\"line\":{\"colorbar\":{\"outlinewidth\":0,\"ticks\":\"\"}},\"marker\":{\"colorbar\":{\"outlinewidth\":0,\"ticks\":\"\"}},\"type\":\"scatter3d\"}],\"scattercarpet\":[{\"marker\":{\"colorbar\":{\"outlinewidth\":0,\"ticks\":\"\"}},\"type\":\"scattercarpet\"}],\"scattergeo\":[{\"marker\":{\"colorbar\":{\"outlinewidth\":0,\"ticks\":\"\"}},\"type\":\"scattergeo\"}],\"scattergl\":[{\"marker\":{\"colorbar\":{\"outlinewidth\":0,\"ticks\":\"\"}},\"type\":\"scattergl\"}],\"scattermapbox\":[{\"marker\":{\"colorbar\":{\"outlinewidth\":0,\"ticks\":\"\"}},\"type\":\"scattermapbox\"}],\"scatterpolar\":[{\"marker\":{\"colorbar\":{\"outlinewidth\":0,\"ticks\":\"\"}},\"type\":\"scatterpolar\"}],\"scatterpolargl\":[{\"marker\":{\"colorbar\":{\"outlinewidth\":0,\"ticks\":\"\"}},\"type\":\"scatterpolargl\"}],\"scatterternary\":[{\"marker\":{\"colorbar\":{\"outlinewidth\":0,\"ticks\":\"\"}},\"type\":\"scatterternary\"}],\"surface\":[{\"colorbar\":{\"outlinewidth\":0,\"ticks\":\"\"},\"colorscale\":[[0.0,\"#0d0887\"],[0.1111111111111111,\"#46039f\"],[0.2222222222222222,\"#7201a8\"],[0.3333333333333333,\"#9c179e\"],[0.4444444444444444,\"#bd3786\"],[0.5555555555555556,\"#d8576b\"],[0.6666666666666666,\"#ed7953\"],[0.7777777777777778,\"#fb9f3a\"],[0.8888888888888888,\"#fdca26\"],[1.0,\"#f0f921\"]],\"type\":\"surface\"}],\"table\":[{\"cells\":{\"fill\":{\"color\":\"#EBF0F8\"},\"line\":{\"color\":\"white\"}},\"header\":{\"fill\":{\"color\":\"#C8D4E3\"},\"line\":{\"color\":\"white\"}},\"type\":\"table\"}]},\"layout\":{\"annotationdefaults\":{\"arrowcolor\":\"#2a3f5f\",\"arrowhead\":0,\"arrowwidth\":1},\"autotypenumbers\":\"strict\",\"coloraxis\":{\"colorbar\":{\"outlinewidth\":0,\"ticks\":\"\"}},\"colorscale\":{\"diverging\":[[0,\"#8e0152\"],[0.1,\"#c51b7d\"],[0.2,\"#de77ae\"],[0.3,\"#f1b6da\"],[0.4,\"#fde0ef\"],[0.5,\"#f7f7f7\"],[0.6,\"#e6f5d0\"],[0.7,\"#b8e186\"],[0.8,\"#7fbc41\"],[0.9,\"#4d9221\"],[1,\"#276419\"]],\"sequential\":[[0.0,\"#0d0887\"],[0.1111111111111111,\"#46039f\"],[0.2222222222222222,\"#7201a8\"],[0.3333333333333333,\"#9c179e\"],[0.4444444444444444,\"#bd3786\"],[0.5555555555555556,\"#d8576b\"],[0.6666666666666666,\"#ed7953\"],[0.7777777777777778,\"#fb9f3a\"],[0.8888888888888888,\"#fdca26\"],[1.0,\"#f0f921\"]],\"sequentialminus\":[[0.0,\"#0d0887\"],[0.1111111111111111,\"#46039f\"],[0.2222222222222222,\"#7201a8\"],[0.3333333333333333,\"#9c179e\"],[0.4444444444444444,\"#bd3786\"],[0.5555555555555556,\"#d8576b\"],[0.6666666666666666,\"#ed7953\"],[0.7777777777777778,\"#fb9f3a\"],[0.8888888888888888,\"#fdca26\"],[1.0,\"#f0f921\"]]},\"colorway\":[\"#636efa\",\"#EF553B\",\"#00cc96\",\"#ab63fa\",\"#FFA15A\",\"#19d3f3\",\"#FF6692\",\"#B6E880\",\"#FF97FF\",\"#FECB52\"],\"font\":{\"color\":\"#2a3f5f\"},\"geo\":{\"bgcolor\":\"white\",\"lakecolor\":\"white\",\"landcolor\":\"#E5ECF6\",\"showlakes\":true,\"showland\":true,\"subunitcolor\":\"white\"},\"hoverlabel\":{\"align\":\"left\"},\"hovermode\":\"closest\",\"mapbox\":{\"style\":\"light\"},\"paper_bgcolor\":\"white\",\"plot_bgcolor\":\"#E5ECF6\",\"polar\":{\"angularaxis\":{\"gridcolor\":\"white\",\"linecolor\":\"white\",\"ticks\":\"\"},\"bgcolor\":\"#E5ECF6\",\"radialaxis\":{\"gridcolor\":\"white\",\"linecolor\":\"white\",\"ticks\":\"\"}},\"scene\":{\"xaxis\":{\"backgroundcolor\":\"#E5ECF6\",\"gridcolor\":\"white\",\"gridwidth\":2,\"linecolor\":\"white\",\"showbackground\":true,\"ticks\":\"\",\"zerolinecolor\":\"white\"},\"yaxis\":{\"backgroundcolor\":\"#E5ECF6\",\"gridcolor\":\"white\",\"gridwidth\":2,\"linecolor\":\"white\",\"showbackground\":true,\"ticks\":\"\",\"zerolinecolor\":\"white\"},\"zaxis\":{\"backgroundcolor\":\"#E5ECF6\",\"gridcolor\":\"white\",\"gridwidth\":2,\"linecolor\":\"white\",\"showbackground\":true,\"ticks\":\"\",\"zerolinecolor\":\"white\"}},\"shapedefaults\":{\"line\":{\"color\":\"#2a3f5f\"}},\"ternary\":{\"aaxis\":{\"gridcolor\":\"white\",\"linecolor\":\"white\",\"ticks\":\"\"},\"baxis\":{\"gridcolor\":\"white\",\"linecolor\":\"white\",\"ticks\":\"\"},\"bgcolor\":\"#E5ECF6\",\"caxis\":{\"gridcolor\":\"white\",\"linecolor\":\"white\",\"ticks\":\"\"}},\"title\":{\"x\":0.05},\"xaxis\":{\"automargin\":true,\"gridcolor\":\"white\",\"linecolor\":\"white\",\"ticks\":\"\",\"title\":{\"standoff\":15},\"zerolinecolor\":\"white\",\"zerolinewidth\":2},\"yaxis\":{\"automargin\":true,\"gridcolor\":\"white\",\"linecolor\":\"white\",\"ticks\":\"\",\"title\":{\"standoff\":15},\"zerolinecolor\":\"white\",\"zerolinewidth\":2}}},\"scene\":{\"domain\":{\"x\":[0.0,1.0],\"y\":[0.0,1.0]},\"xaxis\":{\"title\":{\"text\":\"Altura da Mar\\u00e9 (m)\"}},\"yaxis\":{\"title\":{\"text\":\"Velocidade do Vento (Km/h)\"}},\"zaxis\":{\"title\":{\"text\":\"Chuva (mm)\"}}},\"coloraxis\":{\"colorbar\":{\"title\":{\"text\":\"Cluster\"}},\"colorscale\":[[0.0,\"#0d0887\"],[0.1111111111111111,\"#46039f\"],[0.2222222222222222,\"#7201a8\"],[0.3333333333333333,\"#9c179e\"],[0.4444444444444444,\"#bd3786\"],[0.5555555555555556,\"#d8576b\"],[0.6666666666666666,\"#ed7953\"],[0.7777777777777778,\"#fb9f3a\"],[0.8888888888888888,\"#fdca26\"],[1.0,\"#f0f921\"]]},\"legend\":{\"tracegroupgap\":0},\"title\":{\"text\":\"3d scatter clusters\"},\"height\":600,\"width\":1100},                        {\"responsive\": true}                    ).then(function(){\n",
              "                            \n",
              "var gd = document.getElementById('d36b5bf0-0edd-44b9-9354-039e3a76ecbc');\n",
              "var x = new MutationObserver(function (mutations, observer) {{\n",
              "        var display = window.getComputedStyle(gd).display;\n",
              "        if (!display || display === 'none') {{\n",
              "            console.log([gd, 'removed!']);\n",
              "            Plotly.purge(gd);\n",
              "            observer.disconnect();\n",
              "        }}\n",
              "}});\n",
              "\n",
              "// Listen for the removal of the full notebook cells\n",
              "var notebookContainer = gd.closest('#notebook-container');\n",
              "if (notebookContainer) {{\n",
              "    x.observe(notebookContainer, {childList: true});\n",
              "}}\n",
              "\n",
              "// Listen for the clearing of the current output cell\n",
              "var outputEl = gd.closest('.output');\n",
              "if (outputEl) {{\n",
              "    x.observe(outputEl, {childList: true});\n",
              "}}\n",
              "\n",
              "                        })                };                            </script>        </div>\n",
              "</body>\n",
              "</html>"
            ]
          },
          "metadata": {}
        }
      ]
    },
    {
      "cell_type": "markdown",
      "source": [
        "##### Variação B1"
      ],
      "metadata": {
        "id": "bQpIR-oXL108"
      }
    },
    {
      "cell_type": "code",
      "source": [
        "clustering_b1 = hierarquico.fit_predict(dataset_b1)\n",
        "valores_analise['silhouette'].append(silhouette_score(dataset_b1, clustering_b1))\n",
        "valores_analise['jaccard'].append(jaccard_score(resultados, clustering_b1, average='macro'))\n",
        "valores_analise['variation'].append('B1')"
      ],
      "metadata": {
        "id": "8DodHOOkL108"
      },
      "execution_count": 1038,
      "outputs": []
    },
    {
      "cell_type": "code",
      "source": [
        "show_scatter_no_centroids(dataset_b1, clustering_b1)"
      ],
      "metadata": {
        "colab": {
          "base_uri": "https://localhost:8080/",
          "height": 0
        },
        "outputId": "457f0b8e-cd5d-47a9-a56f-20eb02a1bd50",
        "id": "NJjSQEj_L108"
      },
      "execution_count": 1039,
      "outputs": [
        {
          "output_type": "display_data",
          "data": {
            "text/plain": [
              "<Figure size 432x288 with 1 Axes>"
            ],
            "image/png": "[encoded data removed]"
          },
          "metadata": {
            "needs_background": "light"
          }
        }
      ]
    },
    {
      "cell_type": "code",
      "source": [
        "dataset_b1_cluster = dataset_b1.copy()\n",
        "dataset_b1_cluster['Cluster'] = clustering_b1\n",
        "\n",
        "show_3d_clusters(dataset_b1_cluster)"
      ],
      "metadata": {
        "colab": {
          "base_uri": "https://localhost:8080/",
          "height": 0
        },
        "id": "eS-4j2o9AdJC",
        "outputId": "51394fdf-8225-4bc6-e3bb-d026c7383822"
      },
      "execution_count": 1040,
      "outputs": [
        {
          "output_type": "display_data",
          "data": {
            "text/html": [
              "<html>\n",
              "<head><meta charset=\"utf-8\" /></head>\n",
              "<body>\n",
              "    <div>            <script src=\"https://cdnjs.cloudflare.com/ajax/libs/mathjax/2.7.5/MathJax.js?config=TeX-AMS-MML_SVG\"></script><script type=\"text/javascript\">if (window.MathJax) {MathJax.Hub.Config({SVG: {font: \"STIX-Web\"}});}</script>                <script type=\"text/javascript\">window.PlotlyConfig = {MathJaxConfig: 'local'};</script>\n",
              "        <script src=\"https://cdn.plot.ly/plotly-2.8.3.min.js\"></script>                <div id=\"3bea014e-7999-4bd8-b1c3-b5d0be54a1c9\" class=\"plotly-graph-div\" style=\"height:600px; width:1100px;\"></div>            <script type=\"text/javascript\">                                    window.PLOTLYENV=window.PLOTLYENV || {};                                    if (document.getElementById(\"3bea014e-7999-4bd8-b1c3-b5d0be54a1c9\")) {                    Plotly.newPlot(                        \"3bea014e-7999-4bd8-b1c3-b5d0be54a1c9\",                        [{\"hovertemplate\":\"Altura da Mar\\u00e9 (m)=%{x}<br>Velocidade do Vento (Km/h)=%{y}<br>Chuva (mm)=%{z}<br>Cluster=%{marker.color}<extra></extra>\",\"legendgroup\":\"\",\"marker\":{\"color\":[0,0,0,0,0,0,0,0,0,0,0,0,0,0,0,0,0,0,0,0,0,0,0,0,0,0,0,0,0,0,0,0,0,0,0,0,0,0,0,0,0,0,0,0,0,0,0,0,0,0,0,0,0,0,0,0,1,1,1,1,1,1,0,0,0,0,0,0,0,0,1,1,1,1,1,0,0,0,0,0,0,0,0,0,1,1,1,1,1,1,1,1,0,0,0,0,0,0,1,1,1,1,1,1,1,0,0,0,0,0,0,0,0,0,0,0,0,0,0,0,0,0,0,0,0,0,0,0,0,0,0,0,0,0,0,0,0,0,0,0,0,0,0,0,0,0,0,0,0,0,0,0,0,0,0,0,0,0,0,0,1,1,0,0,1,1,0,0,1,1,0,0,1,1,0,0,0,1,0,0,0,1,0,0,1,1,0,0,1,1,0,0,0,0,0,0,0,0,0,0,1,1,0,0,1,1,0,0,1,1,1,0,1,1,1,0,0,0,0,0,0,0,0,0,1,1,0,0,1,1,0,0,1,1,0,0,1,1,0,0,1,1,0,0,1,1,0,0,0,0,0,0,0,0,0,0,0,0,0,0,0,0,0,0,0,0,0,0,0,0,0,0,0,0,0,0,0,0,0,0,0,0,0,0,0,0,0,0,1,1,0,0,1,1,0,0,0,0,0,0,0,0,0,0,0,0,0,0,0,0,0,0,1,1,0,0,1,1,0,0],\"coloraxis\":\"coloraxis\",\"opacity\":0.8,\"symbol\":\"circle\"},\"mode\":\"markers\",\"name\":\"\",\"scene\":\"scene\",\"showlegend\":false,\"x\":[1.2,1.6,1.8,1.9,1.8,1.6,1.2,0.7,0.5,0.4,0.5,0.6,1.0,1.5,1.7,1.9,1.9,1.7,1.3,0.9,0.5,0.4,0.4,0.5,0.7,1.3,1.6,1.8,0.9,1.2,1.4,1.6,1.7,1.6,1.4,1.2,0.9,0.7,0.6,0.7,0.8,1.0,1.4,1.6,1.7,1.7,1.6,1.4,1.0,0.4,0.6,0.6,0.7,0.8,1.2,1.4,0.8,0.9,1.1,1.2,1.5,1.6,1.6,1.5,1.4,1.1,0.8,0.7,0.7,0.8,1.0,1.3,1.4,1.5,1.6,1.5,1.4,1.3,0.9,0.8,0.7,0.7,0.8,1.0,0.8,0.7,0.6,0.7,0.8,1.2,1.5,1.7,1.8,1.7,1.5,1.3,0.9,0.7,0.6,0.6,0.7,0.9,1.4,1.6,1.8,1.8,1.6,1.4,1.1,0.7,0.5,0.5,1.2,0.5,1.9,1.4,0.7,0.8,2.0,0.5,1.9,0.4,1.5,2.1,1.1,0.2,2.1,1.7,2.2,0.7,0.8,2.3,1.7,0.2,1.7,2.1,2.1,1.0,0.5,2.1,1.8,0.2,1.5,2.1,2.1,1.4,0.4,2.1,2.0,0.7,0.9,2.2,1.6,1.7,0.5,1.3,1.8,1.4,0.6,1.6,1.2,1.7,0.7,0.9,1.6,1.6,0.6,1.4,0.9,1.5,1.0,0.7,1.3,1.6,0.7,1.0,0.7,1.2,1.4,0.6,0.9,1.5,0.9,0.6,0.6,0.8,1.8,0.7,0.6,1.3,1.5,0.5,2.0,0.0,1.8,1.5,0.8,-0.1,2.5,1.8,2.2,0.3,1.2,2.6,1.5,-0.2,2.2,2.2,1.5,1.9,0.4,0.9,1.8,1.6,0.4,1.5,1.0,1.7,0.7,0.7,1.5,1.7,0.6,1.2,0.8,1.5,1.2,0.7,1.1,1.6,0.9,0.8,0.7,0.8,1.8,0.8,0.6,1.1,1.6,0.6,1.4,0.3,2.0,1.8,0.7,0.4,2.2,1.0,2.0,0.5,1.2,2.3,1.4,0.1,2.0,2.0,2.1,0.9,0.9,2.2,1.7,0.2,1.6,2.0,1.8,1.6,0.3,1.7,1.9,0.8,0.7,2.0,1.6,1.8,0.4,1.4,1.8,1.2,0.5,1.9,0.9,1.7,0.8,0.6,1.3,1.7,0.6,1.0,0.6,0.1,2.3,1.5,0.1,0.5,2.3,0.5,1.1,0.0,2.2,2.0,0.2,0.2,2.5,0.9,1.7,-0.1,2.0,2.4,0.5,-0.1,2.5,1.5,2.2,0.5,0.9,2.5,1.6,-0.1,2.0,2.3],\"y\":[22.5,23.0,23.5,24.0,24.0,24.0,23.5,23.0,22.0,21.0,20.0,19.0,19.0,19.0,23.0,23.5,24.0,24.0,23.5,23.0,23.0,21.0,20.0,20.0,19.0,19.0,20.0,22.0,20.0,20.0,19.0,18.0,18.0,18.0,18.5,19.0,18.5,18.0,17.0,16.0,18.0,20.0,19.5,18.5,18.0,18.0,18.25,18.75,18.75,18.25,17.5,16.5,17.0,19.0,20.25,20.75,13.0,12.0,12.0,12.0,13.0,14.0,16.5,19.0,18.5,18.0,19.5,21.0,22.5,24.0,12.5,12.0,12.0,13.5,15.25,17.75,18.75,18.25,18.75,20.25,21.75,23.25,24.25,24.75,12.5,11.0,9.0,7.0,5.5,4.0,3.5,3.0,8.0,13.0,16.0,19.0,20.5,22.0,11.75,10.0,6.25,4.75,3.75,3.25,5.5,10.5,14.5,17.5,19.75,21.25,22.25,22.75,23.0,22.0,16.0,24.0,22.75,21.25,17.75,27.0,25.0,27.0,27.5,28.75,26.25,25.5,29.0,28.0,35.5,34.0,32.5,31.25,34.75,33.25,31.75,32.0,26.0,23.0,28.0,29.25,24.5,23.25,29.0,30.0,30.0,30.0,28.0,27.0,30.0,30.25,27.0,28.0,23.0,21.0,19.5,16.75,22.5,20.75,16.75,17.0,16.5,13.0,20.0,19.25,14.5,13.25,20.5,20.0,15.5,14.0,17.5,19.75,14.75,14.0,19.0,22.0,19.0,16.0,17.0,14.5,17.5,15.75,15.5,16.0,16.5,15.0,11.0,19.25,15.75,14.75,12.75,23.0,21.0,18.0,17.5,18.75,19.5,16.5,18.0,21.0,13.0,13.0,11.0,17.5,13.0,13.0,13.25,19.0,16.5,12.0,2.5,16.25,14.25,9.0,4.25,23.0,18.5,18.0,20.5,19.25,18.0,18.0,20.5,20.0,14.5,13.0,17.0,19.75,13.75,12.25,19.0,22.0,13.5,9.0,13.0,17.0,12.0,8.25,15.5,17.0,16.0,12.0,13.0,17.0,14.25,10.5,13.75,20.0,20.0,20.0,20.0,20.75,20.0,20.0,19.25,23.0,24.5,23.0,21.5,22.75,23.75,22.25,21.25,25.0,29.0,31.0,33.0,35.5,30.25,31.0,34.25,37.0,31.0,27.0,22.5,18.0,29.25,25.5,20.25,18.0,30.5,28.0,21.0,16.25,29.5,25.0,19.0,17.0,16.5,15.0,15.0,12.5,15.75,15.75,13.5,14.0,28.5,28.0,26.0,26.25,28.0,28.0,26.0,27.0,26.0,25.0,22.0,21.0,25.75,24.25,21.0,21.0,12.5,9.0,8.0,18.5,10.5,7.5,14.0,23.0],\"z\":[0.33,0.33,0.33,0.33,0.33,0.33,0.33,0.33,0.33,0.33,0.33,0.33,0.33,0.33,0.33,0.33,0.33,0.33,0.33,0.33,0.33,0.33,0.33,0.33,0.33,0.33,0.33,0.33,0.33,0.33,0.33,0.33,0.33,0.33,0.33,0.33,0.33,0.33,0.33,0.33,0.33,0.33,0.33,0.33,0.33,0.33,0.33,0.33,0.33,0.33,0.33,0.33,0.33,0.33,0.33,0.42,0.0,0.0,0.0,0.0,0.0,0.42,0.42,0.42,0.42,0.42,0.42,0.42,0.42,0.42,0.0,0.0,0.0,0.0,0.42,0.42,0.42,0.42,0.42,0.42,0.42,0.42,0.42,0.42,2.5,2.5,2.5,2.5,2.5,2.5,2.5,2.5,2.5,2.5,2.5,2.5,2.5,2.5,2.5,2.5,2.5,2.5,2.5,2.5,2.5,2.5,2.5,2.5,2.5,2.5,2.5,2.5,0.63,0.63,0.63,0.63,0.63,0.63,0.63,0.63,1.67,1.67,1.67,1.67,1.67,1.67,1.67,1.67,0.63,0.63,0.63,0.63,0.63,0.63,0.63,0.63,1.88,1.88,1.88,1.88,1.88,1.88,1.88,1.88,0.63,0.63,0.63,0.63,0.63,0.63,0.63,0.63,0.42,0.42,0.42,0.42,0.42,0.42,0.42,0.42,0.42,0.42,0.42,0.42,0.42,0.42,0.42,0.42,0.44,0.44,0.44,0.0,0.44,0.44,0.44,0.0,0.0,0.0,0.0,0.0,0.0,0.0,0.0,0.0,0.0,0.0,0.0,0.0,0.0,0.0,0.0,0.0,0.42,0.42,0.0,0.0,0.42,0.0,0.0,0.0,0.0,0.0,0.0,0.0,0.0,0.0,0.0,0.0,2.92,2.92,2.92,2.92,2.92,2.92,2.92,2.92,0.83,0.83,0.83,0.0,0.83,0.83,0.83,0.0,0.21,0.21,0.21,0.21,0.21,0.21,0.21,0.21,0.39,0.39,0.39,0.0,0.39,0.39,0.39,0.0,1.88,1.88,1.88,1.88,1.88,1.88,1.88,1.88,5.83,5.83,5.83,5.83,5.83,5.83,5.83,5.83,2.5,2.5,2.5,2.5,2.5,2.5,2.5,2.5,3.33,3.33,3.33,3.33,3.33,3.33,3.33,3.33,1.04,1.04,1.04,1.04,1.04,1.04,1.04,1.04,0.0,0.0,0.83,0.83,0.0,0.0,0.83,0.83,0.63,0.63,0.63,0.63,0.63,0.63,0.63,0.63,0.42,0.42,0.42,0.42,0.42,0.42,0.42,0.42,0.25,0.25,0.25,0.25,0.25,0.25,0.25,0.25,0.83,0.83,0.83,0.83,0.83,0.83,0.83,0.83],\"type\":\"scatter3d\"}],                        {\"template\":{\"data\":{\"bar\":[{\"error_x\":{\"color\":\"#2a3f5f\"},\"error_y\":{\"color\":\"#2a3f5f\"},\"marker\":{\"line\":{\"color\":\"#E5ECF6\",\"width\":0.5},\"pattern\":{\"fillmode\":\"overlay\",\"size\":10,\"solidity\":0.2}},\"type\":\"bar\"}],\"barpolar\":[{\"marker\":{\"line\":{\"color\":\"#E5ECF6\",\"width\":0.5},\"pattern\":{\"fillmode\":\"overlay\",\"size\":10,\"solidity\":0.2}},\"type\":\"barpolar\"}],\"carpet\":[{\"aaxis\":{\"endlinecolor\":\"#2a3f5f\",\"gridcolor\":\"white\",\"linecolor\":\"white\",\"minorgridcolor\":\"white\",\"startlinecolor\":\"#2a3f5f\"},\"baxis\":{\"endlinecolor\":\"#2a3f5f\",\"gridcolor\":\"white\",\"linecolor\":\"white\",\"minorgridcolor\":\"white\",\"startlinecolor\":\"#2a3f5f\"},\"type\":\"carpet\"}],\"choropleth\":[{\"colorbar\":{\"outlinewidth\":0,\"ticks\":\"\"},\"type\":\"choropleth\"}],\"contour\":[{\"colorbar\":{\"outlinewidth\":0,\"ticks\":\"\"},\"colorscale\":[[0.0,\"#0d0887\"],[0.1111111111111111,\"#46039f\"],[0.2222222222222222,\"#7201a8\"],[0.3333333333333333,\"#9c179e\"],[0.4444444444444444,\"#bd3786\"],[0.5555555555555556,\"#d8576b\"],[0.6666666666666666,\"#ed7953\"],[0.7777777777777778,\"#fb9f3a\"],[0.8888888888888888,\"#fdca26\"],[1.0,\"#f0f921\"]],\"type\":\"contour\"}],\"contourcarpet\":[{\"colorbar\":{\"outlinewidth\":0,\"ticks\":\"\"},\"type\":\"contourcarpet\"}],\"heatmap\":[{\"colorbar\":{\"outlinewidth\":0,\"ticks\":\"\"},\"colorscale\":[[0.0,\"#0d0887\"],[0.1111111111111111,\"#46039f\"],[0.2222222222222222,\"#7201a8\"],[0.3333333333333333,\"#9c179e\"],[0.4444444444444444,\"#bd3786\"],[0.5555555555555556,\"#d8576b\"],[0.6666666666666666,\"#ed7953\"],[0.7777777777777778,\"#fb9f3a\"],[0.8888888888888888,\"#fdca26\"],[1.0,\"#f0f921\"]],\"type\":\"heatmap\"}],\"heatmapgl\":[{\"colorbar\":{\"outlinewidth\":0,\"ticks\":\"\"},\"colorscale\":[[0.0,\"#0d0887\"],[0.1111111111111111,\"#46039f\"],[0.2222222222222222,\"#7201a8\"],[0.3333333333333333,\"#9c179e\"],[0.4444444444444444,\"#bd3786\"],[0.5555555555555556,\"#d8576b\"],[0.6666666666666666,\"#ed7953\"],[0.7777777777777778,\"#fb9f3a\"],[0.8888888888888888,\"#fdca26\"],[1.0,\"#f0f921\"]],\"type\":\"heatmapgl\"}],\"histogram\":[{\"marker\":{\"pattern\":{\"fillmode\":\"overlay\",\"size\":10,\"solidity\":0.2}},\"type\":\"histogram\"}],\"histogram2d\":[{\"colorbar\":{\"outlinewidth\":0,\"ticks\":\"\"},\"colorscale\":[[0.0,\"#0d0887\"],[0.1111111111111111,\"#46039f\"],[0.2222222222222222,\"#7201a8\"],[0.3333333333333333,\"#9c179e\"],[0.4444444444444444,\"#bd3786\"],[0.5555555555555556,\"#d8576b\"],[0.6666666666666666,\"#ed7953\"],[0.7777777777777778,\"#fb9f3a\"],[0.8888888888888888,\"#fdca26\"],[1.0,\"#f0f921\"]],\"type\":\"histogram2d\"}],\"histogram2dcontour\":[{\"colorbar\":{\"outlinewidth\":0,\"ticks\":\"\"},\"colorscale\":[[0.0,\"#0d0887\"],[0.1111111111111111,\"#46039f\"],[0.2222222222222222,\"#7201a8\"],[0.3333333333333333,\"#9c179e\"],[0.4444444444444444,\"#bd3786\"],[0.5555555555555556,\"#d8576b\"],[0.6666666666666666,\"#ed7953\"],[0.7777777777777778,\"#fb9f3a\"],[0.8888888888888888,\"#fdca26\"],[1.0,\"#f0f921\"]],\"type\":\"histogram2dcontour\"}],\"mesh3d\":[{\"colorbar\":{\"outlinewidth\":0,\"ticks\":\"\"},\"type\":\"mesh3d\"}],\"parcoords\":[{\"line\":{\"colorbar\":{\"outlinewidth\":0,\"ticks\":\"\"}},\"type\":\"parcoords\"}],\"pie\":[{\"automargin\":true,\"type\":\"pie\"}],\"scatter\":[{\"marker\":{\"colorbar\":{\"outlinewidth\":0,\"ticks\":\"\"}},\"type\":\"scatter\"}],\"scatter3d\":[{\"line\":{\"colorbar\":{\"outlinewidth\":0,\"ticks\":\"\"}},\"marker\":{\"colorbar\":{\"outlinewidth\":0,\"ticks\":\"\"}},\"type\":\"scatter3d\"}],\"scattercarpet\":[{\"marker\":{\"colorbar\":{\"outlinewidth\":0,\"ticks\":\"\"}},\"type\":\"scattercarpet\"}],\"scattergeo\":[{\"marker\":{\"colorbar\":{\"outlinewidth\":0,\"ticks\":\"\"}},\"type\":\"scattergeo\"}],\"scattergl\":[{\"marker\":{\"colorbar\":{\"outlinewidth\":0,\"ticks\":\"\"}},\"type\":\"scattergl\"}],\"scattermapbox\":[{\"marker\":{\"colorbar\":{\"outlinewidth\":0,\"ticks\":\"\"}},\"type\":\"scattermapbox\"}],\"scatterpolar\":[{\"marker\":{\"colorbar\":{\"outlinewidth\":0,\"ticks\":\"\"}},\"type\":\"scatterpolar\"}],\"scatterpolargl\":[{\"marker\":{\"colorbar\":{\"outlinewidth\":0,\"ticks\":\"\"}},\"type\":\"scatterpolargl\"}],\"scatterternary\":[{\"marker\":{\"colorbar\":{\"outlinewidth\":0,\"ticks\":\"\"}},\"type\":\"scatterternary\"}],\"surface\":[{\"colorbar\":{\"outlinewidth\":0,\"ticks\":\"\"},\"colorscale\":[[0.0,\"#0d0887\"],[0.1111111111111111,\"#46039f\"],[0.2222222222222222,\"#7201a8\"],[0.3333333333333333,\"#9c179e\"],[0.4444444444444444,\"#bd3786\"],[0.5555555555555556,\"#d8576b\"],[0.6666666666666666,\"#ed7953\"],[0.7777777777777778,\"#fb9f3a\"],[0.8888888888888888,\"#fdca26\"],[1.0,\"#f0f921\"]],\"type\":\"surface\"}],\"table\":[{\"cells\":{\"fill\":{\"color\":\"#EBF0F8\"},\"line\":{\"color\":\"white\"}},\"header\":{\"fill\":{\"color\":\"#C8D4E3\"},\"line\":{\"color\":\"white\"}},\"type\":\"table\"}]},\"layout\":{\"annotationdefaults\":{\"arrowcolor\":\"#2a3f5f\",\"arrowhead\":0,\"arrowwidth\":1},\"autotypenumbers\":\"strict\",\"coloraxis\":{\"colorbar\":{\"outlinewidth\":0,\"ticks\":\"\"}},\"colorscale\":{\"diverging\":[[0,\"#8e0152\"],[0.1,\"#c51b7d\"],[0.2,\"#de77ae\"],[0.3,\"#f1b6da\"],[0.4,\"#fde0ef\"],[0.5,\"#f7f7f7\"],[0.6,\"#e6f5d0\"],[0.7,\"#b8e186\"],[0.8,\"#7fbc41\"],[0.9,\"#4d9221\"],[1,\"#276419\"]],\"sequential\":[[0.0,\"#0d0887\"],[0.1111111111111111,\"#46039f\"],[0.2222222222222222,\"#7201a8\"],[0.3333333333333333,\"#9c179e\"],[0.4444444444444444,\"#bd3786\"],[0.5555555555555556,\"#d8576b\"],[0.6666666666666666,\"#ed7953\"],[0.7777777777777778,\"#fb9f3a\"],[0.8888888888888888,\"#fdca26\"],[1.0,\"#f0f921\"]],\"sequentialminus\":[[0.0,\"#0d0887\"],[0.1111111111111111,\"#46039f\"],[0.2222222222222222,\"#7201a8\"],[0.3333333333333333,\"#9c179e\"],[0.4444444444444444,\"#bd3786\"],[0.5555555555555556,\"#d8576b\"],[0.6666666666666666,\"#ed7953\"],[0.7777777777777778,\"#fb9f3a\"],[0.8888888888888888,\"#fdca26\"],[1.0,\"#f0f921\"]]},\"colorway\":[\"#636efa\",\"#EF553B\",\"#00cc96\",\"#ab63fa\",\"#FFA15A\",\"#19d3f3\",\"#FF6692\",\"#B6E880\",\"#FF97FF\",\"#FECB52\"],\"font\":{\"color\":\"#2a3f5f\"},\"geo\":{\"bgcolor\":\"white\",\"lakecolor\":\"white\",\"landcolor\":\"#E5ECF6\",\"showlakes\":true,\"showland\":true,\"subunitcolor\":\"white\"},\"hoverlabel\":{\"align\":\"left\"},\"hovermode\":\"closest\",\"mapbox\":{\"style\":\"light\"},\"paper_bgcolor\":\"white\",\"plot_bgcolor\":\"#E5ECF6\",\"polar\":{\"angularaxis\":{\"gridcolor\":\"white\",\"linecolor\":\"white\",\"ticks\":\"\"},\"bgcolor\":\"#E5ECF6\",\"radialaxis\":{\"gridcolor\":\"white\",\"linecolor\":\"white\",\"ticks\":\"\"}},\"scene\":{\"xaxis\":{\"backgroundcolor\":\"#E5ECF6\",\"gridcolor\":\"white\",\"gridwidth\":2,\"linecolor\":\"white\",\"showbackground\":true,\"ticks\":\"\",\"zerolinecolor\":\"white\"},\"yaxis\":{\"backgroundcolor\":\"#E5ECF6\",\"gridcolor\":\"white\",\"gridwidth\":2,\"linecolor\":\"white\",\"showbackground\":true,\"ticks\":\"\",\"zerolinecolor\":\"white\"},\"zaxis\":{\"backgroundcolor\":\"#E5ECF6\",\"gridcolor\":\"white\",\"gridwidth\":2,\"linecolor\":\"white\",\"showbackground\":true,\"ticks\":\"\",\"zerolinecolor\":\"white\"}},\"shapedefaults\":{\"line\":{\"color\":\"#2a3f5f\"}},\"ternary\":{\"aaxis\":{\"gridcolor\":\"white\",\"linecolor\":\"white\",\"ticks\":\"\"},\"baxis\":{\"gridcolor\":\"white\",\"linecolor\":\"white\",\"ticks\":\"\"},\"bgcolor\":\"#E5ECF6\",\"caxis\":{\"gridcolor\":\"white\",\"linecolor\":\"white\",\"ticks\":\"\"}},\"title\":{\"x\":0.05},\"xaxis\":{\"automargin\":true,\"gridcolor\":\"white\",\"linecolor\":\"white\",\"ticks\":\"\",\"title\":{\"standoff\":15},\"zerolinecolor\":\"white\",\"zerolinewidth\":2},\"yaxis\":{\"automargin\":true,\"gridcolor\":\"white\",\"linecolor\":\"white\",\"ticks\":\"\",\"title\":{\"standoff\":15},\"zerolinecolor\":\"white\",\"zerolinewidth\":2}}},\"scene\":{\"domain\":{\"x\":[0.0,1.0],\"y\":[0.0,1.0]},\"xaxis\":{\"title\":{\"text\":\"Altura da Mar\\u00e9 (m)\"}},\"yaxis\":{\"title\":{\"text\":\"Velocidade do Vento (Km/h)\"}},\"zaxis\":{\"title\":{\"text\":\"Chuva (mm)\"}}},\"coloraxis\":{\"colorbar\":{\"title\":{\"text\":\"Cluster\"}},\"colorscale\":[[0.0,\"#0d0887\"],[0.1111111111111111,\"#46039f\"],[0.2222222222222222,\"#7201a8\"],[0.3333333333333333,\"#9c179e\"],[0.4444444444444444,\"#bd3786\"],[0.5555555555555556,\"#d8576b\"],[0.6666666666666666,\"#ed7953\"],[0.7777777777777778,\"#fb9f3a\"],[0.8888888888888888,\"#fdca26\"],[1.0,\"#f0f921\"]]},\"legend\":{\"tracegroupgap\":0},\"title\":{\"text\":\"3d scatter clusters\"},\"height\":600,\"width\":1100},                        {\"responsive\": true}                    ).then(function(){\n",
              "                            \n",
              "var gd = document.getElementById('3bea014e-7999-4bd8-b1c3-b5d0be54a1c9');\n",
              "var x = new MutationObserver(function (mutations, observer) {{\n",
              "        var display = window.getComputedStyle(gd).display;\n",
              "        if (!display || display === 'none') {{\n",
              "            console.log([gd, 'removed!']);\n",
              "            Plotly.purge(gd);\n",
              "            observer.disconnect();\n",
              "        }}\n",
              "}});\n",
              "\n",
              "// Listen for the removal of the full notebook cells\n",
              "var notebookContainer = gd.closest('#notebook-container');\n",
              "if (notebookContainer) {{\n",
              "    x.observe(notebookContainer, {childList: true});\n",
              "}}\n",
              "\n",
              "// Listen for the clearing of the current output cell\n",
              "var outputEl = gd.closest('.output');\n",
              "if (outputEl) {{\n",
              "    x.observe(outputEl, {childList: true});\n",
              "}}\n",
              "\n",
              "                        })                };                            </script>        </div>\n",
              "</body>\n",
              "</html>"
            ]
          },
          "metadata": {}
        }
      ]
    },
    {
      "cell_type": "markdown",
      "source": [
        "##### Variação B2"
      ],
      "metadata": {
        "id": "ylxuAe6VL109"
      }
    },
    {
      "cell_type": "code",
      "source": [
        "clustering_b2 = hierarquico.fit_predict(dataset_b2)\n",
        "valores_analise['silhouette'].append(silhouette_score(dataset_b2, clustering_b2))\n",
        "valores_analise['jaccard'].append(jaccard_score(resultados, clustering_b2, average='macro'))\n",
        "valores_analise['variation'].append('B2')"
      ],
      "metadata": {
        "id": "u-4D4HlTL10-"
      },
      "execution_count": 1041,
      "outputs": []
    },
    {
      "cell_type": "code",
      "source": [
        "show_scatter_no_centroids(dataset_b2, clustering_b2)"
      ],
      "metadata": {
        "colab": {
          "base_uri": "https://localhost:8080/",
          "height": 265
        },
        "outputId": "177650aa-d610-4834-cb63-772212204701",
        "id": "s8LUsyJFL10_"
      },
      "execution_count": 1042,
      "outputs": [
        {
          "output_type": "display_data",
          "data": {
            "text/plain": [
              "<Figure size 432x288 with 1 Axes>"
            ],
            "image/png": "[encoded data removed]"
          },
          "metadata": {
            "needs_background": "light"
          }
        }
      ]
    },
    {
      "cell_type": "code",
      "source": [
        "dataset_b2_cluster = dataset_b2.copy()\n",
        "dataset_b2_cluster['Cluster'] = clustering_b2\n",
        "\n",
        "show_3d_clusters(dataset_b2_cluster)"
      ],
      "metadata": {
        "colab": {
          "base_uri": "https://localhost:8080/",
          "height": 617
        },
        "id": "widiiF3EAiRn",
        "outputId": "807a53ba-3c63-4feb-f43b-84a874d666d3"
      },
      "execution_count": 1043,
      "outputs": [
        {
          "output_type": "display_data",
          "data": {
            "text/html": [
              "<html>\n",
              "<head><meta charset=\"utf-8\" /></head>\n",
              "<body>\n",
              "    <div>            <script src=\"https://cdnjs.cloudflare.com/ajax/libs/mathjax/2.7.5/MathJax.js?config=TeX-AMS-MML_SVG\"></script><script type=\"text/javascript\">if (window.MathJax) {MathJax.Hub.Config({SVG: {font: \"STIX-Web\"}});}</script>                <script type=\"text/javascript\">window.PlotlyConfig = {MathJaxConfig: 'local'};</script>\n",
              "        <script src=\"https://cdn.plot.ly/plotly-2.8.3.min.js\"></script>                <div id=\"826ed6ac-9a4a-471c-8608-3fd6abcbe3e0\" class=\"plotly-graph-div\" style=\"height:600px; width:1100px;\"></div>            <script type=\"text/javascript\">                                    window.PLOTLYENV=window.PLOTLYENV || {};                                    if (document.getElementById(\"826ed6ac-9a4a-471c-8608-3fd6abcbe3e0\")) {                    Plotly.newPlot(                        \"826ed6ac-9a4a-471c-8608-3fd6abcbe3e0\",                        [{\"hovertemplate\":\"Altura da Mar\\u00e9 (m)=%{x}<br>Velocidade do Vento (Km/h)=%{y}<br>Chuva (mm)=%{z}<br>Cluster=%{marker.color}<extra></extra>\",\"legendgroup\":\"\",\"marker\":{\"color\":[0,0,0,0,0,0,0,0,0,0,0,0,0,0,0,0,0,0,0,0,0,0,0,0,0,0,0,0,0,0,0,0,0,0,0,0,0,0,0,0,0,0,0,0,0,0,0,0,0,0,0,0,0,0,0,0,0,0,0,0,0,0,0,0,0,0,0,0,0,0,0,0,0,0,0,0,0,0,0,0,0,0,0,0,0,0,0,1,1,1,1,1,0,0,0,0,0,0,0,0,1,1,1,1,1,0,0,0,0,0,0,0,0,0,0,0,0,0,0,0,0,0,0,0,0,0,0,0,0,0,0,0,0,0,0,0,0,0,0,0,0,0,0,0,0,0,0,0,0,0,0,0,0,0,0,0,0,0,0,0,0,0,0,0,0,0,0,0,0,0,0,0,0,0,0,0,0,0,0,0,0,0,0,0,0,0,0,0,0,0,0,0,0,0,0,0,0,0,0,0,0,0,0,0,0,0,0,0,0,0,1,0,0,0,1,0,0,0,0,0,0,0,0,0,0,0,0,0,0,0,0,0,0,0,0,0,0,0,0,0,0,0,0,0,0,0,0,0,0,0,0,0,0,0,0,0,0,0,0,0,0,0,0,0,0,0,0,0,0,0,0,0,0,0,0,0,0,0,0,0,0,0,0,0,0,0,0,0,0,0,0,0,0,0,0,0,0,0,0,0,0,0,0,0,0,0,0,0,0,0,0,0,0,0,0,0,0,0,0,0],\"coloraxis\":\"coloraxis\",\"opacity\":0.8,\"symbol\":\"circle\"},\"mode\":\"markers\",\"name\":\"\",\"scene\":\"scene\",\"showlegend\":false,\"x\":[1.2,1.6,1.8,1.9,1.8,1.6,1.2,0.7,0.5,0.4,0.5,0.6,1.0,1.5,1.7,1.9,1.9,1.7,1.3,0.9,0.5,0.4,0.4,0.5,0.7,1.3,1.6,1.8,0.9,1.2,1.4,1.6,1.7,1.6,1.4,1.2,0.9,0.7,0.6,0.7,0.8,1.0,1.4,1.6,1.7,1.7,1.6,1.4,1.0,0.4,0.6,0.6,0.7,0.8,1.2,1.4,0.8,0.9,1.1,1.2,1.5,1.6,1.6,1.5,1.4,1.1,0.8,0.7,0.7,0.8,1.0,1.3,1.4,1.5,1.6,1.5,1.4,1.3,0.9,0.8,0.7,0.7,0.8,1.0,0.8,0.7,0.6,0.7,0.8,1.2,1.5,1.7,1.8,1.7,1.5,1.3,0.9,0.7,0.6,0.6,0.7,0.9,1.4,1.6,1.8,1.8,1.6,1.4,1.1,0.7,0.5,0.5,1.2,0.5,1.9,1.4,0.7,0.8,2.0,0.5,1.9,0.4,1.5,2.1,1.1,0.2,2.1,1.7,2.2,0.7,0.8,2.3,1.7,0.2,1.7,2.1,2.1,1.0,0.5,2.1,1.8,0.2,1.5,2.1,2.1,1.4,0.4,2.1,2.0,0.7,0.9,2.2,1.6,1.7,0.5,1.3,1.8,1.4,0.6,1.6,1.2,1.7,0.7,0.9,1.6,1.6,0.6,1.4,0.9,1.5,1.0,0.7,1.3,1.6,0.7,1.0,0.7,1.2,1.4,0.6,0.9,1.5,0.9,0.6,0.6,0.8,1.8,0.7,0.6,1.3,1.5,0.5,2.0,0.0,1.8,1.5,0.8,-0.1,2.5,1.8,2.2,0.3,1.2,2.6,1.5,-0.2,2.2,2.2,1.5,1.9,0.4,0.9,1.8,1.6,0.4,1.5,1.0,1.7,0.7,0.7,1.5,1.7,0.6,1.2,0.8,1.5,1.2,0.7,1.1,1.6,0.9,0.8,0.7,0.8,1.8,0.8,0.6,1.1,1.6,0.6,1.4,0.3,2.0,1.8,0.7,0.4,2.2,1.0,2.0,0.5,1.2,2.3,1.4,0.1,2.0,2.0,2.1,0.9,0.9,2.2,1.7,0.2,1.6,2.0,1.8,1.6,0.3,1.7,1.9,0.8,0.7,2.0,1.6,1.8,0.4,1.4,1.8,1.2,0.5,1.9,0.9,1.7,0.8,0.6,1.3,1.7,0.6,1.0,0.6,0.1,2.3,1.5,0.1,0.5,2.3,0.5,1.1,0.0,2.2,2.0,0.2,0.2,2.5,0.9,1.7,-0.1,2.0,2.4,0.5,-0.1,2.5,1.5,2.2,0.5,0.9,2.5,1.6,-0.1,2.0,2.3],\"y\":[22.5,23.0,23.5,24.0,24.0,24.0,23.5,23.0,22.0,21.0,20.0,19.0,19.0,19.0,23.0,23.5,24.0,24.0,23.5,23.0,23.0,21.0,20.0,20.0,19.0,19.0,20.0,22.0,20.0,20.0,19.0,18.0,18.0,18.0,18.5,19.0,18.5,18.0,17.0,16.0,18.0,20.0,19.5,18.5,18.0,18.0,18.25,18.75,18.75,18.25,17.5,16.5,17.0,19.0,20.25,20.75,13.0,12.0,12.0,12.0,13.0,14.0,16.5,19.0,18.5,18.0,19.5,21.0,22.5,24.0,12.5,12.0,12.0,13.5,15.25,17.75,18.75,18.25,18.75,20.25,21.75,23.25,24.25,24.75,12.5,11.0,9.0,7.0,5.5,4.0,3.5,3.0,8.0,13.0,16.0,19.0,20.5,22.0,11.75,10.0,6.25,4.75,3.75,3.25,5.5,10.5,14.5,17.5,19.75,21.25,22.25,22.75,23.0,22.0,16.0,24.0,22.75,21.25,17.75,27.0,25.0,27.0,27.5,28.75,26.25,25.5,29.0,28.0,35.5,34.0,32.5,31.25,34.75,33.25,31.75,32.0,26.0,23.0,28.0,29.25,24.5,23.25,29.0,30.0,30.0,30.0,28.0,27.0,30.0,30.25,27.0,28.0,23.0,21.0,19.5,16.75,22.5,20.75,16.75,17.0,16.5,13.0,20.0,19.25,14.5,13.25,20.5,20.0,15.5,14.0,17.5,19.75,14.75,14.0,19.0,22.0,19.0,16.0,17.0,14.5,17.5,15.75,15.5,16.0,16.5,15.0,11.0,19.25,15.75,14.75,12.75,23.0,21.0,18.0,17.5,18.75,19.5,16.5,18.0,21.0,13.0,13.0,11.0,17.5,13.0,13.0,13.25,19.0,16.5,12.0,2.5,16.25,14.25,9.0,4.25,23.0,18.5,18.0,20.5,19.25,18.0,18.0,20.5,20.0,14.5,13.0,17.0,19.75,13.75,12.25,19.0,22.0,13.5,9.0,13.0,17.0,12.0,8.25,15.5,17.0,16.0,12.0,13.0,17.0,14.25,10.5,13.75,20.0,20.0,20.0,20.0,20.75,20.0,20.0,19.25,23.0,24.5,23.0,21.5,22.75,23.75,22.25,21.25,25.0,29.0,31.0,33.0,35.5,30.25,31.0,34.25,37.0,31.0,27.0,22.5,18.0,29.25,25.5,20.25,18.0,30.5,28.0,21.0,16.25,29.5,25.0,19.0,17.0,16.5,15.0,15.0,12.5,15.75,15.75,13.5,14.0,28.5,28.0,26.0,26.25,28.0,28.0,26.0,27.0,26.0,25.0,22.0,21.0,25.75,24.25,21.0,21.0,12.5,9.0,8.0,18.5,10.5,7.5,14.0,23.0],\"z\":[0.33,0.33,0.33,0.33,0.33,0.33,0.33,0.33,0.33,0.33,0.33,0.33,0.33,0.33,0.33,0.33,0.33,0.33,0.33,0.33,0.33,0.33,0.33,0.33,0.33,0.33,0.33,0.33,0.33,0.33,0.33,0.33,0.33,0.33,0.33,0.33,0.33,0.33,0.33,0.33,0.33,0.33,0.33,0.33,0.33,0.33,0.33,0.33,0.33,0.33,0.33,0.33,0.33,0.33,0.33,0.42,0.0,0.0,0.0,0.0,0.0,0.42,0.42,0.42,0.42,0.42,0.42,0.42,0.42,0.42,0.0,0.0,0.0,0.0,0.42,0.42,0.42,0.42,0.42,0.42,0.42,0.42,0.42,0.42,2.5,2.5,2.5,2.5,2.5,2.5,2.5,2.5,2.5,2.5,2.5,2.5,2.5,2.5,2.5,2.5,2.5,2.5,2.5,2.5,2.5,2.5,2.5,2.5,2.5,2.5,2.5,2.5,0.63,0.63,0.63,0.63,0.63,0.63,0.63,0.63,1.67,1.67,1.67,1.67,1.67,1.67,1.67,1.67,0.63,0.63,0.63,0.63,0.63,0.63,0.63,0.63,1.88,1.88,1.88,1.88,1.88,1.88,1.88,1.88,0.63,0.63,0.63,0.63,0.63,0.63,0.63,0.63,0.42,0.42,0.42,0.42,0.42,0.42,0.42,0.42,0.42,0.42,0.42,0.42,0.42,0.42,0.42,0.42,0.44,0.44,0.44,0.0,0.44,0.44,0.44,0.0,0.0,0.0,0.0,0.0,0.0,0.0,0.0,0.0,0.0,0.0,0.0,0.0,0.0,0.0,0.0,0.0,0.42,0.42,0.0,0.0,0.42,0.0,0.0,0.0,0.0,0.0,0.0,0.0,0.0,0.0,0.0,0.0,2.92,2.92,2.92,2.92,2.92,2.92,2.92,2.92,0.83,0.83,0.83,0.0,0.83,0.83,0.83,0.0,0.21,0.21,0.21,0.21,0.21,0.21,0.21,0.21,0.39,0.39,0.39,0.0,0.39,0.39,0.39,0.0,1.88,1.88,1.88,1.88,1.88,1.88,1.88,1.88,5.83,5.83,5.83,5.83,5.83,5.83,5.83,5.83,2.5,2.5,2.5,2.5,2.5,2.5,2.5,2.5,3.33,3.33,3.33,3.33,3.33,3.33,3.33,3.33,1.04,1.04,1.04,1.04,1.04,1.04,1.04,1.04,0.0,0.0,0.83,0.83,0.0,0.0,0.83,0.83,0.63,0.63,0.63,0.63,0.63,0.63,0.63,0.63,0.42,0.42,0.42,0.42,0.42,0.42,0.42,0.42,0.25,0.25,0.25,0.25,0.25,0.25,0.25,0.25,0.83,0.83,0.83,0.83,0.83,0.83,0.83,0.83],\"type\":\"scatter3d\"}],                        {\"template\":{\"data\":{\"bar\":[{\"error_x\":{\"color\":\"#2a3f5f\"},\"error_y\":{\"color\":\"#2a3f5f\"},\"marker\":{\"line\":{\"color\":\"#E5ECF6\",\"width\":0.5},\"pattern\":{\"fillmode\":\"overlay\",\"size\":10,\"solidity\":0.2}},\"type\":\"bar\"}],\"barpolar\":[{\"marker\":{\"line\":{\"color\":\"#E5ECF6\",\"width\":0.5},\"pattern\":{\"fillmode\":\"overlay\",\"size\":10,\"solidity\":0.2}},\"type\":\"barpolar\"}],\"carpet\":[{\"aaxis\":{\"endlinecolor\":\"#2a3f5f\",\"gridcolor\":\"white\",\"linecolor\":\"white\",\"minorgridcolor\":\"white\",\"startlinecolor\":\"#2a3f5f\"},\"baxis\":{\"endlinecolor\":\"#2a3f5f\",\"gridcolor\":\"white\",\"linecolor\":\"white\",\"minorgridcolor\":\"white\",\"startlinecolor\":\"#2a3f5f\"},\"type\":\"carpet\"}],\"choropleth\":[{\"colorbar\":{\"outlinewidth\":0,\"ticks\":\"\"},\"type\":\"choropleth\"}],\"contour\":[{\"colorbar\":{\"outlinewidth\":0,\"ticks\":\"\"},\"colorscale\":[[0.0,\"#0d0887\"],[0.1111111111111111,\"#46039f\"],[0.2222222222222222,\"#7201a8\"],[0.3333333333333333,\"#9c179e\"],[0.4444444444444444,\"#bd3786\"],[0.5555555555555556,\"#d8576b\"],[0.6666666666666666,\"#ed7953\"],[0.7777777777777778,\"#fb9f3a\"],[0.8888888888888888,\"#fdca26\"],[1.0,\"#f0f921\"]],\"type\":\"contour\"}],\"contourcarpet\":[{\"colorbar\":{\"outlinewidth\":0,\"ticks\":\"\"},\"type\":\"contourcarpet\"}],\"heatmap\":[{\"colorbar\":{\"outlinewidth\":0,\"ticks\":\"\"},\"colorscale\":[[0.0,\"#0d0887\"],[0.1111111111111111,\"#46039f\"],[0.2222222222222222,\"#7201a8\"],[0.3333333333333333,\"#9c179e\"],[0.4444444444444444,\"#bd3786\"],[0.5555555555555556,\"#d8576b\"],[0.6666666666666666,\"#ed7953\"],[0.7777777777777778,\"#fb9f3a\"],[0.8888888888888888,\"#fdca26\"],[1.0,\"#f0f921\"]],\"type\":\"heatmap\"}],\"heatmapgl\":[{\"colorbar\":{\"outlinewidth\":0,\"ticks\":\"\"},\"colorscale\":[[0.0,\"#0d0887\"],[0.1111111111111111,\"#46039f\"],[0.2222222222222222,\"#7201a8\"],[0.3333333333333333,\"#9c179e\"],[0.4444444444444444,\"#bd3786\"],[0.5555555555555556,\"#d8576b\"],[0.6666666666666666,\"#ed7953\"],[0.7777777777777778,\"#fb9f3a\"],[0.8888888888888888,\"#fdca26\"],[1.0,\"#f0f921\"]],\"type\":\"heatmapgl\"}],\"histogram\":[{\"marker\":{\"pattern\":{\"fillmode\":\"overlay\",\"size\":10,\"solidity\":0.2}},\"type\":\"histogram\"}],\"histogram2d\":[{\"colorbar\":{\"outlinewidth\":0,\"ticks\":\"\"},\"colorscale\":[[0.0,\"#0d0887\"],[0.1111111111111111,\"#46039f\"],[0.2222222222222222,\"#7201a8\"],[0.3333333333333333,\"#9c179e\"],[0.4444444444444444,\"#bd3786\"],[0.5555555555555556,\"#d8576b\"],[0.6666666666666666,\"#ed7953\"],[0.7777777777777778,\"#fb9f3a\"],[0.8888888888888888,\"#fdca26\"],[1.0,\"#f0f921\"]],\"type\":\"histogram2d\"}],\"histogram2dcontour\":[{\"colorbar\":{\"outlinewidth\":0,\"ticks\":\"\"},\"colorscale\":[[0.0,\"#0d0887\"],[0.1111111111111111,\"#46039f\"],[0.2222222222222222,\"#7201a8\"],[0.3333333333333333,\"#9c179e\"],[0.4444444444444444,\"#bd3786\"],[0.5555555555555556,\"#d8576b\"],[0.6666666666666666,\"#ed7953\"],[0.7777777777777778,\"#fb9f3a\"],[0.8888888888888888,\"#fdca26\"],[1.0,\"#f0f921\"]],\"type\":\"histogram2dcontour\"}],\"mesh3d\":[{\"colorbar\":{\"outlinewidth\":0,\"ticks\":\"\"},\"type\":\"mesh3d\"}],\"parcoords\":[{\"line\":{\"colorbar\":{\"outlinewidth\":0,\"ticks\":\"\"}},\"type\":\"parcoords\"}],\"pie\":[{\"automargin\":true,\"type\":\"pie\"}],\"scatter\":[{\"marker\":{\"colorbar\":{\"outlinewidth\":0,\"ticks\":\"\"}},\"type\":\"scatter\"}],\"scatter3d\":[{\"line\":{\"colorbar\":{\"outlinewidth\":0,\"ticks\":\"\"}},\"marker\":{\"colorbar\":{\"outlinewidth\":0,\"ticks\":\"\"}},\"type\":\"scatter3d\"}],\"scattercarpet\":[{\"marker\":{\"colorbar\":{\"outlinewidth\":0,\"ticks\":\"\"}},\"type\":\"scattercarpet\"}],\"scattergeo\":[{\"marker\":{\"colorbar\":{\"outlinewidth\":0,\"ticks\":\"\"}},\"type\":\"scattergeo\"}],\"scattergl\":[{\"marker\":{\"colorbar\":{\"outlinewidth\":0,\"ticks\":\"\"}},\"type\":\"scattergl\"}],\"scattermapbox\":[{\"marker\":{\"colorbar\":{\"outlinewidth\":0,\"ticks\":\"\"}},\"type\":\"scattermapbox\"}],\"scatterpolar\":[{\"marker\":{\"colorbar\":{\"outlinewidth\":0,\"ticks\":\"\"}},\"type\":\"scatterpolar\"}],\"scatterpolargl\":[{\"marker\":{\"colorbar\":{\"outlinewidth\":0,\"ticks\":\"\"}},\"type\":\"scatterpolargl\"}],\"scatterternary\":[{\"marker\":{\"colorbar\":{\"outlinewidth\":0,\"ticks\":\"\"}},\"type\":\"scatterternary\"}],\"surface\":[{\"colorbar\":{\"outlinewidth\":0,\"ticks\":\"\"},\"colorscale\":[[0.0,\"#0d0887\"],[0.1111111111111111,\"#46039f\"],[0.2222222222222222,\"#7201a8\"],[0.3333333333333333,\"#9c179e\"],[0.4444444444444444,\"#bd3786\"],[0.5555555555555556,\"#d8576b\"],[0.6666666666666666,\"#ed7953\"],[0.7777777777777778,\"#fb9f3a\"],[0.8888888888888888,\"#fdca26\"],[1.0,\"#f0f921\"]],\"type\":\"surface\"}],\"table\":[{\"cells\":{\"fill\":{\"color\":\"#EBF0F8\"},\"line\":{\"color\":\"white\"}},\"header\":{\"fill\":{\"color\":\"#C8D4E3\"},\"line\":{\"color\":\"white\"}},\"type\":\"table\"}]},\"layout\":{\"annotationdefaults\":{\"arrowcolor\":\"#2a3f5f\",\"arrowhead\":0,\"arrowwidth\":1},\"autotypenumbers\":\"strict\",\"coloraxis\":{\"colorbar\":{\"outlinewidth\":0,\"ticks\":\"\"}},\"colorscale\":{\"diverging\":[[0,\"#8e0152\"],[0.1,\"#c51b7d\"],[0.2,\"#de77ae\"],[0.3,\"#f1b6da\"],[0.4,\"#fde0ef\"],[0.5,\"#f7f7f7\"],[0.6,\"#e6f5d0\"],[0.7,\"#b8e186\"],[0.8,\"#7fbc41\"],[0.9,\"#4d9221\"],[1,\"#276419\"]],\"sequential\":[[0.0,\"#0d0887\"],[0.1111111111111111,\"#46039f\"],[0.2222222222222222,\"#7201a8\"],[0.3333333333333333,\"#9c179e\"],[0.4444444444444444,\"#bd3786\"],[0.5555555555555556,\"#d8576b\"],[0.6666666666666666,\"#ed7953\"],[0.7777777777777778,\"#fb9f3a\"],[0.8888888888888888,\"#fdca26\"],[1.0,\"#f0f921\"]],\"sequentialminus\":[[0.0,\"#0d0887\"],[0.1111111111111111,\"#46039f\"],[0.2222222222222222,\"#7201a8\"],[0.3333333333333333,\"#9c179e\"],[0.4444444444444444,\"#bd3786\"],[0.5555555555555556,\"#d8576b\"],[0.6666666666666666,\"#ed7953\"],[0.7777777777777778,\"#fb9f3a\"],[0.8888888888888888,\"#fdca26\"],[1.0,\"#f0f921\"]]},\"colorway\":[\"#636efa\",\"#EF553B\",\"#00cc96\",\"#ab63fa\",\"#FFA15A\",\"#19d3f3\",\"#FF6692\",\"#B6E880\",\"#FF97FF\",\"#FECB52\"],\"font\":{\"color\":\"#2a3f5f\"},\"geo\":{\"bgcolor\":\"white\",\"lakecolor\":\"white\",\"landcolor\":\"#E5ECF6\",\"showlakes\":true,\"showland\":true,\"subunitcolor\":\"white\"},\"hoverlabel\":{\"align\":\"left\"},\"hovermode\":\"closest\",\"mapbox\":{\"style\":\"light\"},\"paper_bgcolor\":\"white\",\"plot_bgcolor\":\"#E5ECF6\",\"polar\":{\"angularaxis\":{\"gridcolor\":\"white\",\"linecolor\":\"white\",\"ticks\":\"\"},\"bgcolor\":\"#E5ECF6\",\"radialaxis\":{\"gridcolor\":\"white\",\"linecolor\":\"white\",\"ticks\":\"\"}},\"scene\":{\"xaxis\":{\"backgroundcolor\":\"#E5ECF6\",\"gridcolor\":\"white\",\"gridwidth\":2,\"linecolor\":\"white\",\"showbackground\":true,\"ticks\":\"\",\"zerolinecolor\":\"white\"},\"yaxis\":{\"backgroundcolor\":\"#E5ECF6\",\"gridcolor\":\"white\",\"gridwidth\":2,\"linecolor\":\"white\",\"showbackground\":true,\"ticks\":\"\",\"zerolinecolor\":\"white\"},\"zaxis\":{\"backgroundcolor\":\"#E5ECF6\",\"gridcolor\":\"white\",\"gridwidth\":2,\"linecolor\":\"white\",\"showbackground\":true,\"ticks\":\"\",\"zerolinecolor\":\"white\"}},\"shapedefaults\":{\"line\":{\"color\":\"#2a3f5f\"}},\"ternary\":{\"aaxis\":{\"gridcolor\":\"white\",\"linecolor\":\"white\",\"ticks\":\"\"},\"baxis\":{\"gridcolor\":\"white\",\"linecolor\":\"white\",\"ticks\":\"\"},\"bgcolor\":\"#E5ECF6\",\"caxis\":{\"gridcolor\":\"white\",\"linecolor\":\"white\",\"ticks\":\"\"}},\"title\":{\"x\":0.05},\"xaxis\":{\"automargin\":true,\"gridcolor\":\"white\",\"linecolor\":\"white\",\"ticks\":\"\",\"title\":{\"standoff\":15},\"zerolinecolor\":\"white\",\"zerolinewidth\":2},\"yaxis\":{\"automargin\":true,\"gridcolor\":\"white\",\"linecolor\":\"white\",\"ticks\":\"\",\"title\":{\"standoff\":15},\"zerolinecolor\":\"white\",\"zerolinewidth\":2}}},\"scene\":{\"domain\":{\"x\":[0.0,1.0],\"y\":[0.0,1.0]},\"xaxis\":{\"title\":{\"text\":\"Altura da Mar\\u00e9 (m)\"}},\"yaxis\":{\"title\":{\"text\":\"Velocidade do Vento (Km/h)\"}},\"zaxis\":{\"title\":{\"text\":\"Chuva (mm)\"}}},\"coloraxis\":{\"colorbar\":{\"title\":{\"text\":\"Cluster\"}},\"colorscale\":[[0.0,\"#0d0887\"],[0.1111111111111111,\"#46039f\"],[0.2222222222222222,\"#7201a8\"],[0.3333333333333333,\"#9c179e\"],[0.4444444444444444,\"#bd3786\"],[0.5555555555555556,\"#d8576b\"],[0.6666666666666666,\"#ed7953\"],[0.7777777777777778,\"#fb9f3a\"],[0.8888888888888888,\"#fdca26\"],[1.0,\"#f0f921\"]]},\"legend\":{\"tracegroupgap\":0},\"title\":{\"text\":\"3d scatter clusters\"},\"height\":600,\"width\":1100},                        {\"responsive\": true}                    ).then(function(){\n",
              "                            \n",
              "var gd = document.getElementById('826ed6ac-9a4a-471c-8608-3fd6abcbe3e0');\n",
              "var x = new MutationObserver(function (mutations, observer) {{\n",
              "        var display = window.getComputedStyle(gd).display;\n",
              "        if (!display || display === 'none') {{\n",
              "            console.log([gd, 'removed!']);\n",
              "            Plotly.purge(gd);\n",
              "            observer.disconnect();\n",
              "        }}\n",
              "}});\n",
              "\n",
              "// Listen for the removal of the full notebook cells\n",
              "var notebookContainer = gd.closest('#notebook-container');\n",
              "if (notebookContainer) {{\n",
              "    x.observe(notebookContainer, {childList: true});\n",
              "}}\n",
              "\n",
              "// Listen for the clearing of the current output cell\n",
              "var outputEl = gd.closest('.output');\n",
              "if (outputEl) {{\n",
              "    x.observe(outputEl, {childList: true});\n",
              "}}\n",
              "\n",
              "                        })                };                            </script>        </div>\n",
              "</body>\n",
              "</html>"
            ]
          },
          "metadata": {}
        }
      ]
    },
    {
      "cell_type": "markdown",
      "source": [
        "##### Análise dos resultados Hierarquico\n"
      ],
      "metadata": {
        "id": "fmPIyqSZ-3BG"
      }
    },
    {
      "cell_type": "code",
      "source": [
        "val_analises_df = pd.DataFrame(valores_analise)"
      ],
      "metadata": {
        "id": "-XqitqBOkNHm"
      },
      "execution_count": 1044,
      "outputs": []
    },
    {
      "cell_type": "markdown",
      "source": [
        "O Coeficiente de Silhueta é calculado usando a distância média intra-cluster ($a$) e a distância média do cluster mais próximo ($b$) para cada amostra. O coeficiente de silhueta para uma amostra é $\\frac{(b - a)}{max(a, b)}$. Para esclarecer, $b$ é a distância entre uma amostra e o cluster mais próximo do qual a amostra não faz parte. Observe que o Coeficiente de Silhueta só é definido se o número de rótulos for $2 <= n_{labels} <= n_{samples} - 1$.\n",
        "\n",
        "Esta função retorna o Coeficiente de Silhueta médio de todas as amostras. \n",
        "\n",
        "O melhor valor é $1$ e o pior valor é $-1$. Valores próximos a $0$ indicam clusters sobrepostos. Valores negativos geralmente indicam que uma amostra foi atribuída ao cluster errado, pois um cluster diferente é mais semelhante."
      ],
      "metadata": {
        "id": "TFogbtIDgSMf"
      }
    },
    {
      "cell_type": "code",
      "source": [
        "show_silhouette(val_analises_df, [0.3, 0.4])"
      ],
      "metadata": {
        "colab": {
          "base_uri": "https://localhost:8080/",
          "height": 0
        },
        "id": "9oR-o5GRIol_",
        "outputId": "90199e31-9f76-44e1-cb8f-77ff0e692793"
      },
      "execution_count": 1045,
      "outputs": [
        {
          "output_type": "display_data",
          "data": {
            "text/html": [
              "<html>\n",
              "<head><meta charset=\"utf-8\" /></head>\n",
              "<body>\n",
              "    <div>            <script src=\"https://cdnjs.cloudflare.com/ajax/libs/mathjax/2.7.5/MathJax.js?config=TeX-AMS-MML_SVG\"></script><script type=\"text/javascript\">if (window.MathJax) {MathJax.Hub.Config({SVG: {font: \"STIX-Web\"}});}</script>                <script type=\"text/javascript\">window.PlotlyConfig = {MathJaxConfig: 'local'};</script>\n",
              "        <script src=\"https://cdn.plot.ly/plotly-2.8.3.min.js\"></script>                <div id=\"64a055ad-f738-42c5-bba7-b9c71fd06579\" class=\"plotly-graph-div\" style=\"height:600px; width:800px;\"></div>            <script type=\"text/javascript\">                                    window.PLOTLYENV=window.PLOTLYENV || {};                                    if (document.getElementById(\"64a055ad-f738-42c5-bba7-b9c71fd06579\")) {                    Plotly.newPlot(                        \"64a055ad-f738-42c5-bba7-b9c71fd06579\",                        [{\"alignmentgroup\":\"True\",\"hovertemplate\":\"variation=%{x}<br>silhouette=%{text}<extra></extra>\",\"legendgroup\":\"A1\",\"marker\":{\"color\":\"#636efa\",\"pattern\":{\"shape\":\"\"}},\"name\":\"A1\",\"offsetgroup\":\"A1\",\"orientation\":\"v\",\"showlegend\":true,\"text\":[0.3827089744826355],\"textposition\":\"outside\",\"x\":[\"A1\"],\"xaxis\":\"x\",\"y\":[0.3827089744826355],\"yaxis\":\"y\",\"type\":\"bar\",\"textfont\":{\"size\":12},\"cliponaxis\":false,\"textangle\":0},{\"alignmentgroup\":\"True\",\"hovertemplate\":\"variation=%{x}<br>silhouette=%{text}<extra></extra>\",\"legendgroup\":\"A2\",\"marker\":{\"color\":\"#EF553B\",\"pattern\":{\"shape\":\"\"}},\"name\":\"A2\",\"offsetgroup\":\"A2\",\"orientation\":\"v\",\"showlegend\":true,\"text\":[0.3566173001434601],\"textposition\":\"outside\",\"x\":[\"A2\"],\"xaxis\":\"x\",\"y\":[0.3566173001434601],\"yaxis\":\"y\",\"type\":\"bar\",\"textfont\":{\"size\":12},\"cliponaxis\":false,\"textangle\":0},{\"alignmentgroup\":\"True\",\"hovertemplate\":\"variation=%{x}<br>silhouette=%{text}<extra></extra>\",\"legendgroup\":\"B1\",\"marker\":{\"color\":\"#00cc96\",\"pattern\":{\"shape\":\"\"}},\"name\":\"B1\",\"offsetgroup\":\"B1\",\"orientation\":\"v\",\"showlegend\":true,\"text\":[0.33314288885929544],\"textposition\":\"outside\",\"x\":[\"B1\"],\"xaxis\":\"x\",\"y\":[0.33314288885929544],\"yaxis\":\"y\",\"type\":\"bar\",\"textfont\":{\"size\":12},\"cliponaxis\":false,\"textangle\":0},{\"alignmentgroup\":\"True\",\"hovertemplate\":\"variation=%{x}<br>silhouette=%{text}<extra></extra>\",\"legendgroup\":\"B2\",\"marker\":{\"color\":\"#ab63fa\",\"pattern\":{\"shape\":\"\"}},\"name\":\"B2\",\"offsetgroup\":\"B2\",\"orientation\":\"v\",\"showlegend\":true,\"text\":[0.3805835248323088],\"textposition\":\"outside\",\"x\":[\"B2\"],\"xaxis\":\"x\",\"y\":[0.3805835248323088],\"yaxis\":\"y\",\"type\":\"bar\",\"textfont\":{\"size\":12},\"cliponaxis\":false,\"textangle\":0}],                        {\"template\":{\"data\":{\"bar\":[{\"error_x\":{\"color\":\"#2a3f5f\"},\"error_y\":{\"color\":\"#2a3f5f\"},\"marker\":{\"line\":{\"color\":\"#E5ECF6\",\"width\":0.5},\"pattern\":{\"fillmode\":\"overlay\",\"size\":10,\"solidity\":0.2}},\"type\":\"bar\"}],\"barpolar\":[{\"marker\":{\"line\":{\"color\":\"#E5ECF6\",\"width\":0.5},\"pattern\":{\"fillmode\":\"overlay\",\"size\":10,\"solidity\":0.2}},\"type\":\"barpolar\"}],\"carpet\":[{\"aaxis\":{\"endlinecolor\":\"#2a3f5f\",\"gridcolor\":\"white\",\"linecolor\":\"white\",\"minorgridcolor\":\"white\",\"startlinecolor\":\"#2a3f5f\"},\"baxis\":{\"endlinecolor\":\"#2a3f5f\",\"gridcolor\":\"white\",\"linecolor\":\"white\",\"minorgridcolor\":\"white\",\"startlinecolor\":\"#2a3f5f\"},\"type\":\"carpet\"}],\"choropleth\":[{\"colorbar\":{\"outlinewidth\":0,\"ticks\":\"\"},\"type\":\"choropleth\"}],\"contour\":[{\"colorbar\":{\"outlinewidth\":0,\"ticks\":\"\"},\"colorscale\":[[0.0,\"#0d0887\"],[0.1111111111111111,\"#46039f\"],[0.2222222222222222,\"#7201a8\"],[0.3333333333333333,\"#9c179e\"],[0.4444444444444444,\"#bd3786\"],[0.5555555555555556,\"#d8576b\"],[0.6666666666666666,\"#ed7953\"],[0.7777777777777778,\"#fb9f3a\"],[0.8888888888888888,\"#fdca26\"],[1.0,\"#f0f921\"]],\"type\":\"contour\"}],\"contourcarpet\":[{\"colorbar\":{\"outlinewidth\":0,\"ticks\":\"\"},\"type\":\"contourcarpet\"}],\"heatmap\":[{\"colorbar\":{\"outlinewidth\":0,\"ticks\":\"\"},\"colorscale\":[[0.0,\"#0d0887\"],[0.1111111111111111,\"#46039f\"],[0.2222222222222222,\"#7201a8\"],[0.3333333333333333,\"#9c179e\"],[0.4444444444444444,\"#bd3786\"],[0.5555555555555556,\"#d8576b\"],[0.6666666666666666,\"#ed7953\"],[0.7777777777777778,\"#fb9f3a\"],[0.8888888888888888,\"#fdca26\"],[1.0,\"#f0f921\"]],\"type\":\"heatmap\"}],\"heatmapgl\":[{\"colorbar\":{\"outlinewidth\":0,\"ticks\":\"\"},\"colorscale\":[[0.0,\"#0d0887\"],[0.1111111111111111,\"#46039f\"],[0.2222222222222222,\"#7201a8\"],[0.3333333333333333,\"#9c179e\"],[0.4444444444444444,\"#bd3786\"],[0.5555555555555556,\"#d8576b\"],[0.6666666666666666,\"#ed7953\"],[0.7777777777777778,\"#fb9f3a\"],[0.8888888888888888,\"#fdca26\"],[1.0,\"#f0f921\"]],\"type\":\"heatmapgl\"}],\"histogram\":[{\"marker\":{\"pattern\":{\"fillmode\":\"overlay\",\"size\":10,\"solidity\":0.2}},\"type\":\"histogram\"}],\"histogram2d\":[{\"colorbar\":{\"outlinewidth\":0,\"ticks\":\"\"},\"colorscale\":[[0.0,\"#0d0887\"],[0.1111111111111111,\"#46039f\"],[0.2222222222222222,\"#7201a8\"],[0.3333333333333333,\"#9c179e\"],[0.4444444444444444,\"#bd3786\"],[0.5555555555555556,\"#d8576b\"],[0.6666666666666666,\"#ed7953\"],[0.7777777777777778,\"#fb9f3a\"],[0.8888888888888888,\"#fdca26\"],[1.0,\"#f0f921\"]],\"type\":\"histogram2d\"}],\"histogram2dcontour\":[{\"colorbar\":{\"outlinewidth\":0,\"ticks\":\"\"},\"colorscale\":[[0.0,\"#0d0887\"],[0.1111111111111111,\"#46039f\"],[0.2222222222222222,\"#7201a8\"],[0.3333333333333333,\"#9c179e\"],[0.4444444444444444,\"#bd3786\"],[0.5555555555555556,\"#d8576b\"],[0.6666666666666666,\"#ed7953\"],[0.7777777777777778,\"#fb9f3a\"],[0.8888888888888888,\"#fdca26\"],[1.0,\"#f0f921\"]],\"type\":\"histogram2dcontour\"}],\"mesh3d\":[{\"colorbar\":{\"outlinewidth\":0,\"ticks\":\"\"},\"type\":\"mesh3d\"}],\"parcoords\":[{\"line\":{\"colorbar\":{\"outlinewidth\":0,\"ticks\":\"\"}},\"type\":\"parcoords\"}],\"pie\":[{\"automargin\":true,\"type\":\"pie\"}],\"scatter\":[{\"marker\":{\"colorbar\":{\"outlinewidth\":0,\"ticks\":\"\"}},\"type\":\"scatter\"}],\"scatter3d\":[{\"line\":{\"colorbar\":{\"outlinewidth\":0,\"ticks\":\"\"}},\"marker\":{\"colorbar\":{\"outlinewidth\":0,\"ticks\":\"\"}},\"type\":\"scatter3d\"}],\"scattercarpet\":[{\"marker\":{\"colorbar\":{\"outlinewidth\":0,\"ticks\":\"\"}},\"type\":\"scattercarpet\"}],\"scattergeo\":[{\"marker\":{\"colorbar\":{\"outlinewidth\":0,\"ticks\":\"\"}},\"type\":\"scattergeo\"}],\"scattergl\":[{\"marker\":{\"colorbar\":{\"outlinewidth\":0,\"ticks\":\"\"}},\"type\":\"scattergl\"}],\"scattermapbox\":[{\"marker\":{\"colorbar\":{\"outlinewidth\":0,\"ticks\":\"\"}},\"type\":\"scattermapbox\"}],\"scatterpolar\":[{\"marker\":{\"colorbar\":{\"outlinewidth\":0,\"ticks\":\"\"}},\"type\":\"scatterpolar\"}],\"scatterpolargl\":[{\"marker\":{\"colorbar\":{\"outlinewidth\":0,\"ticks\":\"\"}},\"type\":\"scatterpolargl\"}],\"scatterternary\":[{\"marker\":{\"colorbar\":{\"outlinewidth\":0,\"ticks\":\"\"}},\"type\":\"scatterternary\"}],\"surface\":[{\"colorbar\":{\"outlinewidth\":0,\"ticks\":\"\"},\"colorscale\":[[0.0,\"#0d0887\"],[0.1111111111111111,\"#46039f\"],[0.2222222222222222,\"#7201a8\"],[0.3333333333333333,\"#9c179e\"],[0.4444444444444444,\"#bd3786\"],[0.5555555555555556,\"#d8576b\"],[0.6666666666666666,\"#ed7953\"],[0.7777777777777778,\"#fb9f3a\"],[0.8888888888888888,\"#fdca26\"],[1.0,\"#f0f921\"]],\"type\":\"surface\"}],\"table\":[{\"cells\":{\"fill\":{\"color\":\"#EBF0F8\"},\"line\":{\"color\":\"white\"}},\"header\":{\"fill\":{\"color\":\"#C8D4E3\"},\"line\":{\"color\":\"white\"}},\"type\":\"table\"}]},\"layout\":{\"annotationdefaults\":{\"arrowcolor\":\"#2a3f5f\",\"arrowhead\":0,\"arrowwidth\":1},\"autotypenumbers\":\"strict\",\"coloraxis\":{\"colorbar\":{\"outlinewidth\":0,\"ticks\":\"\"}},\"colorscale\":{\"diverging\":[[0,\"#8e0152\"],[0.1,\"#c51b7d\"],[0.2,\"#de77ae\"],[0.3,\"#f1b6da\"],[0.4,\"#fde0ef\"],[0.5,\"#f7f7f7\"],[0.6,\"#e6f5d0\"],[0.7,\"#b8e186\"],[0.8,\"#7fbc41\"],[0.9,\"#4d9221\"],[1,\"#276419\"]],\"sequential\":[[0.0,\"#0d0887\"],[0.1111111111111111,\"#46039f\"],[0.2222222222222222,\"#7201a8\"],[0.3333333333333333,\"#9c179e\"],[0.4444444444444444,\"#bd3786\"],[0.5555555555555556,\"#d8576b\"],[0.6666666666666666,\"#ed7953\"],[0.7777777777777778,\"#fb9f3a\"],[0.8888888888888888,\"#fdca26\"],[1.0,\"#f0f921\"]],\"sequentialminus\":[[0.0,\"#0d0887\"],[0.1111111111111111,\"#46039f\"],[0.2222222222222222,\"#7201a8\"],[0.3333333333333333,\"#9c179e\"],[0.4444444444444444,\"#bd3786\"],[0.5555555555555556,\"#d8576b\"],[0.6666666666666666,\"#ed7953\"],[0.7777777777777778,\"#fb9f3a\"],[0.8888888888888888,\"#fdca26\"],[1.0,\"#f0f921\"]]},\"colorway\":[\"#636efa\",\"#EF553B\",\"#00cc96\",\"#ab63fa\",\"#FFA15A\",\"#19d3f3\",\"#FF6692\",\"#B6E880\",\"#FF97FF\",\"#FECB52\"],\"font\":{\"color\":\"#2a3f5f\"},\"geo\":{\"bgcolor\":\"white\",\"lakecolor\":\"white\",\"landcolor\":\"#E5ECF6\",\"showlakes\":true,\"showland\":true,\"subunitcolor\":\"white\"},\"hoverlabel\":{\"align\":\"left\"},\"hovermode\":\"closest\",\"mapbox\":{\"style\":\"light\"},\"paper_bgcolor\":\"white\",\"plot_bgcolor\":\"#E5ECF6\",\"polar\":{\"angularaxis\":{\"gridcolor\":\"white\",\"linecolor\":\"white\",\"ticks\":\"\"},\"bgcolor\":\"#E5ECF6\",\"radialaxis\":{\"gridcolor\":\"white\",\"linecolor\":\"white\",\"ticks\":\"\"}},\"scene\":{\"xaxis\":{\"backgroundcolor\":\"#E5ECF6\",\"gridcolor\":\"white\",\"gridwidth\":2,\"linecolor\":\"white\",\"showbackground\":true,\"ticks\":\"\",\"zerolinecolor\":\"white\"},\"yaxis\":{\"backgroundcolor\":\"#E5ECF6\",\"gridcolor\":\"white\",\"gridwidth\":2,\"linecolor\":\"white\",\"showbackground\":true,\"ticks\":\"\",\"zerolinecolor\":\"white\"},\"zaxis\":{\"backgroundcolor\":\"#E5ECF6\",\"gridcolor\":\"white\",\"gridwidth\":2,\"linecolor\":\"white\",\"showbackground\":true,\"ticks\":\"\",\"zerolinecolor\":\"white\"}},\"shapedefaults\":{\"line\":{\"color\":\"#2a3f5f\"}},\"ternary\":{\"aaxis\":{\"gridcolor\":\"white\",\"linecolor\":\"white\",\"ticks\":\"\"},\"baxis\":{\"gridcolor\":\"white\",\"linecolor\":\"white\",\"ticks\":\"\"},\"bgcolor\":\"#E5ECF6\",\"caxis\":{\"gridcolor\":\"white\",\"linecolor\":\"white\",\"ticks\":\"\"}},\"title\":{\"x\":0.05},\"xaxis\":{\"automargin\":true,\"gridcolor\":\"white\",\"linecolor\":\"white\",\"ticks\":\"\",\"title\":{\"standoff\":15},\"zerolinecolor\":\"white\",\"zerolinewidth\":2},\"yaxis\":{\"automargin\":true,\"gridcolor\":\"white\",\"linecolor\":\"white\",\"ticks\":\"\",\"title\":{\"standoff\":15},\"zerolinecolor\":\"white\",\"zerolinewidth\":2}}},\"xaxis\":{\"anchor\":\"y\",\"domain\":[0.0,1.0],\"title\":{\"text\":\"variation\"},\"categoryorder\":\"array\",\"categoryarray\":[\"A1\",\"A2\",\"B1\",\"B2\"]},\"yaxis\":{\"anchor\":\"x\",\"domain\":[0.0,1.0],\"title\":{\"text\":\"silhouette\"},\"range\":[0.3,0.4]},\"legend\":{\"title\":{\"text\":\"variation\"},\"tracegroupgap\":0},\"title\":{\"text\":\"Silhouette values\"},\"barmode\":\"relative\",\"height\":600,\"width\":800},                        {\"responsive\": true}                    ).then(function(){\n",
              "                            \n",
              "var gd = document.getElementById('64a055ad-f738-42c5-bba7-b9c71fd06579');\n",
              "var x = new MutationObserver(function (mutations, observer) {{\n",
              "        var display = window.getComputedStyle(gd).display;\n",
              "        if (!display || display === 'none') {{\n",
              "            console.log([gd, 'removed!']);\n",
              "            Plotly.purge(gd);\n",
              "            observer.disconnect();\n",
              "        }}\n",
              "}});\n",
              "\n",
              "// Listen for the removal of the full notebook cells\n",
              "var notebookContainer = gd.closest('#notebook-container');\n",
              "if (notebookContainer) {{\n",
              "    x.observe(notebookContainer, {childList: true});\n",
              "}}\n",
              "\n",
              "// Listen for the clearing of the current output cell\n",
              "var outputEl = gd.closest('.output');\n",
              "if (outputEl) {{\n",
              "    x.observe(outputEl, {childList: true});\n",
              "}}\n",
              "\n",
              "                        })                };                            </script>        </div>\n",
              "</body>\n",
              "</html>"
            ]
          },
          "metadata": {}
        }
      ]
    },
    {
      "cell_type": "markdown",
      "source": [
        "O índice de Jaccard, ou coeficiente de similaridade de Jaccard, definido como o tamanho da interseção dividido pelo tamanho da união de dois conjuntos de rótulos, é usado para comparar o conjunto de rótulos previstos para uma amostra com o conjunto de rótulos correspondente em y_true .\n",
        "\n",
        "A função `jaccard_score` calcula a média dos coeficientes de similaridade de Jaccard, também chamada de índice de Jaccard, entre pares de conjuntos de rótulos.\n",
        "\n",
        "O coeficiente de similaridade de Jaccard das i-ésimas amostras, com um conjunto de rótulos de verdade $y_i$ e um conjunto de rótulos previstos $\\hat{y}_i$, é definido como\n",
        "$$\n",
        "J(y_i,\\hat{y}_i) = \\frac{ |y_i \\cap \\hat{y}_i| }{ |y_i \\cup \\hat{y}_i| }\n",
        "$$"
      ],
      "metadata": {
        "id": "RbMTiPSVCESs"
      }
    },
    {
      "cell_type": "code",
      "source": [
        "show_jaccard(val_analises_df, [0.0, 0.2])"
      ],
      "metadata": {
        "colab": {
          "base_uri": "https://localhost:8080/",
          "height": 0
        },
        "id": "eN2QVzROI32o",
        "outputId": "62533c66-6ae6-423b-b7d6-c60edf375df7"
      },
      "execution_count": 1046,
      "outputs": [
        {
          "output_type": "display_data",
          "data": {
            "text/html": [
              "<html>\n",
              "<head><meta charset=\"utf-8\" /></head>\n",
              "<body>\n",
              "    <div>            <script src=\"https://cdnjs.cloudflare.com/ajax/libs/mathjax/2.7.5/MathJax.js?config=TeX-AMS-MML_SVG\"></script><script type=\"text/javascript\">if (window.MathJax) {MathJax.Hub.Config({SVG: {font: \"STIX-Web\"}});}</script>                <script type=\"text/javascript\">window.PlotlyConfig = {MathJaxConfig: 'local'};</script>\n",
              "        <script src=\"https://cdn.plot.ly/plotly-2.8.3.min.js\"></script>                <div id=\"e41bcead-2d46-4a77-88f8-752ccbdfc7f0\" class=\"plotly-graph-div\" style=\"height:600px; width:800px;\"></div>            <script type=\"text/javascript\">                                    window.PLOTLYENV=window.PLOTLYENV || {};                                    if (document.getElementById(\"e41bcead-2d46-4a77-88f8-752ccbdfc7f0\")) {                    Plotly.newPlot(                        \"e41bcead-2d46-4a77-88f8-752ccbdfc7f0\",                        [{\"alignmentgroup\":\"True\",\"hovertemplate\":\"variation=%{x}<br>jaccard=%{text}<extra></extra>\",\"legendgroup\":\"A1\",\"marker\":{\"color\":\"#636efa\",\"pattern\":{\"shape\":\"\"}},\"name\":\"A1\",\"offsetgroup\":\"A1\",\"orientation\":\"v\",\"showlegend\":true,\"text\":[0.08806381790252757],\"textposition\":\"outside\",\"x\":[\"A1\"],\"xaxis\":\"x\",\"y\":[0.08806381790252757],\"yaxis\":\"y\",\"type\":\"bar\",\"textfont\":{\"size\":12},\"cliponaxis\":false,\"textangle\":0},{\"alignmentgroup\":\"True\",\"hovertemplate\":\"variation=%{x}<br>jaccard=%{text}<extra></extra>\",\"legendgroup\":\"A2\",\"marker\":{\"color\":\"#EF553B\",\"pattern\":{\"shape\":\"\"}},\"name\":\"A2\",\"offsetgroup\":\"A2\",\"orientation\":\"v\",\"showlegend\":true,\"text\":[0.14181792178073643],\"textposition\":\"outside\",\"x\":[\"A2\"],\"xaxis\":\"x\",\"y\":[0.14181792178073643],\"yaxis\":\"y\",\"type\":\"bar\",\"textfont\":{\"size\":12},\"cliponaxis\":false,\"textangle\":0},{\"alignmentgroup\":\"True\",\"hovertemplate\":\"variation=%{x}<br>jaccard=%{text}<extra></extra>\",\"legendgroup\":\"B1\",\"marker\":{\"color\":\"#00cc96\",\"pattern\":{\"shape\":\"\"}},\"name\":\"B1\",\"offsetgroup\":\"B1\",\"orientation\":\"v\",\"showlegend\":true,\"text\":[0.18064007675438598],\"textposition\":\"outside\",\"x\":[\"B1\"],\"xaxis\":\"x\",\"y\":[0.18064007675438598],\"yaxis\":\"y\",\"type\":\"bar\",\"textfont\":{\"size\":12},\"cliponaxis\":false,\"textangle\":0},{\"alignmentgroup\":\"True\",\"hovertemplate\":\"variation=%{x}<br>jaccard=%{text}<extra></extra>\",\"legendgroup\":\"B2\",\"marker\":{\"color\":\"#ab63fa\",\"pattern\":{\"shape\":\"\"}},\"name\":\"B2\",\"offsetgroup\":\"B2\",\"orientation\":\"v\",\"showlegend\":true,\"text\":[0.08806381790252757],\"textposition\":\"outside\",\"x\":[\"B2\"],\"xaxis\":\"x\",\"y\":[0.08806381790252757],\"yaxis\":\"y\",\"type\":\"bar\",\"textfont\":{\"size\":12},\"cliponaxis\":false,\"textangle\":0}],                        {\"template\":{\"data\":{\"bar\":[{\"error_x\":{\"color\":\"#2a3f5f\"},\"error_y\":{\"color\":\"#2a3f5f\"},\"marker\":{\"line\":{\"color\":\"#E5ECF6\",\"width\":0.5},\"pattern\":{\"fillmode\":\"overlay\",\"size\":10,\"solidity\":0.2}},\"type\":\"bar\"}],\"barpolar\":[{\"marker\":{\"line\":{\"color\":\"#E5ECF6\",\"width\":0.5},\"pattern\":{\"fillmode\":\"overlay\",\"size\":10,\"solidity\":0.2}},\"type\":\"barpolar\"}],\"carpet\":[{\"aaxis\":{\"endlinecolor\":\"#2a3f5f\",\"gridcolor\":\"white\",\"linecolor\":\"white\",\"minorgridcolor\":\"white\",\"startlinecolor\":\"#2a3f5f\"},\"baxis\":{\"endlinecolor\":\"#2a3f5f\",\"gridcolor\":\"white\",\"linecolor\":\"white\",\"minorgridcolor\":\"white\",\"startlinecolor\":\"#2a3f5f\"},\"type\":\"carpet\"}],\"choropleth\":[{\"colorbar\":{\"outlinewidth\":0,\"ticks\":\"\"},\"type\":\"choropleth\"}],\"contour\":[{\"colorbar\":{\"outlinewidth\":0,\"ticks\":\"\"},\"colorscale\":[[0.0,\"#0d0887\"],[0.1111111111111111,\"#46039f\"],[0.2222222222222222,\"#7201a8\"],[0.3333333333333333,\"#9c179e\"],[0.4444444444444444,\"#bd3786\"],[0.5555555555555556,\"#d8576b\"],[0.6666666666666666,\"#ed7953\"],[0.7777777777777778,\"#fb9f3a\"],[0.8888888888888888,\"#fdca26\"],[1.0,\"#f0f921\"]],\"type\":\"contour\"}],\"contourcarpet\":[{\"colorbar\":{\"outlinewidth\":0,\"ticks\":\"\"},\"type\":\"contourcarpet\"}],\"heatmap\":[{\"colorbar\":{\"outlinewidth\":0,\"ticks\":\"\"},\"colorscale\":[[0.0,\"#0d0887\"],[0.1111111111111111,\"#46039f\"],[0.2222222222222222,\"#7201a8\"],[0.3333333333333333,\"#9c179e\"],[0.4444444444444444,\"#bd3786\"],[0.5555555555555556,\"#d8576b\"],[0.6666666666666666,\"#ed7953\"],[0.7777777777777778,\"#fb9f3a\"],[0.8888888888888888,\"#fdca26\"],[1.0,\"#f0f921\"]],\"type\":\"heatmap\"}],\"heatmapgl\":[{\"colorbar\":{\"outlinewidth\":0,\"ticks\":\"\"},\"colorscale\":[[0.0,\"#0d0887\"],[0.1111111111111111,\"#46039f\"],[0.2222222222222222,\"#7201a8\"],[0.3333333333333333,\"#9c179e\"],[0.4444444444444444,\"#bd3786\"],[0.5555555555555556,\"#d8576b\"],[0.6666666666666666,\"#ed7953\"],[0.7777777777777778,\"#fb9f3a\"],[0.8888888888888888,\"#fdca26\"],[1.0,\"#f0f921\"]],\"type\":\"heatmapgl\"}],\"histogram\":[{\"marker\":{\"pattern\":{\"fillmode\":\"overlay\",\"size\":10,\"solidity\":0.2}},\"type\":\"histogram\"}],\"histogram2d\":[{\"colorbar\":{\"outlinewidth\":0,\"ticks\":\"\"},\"colorscale\":[[0.0,\"#0d0887\"],[0.1111111111111111,\"#46039f\"],[0.2222222222222222,\"#7201a8\"],[0.3333333333333333,\"#9c179e\"],[0.4444444444444444,\"#bd3786\"],[0.5555555555555556,\"#d8576b\"],[0.6666666666666666,\"#ed7953\"],[0.7777777777777778,\"#fb9f3a\"],[0.8888888888888888,\"#fdca26\"],[1.0,\"#f0f921\"]],\"type\":\"histogram2d\"}],\"histogram2dcontour\":[{\"colorbar\":{\"outlinewidth\":0,\"ticks\":\"\"},\"colorscale\":[[0.0,\"#0d0887\"],[0.1111111111111111,\"#46039f\"],[0.2222222222222222,\"#7201a8\"],[0.3333333333333333,\"#9c179e\"],[0.4444444444444444,\"#bd3786\"],[0.5555555555555556,\"#d8576b\"],[0.6666666666666666,\"#ed7953\"],[0.7777777777777778,\"#fb9f3a\"],[0.8888888888888888,\"#fdca26\"],[1.0,\"#f0f921\"]],\"type\":\"histogram2dcontour\"}],\"mesh3d\":[{\"colorbar\":{\"outlinewidth\":0,\"ticks\":\"\"},\"type\":\"mesh3d\"}],\"parcoords\":[{\"line\":{\"colorbar\":{\"outlinewidth\":0,\"ticks\":\"\"}},\"type\":\"parcoords\"}],\"pie\":[{\"automargin\":true,\"type\":\"pie\"}],\"scatter\":[{\"marker\":{\"colorbar\":{\"outlinewidth\":0,\"ticks\":\"\"}},\"type\":\"scatter\"}],\"scatter3d\":[{\"line\":{\"colorbar\":{\"outlinewidth\":0,\"ticks\":\"\"}},\"marker\":{\"colorbar\":{\"outlinewidth\":0,\"ticks\":\"\"}},\"type\":\"scatter3d\"}],\"scattercarpet\":[{\"marker\":{\"colorbar\":{\"outlinewidth\":0,\"ticks\":\"\"}},\"type\":\"scattercarpet\"}],\"scattergeo\":[{\"marker\":{\"colorbar\":{\"outlinewidth\":0,\"ticks\":\"\"}},\"type\":\"scattergeo\"}],\"scattergl\":[{\"marker\":{\"colorbar\":{\"outlinewidth\":0,\"ticks\":\"\"}},\"type\":\"scattergl\"}],\"scattermapbox\":[{\"marker\":{\"colorbar\":{\"outlinewidth\":0,\"ticks\":\"\"}},\"type\":\"scattermapbox\"}],\"scatterpolar\":[{\"marker\":{\"colorbar\":{\"outlinewidth\":0,\"ticks\":\"\"}},\"type\":\"scatterpolar\"}],\"scatterpolargl\":[{\"marker\":{\"colorbar\":{\"outlinewidth\":0,\"ticks\":\"\"}},\"type\":\"scatterpolargl\"}],\"scatterternary\":[{\"marker\":{\"colorbar\":{\"outlinewidth\":0,\"ticks\":\"\"}},\"type\":\"scatterternary\"}],\"surface\":[{\"colorbar\":{\"outlinewidth\":0,\"ticks\":\"\"},\"colorscale\":[[0.0,\"#0d0887\"],[0.1111111111111111,\"#46039f\"],[0.2222222222222222,\"#7201a8\"],[0.3333333333333333,\"#9c179e\"],[0.4444444444444444,\"#bd3786\"],[0.5555555555555556,\"#d8576b\"],[0.6666666666666666,\"#ed7953\"],[0.7777777777777778,\"#fb9f3a\"],[0.8888888888888888,\"#fdca26\"],[1.0,\"#f0f921\"]],\"type\":\"surface\"}],\"table\":[{\"cells\":{\"fill\":{\"color\":\"#EBF0F8\"},\"line\":{\"color\":\"white\"}},\"header\":{\"fill\":{\"color\":\"#C8D4E3\"},\"line\":{\"color\":\"white\"}},\"type\":\"table\"}]},\"layout\":{\"annotationdefaults\":{\"arrowcolor\":\"#2a3f5f\",\"arrowhead\":0,\"arrowwidth\":1},\"autotypenumbers\":\"strict\",\"coloraxis\":{\"colorbar\":{\"outlinewidth\":0,\"ticks\":\"\"}},\"colorscale\":{\"diverging\":[[0,\"#8e0152\"],[0.1,\"#c51b7d\"],[0.2,\"#de77ae\"],[0.3,\"#f1b6da\"],[0.4,\"#fde0ef\"],[0.5,\"#f7f7f7\"],[0.6,\"#e6f5d0\"],[0.7,\"#b8e186\"],[0.8,\"#7fbc41\"],[0.9,\"#4d9221\"],[1,\"#276419\"]],\"sequential\":[[0.0,\"#0d0887\"],[0.1111111111111111,\"#46039f\"],[0.2222222222222222,\"#7201a8\"],[0.3333333333333333,\"#9c179e\"],[0.4444444444444444,\"#bd3786\"],[0.5555555555555556,\"#d8576b\"],[0.6666666666666666,\"#ed7953\"],[0.7777777777777778,\"#fb9f3a\"],[0.8888888888888888,\"#fdca26\"],[1.0,\"#f0f921\"]],\"sequentialminus\":[[0.0,\"#0d0887\"],[0.1111111111111111,\"#46039f\"],[0.2222222222222222,\"#7201a8\"],[0.3333333333333333,\"#9c179e\"],[0.4444444444444444,\"#bd3786\"],[0.5555555555555556,\"#d8576b\"],[0.6666666666666666,\"#ed7953\"],[0.7777777777777778,\"#fb9f3a\"],[0.8888888888888888,\"#fdca26\"],[1.0,\"#f0f921\"]]},\"colorway\":[\"#636efa\",\"#EF553B\",\"#00cc96\",\"#ab63fa\",\"#FFA15A\",\"#19d3f3\",\"#FF6692\",\"#B6E880\",\"#FF97FF\",\"#FECB52\"],\"font\":{\"color\":\"#2a3f5f\"},\"geo\":{\"bgcolor\":\"white\",\"lakecolor\":\"white\",\"landcolor\":\"#E5ECF6\",\"showlakes\":true,\"showland\":true,\"subunitcolor\":\"white\"},\"hoverlabel\":{\"align\":\"left\"},\"hovermode\":\"closest\",\"mapbox\":{\"style\":\"light\"},\"paper_bgcolor\":\"white\",\"plot_bgcolor\":\"#E5ECF6\",\"polar\":{\"angularaxis\":{\"gridcolor\":\"white\",\"linecolor\":\"white\",\"ticks\":\"\"},\"bgcolor\":\"#E5ECF6\",\"radialaxis\":{\"gridcolor\":\"white\",\"linecolor\":\"white\",\"ticks\":\"\"}},\"scene\":{\"xaxis\":{\"backgroundcolor\":\"#E5ECF6\",\"gridcolor\":\"white\",\"gridwidth\":2,\"linecolor\":\"white\",\"showbackground\":true,\"ticks\":\"\",\"zerolinecolor\":\"white\"},\"yaxis\":{\"backgroundcolor\":\"#E5ECF6\",\"gridcolor\":\"white\",\"gridwidth\":2,\"linecolor\":\"white\",\"showbackground\":true,\"ticks\":\"\",\"zerolinecolor\":\"white\"},\"zaxis\":{\"backgroundcolor\":\"#E5ECF6\",\"gridcolor\":\"white\",\"gridwidth\":2,\"linecolor\":\"white\",\"showbackground\":true,\"ticks\":\"\",\"zerolinecolor\":\"white\"}},\"shapedefaults\":{\"line\":{\"color\":\"#2a3f5f\"}},\"ternary\":{\"aaxis\":{\"gridcolor\":\"white\",\"linecolor\":\"white\",\"ticks\":\"\"},\"baxis\":{\"gridcolor\":\"white\",\"linecolor\":\"white\",\"ticks\":\"\"},\"bgcolor\":\"#E5ECF6\",\"caxis\":{\"gridcolor\":\"white\",\"linecolor\":\"white\",\"ticks\":\"\"}},\"title\":{\"x\":0.05},\"xaxis\":{\"automargin\":true,\"gridcolor\":\"white\",\"linecolor\":\"white\",\"ticks\":\"\",\"title\":{\"standoff\":15},\"zerolinecolor\":\"white\",\"zerolinewidth\":2},\"yaxis\":{\"automargin\":true,\"gridcolor\":\"white\",\"linecolor\":\"white\",\"ticks\":\"\",\"title\":{\"standoff\":15},\"zerolinecolor\":\"white\",\"zerolinewidth\":2}}},\"xaxis\":{\"anchor\":\"y\",\"domain\":[0.0,1.0],\"title\":{\"text\":\"variation\"},\"categoryorder\":\"array\",\"categoryarray\":[\"A1\",\"A2\",\"B1\",\"B2\"]},\"yaxis\":{\"anchor\":\"x\",\"domain\":[0.0,1.0],\"title\":{\"text\":\"jaccard\"},\"range\":[0.0,0.2]},\"legend\":{\"title\":{\"text\":\"variation\"},\"tracegroupgap\":0},\"title\":{\"text\":\"Jaccard values\"},\"barmode\":\"relative\",\"height\":600,\"width\":800},                        {\"responsive\": true}                    ).then(function(){\n",
              "                            \n",
              "var gd = document.getElementById('e41bcead-2d46-4a77-88f8-752ccbdfc7f0');\n",
              "var x = new MutationObserver(function (mutations, observer) {{\n",
              "        var display = window.getComputedStyle(gd).display;\n",
              "        if (!display || display === 'none') {{\n",
              "            console.log([gd, 'removed!']);\n",
              "            Plotly.purge(gd);\n",
              "            observer.disconnect();\n",
              "        }}\n",
              "}});\n",
              "\n",
              "// Listen for the removal of the full notebook cells\n",
              "var notebookContainer = gd.closest('#notebook-container');\n",
              "if (notebookContainer) {{\n",
              "    x.observe(notebookContainer, {childList: true});\n",
              "}}\n",
              "\n",
              "// Listen for the clearing of the current output cell\n",
              "var outputEl = gd.closest('.output');\n",
              "if (outputEl) {{\n",
              "    x.observe(outputEl, {childList: true});\n",
              "}}\n",
              "\n",
              "                        })                };                            </script>        </div>\n",
              "</body>\n",
              "</html>"
            ]
          },
          "metadata": {}
        }
      ]
    },
    {
      "cell_type": "markdown",
      "source": [
        "###.\n",
        "\n",
        "Podemos reconhecer com estes valores que, os clusters formados não se provam como sendo bem relevantes, existindo uma fraca relação que defina cada entrada de dados como sendo parte de um agrupamento."
      ],
      "metadata": {
        "id": "H9nD2i4st7zb"
      }
    },
    {
      "cell_type": "markdown",
      "source": [
        "## Uso de abordagens para a análise da quantidade de clusters"
      ],
      "metadata": {
        "id": "Dy8B2dsk_aZ2"
      }
    },
    {
      "cell_type": "markdown",
      "source": [
        "### Análise da quantidade de clusters - Kmeans"
      ],
      "metadata": {
        "id": "dNxgJPLity5C"
      }
    },
    {
      "cell_type": "code",
      "source": [
        "import plotly.graph_objects as go\n",
        "import math"
      ],
      "metadata": {
        "id": "kZ7ldRSZpfVu"
      },
      "execution_count": 1047,
      "outputs": []
    },
    {
      "cell_type": "markdown",
      "source": [
        "O K-means começa com a alocação aleatória de centros de cluster e, em seguida, procura soluções \"melhores\". Uma coisa sobre esse algoritmo é que é necessário fornecer o número de clusters de antemão, então, numa abordagem não supervisionada quais técnicas podem ser utilizadas para inferir um número de clusters? \n",
        "\n",
        "Uma forma de realizar essa análise é através do Método Cotovelo, a ideia é rodar o KMeans para vários quantidades diferentes de clusters e dizer qual dessas quantidades é o número ótimo de clusters. O que geralmente acontece ao aumentar a quantidade de clusters no KMeans é que as diferenças entre clusters se tornam muito pequenas, e as diferenças das observações intra-clusters vão aumentando. Então é preciso achar um equilíbrio em que as observações que formam cada agrupamento sejam o mais homogêneas possível e que os agrupamentos formados sejam o mais diferentes um dos outros.\n",
        "\n",
        "Como o KMeans calcula a distância das observações até o centro do agrupamento que ela pertence, o ideal é que essa distância seja a menor viável. Matematicamente falando, nós estamos buscando uma quantidade de agrupamentos em que a soma dos quadrados intra-clusters (ou do inglês *within-clusters sum-of-squares*, comumente abreviado para wcss) seja a menor possível, sendo zero o resultado ótimo.\n",
        "O KMeans do scikit-learn já calcula o wcss pra gente e dá o nome de `inertia`."
      ],
      "metadata": {
        "id": "xumHdS9svDny"
      }
    },
    {
      "cell_type": "code",
      "source": [
        "def calculate_wcss(data):\n",
        "    wcss = []\n",
        "    for n in range(1, 10):\n",
        "        kmeans = KMeans(n_clusters=n, init = \"k-means++\", n_init = 10, random_state = 123)\n",
        "        kmeans.fit(data)\n",
        "        wcss.append(kmeans.inertia_)\n",
        "\n",
        "    return wcss"
      ],
      "metadata": {
        "id": "hjRv6VDSw8ur"
      },
      "execution_count": 1048,
      "outputs": []
    },
    {
      "cell_type": "code",
      "source": [
        "wcss = calculate_wcss(dataset_a1)\n",
        "fig = go.Figure(data = go.Scatter(x = [1,2,3,4,5,6,7,8,9,10], y = wcss))\n",
        "\n",
        "fig.update_layout(title='WCSS vs. Cluster number',\n",
        "                   xaxis_title='Clusters',\n",
        "                   yaxis_title='WCSS', width = 800, height = 400)\n",
        "fig.show()"
      ],
      "metadata": {
        "colab": {
          "base_uri": "https://localhost:8080/",
          "height": 0
        },
        "id": "6Qk2HbTZpWKg",
        "outputId": "366565f6-4cd7-45ec-e8ad-45447aa18768"
      },
      "execution_count": 1049,
      "outputs": [
        {
          "output_type": "display_data",
          "data": {
            "text/html": [
              "<html>\n",
              "<head><meta charset=\"utf-8\" /></head>\n",
              "<body>\n",
              "    <div>            <script src=\"https://cdnjs.cloudflare.com/ajax/libs/mathjax/2.7.5/MathJax.js?config=TeX-AMS-MML_SVG\"></script><script type=\"text/javascript\">if (window.MathJax) {MathJax.Hub.Config({SVG: {font: \"STIX-Web\"}});}</script>                <script type=\"text/javascript\">window.PlotlyConfig = {MathJaxConfig: 'local'};</script>\n",
              "        <script src=\"https://cdn.plot.ly/plotly-2.8.3.min.js\"></script>                <div id=\"506ecdda-18fb-4217-b2da-a518ad026783\" class=\"plotly-graph-div\" style=\"height:400px; width:800px;\"></div>            <script type=\"text/javascript\">                                    window.PLOTLYENV=window.PLOTLYENV || {};                                    if (document.getElementById(\"506ecdda-18fb-4217-b2da-a518ad026783\")) {                    Plotly.newPlot(                        \"506ecdda-18fb-4217-b2da-a518ad026783\",                        [{\"x\":[1,2,3,4,5,6,7,8,9,10],\"y\":[20278.244503125003,12254.259727505,7708.336714784617,5948.758423090845,4796.69744337305,4045.0886187847536,3370.143044590258,3041.1454043600925,2709.143454948015],\"type\":\"scatter\"}],                        {\"template\":{\"data\":{\"bar\":[{\"error_x\":{\"color\":\"#2a3f5f\"},\"error_y\":{\"color\":\"#2a3f5f\"},\"marker\":{\"line\":{\"color\":\"#E5ECF6\",\"width\":0.5},\"pattern\":{\"fillmode\":\"overlay\",\"size\":10,\"solidity\":0.2}},\"type\":\"bar\"}],\"barpolar\":[{\"marker\":{\"line\":{\"color\":\"#E5ECF6\",\"width\":0.5},\"pattern\":{\"fillmode\":\"overlay\",\"size\":10,\"solidity\":0.2}},\"type\":\"barpolar\"}],\"carpet\":[{\"aaxis\":{\"endlinecolor\":\"#2a3f5f\",\"gridcolor\":\"white\",\"linecolor\":\"white\",\"minorgridcolor\":\"white\",\"startlinecolor\":\"#2a3f5f\"},\"baxis\":{\"endlinecolor\":\"#2a3f5f\",\"gridcolor\":\"white\",\"linecolor\":\"white\",\"minorgridcolor\":\"white\",\"startlinecolor\":\"#2a3f5f\"},\"type\":\"carpet\"}],\"choropleth\":[{\"colorbar\":{\"outlinewidth\":0,\"ticks\":\"\"},\"type\":\"choropleth\"}],\"contour\":[{\"colorbar\":{\"outlinewidth\":0,\"ticks\":\"\"},\"colorscale\":[[0.0,\"#0d0887\"],[0.1111111111111111,\"#46039f\"],[0.2222222222222222,\"#7201a8\"],[0.3333333333333333,\"#9c179e\"],[0.4444444444444444,\"#bd3786\"],[0.5555555555555556,\"#d8576b\"],[0.6666666666666666,\"#ed7953\"],[0.7777777777777778,\"#fb9f3a\"],[0.8888888888888888,\"#fdca26\"],[1.0,\"#f0f921\"]],\"type\":\"contour\"}],\"contourcarpet\":[{\"colorbar\":{\"outlinewidth\":0,\"ticks\":\"\"},\"type\":\"contourcarpet\"}],\"heatmap\":[{\"colorbar\":{\"outlinewidth\":0,\"ticks\":\"\"},\"colorscale\":[[0.0,\"#0d0887\"],[0.1111111111111111,\"#46039f\"],[0.2222222222222222,\"#7201a8\"],[0.3333333333333333,\"#9c179e\"],[0.4444444444444444,\"#bd3786\"],[0.5555555555555556,\"#d8576b\"],[0.6666666666666666,\"#ed7953\"],[0.7777777777777778,\"#fb9f3a\"],[0.8888888888888888,\"#fdca26\"],[1.0,\"#f0f921\"]],\"type\":\"heatmap\"}],\"heatmapgl\":[{\"colorbar\":{\"outlinewidth\":0,\"ticks\":\"\"},\"colorscale\":[[0.0,\"#0d0887\"],[0.1111111111111111,\"#46039f\"],[0.2222222222222222,\"#7201a8\"],[0.3333333333333333,\"#9c179e\"],[0.4444444444444444,\"#bd3786\"],[0.5555555555555556,\"#d8576b\"],[0.6666666666666666,\"#ed7953\"],[0.7777777777777778,\"#fb9f3a\"],[0.8888888888888888,\"#fdca26\"],[1.0,\"#f0f921\"]],\"type\":\"heatmapgl\"}],\"histogram\":[{\"marker\":{\"pattern\":{\"fillmode\":\"overlay\",\"size\":10,\"solidity\":0.2}},\"type\":\"histogram\"}],\"histogram2d\":[{\"colorbar\":{\"outlinewidth\":0,\"ticks\":\"\"},\"colorscale\":[[0.0,\"#0d0887\"],[0.1111111111111111,\"#46039f\"],[0.2222222222222222,\"#7201a8\"],[0.3333333333333333,\"#9c179e\"],[0.4444444444444444,\"#bd3786\"],[0.5555555555555556,\"#d8576b\"],[0.6666666666666666,\"#ed7953\"],[0.7777777777777778,\"#fb9f3a\"],[0.8888888888888888,\"#fdca26\"],[1.0,\"#f0f921\"]],\"type\":\"histogram2d\"}],\"histogram2dcontour\":[{\"colorbar\":{\"outlinewidth\":0,\"ticks\":\"\"},\"colorscale\":[[0.0,\"#0d0887\"],[0.1111111111111111,\"#46039f\"],[0.2222222222222222,\"#7201a8\"],[0.3333333333333333,\"#9c179e\"],[0.4444444444444444,\"#bd3786\"],[0.5555555555555556,\"#d8576b\"],[0.6666666666666666,\"#ed7953\"],[0.7777777777777778,\"#fb9f3a\"],[0.8888888888888888,\"#fdca26\"],[1.0,\"#f0f921\"]],\"type\":\"histogram2dcontour\"}],\"mesh3d\":[{\"colorbar\":{\"outlinewidth\":0,\"ticks\":\"\"},\"type\":\"mesh3d\"}],\"parcoords\":[{\"line\":{\"colorbar\":{\"outlinewidth\":0,\"ticks\":\"\"}},\"type\":\"parcoords\"}],\"pie\":[{\"automargin\":true,\"type\":\"pie\"}],\"scatter\":[{\"marker\":{\"colorbar\":{\"outlinewidth\":0,\"ticks\":\"\"}},\"type\":\"scatter\"}],\"scatter3d\":[{\"line\":{\"colorbar\":{\"outlinewidth\":0,\"ticks\":\"\"}},\"marker\":{\"colorbar\":{\"outlinewidth\":0,\"ticks\":\"\"}},\"type\":\"scatter3d\"}],\"scattercarpet\":[{\"marker\":{\"colorbar\":{\"outlinewidth\":0,\"ticks\":\"\"}},\"type\":\"scattercarpet\"}],\"scattergeo\":[{\"marker\":{\"colorbar\":{\"outlinewidth\":0,\"ticks\":\"\"}},\"type\":\"scattergeo\"}],\"scattergl\":[{\"marker\":{\"colorbar\":{\"outlinewidth\":0,\"ticks\":\"\"}},\"type\":\"scattergl\"}],\"scattermapbox\":[{\"marker\":{\"colorbar\":{\"outlinewidth\":0,\"ticks\":\"\"}},\"type\":\"scattermapbox\"}],\"scatterpolar\":[{\"marker\":{\"colorbar\":{\"outlinewidth\":0,\"ticks\":\"\"}},\"type\":\"scatterpolar\"}],\"scatterpolargl\":[{\"marker\":{\"colorbar\":{\"outlinewidth\":0,\"ticks\":\"\"}},\"type\":\"scatterpolargl\"}],\"scatterternary\":[{\"marker\":{\"colorbar\":{\"outlinewidth\":0,\"ticks\":\"\"}},\"type\":\"scatterternary\"}],\"surface\":[{\"colorbar\":{\"outlinewidth\":0,\"ticks\":\"\"},\"colorscale\":[[0.0,\"#0d0887\"],[0.1111111111111111,\"#46039f\"],[0.2222222222222222,\"#7201a8\"],[0.3333333333333333,\"#9c179e\"],[0.4444444444444444,\"#bd3786\"],[0.5555555555555556,\"#d8576b\"],[0.6666666666666666,\"#ed7953\"],[0.7777777777777778,\"#fb9f3a\"],[0.8888888888888888,\"#fdca26\"],[1.0,\"#f0f921\"]],\"type\":\"surface\"}],\"table\":[{\"cells\":{\"fill\":{\"color\":\"#EBF0F8\"},\"line\":{\"color\":\"white\"}},\"header\":{\"fill\":{\"color\":\"#C8D4E3\"},\"line\":{\"color\":\"white\"}},\"type\":\"table\"}]},\"layout\":{\"annotationdefaults\":{\"arrowcolor\":\"#2a3f5f\",\"arrowhead\":0,\"arrowwidth\":1},\"autotypenumbers\":\"strict\",\"coloraxis\":{\"colorbar\":{\"outlinewidth\":0,\"ticks\":\"\"}},\"colorscale\":{\"diverging\":[[0,\"#8e0152\"],[0.1,\"#c51b7d\"],[0.2,\"#de77ae\"],[0.3,\"#f1b6da\"],[0.4,\"#fde0ef\"],[0.5,\"#f7f7f7\"],[0.6,\"#e6f5d0\"],[0.7,\"#b8e186\"],[0.8,\"#7fbc41\"],[0.9,\"#4d9221\"],[1,\"#276419\"]],\"sequential\":[[0.0,\"#0d0887\"],[0.1111111111111111,\"#46039f\"],[0.2222222222222222,\"#7201a8\"],[0.3333333333333333,\"#9c179e\"],[0.4444444444444444,\"#bd3786\"],[0.5555555555555556,\"#d8576b\"],[0.6666666666666666,\"#ed7953\"],[0.7777777777777778,\"#fb9f3a\"],[0.8888888888888888,\"#fdca26\"],[1.0,\"#f0f921\"]],\"sequentialminus\":[[0.0,\"#0d0887\"],[0.1111111111111111,\"#46039f\"],[0.2222222222222222,\"#7201a8\"],[0.3333333333333333,\"#9c179e\"],[0.4444444444444444,\"#bd3786\"],[0.5555555555555556,\"#d8576b\"],[0.6666666666666666,\"#ed7953\"],[0.7777777777777778,\"#fb9f3a\"],[0.8888888888888888,\"#fdca26\"],[1.0,\"#f0f921\"]]},\"colorway\":[\"#636efa\",\"#EF553B\",\"#00cc96\",\"#ab63fa\",\"#FFA15A\",\"#19d3f3\",\"#FF6692\",\"#B6E880\",\"#FF97FF\",\"#FECB52\"],\"font\":{\"color\":\"#2a3f5f\"},\"geo\":{\"bgcolor\":\"white\",\"lakecolor\":\"white\",\"landcolor\":\"#E5ECF6\",\"showlakes\":true,\"showland\":true,\"subunitcolor\":\"white\"},\"hoverlabel\":{\"align\":\"left\"},\"hovermode\":\"closest\",\"mapbox\":{\"style\":\"light\"},\"paper_bgcolor\":\"white\",\"plot_bgcolor\":\"#E5ECF6\",\"polar\":{\"angularaxis\":{\"gridcolor\":\"white\",\"linecolor\":\"white\",\"ticks\":\"\"},\"bgcolor\":\"#E5ECF6\",\"radialaxis\":{\"gridcolor\":\"white\",\"linecolor\":\"white\",\"ticks\":\"\"}},\"scene\":{\"xaxis\":{\"backgroundcolor\":\"#E5ECF6\",\"gridcolor\":\"white\",\"gridwidth\":2,\"linecolor\":\"white\",\"showbackground\":true,\"ticks\":\"\",\"zerolinecolor\":\"white\"},\"yaxis\":{\"backgroundcolor\":\"#E5ECF6\",\"gridcolor\":\"white\",\"gridwidth\":2,\"linecolor\":\"white\",\"showbackground\":true,\"ticks\":\"\",\"zerolinecolor\":\"white\"},\"zaxis\":{\"backgroundcolor\":\"#E5ECF6\",\"gridcolor\":\"white\",\"gridwidth\":2,\"linecolor\":\"white\",\"showbackground\":true,\"ticks\":\"\",\"zerolinecolor\":\"white\"}},\"shapedefaults\":{\"line\":{\"color\":\"#2a3f5f\"}},\"ternary\":{\"aaxis\":{\"gridcolor\":\"white\",\"linecolor\":\"white\",\"ticks\":\"\"},\"baxis\":{\"gridcolor\":\"white\",\"linecolor\":\"white\",\"ticks\":\"\"},\"bgcolor\":\"#E5ECF6\",\"caxis\":{\"gridcolor\":\"white\",\"linecolor\":\"white\",\"ticks\":\"\"}},\"title\":{\"x\":0.05},\"xaxis\":{\"automargin\":true,\"gridcolor\":\"white\",\"linecolor\":\"white\",\"ticks\":\"\",\"title\":{\"standoff\":15},\"zerolinecolor\":\"white\",\"zerolinewidth\":2},\"yaxis\":{\"automargin\":true,\"gridcolor\":\"white\",\"linecolor\":\"white\",\"ticks\":\"\",\"title\":{\"standoff\":15},\"zerolinecolor\":\"white\",\"zerolinewidth\":2}}},\"title\":{\"text\":\"WCSS vs. Cluster number\"},\"xaxis\":{\"title\":{\"text\":\"Clusters\"}},\"yaxis\":{\"title\":{\"text\":\"WCSS\"}},\"width\":800,\"height\":400},                        {\"responsive\": true}                    ).then(function(){\n",
              "                            \n",
              "var gd = document.getElementById('506ecdda-18fb-4217-b2da-a518ad026783');\n",
              "var x = new MutationObserver(function (mutations, observer) {{\n",
              "        var display = window.getComputedStyle(gd).display;\n",
              "        if (!display || display === 'none') {{\n",
              "            console.log([gd, 'removed!']);\n",
              "            Plotly.purge(gd);\n",
              "            observer.disconnect();\n",
              "        }}\n",
              "}});\n",
              "\n",
              "// Listen for the removal of the full notebook cells\n",
              "var notebookContainer = gd.closest('#notebook-container');\n",
              "if (notebookContainer) {{\n",
              "    x.observe(notebookContainer, {childList: true});\n",
              "}}\n",
              "\n",
              "// Listen for the clearing of the current output cell\n",
              "var outputEl = gd.closest('.output');\n",
              "if (outputEl) {{\n",
              "    x.observe(outputEl, {childList: true});\n",
              "}}\n",
              "\n",
              "                        })                };                            </script>        </div>\n",
              "</body>\n",
              "</html>"
            ]
          },
          "metadata": {}
        }
      ]
    },
    {
      "cell_type": "markdown",
      "source": [
        "Mas qual desses pontos seria o ponto ótimo de clusters?\n",
        "\n",
        "O ponto que indica o equilíbrio entre maior homogeneidade dentro do cluster e a maior diferença entre clusters, é o ponto da curva mais distante de uma reta traçada ligando os pontos 1 e 9. Para encontrar este ponto basta utilizarmos a equação de cálculo da distância entre um ponto e uma reta."
      ],
      "metadata": {
        "id": "80MbZyYfwO_O"
      }
    },
    {
      "cell_type": "code",
      "source": [
        "def optimal_number_of_clusters(wcss):\n",
        "    x1, y1 = 1, wcss[0]\n",
        "    x2, y2 = 10, wcss[len(wcss)-1]\n",
        "\n",
        "    # Calcula as distâncias entre os pontos e a reta\n",
        "    distances = []\n",
        "    for i in range(len(wcss)):\n",
        "        x0 = i+2\n",
        "        y0 = wcss[i]\n",
        "        numerator = abs((y2-y1)*x0 - (x2-x1)*y0 + x2*y1 - y2*x1)\n",
        "        denominator = math.sqrt((y2 - y1)**2 + (x2 - x1)**2)\n",
        "        distances.append(numerator/denominator)\n",
        "    \n",
        "    return distances.index(max(distances)) + 2"
      ],
      "metadata": {
        "id": "tu2kO-H8sUaM"
      },
      "execution_count": 1050,
      "outputs": []
    },
    {
      "cell_type": "markdown",
      "source": [
        "Esse método `optimal_number_of_clusters()` recebe uma lista contendo as somas dos quadrados para cada quantidade de clusters que calculamos usando `calculate_wcss()` e, como resultado, retorna a quantidade ótima de clusters."
      ],
      "metadata": {
        "id": "CSlpT1IqyW_g"
      }
    },
    {
      "cell_type": "code",
      "source": [
        "# calculando a quantidade ótima de clusters\n",
        "n = optimal_number_of_clusters(wcss)\n",
        "print(f'Número ótimo de clusters indicado: {n}')"
      ],
      "metadata": {
        "colab": {
          "base_uri": "https://localhost:8080/"
        },
        "id": "UHxPcejhsgbf",
        "outputId": "73921b6b-0ec8-4bad-f21c-b9fdb3668524"
      },
      "execution_count": 1051,
      "outputs": [
        {
          "output_type": "stream",
          "name": "stdout",
          "text": [
            "Número ótimo de clusters indicado: 4\n"
          ]
        }
      ]
    },
    {
      "cell_type": "markdown",
      "source": [
        "[Artigo de referência](https://medium.com/pizzadedados/kmeans-e-metodo-do-cotovelo-94ded9fdf3a9)"
      ],
      "metadata": {
        "id": "7Nn1CtIWygJb"
      }
    },
    {
      "cell_type": "markdown",
      "source": [
        "#### KMeans (4 Clusters)"
      ],
      "metadata": {
        "id": "z87dulaUFv70"
      }
    },
    {
      "cell_type": "code",
      "source": [
        "kmeans = KMeans(n_clusters=4, random_state=123456) # random_state= semente aleatoria\n",
        "valores_analise = {\n",
        "    'jaccard': [],\n",
        "    'silhouette': [],\n",
        "    'variation': []\n",
        "    }"
      ],
      "metadata": {
        "id": "aLMfA70zFz3O"
      },
      "execution_count": 1052,
      "outputs": []
    },
    {
      "cell_type": "code",
      "source": [
        "clustering_a1 = kmeans.fit_predict(dataset_a1)\n",
        "valores_analise['silhouette'].append(silhouette_score(dataset_a1, clustering_a1))\n",
        "valores_analise['jaccard'].append(jaccard_score(resultados, clustering_a1, average='macro'))\n",
        "valores_analise['variation'].append('A1')"
      ],
      "metadata": {
        "id": "00w6CVxTF7BB"
      },
      "execution_count": 1053,
      "outputs": []
    },
    {
      "cell_type": "code",
      "source": [
        "centroids = kmeans.cluster_centers_\n",
        "show_scatter(dataset_a1, clustering_a1, centroids)"
      ],
      "metadata": {
        "id": "JQ6fUWg2GJZh",
        "colab": {
          "base_uri": "https://localhost:8080/",
          "height": 0
        },
        "outputId": "2629553d-3e2a-4e76-aa73-442bee7856d6"
      },
      "execution_count": 1054,
      "outputs": [
        {
          "output_type": "display_data",
          "data": {
            "text/plain": [
              "<Figure size 432x288 with 1 Axes>"
            ],
            "image/png": "[encoded data removed]"
          },
          "metadata": {
            "needs_background": "light"
          }
        }
      ]
    },
    {
      "cell_type": "code",
      "source": [
        "dataset_a1_cluster['Cluster'] = clustering_a1\n",
        "\n",
        "show_3d_clusters(dataset_a1_cluster)"
      ],
      "metadata": {
        "id": "EmhRjbwuGTwX",
        "colab": {
          "base_uri": "https://localhost:8080/",
          "height": 0
        },
        "outputId": "5664dfb5-66fb-498b-8507-488ee3d1855b"
      },
      "execution_count": 1055,
      "outputs": [
        {
          "output_type": "display_data",
          "data": {
            "text/html": [
              "<html>\n",
              "<head><meta charset=\"utf-8\" /></head>\n",
              "<body>\n",
              "    <div>            <script src=\"https://cdnjs.cloudflare.com/ajax/libs/mathjax/2.7.5/MathJax.js?config=TeX-AMS-MML_SVG\"></script><script type=\"text/javascript\">if (window.MathJax) {MathJax.Hub.Config({SVG: {font: \"STIX-Web\"}});}</script>                <script type=\"text/javascript\">window.PlotlyConfig = {MathJaxConfig: 'local'};</script>\n",
              "        <script src=\"https://cdn.plot.ly/plotly-2.8.3.min.js\"></script>                <div id=\"1aed52c2-b4c6-48c6-bf4d-38ba77bc84db\" class=\"plotly-graph-div\" style=\"height:600px; width:1100px;\"></div>            <script type=\"text/javascript\">                                    window.PLOTLYENV=window.PLOTLYENV || {};                                    if (document.getElementById(\"1aed52c2-b4c6-48c6-bf4d-38ba77bc84db\")) {                    Plotly.newPlot(                        \"1aed52c2-b4c6-48c6-bf4d-38ba77bc84db\",                        [{\"hovertemplate\":\"Altura da Mar\\u00e9 (m)=%{x}<br>Velocidade do Vento (Km/h)=%{y}<br>Chuva (mm)=%{z}<br>Cluster=%{marker.color}<extra></extra>\",\"legendgroup\":\"\",\"marker\":{\"color\":[2,2,2,2,2,2,2,2,1,1,1,1,1,1,2,2,2,2,2,2,2,1,1,1,1,1,1,1,2,2,2,2,2,2,1,1,1,1,1,1,1,1,2,2,2,2,2,1,1,1,1,1,1,1,1,1,0,0,0,0,0,0,1,1,1,1,1,1,1,1,0,0,0,0,0,1,1,1,1,1,1,1,1,1,0,0,0,0,0,0,0,0,0,0,1,1,1,1,0,0,0,0,0,0,0,0,1,1,1,1,1,1,2,2,1,1,2,2,1,3,2,3,3,3,2,2,3,3,3,3,3,3,3,3,3,3,2,2,3,3,2,2,3,3,3,3,3,3,3,3,3,3,2,2,1,1,2,2,1,1,2,0,1,1,0,0,1,1,0,0,1,1,0,0,1,1,2,0,1,1,2,0,1,1,2,0,0,1,0,0,0,1,2,2,1,1,2,0,1,1,0,0,0,1,0,0,0,1,2,0,0,1,0,0,0,1,2,2,1,1,2,2,1,1,0,0,1,1,0,0,1,1,0,0,0,1,0,0,1,1,0,0,0,1,0,0,1,1,2,2,1,1,2,2,1,1,2,2,1,1,2,2,1,1,3,3,3,3,3,3,3,3,3,3,1,1,3,2,1,1,3,3,1,1,3,2,1,1,2,0,1,1,0,0,0,1,3,3,3,3,3,3,3,3,2,2,1,1,2,2,1,1,0,0,0,1,0,0,1,1],\"coloraxis\":\"coloraxis\",\"opacity\":0.8,\"symbol\":\"circle\"},\"mode\":\"markers\",\"name\":\"\",\"scene\":\"scene\",\"showlegend\":false,\"x\":[1.2,1.6,1.8,1.9,1.8,1.6,1.2,0.7,0.5,0.4,0.5,0.6,1.0,1.5,1.7,1.9,1.9,1.7,1.3,0.9,0.5,0.4,0.4,0.5,0.7,1.3,1.6,1.8,0.9,1.2,1.4,1.6,1.7,1.6,1.4,1.2,0.9,0.7,0.6,0.7,0.8,1.0,1.4,1.6,1.7,1.7,1.6,1.4,1.0,0.4,0.6,0.6,0.7,0.8,1.2,1.4,0.8,0.9,1.1,1.2,1.5,1.6,1.6,1.5,1.4,1.1,0.8,0.7,0.7,0.8,1.0,1.3,1.4,1.5,1.6,1.5,1.4,1.3,0.9,0.8,0.7,0.7,0.8,1.0,0.8,0.7,0.6,0.7,0.8,1.2,1.5,1.7,1.8,1.7,1.5,1.3,0.9,0.7,0.6,0.6,0.7,0.9,1.4,1.6,1.8,1.8,1.6,1.4,1.1,0.7,0.5,0.5,1.2,0.5,1.9,1.4,0.7,0.8,2.0,0.5,1.9,0.4,1.5,2.1,1.1,0.2,2.1,1.7,2.2,0.7,0.8,2.3,1.7,0.2,1.7,2.1,2.1,1.0,0.5,2.1,1.8,0.2,1.5,2.1,2.1,1.4,0.4,2.1,2.0,0.7,0.9,2.2,1.6,1.7,0.5,1.3,1.8,1.4,0.6,1.6,1.2,1.7,0.7,0.9,1.6,1.6,0.6,1.4,0.9,1.5,1.0,0.7,1.3,1.6,0.7,1.0,0.7,1.2,1.4,0.6,0.9,1.5,0.9,0.6,0.6,0.8,1.8,0.7,0.6,1.3,1.5,0.5,2.0,0.0,1.8,1.5,0.8,-0.1,2.5,1.8,2.2,0.3,1.2,2.6,1.5,-0.2,2.2,2.2,1.5,1.9,0.4,0.9,1.8,1.6,0.4,1.5,1.0,1.7,0.7,0.7,1.5,1.7,0.6,1.2,0.8,1.5,1.2,0.7,1.1,1.6,0.9,0.8,0.7,0.8,1.8,0.8,0.6,1.1,1.6,0.6,1.4,0.3,2.0,1.8,0.7,0.4,2.2,1.0,2.0,0.5,1.2,2.3,1.4,0.1,2.0,2.0,2.1,0.9,0.9,2.2,1.7,0.2,1.6,2.0,1.8,1.6,0.3,1.7,1.9,0.8,0.7,2.0,1.6,1.8,0.4,1.4,1.8,1.2,0.5,1.9,0.9,1.7,0.8,0.6,1.3,1.7,0.6,1.0,0.6,0.1,2.3,1.5,0.1,0.5,2.3,0.5,1.1,0.0,2.2,2.0,0.2,0.2,2.5,0.9,1.7,-0.1,2.0,2.4,0.5,-0.1,2.5,1.5,2.2,0.5,0.9,2.5,1.6,-0.1,2.0,2.3],\"y\":[22.5,23.0,23.5,24.0,24.0,24.0,23.5,23.0,22.0,21.0,20.0,19.0,19.0,19.0,23.0,23.5,24.0,24.0,23.5,23.0,23.0,21.0,20.0,20.0,19.0,19.0,20.0,22.0,20.0,20.0,19.0,18.0,18.0,18.0,18.5,19.0,18.5,18.0,17.0,16.0,18.0,20.0,19.5,18.5,18.0,18.0,18.25,18.75,18.75,18.25,17.5,16.5,17.0,19.0,20.25,20.75,13.0,12.0,12.0,12.0,13.0,14.0,16.5,19.0,18.5,18.0,19.5,21.0,22.5,24.0,12.5,12.0,12.0,13.5,15.25,17.75,18.75,18.25,18.75,20.25,21.75,23.25,24.25,24.75,12.5,11.0,9.0,7.0,5.5,4.0,3.5,3.0,8.0,13.0,16.0,19.0,20.5,22.0,11.75,10.0,6.25,4.75,3.75,3.25,5.5,10.5,14.5,17.5,19.75,21.25,22.25,22.75,23.0,22.0,16.0,24.0,22.75,21.25,17.75,27.0,25.0,27.0,27.5,28.75,26.25,25.5,29.0,28.0,35.5,34.0,32.5,31.25,34.75,33.25,31.75,32.0,26.0,23.0,28.0,29.25,24.5,23.25,29.0,30.0,30.0,30.0,28.0,27.0,30.0,30.25,27.0,28.0,23.0,21.0,19.5,16.75,22.5,20.75,16.75,17.0,16.5,13.0,20.0,19.25,14.5,13.25,20.5,20.0,15.5,14.0,17.5,19.75,14.75,14.0,19.0,22.0,19.0,16.0,17.0,14.5,17.5,15.75,15.5,16.0,16.5,15.0,11.0,19.25,15.75,14.75,12.75,23.0,21.0,18.0,17.5,18.75,19.5,16.5,18.0,21.0,13.0,13.0,11.0,17.5,13.0,13.0,13.25,19.0,16.5,12.0,2.5,16.25,14.25,9.0,4.25,23.0,18.5,18.0,20.5,19.25,18.0,18.0,20.5,20.0,14.5,13.0,17.0,19.75,13.75,12.25,19.0,22.0,13.5,9.0,13.0,17.0,12.0,8.25,15.5,17.0,16.0,12.0,13.0,17.0,14.25,10.5,13.75,20.0,20.0,20.0,20.0,20.75,20.0,20.0,19.25,23.0,24.5,23.0,21.5,22.75,23.75,22.25,21.25,25.0,29.0,31.0,33.0,35.5,30.25,31.0,34.25,37.0,31.0,27.0,22.5,18.0,29.25,25.5,20.25,18.0,30.5,28.0,21.0,16.25,29.5,25.0,19.0,17.0,16.5,15.0,15.0,12.5,15.75,15.75,13.5,14.0,28.5,28.0,26.0,26.25,28.0,28.0,26.0,27.0,26.0,25.0,22.0,21.0,25.75,24.25,21.0,21.0,12.5,9.0,8.0,18.5,10.5,7.5,14.0,23.0],\"z\":[0.33,0.33,0.33,0.33,0.33,0.33,0.33,0.33,0.33,0.33,0.33,0.33,0.33,0.33,0.33,0.33,0.33,0.33,0.33,0.33,0.33,0.33,0.33,0.33,0.33,0.33,0.33,0.33,0.33,0.33,0.33,0.33,0.33,0.33,0.33,0.33,0.33,0.33,0.33,0.33,0.33,0.33,0.33,0.33,0.33,0.33,0.33,0.33,0.33,0.33,0.33,0.33,0.33,0.33,0.33,0.42,0.0,0.0,0.0,0.0,0.0,0.42,0.42,0.42,0.42,0.42,0.42,0.42,0.42,0.42,0.0,0.0,0.0,0.0,0.42,0.42,0.42,0.42,0.42,0.42,0.42,0.42,0.42,0.42,2.5,2.5,2.5,2.5,2.5,2.5,2.5,2.5,2.5,2.5,2.5,2.5,2.5,2.5,2.5,2.5,2.5,2.5,2.5,2.5,2.5,2.5,2.5,2.5,2.5,2.5,2.5,2.5,0.63,0.63,0.63,0.63,0.63,0.63,0.63,0.63,1.67,1.67,1.67,1.67,1.67,1.67,1.67,1.67,0.63,0.63,0.63,0.63,0.63,0.63,0.63,0.63,1.88,1.88,1.88,1.88,1.88,1.88,1.88,1.88,0.63,0.63,0.63,0.63,0.63,0.63,0.63,0.63,0.42,0.42,0.42,0.42,0.42,0.42,0.42,0.42,0.42,0.42,0.42,0.42,0.42,0.42,0.42,0.42,0.44,0.44,0.44,0.0,0.44,0.44,0.44,0.0,0.0,0.0,0.0,0.0,0.0,0.0,0.0,0.0,0.0,0.0,0.0,0.0,0.0,0.0,0.0,0.0,0.42,0.42,0.0,0.0,0.42,0.0,0.0,0.0,0.0,0.0,0.0,0.0,0.0,0.0,0.0,0.0,2.92,2.92,2.92,2.92,2.92,2.92,2.92,2.92,0.83,0.83,0.83,0.0,0.83,0.83,0.83,0.0,0.21,0.21,0.21,0.21,0.21,0.21,0.21,0.21,0.39,0.39,0.39,0.0,0.39,0.39,0.39,0.0,1.88,1.88,1.88,1.88,1.88,1.88,1.88,1.88,5.83,5.83,5.83,5.83,5.83,5.83,5.83,5.83,2.5,2.5,2.5,2.5,2.5,2.5,2.5,2.5,3.33,3.33,3.33,3.33,3.33,3.33,3.33,3.33,1.04,1.04,1.04,1.04,1.04,1.04,1.04,1.04,0.0,0.0,0.83,0.83,0.0,0.0,0.83,0.83,0.63,0.63,0.63,0.63,0.63,0.63,0.63,0.63,0.42,0.42,0.42,0.42,0.42,0.42,0.42,0.42,0.25,0.25,0.25,0.25,0.25,0.25,0.25,0.25,0.83,0.83,0.83,0.83,0.83,0.83,0.83,0.83],\"type\":\"scatter3d\"}],                        {\"template\":{\"data\":{\"bar\":[{\"error_x\":{\"color\":\"#2a3f5f\"},\"error_y\":{\"color\":\"#2a3f5f\"},\"marker\":{\"line\":{\"color\":\"#E5ECF6\",\"width\":0.5},\"pattern\":{\"fillmode\":\"overlay\",\"size\":10,\"solidity\":0.2}},\"type\":\"bar\"}],\"barpolar\":[{\"marker\":{\"line\":{\"color\":\"#E5ECF6\",\"width\":0.5},\"pattern\":{\"fillmode\":\"overlay\",\"size\":10,\"solidity\":0.2}},\"type\":\"barpolar\"}],\"carpet\":[{\"aaxis\":{\"endlinecolor\":\"#2a3f5f\",\"gridcolor\":\"white\",\"linecolor\":\"white\",\"minorgridcolor\":\"white\",\"startlinecolor\":\"#2a3f5f\"},\"baxis\":{\"endlinecolor\":\"#2a3f5f\",\"gridcolor\":\"white\",\"linecolor\":\"white\",\"minorgridcolor\":\"white\",\"startlinecolor\":\"#2a3f5f\"},\"type\":\"carpet\"}],\"choropleth\":[{\"colorbar\":{\"outlinewidth\":0,\"ticks\":\"\"},\"type\":\"choropleth\"}],\"contour\":[{\"colorbar\":{\"outlinewidth\":0,\"ticks\":\"\"},\"colorscale\":[[0.0,\"#0d0887\"],[0.1111111111111111,\"#46039f\"],[0.2222222222222222,\"#7201a8\"],[0.3333333333333333,\"#9c179e\"],[0.4444444444444444,\"#bd3786\"],[0.5555555555555556,\"#d8576b\"],[0.6666666666666666,\"#ed7953\"],[0.7777777777777778,\"#fb9f3a\"],[0.8888888888888888,\"#fdca26\"],[1.0,\"#f0f921\"]],\"type\":\"contour\"}],\"contourcarpet\":[{\"colorbar\":{\"outlinewidth\":0,\"ticks\":\"\"},\"type\":\"contourcarpet\"}],\"heatmap\":[{\"colorbar\":{\"outlinewidth\":0,\"ticks\":\"\"},\"colorscale\":[[0.0,\"#0d0887\"],[0.1111111111111111,\"#46039f\"],[0.2222222222222222,\"#7201a8\"],[0.3333333333333333,\"#9c179e\"],[0.4444444444444444,\"#bd3786\"],[0.5555555555555556,\"#d8576b\"],[0.6666666666666666,\"#ed7953\"],[0.7777777777777778,\"#fb9f3a\"],[0.8888888888888888,\"#fdca26\"],[1.0,\"#f0f921\"]],\"type\":\"heatmap\"}],\"heatmapgl\":[{\"colorbar\":{\"outlinewidth\":0,\"ticks\":\"\"},\"colorscale\":[[0.0,\"#0d0887\"],[0.1111111111111111,\"#46039f\"],[0.2222222222222222,\"#7201a8\"],[0.3333333333333333,\"#9c179e\"],[0.4444444444444444,\"#bd3786\"],[0.5555555555555556,\"#d8576b\"],[0.6666666666666666,\"#ed7953\"],[0.7777777777777778,\"#fb9f3a\"],[0.8888888888888888,\"#fdca26\"],[1.0,\"#f0f921\"]],\"type\":\"heatmapgl\"}],\"histogram\":[{\"marker\":{\"pattern\":{\"fillmode\":\"overlay\",\"size\":10,\"solidity\":0.2}},\"type\":\"histogram\"}],\"histogram2d\":[{\"colorbar\":{\"outlinewidth\":0,\"ticks\":\"\"},\"colorscale\":[[0.0,\"#0d0887\"],[0.1111111111111111,\"#46039f\"],[0.2222222222222222,\"#7201a8\"],[0.3333333333333333,\"#9c179e\"],[0.4444444444444444,\"#bd3786\"],[0.5555555555555556,\"#d8576b\"],[0.6666666666666666,\"#ed7953\"],[0.7777777777777778,\"#fb9f3a\"],[0.8888888888888888,\"#fdca26\"],[1.0,\"#f0f921\"]],\"type\":\"histogram2d\"}],\"histogram2dcontour\":[{\"colorbar\":{\"outlinewidth\":0,\"ticks\":\"\"},\"colorscale\":[[0.0,\"#0d0887\"],[0.1111111111111111,\"#46039f\"],[0.2222222222222222,\"#7201a8\"],[0.3333333333333333,\"#9c179e\"],[0.4444444444444444,\"#bd3786\"],[0.5555555555555556,\"#d8576b\"],[0.6666666666666666,\"#ed7953\"],[0.7777777777777778,\"#fb9f3a\"],[0.8888888888888888,\"#fdca26\"],[1.0,\"#f0f921\"]],\"type\":\"histogram2dcontour\"}],\"mesh3d\":[{\"colorbar\":{\"outlinewidth\":0,\"ticks\":\"\"},\"type\":\"mesh3d\"}],\"parcoords\":[{\"line\":{\"colorbar\":{\"outlinewidth\":0,\"ticks\":\"\"}},\"type\":\"parcoords\"}],\"pie\":[{\"automargin\":true,\"type\":\"pie\"}],\"scatter\":[{\"marker\":{\"colorbar\":{\"outlinewidth\":0,\"ticks\":\"\"}},\"type\":\"scatter\"}],\"scatter3d\":[{\"line\":{\"colorbar\":{\"outlinewidth\":0,\"ticks\":\"\"}},\"marker\":{\"colorbar\":{\"outlinewidth\":0,\"ticks\":\"\"}},\"type\":\"scatter3d\"}],\"scattercarpet\":[{\"marker\":{\"colorbar\":{\"outlinewidth\":0,\"ticks\":\"\"}},\"type\":\"scattercarpet\"}],\"scattergeo\":[{\"marker\":{\"colorbar\":{\"outlinewidth\":0,\"ticks\":\"\"}},\"type\":\"scattergeo\"}],\"scattergl\":[{\"marker\":{\"colorbar\":{\"outlinewidth\":0,\"ticks\":\"\"}},\"type\":\"scattergl\"}],\"scattermapbox\":[{\"marker\":{\"colorbar\":{\"outlinewidth\":0,\"ticks\":\"\"}},\"type\":\"scattermapbox\"}],\"scatterpolar\":[{\"marker\":{\"colorbar\":{\"outlinewidth\":0,\"ticks\":\"\"}},\"type\":\"scatterpolar\"}],\"scatterpolargl\":[{\"marker\":{\"colorbar\":{\"outlinewidth\":0,\"ticks\":\"\"}},\"type\":\"scatterpolargl\"}],\"scatterternary\":[{\"marker\":{\"colorbar\":{\"outlinewidth\":0,\"ticks\":\"\"}},\"type\":\"scatterternary\"}],\"surface\":[{\"colorbar\":{\"outlinewidth\":0,\"ticks\":\"\"},\"colorscale\":[[0.0,\"#0d0887\"],[0.1111111111111111,\"#46039f\"],[0.2222222222222222,\"#7201a8\"],[0.3333333333333333,\"#9c179e\"],[0.4444444444444444,\"#bd3786\"],[0.5555555555555556,\"#d8576b\"],[0.6666666666666666,\"#ed7953\"],[0.7777777777777778,\"#fb9f3a\"],[0.8888888888888888,\"#fdca26\"],[1.0,\"#f0f921\"]],\"type\":\"surface\"}],\"table\":[{\"cells\":{\"fill\":{\"color\":\"#EBF0F8\"},\"line\":{\"color\":\"white\"}},\"header\":{\"fill\":{\"color\":\"#C8D4E3\"},\"line\":{\"color\":\"white\"}},\"type\":\"table\"}]},\"layout\":{\"annotationdefaults\":{\"arrowcolor\":\"#2a3f5f\",\"arrowhead\":0,\"arrowwidth\":1},\"autotypenumbers\":\"strict\",\"coloraxis\":{\"colorbar\":{\"outlinewidth\":0,\"ticks\":\"\"}},\"colorscale\":{\"diverging\":[[0,\"#8e0152\"],[0.1,\"#c51b7d\"],[0.2,\"#de77ae\"],[0.3,\"#f1b6da\"],[0.4,\"#fde0ef\"],[0.5,\"#f7f7f7\"],[0.6,\"#e6f5d0\"],[0.7,\"#b8e186\"],[0.8,\"#7fbc41\"],[0.9,\"#4d9221\"],[1,\"#276419\"]],\"sequential\":[[0.0,\"#0d0887\"],[0.1111111111111111,\"#46039f\"],[0.2222222222222222,\"#7201a8\"],[0.3333333333333333,\"#9c179e\"],[0.4444444444444444,\"#bd3786\"],[0.5555555555555556,\"#d8576b\"],[0.6666666666666666,\"#ed7953\"],[0.7777777777777778,\"#fb9f3a\"],[0.8888888888888888,\"#fdca26\"],[1.0,\"#f0f921\"]],\"sequentialminus\":[[0.0,\"#0d0887\"],[0.1111111111111111,\"#46039f\"],[0.2222222222222222,\"#7201a8\"],[0.3333333333333333,\"#9c179e\"],[0.4444444444444444,\"#bd3786\"],[0.5555555555555556,\"#d8576b\"],[0.6666666666666666,\"#ed7953\"],[0.7777777777777778,\"#fb9f3a\"],[0.8888888888888888,\"#fdca26\"],[1.0,\"#f0f921\"]]},\"colorway\":[\"#636efa\",\"#EF553B\",\"#00cc96\",\"#ab63fa\",\"#FFA15A\",\"#19d3f3\",\"#FF6692\",\"#B6E880\",\"#FF97FF\",\"#FECB52\"],\"font\":{\"color\":\"#2a3f5f\"},\"geo\":{\"bgcolor\":\"white\",\"lakecolor\":\"white\",\"landcolor\":\"#E5ECF6\",\"showlakes\":true,\"showland\":true,\"subunitcolor\":\"white\"},\"hoverlabel\":{\"align\":\"left\"},\"hovermode\":\"closest\",\"mapbox\":{\"style\":\"light\"},\"paper_bgcolor\":\"white\",\"plot_bgcolor\":\"#E5ECF6\",\"polar\":{\"angularaxis\":{\"gridcolor\":\"white\",\"linecolor\":\"white\",\"ticks\":\"\"},\"bgcolor\":\"#E5ECF6\",\"radialaxis\":{\"gridcolor\":\"white\",\"linecolor\":\"white\",\"ticks\":\"\"}},\"scene\":{\"xaxis\":{\"backgroundcolor\":\"#E5ECF6\",\"gridcolor\":\"white\",\"gridwidth\":2,\"linecolor\":\"white\",\"showbackground\":true,\"ticks\":\"\",\"zerolinecolor\":\"white\"},\"yaxis\":{\"backgroundcolor\":\"#E5ECF6\",\"gridcolor\":\"white\",\"gridwidth\":2,\"linecolor\":\"white\",\"showbackground\":true,\"ticks\":\"\",\"zerolinecolor\":\"white\"},\"zaxis\":{\"backgroundcolor\":\"#E5ECF6\",\"gridcolor\":\"white\",\"gridwidth\":2,\"linecolor\":\"white\",\"showbackground\":true,\"ticks\":\"\",\"zerolinecolor\":\"white\"}},\"shapedefaults\":{\"line\":{\"color\":\"#2a3f5f\"}},\"ternary\":{\"aaxis\":{\"gridcolor\":\"white\",\"linecolor\":\"white\",\"ticks\":\"\"},\"baxis\":{\"gridcolor\":\"white\",\"linecolor\":\"white\",\"ticks\":\"\"},\"bgcolor\":\"#E5ECF6\",\"caxis\":{\"gridcolor\":\"white\",\"linecolor\":\"white\",\"ticks\":\"\"}},\"title\":{\"x\":0.05},\"xaxis\":{\"automargin\":true,\"gridcolor\":\"white\",\"linecolor\":\"white\",\"ticks\":\"\",\"title\":{\"standoff\":15},\"zerolinecolor\":\"white\",\"zerolinewidth\":2},\"yaxis\":{\"automargin\":true,\"gridcolor\":\"white\",\"linecolor\":\"white\",\"ticks\":\"\",\"title\":{\"standoff\":15},\"zerolinecolor\":\"white\",\"zerolinewidth\":2}}},\"scene\":{\"domain\":{\"x\":[0.0,1.0],\"y\":[0.0,1.0]},\"xaxis\":{\"title\":{\"text\":\"Altura da Mar\\u00e9 (m)\"}},\"yaxis\":{\"title\":{\"text\":\"Velocidade do Vento (Km/h)\"}},\"zaxis\":{\"title\":{\"text\":\"Chuva (mm)\"}}},\"coloraxis\":{\"colorbar\":{\"title\":{\"text\":\"Cluster\"}},\"colorscale\":[[0.0,\"#0d0887\"],[0.1111111111111111,\"#46039f\"],[0.2222222222222222,\"#7201a8\"],[0.3333333333333333,\"#9c179e\"],[0.4444444444444444,\"#bd3786\"],[0.5555555555555556,\"#d8576b\"],[0.6666666666666666,\"#ed7953\"],[0.7777777777777778,\"#fb9f3a\"],[0.8888888888888888,\"#fdca26\"],[1.0,\"#f0f921\"]]},\"legend\":{\"tracegroupgap\":0},\"title\":{\"text\":\"3d scatter clusters\"},\"height\":600,\"width\":1100},                        {\"responsive\": true}                    ).then(function(){\n",
              "                            \n",
              "var gd = document.getElementById('1aed52c2-b4c6-48c6-bf4d-38ba77bc84db');\n",
              "var x = new MutationObserver(function (mutations, observer) {{\n",
              "        var display = window.getComputedStyle(gd).display;\n",
              "        if (!display || display === 'none') {{\n",
              "            console.log([gd, 'removed!']);\n",
              "            Plotly.purge(gd);\n",
              "            observer.disconnect();\n",
              "        }}\n",
              "}});\n",
              "\n",
              "// Listen for the removal of the full notebook cells\n",
              "var notebookContainer = gd.closest('#notebook-container');\n",
              "if (notebookContainer) {{\n",
              "    x.observe(notebookContainer, {childList: true});\n",
              "}}\n",
              "\n",
              "// Listen for the clearing of the current output cell\n",
              "var outputEl = gd.closest('.output');\n",
              "if (outputEl) {{\n",
              "    x.observe(outputEl, {childList: true});\n",
              "}}\n",
              "\n",
              "                        })                };                            </script>        </div>\n",
              "</body>\n",
              "</html>"
            ]
          },
          "metadata": {}
        }
      ]
    },
    {
      "cell_type": "code",
      "source": [
        "print('Coeficiente de Jaccard: {:.3f}'.format(valores_analise['jaccard'][0]))\n",
        "print('Silhueta: {:.3f}'.format(valores_analise['silhouette'][0]))"
      ],
      "metadata": {
        "id": "TPE3aGUqGZzW",
        "colab": {
          "base_uri": "https://localhost:8080/"
        },
        "outputId": "d6acaab5-691f-48fc-aad5-4d1e77ede85f"
      },
      "execution_count": 1056,
      "outputs": [
        {
          "output_type": "stream",
          "name": "stdout",
          "text": [
            "Coeficiente de Jaccard: 0.121\n",
            "Silhueta: 0.393\n"
          ]
        }
      ]
    },
    {
      "cell_type": "markdown",
      "source": [
        "### Análise da quantidade de clusters - Hierárquico"
      ],
      "metadata": {
        "id": "aF_JeYC70es1"
      }
    },
    {
      "cell_type": "code",
      "source": [
        "import scipy.cluster.hierarchy as sch\n",
        "import plotly.figure_factory as ff"
      ],
      "metadata": {
        "id": "5S_J_kcE1RNp"
      },
      "execution_count": 1057,
      "outputs": []
    },
    {
      "cell_type": "markdown",
      "source": [
        "No agrupamento aglomerativo hierárquico, cada ponto passa a ser um agrupamento individual, e eles se agrupam levando em consideração a distância entre cada um (primeiro os mais próximos). \n",
        "\n",
        "Para ter uma ideia melhor do número de clusters, podemos utilizar um dendrograma.\n",
        "\n",
        "O corte de um dendograma na horizontal representa uma partição."
      ],
      "metadata": {
        "id": "SvVs34vV4f0I"
      }
    },
    {
      "cell_type": "code",
      "source": [
        "fig = ff.create_dendrogram(dataset_a1,\n",
        "                           linkagefun = lambda x: sch.linkage(x, \"ward\"),)\n",
        "fig.update_layout(title = 'Hierarchical Clustering',\n",
        "                   yaxis_title='Euclidean Distance', width=1100, height=600)\n",
        "\n",
        "fig.show()"
      ],
      "metadata": {
        "colab": {
          "base_uri": "https://localhost:8080/",
          "height": 0
        },
        "id": "bcAq2pjo1J26",
        "outputId": "7a7bc2f1-59b3-47c7-8dda-b1d5847f6b5c"
      },
      "execution_count": 1058,
      "outputs": [
        {
          "output_type": "display_data",
          "data": {
            "text/html": [
              "<html>\n",
              "<head><meta charset=\"utf-8\" /></head>\n",
              "<body>\n",
              "    <div>            <script src=\"https://cdnjs.cloudflare.com/ajax/libs/mathjax/2.7.5/MathJax.js?config=TeX-AMS-MML_SVG\"></script><script type=\"text/javascript\">if (window.MathJax) {MathJax.Hub.Config({SVG: {font: \"STIX-Web\"}});}</script>                <script type=\"text/javascript\">window.PlotlyConfig = {MathJaxConfig: 'local'};</script>\n",
              "        <script src=\"https://cdn.plot.ly/plotly-2.8.3.min.js\"></script>                <div id=\"5d5e7cb3-c5e6-49b2-8376-49e9345b60c0\" class=\"plotly-graph-div\" style=\"height:600px; width:1100px;\"></div>            <script type=\"text/javascript\">                                    window.PLOTLYENV=window.PLOTLYENV || {};                                    if (document.getElementById(\"5d5e7cb3-c5e6-49b2-8376-49e9345b60c0\")) {                    Plotly.newPlot(                        \"5d5e7cb3-c5e6-49b2-8376-49e9345b60c0\",                        [{\"hoverinfo\":\"text\",\"marker\":{\"color\":\"rgb(61,153,112)\"},\"mode\":\"lines\",\"x\":[5.0,5.0,15.0,15.0],\"xaxis\":\"x\",\"y\":[0.0,2.106276335146934,2.106276335146934,0.0],\"yaxis\":\"y\",\"type\":\"scatter\"},{\"hoverinfo\":\"text\",\"marker\":{\"color\":\"rgb(61,153,112)\"},\"mode\":\"lines\",\"x\":[35.0,35.0,45.0,45.0],\"xaxis\":\"x\",\"y\":[0.0,1.019803902718557,1.019803902718557,0.0],\"yaxis\":\"y\",\"type\":\"scatter\"},{\"hoverinfo\":\"text\",\"marker\":{\"color\":\"rgb(61,153,112)\"},\"mode\":\"lines\",\"x\":[25.0,25.0,40.0,40.0],\"xaxis\":\"x\",\"y\":[0.0,1.2735252909411208,1.2735252909411208,1.019803902718557],\"yaxis\":\"y\",\"type\":\"scatter\"},{\"hoverinfo\":\"text\",\"marker\":{\"color\":\"rgb(61,153,112)\"},\"mode\":\"lines\",\"x\":[55.0,55.0,65.0,65.0],\"xaxis\":\"x\",\"y\":[0.0,1.0770329614269007,1.0770329614269007,0.0],\"yaxis\":\"y\",\"type\":\"scatter\"},{\"hoverinfo\":\"text\",\"marker\":{\"color\":\"rgb(61,153,112)\"},\"mode\":\"lines\",\"x\":[75.0,75.0,85.0,85.0],\"xaxis\":\"x\",\"y\":[0.0,1.6500000000000001,1.6500000000000001,0.0],\"yaxis\":\"y\",\"type\":\"scatter\"},{\"hoverinfo\":\"text\",\"marker\":{\"color\":\"rgb(61,153,112)\"},\"mode\":\"lines\",\"x\":[60.0,60.0,80.0,80.0],\"xaxis\":\"x\",\"y\":[1.0770329614269007,2.1920424265967116,2.1920424265967116,1.6500000000000001],\"yaxis\":\"y\",\"type\":\"scatter\"},{\"hoverinfo\":\"text\",\"marker\":{\"color\":\"rgb(61,153,112)\"},\"mode\":\"lines\",\"x\":[32.5,32.5,70.0,70.0],\"xaxis\":\"x\",\"y\":[1.2735252909411208,3.053150207650483,3.053150207650483,2.1920424265967116],\"yaxis\":\"y\",\"type\":\"scatter\"},{\"hoverinfo\":\"text\",\"marker\":{\"color\":\"rgb(61,153,112)\"},\"mode\":\"lines\",\"x\":[10.0,10.0,51.25,51.25],\"xaxis\":\"x\",\"y\":[2.106276335146934,4.254813147558295,4.254813147558295,3.053150207650483],\"yaxis\":\"y\",\"type\":\"scatter\"},{\"hoverinfo\":\"text\",\"marker\":{\"color\":\"rgb(61,153,112)\"},\"mode\":\"lines\",\"x\":[95.0,95.0,105.0,105.0],\"xaxis\":\"x\",\"y\":[0.0,1.004987562112089,1.004987562112089,0.0],\"yaxis\":\"y\",\"type\":\"scatter\"},{\"hoverinfo\":\"text\",\"marker\":{\"color\":\"rgb(61,153,112)\"},\"mode\":\"lines\",\"x\":[115.0,115.0,125.0,125.0],\"xaxis\":\"x\",\"y\":[0.0,1.004987562112089,1.004987562112089,0.0],\"yaxis\":\"y\",\"type\":\"scatter\"},{\"hoverinfo\":\"text\",\"marker\":{\"color\":\"rgb(61,153,112)\"},\"mode\":\"lines\",\"x\":[100.0,100.0,120.0,120.0],\"xaxis\":\"x\",\"y\":[1.004987562112089,1.4422205101855958,1.4422205101855958,1.004987562112089],\"yaxis\":\"y\",\"type\":\"scatter\"},{\"hoverinfo\":\"text\",\"marker\":{\"color\":\"rgb(61,153,112)\"},\"mode\":\"lines\",\"x\":[135.0,135.0,145.0,145.0],\"xaxis\":\"x\",\"y\":[0.0,1.5,1.5,0.0],\"yaxis\":\"y\",\"type\":\"scatter\"},{\"hoverinfo\":\"text\",\"marker\":{\"color\":\"rgb(61,153,112)\"},\"mode\":\"lines\",\"x\":[165.0,165.0,175.0,175.0],\"xaxis\":\"x\",\"y\":[0.0,0.29,0.29,0.0],\"yaxis\":\"y\",\"type\":\"scatter\"},{\"hoverinfo\":\"text\",\"marker\":{\"color\":\"rgb(61,153,112)\"},\"mode\":\"lines\",\"x\":[155.0,155.0,170.0,170.0],\"xaxis\":\"x\",\"y\":[0.0,1.1694015563526499,1.1694015563526499,0.29],\"yaxis\":\"y\",\"type\":\"scatter\"},{\"hoverinfo\":\"text\",\"marker\":{\"color\":\"rgb(61,153,112)\"},\"mode\":\"lines\",\"x\":[205.0,205.0,215.0,215.0],\"xaxis\":\"x\",\"y\":[0.0,0.4988987873306569,0.4988987873306569,0.0],\"yaxis\":\"y\",\"type\":\"scatter\"},{\"hoverinfo\":\"text\",\"marker\":{\"color\":\"rgb(61,153,112)\"},\"mode\":\"lines\",\"x\":[195.0,195.0,210.0,210.0],\"xaxis\":\"x\",\"y\":[0.0,0.771167945391923,0.771167945391923,0.4988987873306569],\"yaxis\":\"y\",\"type\":\"scatter\"},{\"hoverinfo\":\"text\",\"marker\":{\"color\":\"rgb(61,153,112)\"},\"mode\":\"lines\",\"x\":[225.0,225.0,235.0,235.0],\"xaxis\":\"x\",\"y\":[0.0,1.2714558584551805,1.2714558584551805,0.0],\"yaxis\":\"y\",\"type\":\"scatter\"},{\"hoverinfo\":\"text\",\"marker\":{\"color\":\"rgb(61,153,112)\"},\"mode\":\"lines\",\"x\":[202.5,202.5,230.0,230.0],\"xaxis\":\"x\",\"y\":[0.771167945391923,1.698246154124896,1.698246154124896,1.2714558584551805],\"yaxis\":\"y\",\"type\":\"scatter\"},{\"hoverinfo\":\"text\",\"marker\":{\"color\":\"rgb(61,153,112)\"},\"mode\":\"lines\",\"x\":[185.0,185.0,216.25,216.25],\"xaxis\":\"x\",\"y\":[0.0,1.968093832451424,1.968093832451424,1.698246154124896],\"yaxis\":\"y\",\"type\":\"scatter\"},{\"hoverinfo\":\"text\",\"marker\":{\"color\":\"rgb(61,153,112)\"},\"mode\":\"lines\",\"x\":[162.5,162.5,200.625,200.625],\"xaxis\":\"x\",\"y\":[1.1694015563526499,2.6961392150010846,2.6961392150010846,1.968093832451424],\"yaxis\":\"y\",\"type\":\"scatter\"},{\"hoverinfo\":\"text\",\"marker\":{\"color\":\"rgb(61,153,112)\"},\"mode\":\"lines\",\"x\":[140.0,140.0,181.5625,181.5625],\"xaxis\":\"x\",\"y\":[1.5,2.901592039490797,2.901592039490797,2.6961392150010846],\"yaxis\":\"y\",\"type\":\"scatter\"},{\"hoverinfo\":\"text\",\"marker\":{\"color\":\"rgb(61,153,112)\"},\"mode\":\"lines\",\"x\":[110.0,110.0,160.78125,160.78125],\"xaxis\":\"x\",\"y\":[1.4422205101855958,4.3219305450647445,4.3219305450647445,2.901592039490797],\"yaxis\":\"y\",\"type\":\"scatter\"},{\"hoverinfo\":\"text\",\"marker\":{\"color\":\"rgb(61,153,112)\"},\"mode\":\"lines\",\"x\":[30.625,30.625,135.390625,135.390625],\"xaxis\":\"x\",\"y\":[4.254813147558295,9.799535816671225,9.799535816671225,4.3219305450647445],\"yaxis\":\"y\",\"type\":\"scatter\"},{\"hoverinfo\":\"text\",\"marker\":{\"color\":\"rgb(61,153,112)\"},\"mode\":\"lines\",\"x\":[245.0,245.0,255.0,255.0],\"xaxis\":\"x\",\"y\":[0.0,1.2833160171991933,1.2833160171991933,0.0],\"yaxis\":\"y\",\"type\":\"scatter\"},{\"hoverinfo\":\"text\",\"marker\":{\"color\":\"rgb(61,153,112)\"},\"mode\":\"lines\",\"x\":[265.0,265.0,275.0,275.0],\"xaxis\":\"x\",\"y\":[0.0,1.030970416646375,1.030970416646375,0.0],\"yaxis\":\"y\",\"type\":\"scatter\"},{\"hoverinfo\":\"text\",\"marker\":{\"color\":\"rgb(61,153,112)\"},\"mode\":\"lines\",\"x\":[295.0,295.0,305.0,305.0],\"xaxis\":\"x\",\"y\":[0.0,0.7323933369440222,0.7323933369440222,0.0],\"yaxis\":\"y\",\"type\":\"scatter\"},{\"hoverinfo\":\"text\",\"marker\":{\"color\":\"rgb(61,153,112)\"},\"mode\":\"lines\",\"x\":[285.0,285.0,300.0,300.0],\"xaxis\":\"x\",\"y\":[0.0,1.2994357749936445,1.2994357749936445,0.7323933369440222],\"yaxis\":\"y\",\"type\":\"scatter\"},{\"hoverinfo\":\"text\",\"marker\":{\"color\":\"rgb(61,153,112)\"},\"mode\":\"lines\",\"x\":[270.0,270.0,292.5,292.5],\"xaxis\":\"x\",\"y\":[1.030970416646375,2.382050937042839,2.382050937042839,1.2994357749936445],\"yaxis\":\"y\",\"type\":\"scatter\"},{\"hoverinfo\":\"text\",\"marker\":{\"color\":\"rgb(61,153,112)\"},\"mode\":\"lines\",\"x\":[250.0,250.0,281.25,281.25],\"xaxis\":\"x\",\"y\":[1.2833160171991933,2.582371556756087,2.582371556756087,2.382050937042839],\"yaxis\":\"y\",\"type\":\"scatter\"},{\"hoverinfo\":\"text\",\"marker\":{\"color\":\"rgb(61,153,112)\"},\"mode\":\"lines\",\"x\":[315.0,315.0,325.0,325.0],\"xaxis\":\"x\",\"y\":[0.0,2.3563743335896357,2.3563743335896357,0.0],\"yaxis\":\"y\",\"type\":\"scatter\"},{\"hoverinfo\":\"text\",\"marker\":{\"color\":\"rgb(61,153,112)\"},\"mode\":\"lines\",\"x\":[335.0,335.0,345.0,345.0],\"xaxis\":\"x\",\"y\":[0.0,2.6744158240632663,2.6744158240632663,0.0],\"yaxis\":\"y\",\"type\":\"scatter\"},{\"hoverinfo\":\"text\",\"marker\":{\"color\":\"rgb(61,153,112)\"},\"mode\":\"lines\",\"x\":[320.0,320.0,340.0,340.0],\"xaxis\":\"x\",\"y\":[2.3563743335896357,3.6066882316052777,3.6066882316052777,2.6744158240632663],\"yaxis\":\"y\",\"type\":\"scatter\"},{\"hoverinfo\":\"text\",\"marker\":{\"color\":\"rgb(61,153,112)\"},\"mode\":\"lines\",\"x\":[265.625,265.625,330.0,330.0],\"xaxis\":\"x\",\"y\":[2.582371556756087,5.496784420098622,5.496784420098622,3.6066882316052777],\"yaxis\":\"y\",\"type\":\"scatter\"},{\"hoverinfo\":\"text\",\"marker\":{\"color\":\"rgb(61,153,112)\"},\"mode\":\"lines\",\"x\":[365.0,365.0,375.0,375.0],\"xaxis\":\"x\",\"y\":[0.0,0.3910242959203431,0.3910242959203431,0.0],\"yaxis\":\"y\",\"type\":\"scatter\"},{\"hoverinfo\":\"text\",\"marker\":{\"color\":\"rgb(61,153,112)\"},\"mode\":\"lines\",\"x\":[355.0,355.0,370.0,370.0],\"xaxis\":\"x\",\"y\":[0.0,1.1174524598388962,1.1174524598388962,0.3910242959203431],\"yaxis\":\"y\",\"type\":\"scatter\"},{\"hoverinfo\":\"text\",\"marker\":{\"color\":\"rgb(61,153,112)\"},\"mode\":\"lines\",\"x\":[395.0,395.0,405.0,405.0],\"xaxis\":\"x\",\"y\":[0.0,0.7071067811865476,0.7071067811865476,0.0],\"yaxis\":\"y\",\"type\":\"scatter\"},{\"hoverinfo\":\"text\",\"marker\":{\"color\":\"rgb(61,153,112)\"},\"mode\":\"lines\",\"x\":[385.0,385.0,400.0,400.0],\"xaxis\":\"x\",\"y\":[0.0,1.498888477061141,1.498888477061141,0.7071067811865476],\"yaxis\":\"y\",\"type\":\"scatter\"},{\"hoverinfo\":\"text\",\"marker\":{\"color\":\"rgb(61,153,112)\"},\"mode\":\"lines\",\"x\":[425.0,425.0,435.0,435.0],\"xaxis\":\"x\",\"y\":[0.0,0.6419501538281613,0.6419501538281613,0.0],\"yaxis\":\"y\",\"type\":\"scatter\"},{\"hoverinfo\":\"text\",\"marker\":{\"color\":\"rgb(61,153,112)\"},\"mode\":\"lines\",\"x\":[415.0,415.0,430.0,430.0],\"xaxis\":\"x\",\"y\":[0.0,1.7138747523277968,1.7138747523277968,0.6419501538281613],\"yaxis\":\"y\",\"type\":\"scatter\"},{\"hoverinfo\":\"text\",\"marker\":{\"color\":\"rgb(61,153,112)\"},\"mode\":\"lines\",\"x\":[392.5,392.5,422.5,422.5],\"xaxis\":\"x\",\"y\":[1.498888477061141,2.397366610818351,2.397366610818351,1.7138747523277968],\"yaxis\":\"y\",\"type\":\"scatter\"},{\"hoverinfo\":\"text\",\"marker\":{\"color\":\"rgb(61,153,112)\"},\"mode\":\"lines\",\"x\":[362.5,362.5,407.5,407.5],\"xaxis\":\"x\",\"y\":[1.1174524598388962,3.494002798447012,3.494002798447012,2.397366610818351],\"yaxis\":\"y\",\"type\":\"scatter\"},{\"hoverinfo\":\"text\",\"marker\":{\"color\":\"rgb(61,153,112)\"},\"mode\":\"lines\",\"x\":[455.0,455.0,465.0,465.0],\"xaxis\":\"x\",\"y\":[0.0,2.1079848196796864,2.1079848196796864,0.0],\"yaxis\":\"y\",\"type\":\"scatter\"},{\"hoverinfo\":\"text\",\"marker\":{\"color\":\"rgb(61,153,112)\"},\"mode\":\"lines\",\"x\":[445.0,445.0,460.0,460.0],\"xaxis\":\"x\",\"y\":[0.0,2.60023075899044,2.60023075899044,2.1079848196796864],\"yaxis\":\"y\",\"type\":\"scatter\"},{\"hoverinfo\":\"text\",\"marker\":{\"color\":\"rgb(61,153,112)\"},\"mode\":\"lines\",\"x\":[495.0,495.0,505.0,505.0],\"xaxis\":\"x\",\"y\":[0.0,1.2539936203984452,1.2539936203984452,0.0],\"yaxis\":\"y\",\"type\":\"scatter\"},{\"hoverinfo\":\"text\",\"marker\":{\"color\":\"rgb(61,153,112)\"},\"mode\":\"lines\",\"x\":[485.0,485.0,500.0,500.0],\"xaxis\":\"x\",\"y\":[0.0,1.8396104660135708,1.8396104660135708,1.2539936203984452],\"yaxis\":\"y\",\"type\":\"scatter\"},{\"hoverinfo\":\"text\",\"marker\":{\"color\":\"rgb(61,153,112)\"},\"mode\":\"lines\",\"x\":[475.0,475.0,492.5,492.5],\"xaxis\":\"x\",\"y\":[0.0,3.294189328701879,3.294189328701879,1.8396104660135708],\"yaxis\":\"y\",\"type\":\"scatter\"},{\"hoverinfo\":\"text\",\"marker\":{\"color\":\"rgb(61,153,112)\"},\"mode\":\"lines\",\"x\":[452.5,452.5,483.75,483.75],\"xaxis\":\"x\",\"y\":[2.60023075899044,5.520925776404843,5.520925776404843,3.294189328701879],\"yaxis\":\"y\",\"type\":\"scatter\"},{\"hoverinfo\":\"text\",\"marker\":{\"color\":\"rgb(61,153,112)\"},\"mode\":\"lines\",\"x\":[385.0,385.0,468.125,468.125],\"xaxis\":\"x\",\"y\":[3.494002798447012,6.9158078353778025,6.9158078353778025,5.520925776404843],\"yaxis\":\"y\",\"type\":\"scatter\"},{\"hoverinfo\":\"text\",\"marker\":{\"color\":\"rgb(61,153,112)\"},\"mode\":\"lines\",\"x\":[297.8125,297.8125,426.5625,426.5625],\"xaxis\":\"x\",\"y\":[5.496784420098622,11.045109049826484,11.045109049826484,6.9158078353778025],\"yaxis\":\"y\",\"type\":\"scatter\"},{\"hoverinfo\":\"text\",\"marker\":{\"color\":\"rgb(61,153,112)\"},\"mode\":\"lines\",\"x\":[83.0078125,83.0078125,362.1875,362.1875],\"xaxis\":\"x\",\"y\":[9.799535816671225,15.105592278450679,15.105592278450679,11.045109049826484],\"yaxis\":\"y\",\"type\":\"scatter\"},{\"hoverinfo\":\"text\",\"marker\":{\"color\":\"rgb(61,153,112)\"},\"mode\":\"lines\",\"x\":[515.0,515.0,525.0,525.0],\"xaxis\":\"x\",\"y\":[0.0,0.6000000000000001,0.6000000000000001,0.0],\"yaxis\":\"y\",\"type\":\"scatter\"},{\"hoverinfo\":\"text\",\"marker\":{\"color\":\"rgb(61,153,112)\"},\"mode\":\"lines\",\"x\":[545.0,545.0,555.0,555.0],\"xaxis\":\"x\",\"y\":[0.0,2.692582403567252,2.692582403567252,0.0],\"yaxis\":\"y\",\"type\":\"scatter\"},{\"hoverinfo\":\"text\",\"marker\":{\"color\":\"rgb(61,153,112)\"},\"mode\":\"lines\",\"x\":[535.0,535.0,550.0,550.0],\"xaxis\":\"x\",\"y\":[0.0,3.7258377134097866,3.7258377134097866,2.692582403567252],\"yaxis\":\"y\",\"type\":\"scatter\"},{\"hoverinfo\":\"text\",\"marker\":{\"color\":\"rgb(61,153,112)\"},\"mode\":\"lines\",\"x\":[520.0,520.0,542.5,542.5],\"xaxis\":\"x\",\"y\":[0.6000000000000001,4.68298765035029,4.68298765035029,3.7258377134097866],\"yaxis\":\"y\",\"type\":\"scatter\"},{\"hoverinfo\":\"text\",\"marker\":{\"color\":\"rgb(61,153,112)\"},\"mode\":\"lines\",\"x\":[575.0,575.0,585.0,585.0],\"xaxis\":\"x\",\"y\":[0.0,2.4913650876577687,2.4913650876577687,0.0],\"yaxis\":\"y\",\"type\":\"scatter\"},{\"hoverinfo\":\"text\",\"marker\":{\"color\":\"rgb(61,153,112)\"},\"mode\":\"lines\",\"x\":[565.0,565.0,580.0,580.0],\"xaxis\":\"x\",\"y\":[0.0,2.8051678499987602,2.8051678499987602,2.4913650876577687],\"yaxis\":\"y\",\"type\":\"scatter\"},{\"hoverinfo\":\"text\",\"marker\":{\"color\":\"rgb(61,153,112)\"},\"mode\":\"lines\",\"x\":[595.0,595.0,605.0,605.0],\"xaxis\":\"x\",\"y\":[0.0,1.469693845669907,1.469693845669907,0.0],\"yaxis\":\"y\",\"type\":\"scatter\"},{\"hoverinfo\":\"text\",\"marker\":{\"color\":\"rgb(61,153,112)\"},\"mode\":\"lines\",\"x\":[615.0,615.0,625.0,625.0],\"xaxis\":\"x\",\"y\":[0.0,2.1545533179756773,2.1545533179756773,0.0],\"yaxis\":\"y\",\"type\":\"scatter\"},{\"hoverinfo\":\"text\",\"marker\":{\"color\":\"rgb(61,153,112)\"},\"mode\":\"lines\",\"x\":[600.0,600.0,620.0,620.0],\"xaxis\":\"x\",\"y\":[1.469693845669907,2.5146470925360482,2.5146470925360482,2.1545533179756773],\"yaxis\":\"y\",\"type\":\"scatter\"},{\"hoverinfo\":\"text\",\"marker\":{\"color\":\"rgb(61,153,112)\"},\"mode\":\"lines\",\"x\":[635.0,635.0,645.0,645.0],\"xaxis\":\"x\",\"y\":[0.0,1.0977249200050072,1.0977249200050072,0.0],\"yaxis\":\"y\",\"type\":\"scatter\"},{\"hoverinfo\":\"text\",\"marker\":{\"color\":\"rgb(61,153,112)\"},\"mode\":\"lines\",\"x\":[655.0,655.0,665.0,665.0],\"xaxis\":\"x\",\"y\":[0.0,1.8055747007531977,1.8055747007531977,0.0],\"yaxis\":\"y\",\"type\":\"scatter\"},{\"hoverinfo\":\"text\",\"marker\":{\"color\":\"rgb(61,153,112)\"},\"mode\":\"lines\",\"x\":[640.0,640.0,660.0,660.0],\"xaxis\":\"x\",\"y\":[1.0977249200050072,2.4915958741336843,2.4915958741336843,1.8055747007531977],\"yaxis\":\"y\",\"type\":\"scatter\"},{\"hoverinfo\":\"text\",\"marker\":{\"color\":\"rgb(61,153,112)\"},\"mode\":\"lines\",\"x\":[685.0,685.0,695.0,695.0],\"xaxis\":\"x\",\"y\":[0.0,0.8602325267042628,0.8602325267042628,0.0],\"yaxis\":\"y\",\"type\":\"scatter\"},{\"hoverinfo\":\"text\",\"marker\":{\"color\":\"rgb(61,153,112)\"},\"mode\":\"lines\",\"x\":[675.0,675.0,690.0,690.0],\"xaxis\":\"x\",\"y\":[0.0,1.5703078254490954,1.5703078254490954,0.8602325267042628],\"yaxis\":\"y\",\"type\":\"scatter\"},{\"hoverinfo\":\"text\",\"marker\":{\"color\":\"rgb(61,153,112)\"},\"mode\":\"lines\",\"x\":[705.0,705.0,715.0,715.0],\"xaxis\":\"x\",\"y\":[0.0,1.8055470085267789,1.8055470085267789,0.0],\"yaxis\":\"y\",\"type\":\"scatter\"},{\"hoverinfo\":\"text\",\"marker\":{\"color\":\"rgb(61,153,112)\"},\"mode\":\"lines\",\"x\":[682.5,682.5,710.0,710.0],\"xaxis\":\"x\",\"y\":[1.5703078254490954,3.816172602665311,3.816172602665311,1.8055470085267789],\"yaxis\":\"y\",\"type\":\"scatter\"},{\"hoverinfo\":\"text\",\"marker\":{\"color\":\"rgb(61,153,112)\"},\"mode\":\"lines\",\"x\":[650.0,650.0,696.25,696.25],\"xaxis\":\"x\",\"y\":[2.4915958741336843,4.30899176142169,4.30899176142169,3.816172602665311],\"yaxis\":\"y\",\"type\":\"scatter\"},{\"hoverinfo\":\"text\",\"marker\":{\"color\":\"rgb(61,153,112)\"},\"mode\":\"lines\",\"x\":[610.0,610.0,673.125,673.125],\"xaxis\":\"x\",\"y\":[2.5146470925360482,5.401178290250833,5.401178290250833,4.30899176142169],\"yaxis\":\"y\",\"type\":\"scatter\"},{\"hoverinfo\":\"text\",\"marker\":{\"color\":\"rgb(61,153,112)\"},\"mode\":\"lines\",\"x\":[572.5,572.5,641.5625,641.5625],\"xaxis\":\"x\",\"y\":[2.8051678499987602,7.13108995247265,7.13108995247265,5.401178290250833],\"yaxis\":\"y\",\"type\":\"scatter\"},{\"hoverinfo\":\"text\",\"marker\":{\"color\":\"rgb(61,153,112)\"},\"mode\":\"lines\",\"x\":[531.25,531.25,607.03125,607.03125],\"xaxis\":\"x\",\"y\":[4.68298765035029,12.468628485504079,12.468628485504079,7.13108995247265],\"yaxis\":\"y\",\"type\":\"scatter\"},{\"hoverinfo\":\"text\",\"marker\":{\"color\":\"rgb(61,153,112)\"},\"mode\":\"lines\",\"x\":[725.0,725.0,735.0,735.0],\"xaxis\":\"x\",\"y\":[0.0,1.1329607230614835,1.1329607230614835,0.0],\"yaxis\":\"y\",\"type\":\"scatter\"},{\"hoverinfo\":\"text\",\"marker\":{\"color\":\"rgb(61,153,112)\"},\"mode\":\"lines\",\"x\":[745.0,745.0,755.0,755.0],\"xaxis\":\"x\",\"y\":[0.0,1.7877639665235454,1.7877639665235454,0.0],\"yaxis\":\"y\",\"type\":\"scatter\"},{\"hoverinfo\":\"text\",\"marker\":{\"color\":\"rgb(61,153,112)\"},\"mode\":\"lines\",\"x\":[730.0,730.0,750.0,750.0],\"xaxis\":\"x\",\"y\":[1.1329607230614835,2.5644200124004644,2.5644200124004644,1.7877639665235454],\"yaxis\":\"y\",\"type\":\"scatter\"},{\"hoverinfo\":\"text\",\"marker\":{\"color\":\"rgb(61,153,112)\"},\"mode\":\"lines\",\"x\":[765.0,765.0,775.0,775.0],\"xaxis\":\"x\",\"y\":[0.0,2.0639767440550294,2.0639767440550294,0.0],\"yaxis\":\"y\",\"type\":\"scatter\"},{\"hoverinfo\":\"text\",\"marker\":{\"color\":\"rgb(61,153,112)\"},\"mode\":\"lines\",\"x\":[795.0,795.0,805.0,805.0],\"xaxis\":\"x\",\"y\":[0.0,1.4142135623730951,1.4142135623730951,0.0],\"yaxis\":\"y\",\"type\":\"scatter\"},{\"hoverinfo\":\"text\",\"marker\":{\"color\":\"rgb(61,153,112)\"},\"mode\":\"lines\",\"x\":[785.0,785.0,800.0,800.0],\"xaxis\":\"x\",\"y\":[0.0,2.7510967509946527,2.7510967509946527,1.4142135623730951],\"yaxis\":\"y\",\"type\":\"scatter\"},{\"hoverinfo\":\"text\",\"marker\":{\"color\":\"rgb(61,153,112)\"},\"mode\":\"lines\",\"x\":[770.0,770.0,792.5,792.5],\"xaxis\":\"x\",\"y\":[2.0639767440550294,4.975229307948195,4.975229307948195,2.7510967509946527],\"yaxis\":\"y\",\"type\":\"scatter\"},{\"hoverinfo\":\"text\",\"marker\":{\"color\":\"rgb(61,153,112)\"},\"mode\":\"lines\",\"x\":[740.0,740.0,781.25,781.25],\"xaxis\":\"x\",\"y\":[2.5644200124004644,5.761406946224158,5.761406946224158,4.975229307948195],\"yaxis\":\"y\",\"type\":\"scatter\"},{\"hoverinfo\":\"text\",\"marker\":{\"color\":\"rgb(61,153,112)\"},\"mode\":\"lines\",\"x\":[815.0,815.0,825.0,825.0],\"xaxis\":\"x\",\"y\":[0.0,1.25,1.25,0.0],\"yaxis\":\"y\",\"type\":\"scatter\"},{\"hoverinfo\":\"text\",\"marker\":{\"color\":\"rgb(61,153,112)\"},\"mode\":\"lines\",\"x\":[835.0,835.0,845.0,845.0],\"xaxis\":\"x\",\"y\":[0.0,1.2539936203984452,1.2539936203984452,0.0],\"yaxis\":\"y\",\"type\":\"scatter\"},{\"hoverinfo\":\"text\",\"marker\":{\"color\":\"rgb(61,153,112)\"},\"mode\":\"lines\",\"x\":[820.0,820.0,840.0,840.0],\"xaxis\":\"x\",\"y\":[1.25,2.5583197610932062,2.5583197610932062,1.2539936203984452],\"yaxis\":\"y\",\"type\":\"scatter\"},{\"hoverinfo\":\"text\",\"marker\":{\"color\":\"rgb(61,153,112)\"},\"mode\":\"lines\",\"x\":[855.0,855.0,865.0,865.0],\"xaxis\":\"x\",\"y\":[0.0,2.25,2.25,0.0],\"yaxis\":\"y\",\"type\":\"scatter\"},{\"hoverinfo\":\"text\",\"marker\":{\"color\":\"rgb(61,153,112)\"},\"mode\":\"lines\",\"x\":[885.0,885.0,895.0,895.0],\"xaxis\":\"x\",\"y\":[0.0,1.05,1.05,0.0],\"yaxis\":\"y\",\"type\":\"scatter\"},{\"hoverinfo\":\"text\",\"marker\":{\"color\":\"rgb(61,153,112)\"},\"mode\":\"lines\",\"x\":[915.0,915.0,925.0,925.0],\"xaxis\":\"x\",\"y\":[0.0,1.035615758860399,1.035615758860399,0.0],\"yaxis\":\"y\",\"type\":\"scatter\"},{\"hoverinfo\":\"text\",\"marker\":{\"color\":\"rgb(61,153,112)\"},\"mode\":\"lines\",\"x\":[905.0,905.0,920.0,920.0],\"xaxis\":\"x\",\"y\":[0.0,1.3726495061255317,1.3726495061255317,1.035615758860399],\"yaxis\":\"y\",\"type\":\"scatter\"},{\"hoverinfo\":\"text\",\"marker\":{\"color\":\"rgb(61,153,112)\"},\"mode\":\"lines\",\"x\":[890.0,890.0,912.5,912.5],\"xaxis\":\"x\",\"y\":[1.05,2.3423990550999916,2.3423990550999916,1.3726495061255317],\"yaxis\":\"y\",\"type\":\"scatter\"},{\"hoverinfo\":\"text\",\"marker\":{\"color\":\"rgb(61,153,112)\"},\"mode\":\"lines\",\"x\":[875.0,875.0,901.25,901.25],\"xaxis\":\"x\",\"y\":[0.0,3.136452348328176,3.136452348328176,2.3423990550999916],\"yaxis\":\"y\",\"type\":\"scatter\"},{\"hoverinfo\":\"text\",\"marker\":{\"color\":\"rgb(61,153,112)\"},\"mode\":\"lines\",\"x\":[860.0,860.0,888.125,888.125],\"xaxis\":\"x\",\"y\":[2.25,4.8747042645340715,4.8747042645340715,3.136452348328176],\"yaxis\":\"y\",\"type\":\"scatter\"},{\"hoverinfo\":\"text\",\"marker\":{\"color\":\"rgb(61,153,112)\"},\"mode\":\"lines\",\"x\":[830.0,830.0,874.0625,874.0625],\"xaxis\":\"x\",\"y\":[2.5583197610932062,8.839815703207089,8.839815703207089,4.8747042645340715],\"yaxis\":\"y\",\"type\":\"scatter\"},{\"hoverinfo\":\"text\",\"marker\":{\"color\":\"rgb(61,153,112)\"},\"mode\":\"lines\",\"x\":[760.625,760.625,852.03125,852.03125],\"xaxis\":\"x\",\"y\":[5.761406946224158,18.422866678849594,18.422866678849594,8.839815703207089],\"yaxis\":\"y\",\"type\":\"scatter\"},{\"hoverinfo\":\"text\",\"marker\":{\"color\":\"rgb(61,153,112)\"},\"mode\":\"lines\",\"x\":[569.140625,569.140625,806.328125,806.328125],\"xaxis\":\"x\",\"y\":[12.468628485504079,36.20410039918525,36.20410039918525,18.422866678849594],\"yaxis\":\"y\",\"type\":\"scatter\"},{\"hoverinfo\":\"text\",\"marker\":{\"color\":\"rgb(61,153,112)\"},\"mode\":\"lines\",\"x\":[222.59765625,222.59765625,687.734375,687.734375],\"xaxis\":\"x\",\"y\":[15.105592278450679,43.62476541437344,43.62476541437344,36.20410039918525],\"yaxis\":\"y\",\"type\":\"scatter\"},{\"hoverinfo\":\"text\",\"marker\":{\"color\":\"rgb(255,65,54)\"},\"mode\":\"lines\",\"x\":[945.0,945.0,955.0,955.0],\"xaxis\":\"x\",\"y\":[0.0,0.30479501308256346,0.30479501308256346,0.0],\"yaxis\":\"y\",\"type\":\"scatter\"},{\"hoverinfo\":\"text\",\"marker\":{\"color\":\"rgb(255,65,54)\"},\"mode\":\"lines\",\"x\":[935.0,935.0,950.0,950.0],\"xaxis\":\"x\",\"y\":[0.0,0.3296968304366908,0.3296968304366908,0.30479501308256346],\"yaxis\":\"y\",\"type\":\"scatter\"},{\"hoverinfo\":\"text\",\"marker\":{\"color\":\"rgb(255,65,54)\"},\"mode\":\"lines\",\"x\":[965.0,965.0,975.0,975.0],\"xaxis\":\"x\",\"y\":[0.0,0.5080354318352214,0.5080354318352214,0.0],\"yaxis\":\"y\",\"type\":\"scatter\"},{\"hoverinfo\":\"text\",\"marker\":{\"color\":\"rgb(255,65,54)\"},\"mode\":\"lines\",\"x\":[985.0,985.0,995.0,995.0],\"xaxis\":\"x\",\"y\":[0.0,0.9044888059008801,0.9044888059008801,0.0],\"yaxis\":\"y\",\"type\":\"scatter\"},{\"hoverinfo\":\"text\",\"marker\":{\"color\":\"rgb(255,65,54)\"},\"mode\":\"lines\",\"x\":[970.0,970.0,990.0,990.0],\"xaxis\":\"x\",\"y\":[0.5080354318352214,1.5182226450688974,1.5182226450688974,0.9044888059008801],\"yaxis\":\"y\",\"type\":\"scatter\"},{\"hoverinfo\":\"text\",\"marker\":{\"color\":\"rgb(255,65,54)\"},\"mode\":\"lines\",\"x\":[942.5,942.5,980.0,980.0],\"xaxis\":\"x\",\"y\":[0.3296968304366908,2.321218891629383,2.321218891629383,1.5182226450688974],\"yaxis\":\"y\",\"type\":\"scatter\"},{\"hoverinfo\":\"text\",\"marker\":{\"color\":\"rgb(255,65,54)\"},\"mode\":\"lines\",\"x\":[1005.0,1005.0,1015.0,1015.0],\"xaxis\":\"x\",\"y\":[0.0,1.307440247200613,1.307440247200613,0.0],\"yaxis\":\"y\",\"type\":\"scatter\"},{\"hoverinfo\":\"text\",\"marker\":{\"color\":\"rgb(255,65,54)\"},\"mode\":\"lines\",\"x\":[1045.0,1045.0,1055.0,1055.0],\"xaxis\":\"x\",\"y\":[0.0,0.29,0.29,0.0],\"yaxis\":\"y\",\"type\":\"scatter\"},{\"hoverinfo\":\"text\",\"marker\":{\"color\":\"rgb(255,65,54)\"},\"mode\":\"lines\",\"x\":[1035.0,1035.0,1050.0,1050.0],\"xaxis\":\"x\",\"y\":[0.0,0.7765092830524736,0.7765092830524736,0.29],\"yaxis\":\"y\",\"type\":\"scatter\"},{\"hoverinfo\":\"text\",\"marker\":{\"color\":\"rgb(255,65,54)\"},\"mode\":\"lines\",\"x\":[1025.0,1025.0,1042.5,1042.5],\"xaxis\":\"x\",\"y\":[0.0,1.509000773138746,1.509000773138746,0.7765092830524736],\"yaxis\":\"y\",\"type\":\"scatter\"},{\"hoverinfo\":\"text\",\"marker\":{\"color\":\"rgb(255,65,54)\"},\"mode\":\"lines\",\"x\":[1065.0,1065.0,1075.0,1075.0],\"xaxis\":\"x\",\"y\":[0.0,0.41000000000000014,0.41000000000000014,0.0],\"yaxis\":\"y\",\"type\":\"scatter\"},{\"hoverinfo\":\"text\",\"marker\":{\"color\":\"rgb(255,65,54)\"},\"mode\":\"lines\",\"x\":[1085.0,1085.0,1095.0,1095.0],\"xaxis\":\"x\",\"y\":[0.0,0.7553806987208503,0.7553806987208503,0.0],\"yaxis\":\"y\",\"type\":\"scatter\"},{\"hoverinfo\":\"text\",\"marker\":{\"color\":\"rgb(255,65,54)\"},\"mode\":\"lines\",\"x\":[1070.0,1070.0,1090.0,1090.0],\"xaxis\":\"x\",\"y\":[0.41000000000000014,1.9264604849308486,1.9264604849308486,0.7553806987208503],\"yaxis\":\"y\",\"type\":\"scatter\"},{\"hoverinfo\":\"text\",\"marker\":{\"color\":\"rgb(255,65,54)\"},\"mode\":\"lines\",\"x\":[1033.75,1033.75,1080.0,1080.0],\"xaxis\":\"x\",\"y\":[1.509000773138746,2.6946706663338285,2.6946706663338285,1.9264604849308486],\"yaxis\":\"y\",\"type\":\"scatter\"},{\"hoverinfo\":\"text\",\"marker\":{\"color\":\"rgb(255,65,54)\"},\"mode\":\"lines\",\"x\":[1010.0,1010.0,1056.875,1056.875],\"xaxis\":\"x\",\"y\":[1.307440247200613,2.8927443716996493,2.8927443716996493,2.6946706663338285],\"yaxis\":\"y\",\"type\":\"scatter\"},{\"hoverinfo\":\"text\",\"marker\":{\"color\":\"rgb(255,65,54)\"},\"mode\":\"lines\",\"x\":[961.25,961.25,1033.4375,1033.4375],\"xaxis\":\"x\",\"y\":[2.321218891629383,3.5525532539074973,3.5525532539074973,2.8927443716996493],\"yaxis\":\"y\",\"type\":\"scatter\"},{\"hoverinfo\":\"text\",\"marker\":{\"color\":\"rgb(255,65,54)\"},\"mode\":\"lines\",\"x\":[1105.0,1105.0,1115.0,1115.0],\"xaxis\":\"x\",\"y\":[0.0,0.4099999999999999,0.4099999999999999,0.0],\"yaxis\":\"y\",\"type\":\"scatter\"},{\"hoverinfo\":\"text\",\"marker\":{\"color\":\"rgb(255,65,54)\"},\"mode\":\"lines\",\"x\":[1135.0,1135.0,1145.0,1145.0],\"xaxis\":\"x\",\"y\":[0.0,0.31320919526731655,0.31320919526731655,0.0],\"yaxis\":\"y\",\"type\":\"scatter\"},{\"hoverinfo\":\"text\",\"marker\":{\"color\":\"rgb(255,65,54)\"},\"mode\":\"lines\",\"x\":[1125.0,1125.0,1140.0,1140.0],\"xaxis\":\"x\",\"y\":[0.0,1.293329037793554,1.293329037793554,0.31320919526731655],\"yaxis\":\"y\",\"type\":\"scatter\"},{\"hoverinfo\":\"text\",\"marker\":{\"color\":\"rgb(255,65,54)\"},\"mode\":\"lines\",\"x\":[1110.0,1110.0,1132.5,1132.5],\"xaxis\":\"x\",\"y\":[0.4099999999999999,1.658475203311765,1.658475203311765,1.293329037793554],\"yaxis\":\"y\",\"type\":\"scatter\"},{\"hoverinfo\":\"text\",\"marker\":{\"color\":\"rgb(255,65,54)\"},\"mode\":\"lines\",\"x\":[1155.0,1155.0,1165.0,1165.0],\"xaxis\":\"x\",\"y\":[0.0,0.49999999999999994,0.49999999999999994,0.0],\"yaxis\":\"y\",\"type\":\"scatter\"},{\"hoverinfo\":\"text\",\"marker\":{\"color\":\"rgb(255,65,54)\"},\"mode\":\"lines\",\"x\":[1175.0,1175.0,1185.0,1185.0],\"xaxis\":\"x\",\"y\":[0.0,1.004987562112089,1.004987562112089,0.0],\"yaxis\":\"y\",\"type\":\"scatter\"},{\"hoverinfo\":\"text\",\"marker\":{\"color\":\"rgb(255,65,54)\"},\"mode\":\"lines\",\"x\":[1160.0,1160.0,1180.0,1180.0],\"xaxis\":\"x\",\"y\":[0.49999999999999994,1.6217274740226852,1.6217274740226852,1.004987562112089],\"yaxis\":\"y\",\"type\":\"scatter\"},{\"hoverinfo\":\"text\",\"marker\":{\"color\":\"rgb(255,65,54)\"},\"mode\":\"lines\",\"x\":[1215.0,1215.0,1225.0,1225.0],\"xaxis\":\"x\",\"y\":[0.0,1.0090094152187083,1.0090094152187083,0.0],\"yaxis\":\"y\",\"type\":\"scatter\"},{\"hoverinfo\":\"text\",\"marker\":{\"color\":\"rgb(255,65,54)\"},\"mode\":\"lines\",\"x\":[1205.0,1205.0,1220.0,1220.0],\"xaxis\":\"x\",\"y\":[0.0,1.168774286735182,1.168774286735182,1.0090094152187083],\"yaxis\":\"y\",\"type\":\"scatter\"},{\"hoverinfo\":\"text\",\"marker\":{\"color\":\"rgb(255,65,54)\"},\"mode\":\"lines\",\"x\":[1195.0,1195.0,1212.5,1212.5],\"xaxis\":\"x\",\"y\":[0.0,2.506155754670221,2.506155754670221,1.168774286735182],\"yaxis\":\"y\",\"type\":\"scatter\"},{\"hoverinfo\":\"text\",\"marker\":{\"color\":\"rgb(255,65,54)\"},\"mode\":\"lines\",\"x\":[1170.0,1170.0,1203.75,1203.75],\"xaxis\":\"x\",\"y\":[1.6217274740226852,3.0832166644593757,3.0832166644593757,2.506155754670221],\"yaxis\":\"y\",\"type\":\"scatter\"},{\"hoverinfo\":\"text\",\"marker\":{\"color\":\"rgb(255,65,54)\"},\"mode\":\"lines\",\"x\":[1121.25,1121.25,1186.875,1186.875],\"xaxis\":\"x\",\"y\":[1.658475203311765,5.072893310376391,5.072893310376391,3.0832166644593757],\"yaxis\":\"y\",\"type\":\"scatter\"},{\"hoverinfo\":\"text\",\"marker\":{\"color\":\"rgb(255,65,54)\"},\"mode\":\"lines\",\"x\":[997.34375,997.34375,1154.0625,1154.0625],\"xaxis\":\"x\",\"y\":[3.5525532539074973,11.04111075466742,11.04111075466742,5.072893310376391],\"yaxis\":\"y\",\"type\":\"scatter\"},{\"hoverinfo\":\"text\",\"marker\":{\"color\":\"rgb(255,65,54)\"},\"mode\":\"lines\",\"x\":[1235.0,1235.0,1245.0,1245.0],\"xaxis\":\"x\",\"y\":[0.0,1.7895530168173281,1.7895530168173281,0.0],\"yaxis\":\"y\",\"type\":\"scatter\"},{\"hoverinfo\":\"text\",\"marker\":{\"color\":\"rgb(255,65,54)\"},\"mode\":\"lines\",\"x\":[1255.0,1255.0,1265.0,1265.0],\"xaxis\":\"x\",\"y\":[0.0,3.186298793270964,3.186298793270964,0.0],\"yaxis\":\"y\",\"type\":\"scatter\"},{\"hoverinfo\":\"text\",\"marker\":{\"color\":\"rgb(255,65,54)\"},\"mode\":\"lines\",\"x\":[1240.0,1240.0,1260.0,1260.0],\"xaxis\":\"x\",\"y\":[1.7895530168173281,5.935486500700679,5.935486500700679,3.186298793270964],\"yaxis\":\"y\",\"type\":\"scatter\"},{\"hoverinfo\":\"text\",\"marker\":{\"color\":\"rgb(255,65,54)\"},\"mode\":\"lines\",\"x\":[1275.0,1275.0,1285.0,1285.0],\"xaxis\":\"x\",\"y\":[0.0,1.2714558584551805,1.2714558584551805,0.0],\"yaxis\":\"y\",\"type\":\"scatter\"},{\"hoverinfo\":\"text\",\"marker\":{\"color\":\"rgb(255,65,54)\"},\"mode\":\"lines\",\"x\":[1295.0,1295.0,1305.0,1305.0],\"xaxis\":\"x\",\"y\":[0.0,1.566556733731658,1.566556733731658,0.0],\"yaxis\":\"y\",\"type\":\"scatter\"},{\"hoverinfo\":\"text\",\"marker\":{\"color\":\"rgb(255,65,54)\"},\"mode\":\"lines\",\"x\":[1315.0,1315.0,1325.0,1325.0],\"xaxis\":\"x\",\"y\":[0.0,1.5976545308670458,1.5976545308670458,0.0],\"yaxis\":\"y\",\"type\":\"scatter\"},{\"hoverinfo\":\"text\",\"marker\":{\"color\":\"rgb(255,65,54)\"},\"mode\":\"lines\",\"x\":[1300.0,1300.0,1320.0,1320.0],\"xaxis\":\"x\",\"y\":[1.566556733731658,2.6504150618346554,2.6504150618346554,1.5976545308670458],\"yaxis\":\"y\",\"type\":\"scatter\"},{\"hoverinfo\":\"text\",\"marker\":{\"color\":\"rgb(255,65,54)\"},\"mode\":\"lines\",\"x\":[1280.0,1280.0,1310.0,1310.0],\"xaxis\":\"x\",\"y\":[1.2714558584551805,3.875336544525305,3.875336544525305,2.6504150618346554],\"yaxis\":\"y\",\"type\":\"scatter\"},{\"hoverinfo\":\"text\",\"marker\":{\"color\":\"rgb(255,65,54)\"},\"mode\":\"lines\",\"x\":[1335.0,1335.0,1345.0,1345.0],\"xaxis\":\"x\",\"y\":[0.0,1.8027756377319946,1.8027756377319946,0.0],\"yaxis\":\"y\",\"type\":\"scatter\"},{\"hoverinfo\":\"text\",\"marker\":{\"color\":\"rgb(255,65,54)\"},\"mode\":\"lines\",\"x\":[1365.0,1365.0,1375.0,1375.0],\"xaxis\":\"x\",\"y\":[0.0,0.5385164807134504,0.5385164807134504,0.0],\"yaxis\":\"y\",\"type\":\"scatter\"},{\"hoverinfo\":\"text\",\"marker\":{\"color\":\"rgb(255,65,54)\"},\"mode\":\"lines\",\"x\":[1355.0,1355.0,1370.0,1370.0],\"xaxis\":\"x\",\"y\":[0.0,0.9937135737558719,0.9937135737558719,0.5385164807134504],\"yaxis\":\"y\",\"type\":\"scatter\"},{\"hoverinfo\":\"text\",\"marker\":{\"color\":\"rgb(255,65,54)\"},\"mode\":\"lines\",\"x\":[1395.0,1395.0,1405.0,1405.0],\"xaxis\":\"x\",\"y\":[0.0,1.4142135623730951,1.4142135623730951,0.0],\"yaxis\":\"y\",\"type\":\"scatter\"},{\"hoverinfo\":\"text\",\"marker\":{\"color\":\"rgb(255,65,54)\"},\"mode\":\"lines\",\"x\":[1385.0,1385.0,1400.0,1400.0],\"xaxis\":\"x\",\"y\":[0.0,1.4189197769195172,1.4189197769195172,1.4142135623730951],\"yaxis\":\"y\",\"type\":\"scatter\"},{\"hoverinfo\":\"text\",\"marker\":{\"color\":\"rgb(255,65,54)\"},\"mode\":\"lines\",\"x\":[1362.5,1362.5,1392.5,1392.5],\"xaxis\":\"x\",\"y\":[0.9937135737558719,2.50482201629843,2.50482201629843,1.4189197769195172],\"yaxis\":\"y\",\"type\":\"scatter\"},{\"hoverinfo\":\"text\",\"marker\":{\"color\":\"rgb(255,65,54)\"},\"mode\":\"lines\",\"x\":[1340.0,1340.0,1377.5,1377.5],\"xaxis\":\"x\",\"y\":[1.8027756377319946,3.834444766412299,3.834444766412299,2.50482201629843],\"yaxis\":\"y\",\"type\":\"scatter\"},{\"hoverinfo\":\"text\",\"marker\":{\"color\":\"rgb(255,65,54)\"},\"mode\":\"lines\",\"x\":[1425.0,1425.0,1435.0,1435.0],\"xaxis\":\"x\",\"y\":[0.0,0.41,0.41,0.0],\"yaxis\":\"y\",\"type\":\"scatter\"},{\"hoverinfo\":\"text\",\"marker\":{\"color\":\"rgb(255,65,54)\"},\"mode\":\"lines\",\"x\":[1415.0,1415.0,1430.0,1430.0],\"xaxis\":\"x\",\"y\":[0.0,0.7090133990271269,0.7090133990271269,0.41],\"yaxis\":\"y\",\"type\":\"scatter\"},{\"hoverinfo\":\"text\",\"marker\":{\"color\":\"rgb(255,65,54)\"},\"mode\":\"lines\",\"x\":[1445.0,1445.0,1455.0,1455.0],\"xaxis\":\"x\",\"y\":[0.0,0.4007492981902776,0.4007492981902776,0.0],\"yaxis\":\"y\",\"type\":\"scatter\"},{\"hoverinfo\":\"text\",\"marker\":{\"color\":\"rgb(255,65,54)\"},\"mode\":\"lines\",\"x\":[1465.0,1465.0,1475.0,1475.0],\"xaxis\":\"x\",\"y\":[0.0,0.59,0.59,0.0],\"yaxis\":\"y\",\"type\":\"scatter\"},{\"hoverinfo\":\"text\",\"marker\":{\"color\":\"rgb(255,65,54)\"},\"mode\":\"lines\",\"x\":[1450.0,1450.0,1470.0,1470.0],\"xaxis\":\"x\",\"y\":[0.4007492981902776,1.5103807466993218,1.5103807466993218,0.59],\"yaxis\":\"y\",\"type\":\"scatter\"},{\"hoverinfo\":\"text\",\"marker\":{\"color\":\"rgb(255,65,54)\"},\"mode\":\"lines\",\"x\":[1422.5,1422.5,1460.0,1460.0],\"xaxis\":\"x\",\"y\":[0.7090133990271269,2.2245111822600485,2.2245111822600485,1.5103807466993218],\"yaxis\":\"y\",\"type\":\"scatter\"},{\"hoverinfo\":\"text\",\"marker\":{\"color\":\"rgb(255,65,54)\"},\"mode\":\"lines\",\"x\":[1495.0,1495.0,1505.0,1505.0],\"xaxis\":\"x\",\"y\":[0.0,1.25,1.25,0.0],\"yaxis\":\"y\",\"type\":\"scatter\"},{\"hoverinfo\":\"text\",\"marker\":{\"color\":\"rgb(255,65,54)\"},\"mode\":\"lines\",\"x\":[1485.0,1485.0,1500.0,1500.0],\"xaxis\":\"x\",\"y\":[0.0,2.3970885117853564,2.3970885117853564,1.25],\"yaxis\":\"y\",\"type\":\"scatter\"},{\"hoverinfo\":\"text\",\"marker\":{\"color\":\"rgb(255,65,54)\"},\"mode\":\"lines\",\"x\":[1441.25,1441.25,1492.5,1492.5],\"xaxis\":\"x\",\"y\":[2.2245111822600485,4.126098237641302,4.126098237641302,2.3970885117853564],\"yaxis\":\"y\",\"type\":\"scatter\"},{\"hoverinfo\":\"text\",\"marker\":{\"color\":\"rgb(255,65,54)\"},\"mode\":\"lines\",\"x\":[1358.75,1358.75,1466.875,1466.875],\"xaxis\":\"x\",\"y\":[3.834444766412299,5.5095999048126085,5.5095999048126085,4.126098237641302],\"yaxis\":\"y\",\"type\":\"scatter\"},{\"hoverinfo\":\"text\",\"marker\":{\"color\":\"rgb(255,65,54)\"},\"mode\":\"lines\",\"x\":[1295.0,1295.0,1412.8125,1412.8125],\"xaxis\":\"x\",\"y\":[3.875336544525305,7.390914279633398,7.390914279633398,5.5095999048126085],\"yaxis\":\"y\",\"type\":\"scatter\"},{\"hoverinfo\":\"text\",\"marker\":{\"color\":\"rgb(255,65,54)\"},\"mode\":\"lines\",\"x\":[1250.0,1250.0,1353.90625,1353.90625],\"xaxis\":\"x\",\"y\":[5.935486500700679,14.71760870360335,14.71760870360335,7.390914279633398],\"yaxis\":\"y\",\"type\":\"scatter\"},{\"hoverinfo\":\"text\",\"marker\":{\"color\":\"rgb(255,65,54)\"},\"mode\":\"lines\",\"x\":[1075.703125,1075.703125,1301.953125,1301.953125],\"xaxis\":\"x\",\"y\":[11.04111075466742,19.067028352552587,19.067028352552587,14.71760870360335],\"yaxis\":\"y\",\"type\":\"scatter\"},{\"hoverinfo\":\"text\",\"marker\":{\"color\":\"rgb(255,65,54)\"},\"mode\":\"lines\",\"x\":[1515.0,1515.0,1525.0,1525.0],\"xaxis\":\"x\",\"y\":[0.0,0.29,0.29,0.0],\"yaxis\":\"y\",\"type\":\"scatter\"},{\"hoverinfo\":\"text\",\"marker\":{\"color\":\"rgb(255,65,54)\"},\"mode\":\"lines\",\"x\":[1545.0,1545.0,1555.0,1555.0],\"xaxis\":\"x\",\"y\":[0.0,1.1308846094982459,1.1308846094982459,0.0],\"yaxis\":\"y\",\"type\":\"scatter\"},{\"hoverinfo\":\"text\",\"marker\":{\"color\":\"rgb(255,65,54)\"},\"mode\":\"lines\",\"x\":[1535.0,1535.0,1550.0,1550.0],\"xaxis\":\"x\",\"y\":[0.0,1.503207681371185,1.503207681371185,1.1308846094982459],\"yaxis\":\"y\",\"type\":\"scatter\"},{\"hoverinfo\":\"text\",\"marker\":{\"color\":\"rgb(255,65,54)\"},\"mode\":\"lines\",\"x\":[1520.0,1520.0,1542.5,1542.5],\"xaxis\":\"x\",\"y\":[0.29,1.8958287545732253,1.8958287545732253,1.503207681371185],\"yaxis\":\"y\",\"type\":\"scatter\"},{\"hoverinfo\":\"text\",\"marker\":{\"color\":\"rgb(255,65,54)\"},\"mode\":\"lines\",\"x\":[1585.0,1585.0,1595.0,1595.0],\"xaxis\":\"x\",\"y\":[0.0,1.0307764064044151,1.0307764064044151,0.0],\"yaxis\":\"y\",\"type\":\"scatter\"},{\"hoverinfo\":\"text\",\"marker\":{\"color\":\"rgb(255,65,54)\"},\"mode\":\"lines\",\"x\":[1575.0,1575.0,1590.0,1590.0],\"xaxis\":\"x\",\"y\":[0.0,1.4969413259487938,1.4969413259487938,1.0307764064044151],\"yaxis\":\"y\",\"type\":\"scatter\"},{\"hoverinfo\":\"text\",\"marker\":{\"color\":\"rgb(255,65,54)\"},\"mode\":\"lines\",\"x\":[1565.0,1565.0,1582.5,1582.5],\"xaxis\":\"x\",\"y\":[0.0,3.0810414905785777,3.0810414905785777,1.4969413259487938],\"yaxis\":\"y\",\"type\":\"scatter\"},{\"hoverinfo\":\"text\",\"marker\":{\"color\":\"rgb(255,65,54)\"},\"mode\":\"lines\",\"x\":[1531.25,1531.25,1573.75,1573.75],\"xaxis\":\"x\",\"y\":[1.8958287545732253,3.7351223392131194,3.7351223392131194,3.0810414905785777],\"yaxis\":\"y\",\"type\":\"scatter\"},{\"hoverinfo\":\"text\",\"marker\":{\"color\":\"rgb(255,65,54)\"},\"mode\":\"lines\",\"x\":[1625.0,1625.0,1635.0,1635.0],\"xaxis\":\"x\",\"y\":[0.0,1.05,1.05,0.0],\"yaxis\":\"y\",\"type\":\"scatter\"},{\"hoverinfo\":\"text\",\"marker\":{\"color\":\"rgb(255,65,54)\"},\"mode\":\"lines\",\"x\":[1615.0,1615.0,1630.0,1630.0],\"xaxis\":\"x\",\"y\":[0.0,1.4835205874315776,1.4835205874315776,1.05],\"yaxis\":\"y\",\"type\":\"scatter\"},{\"hoverinfo\":\"text\",\"marker\":{\"color\":\"rgb(255,65,54)\"},\"mode\":\"lines\",\"x\":[1605.0,1605.0,1622.5,1622.5],\"xaxis\":\"x\",\"y\":[0.0,1.6035169680008587,1.6035169680008587,1.4835205874315776],\"yaxis\":\"y\",\"type\":\"scatter\"},{\"hoverinfo\":\"text\",\"marker\":{\"color\":\"rgb(255,65,54)\"},\"mode\":\"lines\",\"x\":[1655.0,1655.0,1665.0,1665.0],\"xaxis\":\"x\",\"y\":[0.0,2.622765715804597,2.622765715804597,0.0],\"yaxis\":\"y\",\"type\":\"scatter\"},{\"hoverinfo\":\"text\",\"marker\":{\"color\":\"rgb(255,65,54)\"},\"mode\":\"lines\",\"x\":[1645.0,1645.0,1660.0,1660.0],\"xaxis\":\"x\",\"y\":[0.0,3.1117465620880282,3.1117465620880282,2.622765715804597],\"yaxis\":\"y\",\"type\":\"scatter\"},{\"hoverinfo\":\"text\",\"marker\":{\"color\":\"rgb(255,65,54)\"},\"mode\":\"lines\",\"x\":[1613.75,1613.75,1652.5,1652.5],\"xaxis\":\"x\",\"y\":[1.6035169680008587,5.654756952378784,5.654756952378784,3.1117465620880282],\"yaxis\":\"y\",\"type\":\"scatter\"},{\"hoverinfo\":\"text\",\"marker\":{\"color\":\"rgb(255,65,54)\"},\"mode\":\"lines\",\"x\":[1552.5,1552.5,1633.125,1633.125],\"xaxis\":\"x\",\"y\":[3.7351223392131194,6.4808568688074155,6.4808568688074155,5.654756952378784],\"yaxis\":\"y\",\"type\":\"scatter\"},{\"hoverinfo\":\"text\",\"marker\":{\"color\":\"rgb(255,65,54)\"},\"mode\":\"lines\",\"x\":[1685.0,1685.0,1695.0,1695.0],\"xaxis\":\"x\",\"y\":[0.0,1.2644761761298628,1.2644761761298628,0.0],\"yaxis\":\"y\",\"type\":\"scatter\"},{\"hoverinfo\":\"text\",\"marker\":{\"color\":\"rgb(255,65,54)\"},\"mode\":\"lines\",\"x\":[1675.0,1675.0,1690.0,1690.0],\"xaxis\":\"x\",\"y\":[0.0,2.0735557222638925,2.0735557222638925,1.2644761761298628],\"yaxis\":\"y\",\"type\":\"scatter\"},{\"hoverinfo\":\"text\",\"marker\":{\"color\":\"rgb(255,65,54)\"},\"mode\":\"lines\",\"x\":[1715.0,1715.0,1725.0,1725.0],\"xaxis\":\"x\",\"y\":[0.0,0.9646761114488117,0.9646761114488117,0.0],\"yaxis\":\"y\",\"type\":\"scatter\"},{\"hoverinfo\":\"text\",\"marker\":{\"color\":\"rgb(255,65,54)\"},\"mode\":\"lines\",\"x\":[1745.0,1745.0,1755.0,1755.0],\"xaxis\":\"x\",\"y\":[0.0,1.118033988749895,1.118033988749895,0.0],\"yaxis\":\"y\",\"type\":\"scatter\"},{\"hoverinfo\":\"text\",\"marker\":{\"color\":\"rgb(255,65,54)\"},\"mode\":\"lines\",\"x\":[1735.0,1735.0,1750.0,1750.0],\"xaxis\":\"x\",\"y\":[0.0,1.3279056191361391,1.3279056191361391,1.118033988749895],\"yaxis\":\"y\",\"type\":\"scatter\"},{\"hoverinfo\":\"text\",\"marker\":{\"color\":\"rgb(255,65,54)\"},\"mode\":\"lines\",\"x\":[1720.0,1720.0,1742.5,1742.5],\"xaxis\":\"x\",\"y\":[0.9646761114488117,1.7219252790602346,1.7219252790602346,1.3279056191361391],\"yaxis\":\"y\",\"type\":\"scatter\"},{\"hoverinfo\":\"text\",\"marker\":{\"color\":\"rgb(255,65,54)\"},\"mode\":\"lines\",\"x\":[1705.0,1705.0,1731.25,1731.25],\"xaxis\":\"x\",\"y\":[0.0,2.7313012771693033,2.7313012771693033,1.7219252790602346],\"yaxis\":\"y\",\"type\":\"scatter\"},{\"hoverinfo\":\"text\",\"marker\":{\"color\":\"rgb(255,65,54)\"},\"mode\":\"lines\",\"x\":[1682.5,1682.5,1718.125,1718.125],\"xaxis\":\"x\",\"y\":[2.0735557222638925,4.779382805342129,4.779382805342129,2.7313012771693033],\"yaxis\":\"y\",\"type\":\"scatter\"},{\"hoverinfo\":\"text\",\"marker\":{\"color\":\"rgb(255,65,54)\"},\"mode\":\"lines\",\"x\":[1765.0,1765.0,1775.0,1775.0],\"xaxis\":\"x\",\"y\":[0.0,1.5137370973851436,1.5137370973851436,0.0],\"yaxis\":\"y\",\"type\":\"scatter\"},{\"hoverinfo\":\"text\",\"marker\":{\"color\":\"rgb(255,65,54)\"},\"mode\":\"lines\",\"x\":[1795.0,1795.0,1805.0,1805.0],\"xaxis\":\"x\",\"y\":[0.0,1.2264175471673586,1.2264175471673586,0.0],\"yaxis\":\"y\",\"type\":\"scatter\"},{\"hoverinfo\":\"text\",\"marker\":{\"color\":\"rgb(255,65,54)\"},\"mode\":\"lines\",\"x\":[1785.0,1785.0,1800.0,1800.0],\"xaxis\":\"x\",\"y\":[0.0,1.8177000119198252,1.8177000119198252,1.2264175471673586],\"yaxis\":\"y\",\"type\":\"scatter\"},{\"hoverinfo\":\"text\",\"marker\":{\"color\":\"rgb(255,65,54)\"},\"mode\":\"lines\",\"x\":[1770.0,1770.0,1792.5,1792.5],\"xaxis\":\"x\",\"y\":[1.5137370973851436,3.038668568084823,3.038668568084823,1.8177000119198252],\"yaxis\":\"y\",\"type\":\"scatter\"},{\"hoverinfo\":\"text\",\"marker\":{\"color\":\"rgb(255,65,54)\"},\"mode\":\"lines\",\"x\":[1815.0,1815.0,1825.0,1825.0],\"xaxis\":\"x\",\"y\":[0.0,1.4752626884728022,1.4752626884728022,0.0],\"yaxis\":\"y\",\"type\":\"scatter\"},{\"hoverinfo\":\"text\",\"marker\":{\"color\":\"rgb(255,65,54)\"},\"mode\":\"lines\",\"x\":[1845.0,1845.0,1855.0,1855.0],\"xaxis\":\"x\",\"y\":[0.0,1.3597426227047529,1.3597426227047529,0.0],\"yaxis\":\"y\",\"type\":\"scatter\"},{\"hoverinfo\":\"text\",\"marker\":{\"color\":\"rgb(255,65,54)\"},\"mode\":\"lines\",\"x\":[1835.0,1835.0,1850.0,1850.0],\"xaxis\":\"x\",\"y\":[0.0,1.9495726027345923,1.9495726027345923,1.3597426227047529],\"yaxis\":\"y\",\"type\":\"scatter\"},{\"hoverinfo\":\"text\",\"marker\":{\"color\":\"rgb(255,65,54)\"},\"mode\":\"lines\",\"x\":[1820.0,1820.0,1842.5,1842.5],\"xaxis\":\"x\",\"y\":[1.4752626884728022,3.5712780158742428,3.5712780158742428,1.9495726027345923],\"yaxis\":\"y\",\"type\":\"scatter\"},{\"hoverinfo\":\"text\",\"marker\":{\"color\":\"rgb(255,65,54)\"},\"mode\":\"lines\",\"x\":[1781.25,1781.25,1831.25,1831.25],\"xaxis\":\"x\",\"y\":[3.038668568084823,5.572550582991598,5.572550582991598,3.5712780158742428],\"yaxis\":\"y\",\"type\":\"scatter\"},{\"hoverinfo\":\"text\",\"marker\":{\"color\":\"rgb(255,65,54)\"},\"mode\":\"lines\",\"x\":[1700.3125,1700.3125,1806.25,1806.25],\"xaxis\":\"x\",\"y\":[4.779382805342129,7.156999224167683,7.156999224167683,5.572550582991598],\"yaxis\":\"y\",\"type\":\"scatter\"},{\"hoverinfo\":\"text\",\"marker\":{\"color\":\"rgb(255,65,54)\"},\"mode\":\"lines\",\"x\":[1865.0,1865.0,1875.0,1875.0],\"xaxis\":\"x\",\"y\":[0.0,1.3155227098001767,1.3155227098001767,0.0],\"yaxis\":\"y\",\"type\":\"scatter\"},{\"hoverinfo\":\"text\",\"marker\":{\"color\":\"rgb(255,65,54)\"},\"mode\":\"lines\",\"x\":[1885.0,1885.0,1895.0,1895.0],\"xaxis\":\"x\",\"y\":[0.0,1.4671400751121209,1.4671400751121209,0.0],\"yaxis\":\"y\",\"type\":\"scatter\"},{\"hoverinfo\":\"text\",\"marker\":{\"color\":\"rgb(255,65,54)\"},\"mode\":\"lines\",\"x\":[1870.0,1870.0,1890.0,1890.0],\"xaxis\":\"x\",\"y\":[1.3155227098001767,1.846956956726388,1.846956956726388,1.4671400751121209],\"yaxis\":\"y\",\"type\":\"scatter\"},{\"hoverinfo\":\"text\",\"marker\":{\"color\":\"rgb(255,65,54)\"},\"mode\":\"lines\",\"x\":[1905.0,1905.0,1915.0,1915.0],\"xaxis\":\"x\",\"y\":[0.0,0.21931712199461323,0.21931712199461323,0.0],\"yaxis\":\"y\",\"type\":\"scatter\"},{\"hoverinfo\":\"text\",\"marker\":{\"color\":\"rgb(255,65,54)\"},\"mode\":\"lines\",\"x\":[1925.0,1925.0,1935.0,1935.0],\"xaxis\":\"x\",\"y\":[0.0,0.41400483088968904,0.41400483088968904,0.0],\"yaxis\":\"y\",\"type\":\"scatter\"},{\"hoverinfo\":\"text\",\"marker\":{\"color\":\"rgb(255,65,54)\"},\"mode\":\"lines\",\"x\":[1910.0,1910.0,1930.0,1930.0],\"xaxis\":\"x\",\"y\":[0.21931712199461323,0.547220248163388,0.547220248163388,0.41400483088968904],\"yaxis\":\"y\",\"type\":\"scatter\"},{\"hoverinfo\":\"text\",\"marker\":{\"color\":\"rgb(255,65,54)\"},\"mode\":\"lines\",\"x\":[1955.0,1955.0,1965.0,1965.0],\"xaxis\":\"x\",\"y\":[0.0,1.118033988749895,1.118033988749895,0.0],\"yaxis\":\"y\",\"type\":\"scatter\"},{\"hoverinfo\":\"text\",\"marker\":{\"color\":\"rgb(255,65,54)\"},\"mode\":\"lines\",\"x\":[1945.0,1945.0,1960.0,1960.0],\"xaxis\":\"x\",\"y\":[0.0,1.7364331256918593,1.7364331256918593,1.118033988749895],\"yaxis\":\"y\",\"type\":\"scatter\"},{\"hoverinfo\":\"text\",\"marker\":{\"color\":\"rgb(255,65,54)\"},\"mode\":\"lines\",\"x\":[1920.0,1920.0,1952.5,1952.5],\"xaxis\":\"x\",\"y\":[0.547220248163388,1.8751666592599177,1.8751666592599177,1.7364331256918593],\"yaxis\":\"y\",\"type\":\"scatter\"},{\"hoverinfo\":\"text\",\"marker\":{\"color\":\"rgb(255,65,54)\"},\"mode\":\"lines\",\"x\":[1880.0,1880.0,1936.25,1936.25],\"xaxis\":\"x\",\"y\":[1.846956956726388,3.607418492747713,3.607418492747713,1.8751666592599177],\"yaxis\":\"y\",\"type\":\"scatter\"},{\"hoverinfo\":\"text\",\"marker\":{\"color\":\"rgb(255,65,54)\"},\"mode\":\"lines\",\"x\":[1975.0,1975.0,1985.0,1985.0],\"xaxis\":\"x\",\"y\":[0.0,1.019803902718557,1.019803902718557,0.0],\"yaxis\":\"y\",\"type\":\"scatter\"},{\"hoverinfo\":\"text\",\"marker\":{\"color\":\"rgb(255,65,54)\"},\"mode\":\"lines\",\"x\":[2005.0,2005.0,2015.0,2015.0],\"xaxis\":\"x\",\"y\":[0.0,0.5,0.5,0.0],\"yaxis\":\"y\",\"type\":\"scatter\"},{\"hoverinfo\":\"text\",\"marker\":{\"color\":\"rgb(255,65,54)\"},\"mode\":\"lines\",\"x\":[1995.0,1995.0,2010.0,2010.0],\"xaxis\":\"x\",\"y\":[0.0,1.2233832869001713,1.2233832869001713,0.5],\"yaxis\":\"y\",\"type\":\"scatter\"},{\"hoverinfo\":\"text\",\"marker\":{\"color\":\"rgb(255,65,54)\"},\"mode\":\"lines\",\"x\":[1980.0,1980.0,2002.5,2002.5],\"xaxis\":\"x\",\"y\":[1.019803902718557,1.8081297888518217,1.8081297888518217,1.2233832869001713],\"yaxis\":\"y\",\"type\":\"scatter\"},{\"hoverinfo\":\"text\",\"marker\":{\"color\":\"rgb(255,65,54)\"},\"mode\":\"lines\",\"x\":[2035.0,2035.0,2045.0,2045.0],\"xaxis\":\"x\",\"y\":[0.0,0.21,0.21,0.0],\"yaxis\":\"y\",\"type\":\"scatter\"},{\"hoverinfo\":\"text\",\"marker\":{\"color\":\"rgb(255,65,54)\"},\"mode\":\"lines\",\"x\":[2055.0,2055.0,2065.0,2065.0],\"xaxis\":\"x\",\"y\":[0.0,0.0,0.0,0.0],\"yaxis\":\"y\",\"type\":\"scatter\"},{\"hoverinfo\":\"text\",\"marker\":{\"color\":\"rgb(255,65,54)\"},\"mode\":\"lines\",\"x\":[2075.0,2075.0,2085.0,2085.0],\"xaxis\":\"x\",\"y\":[0.0,0.4007492981902776,0.4007492981902776,0.0],\"yaxis\":\"y\",\"type\":\"scatter\"},{\"hoverinfo\":\"text\",\"marker\":{\"color\":\"rgb(255,65,54)\"},\"mode\":\"lines\",\"x\":[2060.0,2060.0,2080.0,2080.0],\"xaxis\":\"x\",\"y\":[0.0,0.5634713834792322,0.5634713834792322,0.4007492981902776],\"yaxis\":\"y\",\"type\":\"scatter\"},{\"hoverinfo\":\"text\",\"marker\":{\"color\":\"rgb(255,65,54)\"},\"mode\":\"lines\",\"x\":[2040.0,2040.0,2070.0,2070.0],\"xaxis\":\"x\",\"y\":[0.21,0.9292828776355813,0.9292828776355813,0.5634713834792322],\"yaxis\":\"y\",\"type\":\"scatter\"},{\"hoverinfo\":\"text\",\"marker\":{\"color\":\"rgb(255,65,54)\"},\"mode\":\"lines\",\"x\":[2025.0,2025.0,2055.0,2055.0],\"xaxis\":\"x\",\"y\":[0.0,1.8654005059555032,1.8654005059555032,0.9292828776355813],\"yaxis\":\"y\",\"type\":\"scatter\"},{\"hoverinfo\":\"text\",\"marker\":{\"color\":\"rgb(255,65,54)\"},\"mode\":\"lines\",\"x\":[1991.25,1991.25,2040.0,2040.0],\"xaxis\":\"x\",\"y\":[1.8081297888518217,2.7557753208575653,2.7557753208575653,1.8654005059555032],\"yaxis\":\"y\",\"type\":\"scatter\"},{\"hoverinfo\":\"text\",\"marker\":{\"color\":\"rgb(255,65,54)\"},\"mode\":\"lines\",\"x\":[2105.0,2105.0,2115.0,2115.0],\"xaxis\":\"x\",\"y\":[0.0,1.2658988901172163,1.2658988901172163,0.0],\"yaxis\":\"y\",\"type\":\"scatter\"},{\"hoverinfo\":\"text\",\"marker\":{\"color\":\"rgb(255,65,54)\"},\"mode\":\"lines\",\"x\":[2125.0,2125.0,2135.0,2135.0],\"xaxis\":\"x\",\"y\":[0.0,1.2658988901172163,1.2658988901172163,0.0],\"yaxis\":\"y\",\"type\":\"scatter\"},{\"hoverinfo\":\"text\",\"marker\":{\"color\":\"rgb(255,65,54)\"},\"mode\":\"lines\",\"x\":[2110.0,2110.0,2130.0,2130.0],\"xaxis\":\"x\",\"y\":[1.2658988901172163,2.611512971440119,2.611512971440119,1.2658988901172163],\"yaxis\":\"y\",\"type\":\"scatter\"},{\"hoverinfo\":\"text\",\"marker\":{\"color\":\"rgb(255,65,54)\"},\"mode\":\"lines\",\"x\":[2095.0,2095.0,2120.0,2120.0],\"xaxis\":\"x\",\"y\":[0.0,3.55528339236129,3.55528339236129,2.611512971440119],\"yaxis\":\"y\",\"type\":\"scatter\"},{\"hoverinfo\":\"text\",\"marker\":{\"color\":\"rgb(255,65,54)\"},\"mode\":\"lines\",\"x\":[2015.625,2015.625,2107.5,2107.5],\"xaxis\":\"x\",\"y\":[2.7557753208575653,6.628494653580781,6.628494653580781,3.55528339236129],\"yaxis\":\"y\",\"type\":\"scatter\"},{\"hoverinfo\":\"text\",\"marker\":{\"color\":\"rgb(255,65,54)\"},\"mode\":\"lines\",\"x\":[1908.125,1908.125,2061.5625,2061.5625],\"xaxis\":\"x\",\"y\":[3.607418492747713,7.895207133681043,7.895207133681043,6.628494653580781],\"yaxis\":\"y\",\"type\":\"scatter\"},{\"hoverinfo\":\"text\",\"marker\":{\"color\":\"rgb(255,65,54)\"},\"mode\":\"lines\",\"x\":[1753.28125,1753.28125,1984.84375,1984.84375],\"xaxis\":\"x\",\"y\":[7.156999224167683,14.299991136799978,14.299991136799978,7.895207133681043],\"yaxis\":\"y\",\"type\":\"scatter\"},{\"hoverinfo\":\"text\",\"marker\":{\"color\":\"rgb(255,65,54)\"},\"mode\":\"lines\",\"x\":[1592.8125,1592.8125,1869.0625,1869.0625],\"xaxis\":\"x\",\"y\":[6.4808568688074155,22.822431950959942,22.822431950959942,14.299991136799978],\"yaxis\":\"y\",\"type\":\"scatter\"},{\"hoverinfo\":\"text\",\"marker\":{\"color\":\"rgb(255,65,54)\"},\"mode\":\"lines\",\"x\":[1188.828125,1188.828125,1730.9375,1730.9375],\"xaxis\":\"x\",\"y\":[19.067028352552587,29.888923309779127,29.888923309779127,22.822431950959942],\"yaxis\":\"y\",\"type\":\"scatter\"},{\"hoverinfo\":\"text\",\"marker\":{\"color\":\"rgb(35,205,205)\"},\"mode\":\"lines\",\"x\":[2145.0,2145.0,2155.0,2155.0],\"xaxis\":\"x\",\"y\":[0.0,1.469693845669907,1.469693845669907,0.0],\"yaxis\":\"y\",\"type\":\"scatter\"},{\"hoverinfo\":\"text\",\"marker\":{\"color\":\"rgb(35,205,205)\"},\"mode\":\"lines\",\"x\":[2165.0,2165.0,2175.0,2175.0],\"xaxis\":\"x\",\"y\":[0.0,1.5362291495737217,1.5362291495737217,0.0],\"yaxis\":\"y\",\"type\":\"scatter\"},{\"hoverinfo\":\"text\",\"marker\":{\"color\":\"rgb(35,205,205)\"},\"mode\":\"lines\",\"x\":[2150.0,2150.0,2170.0,2170.0],\"xaxis\":\"x\",\"y\":[1.469693845669907,4.681879964287851,4.681879964287851,1.5362291495737217],\"yaxis\":\"y\",\"type\":\"scatter\"},{\"hoverinfo\":\"text\",\"marker\":{\"color\":\"rgb(35,205,205)\"},\"mode\":\"lines\",\"x\":[2185.0,2185.0,2195.0,2195.0],\"xaxis\":\"x\",\"y\":[0.0,1.014347080638575,1.014347080638575,0.0],\"yaxis\":\"y\",\"type\":\"scatter\"},{\"hoverinfo\":\"text\",\"marker\":{\"color\":\"rgb(35,205,205)\"},\"mode\":\"lines\",\"x\":[2205.0,2205.0,2215.0,2215.0],\"xaxis\":\"x\",\"y\":[0.0,1.0440306508910548,1.0440306508910548,0.0],\"yaxis\":\"y\",\"type\":\"scatter\"},{\"hoverinfo\":\"text\",\"marker\":{\"color\":\"rgb(35,205,205)\"},\"mode\":\"lines\",\"x\":[2225.0,2225.0,2235.0,2235.0],\"xaxis\":\"x\",\"y\":[0.0,1.169658069693874,1.169658069693874,0.0],\"yaxis\":\"y\",\"type\":\"scatter\"},{\"hoverinfo\":\"text\",\"marker\":{\"color\":\"rgb(35,205,205)\"},\"mode\":\"lines\",\"x\":[2210.0,2210.0,2230.0,2230.0],\"xaxis\":\"x\",\"y\":[1.0440306508910548,1.8732458461184427,1.8732458461184427,1.169658069693874],\"yaxis\":\"y\",\"type\":\"scatter\"},{\"hoverinfo\":\"text\",\"marker\":{\"color\":\"rgb(35,205,205)\"},\"mode\":\"lines\",\"x\":[2190.0,2190.0,2220.0,2220.0],\"xaxis\":\"x\",\"y\":[1.014347080638575,2.26835108981539,2.26835108981539,1.8732458461184427],\"yaxis\":\"y\",\"type\":\"scatter\"},{\"hoverinfo\":\"text\",\"marker\":{\"color\":\"rgb(35,205,205)\"},\"mode\":\"lines\",\"x\":[2245.0,2245.0,2255.0,2255.0],\"xaxis\":\"x\",\"y\":[0.0,1.1396929411029972,1.1396929411029972,0.0],\"yaxis\":\"y\",\"type\":\"scatter\"},{\"hoverinfo\":\"text\",\"marker\":{\"color\":\"rgb(35,205,205)\"},\"mode\":\"lines\",\"x\":[2265.0,2265.0,2275.0,2275.0],\"xaxis\":\"x\",\"y\":[0.0,0.5099019513592784,0.5099019513592784,0.0],\"yaxis\":\"y\",\"type\":\"scatter\"},{\"hoverinfo\":\"text\",\"marker\":{\"color\":\"rgb(35,205,205)\"},\"mode\":\"lines\",\"x\":[2295.0,2295.0,2305.0,2305.0],\"xaxis\":\"x\",\"y\":[0.0,1.1224972160321824,1.1224972160321824,0.0],\"yaxis\":\"y\",\"type\":\"scatter\"},{\"hoverinfo\":\"text\",\"marker\":{\"color\":\"rgb(35,205,205)\"},\"mode\":\"lines\",\"x\":[2285.0,2285.0,2300.0,2300.0],\"xaxis\":\"x\",\"y\":[0.0,1.5811388300841895,1.5811388300841895,1.1224972160321824],\"yaxis\":\"y\",\"type\":\"scatter\"},{\"hoverinfo\":\"text\",\"marker\":{\"color\":\"rgb(35,205,205)\"},\"mode\":\"lines\",\"x\":[2270.0,2270.0,2292.5,2292.5],\"xaxis\":\"x\",\"y\":[0.5099019513592784,1.7029386365926404,1.7029386365926404,1.5811388300841895],\"yaxis\":\"y\",\"type\":\"scatter\"},{\"hoverinfo\":\"text\",\"marker\":{\"color\":\"rgb(35,205,205)\"},\"mode\":\"lines\",\"x\":[2250.0,2250.0,2281.25,2281.25],\"xaxis\":\"x\",\"y\":[1.1396929411029972,3.1088468234103415,3.1088468234103415,1.7029386365926404],\"yaxis\":\"y\",\"type\":\"scatter\"},{\"hoverinfo\":\"text\",\"marker\":{\"color\":\"rgb(35,205,205)\"},\"mode\":\"lines\",\"x\":[2205.0,2205.0,2265.625,2265.625],\"xaxis\":\"x\",\"y\":[2.26835108981539,5.478312218366598,5.478312218366598,3.1088468234103415],\"yaxis\":\"y\",\"type\":\"scatter\"},{\"hoverinfo\":\"text\",\"marker\":{\"color\":\"rgb(35,205,205)\"},\"mode\":\"lines\",\"x\":[2160.0,2160.0,2235.3125,2235.3125],\"xaxis\":\"x\",\"y\":[4.681879964287851,14.918402374643358,14.918402374643358,5.478312218366598],\"yaxis\":\"y\",\"type\":\"scatter\"},{\"hoverinfo\":\"text\",\"marker\":{\"color\":\"rgb(35,205,205)\"},\"mode\":\"lines\",\"x\":[2315.0,2315.0,2325.0,2325.0],\"xaxis\":\"x\",\"y\":[0.0,0.80876448982383,0.80876448982383,0.0],\"yaxis\":\"y\",\"type\":\"scatter\"},{\"hoverinfo\":\"text\",\"marker\":{\"color\":\"rgb(35,205,205)\"},\"mode\":\"lines\",\"x\":[2335.0,2335.0,2345.0,2345.0],\"xaxis\":\"x\",\"y\":[0.0,1.5761027885261798,1.5761027885261798,0.0],\"yaxis\":\"y\",\"type\":\"scatter\"},{\"hoverinfo\":\"text\",\"marker\":{\"color\":\"rgb(35,205,205)\"},\"mode\":\"lines\",\"x\":[2320.0,2320.0,2340.0,2340.0],\"xaxis\":\"x\",\"y\":[0.80876448982383,2.121320343559642,2.121320343559642,1.5761027885261798],\"yaxis\":\"y\",\"type\":\"scatter\"},{\"hoverinfo\":\"text\",\"marker\":{\"color\":\"rgb(35,205,205)\"},\"mode\":\"lines\",\"x\":[2355.0,2355.0,2365.0,2365.0],\"xaxis\":\"x\",\"y\":[0.0,0.6280127387243034,0.6280127387243034,0.0],\"yaxis\":\"y\",\"type\":\"scatter\"},{\"hoverinfo\":\"text\",\"marker\":{\"color\":\"rgb(35,205,205)\"},\"mode\":\"lines\",\"x\":[2375.0,2375.0,2385.0,2385.0],\"xaxis\":\"x\",\"y\":[0.0,1.1766052864066183,1.1766052864066183,0.0],\"yaxis\":\"y\",\"type\":\"scatter\"},{\"hoverinfo\":\"text\",\"marker\":{\"color\":\"rgb(35,205,205)\"},\"mode\":\"lines\",\"x\":[2360.0,2360.0,2380.0,2380.0],\"xaxis\":\"x\",\"y\":[0.6280127387243034,2.2912878474779195,2.2912878474779195,1.1766052864066183],\"yaxis\":\"y\",\"type\":\"scatter\"},{\"hoverinfo\":\"text\",\"marker\":{\"color\":\"rgb(35,205,205)\"},\"mode\":\"lines\",\"x\":[2330.0,2330.0,2370.0,2370.0],\"xaxis\":\"x\",\"y\":[2.121320343559642,6.538646648963377,6.538646648963377,2.2912878474779195],\"yaxis\":\"y\",\"type\":\"scatter\"},{\"hoverinfo\":\"text\",\"marker\":{\"color\":\"rgb(35,205,205)\"},\"mode\":\"lines\",\"x\":[2395.0,2395.0,2405.0,2405.0],\"xaxis\":\"x\",\"y\":[0.0,1.019803902718557,1.019803902718557,0.0],\"yaxis\":\"y\",\"type\":\"scatter\"},{\"hoverinfo\":\"text\",\"marker\":{\"color\":\"rgb(35,205,205)\"},\"mode\":\"lines\",\"x\":[2415.0,2415.0,2425.0,2425.0],\"xaxis\":\"x\",\"y\":[0.0,1.1575836902790224,1.1575836902790224,0.0],\"yaxis\":\"y\",\"type\":\"scatter\"},{\"hoverinfo\":\"text\",\"marker\":{\"color\":\"rgb(35,205,205)\"},\"mode\":\"lines\",\"x\":[2400.0,2400.0,2420.0,2420.0],\"xaxis\":\"x\",\"y\":[1.019803902718557,1.5905973720586863,1.5905973720586863,1.1575836902790224],\"yaxis\":\"y\",\"type\":\"scatter\"},{\"hoverinfo\":\"text\",\"marker\":{\"color\":\"rgb(35,205,205)\"},\"mode\":\"lines\",\"x\":[2435.0,2435.0,2445.0,2445.0],\"xaxis\":\"x\",\"y\":[0.0,1.1575836902790226,1.1575836902790226,0.0],\"yaxis\":\"y\",\"type\":\"scatter\"},{\"hoverinfo\":\"text\",\"marker\":{\"color\":\"rgb(35,205,205)\"},\"mode\":\"lines\",\"x\":[2455.0,2455.0,2465.0,2465.0],\"xaxis\":\"x\",\"y\":[0.0,1.0,1.0,0.0],\"yaxis\":\"y\",\"type\":\"scatter\"},{\"hoverinfo\":\"text\",\"marker\":{\"color\":\"rgb(35,205,205)\"},\"mode\":\"lines\",\"x\":[2475.0,2475.0,2485.0,2485.0],\"xaxis\":\"x\",\"y\":[0.0,1.004987562112089,1.004987562112089,0.0],\"yaxis\":\"y\",\"type\":\"scatter\"},{\"hoverinfo\":\"text\",\"marker\":{\"color\":\"rgb(35,205,205)\"},\"mode\":\"lines\",\"x\":[2460.0,2460.0,2480.0,2480.0],\"xaxis\":\"x\",\"y\":[1.0,1.4300349646075092,1.4300349646075092,1.004987562112089],\"yaxis\":\"y\",\"type\":\"scatter\"},{\"hoverinfo\":\"text\",\"marker\":{\"color\":\"rgb(35,205,205)\"},\"mode\":\"lines\",\"x\":[2440.0,2440.0,2470.0,2470.0],\"xaxis\":\"x\",\"y\":[1.1575836902790226,2.5576682088704676,2.5576682088704676,1.4300349646075092],\"yaxis\":\"y\",\"type\":\"scatter\"},{\"hoverinfo\":\"text\",\"marker\":{\"color\":\"rgb(35,205,205)\"},\"mode\":\"lines\",\"x\":[2495.0,2495.0,2505.0,2505.0],\"xaxis\":\"x\",\"y\":[0.0,1.6007810593582121,1.6007810593582121,0.0],\"yaxis\":\"y\",\"type\":\"scatter\"},{\"hoverinfo\":\"text\",\"marker\":{\"color\":\"rgb(35,205,205)\"},\"mode\":\"lines\",\"x\":[2525.0,2525.0,2535.0,2535.0],\"xaxis\":\"x\",\"y\":[0.0,1.181905241548577,1.181905241548577,0.0],\"yaxis\":\"y\",\"type\":\"scatter\"},{\"hoverinfo\":\"text\",\"marker\":{\"color\":\"rgb(35,205,205)\"},\"mode\":\"lines\",\"x\":[2515.0,2515.0,2530.0,2530.0],\"xaxis\":\"x\",\"y\":[0.0,2.0284723315835493,2.0284723315835493,1.181905241548577],\"yaxis\":\"y\",\"type\":\"scatter\"},{\"hoverinfo\":\"text\",\"marker\":{\"color\":\"rgb(35,205,205)\"},\"mode\":\"lines\",\"x\":[2500.0,2500.0,2522.5,2522.5],\"xaxis\":\"x\",\"y\":[1.6007810593582121,3.3632216697684383,3.3632216697684383,2.0284723315835493],\"yaxis\":\"y\",\"type\":\"scatter\"},{\"hoverinfo\":\"text\",\"marker\":{\"color\":\"rgb(35,205,205)\"},\"mode\":\"lines\",\"x\":[2455.0,2455.0,2511.25,2511.25],\"xaxis\":\"x\",\"y\":[2.5576682088704676,5.569162713849662,5.569162713849662,3.3632216697684383],\"yaxis\":\"y\",\"type\":\"scatter\"},{\"hoverinfo\":\"text\",\"marker\":{\"color\":\"rgb(35,205,205)\"},\"mode\":\"lines\",\"x\":[2410.0,2410.0,2483.125,2483.125],\"xaxis\":\"x\",\"y\":[1.5905973720586863,7.345251527347446,7.345251527347446,5.569162713849662],\"yaxis\":\"y\",\"type\":\"scatter\"},{\"hoverinfo\":\"text\",\"marker\":{\"color\":\"rgb(35,205,205)\"},\"mode\":\"lines\",\"x\":[2350.0,2350.0,2446.5625,2446.5625],\"xaxis\":\"x\",\"y\":[6.538646648963377,8.25454694198242,8.25454694198242,7.345251527347446],\"yaxis\":\"y\",\"type\":\"scatter\"},{\"hoverinfo\":\"text\",\"marker\":{\"color\":\"rgb(35,205,205)\"},\"mode\":\"lines\",\"x\":[2545.0,2545.0,2555.0,2555.0],\"xaxis\":\"x\",\"y\":[0.0,0.9782126558167197,0.9782126558167197,0.0],\"yaxis\":\"y\",\"type\":\"scatter\"},{\"hoverinfo\":\"text\",\"marker\":{\"color\":\"rgb(35,205,205)\"},\"mode\":\"lines\",\"x\":[2575.0,2575.0,2585.0,2585.0],\"xaxis\":\"x\",\"y\":[0.0,0.9893937537704592,0.9893937537704592,0.0],\"yaxis\":\"y\",\"type\":\"scatter\"},{\"hoverinfo\":\"text\",\"marker\":{\"color\":\"rgb(35,205,205)\"},\"mode\":\"lines\",\"x\":[2565.0,2565.0,2580.0,2580.0],\"xaxis\":\"x\",\"y\":[0.0,1.4672082333465828,1.4672082333465828,0.9893937537704592],\"yaxis\":\"y\",\"type\":\"scatter\"},{\"hoverinfo\":\"text\",\"marker\":{\"color\":\"rgb(35,205,205)\"},\"mode\":\"lines\",\"x\":[2550.0,2550.0,2572.5,2572.5],\"xaxis\":\"x\",\"y\":[0.9782126558167197,2.7692851063045136,2.7692851063045136,1.4672082333465828],\"yaxis\":\"y\",\"type\":\"scatter\"},{\"hoverinfo\":\"text\",\"marker\":{\"color\":\"rgb(35,205,205)\"},\"mode\":\"lines\",\"x\":[2595.0,2595.0,2605.0,2605.0],\"xaxis\":\"x\",\"y\":[0.0,1.004987562112089,1.004987562112089,0.0],\"yaxis\":\"y\",\"type\":\"scatter\"},{\"hoverinfo\":\"text\",\"marker\":{\"color\":\"rgb(35,205,205)\"},\"mode\":\"lines\",\"x\":[2635.0,2635.0,2645.0,2645.0],\"xaxis\":\"x\",\"y\":[0.0,0.5177837386399847,0.5177837386399847,0.0],\"yaxis\":\"y\",\"type\":\"scatter\"},{\"hoverinfo\":\"text\",\"marker\":{\"color\":\"rgb(35,205,205)\"},\"mode\":\"lines\",\"x\":[2625.0,2625.0,2640.0,2640.0],\"xaxis\":\"x\",\"y\":[0.0,1.2038964518041684,1.2038964518041684,0.5177837386399847],\"yaxis\":\"y\",\"type\":\"scatter\"},{\"hoverinfo\":\"text\",\"marker\":{\"color\":\"rgb(35,205,205)\"},\"mode\":\"lines\",\"x\":[2615.0,2615.0,2632.5,2632.5],\"xaxis\":\"x\",\"y\":[0.0,1.3365752254674386,1.3365752254674386,1.2038964518041684],\"yaxis\":\"y\",\"type\":\"scatter\"},{\"hoverinfo\":\"text\",\"marker\":{\"color\":\"rgb(35,205,205)\"},\"mode\":\"lines\",\"x\":[2600.0,2600.0,2623.75,2623.75],\"xaxis\":\"x\",\"y\":[1.004987562112089,2.1320803612121813,2.1320803612121813,1.3365752254674386],\"yaxis\":\"y\",\"type\":\"scatter\"},{\"hoverinfo\":\"text\",\"marker\":{\"color\":\"rgb(35,205,205)\"},\"mode\":\"lines\",\"x\":[2675.0,2675.0,2685.0,2685.0],\"xaxis\":\"x\",\"y\":[0.0,0.4517742799230608,0.4517742799230608,0.0],\"yaxis\":\"y\",\"type\":\"scatter\"},{\"hoverinfo\":\"text\",\"marker\":{\"color\":\"rgb(35,205,205)\"},\"mode\":\"lines\",\"x\":[2665.0,2665.0,2680.0,2680.0],\"xaxis\":\"x\",\"y\":[0.0,0.6613370295595632,0.6613370295595632,0.4517742799230608],\"yaxis\":\"y\",\"type\":\"scatter\"},{\"hoverinfo\":\"text\",\"marker\":{\"color\":\"rgb(35,205,205)\"},\"mode\":\"lines\",\"x\":[2655.0,2655.0,2672.5,2672.5],\"xaxis\":\"x\",\"y\":[0.0,2.6852808667499444,2.6852808667499444,0.6613370295595632],\"yaxis\":\"y\",\"type\":\"scatter\"},{\"hoverinfo\":\"text\",\"marker\":{\"color\":\"rgb(35,205,205)\"},\"mode\":\"lines\",\"x\":[2611.875,2611.875,2663.75,2663.75],\"xaxis\":\"x\",\"y\":[2.1320803612121813,3.625996874424099,3.625996874424099,2.6852808667499444],\"yaxis\":\"y\",\"type\":\"scatter\"},{\"hoverinfo\":\"text\",\"marker\":{\"color\":\"rgb(35,205,205)\"},\"mode\":\"lines\",\"x\":[2561.25,2561.25,2637.8125,2637.8125],\"xaxis\":\"x\",\"y\":[2.7692851063045136,8.866824309375554,8.866824309375554,3.625996874424099],\"yaxis\":\"y\",\"type\":\"scatter\"},{\"hoverinfo\":\"text\",\"marker\":{\"color\":\"rgb(35,205,205)\"},\"mode\":\"lines\",\"x\":[2398.28125,2398.28125,2599.53125,2599.53125],\"xaxis\":\"x\",\"y\":[8.25454694198242,15.448184917288794,15.448184917288794,8.866824309375554],\"yaxis\":\"y\",\"type\":\"scatter\"},{\"hoverinfo\":\"text\",\"marker\":{\"color\":\"rgb(35,205,205)\"},\"mode\":\"lines\",\"x\":[2197.65625,2197.65625,2498.90625,2498.90625],\"xaxis\":\"x\",\"y\":[14.918402374643358,22.485548617210636,22.485548617210636,15.448184917288794],\"yaxis\":\"y\",\"type\":\"scatter\"},{\"hoverinfo\":\"text\",\"marker\":{\"color\":\"rgb(35,205,205)\"},\"mode\":\"lines\",\"x\":[2695.0,2695.0,2705.0,2705.0],\"xaxis\":\"x\",\"y\":[0.0,1.6770509831248424,1.6770509831248424,0.0],\"yaxis\":\"y\",\"type\":\"scatter\"},{\"hoverinfo\":\"text\",\"marker\":{\"color\":\"rgb(35,205,205)\"},\"mode\":\"lines\",\"x\":[2715.0,2715.0,2725.0,2725.0],\"xaxis\":\"x\",\"y\":[0.0,1.6770509831248424,1.6770509831248424,0.0],\"yaxis\":\"y\",\"type\":\"scatter\"},{\"hoverinfo\":\"text\",\"marker\":{\"color\":\"rgb(35,205,205)\"},\"mode\":\"lines\",\"x\":[2700.0,2700.0,2720.0,2720.0],\"xaxis\":\"x\",\"y\":[1.6770509831248424,5.196152422706632,5.196152422706632,1.6770509831248424],\"yaxis\":\"y\",\"type\":\"scatter\"},{\"hoverinfo\":\"text\",\"marker\":{\"color\":\"rgb(35,205,205)\"},\"mode\":\"lines\",\"x\":[2735.0,2735.0,2745.0,2745.0],\"xaxis\":\"x\",\"y\":[0.0,1.42828568570857,1.42828568570857,0.0],\"yaxis\":\"y\",\"type\":\"scatter\"},{\"hoverinfo\":\"text\",\"marker\":{\"color\":\"rgb(35,205,205)\"},\"mode\":\"lines\",\"x\":[2765.0,2765.0,2775.0,2775.0],\"xaxis\":\"x\",\"y\":[0.0,1.446236495183274,1.446236495183274,0.0],\"yaxis\":\"y\",\"type\":\"scatter\"},{\"hoverinfo\":\"text\",\"marker\":{\"color\":\"rgb(35,205,205)\"},\"mode\":\"lines\",\"x\":[2755.0,2755.0,2770.0,2770.0],\"xaxis\":\"x\",\"y\":[0.0,2.1275964529643927,2.1275964529643927,1.446236495183274],\"yaxis\":\"y\",\"type\":\"scatter\"},{\"hoverinfo\":\"text\",\"marker\":{\"color\":\"rgb(35,205,205)\"},\"mode\":\"lines\",\"x\":[2740.0,2740.0,2762.5,2762.5],\"xaxis\":\"x\",\"y\":[1.42828568570857,3.329164059239696,3.329164059239696,2.1275964529643927],\"yaxis\":\"y\",\"type\":\"scatter\"},{\"hoverinfo\":\"text\",\"marker\":{\"color\":\"rgb(35,205,205)\"},\"mode\":\"lines\",\"x\":[2785.0,2785.0,2795.0,2795.0],\"xaxis\":\"x\",\"y\":[0.0,1.7492855684535902,1.7492855684535902,0.0],\"yaxis\":\"y\",\"type\":\"scatter\"},{\"hoverinfo\":\"text\",\"marker\":{\"color\":\"rgb(35,205,205)\"},\"mode\":\"lines\",\"x\":[2815.0,2815.0,2825.0,2825.0],\"xaxis\":\"x\",\"y\":[0.0,1.8714967272212901,1.8714967272212901,0.0],\"yaxis\":\"y\",\"type\":\"scatter\"},{\"hoverinfo\":\"text\",\"marker\":{\"color\":\"rgb(35,205,205)\"},\"mode\":\"lines\",\"x\":[2805.0,2805.0,2820.0,2820.0],\"xaxis\":\"x\",\"y\":[0.0,2.4918600816792797,2.4918600816792797,1.8714967272212901],\"yaxis\":\"y\",\"type\":\"scatter\"},{\"hoverinfo\":\"text\",\"marker\":{\"color\":\"rgb(35,205,205)\"},\"mode\":\"lines\",\"x\":[2790.0,2790.0,2812.5,2812.5],\"xaxis\":\"x\",\"y\":[1.7492855684535902,3.677430262198501,3.677430262198501,2.4918600816792797],\"yaxis\":\"y\",\"type\":\"scatter\"},{\"hoverinfo\":\"text\",\"marker\":{\"color\":\"rgb(35,205,205)\"},\"mode\":\"lines\",\"x\":[2751.25,2751.25,2801.25,2801.25],\"xaxis\":\"x\",\"y\":[3.329164059239696,6.225618041608399,6.225618041608399,3.677430262198501],\"yaxis\":\"y\",\"type\":\"scatter\"},{\"hoverinfo\":\"text\",\"marker\":{\"color\":\"rgb(35,205,205)\"},\"mode\":\"lines\",\"x\":[2835.0,2835.0,2845.0,2845.0],\"xaxis\":\"x\",\"y\":[0.0,1.5976545308670458,1.5976545308670458,0.0],\"yaxis\":\"y\",\"type\":\"scatter\"},{\"hoverinfo\":\"text\",\"marker\":{\"color\":\"rgb(35,205,205)\"},\"mode\":\"lines\",\"x\":[2855.0,2855.0,2865.0,2865.0],\"xaxis\":\"x\",\"y\":[0.0,1.624807680927192,1.624807680927192,0.0],\"yaxis\":\"y\",\"type\":\"scatter\"},{\"hoverinfo\":\"text\",\"marker\":{\"color\":\"rgb(35,205,205)\"},\"mode\":\"lines\",\"x\":[2840.0,2840.0,2860.0,2860.0],\"xaxis\":\"x\",\"y\":[1.5976545308670458,4.019483797703382,4.019483797703382,1.624807680927192],\"yaxis\":\"y\",\"type\":\"scatter\"},{\"hoverinfo\":\"text\",\"marker\":{\"color\":\"rgb(35,205,205)\"},\"mode\":\"lines\",\"x\":[2875.0,2875.0,2885.0,2885.0],\"xaxis\":\"x\",\"y\":[0.0,1.8901058171435798,1.8901058171435798,0.0],\"yaxis\":\"y\",\"type\":\"scatter\"},{\"hoverinfo\":\"text\",\"marker\":{\"color\":\"rgb(35,205,205)\"},\"mode\":\"lines\",\"x\":[2905.0,2905.0,2915.0,2915.0],\"xaxis\":\"x\",\"y\":[0.0,0.8778382538941898,0.8778382538941898,0.0],\"yaxis\":\"y\",\"type\":\"scatter\"},{\"hoverinfo\":\"text\",\"marker\":{\"color\":\"rgb(35,205,205)\"},\"mode\":\"lines\",\"x\":[2895.0,2895.0,2910.0,2910.0],\"xaxis\":\"x\",\"y\":[0.0,1.196021181529268,1.196021181529268,0.8778382538941898],\"yaxis\":\"y\",\"type\":\"scatter\"},{\"hoverinfo\":\"text\",\"marker\":{\"color\":\"rgb(35,205,205)\"},\"mode\":\"lines\",\"x\":[2935.0,2935.0,2945.0,2945.0],\"xaxis\":\"x\",\"y\":[0.0,1.1908400396358865,1.1908400396358865,0.0],\"yaxis\":\"y\",\"type\":\"scatter\"},{\"hoverinfo\":\"text\",\"marker\":{\"color\":\"rgb(35,205,205)\"},\"mode\":\"lines\",\"x\":[2925.0,2925.0,2940.0,2940.0],\"xaxis\":\"x\",\"y\":[0.0,1.4604679615337912,1.4604679615337912,1.1908400396358865],\"yaxis\":\"y\",\"type\":\"scatter\"},{\"hoverinfo\":\"text\",\"marker\":{\"color\":\"rgb(35,205,205)\"},\"mode\":\"lines\",\"x\":[2902.5,2902.5,2932.5,2932.5],\"xaxis\":\"x\",\"y\":[1.196021181529268,2.9332859844663397,2.9332859844663397,1.4604679615337912],\"yaxis\":\"y\",\"type\":\"scatter\"},{\"hoverinfo\":\"text\",\"marker\":{\"color\":\"rgb(35,205,205)\"},\"mode\":\"lines\",\"x\":[2880.0,2880.0,2917.5,2917.5],\"xaxis\":\"x\",\"y\":[1.8901058171435798,4.874248660050081,4.874248660050081,2.9332859844663397],\"yaxis\":\"y\",\"type\":\"scatter\"},{\"hoverinfo\":\"text\",\"marker\":{\"color\":\"rgb(35,205,205)\"},\"mode\":\"lines\",\"x\":[2850.0,2850.0,2898.75,2898.75],\"xaxis\":\"x\",\"y\":[4.019483797703382,7.385038930161438,7.385038930161438,4.874248660050081],\"yaxis\":\"y\",\"type\":\"scatter\"},{\"hoverinfo\":\"text\",\"marker\":{\"color\":\"rgb(35,205,205)\"},\"mode\":\"lines\",\"x\":[2776.25,2776.25,2874.375,2874.375],\"xaxis\":\"x\",\"y\":[6.225618041608399,10.632769544282345,10.632769544282345,7.385038930161438],\"yaxis\":\"y\",\"type\":\"scatter\"},{\"hoverinfo\":\"text\",\"marker\":{\"color\":\"rgb(35,205,205)\"},\"mode\":\"lines\",\"x\":[2710.0,2710.0,2825.3125,2825.3125],\"xaxis\":\"x\",\"y\":[5.196152422706632,14.541392282394746,14.541392282394746,10.632769544282345],\"yaxis\":\"y\",\"type\":\"scatter\"},{\"hoverinfo\":\"text\",\"marker\":{\"color\":\"rgb(35,205,205)\"},\"mode\":\"lines\",\"x\":[2955.0,2955.0,2965.0,2965.0],\"xaxis\":\"x\",\"y\":[0.0,2.7092434368288134,2.7092434368288134,0.0],\"yaxis\":\"y\",\"type\":\"scatter\"},{\"hoverinfo\":\"text\",\"marker\":{\"color\":\"rgb(35,205,205)\"},\"mode\":\"lines\",\"x\":[2975.0,2975.0,2985.0,2985.0],\"xaxis\":\"x\",\"y\":[0.0,1.8364367672206956,1.8364367672206956,0.0],\"yaxis\":\"y\",\"type\":\"scatter\"},{\"hoverinfo\":\"text\",\"marker\":{\"color\":\"rgb(35,205,205)\"},\"mode\":\"lines\",\"x\":[2995.0,2995.0,3005.0,3005.0],\"xaxis\":\"x\",\"y\":[0.0,1.9293781381574737,1.9293781381574737,0.0],\"yaxis\":\"y\",\"type\":\"scatter\"},{\"hoverinfo\":\"text\",\"marker\":{\"color\":\"rgb(35,205,205)\"},\"mode\":\"lines\",\"x\":[2980.0,2980.0,3000.0,3000.0],\"xaxis\":\"x\",\"y\":[1.8364367672206956,4.494997219131509,4.494997219131509,1.9293781381574737],\"yaxis\":\"y\",\"type\":\"scatter\"},{\"hoverinfo\":\"text\",\"marker\":{\"color\":\"rgb(35,205,205)\"},\"mode\":\"lines\",\"x\":[2960.0,2960.0,2990.0,2990.0],\"xaxis\":\"x\",\"y\":[2.7092434368288134,8.392655519361359,8.392655519361359,4.494997219131509],\"yaxis\":\"y\",\"type\":\"scatter\"},{\"hoverinfo\":\"text\",\"marker\":{\"color\":\"rgb(35,205,205)\"},\"mode\":\"lines\",\"x\":[3015.0,3015.0,3025.0,3025.0],\"xaxis\":\"x\",\"y\":[0.0,1.445683229480096,1.445683229480096,0.0],\"yaxis\":\"y\",\"type\":\"scatter\"},{\"hoverinfo\":\"text\",\"marker\":{\"color\":\"rgb(35,205,205)\"},\"mode\":\"lines\",\"x\":[3035.0,3035.0,3045.0,3045.0],\"xaxis\":\"x\",\"y\":[0.0,1.617590801160788,1.617590801160788,0.0],\"yaxis\":\"y\",\"type\":\"scatter\"},{\"hoverinfo\":\"text\",\"marker\":{\"color\":\"rgb(35,205,205)\"},\"mode\":\"lines\",\"x\":[3020.0,3020.0,3040.0,3040.0],\"xaxis\":\"x\",\"y\":[1.445683229480096,3.8708267850680174,3.8708267850680174,1.617590801160788],\"yaxis\":\"y\",\"type\":\"scatter\"},{\"hoverinfo\":\"text\",\"marker\":{\"color\":\"rgb(35,205,205)\"},\"mode\":\"lines\",\"x\":[3075.0,3075.0,3085.0,3085.0],\"xaxis\":\"x\",\"y\":[0.0,1.13758516164725,1.13758516164725,0.0],\"yaxis\":\"y\",\"type\":\"scatter\"},{\"hoverinfo\":\"text\",\"marker\":{\"color\":\"rgb(35,205,205)\"},\"mode\":\"lines\",\"x\":[3065.0,3065.0,3080.0,3080.0],\"xaxis\":\"x\",\"y\":[0.0,1.5203179492022931,1.5203179492022931,1.13758516164725],\"yaxis\":\"y\",\"type\":\"scatter\"},{\"hoverinfo\":\"text\",\"marker\":{\"color\":\"rgb(35,205,205)\"},\"mode\":\"lines\",\"x\":[3055.0,3055.0,3072.5,3072.5],\"xaxis\":\"x\",\"y\":[0.0,2.220514204713254,2.220514204713254,1.5203179492022931],\"yaxis\":\"y\",\"type\":\"scatter\"},{\"hoverinfo\":\"text\",\"marker\":{\"color\":\"rgb(35,205,205)\"},\"mode\":\"lines\",\"x\":[3095.0,3095.0,3105.0,3105.0],\"xaxis\":\"x\",\"y\":[0.0,0.54230987451825,0.54230987451825,0.0],\"yaxis\":\"y\",\"type\":\"scatter\"},{\"hoverinfo\":\"text\",\"marker\":{\"color\":\"rgb(35,205,205)\"},\"mode\":\"lines\",\"x\":[3115.0,3115.0,3125.0,3125.0],\"xaxis\":\"x\",\"y\":[0.0,0.6356886030125127,0.6356886030125127,0.0],\"yaxis\":\"y\",\"type\":\"scatter\"},{\"hoverinfo\":\"text\",\"marker\":{\"color\":\"rgb(35,205,205)\"},\"mode\":\"lines\",\"x\":[3100.0,3100.0,3120.0,3120.0],\"xaxis\":\"x\",\"y\":[0.54230987451825,3.1906112267087634,3.1906112267087634,0.6356886030125127],\"yaxis\":\"y\",\"type\":\"scatter\"},{\"hoverinfo\":\"text\",\"marker\":{\"color\":\"rgb(35,205,205)\"},\"mode\":\"lines\",\"x\":[3063.75,3063.75,3110.0,3110.0],\"xaxis\":\"x\",\"y\":[2.220514204713254,5.1415975143918065,5.1415975143918065,3.1906112267087634],\"yaxis\":\"y\",\"type\":\"scatter\"},{\"hoverinfo\":\"text\",\"marker\":{\"color\":\"rgb(35,205,205)\"},\"mode\":\"lines\",\"x\":[3030.0,3030.0,3086.875,3086.875],\"xaxis\":\"x\",\"y\":[3.8708267850680174,6.2071658857592436,6.2071658857592436,5.1415975143918065],\"yaxis\":\"y\",\"type\":\"scatter\"},{\"hoverinfo\":\"text\",\"marker\":{\"color\":\"rgb(35,205,205)\"},\"mode\":\"lines\",\"x\":[3145.0,3145.0,3155.0,3155.0],\"xaxis\":\"x\",\"y\":[0.0,2.358495283014151,2.358495283014151,0.0],\"yaxis\":\"y\",\"type\":\"scatter\"},{\"hoverinfo\":\"text\",\"marker\":{\"color\":\"rgb(35,205,205)\"},\"mode\":\"lines\",\"x\":[3135.0,3135.0,3150.0,3150.0],\"xaxis\":\"x\",\"y\":[0.0,2.7063197643047774,2.7063197643047774,2.358495283014151],\"yaxis\":\"y\",\"type\":\"scatter\"},{\"hoverinfo\":\"text\",\"marker\":{\"color\":\"rgb(35,205,205)\"},\"mode\":\"lines\",\"x\":[3165.0,3165.0,3175.0,3175.0],\"xaxis\":\"x\",\"y\":[0.0,1.097314904665019,1.097314904665019,0.0],\"yaxis\":\"y\",\"type\":\"scatter\"},{\"hoverinfo\":\"text\",\"marker\":{\"color\":\"rgb(35,205,205)\"},\"mode\":\"lines\",\"x\":[3185.0,3185.0,3195.0,3195.0],\"xaxis\":\"x\",\"y\":[0.0,1.1539497389401328,1.1539497389401328,0.0],\"yaxis\":\"y\",\"type\":\"scatter\"},{\"hoverinfo\":\"text\",\"marker\":{\"color\":\"rgb(35,205,205)\"},\"mode\":\"lines\",\"x\":[3170.0,3170.0,3190.0,3190.0],\"xaxis\":\"x\",\"y\":[1.097314904665019,3.522250700901343,3.522250700901343,1.1539497389401328],\"yaxis\":\"y\",\"type\":\"scatter\"},{\"hoverinfo\":\"text\",\"marker\":{\"color\":\"rgb(35,205,205)\"},\"mode\":\"lines\",\"x\":[3142.5,3142.5,3180.0,3180.0],\"xaxis\":\"x\",\"y\":[2.7063197643047774,7.161919967372409,7.161919967372409,3.522250700901343],\"yaxis\":\"y\",\"type\":\"scatter\"},{\"hoverinfo\":\"text\",\"marker\":{\"color\":\"rgb(35,205,205)\"},\"mode\":\"lines\",\"x\":[3058.4375,3058.4375,3161.25,3161.25],\"xaxis\":\"x\",\"y\":[6.2071658857592436,11.014475034049022,11.014475034049022,7.161919967372409],\"yaxis\":\"y\",\"type\":\"scatter\"},{\"hoverinfo\":\"text\",\"marker\":{\"color\":\"rgb(35,205,205)\"},\"mode\":\"lines\",\"x\":[2975.0,2975.0,3109.84375,3109.84375],\"xaxis\":\"x\",\"y\":[8.392655519361359,18.42082037908726,18.42082037908726,11.014475034049022],\"yaxis\":\"y\",\"type\":\"scatter\"},{\"hoverinfo\":\"text\",\"marker\":{\"color\":\"rgb(35,205,205)\"},\"mode\":\"lines\",\"x\":[2767.65625,2767.65625,3042.421875,3042.421875],\"xaxis\":\"x\",\"y\":[14.541392282394746,43.645373215625284,43.645373215625284,18.42082037908726],\"yaxis\":\"y\",\"type\":\"scatter\"},{\"hoverinfo\":\"text\",\"marker\":{\"color\":\"rgb(35,205,205)\"},\"mode\":\"lines\",\"x\":[2348.28125,2348.28125,2905.0390625,2905.0390625],\"xaxis\":\"x\",\"y\":[22.485548617210636,61.492221653527785,61.492221653527785,43.645373215625284],\"yaxis\":\"y\",\"type\":\"scatter\"},{\"hoverinfo\":\"text\",\"marker\":{\"color\":\"rgb(0,116,217)\"},\"mode\":\"lines\",\"x\":[1459.8828125,1459.8828125,2626.66015625,2626.66015625],\"xaxis\":\"x\",\"y\":[29.888923309779127,92.35093866963926,92.35093866963926,61.492221653527785],\"yaxis\":\"y\",\"type\":\"scatter\"},{\"hoverinfo\":\"text\",\"marker\":{\"color\":\"rgb(0,116,217)\"},\"mode\":\"lines\",\"x\":[455.166015625,455.166015625,2043.271484375,2043.271484375],\"xaxis\":\"x\",\"y\":[43.62476541437344,125.00628647265265,125.00628647265265,92.35093866963926],\"yaxis\":\"y\",\"type\":\"scatter\"}],                        {\"autosize\":false,\"height\":600,\"hovermode\":\"closest\",\"showlegend\":false,\"width\":1100,\"xaxis\":{\"mirror\":\"allticks\",\"rangemode\":\"tozero\",\"showgrid\":false,\"showline\":true,\"showticklabels\":true,\"tickmode\":\"array\",\"ticks\":\"outside\",\"ticktext\":[\"193\",\"197\",\"74\",\"181\",\"189\",\"177\",\"185\",\"289\",\"293\",\"58\",\"59\",\"71\",\"72\",\"201\",\"205\",\"169\",\"161\",\"225\",\"61\",\"173\",\"73\",\"165\",\"60\",\"229\",\"188\",\"292\",\"168\",\"224\",\"288\",\"160\",\"184\",\"240\",\"244\",\"208\",\"212\",\"228\",\"164\",\"172\",\"57\",\"70\",\"204\",\"200\",\"56\",\"232\",\"312\",\"236\",\"316\",\"209\",\"84\",\"85\",\"98\",\"186\",\"202\",\"314\",\"92\",\"105\",\"295\",\"179\",\"291\",\"114\",\"290\",\"182\",\"238\",\"246\",\"318\",\"234\",\"242\",\"294\",\"190\",\"206\",\"93\",\"106\",\"233\",\"313\",\"237\",\"317\",\"241\",\"245\",\"213\",\"86\",\"99\",\"87\",\"100\",\"88\",\"101\",\"210\",\"214\",\"104\",\"89\",\"102\",\"91\",\"90\",\"103\",\"78\",\"174\",\"230\",\"36\",\"64\",\"49\",\"77\",\"118\",\"198\",\"194\",\"170\",\"178\",\"226\",\"37\",\"65\",\"50\",\"158\",\"48\",\"76\",\"34\",\"35\",\"63\",\"45\",\"221\",\"32\",\"33\",\"62\",\"46\",\"47\",\"75\",\"250\",\"254\",\"251\",\"255\",\"278\",\"286\",\"274\",\"282\",\"258\",\"262\",\"306\",\"310\",\"218\",\"154\",\"162\",\"8\",\"9\",\"21\",\"22\",\"166\",\"222\",\"23\",\"79\",\"10\",\"66\",\"307\",\"67\",\"80\",\"175\",\"231\",\"68\",\"81\",\"191\",\"115\",\"83\",\"69\",\"82\",\"215\",\"111\",\"97\",\"110\",\"259\",\"263\",\"319\",\"107\",\"94\",\"211\",\"203\",\"39\",\"155\",\"52\",\"38\",\"51\",\"235\",\"283\",\"243\",\"275\",\"315\",\"159\",\"183\",\"279\",\"239\",\"287\",\"27\",\"55\",\"199\",\"311\",\"26\",\"167\",\"54\",\"223\",\"207\",\"13\",\"41\",\"12\",\"40\",\"24\",\"25\",\"53\",\"195\",\"171\",\"227\",\"187\",\"219\",\"11\",\"163\",\"247\",\"95\",\"108\",\"96\",\"109\",\"249\",\"253\",\"248\",\"252\",\"176\",\"216\",\"28\",\"29\",\"42\",\"196\",\"180\",\"220\",\"31\",\"217\",\"30\",\"43\",\"44\",\"117\",\"157\",\"113\",\"153\",\"137\",\"257\",\"141\",\"261\",\"7\",\"20\",\"6\",\"19\",\"5\",\"18\",\"3\",\"16\",\"4\",\"17\",\"305\",\"309\",\"285\",\"125\",\"277\",\"140\",\"260\",\"136\",\"120\",\"256\",\"2\",\"15\",\"116\",\"1\",\"14\",\"156\",\"192\",\"0\",\"112\",\"152\",\"128\",\"132\",\"129\",\"133\",\"297\",\"301\",\"121\",\"273\",\"281\",\"296\",\"300\",\"124\",\"304\",\"308\",\"145\",\"149\",\"265\",\"269\",\"264\",\"268\",\"284\",\"148\",\"276\",\"280\",\"144\",\"272\",\"267\",\"271\",\"130\",\"134\",\"266\",\"270\",\"298\",\"302\",\"147\",\"299\",\"150\",\"146\",\"122\",\"138\",\"123\",\"139\",\"126\",\"142\",\"131\",\"135\",\"143\",\"119\",\"303\",\"127\",\"151\"],\"tickvals\":[5,15,25,35,45,55,65,75,85,95,105,115,125,135,145,155,165,175,185,195,205,215,225,235,245,255,265,275,285,295,305,315,325,335,345,355,365,375,385,395,405,415,425,435,445,455,465,475,485,495,505,515,525,535,545,555,565,575,585,595,605,615,625,635,645,655,665,675,685,695,705,715,725,735,745,755,765,775,785,795,805,815,825,835,845,855,865,875,885,895,905,915,925,935,945,955,965,975,985,995,1005,1015,1025,1035,1045,1055,1065,1075,1085,1095,1105,1115,1125,1135,1145,1155,1165,1175,1185,1195,1205,1215,1225,1235,1245,1255,1265,1275,1285,1295,1305,1315,1325,1335,1345,1355,1365,1375,1385,1395,1405,1415,1425,1435,1445,1455,1465,1475,1485,1495,1505,1515,1525,1535,1545,1555,1565,1575,1585,1595,1605,1615,1625,1635,1645,1655,1665,1675,1685,1695,1705,1715,1725,1735,1745,1755,1765,1775,1785,1795,1805,1815,1825,1835,1845,1855,1865,1875,1885,1895,1905,1915,1925,1935,1945,1955,1965,1975,1985,1995,2005,2015,2025,2035,2045,2055,2065,2075,2085,2095,2105,2115,2125,2135,2145,2155,2165,2175,2185,2195,2205,2215,2225,2235,2245,2255,2265,2275,2285,2295,2305,2315,2325,2335,2345,2355,2365,2375,2385,2395,2405,2415,2425,2435,2445,2455,2465,2475,2485,2495,2505,2515,2525,2535,2545,2555,2565,2575,2585,2595,2605,2615,2625,2635,2645,2655,2665,2675,2685,2695,2705,2715,2725,2735,2745,2755,2765,2775,2785,2795,2805,2815,2825,2835,2845,2855,2865,2875,2885,2895,2905,2915,2925,2935,2945,2955,2965,2975,2985,2995,3005,3015,3025,3035,3045,3055,3065,3075,3085,3095,3105,3115,3125,3135,3145,3155,3165,3175,3185,3195],\"type\":\"linear\",\"zeroline\":false},\"yaxis\":{\"mirror\":\"allticks\",\"rangemode\":\"tozero\",\"showgrid\":false,\"showline\":true,\"showticklabels\":true,\"ticks\":\"outside\",\"type\":\"linear\",\"zeroline\":false,\"title\":{\"text\":\"Euclidean Distance\"}},\"template\":{\"data\":{\"bar\":[{\"error_x\":{\"color\":\"#2a3f5f\"},\"error_y\":{\"color\":\"#2a3f5f\"},\"marker\":{\"line\":{\"color\":\"#E5ECF6\",\"width\":0.5},\"pattern\":{\"fillmode\":\"overlay\",\"size\":10,\"solidity\":0.2}},\"type\":\"bar\"}],\"barpolar\":[{\"marker\":{\"line\":{\"color\":\"#E5ECF6\",\"width\":0.5},\"pattern\":{\"fillmode\":\"overlay\",\"size\":10,\"solidity\":0.2}},\"type\":\"barpolar\"}],\"carpet\":[{\"aaxis\":{\"endlinecolor\":\"#2a3f5f\",\"gridcolor\":\"white\",\"linecolor\":\"white\",\"minorgridcolor\":\"white\",\"startlinecolor\":\"#2a3f5f\"},\"baxis\":{\"endlinecolor\":\"#2a3f5f\",\"gridcolor\":\"white\",\"linecolor\":\"white\",\"minorgridcolor\":\"white\",\"startlinecolor\":\"#2a3f5f\"},\"type\":\"carpet\"}],\"choropleth\":[{\"colorbar\":{\"outlinewidth\":0,\"ticks\":\"\"},\"type\":\"choropleth\"}],\"contour\":[{\"colorbar\":{\"outlinewidth\":0,\"ticks\":\"\"},\"colorscale\":[[0.0,\"#0d0887\"],[0.1111111111111111,\"#46039f\"],[0.2222222222222222,\"#7201a8\"],[0.3333333333333333,\"#9c179e\"],[0.4444444444444444,\"#bd3786\"],[0.5555555555555556,\"#d8576b\"],[0.6666666666666666,\"#ed7953\"],[0.7777777777777778,\"#fb9f3a\"],[0.8888888888888888,\"#fdca26\"],[1.0,\"#f0f921\"]],\"type\":\"contour\"}],\"contourcarpet\":[{\"colorbar\":{\"outlinewidth\":0,\"ticks\":\"\"},\"type\":\"contourcarpet\"}],\"heatmap\":[{\"colorbar\":{\"outlinewidth\":0,\"ticks\":\"\"},\"colorscale\":[[0.0,\"#0d0887\"],[0.1111111111111111,\"#46039f\"],[0.2222222222222222,\"#7201a8\"],[0.3333333333333333,\"#9c179e\"],[0.4444444444444444,\"#bd3786\"],[0.5555555555555556,\"#d8576b\"],[0.6666666666666666,\"#ed7953\"],[0.7777777777777778,\"#fb9f3a\"],[0.8888888888888888,\"#fdca26\"],[1.0,\"#f0f921\"]],\"type\":\"heatmap\"}],\"heatmapgl\":[{\"colorbar\":{\"outlinewidth\":0,\"ticks\":\"\"},\"colorscale\":[[0.0,\"#0d0887\"],[0.1111111111111111,\"#46039f\"],[0.2222222222222222,\"#7201a8\"],[0.3333333333333333,\"#9c179e\"],[0.4444444444444444,\"#bd3786\"],[0.5555555555555556,\"#d8576b\"],[0.6666666666666666,\"#ed7953\"],[0.7777777777777778,\"#fb9f3a\"],[0.8888888888888888,\"#fdca26\"],[1.0,\"#f0f921\"]],\"type\":\"heatmapgl\"}],\"histogram\":[{\"marker\":{\"pattern\":{\"fillmode\":\"overlay\",\"size\":10,\"solidity\":0.2}},\"type\":\"histogram\"}],\"histogram2d\":[{\"colorbar\":{\"outlinewidth\":0,\"ticks\":\"\"},\"colorscale\":[[0.0,\"#0d0887\"],[0.1111111111111111,\"#46039f\"],[0.2222222222222222,\"#7201a8\"],[0.3333333333333333,\"#9c179e\"],[0.4444444444444444,\"#bd3786\"],[0.5555555555555556,\"#d8576b\"],[0.6666666666666666,\"#ed7953\"],[0.7777777777777778,\"#fb9f3a\"],[0.8888888888888888,\"#fdca26\"],[1.0,\"#f0f921\"]],\"type\":\"histogram2d\"}],\"histogram2dcontour\":[{\"colorbar\":{\"outlinewidth\":0,\"ticks\":\"\"},\"colorscale\":[[0.0,\"#0d0887\"],[0.1111111111111111,\"#46039f\"],[0.2222222222222222,\"#7201a8\"],[0.3333333333333333,\"#9c179e\"],[0.4444444444444444,\"#bd3786\"],[0.5555555555555556,\"#d8576b\"],[0.6666666666666666,\"#ed7953\"],[0.7777777777777778,\"#fb9f3a\"],[0.8888888888888888,\"#fdca26\"],[1.0,\"#f0f921\"]],\"type\":\"histogram2dcontour\"}],\"mesh3d\":[{\"colorbar\":{\"outlinewidth\":0,\"ticks\":\"\"},\"type\":\"mesh3d\"}],\"parcoords\":[{\"line\":{\"colorbar\":{\"outlinewidth\":0,\"ticks\":\"\"}},\"type\":\"parcoords\"}],\"pie\":[{\"automargin\":true,\"type\":\"pie\"}],\"scatter\":[{\"marker\":{\"colorbar\":{\"outlinewidth\":0,\"ticks\":\"\"}},\"type\":\"scatter\"}],\"scatter3d\":[{\"line\":{\"colorbar\":{\"outlinewidth\":0,\"ticks\":\"\"}},\"marker\":{\"colorbar\":{\"outlinewidth\":0,\"ticks\":\"\"}},\"type\":\"scatter3d\"}],\"scattercarpet\":[{\"marker\":{\"colorbar\":{\"outlinewidth\":0,\"ticks\":\"\"}},\"type\":\"scattercarpet\"}],\"scattergeo\":[{\"marker\":{\"colorbar\":{\"outlinewidth\":0,\"ticks\":\"\"}},\"type\":\"scattergeo\"}],\"scattergl\":[{\"marker\":{\"colorbar\":{\"outlinewidth\":0,\"ticks\":\"\"}},\"type\":\"scattergl\"}],\"scattermapbox\":[{\"marker\":{\"colorbar\":{\"outlinewidth\":0,\"ticks\":\"\"}},\"type\":\"scattermapbox\"}],\"scatterpolar\":[{\"marker\":{\"colorbar\":{\"outlinewidth\":0,\"ticks\":\"\"}},\"type\":\"scatterpolar\"}],\"scatterpolargl\":[{\"marker\":{\"colorbar\":{\"outlinewidth\":0,\"ticks\":\"\"}},\"type\":\"scatterpolargl\"}],\"scatterternary\":[{\"marker\":{\"colorbar\":{\"outlinewidth\":0,\"ticks\":\"\"}},\"type\":\"scatterternary\"}],\"surface\":[{\"colorbar\":{\"outlinewidth\":0,\"ticks\":\"\"},\"colorscale\":[[0.0,\"#0d0887\"],[0.1111111111111111,\"#46039f\"],[0.2222222222222222,\"#7201a8\"],[0.3333333333333333,\"#9c179e\"],[0.4444444444444444,\"#bd3786\"],[0.5555555555555556,\"#d8576b\"],[0.6666666666666666,\"#ed7953\"],[0.7777777777777778,\"#fb9f3a\"],[0.8888888888888888,\"#fdca26\"],[1.0,\"#f0f921\"]],\"type\":\"surface\"}],\"table\":[{\"cells\":{\"fill\":{\"color\":\"#EBF0F8\"},\"line\":{\"color\":\"white\"}},\"header\":{\"fill\":{\"color\":\"#C8D4E3\"},\"line\":{\"color\":\"white\"}},\"type\":\"table\"}]},\"layout\":{\"annotationdefaults\":{\"arrowcolor\":\"#2a3f5f\",\"arrowhead\":0,\"arrowwidth\":1},\"autotypenumbers\":\"strict\",\"coloraxis\":{\"colorbar\":{\"outlinewidth\":0,\"ticks\":\"\"}},\"colorscale\":{\"diverging\":[[0,\"#8e0152\"],[0.1,\"#c51b7d\"],[0.2,\"#de77ae\"],[0.3,\"#f1b6da\"],[0.4,\"#fde0ef\"],[0.5,\"#f7f7f7\"],[0.6,\"#e6f5d0\"],[0.7,\"#b8e186\"],[0.8,\"#7fbc41\"],[0.9,\"#4d9221\"],[1,\"#276419\"]],\"sequential\":[[0.0,\"#0d0887\"],[0.1111111111111111,\"#46039f\"],[0.2222222222222222,\"#7201a8\"],[0.3333333333333333,\"#9c179e\"],[0.4444444444444444,\"#bd3786\"],[0.5555555555555556,\"#d8576b\"],[0.6666666666666666,\"#ed7953\"],[0.7777777777777778,\"#fb9f3a\"],[0.8888888888888888,\"#fdca26\"],[1.0,\"#f0f921\"]],\"sequentialminus\":[[0.0,\"#0d0887\"],[0.1111111111111111,\"#46039f\"],[0.2222222222222222,\"#7201a8\"],[0.3333333333333333,\"#9c179e\"],[0.4444444444444444,\"#bd3786\"],[0.5555555555555556,\"#d8576b\"],[0.6666666666666666,\"#ed7953\"],[0.7777777777777778,\"#fb9f3a\"],[0.8888888888888888,\"#fdca26\"],[1.0,\"#f0f921\"]]},\"colorway\":[\"#636efa\",\"#EF553B\",\"#00cc96\",\"#ab63fa\",\"#FFA15A\",\"#19d3f3\",\"#FF6692\",\"#B6E880\",\"#FF97FF\",\"#FECB52\"],\"font\":{\"color\":\"#2a3f5f\"},\"geo\":{\"bgcolor\":\"white\",\"lakecolor\":\"white\",\"landcolor\":\"#E5ECF6\",\"showlakes\":true,\"showland\":true,\"subunitcolor\":\"white\"},\"hoverlabel\":{\"align\":\"left\"},\"hovermode\":\"closest\",\"mapbox\":{\"style\":\"light\"},\"paper_bgcolor\":\"white\",\"plot_bgcolor\":\"#E5ECF6\",\"polar\":{\"angularaxis\":{\"gridcolor\":\"white\",\"linecolor\":\"white\",\"ticks\":\"\"},\"bgcolor\":\"#E5ECF6\",\"radialaxis\":{\"gridcolor\":\"white\",\"linecolor\":\"white\",\"ticks\":\"\"}},\"scene\":{\"xaxis\":{\"backgroundcolor\":\"#E5ECF6\",\"gridcolor\":\"white\",\"gridwidth\":2,\"linecolor\":\"white\",\"showbackground\":true,\"ticks\":\"\",\"zerolinecolor\":\"white\"},\"yaxis\":{\"backgroundcolor\":\"#E5ECF6\",\"gridcolor\":\"white\",\"gridwidth\":2,\"linecolor\":\"white\",\"showbackground\":true,\"ticks\":\"\",\"zerolinecolor\":\"white\"},\"zaxis\":{\"backgroundcolor\":\"#E5ECF6\",\"gridcolor\":\"white\",\"gridwidth\":2,\"linecolor\":\"white\",\"showbackground\":true,\"ticks\":\"\",\"zerolinecolor\":\"white\"}},\"shapedefaults\":{\"line\":{\"color\":\"#2a3f5f\"}},\"ternary\":{\"aaxis\":{\"gridcolor\":\"white\",\"linecolor\":\"white\",\"ticks\":\"\"},\"baxis\":{\"gridcolor\":\"white\",\"linecolor\":\"white\",\"ticks\":\"\"},\"bgcolor\":\"#E5ECF6\",\"caxis\":{\"gridcolor\":\"white\",\"linecolor\":\"white\",\"ticks\":\"\"}},\"title\":{\"x\":0.05},\"xaxis\":{\"automargin\":true,\"gridcolor\":\"white\",\"linecolor\":\"white\",\"ticks\":\"\",\"title\":{\"standoff\":15},\"zerolinecolor\":\"white\",\"zerolinewidth\":2},\"yaxis\":{\"automargin\":true,\"gridcolor\":\"white\",\"linecolor\":\"white\",\"ticks\":\"\",\"title\":{\"standoff\":15},\"zerolinecolor\":\"white\",\"zerolinewidth\":2}}},\"title\":{\"text\":\"Hierarchical Clustering\"}},                        {\"responsive\": true}                    ).then(function(){\n",
              "                            \n",
              "var gd = document.getElementById('5d5e7cb3-c5e6-49b2-8376-49e9345b60c0');\n",
              "var x = new MutationObserver(function (mutations, observer) {{\n",
              "        var display = window.getComputedStyle(gd).display;\n",
              "        if (!display || display === 'none') {{\n",
              "            console.log([gd, 'removed!']);\n",
              "            Plotly.purge(gd);\n",
              "            observer.disconnect();\n",
              "        }}\n",
              "}});\n",
              "\n",
              "// Listen for the removal of the full notebook cells\n",
              "var notebookContainer = gd.closest('#notebook-container');\n",
              "if (notebookContainer) {{\n",
              "    x.observe(notebookContainer, {childList: true});\n",
              "}}\n",
              "\n",
              "// Listen for the clearing of the current output cell\n",
              "var outputEl = gd.closest('.output');\n",
              "if (outputEl) {{\n",
              "    x.observe(outputEl, {childList: true});\n",
              "}}\n",
              "\n",
              "                        })                };                            </script>        </div>\n",
              "</body>\n",
              "</html>"
            ]
          },
          "metadata": {}
        }
      ]
    },
    {
      "cell_type": "markdown",
      "source": [
        "#### Hierárquico (3 Clusters)"
      ],
      "metadata": {
        "id": "m973fNTJGj1q"
      }
    },
    {
      "cell_type": "code",
      "source": [
        "hierarquico = AgglomerativeClustering(n_clusters=3, affinity='euclidean', \n",
        "                                     linkage = 'average')\n",
        "valores_analise = {\n",
        "    'jaccard': [],\n",
        "    'silhouette': [],\n",
        "    'variation': []\n",
        "    }"
      ],
      "metadata": {
        "id": "PAndRlh4GxlP"
      },
      "execution_count": 1059,
      "outputs": []
    },
    {
      "cell_type": "code",
      "source": [
        "clustering_a1 = hierarquico.fit_predict(dataset_a1)\n",
        "valores_analise['silhouette'].append(silhouette_score(dataset_a1, clustering_a1))\n",
        "valores_analise['jaccard'].append(jaccard_score(resultados, clustering_a1, average='macro'))\n",
        "valores_analise['variation'].append('A1')"
      ],
      "metadata": {
        "id": "cRtlON9MHFgY"
      },
      "execution_count": 1060,
      "outputs": []
    },
    {
      "cell_type": "code",
      "source": [
        "show_scatter_no_centroids(dataset_a1, clustering_a1)"
      ],
      "metadata": {
        "id": "Jj8iRkKLHOMf",
        "colab": {
          "base_uri": "https://localhost:8080/",
          "height": 0
        },
        "outputId": "a4b632ea-6b89-4ab7-dd59-b40d0846207c"
      },
      "execution_count": 1061,
      "outputs": [
        {
          "output_type": "display_data",
          "data": {
            "text/plain": [
              "<Figure size 432x288 with 1 Axes>"
            ],
            "image/png": "[encoded data removed]"
          },
          "metadata": {
            "needs_background": "light"
          }
        }
      ]
    },
    {
      "cell_type": "code",
      "source": [
        "dataset_a1_cluster = dataset_a1.copy()\n",
        "dataset_a1_cluster['Cluster'] = clustering_a1\n",
        "\n",
        "show_3d_clusters(dataset_a1_cluster)"
      ],
      "metadata": {
        "id": "eN6-CfxEHnwa",
        "colab": {
          "base_uri": "https://localhost:8080/",
          "height": 0
        },
        "outputId": "03c36b06-bffa-4f8a-9c34-b7116fa9db55"
      },
      "execution_count": 1062,
      "outputs": [
        {
          "output_type": "display_data",
          "data": {
            "text/html": [
              "<html>\n",
              "<head><meta charset=\"utf-8\" /></head>\n",
              "<body>\n",
              "    <div>            <script src=\"https://cdnjs.cloudflare.com/ajax/libs/mathjax/2.7.5/MathJax.js?config=TeX-AMS-MML_SVG\"></script><script type=\"text/javascript\">if (window.MathJax) {MathJax.Hub.Config({SVG: {font: \"STIX-Web\"}});}</script>                <script type=\"text/javascript\">window.PlotlyConfig = {MathJaxConfig: 'local'};</script>\n",
              "        <script src=\"https://cdn.plot.ly/plotly-2.8.3.min.js\"></script>                <div id=\"653b5721-8d27-45b1-9dcb-b0b9f753e37d\" class=\"plotly-graph-div\" style=\"height:600px; width:1100px;\"></div>            <script type=\"text/javascript\">                                    window.PLOTLYENV=window.PLOTLYENV || {};                                    if (document.getElementById(\"653b5721-8d27-45b1-9dcb-b0b9f753e37d\")) {                    Plotly.newPlot(                        \"653b5721-8d27-45b1-9dcb-b0b9f753e37d\",                        [{\"hovertemplate\":\"Altura da Mar\\u00e9 (m)=%{x}<br>Velocidade do Vento (Km/h)=%{y}<br>Chuva (mm)=%{z}<br>Cluster=%{marker.color}<extra></extra>\",\"legendgroup\":\"\",\"marker\":{\"color\":[0,0,0,0,0,0,0,0,2,2,2,2,2,2,0,0,0,0,0,0,0,2,2,2,2,2,2,2,2,2,2,2,2,2,2,2,2,2,2,2,2,2,2,2,2,2,2,2,2,2,2,2,2,2,2,2,2,2,2,2,2,2,2,2,2,2,2,2,2,2,2,2,2,2,2,2,2,2,2,2,2,2,2,2,2,2,2,1,1,1,1,1,2,2,2,2,2,2,2,2,1,1,1,1,1,2,2,2,2,2,2,2,0,0,2,2,0,0,2,0,0,0,0,0,0,0,0,0,0,0,0,0,0,0,0,0,0,0,0,0,0,0,0,0,0,0,0,0,0,0,0,0,0,0,2,2,0,0,2,2,2,2,2,2,2,2,2,2,2,2,2,2,2,2,2,2,2,2,2,2,2,2,2,2,2,2,2,2,2,2,2,2,0,2,2,2,2,2,2,2,2,2,2,2,2,2,2,2,2,2,1,2,2,2,1,2,2,2,2,2,2,2,2,2,2,2,2,2,2,2,2,2,2,2,2,2,2,2,2,2,2,2,2,2,2,2,2,2,0,0,2,2,0,0,2,2,0,0,2,2,0,0,2,2,0,0,0,0,0,0,0,0,0,0,2,2,0,0,2,2,0,0,2,2,0,0,2,2,2,2,2,2,2,2,2,2,0,0,0,0,0,0,0,0,0,0,2,2,0,0,2,2,2,2,2,2,2,2,2,2],\"coloraxis\":\"coloraxis\",\"opacity\":0.8,\"symbol\":\"circle\"},\"mode\":\"markers\",\"name\":\"\",\"scene\":\"scene\",\"showlegend\":false,\"x\":[1.2,1.6,1.8,1.9,1.8,1.6,1.2,0.7,0.5,0.4,0.5,0.6,1.0,1.5,1.7,1.9,1.9,1.7,1.3,0.9,0.5,0.4,0.4,0.5,0.7,1.3,1.6,1.8,0.9,1.2,1.4,1.6,1.7,1.6,1.4,1.2,0.9,0.7,0.6,0.7,0.8,1.0,1.4,1.6,1.7,1.7,1.6,1.4,1.0,0.4,0.6,0.6,0.7,0.8,1.2,1.4,0.8,0.9,1.1,1.2,1.5,1.6,1.6,1.5,1.4,1.1,0.8,0.7,0.7,0.8,1.0,1.3,1.4,1.5,1.6,1.5,1.4,1.3,0.9,0.8,0.7,0.7,0.8,1.0,0.8,0.7,0.6,0.7,0.8,1.2,1.5,1.7,1.8,1.7,1.5,1.3,0.9,0.7,0.6,0.6,0.7,0.9,1.4,1.6,1.8,1.8,1.6,1.4,1.1,0.7,0.5,0.5,1.2,0.5,1.9,1.4,0.7,0.8,2.0,0.5,1.9,0.4,1.5,2.1,1.1,0.2,2.1,1.7,2.2,0.7,0.8,2.3,1.7,0.2,1.7,2.1,2.1,1.0,0.5,2.1,1.8,0.2,1.5,2.1,2.1,1.4,0.4,2.1,2.0,0.7,0.9,2.2,1.6,1.7,0.5,1.3,1.8,1.4,0.6,1.6,1.2,1.7,0.7,0.9,1.6,1.6,0.6,1.4,0.9,1.5,1.0,0.7,1.3,1.6,0.7,1.0,0.7,1.2,1.4,0.6,0.9,1.5,0.9,0.6,0.6,0.8,1.8,0.7,0.6,1.3,1.5,0.5,2.0,0.0,1.8,1.5,0.8,-0.1,2.5,1.8,2.2,0.3,1.2,2.6,1.5,-0.2,2.2,2.2,1.5,1.9,0.4,0.9,1.8,1.6,0.4,1.5,1.0,1.7,0.7,0.7,1.5,1.7,0.6,1.2,0.8,1.5,1.2,0.7,1.1,1.6,0.9,0.8,0.7,0.8,1.8,0.8,0.6,1.1,1.6,0.6,1.4,0.3,2.0,1.8,0.7,0.4,2.2,1.0,2.0,0.5,1.2,2.3,1.4,0.1,2.0,2.0,2.1,0.9,0.9,2.2,1.7,0.2,1.6,2.0,1.8,1.6,0.3,1.7,1.9,0.8,0.7,2.0,1.6,1.8,0.4,1.4,1.8,1.2,0.5,1.9,0.9,1.7,0.8,0.6,1.3,1.7,0.6,1.0,0.6,0.1,2.3,1.5,0.1,0.5,2.3,0.5,1.1,0.0,2.2,2.0,0.2,0.2,2.5,0.9,1.7,-0.1,2.0,2.4,0.5,-0.1,2.5,1.5,2.2,0.5,0.9,2.5,1.6,-0.1,2.0,2.3],\"y\":[22.5,23.0,23.5,24.0,24.0,24.0,23.5,23.0,22.0,21.0,20.0,19.0,19.0,19.0,23.0,23.5,24.0,24.0,23.5,23.0,23.0,21.0,20.0,20.0,19.0,19.0,20.0,22.0,20.0,20.0,19.0,18.0,18.0,18.0,18.5,19.0,18.5,18.0,17.0,16.0,18.0,20.0,19.5,18.5,18.0,18.0,18.25,18.75,18.75,18.25,17.5,16.5,17.0,19.0,20.25,20.75,13.0,12.0,12.0,12.0,13.0,14.0,16.5,19.0,18.5,18.0,19.5,21.0,22.5,24.0,12.5,12.0,12.0,13.5,15.25,17.75,18.75,18.25,18.75,20.25,21.75,23.25,24.25,24.75,12.5,11.0,9.0,7.0,5.5,4.0,3.5,3.0,8.0,13.0,16.0,19.0,20.5,22.0,11.75,10.0,6.25,4.75,3.75,3.25,5.5,10.5,14.5,17.5,19.75,21.25,22.25,22.75,23.0,22.0,16.0,24.0,22.75,21.25,17.75,27.0,25.0,27.0,27.5,28.75,26.25,25.5,29.0,28.0,35.5,34.0,32.5,31.25,34.75,33.25,31.75,32.0,26.0,23.0,28.0,29.25,24.5,23.25,29.0,30.0,30.0,30.0,28.0,27.0,30.0,30.25,27.0,28.0,23.0,21.0,19.5,16.75,22.5,20.75,16.75,17.0,16.5,13.0,20.0,19.25,14.5,13.25,20.5,20.0,15.5,14.0,17.5,19.75,14.75,14.0,19.0,22.0,19.0,16.0,17.0,14.5,17.5,15.75,15.5,16.0,16.5,15.0,11.0,19.25,15.75,14.75,12.75,23.0,21.0,18.0,17.5,18.75,19.5,16.5,18.0,21.0,13.0,13.0,11.0,17.5,13.0,13.0,13.25,19.0,16.5,12.0,2.5,16.25,14.25,9.0,4.25,23.0,18.5,18.0,20.5,19.25,18.0,18.0,20.5,20.0,14.5,13.0,17.0,19.75,13.75,12.25,19.0,22.0,13.5,9.0,13.0,17.0,12.0,8.25,15.5,17.0,16.0,12.0,13.0,17.0,14.25,10.5,13.75,20.0,20.0,20.0,20.0,20.75,20.0,20.0,19.25,23.0,24.5,23.0,21.5,22.75,23.75,22.25,21.25,25.0,29.0,31.0,33.0,35.5,30.25,31.0,34.25,37.0,31.0,27.0,22.5,18.0,29.25,25.5,20.25,18.0,30.5,28.0,21.0,16.25,29.5,25.0,19.0,17.0,16.5,15.0,15.0,12.5,15.75,15.75,13.5,14.0,28.5,28.0,26.0,26.25,28.0,28.0,26.0,27.0,26.0,25.0,22.0,21.0,25.75,24.25,21.0,21.0,12.5,9.0,8.0,18.5,10.5,7.5,14.0,23.0],\"z\":[0.33,0.33,0.33,0.33,0.33,0.33,0.33,0.33,0.33,0.33,0.33,0.33,0.33,0.33,0.33,0.33,0.33,0.33,0.33,0.33,0.33,0.33,0.33,0.33,0.33,0.33,0.33,0.33,0.33,0.33,0.33,0.33,0.33,0.33,0.33,0.33,0.33,0.33,0.33,0.33,0.33,0.33,0.33,0.33,0.33,0.33,0.33,0.33,0.33,0.33,0.33,0.33,0.33,0.33,0.33,0.42,0.0,0.0,0.0,0.0,0.0,0.42,0.42,0.42,0.42,0.42,0.42,0.42,0.42,0.42,0.0,0.0,0.0,0.0,0.42,0.42,0.42,0.42,0.42,0.42,0.42,0.42,0.42,0.42,2.5,2.5,2.5,2.5,2.5,2.5,2.5,2.5,2.5,2.5,2.5,2.5,2.5,2.5,2.5,2.5,2.5,2.5,2.5,2.5,2.5,2.5,2.5,2.5,2.5,2.5,2.5,2.5,0.63,0.63,0.63,0.63,0.63,0.63,0.63,0.63,1.67,1.67,1.67,1.67,1.67,1.67,1.67,1.67,0.63,0.63,0.63,0.63,0.63,0.63,0.63,0.63,1.88,1.88,1.88,1.88,1.88,1.88,1.88,1.88,0.63,0.63,0.63,0.63,0.63,0.63,0.63,0.63,0.42,0.42,0.42,0.42,0.42,0.42,0.42,0.42,0.42,0.42,0.42,0.42,0.42,0.42,0.42,0.42,0.44,0.44,0.44,0.0,0.44,0.44,0.44,0.0,0.0,0.0,0.0,0.0,0.0,0.0,0.0,0.0,0.0,0.0,0.0,0.0,0.0,0.0,0.0,0.0,0.42,0.42,0.0,0.0,0.42,0.0,0.0,0.0,0.0,0.0,0.0,0.0,0.0,0.0,0.0,0.0,2.92,2.92,2.92,2.92,2.92,2.92,2.92,2.92,0.83,0.83,0.83,0.0,0.83,0.83,0.83,0.0,0.21,0.21,0.21,0.21,0.21,0.21,0.21,0.21,0.39,0.39,0.39,0.0,0.39,0.39,0.39,0.0,1.88,1.88,1.88,1.88,1.88,1.88,1.88,1.88,5.83,5.83,5.83,5.83,5.83,5.83,5.83,5.83,2.5,2.5,2.5,2.5,2.5,2.5,2.5,2.5,3.33,3.33,3.33,3.33,3.33,3.33,3.33,3.33,1.04,1.04,1.04,1.04,1.04,1.04,1.04,1.04,0.0,0.0,0.83,0.83,0.0,0.0,0.83,0.83,0.63,0.63,0.63,0.63,0.63,0.63,0.63,0.63,0.42,0.42,0.42,0.42,0.42,0.42,0.42,0.42,0.25,0.25,0.25,0.25,0.25,0.25,0.25,0.25,0.83,0.83,0.83,0.83,0.83,0.83,0.83,0.83],\"type\":\"scatter3d\"}],                        {\"template\":{\"data\":{\"bar\":[{\"error_x\":{\"color\":\"#2a3f5f\"},\"error_y\":{\"color\":\"#2a3f5f\"},\"marker\":{\"line\":{\"color\":\"#E5ECF6\",\"width\":0.5},\"pattern\":{\"fillmode\":\"overlay\",\"size\":10,\"solidity\":0.2}},\"type\":\"bar\"}],\"barpolar\":[{\"marker\":{\"line\":{\"color\":\"#E5ECF6\",\"width\":0.5},\"pattern\":{\"fillmode\":\"overlay\",\"size\":10,\"solidity\":0.2}},\"type\":\"barpolar\"}],\"carpet\":[{\"aaxis\":{\"endlinecolor\":\"#2a3f5f\",\"gridcolor\":\"white\",\"linecolor\":\"white\",\"minorgridcolor\":\"white\",\"startlinecolor\":\"#2a3f5f\"},\"baxis\":{\"endlinecolor\":\"#2a3f5f\",\"gridcolor\":\"white\",\"linecolor\":\"white\",\"minorgridcolor\":\"white\",\"startlinecolor\":\"#2a3f5f\"},\"type\":\"carpet\"}],\"choropleth\":[{\"colorbar\":{\"outlinewidth\":0,\"ticks\":\"\"},\"type\":\"choropleth\"}],\"contour\":[{\"colorbar\":{\"outlinewidth\":0,\"ticks\":\"\"},\"colorscale\":[[0.0,\"#0d0887\"],[0.1111111111111111,\"#46039f\"],[0.2222222222222222,\"#7201a8\"],[0.3333333333333333,\"#9c179e\"],[0.4444444444444444,\"#bd3786\"],[0.5555555555555556,\"#d8576b\"],[0.6666666666666666,\"#ed7953\"],[0.7777777777777778,\"#fb9f3a\"],[0.8888888888888888,\"#fdca26\"],[1.0,\"#f0f921\"]],\"type\":\"contour\"}],\"contourcarpet\":[{\"colorbar\":{\"outlinewidth\":0,\"ticks\":\"\"},\"type\":\"contourcarpet\"}],\"heatmap\":[{\"colorbar\":{\"outlinewidth\":0,\"ticks\":\"\"},\"colorscale\":[[0.0,\"#0d0887\"],[0.1111111111111111,\"#46039f\"],[0.2222222222222222,\"#7201a8\"],[0.3333333333333333,\"#9c179e\"],[0.4444444444444444,\"#bd3786\"],[0.5555555555555556,\"#d8576b\"],[0.6666666666666666,\"#ed7953\"],[0.7777777777777778,\"#fb9f3a\"],[0.8888888888888888,\"#fdca26\"],[1.0,\"#f0f921\"]],\"type\":\"heatmap\"}],\"heatmapgl\":[{\"colorbar\":{\"outlinewidth\":0,\"ticks\":\"\"},\"colorscale\":[[0.0,\"#0d0887\"],[0.1111111111111111,\"#46039f\"],[0.2222222222222222,\"#7201a8\"],[0.3333333333333333,\"#9c179e\"],[0.4444444444444444,\"#bd3786\"],[0.5555555555555556,\"#d8576b\"],[0.6666666666666666,\"#ed7953\"],[0.7777777777777778,\"#fb9f3a\"],[0.8888888888888888,\"#fdca26\"],[1.0,\"#f0f921\"]],\"type\":\"heatmapgl\"}],\"histogram\":[{\"marker\":{\"pattern\":{\"fillmode\":\"overlay\",\"size\":10,\"solidity\":0.2}},\"type\":\"histogram\"}],\"histogram2d\":[{\"colorbar\":{\"outlinewidth\":0,\"ticks\":\"\"},\"colorscale\":[[0.0,\"#0d0887\"],[0.1111111111111111,\"#46039f\"],[0.2222222222222222,\"#7201a8\"],[0.3333333333333333,\"#9c179e\"],[0.4444444444444444,\"#bd3786\"],[0.5555555555555556,\"#d8576b\"],[0.6666666666666666,\"#ed7953\"],[0.7777777777777778,\"#fb9f3a\"],[0.8888888888888888,\"#fdca26\"],[1.0,\"#f0f921\"]],\"type\":\"histogram2d\"}],\"histogram2dcontour\":[{\"colorbar\":{\"outlinewidth\":0,\"ticks\":\"\"},\"colorscale\":[[0.0,\"#0d0887\"],[0.1111111111111111,\"#46039f\"],[0.2222222222222222,\"#7201a8\"],[0.3333333333333333,\"#9c179e\"],[0.4444444444444444,\"#bd3786\"],[0.5555555555555556,\"#d8576b\"],[0.6666666666666666,\"#ed7953\"],[0.7777777777777778,\"#fb9f3a\"],[0.8888888888888888,\"#fdca26\"],[1.0,\"#f0f921\"]],\"type\":\"histogram2dcontour\"}],\"mesh3d\":[{\"colorbar\":{\"outlinewidth\":0,\"ticks\":\"\"},\"type\":\"mesh3d\"}],\"parcoords\":[{\"line\":{\"colorbar\":{\"outlinewidth\":0,\"ticks\":\"\"}},\"type\":\"parcoords\"}],\"pie\":[{\"automargin\":true,\"type\":\"pie\"}],\"scatter\":[{\"marker\":{\"colorbar\":{\"outlinewidth\":0,\"ticks\":\"\"}},\"type\":\"scatter\"}],\"scatter3d\":[{\"line\":{\"colorbar\":{\"outlinewidth\":0,\"ticks\":\"\"}},\"marker\":{\"colorbar\":{\"outlinewidth\":0,\"ticks\":\"\"}},\"type\":\"scatter3d\"}],\"scattercarpet\":[{\"marker\":{\"colorbar\":{\"outlinewidth\":0,\"ticks\":\"\"}},\"type\":\"scattercarpet\"}],\"scattergeo\":[{\"marker\":{\"colorbar\":{\"outlinewidth\":0,\"ticks\":\"\"}},\"type\":\"scattergeo\"}],\"scattergl\":[{\"marker\":{\"colorbar\":{\"outlinewidth\":0,\"ticks\":\"\"}},\"type\":\"scattergl\"}],\"scattermapbox\":[{\"marker\":{\"colorbar\":{\"outlinewidth\":0,\"ticks\":\"\"}},\"type\":\"scattermapbox\"}],\"scatterpolar\":[{\"marker\":{\"colorbar\":{\"outlinewidth\":0,\"ticks\":\"\"}},\"type\":\"scatterpolar\"}],\"scatterpolargl\":[{\"marker\":{\"colorbar\":{\"outlinewidth\":0,\"ticks\":\"\"}},\"type\":\"scatterpolargl\"}],\"scatterternary\":[{\"marker\":{\"colorbar\":{\"outlinewidth\":0,\"ticks\":\"\"}},\"type\":\"scatterternary\"}],\"surface\":[{\"colorbar\":{\"outlinewidth\":0,\"ticks\":\"\"},\"colorscale\":[[0.0,\"#0d0887\"],[0.1111111111111111,\"#46039f\"],[0.2222222222222222,\"#7201a8\"],[0.3333333333333333,\"#9c179e\"],[0.4444444444444444,\"#bd3786\"],[0.5555555555555556,\"#d8576b\"],[0.6666666666666666,\"#ed7953\"],[0.7777777777777778,\"#fb9f3a\"],[0.8888888888888888,\"#fdca26\"],[1.0,\"#f0f921\"]],\"type\":\"surface\"}],\"table\":[{\"cells\":{\"fill\":{\"color\":\"#EBF0F8\"},\"line\":{\"color\":\"white\"}},\"header\":{\"fill\":{\"color\":\"#C8D4E3\"},\"line\":{\"color\":\"white\"}},\"type\":\"table\"}]},\"layout\":{\"annotationdefaults\":{\"arrowcolor\":\"#2a3f5f\",\"arrowhead\":0,\"arrowwidth\":1},\"autotypenumbers\":\"strict\",\"coloraxis\":{\"colorbar\":{\"outlinewidth\":0,\"ticks\":\"\"}},\"colorscale\":{\"diverging\":[[0,\"#8e0152\"],[0.1,\"#c51b7d\"],[0.2,\"#de77ae\"],[0.3,\"#f1b6da\"],[0.4,\"#fde0ef\"],[0.5,\"#f7f7f7\"],[0.6,\"#e6f5d0\"],[0.7,\"#b8e186\"],[0.8,\"#7fbc41\"],[0.9,\"#4d9221\"],[1,\"#276419\"]],\"sequential\":[[0.0,\"#0d0887\"],[0.1111111111111111,\"#46039f\"],[0.2222222222222222,\"#7201a8\"],[0.3333333333333333,\"#9c179e\"],[0.4444444444444444,\"#bd3786\"],[0.5555555555555556,\"#d8576b\"],[0.6666666666666666,\"#ed7953\"],[0.7777777777777778,\"#fb9f3a\"],[0.8888888888888888,\"#fdca26\"],[1.0,\"#f0f921\"]],\"sequentialminus\":[[0.0,\"#0d0887\"],[0.1111111111111111,\"#46039f\"],[0.2222222222222222,\"#7201a8\"],[0.3333333333333333,\"#9c179e\"],[0.4444444444444444,\"#bd3786\"],[0.5555555555555556,\"#d8576b\"],[0.6666666666666666,\"#ed7953\"],[0.7777777777777778,\"#fb9f3a\"],[0.8888888888888888,\"#fdca26\"],[1.0,\"#f0f921\"]]},\"colorway\":[\"#636efa\",\"#EF553B\",\"#00cc96\",\"#ab63fa\",\"#FFA15A\",\"#19d3f3\",\"#FF6692\",\"#B6E880\",\"#FF97FF\",\"#FECB52\"],\"font\":{\"color\":\"#2a3f5f\"},\"geo\":{\"bgcolor\":\"white\",\"lakecolor\":\"white\",\"landcolor\":\"#E5ECF6\",\"showlakes\":true,\"showland\":true,\"subunitcolor\":\"white\"},\"hoverlabel\":{\"align\":\"left\"},\"hovermode\":\"closest\",\"mapbox\":{\"style\":\"light\"},\"paper_bgcolor\":\"white\",\"plot_bgcolor\":\"#E5ECF6\",\"polar\":{\"angularaxis\":{\"gridcolor\":\"white\",\"linecolor\":\"white\",\"ticks\":\"\"},\"bgcolor\":\"#E5ECF6\",\"radialaxis\":{\"gridcolor\":\"white\",\"linecolor\":\"white\",\"ticks\":\"\"}},\"scene\":{\"xaxis\":{\"backgroundcolor\":\"#E5ECF6\",\"gridcolor\":\"white\",\"gridwidth\":2,\"linecolor\":\"white\",\"showbackground\":true,\"ticks\":\"\",\"zerolinecolor\":\"white\"},\"yaxis\":{\"backgroundcolor\":\"#E5ECF6\",\"gridcolor\":\"white\",\"gridwidth\":2,\"linecolor\":\"white\",\"showbackground\":true,\"ticks\":\"\",\"zerolinecolor\":\"white\"},\"zaxis\":{\"backgroundcolor\":\"#E5ECF6\",\"gridcolor\":\"white\",\"gridwidth\":2,\"linecolor\":\"white\",\"showbackground\":true,\"ticks\":\"\",\"zerolinecolor\":\"white\"}},\"shapedefaults\":{\"line\":{\"color\":\"#2a3f5f\"}},\"ternary\":{\"aaxis\":{\"gridcolor\":\"white\",\"linecolor\":\"white\",\"ticks\":\"\"},\"baxis\":{\"gridcolor\":\"white\",\"linecolor\":\"white\",\"ticks\":\"\"},\"bgcolor\":\"#E5ECF6\",\"caxis\":{\"gridcolor\":\"white\",\"linecolor\":\"white\",\"ticks\":\"\"}},\"title\":{\"x\":0.05},\"xaxis\":{\"automargin\":true,\"gridcolor\":\"white\",\"linecolor\":\"white\",\"ticks\":\"\",\"title\":{\"standoff\":15},\"zerolinecolor\":\"white\",\"zerolinewidth\":2},\"yaxis\":{\"automargin\":true,\"gridcolor\":\"white\",\"linecolor\":\"white\",\"ticks\":\"\",\"title\":{\"standoff\":15},\"zerolinecolor\":\"white\",\"zerolinewidth\":2}}},\"scene\":{\"domain\":{\"x\":[0.0,1.0],\"y\":[0.0,1.0]},\"xaxis\":{\"title\":{\"text\":\"Altura da Mar\\u00e9 (m)\"}},\"yaxis\":{\"title\":{\"text\":\"Velocidade do Vento (Km/h)\"}},\"zaxis\":{\"title\":{\"text\":\"Chuva (mm)\"}}},\"coloraxis\":{\"colorbar\":{\"title\":{\"text\":\"Cluster\"}},\"colorscale\":[[0.0,\"#0d0887\"],[0.1111111111111111,\"#46039f\"],[0.2222222222222222,\"#7201a8\"],[0.3333333333333333,\"#9c179e\"],[0.4444444444444444,\"#bd3786\"],[0.5555555555555556,\"#d8576b\"],[0.6666666666666666,\"#ed7953\"],[0.7777777777777778,\"#fb9f3a\"],[0.8888888888888888,\"#fdca26\"],[1.0,\"#f0f921\"]]},\"legend\":{\"tracegroupgap\":0},\"title\":{\"text\":\"3d scatter clusters\"},\"height\":600,\"width\":1100},                        {\"responsive\": true}                    ).then(function(){\n",
              "                            \n",
              "var gd = document.getElementById('653b5721-8d27-45b1-9dcb-b0b9f753e37d');\n",
              "var x = new MutationObserver(function (mutations, observer) {{\n",
              "        var display = window.getComputedStyle(gd).display;\n",
              "        if (!display || display === 'none') {{\n",
              "            console.log([gd, 'removed!']);\n",
              "            Plotly.purge(gd);\n",
              "            observer.disconnect();\n",
              "        }}\n",
              "}});\n",
              "\n",
              "// Listen for the removal of the full notebook cells\n",
              "var notebookContainer = gd.closest('#notebook-container');\n",
              "if (notebookContainer) {{\n",
              "    x.observe(notebookContainer, {childList: true});\n",
              "}}\n",
              "\n",
              "// Listen for the clearing of the current output cell\n",
              "var outputEl = gd.closest('.output');\n",
              "if (outputEl) {{\n",
              "    x.observe(outputEl, {childList: true});\n",
              "}}\n",
              "\n",
              "                        })                };                            </script>        </div>\n",
              "</body>\n",
              "</html>"
            ]
          },
          "metadata": {}
        }
      ]
    },
    {
      "cell_type": "code",
      "source": [
        "print('Coeficiente de Jaccard: {:.3f}'.format(valores_analise['jaccard'][0]))\n",
        "print('Silhueta: {:.3f}'.format(valores_analise['silhouette'][0]))"
      ],
      "metadata": {
        "id": "dwmU2VDWHquY",
        "colab": {
          "base_uri": "https://localhost:8080/"
        },
        "outputId": "90af77e5-2215-4cc7-bc2d-0201c88471f8"
      },
      "execution_count": 1063,
      "outputs": [
        {
          "output_type": "stream",
          "name": "stdout",
          "text": [
            "Coeficiente de Jaccard: 0.091\n",
            "Silhueta: 0.308\n"
          ]
        }
      ]
    },
    {
      "cell_type": "markdown",
      "source": [
        "##DBSCAN"
      ],
      "metadata": {
        "id": "OiyrvASH7pBx"
      }
    },
    {
      "cell_type": "code",
      "source": [
        "from sklearn.cluster import DBSCAN\n",
        "from sklearn import metrics\n",
        "from sklearn.datasets import make_blobs\n",
        "from sklearn.preprocessing import StandardScaler"
      ],
      "metadata": {
        "id": "cjuWmmgx7uIv"
      },
      "execution_count": 1064,
      "outputs": []
    },
    {
      "cell_type": "code",
      "source": [
        "X = dataset_a1.copy()\n",
        "db = DBSCAN(eps=3.2, min_samples=7).fit(X)\n",
        "core_samples_mask = np.zeros_like(db.labels_, dtype=bool)\n",
        "core_samples_mask[db.core_sample_indices_] = True\n",
        "labels = db.labels_\n",
        "\n",
        "# Number of clusters in labels, ignoring noise if present.\n",
        "n_clusters_ = len(set(labels)) - (1 if -1 in labels else 0)\n",
        "n_noise_ = list(labels).count(-1)\n",
        "\n",
        "print(\"Estimated number of clusters: %d\" % n_clusters_)\n",
        "print(\"Estimated number of noise points: %d\" % n_noise_)\n",
        "print(\"Silhouette Coefficient: %0.3f\" % metrics.silhouette_score(X, labels))"
      ],
      "metadata": {
        "colab": {
          "base_uri": "https://localhost:8080/"
        },
        "id": "FE4tES3h8dy4",
        "outputId": "b012fb52-99cb-40ee-a624-130385392e2a"
      },
      "execution_count": 1082,
      "outputs": [
        {
          "output_type": "stream",
          "name": "stdout",
          "text": [
            "Estimated number of clusters: 2\n",
            "Estimated number of noise points: 17\n",
            "Silhouette Coefficient: 0.196\n"
          ]
        }
      ]
    },
    {
      "cell_type": "code",
      "source": [
        "X['Cluster'] = labels\n",
        "\n",
        "show_3d_clusters(X)"
      ],
      "metadata": {
        "colab": {
          "base_uri": "https://localhost:8080/",
          "height": 0
        },
        "id": "O-gpl_EpM2Q7",
        "outputId": "938dfd6f-554a-4ee2-d652-868de9207e2c"
      },
      "execution_count": 1083,
      "outputs": [
        {
          "output_type": "display_data",
          "data": {
            "text/html": [
              "<html>\n",
              "<head><meta charset=\"utf-8\" /></head>\n",
              "<body>\n",
              "    <div>            <script src=\"https://cdnjs.cloudflare.com/ajax/libs/mathjax/2.7.5/MathJax.js?config=TeX-AMS-MML_SVG\"></script><script type=\"text/javascript\">if (window.MathJax) {MathJax.Hub.Config({SVG: {font: \"STIX-Web\"}});}</script>                <script type=\"text/javascript\">window.PlotlyConfig = {MathJaxConfig: 'local'};</script>\n",
              "        <script src=\"https://cdn.plot.ly/plotly-2.8.3.min.js\"></script>                <div id=\"3ca590d6-122d-471d-90e2-b29999256e06\" class=\"plotly-graph-div\" style=\"height:600px; width:1100px;\"></div>            <script type=\"text/javascript\">                                    window.PLOTLYENV=window.PLOTLYENV || {};                                    if (document.getElementById(\"3ca590d6-122d-471d-90e2-b29999256e06\")) {                    Plotly.newPlot(                        \"3ca590d6-122d-471d-90e2-b29999256e06\",                        [{\"hovertemplate\":\"Altura da Mar\\u00e9 (m)=%{x}<br>Velocidade do Vento (Km/h)=%{y}<br>Chuva (mm)=%{z}<br>Cluster=%{marker.color}<extra></extra>\",\"legendgroup\":\"\",\"marker\":{\"color\":[0,0,0,0,0,0,0,0,0,0,0,0,0,0,0,0,0,0,0,0,0,0,0,0,0,0,0,0,0,0,0,0,0,0,0,0,0,0,0,0,0,0,0,0,0,0,0,0,0,0,0,0,0,0,0,0,0,0,0,0,0,0,0,0,0,0,0,0,0,0,0,0,0,0,0,0,0,0,0,0,0,0,0,0,0,0,0,0,1,1,1,1,1,0,0,0,0,0,0,0,0,1,1,1,1,0,0,0,0,0,0,0,0,0,0,0,0,0,0,0,0,0,0,0,0,0,0,0,-1,-1,-1,0,-1,0,0,0,0,0,0,0,0,0,0,0,0,0,0,0,0,0,0,0,0,0,0,0,0,0,0,0,0,0,0,0,0,0,0,0,0,0,0,0,0,0,0,0,0,0,0,0,0,0,0,0,0,0,0,0,0,0,0,0,0,0,0,0,0,0,0,0,0,0,0,0,0,0,0,0,0,0,1,0,0,0,1,0,0,0,0,0,0,0,0,0,0,0,0,0,0,0,0,0,0,0,0,0,0,0,0,0,0,0,0,0,0,0,0,0,-1,-1,-1,-1,-1,-1,-1,-1,0,0,0,0,0,0,0,0,0,0,-1,-1,0,0,-1,-1,0,0,0,0,0,0,0,0,0,0,0,0,0,0,0,0,0,0,0,0,0,0,0,0,0,0,0,0,0,0,0,0,0,0,0,0,0,0,0,0,0,0,-1,0,0,0,0,0],\"coloraxis\":\"coloraxis\",\"opacity\":0.8,\"symbol\":\"circle\"},\"mode\":\"markers\",\"name\":\"\",\"scene\":\"scene\",\"showlegend\":false,\"x\":[1.2,1.6,1.8,1.9,1.8,1.6,1.2,0.7,0.5,0.4,0.5,0.6,1.0,1.5,1.7,1.9,1.9,1.7,1.3,0.9,0.5,0.4,0.4,0.5,0.7,1.3,1.6,1.8,0.9,1.2,1.4,1.6,1.7,1.6,1.4,1.2,0.9,0.7,0.6,0.7,0.8,1.0,1.4,1.6,1.7,1.7,1.6,1.4,1.0,0.4,0.6,0.6,0.7,0.8,1.2,1.4,0.8,0.9,1.1,1.2,1.5,1.6,1.6,1.5,1.4,1.1,0.8,0.7,0.7,0.8,1.0,1.3,1.4,1.5,1.6,1.5,1.4,1.3,0.9,0.8,0.7,0.7,0.8,1.0,0.8,0.7,0.6,0.7,0.8,1.2,1.5,1.7,1.8,1.7,1.5,1.3,0.9,0.7,0.6,0.6,0.7,0.9,1.4,1.6,1.8,1.8,1.6,1.4,1.1,0.7,0.5,0.5,1.2,0.5,1.9,1.4,0.7,0.8,2.0,0.5,1.9,0.4,1.5,2.1,1.1,0.2,2.1,1.7,2.2,0.7,0.8,2.3,1.7,0.2,1.7,2.1,2.1,1.0,0.5,2.1,1.8,0.2,1.5,2.1,2.1,1.4,0.4,2.1,2.0,0.7,0.9,2.2,1.6,1.7,0.5,1.3,1.8,1.4,0.6,1.6,1.2,1.7,0.7,0.9,1.6,1.6,0.6,1.4,0.9,1.5,1.0,0.7,1.3,1.6,0.7,1.0,0.7,1.2,1.4,0.6,0.9,1.5,0.9,0.6,0.6,0.8,1.8,0.7,0.6,1.3,1.5,0.5,2.0,0.0,1.8,1.5,0.8,-0.1,2.5,1.8,2.2,0.3,1.2,2.6,1.5,-0.2,2.2,2.2,1.5,1.9,0.4,0.9,1.8,1.6,0.4,1.5,1.0,1.7,0.7,0.7,1.5,1.7,0.6,1.2,0.8,1.5,1.2,0.7,1.1,1.6,0.9,0.8,0.7,0.8,1.8,0.8,0.6,1.1,1.6,0.6,1.4,0.3,2.0,1.8,0.7,0.4,2.2,1.0,2.0,0.5,1.2,2.3,1.4,0.1,2.0,2.0,2.1,0.9,0.9,2.2,1.7,0.2,1.6,2.0,1.8,1.6,0.3,1.7,1.9,0.8,0.7,2.0,1.6,1.8,0.4,1.4,1.8,1.2,0.5,1.9,0.9,1.7,0.8,0.6,1.3,1.7,0.6,1.0,0.6,0.1,2.3,1.5,0.1,0.5,2.3,0.5,1.1,0.0,2.2,2.0,0.2,0.2,2.5,0.9,1.7,-0.1,2.0,2.4,0.5,-0.1,2.5,1.5,2.2,0.5,0.9,2.5,1.6,-0.1,2.0,2.3],\"y\":[22.5,23.0,23.5,24.0,24.0,24.0,23.5,23.0,22.0,21.0,20.0,19.0,19.0,19.0,23.0,23.5,24.0,24.0,23.5,23.0,23.0,21.0,20.0,20.0,19.0,19.0,20.0,22.0,20.0,20.0,19.0,18.0,18.0,18.0,18.5,19.0,18.5,18.0,17.0,16.0,18.0,20.0,19.5,18.5,18.0,18.0,18.25,18.75,18.75,18.25,17.5,16.5,17.0,19.0,20.25,20.75,13.0,12.0,12.0,12.0,13.0,14.0,16.5,19.0,18.5,18.0,19.5,21.0,22.5,24.0,12.5,12.0,12.0,13.5,15.25,17.75,18.75,18.25,18.75,20.25,21.75,23.25,24.25,24.75,12.5,11.0,9.0,7.0,5.5,4.0,3.5,3.0,8.0,13.0,16.0,19.0,20.5,22.0,11.75,10.0,6.25,4.75,3.75,3.25,5.5,10.5,14.5,17.5,19.75,21.25,22.25,22.75,23.0,22.0,16.0,24.0,22.75,21.25,17.75,27.0,25.0,27.0,27.5,28.75,26.25,25.5,29.0,28.0,35.5,34.0,32.5,31.25,34.75,33.25,31.75,32.0,26.0,23.0,28.0,29.25,24.5,23.25,29.0,30.0,30.0,30.0,28.0,27.0,30.0,30.25,27.0,28.0,23.0,21.0,19.5,16.75,22.5,20.75,16.75,17.0,16.5,13.0,20.0,19.25,14.5,13.25,20.5,20.0,15.5,14.0,17.5,19.75,14.75,14.0,19.0,22.0,19.0,16.0,17.0,14.5,17.5,15.75,15.5,16.0,16.5,15.0,11.0,19.25,15.75,14.75,12.75,23.0,21.0,18.0,17.5,18.75,19.5,16.5,18.0,21.0,13.0,13.0,11.0,17.5,13.0,13.0,13.25,19.0,16.5,12.0,2.5,16.25,14.25,9.0,4.25,23.0,18.5,18.0,20.5,19.25,18.0,18.0,20.5,20.0,14.5,13.0,17.0,19.75,13.75,12.25,19.0,22.0,13.5,9.0,13.0,17.0,12.0,8.25,15.5,17.0,16.0,12.0,13.0,17.0,14.25,10.5,13.75,20.0,20.0,20.0,20.0,20.75,20.0,20.0,19.25,23.0,24.5,23.0,21.5,22.75,23.75,22.25,21.25,25.0,29.0,31.0,33.0,35.5,30.25,31.0,34.25,37.0,31.0,27.0,22.5,18.0,29.25,25.5,20.25,18.0,30.5,28.0,21.0,16.25,29.5,25.0,19.0,17.0,16.5,15.0,15.0,12.5,15.75,15.75,13.5,14.0,28.5,28.0,26.0,26.25,28.0,28.0,26.0,27.0,26.0,25.0,22.0,21.0,25.75,24.25,21.0,21.0,12.5,9.0,8.0,18.5,10.5,7.5,14.0,23.0],\"z\":[0.33,0.33,0.33,0.33,0.33,0.33,0.33,0.33,0.33,0.33,0.33,0.33,0.33,0.33,0.33,0.33,0.33,0.33,0.33,0.33,0.33,0.33,0.33,0.33,0.33,0.33,0.33,0.33,0.33,0.33,0.33,0.33,0.33,0.33,0.33,0.33,0.33,0.33,0.33,0.33,0.33,0.33,0.33,0.33,0.33,0.33,0.33,0.33,0.33,0.33,0.33,0.33,0.33,0.33,0.33,0.42,0.0,0.0,0.0,0.0,0.0,0.42,0.42,0.42,0.42,0.42,0.42,0.42,0.42,0.42,0.0,0.0,0.0,0.0,0.42,0.42,0.42,0.42,0.42,0.42,0.42,0.42,0.42,0.42,2.5,2.5,2.5,2.5,2.5,2.5,2.5,2.5,2.5,2.5,2.5,2.5,2.5,2.5,2.5,2.5,2.5,2.5,2.5,2.5,2.5,2.5,2.5,2.5,2.5,2.5,2.5,2.5,0.63,0.63,0.63,0.63,0.63,0.63,0.63,0.63,1.67,1.67,1.67,1.67,1.67,1.67,1.67,1.67,0.63,0.63,0.63,0.63,0.63,0.63,0.63,0.63,1.88,1.88,1.88,1.88,1.88,1.88,1.88,1.88,0.63,0.63,0.63,0.63,0.63,0.63,0.63,0.63,0.42,0.42,0.42,0.42,0.42,0.42,0.42,0.42,0.42,0.42,0.42,0.42,0.42,0.42,0.42,0.42,0.44,0.44,0.44,0.0,0.44,0.44,0.44,0.0,0.0,0.0,0.0,0.0,0.0,0.0,0.0,0.0,0.0,0.0,0.0,0.0,0.0,0.0,0.0,0.0,0.42,0.42,0.0,0.0,0.42,0.0,0.0,0.0,0.0,0.0,0.0,0.0,0.0,0.0,0.0,0.0,2.92,2.92,2.92,2.92,2.92,2.92,2.92,2.92,0.83,0.83,0.83,0.0,0.83,0.83,0.83,0.0,0.21,0.21,0.21,0.21,0.21,0.21,0.21,0.21,0.39,0.39,0.39,0.0,0.39,0.39,0.39,0.0,1.88,1.88,1.88,1.88,1.88,1.88,1.88,1.88,5.83,5.83,5.83,5.83,5.83,5.83,5.83,5.83,2.5,2.5,2.5,2.5,2.5,2.5,2.5,2.5,3.33,3.33,3.33,3.33,3.33,3.33,3.33,3.33,1.04,1.04,1.04,1.04,1.04,1.04,1.04,1.04,0.0,0.0,0.83,0.83,0.0,0.0,0.83,0.83,0.63,0.63,0.63,0.63,0.63,0.63,0.63,0.63,0.42,0.42,0.42,0.42,0.42,0.42,0.42,0.42,0.25,0.25,0.25,0.25,0.25,0.25,0.25,0.25,0.83,0.83,0.83,0.83,0.83,0.83,0.83,0.83],\"type\":\"scatter3d\"}],                        {\"template\":{\"data\":{\"bar\":[{\"error_x\":{\"color\":\"#2a3f5f\"},\"error_y\":{\"color\":\"#2a3f5f\"},\"marker\":{\"line\":{\"color\":\"#E5ECF6\",\"width\":0.5},\"pattern\":{\"fillmode\":\"overlay\",\"size\":10,\"solidity\":0.2}},\"type\":\"bar\"}],\"barpolar\":[{\"marker\":{\"line\":{\"color\":\"#E5ECF6\",\"width\":0.5},\"pattern\":{\"fillmode\":\"overlay\",\"size\":10,\"solidity\":0.2}},\"type\":\"barpolar\"}],\"carpet\":[{\"aaxis\":{\"endlinecolor\":\"#2a3f5f\",\"gridcolor\":\"white\",\"linecolor\":\"white\",\"minorgridcolor\":\"white\",\"startlinecolor\":\"#2a3f5f\"},\"baxis\":{\"endlinecolor\":\"#2a3f5f\",\"gridcolor\":\"white\",\"linecolor\":\"white\",\"minorgridcolor\":\"white\",\"startlinecolor\":\"#2a3f5f\"},\"type\":\"carpet\"}],\"choropleth\":[{\"colorbar\":{\"outlinewidth\":0,\"ticks\":\"\"},\"type\":\"choropleth\"}],\"contour\":[{\"colorbar\":{\"outlinewidth\":0,\"ticks\":\"\"},\"colorscale\":[[0.0,\"#0d0887\"],[0.1111111111111111,\"#46039f\"],[0.2222222222222222,\"#7201a8\"],[0.3333333333333333,\"#9c179e\"],[0.4444444444444444,\"#bd3786\"],[0.5555555555555556,\"#d8576b\"],[0.6666666666666666,\"#ed7953\"],[0.7777777777777778,\"#fb9f3a\"],[0.8888888888888888,\"#fdca26\"],[1.0,\"#f0f921\"]],\"type\":\"contour\"}],\"contourcarpet\":[{\"colorbar\":{\"outlinewidth\":0,\"ticks\":\"\"},\"type\":\"contourcarpet\"}],\"heatmap\":[{\"colorbar\":{\"outlinewidth\":0,\"ticks\":\"\"},\"colorscale\":[[0.0,\"#0d0887\"],[0.1111111111111111,\"#46039f\"],[0.2222222222222222,\"#7201a8\"],[0.3333333333333333,\"#9c179e\"],[0.4444444444444444,\"#bd3786\"],[0.5555555555555556,\"#d8576b\"],[0.6666666666666666,\"#ed7953\"],[0.7777777777777778,\"#fb9f3a\"],[0.8888888888888888,\"#fdca26\"],[1.0,\"#f0f921\"]],\"type\":\"heatmap\"}],\"heatmapgl\":[{\"colorbar\":{\"outlinewidth\":0,\"ticks\":\"\"},\"colorscale\":[[0.0,\"#0d0887\"],[0.1111111111111111,\"#46039f\"],[0.2222222222222222,\"#7201a8\"],[0.3333333333333333,\"#9c179e\"],[0.4444444444444444,\"#bd3786\"],[0.5555555555555556,\"#d8576b\"],[0.6666666666666666,\"#ed7953\"],[0.7777777777777778,\"#fb9f3a\"],[0.8888888888888888,\"#fdca26\"],[1.0,\"#f0f921\"]],\"type\":\"heatmapgl\"}],\"histogram\":[{\"marker\":{\"pattern\":{\"fillmode\":\"overlay\",\"size\":10,\"solidity\":0.2}},\"type\":\"histogram\"}],\"histogram2d\":[{\"colorbar\":{\"outlinewidth\":0,\"ticks\":\"\"},\"colorscale\":[[0.0,\"#0d0887\"],[0.1111111111111111,\"#46039f\"],[0.2222222222222222,\"#7201a8\"],[0.3333333333333333,\"#9c179e\"],[0.4444444444444444,\"#bd3786\"],[0.5555555555555556,\"#d8576b\"],[0.6666666666666666,\"#ed7953\"],[0.7777777777777778,\"#fb9f3a\"],[0.8888888888888888,\"#fdca26\"],[1.0,\"#f0f921\"]],\"type\":\"histogram2d\"}],\"histogram2dcontour\":[{\"colorbar\":{\"outlinewidth\":0,\"ticks\":\"\"},\"colorscale\":[[0.0,\"#0d0887\"],[0.1111111111111111,\"#46039f\"],[0.2222222222222222,\"#7201a8\"],[0.3333333333333333,\"#9c179e\"],[0.4444444444444444,\"#bd3786\"],[0.5555555555555556,\"#d8576b\"],[0.6666666666666666,\"#ed7953\"],[0.7777777777777778,\"#fb9f3a\"],[0.8888888888888888,\"#fdca26\"],[1.0,\"#f0f921\"]],\"type\":\"histogram2dcontour\"}],\"mesh3d\":[{\"colorbar\":{\"outlinewidth\":0,\"ticks\":\"\"},\"type\":\"mesh3d\"}],\"parcoords\":[{\"line\":{\"colorbar\":{\"outlinewidth\":0,\"ticks\":\"\"}},\"type\":\"parcoords\"}],\"pie\":[{\"automargin\":true,\"type\":\"pie\"}],\"scatter\":[{\"marker\":{\"colorbar\":{\"outlinewidth\":0,\"ticks\":\"\"}},\"type\":\"scatter\"}],\"scatter3d\":[{\"line\":{\"colorbar\":{\"outlinewidth\":0,\"ticks\":\"\"}},\"marker\":{\"colorbar\":{\"outlinewidth\":0,\"ticks\":\"\"}},\"type\":\"scatter3d\"}],\"scattercarpet\":[{\"marker\":{\"colorbar\":{\"outlinewidth\":0,\"ticks\":\"\"}},\"type\":\"scattercarpet\"}],\"scattergeo\":[{\"marker\":{\"colorbar\":{\"outlinewidth\":0,\"ticks\":\"\"}},\"type\":\"scattergeo\"}],\"scattergl\":[{\"marker\":{\"colorbar\":{\"outlinewidth\":0,\"ticks\":\"\"}},\"type\":\"scattergl\"}],\"scattermapbox\":[{\"marker\":{\"colorbar\":{\"outlinewidth\":0,\"ticks\":\"\"}},\"type\":\"scattermapbox\"}],\"scatterpolar\":[{\"marker\":{\"colorbar\":{\"outlinewidth\":0,\"ticks\":\"\"}},\"type\":\"scatterpolar\"}],\"scatterpolargl\":[{\"marker\":{\"colorbar\":{\"outlinewidth\":0,\"ticks\":\"\"}},\"type\":\"scatterpolargl\"}],\"scatterternary\":[{\"marker\":{\"colorbar\":{\"outlinewidth\":0,\"ticks\":\"\"}},\"type\":\"scatterternary\"}],\"surface\":[{\"colorbar\":{\"outlinewidth\":0,\"ticks\":\"\"},\"colorscale\":[[0.0,\"#0d0887\"],[0.1111111111111111,\"#46039f\"],[0.2222222222222222,\"#7201a8\"],[0.3333333333333333,\"#9c179e\"],[0.4444444444444444,\"#bd3786\"],[0.5555555555555556,\"#d8576b\"],[0.6666666666666666,\"#ed7953\"],[0.7777777777777778,\"#fb9f3a\"],[0.8888888888888888,\"#fdca26\"],[1.0,\"#f0f921\"]],\"type\":\"surface\"}],\"table\":[{\"cells\":{\"fill\":{\"color\":\"#EBF0F8\"},\"line\":{\"color\":\"white\"}},\"header\":{\"fill\":{\"color\":\"#C8D4E3\"},\"line\":{\"color\":\"white\"}},\"type\":\"table\"}]},\"layout\":{\"annotationdefaults\":{\"arrowcolor\":\"#2a3f5f\",\"arrowhead\":0,\"arrowwidth\":1},\"autotypenumbers\":\"strict\",\"coloraxis\":{\"colorbar\":{\"outlinewidth\":0,\"ticks\":\"\"}},\"colorscale\":{\"diverging\":[[0,\"#8e0152\"],[0.1,\"#c51b7d\"],[0.2,\"#de77ae\"],[0.3,\"#f1b6da\"],[0.4,\"#fde0ef\"],[0.5,\"#f7f7f7\"],[0.6,\"#e6f5d0\"],[0.7,\"#b8e186\"],[0.8,\"#7fbc41\"],[0.9,\"#4d9221\"],[1,\"#276419\"]],\"sequential\":[[0.0,\"#0d0887\"],[0.1111111111111111,\"#46039f\"],[0.2222222222222222,\"#7201a8\"],[0.3333333333333333,\"#9c179e\"],[0.4444444444444444,\"#bd3786\"],[0.5555555555555556,\"#d8576b\"],[0.6666666666666666,\"#ed7953\"],[0.7777777777777778,\"#fb9f3a\"],[0.8888888888888888,\"#fdca26\"],[1.0,\"#f0f921\"]],\"sequentialminus\":[[0.0,\"#0d0887\"],[0.1111111111111111,\"#46039f\"],[0.2222222222222222,\"#7201a8\"],[0.3333333333333333,\"#9c179e\"],[0.4444444444444444,\"#bd3786\"],[0.5555555555555556,\"#d8576b\"],[0.6666666666666666,\"#ed7953\"],[0.7777777777777778,\"#fb9f3a\"],[0.8888888888888888,\"#fdca26\"],[1.0,\"#f0f921\"]]},\"colorway\":[\"#636efa\",\"#EF553B\",\"#00cc96\",\"#ab63fa\",\"#FFA15A\",\"#19d3f3\",\"#FF6692\",\"#B6E880\",\"#FF97FF\",\"#FECB52\"],\"font\":{\"color\":\"#2a3f5f\"},\"geo\":{\"bgcolor\":\"white\",\"lakecolor\":\"white\",\"landcolor\":\"#E5ECF6\",\"showlakes\":true,\"showland\":true,\"subunitcolor\":\"white\"},\"hoverlabel\":{\"align\":\"left\"},\"hovermode\":\"closest\",\"mapbox\":{\"style\":\"light\"},\"paper_bgcolor\":\"white\",\"plot_bgcolor\":\"#E5ECF6\",\"polar\":{\"angularaxis\":{\"gridcolor\":\"white\",\"linecolor\":\"white\",\"ticks\":\"\"},\"bgcolor\":\"#E5ECF6\",\"radialaxis\":{\"gridcolor\":\"white\",\"linecolor\":\"white\",\"ticks\":\"\"}},\"scene\":{\"xaxis\":{\"backgroundcolor\":\"#E5ECF6\",\"gridcolor\":\"white\",\"gridwidth\":2,\"linecolor\":\"white\",\"showbackground\":true,\"ticks\":\"\",\"zerolinecolor\":\"white\"},\"yaxis\":{\"backgroundcolor\":\"#E5ECF6\",\"gridcolor\":\"white\",\"gridwidth\":2,\"linecolor\":\"white\",\"showbackground\":true,\"ticks\":\"\",\"zerolinecolor\":\"white\"},\"zaxis\":{\"backgroundcolor\":\"#E5ECF6\",\"gridcolor\":\"white\",\"gridwidth\":2,\"linecolor\":\"white\",\"showbackground\":true,\"ticks\":\"\",\"zerolinecolor\":\"white\"}},\"shapedefaults\":{\"line\":{\"color\":\"#2a3f5f\"}},\"ternary\":{\"aaxis\":{\"gridcolor\":\"white\",\"linecolor\":\"white\",\"ticks\":\"\"},\"baxis\":{\"gridcolor\":\"white\",\"linecolor\":\"white\",\"ticks\":\"\"},\"bgcolor\":\"#E5ECF6\",\"caxis\":{\"gridcolor\":\"white\",\"linecolor\":\"white\",\"ticks\":\"\"}},\"title\":{\"x\":0.05},\"xaxis\":{\"automargin\":true,\"gridcolor\":\"white\",\"linecolor\":\"white\",\"ticks\":\"\",\"title\":{\"standoff\":15},\"zerolinecolor\":\"white\",\"zerolinewidth\":2},\"yaxis\":{\"automargin\":true,\"gridcolor\":\"white\",\"linecolor\":\"white\",\"ticks\":\"\",\"title\":{\"standoff\":15},\"zerolinecolor\":\"white\",\"zerolinewidth\":2}}},\"scene\":{\"domain\":{\"x\":[0.0,1.0],\"y\":[0.0,1.0]},\"xaxis\":{\"title\":{\"text\":\"Altura da Mar\\u00e9 (m)\"}},\"yaxis\":{\"title\":{\"text\":\"Velocidade do Vento (Km/h)\"}},\"zaxis\":{\"title\":{\"text\":\"Chuva (mm)\"}}},\"coloraxis\":{\"colorbar\":{\"title\":{\"text\":\"Cluster\"}},\"colorscale\":[[0.0,\"#0d0887\"],[0.1111111111111111,\"#46039f\"],[0.2222222222222222,\"#7201a8\"],[0.3333333333333333,\"#9c179e\"],[0.4444444444444444,\"#bd3786\"],[0.5555555555555556,\"#d8576b\"],[0.6666666666666666,\"#ed7953\"],[0.7777777777777778,\"#fb9f3a\"],[0.8888888888888888,\"#fdca26\"],[1.0,\"#f0f921\"]]},\"legend\":{\"tracegroupgap\":0},\"title\":{\"text\":\"3d scatter clusters\"},\"height\":600,\"width\":1100},                        {\"responsive\": true}                    ).then(function(){\n",
              "                            \n",
              "var gd = document.getElementById('3ca590d6-122d-471d-90e2-b29999256e06');\n",
              "var x = new MutationObserver(function (mutations, observer) {{\n",
              "        var display = window.getComputedStyle(gd).display;\n",
              "        if (!display || display === 'none') {{\n",
              "            console.log([gd, 'removed!']);\n",
              "            Plotly.purge(gd);\n",
              "            observer.disconnect();\n",
              "        }}\n",
              "}});\n",
              "\n",
              "// Listen for the removal of the full notebook cells\n",
              "var notebookContainer = gd.closest('#notebook-container');\n",
              "if (notebookContainer) {{\n",
              "    x.observe(notebookContainer, {childList: true});\n",
              "}}\n",
              "\n",
              "// Listen for the clearing of the current output cell\n",
              "var outputEl = gd.closest('.output');\n",
              "if (outputEl) {{\n",
              "    x.observe(outputEl, {childList: true});\n",
              "}}\n",
              "\n",
              "                        })                };                            </script>        </div>\n",
              "</body>\n",
              "</html>"
            ]
          },
          "metadata": {}
        }
      ]
    }
  ]
}